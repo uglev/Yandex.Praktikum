{
 "cells": [
  {
   "cell_type": "markdown",
   "metadata": {},
   "source": [
    "<img src=https://kto-ozvuchival.ru/wp-content/uploads/2017/12/kto-ozvuchivaet-toni-starka-na-russkom-800x500.jpg><br>\n",
    "<hr style=\"border: 10px solid green;\" />\n",
    "\n",
    "## <span style=\"color:green\">Финальный комментарий<span>\n",
    "Спасибо за проделанную работу🤝\n",
    "\n",
    "Спасибо за доработки🖐\n",
    "    \n",
    "ps: Про ресерч: предположение верное, но под самим ресерчем полразумевал немного иное - поискать на просторах интернета технические характеристики по пассажировместимости моделей.\n",
    "\n",
    "Поздравляю, проект принят👍"
   ]
  },
  {
   "cell_type": "markdown",
   "metadata": {},
   "source": [
    "<hr style=\"border: 2px solid green;\" />\n",
    "\n",
    "## Комментарий ревьювера\n",
    "\n",
    "Привет! \n",
    "\n",
    "🤚Меня зовут, Олег Юрьев, я буду проверять твой проект. Если не против, я буду обращаться к тебе на _ТЫ_ . Если это неприемлемо, обязательно напиши мне в комментариях - мы перейдем на _ВЫ_ .\n",
    "\n",
    "🤝Спасибо, что сдал проект вовремя. Тобой проделана большая работа, молодец! \n",
    "\n",
    "✏️В этой тетрадке ты найдешь мои комментарии.\n",
    "\n",
    "Комментарии будут выделены:\n",
    "\n",
    "<div style=\"border-radius: 15px; box-shadow: 4px 4px 4px; border: solid green 2px; padding: 20px\"> <b>Отличная работа</b><br>\n",
    "    Безупречная работа</div>       \n",
    "<br>\n",
    "<div style=\"border-radius: 15px; box-shadow: 4px 4px 4px; border: solid orange 2px; padding: 20px\"> <b>Что можно улучшить</b><br>\n",
    "    Ничего дорабатывать не надо, данные пункты работают нормально, но есть способы улучшить. Несколько таких комментариев допустимы, но более - придется некоторые доработать. Большое кол-во мелких замечаний и помарок сказываются на общем впечатлении от работы.</div>   \n",
    "<br>\n",
    "<div style=\"border-radius: 15px; box-shadow: 4px 4px 4px; border: solid red 2px; padding: 20px\"> <b>Что необходимо доработать</b><br>\n",
    "    Такие пункты необходимо исправить в первую очередь, чтобы я смог принять проект.</div>\n",
    " \n",
    "Не удаляй комментарии, так будем следить за динамикой 📈\n",
    "   \n",
    "Давай будем в диалоге - основные цели в диалоге:\n",
    "- обмен опытом (да я тоже учусь у студентов👨‍🎓)\n",
    "- выполнить проект еще лучше\n",
    "- помочь тебе стать аналитиком\n",
    "\n",
    "Поэтому чтобы мне проще было проверять повторно, а тебе контролировать процесс ревью, оставляй свои комментарии и выделяй их. \n",
    "    \n",
    "<div class=\"alert alert-info\" style=\"border:solid blue 2px; padding: 20px\"> <b>Комментарий студента:</b> Например, вот так.</div>\n",
    "   \n",
    "Поехали! :)\n",
    "\n",
    "<hr style=\"border: 2px solid green;\" />"
   ]
  },
  {
   "cell_type": "markdown",
   "metadata": {
    "toc": true
   },
   "source": [
    "<h1>Содержание<span class=\"tocSkip\"></span></h1>\n",
    "<div class=\"toc\"><ul class=\"toc-item\"><li><span><a href=\"#Финальный-комментарий\" data-toc-modified-id=\"Финальный-комментарий-1\"><span class=\"toc-item-num\">1&nbsp;&nbsp;</span><span style=\"color: green\">Финальный комментарий<span></span></span></a></span></li><li><span><a href=\"#Комментарий-ревьювера\" data-toc-modified-id=\"Комментарий-ревьювера-2\"><span class=\"toc-item-num\">2&nbsp;&nbsp;</span>Комментарий ревьювера</a></span></li><li><span><a href=\"#Аналитика\" data-toc-modified-id=\"Аналитика-3\"><span class=\"toc-item-num\">3&nbsp;&nbsp;</span>Аналитика</a></span></li><li><span><a href=\"#Общий-комментарий\" data-toc-modified-id=\"Общий-комментарий-4\"><span class=\"toc-item-num\">4&nbsp;&nbsp;</span>Общий комментарий</a></span></li><li><span><a href=\"#Чек-лист-проверки\" data-toc-modified-id=\"Чек-лист-проверки-5\"><span class=\"toc-item-num\">5&nbsp;&nbsp;</span>Чек-лист проверки</a></span></li></ul></div>"
   ]
  },
  {
   "cell_type": "markdown",
   "metadata": {},
   "source": [
    "# Спрос на рейсы авиакомпании"
   ]
  },
  {
   "cell_type": "markdown",
   "metadata": {},
   "source": [
    "Вы аналитик российской авиакомпании F9, выполняющей внутренние пассажирские перевозки. Важно понять предпочтения пользователей, покупающих билеты на разные направления.\n",
    "\n",
    "Вам предстоит изучить базу данных и проанализировать спрос пассажиров на рейсы в города, где проходят крупнейшие культурные фестивали."
   ]
  },
  {
   "cell_type": "markdown",
   "metadata": {},
   "source": [
    "У вас есть файлы с результатами запросов из предыдущих заданий.\n",
    "\n",
    "**query_1.csv** — результат первого запроса. В нём содержится такая информация:\n",
    "\n",
    "- *model* — **модель самолета;\n",
    "- *flights_amount* — количество рейсов для каждой модели самолетов *model* в сентябре 2018 года.\n",
    "\n",
    "**query_3.csv** — результат третьего запроса. В нём содержится такая информация:\n",
    "\n",
    "- *city* — город;\n",
    "- *average_flights* — среднее количество рейсов, прибывающих в город (*city*) за день в сентябре 2018 года.\n",
    "\n",
    " Для этих двух наборов данных нужно:\n",
    "\n",
    "- импортировать файлы;\n",
    "- изучить данные в них;\n",
    "- проверить типы данных на корректность;\n",
    "- выбрать топ-10 городов по количеству рейсов;\n",
    "- построить графики: модели самолётов и количество рейсов, города и количество рейсов, топ-10 городов и количество рейсов;\n",
    "- сделать выводы по каждому из графиков, пояснить результат.\n"
   ]
  },
  {
   "cell_type": "markdown",
   "metadata": {},
   "source": [
    "## Аналитика"
   ]
  },
  {
   "cell_type": "code",
   "execution_count": 1,
   "metadata": {},
   "outputs": [],
   "source": [
    "import pandas as pd\n",
    "import matplotlib\n",
    "import matplotlib.pyplot as plt \n",
    "import seaborn as sns"
   ]
  },
  {
   "cell_type": "code",
   "execution_count": 2,
   "metadata": {},
   "outputs": [
    {
     "name": "stdout",
     "output_type": "stream",
     "text": [
      "<class 'pandas.core.frame.DataFrame'>\n",
      "RangeIndex: 8 entries, 0 to 7\n",
      "Data columns (total 2 columns):\n",
      "model             8 non-null object\n",
      "flights_amount    8 non-null int64\n",
      "dtypes: int64(1), object(1)\n",
      "memory usage: 256.0+ bytes\n"
     ]
    }
   ],
   "source": [
    "query_1 = pd.read_csv('https://code.s3.yandex.net/datasets/query_1.csv')\n",
    "query_1.info()"
   ]
  },
  {
   "cell_type": "code",
   "execution_count": 3,
   "metadata": {},
   "outputs": [
    {
     "data": {
      "text/html": [
       "<div>\n",
       "<style scoped>\n",
       "    .dataframe tbody tr th:only-of-type {\n",
       "        vertical-align: middle;\n",
       "    }\n",
       "\n",
       "    .dataframe tbody tr th {\n",
       "        vertical-align: top;\n",
       "    }\n",
       "\n",
       "    .dataframe thead th {\n",
       "        text-align: right;\n",
       "    }\n",
       "</style>\n",
       "<table border=\"1\" class=\"dataframe\">\n",
       "  <thead>\n",
       "    <tr style=\"text-align: right;\">\n",
       "      <th></th>\n",
       "      <th>model</th>\n",
       "      <th>flights_amount</th>\n",
       "    </tr>\n",
       "  </thead>\n",
       "  <tbody>\n",
       "    <tr>\n",
       "      <td>0</td>\n",
       "      <td>Airbus A319-100</td>\n",
       "      <td>607</td>\n",
       "    </tr>\n",
       "    <tr>\n",
       "      <td>1</td>\n",
       "      <td>Airbus A321-200</td>\n",
       "      <td>960</td>\n",
       "    </tr>\n",
       "    <tr>\n",
       "      <td>2</td>\n",
       "      <td>Boeing 737-300</td>\n",
       "      <td>630</td>\n",
       "    </tr>\n",
       "    <tr>\n",
       "      <td>3</td>\n",
       "      <td>Boeing 767-300</td>\n",
       "      <td>600</td>\n",
       "    </tr>\n",
       "    <tr>\n",
       "      <td>4</td>\n",
       "      <td>Boeing 777-300</td>\n",
       "      <td>300</td>\n",
       "    </tr>\n",
       "  </tbody>\n",
       "</table>\n",
       "</div>"
      ],
      "text/plain": [
       "             model  flights_amount\n",
       "0  Airbus A319-100             607\n",
       "1  Airbus A321-200             960\n",
       "2   Boeing 737-300             630\n",
       "3   Boeing 767-300             600\n",
       "4   Boeing 777-300             300"
      ]
     },
     "execution_count": 3,
     "metadata": {},
     "output_type": "execute_result"
    }
   ],
   "source": [
    "query_1.head()"
   ]
  },
  {
   "cell_type": "code",
   "execution_count": 4,
   "metadata": {},
   "outputs": [
    {
     "name": "stdout",
     "output_type": "stream",
     "text": [
      "<class 'pandas.core.frame.DataFrame'>\n",
      "RangeIndex: 101 entries, 0 to 100\n",
      "Data columns (total 2 columns):\n",
      "city               101 non-null object\n",
      "average_flights    101 non-null float64\n",
      "dtypes: float64(1), object(1)\n",
      "memory usage: 1.7+ KB\n"
     ]
    }
   ],
   "source": [
    "query_3 = pd.read_csv('https://code.s3.yandex.net/datasets/query_3.csv')\n",
    "query_3.info()"
   ]
  },
  {
   "cell_type": "code",
   "execution_count": 5,
   "metadata": {
    "scrolled": true
   },
   "outputs": [
    {
     "data": {
      "text/html": [
       "<div>\n",
       "<style scoped>\n",
       "    .dataframe tbody tr th:only-of-type {\n",
       "        vertical-align: middle;\n",
       "    }\n",
       "\n",
       "    .dataframe tbody tr th {\n",
       "        vertical-align: top;\n",
       "    }\n",
       "\n",
       "    .dataframe thead th {\n",
       "        text-align: right;\n",
       "    }\n",
       "</style>\n",
       "<table border=\"1\" class=\"dataframe\">\n",
       "  <thead>\n",
       "    <tr style=\"text-align: right;\">\n",
       "      <th></th>\n",
       "      <th>city</th>\n",
       "      <th>average_flights</th>\n",
       "    </tr>\n",
       "  </thead>\n",
       "  <tbody>\n",
       "    <tr>\n",
       "      <td>0</td>\n",
       "      <td>Абакан</td>\n",
       "      <td>3.870968</td>\n",
       "    </tr>\n",
       "    <tr>\n",
       "      <td>1</td>\n",
       "      <td>Анадырь</td>\n",
       "      <td>1.000000</td>\n",
       "    </tr>\n",
       "    <tr>\n",
       "      <td>2</td>\n",
       "      <td>Анапа</td>\n",
       "      <td>2.161290</td>\n",
       "    </tr>\n",
       "    <tr>\n",
       "      <td>3</td>\n",
       "      <td>Архангельск</td>\n",
       "      <td>5.354839</td>\n",
       "    </tr>\n",
       "    <tr>\n",
       "      <td>4</td>\n",
       "      <td>Астрахань</td>\n",
       "      <td>2.451613</td>\n",
       "    </tr>\n",
       "  </tbody>\n",
       "</table>\n",
       "</div>"
      ],
      "text/plain": [
       "          city  average_flights\n",
       "0       Абакан         3.870968\n",
       "1      Анадырь         1.000000\n",
       "2        Анапа         2.161290\n",
       "3  Архангельск         5.354839\n",
       "4    Астрахань         2.451613"
      ]
     },
     "execution_count": 5,
     "metadata": {},
     "output_type": "execute_result"
    }
   ],
   "source": [
    "query_3.head()"
   ]
  },
  {
   "cell_type": "markdown",
   "metadata": {},
   "source": [
    "Это не очень хорошо, поэтому изменим тип на int."
   ]
  },
  {
   "cell_type": "code",
   "execution_count": 6,
   "metadata": {},
   "outputs": [],
   "source": [
    "query_3['average_flights'] = query_3['average_flights'].astype('int')"
   ]
  },
  {
   "cell_type": "code",
   "execution_count": 7,
   "metadata": {
    "scrolled": true
   },
   "outputs": [
    {
     "data": {
      "text/html": [
       "<div>\n",
       "<style scoped>\n",
       "    .dataframe tbody tr th:only-of-type {\n",
       "        vertical-align: middle;\n",
       "    }\n",
       "\n",
       "    .dataframe tbody tr th {\n",
       "        vertical-align: top;\n",
       "    }\n",
       "\n",
       "    .dataframe thead th {\n",
       "        text-align: right;\n",
       "    }\n",
       "</style>\n",
       "<table border=\"1\" class=\"dataframe\">\n",
       "  <thead>\n",
       "    <tr style=\"text-align: right;\">\n",
       "      <th></th>\n",
       "      <th>average_flights</th>\n",
       "    </tr>\n",
       "  </thead>\n",
       "  <tbody>\n",
       "    <tr>\n",
       "      <td>count</td>\n",
       "      <td>101.000000</td>\n",
       "    </tr>\n",
       "    <tr>\n",
       "      <td>mean</td>\n",
       "      <td>5.217822</td>\n",
       "    </tr>\n",
       "    <tr>\n",
       "      <td>std</td>\n",
       "      <td>13.061090</td>\n",
       "    </tr>\n",
       "    <tr>\n",
       "      <td>min</td>\n",
       "      <td>1.000000</td>\n",
       "    </tr>\n",
       "    <tr>\n",
       "      <td>25%</td>\n",
       "      <td>2.000000</td>\n",
       "    </tr>\n",
       "    <tr>\n",
       "      <td>50%</td>\n",
       "      <td>3.000000</td>\n",
       "    </tr>\n",
       "    <tr>\n",
       "      <td>75%</td>\n",
       "      <td>5.000000</td>\n",
       "    </tr>\n",
       "    <tr>\n",
       "      <td>max</td>\n",
       "      <td>129.000000</td>\n",
       "    </tr>\n",
       "  </tbody>\n",
       "</table>\n",
       "</div>"
      ],
      "text/plain": [
       "       average_flights\n",
       "count       101.000000\n",
       "mean          5.217822\n",
       "std          13.061090\n",
       "min           1.000000\n",
       "25%           2.000000\n",
       "50%           3.000000\n",
       "75%           5.000000\n",
       "max         129.000000"
      ]
     },
     "execution_count": 7,
     "metadata": {},
     "output_type": "execute_result"
    }
   ],
   "source": [
    "query_3.describe()"
   ]
  },
  {
   "cell_type": "markdown",
   "metadata": {},
   "source": [
    "<div style=\"border-radius: 15px; box-shadow: 4px 4px 4px; border: solid green 2px; padding: 20px\"> <b>Отличная работа</b><br>\n",
    "Обзор и предобработка выполнены отлично!</div> <br>"
   ]
  },
  {
   "cell_type": "markdown",
   "metadata": {},
   "source": [
    "Выведем топ-10."
   ]
  },
  {
   "cell_type": "code",
   "execution_count": 8,
   "metadata": {
    "scrolled": false
   },
   "outputs": [
    {
     "data": {
      "text/html": [
       "<div>\n",
       "<style scoped>\n",
       "    .dataframe tbody tr th:only-of-type {\n",
       "        vertical-align: middle;\n",
       "    }\n",
       "\n",
       "    .dataframe tbody tr th {\n",
       "        vertical-align: top;\n",
       "    }\n",
       "\n",
       "    .dataframe thead th {\n",
       "        text-align: right;\n",
       "    }\n",
       "</style>\n",
       "<table border=\"1\" class=\"dataframe\">\n",
       "  <thead>\n",
       "    <tr style=\"text-align: right;\">\n",
       "      <th></th>\n",
       "      <th>city</th>\n",
       "      <th>average_flights</th>\n",
       "    </tr>\n",
       "  </thead>\n",
       "  <tbody>\n",
       "    <tr>\n",
       "      <td>43</td>\n",
       "      <td>Москва</td>\n",
       "      <td>129</td>\n",
       "    </tr>\n",
       "    <tr>\n",
       "      <td>70</td>\n",
       "      <td>Санкт-Петербург</td>\n",
       "      <td>31</td>\n",
       "    </tr>\n",
       "    <tr>\n",
       "      <td>54</td>\n",
       "      <td>Новосибирск</td>\n",
       "      <td>17</td>\n",
       "    </tr>\n",
       "    <tr>\n",
       "      <td>20</td>\n",
       "      <td>Екатеринбург</td>\n",
       "      <td>11</td>\n",
       "    </tr>\n",
       "    <tr>\n",
       "      <td>33</td>\n",
       "      <td>Красноярск</td>\n",
       "      <td>11</td>\n",
       "    </tr>\n",
       "    <tr>\n",
       "      <td>63</td>\n",
       "      <td>Пермь</td>\n",
       "      <td>10</td>\n",
       "    </tr>\n",
       "    <tr>\n",
       "      <td>67</td>\n",
       "      <td>Ростов-на-Дону</td>\n",
       "      <td>10</td>\n",
       "    </tr>\n",
       "    <tr>\n",
       "      <td>10</td>\n",
       "      <td>Брянск</td>\n",
       "      <td>10</td>\n",
       "    </tr>\n",
       "    <tr>\n",
       "      <td>84</td>\n",
       "      <td>Ульяновск</td>\n",
       "      <td>9</td>\n",
       "    </tr>\n",
       "    <tr>\n",
       "      <td>73</td>\n",
       "      <td>Советский</td>\n",
       "      <td>9</td>\n",
       "    </tr>\n",
       "  </tbody>\n",
       "</table>\n",
       "</div>"
      ],
      "text/plain": [
       "               city  average_flights\n",
       "43           Москва              129\n",
       "70  Санкт-Петербург               31\n",
       "54      Новосибирск               17\n",
       "20     Екатеринбург               11\n",
       "33       Красноярск               11\n",
       "63            Пермь               10\n",
       "67   Ростов-на-Дону               10\n",
       "10           Брянск               10\n",
       "84        Ульяновск                9\n",
       "73        Советский                9"
      ]
     },
     "execution_count": 8,
     "metadata": {},
     "output_type": "execute_result"
    }
   ],
   "source": [
    "top10_cities=query_3.sort_values(by='average_flights', ascending=False).head(10)\n",
    "top10_cities"
   ]
  },
  {
   "cell_type": "markdown",
   "metadata": {},
   "source": [
    "Строим графики: количество рейсов в зависимости от модели самолета."
   ]
  },
  {
   "cell_type": "code",
   "execution_count": 9,
   "metadata": {
    "scrolled": false
   },
   "outputs": [
    {
     "data": {
      "image/png": "[encoded data removed]",
      "text/plain": [
       "<Figure size 1080x504 with 1 Axes>"
      ]
     },
     "metadata": {},
     "output_type": "display_data"
    }
   ],
   "source": [
    "a = query_1.sort_values(by='flights_amount')\n",
    "\n",
    "palette = ['#2961b8ff', '#3277caff', '#3987D7', '#3b8cdcff', '#44a2eaff', '#4db8f8ff', '#3fc5f0ff', '#64d4f4ff', '#7ddbf6ff', '#96e2f8ff']\n",
    "\n",
    "sns.set_style(\"whitegrid\")\n",
    "plt.figure(figsize=(15, 7))\n",
    "plt.title('Flights By Model', fontsize=20)\n",
    "sns.barplot(x='model', y='flights_amount', data=a, label=\"line\", palette=palette)\n",
    "sns.despine(left=True)\n",
    "plt.xlabel('')\n",
    "plt.ylabel('flights amount', fontsize=14)\n",
    "plt.xticks(rotation=30)\n",
    "plt.show()"
   ]
  },
  {
   "cell_type": "markdown",
   "metadata": {},
   "source": [
    "Самолёты Cessna 208 Caravan, Bombardier CRJ-200 и Sukhoi SuperJet-100 совершают больше всех отправлений."
   ]
  },
  {
   "cell_type": "markdown",
   "metadata": {},
   "source": [
    "<div style=\"border-radius: 15px; box-shadow: 4px 4px 4px; border: solid red 2px; padding: 20px\"> <b>Что необходимо доработать</b><br>\n",
    "Маленькое дополнительное задание:\n",
    "<ul>\n",
    "    <li> Провести ресерч технических характеристик и выяснить причину большого различия в кол-ве рейсов</ul></div><br>\n",
    "<div style=\"border-radius: 15px; box-shadow: 4px 4px 4px; border: solid orange 2px; padding: 20px\"> <b>Что можно улучшить</b><br>\n",
    "Классно, что ты используешь сортировку, привычнее когда сортировка <code>как читаем</code> -  по убыанию слева направо или сверху вниз </div> <br>"
   ]
  },
  {
   "cell_type": "markdown",
   "metadata": {},
   "source": [
    "<div class=\"alert alert-info\" style=\"border:solid blue 2px; padding: 20px\"> <b>Комментарий студента:</b> Можно попробовать (см. ниже).</div>"
   ]
  },
  {
   "cell_type": "code",
   "execution_count": 10,
   "metadata": {
    "scrolled": false
   },
   "outputs": [
    {
     "data": {
      "text/html": [
       "<div>\n",
       "<style scoped>\n",
       "    .dataframe tbody tr th:only-of-type {\n",
       "        vertical-align: middle;\n",
       "    }\n",
       "\n",
       "    .dataframe tbody tr th {\n",
       "        vertical-align: top;\n",
       "    }\n",
       "\n",
       "    .dataframe thead th {\n",
       "        text-align: right;\n",
       "    }\n",
       "</style>\n",
       "<table border=\"1\" class=\"dataframe\">\n",
       "  <thead>\n",
       "    <tr style=\"text-align: right;\">\n",
       "      <th></th>\n",
       "      <th>flights_amount</th>\n",
       "    </tr>\n",
       "  </thead>\n",
       "  <tbody>\n",
       "    <tr>\n",
       "      <td>count</td>\n",
       "      <td>8.000000</td>\n",
       "    </tr>\n",
       "    <tr>\n",
       "      <td>mean</td>\n",
       "      <td>2035.625000</td>\n",
       "    </tr>\n",
       "    <tr>\n",
       "      <td>std</td>\n",
       "      <td>1965.203947</td>\n",
       "    </tr>\n",
       "    <tr>\n",
       "      <td>min</td>\n",
       "      <td>300.000000</td>\n",
       "    </tr>\n",
       "    <tr>\n",
       "      <td>25%</td>\n",
       "      <td>605.250000</td>\n",
       "    </tr>\n",
       "    <tr>\n",
       "      <td>50%</td>\n",
       "      <td>795.000000</td>\n",
       "    </tr>\n",
       "    <tr>\n",
       "      <td>75%</td>\n",
       "      <td>4250.250000</td>\n",
       "    </tr>\n",
       "    <tr>\n",
       "      <td>max</td>\n",
       "      <td>4557.000000</td>\n",
       "    </tr>\n",
       "  </tbody>\n",
       "</table>\n",
       "</div>"
      ],
      "text/plain": [
       "       flights_amount\n",
       "count        8.000000\n",
       "mean      2035.625000\n",
       "std       1965.203947\n",
       "min        300.000000\n",
       "25%        605.250000\n",
       "50%        795.000000\n",
       "75%       4250.250000\n",
       "max       4557.000000"
      ]
     },
     "execution_count": 10,
     "metadata": {},
     "output_type": "execute_result"
    }
   ],
   "source": [
    "query_1.describe()"
   ]
  },
  {
   "cell_type": "markdown",
   "metadata": {},
   "source": [
    "Самолёты Cessna 208 Caravan, Bombardier CRJ-200 и Sukhoi SuperJet-100 совершают больше всех отправлений. Остальные модели отстают - максимальное кол-во полетов - 4557, минимальное - 300. Вероятно, небольшие самолёты часто летают на небольших аэродромах и способны совершать большее количество взлётов и посадок."
   ]
  },
  {
   "cell_type": "markdown",
   "metadata": {},
   "source": [
    "Строим графики: количество рейсов в зависимости от города."
   ]
  },
  {
   "cell_type": "code",
   "execution_count": 11,
   "metadata": {
    "scrolled": false
   },
   "outputs": [
    {
     "data": {
      "image/png": "[encoded data removed]",
      "text/plain": [
       "<Figure size 1800x1080 with 1 Axes>"
      ]
     },
     "metadata": {},
     "output_type": "display_data"
    }
   ],
   "source": [
    "b = query_3.sort_values(by='average_flights', ascending=False)\n",
    "\n",
    "plt.figure(figsize=(25, 15))\n",
    "plt.title('Flights By Cities', fontsize=20)\n",
    "sns.barplot(y='average_flights', x='city', data=b, palette='cool')\n",
    "sns.despine(left=True)\n",
    "plt.ylabel('')\n",
    "plt.xlabel('flights amount', fontsize=14)\n",
    "plt.show()"
   ]
  },
  {
   "cell_type": "markdown",
   "metadata": {},
   "source": [
    "Лидирует Москва, а за ней Санкт-Петербург."
   ]
  },
  {
   "cell_type": "markdown",
   "metadata": {},
   "source": [
    "<div style=\"border-radius: 15px; box-shadow: 4px 4px 4px; border: solid red 2px; padding: 20px\"> <b>Что необходимо доработать</b><br>\n",
    "Полагаю <code>title</code> необходимо сменить 😉</div><br>"
   ]
  },
  {
   "cell_type": "markdown",
   "metadata": {},
   "source": [
    "<div class=\"alert alert-info\" style=\"border:solid blue 2px; padding: 20px\"> <b>Комментарий студента:</b> Поправил.</div>"
   ]
  },
  {
   "cell_type": "markdown",
   "metadata": {},
   "source": [
    "Строим графики: топ-10 городов по количеству рейсов."
   ]
  },
  {
   "cell_type": "code",
   "execution_count": 12,
   "metadata": {
    "scrolled": false
   },
   "outputs": [
    {
     "data": {
      "image/png": "[encoded data removed]",
      "text/plain": [
       "<Figure size 504x1080 with 1 Axes>"
      ]
     },
     "metadata": {},
     "output_type": "display_data"
    }
   ],
   "source": [
    "sns.set_style(\"whitegrid\")\n",
    "plt.figure(figsize=(7, 15))\n",
    "plt.title('Top 10 Cities', fontsize=20)\n",
    "sns.barplot(y='city', x='average_flights', data=top10_cities.sort_values(by='average_flights', ascending=True), palette=palette)\n",
    "sns.despine(left=True)\n",
    "plt.xlabel('')\n",
    "plt.ylabel('flights amount', fontsize=14)\n",
    "plt.show()"
   ]
  },
  {
   "cell_type": "markdown",
   "metadata": {},
   "source": [
    "Лидируют Москва, Санкт-Петербург, Новосибирск."
   ]
  },
  {
   "cell_type": "markdown",
   "metadata": {},
   "source": [
    "<div style=\"border-radius: 15px; box-shadow: 4px 4px 4px; border: solid orange 2px; padding: 20px\"> <b>Что можно улучшить</b><br>\n",
    "С сортировкой аналогично</div> <br>"
   ]
  },
  {
   "cell_type": "markdown",
   "metadata": {},
   "source": [
    "<hr style=\"border: 2px solid green;\" />\n",
    "\n",
    "## Общий комментарий\n",
    "Спасибо за проделанную работу🤝\n",
    "\n",
    "Есть небольшие доработки и ресерч:\n",
    "- провести ресерч (это дополнительное задание, если тебе кажется неуместным, то отправляй работу с остальными доработками, я её приму)\n",
    "- поправить сортировку и заголовки у соответствующих графиков\n",
    "\n",
    "Исправляй и отправляй на проверку🛠"
   ]
  },
  {
   "cell_type": "markdown",
   "metadata": {},
   "source": [
    "## Чек-лист проверки"
   ]
  },
  {
   "cell_type": "markdown",
   "metadata": {},
   "source": [
    "- [x]  Jupyter Notebook открыт\n",
    "- [ ]  Весь код выполняется без ошибок\n",
    "- [ ]  Ячейки с кодом расположены в порядке исполнения\n",
    "- [ ]  Файлы изучены\n",
    "- [ ]  Типы данных проверены на корректность\n",
    "- [ ]  Выбран топ-10 городов по количеству рейсов\n",
    "- [ ]  Построен график «Модели самолётов и количество рейсов»\n",
    "- [ ]  Построен график «Города и количество рейсов»\n",
    "- [ ]  Построен график «Топ-10 городов и количество рейсов»\n",
    "- [ ]  На каждом этапе написаны выводы\n",
    "- [ ]  Написан общий вывод"
   ]
  },
  {
   "cell_type": "markdown",
   "metadata": {},
   "source": []
  }
 ],
 "metadata": {
  "ExecuteTimeLog": [
   {
    "duration": 1151,
    "start_time": "2021-11-03T17:57:44.771Z"
   },
   {
    "duration": 21,
    "start_time": "2021-11-03T17:57:45.925Z"
   },
   {
    "duration": 15,
    "start_time": "2021-11-03T17:57:45.949Z"
   },
   {
    "duration": 21,
    "start_time": "2021-11-03T17:57:45.967Z"
   },
   {
    "duration": 24,
    "start_time": "2021-11-03T17:57:45.990Z"
   },
   {
    "duration": 9,
    "start_time": "2021-11-03T17:57:46.017Z"
   },
   {
    "duration": 18,
    "start_time": "2021-11-03T17:57:46.028Z"
   },
   {
    "duration": 10,
    "start_time": "2021-11-03T17:57:46.049Z"
   },
   {
    "duration": 317,
    "start_time": "2021-11-03T17:57:46.062Z"
   },
   {
    "duration": 1885,
    "start_time": "2021-11-03T17:57:46.381Z"
   },
   {
    "duration": 318,
    "start_time": "2021-11-03T17:57:48.268Z"
   },
   {
    "duration": 1095,
    "start_time": "2021-11-03T18:04:42.407Z"
   },
   {
    "duration": 102,
    "start_time": "2021-11-03T18:04:43.504Z"
   },
   {
    "duration": 10,
    "start_time": "2021-11-03T18:04:43.608Z"
   },
   {
    "duration": 34,
    "start_time": "2021-11-03T18:04:43.620Z"
   },
   {
    "duration": 23,
    "start_time": "2021-11-03T18:04:43.655Z"
   },
   {
    "duration": 24,
    "start_time": "2021-11-03T18:04:43.679Z"
   },
   {
    "duration": 21,
    "start_time": "2021-11-03T18:04:43.705Z"
   },
   {
    "duration": 15,
    "start_time": "2021-11-03T18:04:43.729Z"
   },
   {
    "duration": 383,
    "start_time": "2021-11-03T18:04:43.746Z"
   },
   {
    "duration": 1551,
    "start_time": "2021-11-03T18:04:42.581Z"
   },
   {
    "duration": 1546,
    "start_time": "2021-11-03T18:04:42.587Z"
   },
   {
    "duration": 286,
    "start_time": "2021-11-03T18:05:49.412Z"
   },
   {
    "duration": 1172,
    "start_time": "2021-11-03T18:05:56.235Z"
   },
   {
    "duration": 48,
    "start_time": "2021-11-03T18:05:57.409Z"
   },
   {
    "duration": 11,
    "start_time": "2021-11-03T18:05:57.459Z"
   },
   {
    "duration": 19,
    "start_time": "2021-11-03T18:05:57.472Z"
   },
   {
    "duration": 8,
    "start_time": "2021-11-03T18:05:57.493Z"
   },
   {
    "duration": 5,
    "start_time": "2021-11-03T18:05:57.502Z"
   },
   {
    "duration": 15,
    "start_time": "2021-11-03T18:05:57.508Z"
   },
   {
    "duration": 20,
    "start_time": "2021-11-03T18:05:57.525Z"
   },
   {
    "duration": 354,
    "start_time": "2021-11-03T18:05:57.547Z"
   },
   {
    "duration": 1590,
    "start_time": "2021-11-03T18:05:56.313Z"
   },
   {
    "duration": 1588,
    "start_time": "2021-11-03T18:05:56.316Z"
   },
   {
    "duration": 1196,
    "start_time": "2021-11-03T18:06:52.009Z"
   },
   {
    "duration": 52,
    "start_time": "2021-11-03T18:06:53.207Z"
   },
   {
    "duration": 10,
    "start_time": "2021-11-03T18:06:53.261Z"
   },
   {
    "duration": 19,
    "start_time": "2021-11-03T18:06:53.273Z"
   },
   {
    "duration": 15,
    "start_time": "2021-11-03T18:06:53.294Z"
   },
   {
    "duration": 13,
    "start_time": "2021-11-03T18:06:53.311Z"
   },
   {
    "duration": 16,
    "start_time": "2021-11-03T18:06:53.325Z"
   },
   {
    "duration": 10,
    "start_time": "2021-11-03T18:06:53.343Z"
   },
   {
    "duration": 349,
    "start_time": "2021-11-03T18:06:53.355Z"
   },
   {
    "duration": 1584,
    "start_time": "2021-11-03T18:06:52.122Z"
   },
   {
    "duration": 1581,
    "start_time": "2021-11-03T18:06:52.126Z"
   },
   {
    "duration": 261,
    "start_time": "2021-11-03T18:07:23.114Z"
   },
   {
    "duration": 272,
    "start_time": "2021-11-03T18:07:45.637Z"
   },
   {
    "duration": 1781,
    "start_time": "2021-11-03T18:07:48.289Z"
   },
   {
    "duration": 576,
    "start_time": "2021-11-03T18:07:51.983Z"
   },
   {
    "duration": 270,
    "start_time": "2021-11-03T18:10:52.005Z"
   },
   {
    "duration": 1113,
    "start_time": "2021-11-03T18:11:37.680Z"
   },
   {
    "duration": 101,
    "start_time": "2021-11-03T18:11:38.795Z"
   },
   {
    "duration": 8,
    "start_time": "2021-11-03T18:11:38.899Z"
   },
   {
    "duration": 47,
    "start_time": "2021-11-03T18:11:38.909Z"
   },
   {
    "duration": 7,
    "start_time": "2021-11-03T18:11:38.958Z"
   },
   {
    "duration": 9,
    "start_time": "2021-11-03T18:11:38.967Z"
   },
   {
    "duration": 22,
    "start_time": "2021-11-03T18:11:38.978Z"
   },
   {
    "duration": 10,
    "start_time": "2021-11-03T18:11:39.002Z"
   },
   {
    "duration": 302,
    "start_time": "2021-11-03T18:11:39.014Z"
   },
   {
    "duration": 1915,
    "start_time": "2021-11-03T18:11:39.318Z"
   },
   {
    "duration": 309,
    "start_time": "2021-11-03T18:11:41.235Z"
   },
   {
    "duration": 1512,
    "start_time": "2021-11-04T04:43:03.241Z"
   },
   {
    "duration": 108,
    "start_time": "2021-11-04T04:43:04.756Z"
   },
   {
    "duration": 13,
    "start_time": "2021-11-04T04:43:04.868Z"
   },
   {
    "duration": 91,
    "start_time": "2021-11-04T04:43:04.884Z"
   },
   {
    "duration": 10,
    "start_time": "2021-11-04T04:43:04.978Z"
   },
   {
    "duration": 7,
    "start_time": "2021-11-04T04:43:04.990Z"
   },
   {
    "duration": 19,
    "start_time": "2021-11-04T04:43:04.999Z"
   },
   {
    "duration": 47,
    "start_time": "2021-11-04T04:43:05.021Z"
   },
   {
    "duration": 513,
    "start_time": "2021-11-04T04:43:05.072Z"
   },
   {
    "duration": 3132,
    "start_time": "2021-11-04T04:43:05.587Z"
   },
   {
    "duration": 530,
    "start_time": "2021-11-04T04:43:08.721Z"
   },
   {
    "duration": 1449,
    "start_time": "2021-11-04T05:05:39.845Z"
   },
   {
    "duration": 62,
    "start_time": "2021-11-04T05:05:41.297Z"
   },
   {
    "duration": 13,
    "start_time": "2021-11-04T05:05:41.362Z"
   },
   {
    "duration": 60,
    "start_time": "2021-11-04T05:05:41.378Z"
   },
   {
    "duration": 10,
    "start_time": "2021-11-04T05:05:41.440Z"
   },
   {
    "duration": 10,
    "start_time": "2021-11-04T05:05:41.452Z"
   },
   {
    "duration": 27,
    "start_time": "2021-11-04T05:05:41.464Z"
   },
   {
    "duration": 13,
    "start_time": "2021-11-04T05:05:41.493Z"
   },
   {
    "duration": 500,
    "start_time": "2021-11-04T05:05:41.509Z"
   },
   {
    "duration": 3020,
    "start_time": "2021-11-04T05:05:42.012Z"
   },
   {
    "duration": 514,
    "start_time": "2021-11-04T05:05:45.034Z"
   },
   {
    "duration": 17,
    "start_time": "2021-11-04T05:06:43.402Z"
   },
   {
    "duration": 1511,
    "start_time": "2021-11-04T05:08:46.590Z"
   },
   {
    "duration": 60,
    "start_time": "2021-11-04T05:08:48.103Z"
   },
   {
    "duration": 13,
    "start_time": "2021-11-04T05:08:48.166Z"
   },
   {
    "duration": 49,
    "start_time": "2021-11-04T05:08:48.186Z"
   },
   {
    "duration": 10,
    "start_time": "2021-11-04T05:08:48.238Z"
   },
   {
    "duration": 7,
    "start_time": "2021-11-04T05:08:48.250Z"
   },
   {
    "duration": 21,
    "start_time": "2021-11-04T05:08:48.259Z"
   },
   {
    "duration": 18,
    "start_time": "2021-11-04T05:08:48.282Z"
   },
   {
    "duration": 513,
    "start_time": "2021-11-04T05:08:48.303Z"
   },
   {
    "duration": 16,
    "start_time": "2021-11-04T05:08:48.818Z"
   },
   {
    "duration": 3107,
    "start_time": "2021-11-04T05:08:48.836Z"
   },
   {
    "duration": 521,
    "start_time": "2021-11-04T05:08:51.945Z"
   },
   {
    "duration": 6083,
    "start_time": "2021-11-04T05:09:56.511Z"
   },
   {
    "duration": 5918,
    "start_time": "2021-11-04T05:10:15.282Z"
   },
   {
    "duration": 717,
    "start_time": "2021-11-04T05:10:53.218Z"
   },
   {
    "duration": 1523,
    "start_time": "2021-11-04T20:23:25.020Z"
   },
   {
    "duration": 113,
    "start_time": "2021-11-04T20:23:26.546Z"
   },
   {
    "duration": 14,
    "start_time": "2021-11-04T20:23:26.662Z"
   },
   {
    "duration": 96,
    "start_time": "2021-11-04T20:23:26.679Z"
   },
   {
    "duration": 10,
    "start_time": "2021-11-04T20:23:26.778Z"
   },
   {
    "duration": 6,
    "start_time": "2021-11-04T20:23:26.792Z"
   },
   {
    "duration": 20,
    "start_time": "2021-11-04T20:23:26.801Z"
   },
   {
    "duration": 51,
    "start_time": "2021-11-04T20:23:26.825Z"
   },
   {
    "duration": 521,
    "start_time": "2021-11-04T20:23:26.880Z"
   },
   {
    "duration": 18,
    "start_time": "2021-11-04T20:23:27.405Z"
   },
   {
    "duration": 6044,
    "start_time": "2021-11-04T20:23:27.426Z"
   },
   {
    "duration": 638,
    "start_time": "2021-11-04T20:23:33.472Z"
   }
  ],
  "kernelspec": {
   "display_name": "Python 3",
   "language": "python",
   "name": "python3"
  },
  "language_info": {
   "codemirror_mode": {
    "name": "ipython",
    "version": 3
   },
   "file_extension": ".py",
   "mimetype": "text/x-python",
   "name": "python",
   "nbconvert_exporter": "python",
   "pygments_lexer": "ipython3",
   "version": "3.7.8"
  },
  "toc": {
   "base_numbering": 1,
   "nav_menu": {},
   "number_sections": true,
   "sideBar": true,
   "skip_h1_title": true,
   "title_cell": "Содержание",
   "title_sidebar": "Contents",
   "toc_cell": true,
   "toc_position": {},
   "toc_section_display": true,
   "toc_window_display": false
  }
 },
 "nbformat": 4,
 "nbformat_minor": 2
}
