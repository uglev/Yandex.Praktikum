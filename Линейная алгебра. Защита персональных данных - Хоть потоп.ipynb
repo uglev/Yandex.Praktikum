{
 "cells": [
  {
   "cell_type": "markdown",
   "metadata": {},
   "source": [
    "<div style=\"border:solid green 2px; padding: 20px\">\n",
    "\n",
    "<b>Привет!</b>\n",
    "\n",
    "Меня зовут Ярослав П. и я буду проверять твой проект. Попробую помочь сделать тебе его еще лучше!\n",
    "\n",
    "Предлагаю общаться на «**ты**». Если это неприемлемо, обязательно напиши мне в комментариях — мы перейдем на «**вы**».\n",
    "\n",
    "Ниже ты найдешь мои комментарии - пожалуйста, не перемещай, не изменяй и не удаляй их. Я буду использовать цветовую разметку:\n",
    "\n",
    "<div class=\"alert alert-danger\">\n",
    "<b>Комментарий ревьюера:</b> Так выделены самые важные замечания. Без их отработки проект не будет принят. </div>\n",
    "\n",
    "<div class=\"alert alert-warning\">\n",
    "<b>Комментарий ревьюера:</b> Так выделены небольшие замечания или советы.\n",
    "\n",
    "</div>\n",
    "\n",
    "<div class=\"alert alert-success\">\n",
    "<b>Комментарий ревьюера:</b> Так я выделяю все остальные комментарии.</div>\n",
    "\n",
    "Давай работать над проектом в диалоге: если ты что-то меняешь в проекте или отвечаешь на мои комменатри — пиши об этом. Мне будет легче отследить изменения, если ты выделишь свои комментарии:\n",
    "<div class=\"alert alert-info\"> <b>Комментарий студента:</b> Например, вот так.</div>\n",
    "\n",
    "Всё это поможет выполнить повторную проверку твоего проекта оперативнее. \n",
    "    \n",
    "    \n",
    "### <span style=\"color:orange\">Обратная связь</span><a class=\"tocSkip\">\n",
    "\n",
    "- Проект отлично выполнен.\n",
    "- Алгоритм и ответ на вопрос верные! Однако в обосновании есть небольшая ошибка. Оставил про это комментарий.\n",
    "- Экспериментальное подтверждение проведено корректно.\n",
    "    \n",
    "### <span style=\"color:orange\">Обратная связь (v2)</span><a class=\"tocSkip\">\n",
    " \n",
    "- Проект отлично доработан, спасибо за уделенное время!\n",
    "    \n",
    "Проект принят, успехов в дальнейшем обучении!"
   ]
  },
  {
   "cell_type": "markdown",
   "metadata": {
    "toc": true
   },
   "source": [
    "<h1>Содержание<span class=\"tocSkip\"></span></h1>\n",
    "<div class=\"toc\"><ul class=\"toc-item\"><li><span><a href=\"#Загрузка-данных\" data-toc-modified-id=\"Загрузка-данных-1\"><span class=\"toc-item-num\">1&nbsp;&nbsp;</span>Загрузка данных</a></span></li><li><span><a href=\"#Умножение-матриц\" data-toc-modified-id=\"Умножение-матриц-2\"><span class=\"toc-item-num\">2&nbsp;&nbsp;</span>Умножение матриц</a></span></li><li><span><a href=\"#Алгоритм-преобразования\" data-toc-modified-id=\"Алгоритм-преобразования-3\"><span class=\"toc-item-num\">3&nbsp;&nbsp;</span>Алгоритм преобразования</a></span></li><li><span><a href=\"#Проверка-алгоритма\" data-toc-modified-id=\"Проверка-алгоритма-4\"><span class=\"toc-item-num\">4&nbsp;&nbsp;</span>Проверка алгоритма</a></span></li><li><span><a href=\"#Чек-лист-проверки\" data-toc-modified-id=\"Чек-лист-проверки-5\"><span class=\"toc-item-num\">5&nbsp;&nbsp;</span>Чек-лист проверки</a></span></li></ul></div>"
   ]
  },
  {
   "cell_type": "markdown",
   "metadata": {},
   "source": [
    "# Защита персональных данных клиентов"
   ]
  },
  {
   "cell_type": "markdown",
   "metadata": {},
   "source": [
    "Вам нужно защитить данные клиентов страховой компании «Хоть потоп». Разработайте такой метод преобразования данных, чтобы по ним было сложно восстановить персональную информацию. Обоснуйте корректность его работы.\n",
    "\n",
    "Нужно защитить данные, чтобы при преобразовании качество моделей машинного обучения не ухудшилось. Подбирать наилучшую модель не требуется."
   ]
  },
  {
   "cell_type": "markdown",
   "metadata": {},
   "source": [
    "## Загрузка данных"
   ]
  },
  {
   "cell_type": "code",
   "execution_count": 1,
   "metadata": {},
   "outputs": [],
   "source": [
    "import pandas as pd\n",
    "import numpy as np\n",
    "from sklearn.linear_model import LinearRegression\n",
    "\n",
    "import warnings\n",
    "warnings.filterwarnings('ignore')"
   ]
  },
  {
   "cell_type": "markdown",
   "metadata": {},
   "source": [
    "После импорта библиотек загрузим датасет с полными путями и проверим, что там."
   ]
  },
  {
   "cell_type": "code",
   "execution_count": 2,
   "metadata": {},
   "outputs": [
    {
     "data": {
      "text/html": [
       "<div>\n",
       "<style scoped>\n",
       "    .dataframe tbody tr th:only-of-type {\n",
       "        vertical-align: middle;\n",
       "    }\n",
       "\n",
       "    .dataframe tbody tr th {\n",
       "        vertical-align: top;\n",
       "    }\n",
       "\n",
       "    .dataframe thead th {\n",
       "        text-align: right;\n",
       "    }\n",
       "</style>\n",
       "<table border=\"1\" class=\"dataframe\">\n",
       "  <thead>\n",
       "    <tr style=\"text-align: right;\">\n",
       "      <th></th>\n",
       "      <th>Пол</th>\n",
       "      <th>Возраст</th>\n",
       "      <th>Зарплата</th>\n",
       "      <th>Члены семьи</th>\n",
       "      <th>Страховые выплаты</th>\n",
       "    </tr>\n",
       "  </thead>\n",
       "  <tbody>\n",
       "    <tr>\n",
       "      <td>0</td>\n",
       "      <td>1</td>\n",
       "      <td>41.0</td>\n",
       "      <td>49600.0</td>\n",
       "      <td>1</td>\n",
       "      <td>0</td>\n",
       "    </tr>\n",
       "    <tr>\n",
       "      <td>1</td>\n",
       "      <td>0</td>\n",
       "      <td>46.0</td>\n",
       "      <td>38000.0</td>\n",
       "      <td>1</td>\n",
       "      <td>1</td>\n",
       "    </tr>\n",
       "    <tr>\n",
       "      <td>2</td>\n",
       "      <td>0</td>\n",
       "      <td>29.0</td>\n",
       "      <td>21000.0</td>\n",
       "      <td>0</td>\n",
       "      <td>0</td>\n",
       "    </tr>\n",
       "    <tr>\n",
       "      <td>3</td>\n",
       "      <td>0</td>\n",
       "      <td>21.0</td>\n",
       "      <td>41700.0</td>\n",
       "      <td>2</td>\n",
       "      <td>0</td>\n",
       "    </tr>\n",
       "    <tr>\n",
       "      <td>4</td>\n",
       "      <td>1</td>\n",
       "      <td>28.0</td>\n",
       "      <td>26100.0</td>\n",
       "      <td>0</td>\n",
       "      <td>0</td>\n",
       "    </tr>\n",
       "  </tbody>\n",
       "</table>\n",
       "</div>"
      ],
      "text/plain": [
       "   Пол  Возраст  Зарплата  Члены семьи  Страховые выплаты\n",
       "0    1     41.0   49600.0            1                  0\n",
       "1    0     46.0   38000.0            1                  1\n",
       "2    0     29.0   21000.0            0                  0\n",
       "3    0     21.0   41700.0            2                  0\n",
       "4    1     28.0   26100.0            0                  0"
      ]
     },
     "execution_count": 2,
     "metadata": {},
     "output_type": "execute_result"
    }
   ],
   "source": [
    "df = pd.read_csv(\"https://code.s3.yandex.net/datasets/insurance.csv\")\n",
    "\n",
    "df.head()"
   ]
  },
  {
   "cell_type": "code",
   "execution_count": 3,
   "metadata": {},
   "outputs": [
    {
     "data": {
      "text/plain": [
       "((5000, 4), (5000,))"
      ]
     },
     "execution_count": 3,
     "metadata": {},
     "output_type": "execute_result"
    }
   ],
   "source": [
    "X = df.drop(\"Страховые выплаты\", axis=1)\n",
    "y = df[\"Страховые выплаты\"]\n",
    "\n",
    "X.shape, y.shape"
   ]
  },
  {
   "cell_type": "markdown",
   "metadata": {},
   "source": [
    "<div class=\"alert alert-block alert-success\">\n",
    "<b>Комментарий ревьюера</b>\n",
    "\n",
    "Отлично, данные разделены. Также в начале полезно провести небольшой анализ данных (несмотря на то, что проект небольшой и в целом это не требуется). Нет ли каких-либо аномальных значений, например, в возрасте или зарплате, как распределен целевой признак.\n",
    "\n",
    "</div>"
   ]
  },
  {
   "cell_type": "markdown",
   "metadata": {},
   "source": [
    "Проверим, обратима ли матрица?"
   ]
  },
  {
   "cell_type": "code",
   "execution_count": 4,
   "metadata": {
    "scrolled": true
   },
   "outputs": [
    {
     "data": {
      "text/plain": [
       "array([[-1.52092795,  2.21673076, -4.27576212,  1.21191979],\n",
       "       [ 1.34874545, -0.66763287,  5.40962859, -2.31952992],\n",
       "       [ 1.43528094, -4.16856976,  7.48913508,  0.23502181],\n",
       "       [ 0.17313308,  1.91071608, -4.41485243,  0.32810526]])"
      ]
     },
     "execution_count": 4,
     "metadata": {},
     "output_type": "execute_result"
    }
   ],
   "source": [
    "INVERTED = np.random.rand(4,4)\n",
    "\n",
    "np.linalg.inv(INVERTED)"
   ]
  },
  {
   "cell_type": "markdown",
   "metadata": {},
   "source": [
    "<div class=\"alert alert-block alert-success\">\n",
    "<b>Комментарий ревьюера</b>\n",
    "\n",
    "Отлично, проверка на обратимость есть! Было здорово реализовать ее генерацию и проверку на обратимость с помощью функции или цикла (то есть если сгенерировалась необратимая матрица, хоть это и крайне маловероятно, то генерируем другую автоматически).\n",
    "\n",
    "</div>\n"
   ]
  },
  {
   "cell_type": "markdown",
   "metadata": {},
   "source": [
    "Напишем функцию для вычисления r2:"
   ]
  },
  {
   "cell_type": "code",
   "execution_count": 5,
   "metadata": {},
   "outputs": [],
   "source": [
    "def r2_score(x, y):\n",
    "    lr = LinearRegression()\n",
    "    lr.fit(x, y)\n",
    "    r2 = lr.score(x, y)\n",
    "    return r2"
   ]
  },
  {
   "cell_type": "markdown",
   "metadata": {},
   "source": [
    "Вычислим r2 для обычной матрицы признаков:"
   ]
  },
  {
   "cell_type": "code",
   "execution_count": 6,
   "metadata": {},
   "outputs": [
    {
     "data": {
      "text/plain": [
       "0.42494550286668"
      ]
     },
     "execution_count": 6,
     "metadata": {},
     "output_type": "execute_result"
    }
   ],
   "source": [
    "r2_score(X, y)"
   ]
  },
  {
   "cell_type": "markdown",
   "metadata": {},
   "source": [
    "А теперь - для X * Inv:"
   ]
  },
  {
   "cell_type": "code",
   "execution_count": 7,
   "metadata": {},
   "outputs": [
    {
     "data": {
      "text/plain": [
       "0.4249455028666732"
      ]
     },
     "execution_count": 7,
     "metadata": {},
     "output_type": "execute_result"
    }
   ],
   "source": [
    "X_inv = X @ INVERTED\n",
    "r2_score(X_inv, y)"
   ]
  },
  {
   "cell_type": "markdown",
   "metadata": {},
   "source": [
    "<b>Вывод:</b> Качество линейной регрессии не меняется при умножении матрицы признаков на квадратную обратимую матрицу."
   ]
  },
  {
   "cell_type": "markdown",
   "metadata": {},
   "source": [
    "<div class=\"alert alert-block alert-success\">\n",
    "<b>Комментарий ревьюера</b> \n",
    "    \n",
    "Эксперимент проведен корректно!\n",
    "\n",
    "</div>"
   ]
  },
  {
   "cell_type": "markdown",
   "metadata": {},
   "source": [
    "## Умножение матриц"
   ]
  },
  {
   "cell_type": "markdown",
   "metadata": {},
   "source": [
    "В этом задании вы можете записывать формулы в *Jupyter Notebook.*\n",
    "\n",
    "Чтобы записать формулу внутри текста, окружите её символами доллара \\\\$; если снаружи —  двойными символами \\\\$\\\\$. Эти формулы записываются на языке вёрстки *LaTeX.* \n",
    "\n",
    "Для примера мы записали формулы линейной регрессии. Можете их скопировать и отредактировать, чтобы решить задачу.\n",
    "\n",
    "Работать в *LaTeX* необязательно."
   ]
  },
  {
   "cell_type": "markdown",
   "metadata": {},
   "source": [
    "Обозначения:\n",
    "\n",
    "- $X$ — матрица признаков (нулевой столбец состоит из единиц)\n",
    "\n",
    "- $y$ — вектор целевого признака\n",
    "\n",
    "- $P$ — матрица, на которую умножаются признаки\n",
    "\n",
    "- $w$ — вектор весов линейной регрессии (нулевой элемент равен сдвигу)"
   ]
  },
  {
   "cell_type": "markdown",
   "metadata": {},
   "source": [
    "Предсказания:\n",
    "\n",
    "$$\n",
    "a = Xw\n",
    "$$\n",
    "\n",
    "Задача обучения:\n",
    "\n",
    "$$\n",
    "w = \\arg\\min_w MSE(Xw, y)\n",
    "$$\n",
    "\n",
    "Формула обучения:\n",
    "\n",
    "$$\n",
    "w = (X^T X)^{-1} X^T y\n",
    "$$"
   ]
  },
  {
   "cell_type": "markdown",
   "metadata": {},
   "source": [
    "**Ответ:** $ R^2 $ не поменяется\n",
    "\n",
    "**Обоснование:** $$\n",
    "a = X_1 w\n",
    "$$\n",
    "\n",
    "$ a = X_1 (X^T X)^{-1} X^T y = X_1 X^{-1} (X^T)^{-1} X^T y = X_1 X^{-1} y $\n",
    "\n",
    "$ a_1 = (X_1 A) ((X A)^T X A)^{-1} (X A)^T y =  (X_1 A) (X A)^{-1} ((X A)^T)^{-1} (X A)^T y = (X_1 A) A^{-1}X^{-1} (X^T)^{-1}(A^T)^{-1} A^T X^T y = X_1 A A^{-1} X^{-1} (X^T)^{-1}(A^T)^{-1} A^T X^T y = X_1 X^{-1} y $\n",
    "\n"
   ]
  },
  {
   "cell_type": "markdown",
   "metadata": {},
   "source": [
    "<div class=\"alert alert-block alert-danger\">\n",
    "<b>Комментарий ревьюера</b>\n",
    "\n",
    "<s>Ответ верный, однако есть небольшая неточность при открытии скобки (у тебя немного по другому обозначено)\n",
    "\n",
    "$$\n",
    "((XP)^T(XP))^{-1}\n",
    "$$\n",
    "\n",
    "\n",
    "Так как матрицы $X$ и $X^T$, а также $(XP)^T$ и $XP$, прямогульные, то обратных матриц у них нет, то есть открывать скобки так нельзя:\n",
    "    \n",
    "$$\n",
    "(X^T X)^{-1} \\neq  X^{-1} \\cdot (X^T)^{-1}\n",
    "$$  \n",
    "    \n",
    "$$\n",
    "((XP)^T(XP))^{-1} \\neq (XP)^{-1}  \\cdot ((XP)^T)^{-1}\n",
    "$$\n",
    "\n",
    "Здесь правильный подход такой. Веса до умножения на рандомную матрицу мы не можем преобразовать, так как там и так преобразованный вид :) А после умножения на обратимую рандомную матрицу мы сначала открываем внутренние скобки, потом группируем в три квадратные матрицы (рандомная матрица квадратная изначально, транспонированная рандомная тоже квадратная, а при умножении транспонированной прямоугольной на изначальную тоже получается квадратная), а потом раскрываем скобки.\n",
    "\n",
    "\n",
    "</div>"
   ]
  },
  {
   "cell_type": "markdown",
   "metadata": {},
   "source": [
    "<div class=\"alert alert-warning\">\n",
    "<b>Комментарий студента:</b> Взял жёлтый цвет для своих комментариев."
   ]
  },
  {
   "cell_type": "markdown",
   "metadata": {},
   "source": [
    "\n",
    "$$\n",
    "a = ((X)^T X)^{-1}(X)^T y$$\n",
    "\n",
    "$$\n",
    "a_1 = X A ((X_1)^T X_1)^{-1}(X_1)^T y = \\\\X A (A^TX^T X_1)^{-1}A^T X^T y = \\\\X A (X^TXA)^{-1} (A^T)^{-1} A^T X^T y = \\\\X A A^{-1}(X^TX)^{-1} (A^T)^{-1} A^T X^T y = \\\\X E (X^TX)^{-1} E  X^T y = \\\\X (X^TX)^{-1} X^T y =  X w\n",
    "$$\n",
    "\n"
   ]
  },
  {
   "cell_type": "markdown",
   "metadata": {},
   "source": [
    "<div class=\"alert alert-warning\">\n",
    "<b>Комментарий студента:</b> И снова мой комментарий. В вопросе спрашивается про изменение качества линейной регрессии. Таким образом, если в задаче линейной регрессии $a = Xw$ умножить $X (M, N)$ на обратимую матрицу $Z$, размерности $(N, N)$, то при вычислении весов $w = (X^T X)^{-1} X^T y$ предсказания $a$ не должны измениться. Но для доказательства удобно подставлять вместо $X$ $XZ$. С Z получается понятнее, но я не уверен. Ниже всё тоже самое, что и выше, но с заменой на Z (в итоге всё равно $$\n",
    "a_1 = a\n",
    "$$)."
   ]
  },
  {
   "cell_type": "markdown",
   "metadata": {},
   "source": [
    "$$\n",
    "a_1 = XZw_1\n",
    "$$$$\n",
    "w_1 = ((XZ)^T XZ)^{-1}(XZ)^T y\n",
    "$$\n",
    "$$\n",
    "a_1 = X Z ((XZ)^T XZ)^{-1}(XZ)^T y = \\\\X Z (Z^TX^T XZ)^{-1}Z^T X^T y = \\\\X Z (X^TXZ)^{-1} (Z^T)^{-1} Z^T X^T y = \\\\X Z Z^{-1}(X^TX)^{-1} (Z^T)^{-1} Z^T X^T y = \\\\X E (X^TX)^{-1} E  X^T y = \\\\X (X^TX)^{-1} X^T y =  X w\n",
    "$$"
   ]
  },
  {
   "cell_type": "markdown",
   "metadata": {},
   "source": [
    "<div class=\"alert alert-block alert-success\">\n",
    "<b>Комментарий ревьюера (v2)</b> \n",
    "    \n",
    "Да, все так!\n",
    "\n",
    "</div>"
   ]
  },
  {
   "cell_type": "markdown",
   "metadata": {},
   "source": [
    "## Алгоритм преобразования"
   ]
  },
  {
   "cell_type": "markdown",
   "metadata": {},
   "source": [
    "**Алгоритм**\n",
    "\n",
    "1. Умножим матрицу признаков на 10.000,\n",
    "2. Вычтем из матрицы 100,\n",
    "3. Умножим на 7,\n",
    "4. Умножим на случайную обратимую матрицу A."
   ]
  },
  {
   "cell_type": "markdown",
   "metadata": {},
   "source": [
    "## Проверка алгоритма"
   ]
  },
  {
   "cell_type": "markdown",
   "metadata": {},
   "source": [
    "Изменим данные согласно разработанного алгоритма."
   ]
  },
  {
   "cell_type": "code",
   "execution_count": 8,
   "metadata": {
    "scrolled": true
   },
   "outputs": [
    {
     "data": {
      "text/html": [
       "<div>\n",
       "<style scoped>\n",
       "    .dataframe tbody tr th:only-of-type {\n",
       "        vertical-align: middle;\n",
       "    }\n",
       "\n",
       "    .dataframe tbody tr th {\n",
       "        vertical-align: top;\n",
       "    }\n",
       "\n",
       "    .dataframe thead th {\n",
       "        text-align: right;\n",
       "    }\n",
       "</style>\n",
       "<table border=\"1\" class=\"dataframe\">\n",
       "  <thead>\n",
       "    <tr style=\"text-align: right;\">\n",
       "      <th></th>\n",
       "      <th>0</th>\n",
       "      <th>1</th>\n",
       "      <th>2</th>\n",
       "      <th>3</th>\n",
       "    </tr>\n",
       "  </thead>\n",
       "  <tbody>\n",
       "    <tr>\n",
       "      <td>0</td>\n",
       "      <td>1.679729e+09</td>\n",
       "      <td>9.896256e+08</td>\n",
       "      <td>8.258838e+08</td>\n",
       "      <td>2.003555e+08</td>\n",
       "    </tr>\n",
       "    <tr>\n",
       "      <td>1</td>\n",
       "      <td>1.287870e+09</td>\n",
       "      <td>7.587868e+08</td>\n",
       "      <td>6.331136e+08</td>\n",
       "      <td>1.539352e+08</td>\n",
       "    </tr>\n",
       "    <tr>\n",
       "      <td>2</td>\n",
       "      <td>7.119204e+08</td>\n",
       "      <td>4.194726e+08</td>\n",
       "      <td>3.499470e+08</td>\n",
       "      <td>8.516479e+07</td>\n",
       "    </tr>\n",
       "    <tr>\n",
       "      <td>3</td>\n",
       "      <td>1.411362e+09</td>\n",
       "      <td>8.314374e+08</td>\n",
       "      <td>6.940090e+08</td>\n",
       "      <td>1.679888e+08</td>\n",
       "    </tr>\n",
       "    <tr>\n",
       "      <td>4</td>\n",
       "      <td>8.842866e+08</td>\n",
       "      <td>5.210218e+08</td>\n",
       "      <td>4.347498e+08</td>\n",
       "      <td>1.056514e+08</td>\n",
       "    </tr>\n",
       "  </tbody>\n",
       "</table>\n",
       "</div>"
      ],
      "text/plain": [
       "              0             1             2             3\n",
       "0  1.679729e+09  9.896256e+08  8.258838e+08  2.003555e+08\n",
       "1  1.287870e+09  7.587868e+08  6.331136e+08  1.539352e+08\n",
       "2  7.119204e+08  4.194726e+08  3.499470e+08  8.516479e+07\n",
       "3  1.411362e+09  8.314374e+08  6.940090e+08  1.679888e+08\n",
       "4  8.842866e+08  5.210218e+08  4.347498e+08  1.056514e+08"
      ]
     },
     "execution_count": 8,
     "metadata": {},
     "output_type": "execute_result"
    }
   ],
   "source": [
    "X_new = ((X*10000 - 100) * 7) @ INVERTED\n",
    "\n",
    "X_new.head()"
   ]
  },
  {
   "cell_type": "markdown",
   "metadata": {},
   "source": [
    "Выведем результат."
   ]
  },
  {
   "cell_type": "code",
   "execution_count": 9,
   "metadata": {},
   "outputs": [
    {
     "data": {
      "text/plain": [
       "0.4249455028666841"
      ]
     },
     "execution_count": 9,
     "metadata": {},
     "output_type": "execute_result"
    }
   ],
   "source": [
    "r2_score(X_new, y)"
   ]
  },
  {
   "cell_type": "markdown",
   "metadata": {},
   "source": [
    "<b>Вывод.</b> С использованием нашего алгоритма качество линейной регрессии не поменялось, а значит, задачи проекта выполнены."
   ]
  },
  {
   "cell_type": "markdown",
   "metadata": {},
   "source": [
    "<div class=\"alert alert-block alert-success\">\n",
    "<b>Комментарий ревьюера</b> \n",
    "    \n",
    "Здесь тоже все корректно!\n",
    "\n",
    "</div>"
   ]
  },
  {
   "cell_type": "markdown",
   "metadata": {},
   "source": [
    "## Чек-лист проверки"
   ]
  },
  {
   "cell_type": "markdown",
   "metadata": {},
   "source": [
    "Поставьте 'x' в выполненных пунктах. Далее нажмите Shift+Enter."
   ]
  },
  {
   "cell_type": "markdown",
   "metadata": {},
   "source": [
    "- [x]  Jupyter Notebook открыт\n",
    "- [ ]  Весь код выполняется без ошибок\n",
    "- [ ]  Ячейки с кодом расположены в порядке исполнения\n",
    "- [ ]  Выполнен шаг 1: данные загружены\n",
    "- [ ]  Выполнен шаг 2: получен ответ на вопрос об умножении матриц\n",
    "    - [ ]  Указан правильный вариант ответа\n",
    "    - [ ]  Вариант обоснован\n",
    "- [ ]  Выполнен шаг 3: предложен алгоритм преобразования\n",
    "    - [ ]  Алгоритм описан\n",
    "    - [ ]  Алгоритм обоснован\n",
    "- [ ]  Выполнен шаг 4: алгоритм проверен\n",
    "    - [ ]  Алгоритм реализован\n",
    "    - [ ]  Проведено сравнение качества моделей до и после преобразования"
   ]
  },
  {
   "cell_type": "code",
   "execution_count": null,
   "metadata": {},
   "outputs": [],
   "source": []
  }
 ],
 "metadata": {
  "ExecuteTimeLog": [
   {
    "duration": 1440,
    "start_time": "2021-09-08T14:23:29.100Z"
   },
   {
    "duration": 363,
    "start_time": "2021-09-08T14:23:30.542Z"
   },
   {
    "duration": 7,
    "start_time": "2021-09-08T14:23:30.908Z"
   },
   {
    "duration": 24,
    "start_time": "2021-09-08T14:23:30.918Z"
   },
   {
    "duration": 71,
    "start_time": "2021-09-08T14:23:30.945Z"
   },
   {
    "duration": 203,
    "start_time": "2021-09-08T14:23:31.019Z"
   },
   {
    "duration": 107,
    "start_time": "2021-09-08T14:23:31.224Z"
   },
   {
    "duration": 116,
    "start_time": "2021-09-08T14:23:31.418Z"
   },
   {
    "duration": 12,
    "start_time": "2021-09-08T14:23:31.536Z"
   },
   {
    "duration": 8,
    "start_time": "2021-09-08T14:25:05.733Z"
   },
   {
    "duration": 1376,
    "start_time": "2021-09-08T14:29:25.851Z"
   },
   {
    "duration": 99,
    "start_time": "2021-09-08T14:29:27.230Z"
   },
   {
    "duration": 8,
    "start_time": "2021-09-08T14:29:27.332Z"
   },
   {
    "duration": 7,
    "start_time": "2021-09-08T14:29:27.343Z"
   },
   {
    "duration": 165,
    "start_time": "2021-09-08T14:29:27.353Z"
   },
   {
    "duration": 208,
    "start_time": "2021-09-08T14:29:27.313Z"
   },
   {
    "duration": 206,
    "start_time": "2021-09-08T14:29:27.316Z"
   },
   {
    "duration": 204,
    "start_time": "2021-09-08T14:29:27.319Z"
   },
   {
    "duration": 203,
    "start_time": "2021-09-08T14:29:27.322Z"
   },
   {
    "duration": 201,
    "start_time": "2021-09-08T14:29:27.325Z"
   },
   {
    "duration": 202,
    "start_time": "2021-09-08T14:29:27.326Z"
   },
   {
    "duration": 201,
    "start_time": "2021-09-08T14:29:27.328Z"
   },
   {
    "duration": 1417,
    "start_time": "2021-09-08T14:29:51.909Z"
   },
   {
    "duration": 96,
    "start_time": "2021-09-08T14:29:53.329Z"
   },
   {
    "duration": 8,
    "start_time": "2021-09-08T14:29:53.429Z"
   },
   {
    "duration": 10,
    "start_time": "2021-09-08T14:29:53.441Z"
   },
   {
    "duration": 67,
    "start_time": "2021-09-08T14:29:53.454Z"
   },
   {
    "duration": 192,
    "start_time": "2021-09-08T14:29:53.524Z"
   },
   {
    "duration": 502,
    "start_time": "2021-09-08T14:29:53.719Z"
   },
   {
    "duration": 202,
    "start_time": "2021-09-08T14:29:54.022Z"
   },
   {
    "duration": 199,
    "start_time": "2021-09-08T14:29:54.026Z"
   },
   {
    "duration": 1381,
    "start_time": "2021-09-08T14:31:20.262Z"
   },
   {
    "duration": 106,
    "start_time": "2021-09-08T14:31:21.646Z"
   },
   {
    "duration": 7,
    "start_time": "2021-09-08T14:31:21.755Z"
   },
   {
    "duration": 10,
    "start_time": "2021-09-08T14:31:21.765Z"
   },
   {
    "duration": 43,
    "start_time": "2021-09-08T14:31:21.778Z"
   },
   {
    "duration": 193,
    "start_time": "2021-09-08T14:31:21.825Z"
   },
   {
    "duration": 97,
    "start_time": "2021-09-08T14:31:22.022Z"
   },
   {
    "duration": 111,
    "start_time": "2021-09-08T14:31:22.124Z"
   },
   {
    "duration": 11,
    "start_time": "2021-09-08T14:31:22.237Z"
   },
   {
    "duration": 1459,
    "start_time": "2021-09-08T14:32:13.982Z"
   },
   {
    "duration": 96,
    "start_time": "2021-09-08T14:32:15.444Z"
   },
   {
    "duration": 8,
    "start_time": "2021-09-08T14:32:15.543Z"
   },
   {
    "duration": 10,
    "start_time": "2021-09-08T14:32:15.553Z"
   },
   {
    "duration": 50,
    "start_time": "2021-09-08T14:32:15.566Z"
   },
   {
    "duration": 103,
    "start_time": "2021-09-08T14:32:15.619Z"
   },
   {
    "duration": 98,
    "start_time": "2021-09-08T14:32:15.725Z"
   },
   {
    "duration": 196,
    "start_time": "2021-09-08T14:32:15.827Z"
   },
   {
    "duration": 528,
    "start_time": "2021-09-08T14:32:16.027Z"
   },
   {
    "duration": 1418,
    "start_time": "2021-09-08T14:33:50.311Z"
   },
   {
    "duration": 108,
    "start_time": "2021-09-08T14:33:51.732Z"
   },
   {
    "duration": 7,
    "start_time": "2021-09-08T14:33:51.844Z"
   },
   {
    "duration": 12,
    "start_time": "2021-09-08T14:33:51.853Z"
   },
   {
    "duration": 51,
    "start_time": "2021-09-08T14:33:51.869Z"
   },
   {
    "duration": 98,
    "start_time": "2021-09-08T14:33:51.924Z"
   },
   {
    "duration": 98,
    "start_time": "2021-09-08T14:33:52.025Z"
   },
   {
    "duration": 198,
    "start_time": "2021-09-08T14:33:52.128Z"
   },
   {
    "duration": 11,
    "start_time": "2021-09-08T14:33:52.328Z"
   },
   {
    "duration": 1410,
    "start_time": "2021-09-08T14:38:31.230Z"
   },
   {
    "duration": 108,
    "start_time": "2021-09-08T14:38:32.643Z"
   },
   {
    "duration": 7,
    "start_time": "2021-09-08T14:38:32.754Z"
   },
   {
    "duration": 21,
    "start_time": "2021-09-08T14:38:32.764Z"
   },
   {
    "duration": 31,
    "start_time": "2021-09-08T14:38:32.787Z"
   },
   {
    "duration": 109,
    "start_time": "2021-09-08T14:38:32.821Z"
   },
   {
    "duration": 103,
    "start_time": "2021-09-08T14:38:33.020Z"
   },
   {
    "duration": 113,
    "start_time": "2021-09-08T14:38:33.216Z"
   },
   {
    "duration": 88,
    "start_time": "2021-09-08T14:38:33.331Z"
   },
   {
    "duration": 93,
    "start_time": "2021-09-09T05:17:41.468Z"
   },
   {
    "duration": 71,
    "start_time": "2021-09-09T05:24:17.748Z"
   },
   {
    "duration": 1193,
    "start_time": "2021-09-09T05:40:07.969Z"
   },
   {
    "duration": 116,
    "start_time": "2021-09-09T05:40:09.164Z"
   },
   {
    "duration": 7,
    "start_time": "2021-09-09T05:40:09.283Z"
   },
   {
    "duration": 11,
    "start_time": "2021-09-09T05:40:09.293Z"
   },
   {
    "duration": 6,
    "start_time": "2021-09-09T05:40:09.307Z"
   },
   {
    "duration": 171,
    "start_time": "2021-09-09T05:40:09.316Z"
   },
   {
    "duration": 192,
    "start_time": "2021-09-09T05:40:09.490Z"
   },
   {
    "duration": 110,
    "start_time": "2021-09-09T05:40:09.685Z"
   },
   {
    "duration": 11,
    "start_time": "2021-09-09T05:40:09.799Z"
   }
  ],
  "kernelspec": {
   "display_name": "Python 3",
   "language": "python",
   "name": "python3"
  },
  "language_info": {
   "codemirror_mode": {
    "name": "ipython",
    "version": 3
   },
   "file_extension": ".py",
   "mimetype": "text/x-python",
   "name": "python",
   "nbconvert_exporter": "python",
   "pygments_lexer": "ipython3",
   "version": "3.7.8"
  },
  "toc": {
   "base_numbering": 1,
   "nav_menu": {},
   "number_sections": true,
   "sideBar": true,
   "skip_h1_title": true,
   "title_cell": "Содержание",
   "title_sidebar": "Contents",
   "toc_cell": true,
   "toc_position": {},
   "toc_section_display": true,
   "toc_window_display": false
  }
 },
 "nbformat": 4,
 "nbformat_minor": 2
}
