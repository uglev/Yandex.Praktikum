{
 "cells": [
  {
   "cell_type": "markdown",
   "metadata": {},
   "source": [
    "Привет, меня зовут Артем Хуршудов. Сегодня я проверю твой проект.\n",
    "<br> Дальнейшее общение будет происходить на \"ты\" если это не вызывает никаких проблем.\n",
    "<br> Желательно реагировать на каждый мой комментарий ('исправил', 'не понятно как исправить ошибку', ...)\n",
    "<br> Пожалуйста, не удаляй комментарии ревьюера, так как они повышают качество повторного ревью.\n",
    "\n",
    "Комментарии будут в <font color='green'>зеленой</font>, <font color='blue'>синей</font> или <font color='red'>красной</font> рамках:\n",
    "\n",
    "<div class=\"alert alert-block alert-success\">\n",
    "<b>Успех:</b> Если все сделано отлично\n",
    "</div>\n",
    "\n",
    "<div class=\"alert alert-block alert-info\">\n",
    "<b>Совет: </b> Если можно немного улучшить\n",
    "</div>\n",
    "\n",
    "<div class=\"alert alert-block alert-danger\">\n",
    "<b>Ошибка:</b> Если требуются исправления. Работа не может быть принята с красными комментариями.\n",
    "</div>\n",
    "\n",
    "-------------------\n",
    "\n",
    "Будет очень хорошо, если ты будешь помечать свои действия следующим образом:\n",
    "<div class=\"alert alert-block alert-warning\">\n",
    "<b>Комментарий студента:</b> ...\n",
    "</div>\n",
    "\n",
    "<div class=\"alert alert-block alert-warning\">\n",
    "<b>Изменения:</b> Были внесены следующие изменения ...\n",
    "</div>\n",
    "\n",
    "### <font color='orange'>Общее впечатление</font>\n",
    "* Большое спасибо за проделанную работу. Видно, что приложено много усилий.\n",
    "* Радует, что ноутбук хорошо структурирован. Приятно проверять такие работы.\n",
    "* Отлично, что тебе удалось освоить внутренний метод кодировки признаков для одной моделей.\n",
    "* Над этим проектом нужно будет еще немного поработать. Однако, изменения не должны занять много времени.\n",
    "* В работе я оставил несколько советов. Буду рад, если ты учтешь их.\n",
    "* С радостью отвечу на твои вопросы, если они есть. Лучше всего их собрать в следующей ячейке. Жду новую версию проекта."
   ]
  },
  {
   "cell_type": "markdown",
   "metadata": {},
   "source": [
    "### <font color='orange'>Общее впечатление (ревью 2)</font>\n",
    "* Для удобства все новые комментарии обозначены фразой \"ревью 2\".\n",
    "* Удачи в доработке!"
   ]
  },
  {
   "cell_type": "markdown",
   "metadata": {},
   "source": [
    "### <font color='orange'>Общее впечатление (ревью 3)</font>\n",
    "* После исправлений проект улучшился и теперь он может быть зачтен.\n",
    "* Таблица в выводе ОК, но в тексте лучше собрать информацию со всех шагов.\n",
    "* Удачи в дальнейшем обучении и следующих работах!"
   ]
  },
  {
   "cell_type": "markdown",
   "metadata": {},
   "source": [
    "# Определение стоимости автомобилей"
   ]
  },
  {
   "cell_type": "markdown",
   "metadata": {},
   "source": [
    "Сервис по продаже автомобилей с пробегом «Не бит, не крашен» разрабатывает приложение для привлечения новых клиентов. В нём можно быстро узнать рыночную стоимость своего автомобиля. В вашем распоряжении исторические данные: технические характеристики, комплектации и цены автомобилей. Вам нужно построить модель для определения стоимости. \n",
    "\n",
    "Заказчику важны:\n",
    "\n",
    "- качество предсказания;\n",
    "- скорость предсказания;\n",
    "- время обучения."
   ]
  },
  {
   "cell_type": "markdown",
   "metadata": {},
   "source": [
    "## Подготовка данных"
   ]
  },
  {
   "cell_type": "markdown",
   "metadata": {},
   "source": [
    "Осуществим подготовку к подготовке: загрузим необходимые модели."
   ]
  },
  {
   "cell_type": "code",
   "execution_count": 1,
   "metadata": {},
   "outputs": [],
   "source": [
    "import pandas as pd\n",
    "import numpy as np\n",
    "import os\n",
    "import time\n",
    "\n",
    "from sklearn.preprocessing import OneHotEncoder, StandardScaler, LabelEncoder, OrdinalEncoder\n",
    "from sklearn.model_selection import cross_val_score, KFold, GridSearchCV, train_test_split\n",
    "from sklearn.metrics import mean_squared_error as mse\n",
    "\n",
    "from sklearn.linear_model import LinearRegression, Lasso, Ridge\n",
    "from sklearn.ensemble import RandomForestRegressor\n",
    "from sklearn.pipeline import Pipeline\n",
    "\n",
    "from catboost import CatBoostRegressor\n",
    "from lightgbm import LGBMRegressor\n",
    "import lightgbm as lgb\n",
    "\n",
    "import matplotlib.pyplot as plt\n",
    "\n",
    "import warnings\n",
    "warnings.filterwarnings('ignore')"
   ]
  },
  {
   "cell_type": "markdown",
   "metadata": {},
   "source": [
    "<div class=\"alert alert-block alert-success\">\n",
    "<b>Успех:</b> Отлично, что все импорты собраны в первой ячейке ноутбука! Если у того, кто будет запускать твой ноутбук будут отсутствовать некоторые библиотеки, то он это увидит сразу, а не в процессе!\n",
    "</div>"
   ]
  },
  {
   "cell_type": "markdown",
   "metadata": {},
   "source": [
    "Загрузим исходные данные с полными путями."
   ]
  },
  {
   "cell_type": "code",
   "execution_count": 2,
   "metadata": {},
   "outputs": [
    {
     "data": {
      "text/html": [
       "<div>\n",
       "<style scoped>\n",
       "    .dataframe tbody tr th:only-of-type {\n",
       "        vertical-align: middle;\n",
       "    }\n",
       "\n",
       "    .dataframe tbody tr th {\n",
       "        vertical-align: top;\n",
       "    }\n",
       "\n",
       "    .dataframe thead th {\n",
       "        text-align: right;\n",
       "    }\n",
       "</style>\n",
       "<table border=\"1\" class=\"dataframe\">\n",
       "  <thead>\n",
       "    <tr style=\"text-align: right;\">\n",
       "      <th></th>\n",
       "      <th>DateCrawled</th>\n",
       "      <th>Price</th>\n",
       "      <th>VehicleType</th>\n",
       "      <th>RegistrationYear</th>\n",
       "      <th>Gearbox</th>\n",
       "      <th>Power</th>\n",
       "      <th>Model</th>\n",
       "      <th>Kilometer</th>\n",
       "      <th>RegistrationMonth</th>\n",
       "      <th>FuelType</th>\n",
       "      <th>Brand</th>\n",
       "      <th>NotRepaired</th>\n",
       "      <th>DateCreated</th>\n",
       "      <th>NumberOfPictures</th>\n",
       "      <th>PostalCode</th>\n",
       "      <th>LastSeen</th>\n",
       "    </tr>\n",
       "  </thead>\n",
       "  <tbody>\n",
       "    <tr>\n",
       "      <td>0</td>\n",
       "      <td>2016-03-24 11:52:17</td>\n",
       "      <td>480</td>\n",
       "      <td>NaN</td>\n",
       "      <td>1993</td>\n",
       "      <td>manual</td>\n",
       "      <td>0</td>\n",
       "      <td>golf</td>\n",
       "      <td>150000</td>\n",
       "      <td>0</td>\n",
       "      <td>petrol</td>\n",
       "      <td>volkswagen</td>\n",
       "      <td>NaN</td>\n",
       "      <td>2016-03-24</td>\n",
       "      <td>0</td>\n",
       "      <td>70435</td>\n",
       "      <td>2016-04-07 03:16:57</td>\n",
       "    </tr>\n",
       "    <tr>\n",
       "      <td>1</td>\n",
       "      <td>2016-03-24 10:58:45</td>\n",
       "      <td>18300</td>\n",
       "      <td>coupe</td>\n",
       "      <td>2011</td>\n",
       "      <td>manual</td>\n",
       "      <td>190</td>\n",
       "      <td>NaN</td>\n",
       "      <td>125000</td>\n",
       "      <td>5</td>\n",
       "      <td>gasoline</td>\n",
       "      <td>audi</td>\n",
       "      <td>yes</td>\n",
       "      <td>2016-03-24</td>\n",
       "      <td>0</td>\n",
       "      <td>66954</td>\n",
       "      <td>2016-04-07 01:46:50</td>\n",
       "    </tr>\n",
       "    <tr>\n",
       "      <td>2</td>\n",
       "      <td>2016-03-14 12:52:21</td>\n",
       "      <td>9800</td>\n",
       "      <td>suv</td>\n",
       "      <td>2004</td>\n",
       "      <td>auto</td>\n",
       "      <td>163</td>\n",
       "      <td>grand</td>\n",
       "      <td>125000</td>\n",
       "      <td>8</td>\n",
       "      <td>gasoline</td>\n",
       "      <td>jeep</td>\n",
       "      <td>NaN</td>\n",
       "      <td>2016-03-14</td>\n",
       "      <td>0</td>\n",
       "      <td>90480</td>\n",
       "      <td>2016-04-05 12:47:46</td>\n",
       "    </tr>\n",
       "  </tbody>\n",
       "</table>\n",
       "</div>"
      ],
      "text/plain": [
       "          DateCrawled  Price VehicleType  RegistrationYear Gearbox  Power  \\\n",
       "0 2016-03-24 11:52:17    480         NaN              1993  manual      0   \n",
       "1 2016-03-24 10:58:45  18300       coupe              2011  manual    190   \n",
       "2 2016-03-14 12:52:21   9800         suv              2004    auto    163   \n",
       "\n",
       "   Model  Kilometer  RegistrationMonth  FuelType       Brand NotRepaired  \\\n",
       "0   golf     150000                  0    petrol  volkswagen         NaN   \n",
       "1    NaN     125000                  5  gasoline        audi         yes   \n",
       "2  grand     125000                  8  gasoline        jeep         NaN   \n",
       "\n",
       "  DateCreated  NumberOfPictures  PostalCode            LastSeen  \n",
       "0  2016-03-24                 0       70435 2016-04-07 03:16:57  \n",
       "1  2016-03-24                 0       66954 2016-04-07 01:46:50  \n",
       "2  2016-03-14                 0       90480 2016-04-05 12:47:46  "
      ]
     },
     "execution_count": 2,
     "metadata": {},
     "output_type": "execute_result"
    }
   ],
   "source": [
    "df = pd.read_csv(os.path.join('https://code.s3.yandex.net/datasets/autos.csv'),\n",
    "                   parse_dates=['DateCrawled', 'LastSeen', 'DateCreated'])\n",
    "df.head(3)"
   ]
  },
  {
   "cell_type": "markdown",
   "metadata": {},
   "source": [
    "Посмотрим на информацию о датасете:"
   ]
  },
  {
   "cell_type": "code",
   "execution_count": 3,
   "metadata": {},
   "outputs": [
    {
     "data": {
      "text/plain": [
       "(354369, 16)"
      ]
     },
     "execution_count": 3,
     "metadata": {},
     "output_type": "execute_result"
    }
   ],
   "source": [
    "df.shape"
   ]
  },
  {
   "cell_type": "code",
   "execution_count": 4,
   "metadata": {},
   "outputs": [
    {
     "name": "stdout",
     "output_type": "stream",
     "text": [
      "<class 'pandas.core.frame.DataFrame'>\n",
      "RangeIndex: 354369 entries, 0 to 354368\n",
      "Data columns (total 16 columns):\n",
      "DateCrawled          354369 non-null datetime64[ns]\n",
      "Price                354369 non-null int64\n",
      "VehicleType          316879 non-null object\n",
      "RegistrationYear     354369 non-null int64\n",
      "Gearbox              334536 non-null object\n",
      "Power                354369 non-null int64\n",
      "Model                334664 non-null object\n",
      "Kilometer            354369 non-null int64\n",
      "RegistrationMonth    354369 non-null int64\n",
      "FuelType             321474 non-null object\n",
      "Brand                354369 non-null object\n",
      "NotRepaired          283215 non-null object\n",
      "DateCreated          354369 non-null datetime64[ns]\n",
      "NumberOfPictures     354369 non-null int64\n",
      "PostalCode           354369 non-null int64\n",
      "LastSeen             354369 non-null datetime64[ns]\n",
      "dtypes: datetime64[ns](3), int64(7), object(6)\n",
      "memory usage: 43.3+ MB\n"
     ]
    }
   ],
   "source": [
    "df.info()"
   ]
  },
  {
   "cell_type": "markdown",
   "metadata": {},
   "source": [
    "И на число пропусков:"
   ]
  },
  {
   "cell_type": "code",
   "execution_count": 5,
   "metadata": {},
   "outputs": [
    {
     "data": {
      "text/plain": [
       "DateCrawled              0\n",
       "Price                    0\n",
       "VehicleType          37490\n",
       "RegistrationYear         0\n",
       "Gearbox              19833\n",
       "Power                    0\n",
       "Model                19705\n",
       "Kilometer                0\n",
       "RegistrationMonth        0\n",
       "FuelType             32895\n",
       "Brand                    0\n",
       "NotRepaired          71154\n",
       "DateCreated              0\n",
       "NumberOfPictures         0\n",
       "PostalCode               0\n",
       "LastSeen                 0\n",
       "dtype: int64"
      ]
     },
     "execution_count": 5,
     "metadata": {},
     "output_type": "execute_result"
    }
   ],
   "source": [
    "df.isna().sum()"
   ]
  },
  {
   "cell_type": "markdown",
   "metadata": {},
   "source": [
    "Выведем основные показатели."
   ]
  },
  {
   "cell_type": "code",
   "execution_count": 6,
   "metadata": {
    "scrolled": true
   },
   "outputs": [
    {
     "name": "stdout",
     "output_type": "stream",
     "text": [
      "Число марок автомобилей: 40\n",
      "Число моделей автомобилей: 251\n",
      "Кузов автомобиля: 9\n",
      "Средний пробег: 128211\n"
     ]
    }
   ],
   "source": [
    "print(\"Число марок автомобилей:\", len(df[\"Brand\"].unique()))\n",
    "print(\"Число моделей автомобилей:\", len(df[\"Model\"].unique()))\n",
    "print(\"Кузов автомобиля:\", len(df[\"VehicleType\"].unique()))\n",
    "print(\"Средний пробег: {:.0f}\".format(df[\"Kilometer\"].mean()))"
   ]
  },
  {
   "cell_type": "markdown",
   "metadata": {},
   "source": [
    "<div class=\"alert alert-block alert-success\">\n",
    "<b>Успех:</b> Данные загружены корректно, первичный осмотр проведен.\n",
    "</div>"
   ]
  },
  {
   "cell_type": "markdown",
   "metadata": {},
   "source": [
    "Удалим колонки, не имеющие к нам отношения."
   ]
  },
  {
   "cell_type": "code",
   "execution_count": 7,
   "metadata": {},
   "outputs": [],
   "source": [
    "col_drop = ['DateCrawled', 'LastSeen', 'DateCreated', 'NumberOfPictures']\n",
    "df = df.drop(columns=col_drop)\n",
    "\n",
    "cat_columns = ['VehicleType', 'Gearbox', 'Model', 'FuelType',\n",
    "           'Brand', 'RegistrationMonth', 'NotRepaired']"
   ]
  },
  {
   "cell_type": "markdown",
   "metadata": {},
   "source": [
    "<div class=\"alert alert-block alert-success\">\n",
    "<b>Успех:</b> Согласен, что даты и константный признак нам не нужны.\n",
    "</div>"
   ]
  },
  {
   "cell_type": "markdown",
   "metadata": {},
   "source": [
    "Создадим функцию show_na, которая выводит данные о пробелах и применим её:"
   ]
  },
  {
   "cell_type": "code",
   "execution_count": 8,
   "metadata": {},
   "outputs": [
    {
     "data": {
      "text/html": [
       "<div>\n",
       "<style scoped>\n",
       "    .dataframe tbody tr th:only-of-type {\n",
       "        vertical-align: middle;\n",
       "    }\n",
       "\n",
       "    .dataframe tbody tr th {\n",
       "        vertical-align: top;\n",
       "    }\n",
       "\n",
       "    .dataframe thead th {\n",
       "        text-align: right;\n",
       "    }\n",
       "</style>\n",
       "<table border=\"1\" class=\"dataframe\">\n",
       "  <thead>\n",
       "    <tr style=\"text-align: right;\">\n",
       "      <th></th>\n",
       "      <th>percent</th>\n",
       "      <th>abs</th>\n",
       "    </tr>\n",
       "  </thead>\n",
       "  <tbody>\n",
       "    <tr>\n",
       "      <td>NotRepaired</td>\n",
       "      <td>0.200791</td>\n",
       "      <td>71154</td>\n",
       "    </tr>\n",
       "    <tr>\n",
       "      <td>VehicleType</td>\n",
       "      <td>0.105794</td>\n",
       "      <td>37490</td>\n",
       "    </tr>\n",
       "    <tr>\n",
       "      <td>FuelType</td>\n",
       "      <td>0.092827</td>\n",
       "      <td>32895</td>\n",
       "    </tr>\n",
       "    <tr>\n",
       "      <td>Gearbox</td>\n",
       "      <td>0.055967</td>\n",
       "      <td>19833</td>\n",
       "    </tr>\n",
       "    <tr>\n",
       "      <td>Model</td>\n",
       "      <td>0.055606</td>\n",
       "      <td>19705</td>\n",
       "    </tr>\n",
       "    <tr>\n",
       "      <td>Price</td>\n",
       "      <td>0.000000</td>\n",
       "      <td>0</td>\n",
       "    </tr>\n",
       "    <tr>\n",
       "      <td>RegistrationYear</td>\n",
       "      <td>0.000000</td>\n",
       "      <td>0</td>\n",
       "    </tr>\n",
       "    <tr>\n",
       "      <td>Power</td>\n",
       "      <td>0.000000</td>\n",
       "      <td>0</td>\n",
       "    </tr>\n",
       "    <tr>\n",
       "      <td>Kilometer</td>\n",
       "      <td>0.000000</td>\n",
       "      <td>0</td>\n",
       "    </tr>\n",
       "    <tr>\n",
       "      <td>RegistrationMonth</td>\n",
       "      <td>0.000000</td>\n",
       "      <td>0</td>\n",
       "    </tr>\n",
       "    <tr>\n",
       "      <td>Brand</td>\n",
       "      <td>0.000000</td>\n",
       "      <td>0</td>\n",
       "    </tr>\n",
       "    <tr>\n",
       "      <td>PostalCode</td>\n",
       "      <td>0.000000</td>\n",
       "      <td>0</td>\n",
       "    </tr>\n",
       "  </tbody>\n",
       "</table>\n",
       "</div>"
      ],
      "text/plain": [
       "                    percent    abs\n",
       "NotRepaired        0.200791  71154\n",
       "VehicleType        0.105794  37490\n",
       "FuelType           0.092827  32895\n",
       "Gearbox            0.055967  19833\n",
       "Model              0.055606  19705\n",
       "Price              0.000000      0\n",
       "RegistrationYear   0.000000      0\n",
       "Power              0.000000      0\n",
       "Kilometer          0.000000      0\n",
       "RegistrationMonth  0.000000      0\n",
       "Brand              0.000000      0\n",
       "PostalCode         0.000000      0"
      ]
     },
     "execution_count": 8,
     "metadata": {},
     "output_type": "execute_result"
    }
   ],
   "source": [
    "def show_na(df):\n",
    "    data_info = (df.isna() | df.isnull()).sum()\n",
    "    res = (pd.concat([data_info / df.shape[0], data_info], axis=1,  keys=['percent', 'abs'])\n",
    "           .sort_values('percent', ascending=False))\n",
    "    return res\n",
    "\n",
    "show_na(df)"
   ]
  },
  {
   "cell_type": "markdown",
   "metadata": {},
   "source": [
    "Заполним пропуски:"
   ]
  },
  {
   "cell_type": "code",
   "execution_count": 9,
   "metadata": {
    "scrolled": true
   },
   "outputs": [
    {
     "data": {
      "text/plain": [
       "0"
      ]
     },
     "execution_count": 9,
     "metadata": {},
     "output_type": "execute_result"
    }
   ],
   "source": [
    "df[cat_columns] = df[cat_columns].fillna('Nan')\n",
    "df.isna().sum().sum()"
   ]
  },
  {
   "cell_type": "markdown",
   "metadata": {},
   "source": [
    "<div class=\"alert alert-block alert-success\">\n",
    "<b>Успех:</b> Заполнить пропуски таким образом – хорошее и достаточно безопасное решение.\n",
    "</div>"
   ]
  },
  {
   "cell_type": "markdown",
   "metadata": {},
   "source": [
    "<div class=\"alert alert-block alert-danger\">\n",
    "<b>Ошибка:</b> В данных етсь аномалии. Пожалуйста, удали их.\n",
    "</div>"
   ]
  },
  {
   "cell_type": "markdown",
   "metadata": {},
   "source": [
    "<div class=\"alert alert-block alert-warning\">\n",
    "<b>Комментарий студента:</b> Перенёс комментарий повыше - до гистограмм. По поводу аномалий. Можно попробовать решить вопрос с годом (выбросы явно выходят за рамки логики) и что-то решить с price и power. Приступим:\n",
    "</div>"
   ]
  },
  {
   "cell_type": "code",
   "execution_count": 10,
   "metadata": {},
   "outputs": [],
   "source": [
    "def year(value):\n",
    "    if value > 2020:\n",
    "        return 2020\n",
    "    elif value < 1930:\n",
    "        return 1930\n",
    "    else:\n",
    "        return value\n",
    "df[\"RegistrationYear\"] = df[\"RegistrationYear\"].apply(year)\n",
    "df.loc[df['RegistrationMonth'] == 0, 'RegistrationMonth'] = 1\n",
    "df.loc[df['Power'] > 3500, 'Power'] = 3500"
   ]
  },
  {
   "cell_type": "code",
   "execution_count": 11,
   "metadata": {},
   "outputs": [],
   "source": [
    "def pricepower(frame,column):\n",
    "    q25=np.array(frame[column].quantile(0.25))\n",
    "    \n",
    "    q75=np.array(frame[column].quantile(0.75))\n",
    "    first_part=q25-1.5*(q75-q25)\n",
    "    second_part=q75+1.5*(q75-q25)\n",
    "    del_index = []\n",
    "    for index_value, value in zip(frame[column].index,frame[column]):\n",
    "        if second_part <= value or value <= first_part:\n",
    "            del_index.append(index_value)\n",
    "    \n",
    "    print('Количество строк, выбранных для удаления ' + str(column)+\":\",len(del_index))\n",
    "    return del_index"
   ]
  },
  {
   "cell_type": "code",
   "execution_count": 12,
   "metadata": {},
   "outputs": [
    {
     "name": "stdout",
     "output_type": "stream",
     "text": [
      "Количество строк, выбранных для удаления Price: 18979\n",
      "Количество строк, выбранных для удаления Power: 5153\n",
      "Было удалено: 24132\n"
     ]
    }
   ],
   "source": [
    "array_num_col = [\"Price\",\"Power\"]\n",
    "count = 0 \n",
    "for column in array_num_col:\n",
    "    index_del = pricepower(df,column)\n",
    "    count += len(index_del)\n",
    "    df = df.drop(index_del,axis = 0)\n",
    "print(\"Было удалено:\", count)"
   ]
  },
  {
   "cell_type": "markdown",
   "metadata": {},
   "source": [
    "А теперь снова: Построим гистограммы по основным параметрам:"
   ]
  },
  {
   "cell_type": "code",
   "execution_count": 13,
   "metadata": {},
   "outputs": [
    {
     "data": {
      "image/png": "[encoded data removed]",
      "text/plain": [
       "<Figure size 432x288 with 1 Axes>"
      ]
     },
     "metadata": {
      "needs_background": "light"
     },
     "output_type": "display_data"
    },
    {
     "data": {
      "image/png": "[encoded data removed]",
      "text/plain": [
       "<Figure size 432x288 with 1 Axes>"
      ]
     },
     "metadata": {
      "needs_background": "light"
     },
     "output_type": "display_data"
    },
    {
     "data": {
      "image/png": "[encoded data removed]",
      "text/plain": [
       "<Figure size 432x288 with 1 Axes>"
      ]
     },
     "metadata": {
      "needs_background": "light"
     },
     "output_type": "display_data"
    },
    {
     "data": {
      "image/png": "[encoded data removed]",
      "text/plain": [
       "<Figure size 432x288 with 1 Axes>"
      ]
     },
     "metadata": {
      "needs_background": "light"
     },
     "output_type": "display_data"
    },
    {
     "data": {
      "image/png": "[encoded data removed]",
      "text/plain": [
       "<Figure size 432x288 with 1 Axes>"
      ]
     },
     "metadata": {
      "needs_background": "light"
     },
     "output_type": "display_data"
    },
    {
     "data": {
      "image/png": "[encoded data removed]",
      "text/plain": [
       "<Figure size 432x288 with 1 Axes>"
      ]
     },
     "metadata": {
      "needs_background": "light"
     },
     "output_type": "display_data"
    }
   ],
   "source": [
    "numerical = df.select_dtypes(include='number')\n",
    "\n",
    "for col in numerical:\n",
    "    df[col].plot.box()\n",
    "    plt.title(col)\n",
    "    plt.show()"
   ]
  },
  {
   "cell_type": "markdown",
   "metadata": {},
   "source": [
    "<div class=\"alert alert-block alert-success\">\n",
    "<b>Успех (ревью 2):</b> Спасибо!\n",
    "</div>"
   ]
  },
  {
   "cell_type": "markdown",
   "metadata": {},
   "source": [
    "## Обучение моделей"
   ]
  },
  {
   "cell_type": "markdown",
   "metadata": {},
   "source": [
    "Мы напишем функцию model_eval, на вход которой будут подаваться модель и датасеты, а она будет возвращать время обучения, время предсказания и rmse."
   ]
  },
  {
   "cell_type": "code",
   "execution_count": 14,
   "metadata": {},
   "outputs": [],
   "source": [
    "def model_eval(model, X_train, y_train, X_test, y_test):\n",
    "    \n",
    "    start = time.time()    \n",
    "    model.fit(X_train, y_train)\n",
    "    training_time = time.time() - start\n",
    "    \n",
    "    start = time.time()  \n",
    "    y_pred = model.predict(X_test)\n",
    "    predict_time = time.time() - start\n",
    "\n",
    "    return training_time, predict_time, mse(y_test, y_pred)**0.5"
   ]
  },
  {
   "cell_type": "markdown",
   "metadata": {},
   "source": [
    "И разобьём данные на train и test, в соотношении 4 к 1, а сам train на train_valid и valid, так же в соотношении 4 к 1."
   ]
  },
  {
   "cell_type": "code",
   "execution_count": 15,
   "metadata": {},
   "outputs": [],
   "source": [
    "X = df.drop(columns='Price')\n",
    "y = df['Price']\n",
    "\n",
    "X_train, X_test, y_train, y_test = train_test_split(X, y, test_size=0.2, random_state=21)\n",
    "X_train_valid, X_valid, y_train_valid, y_valid = train_test_split(X_train, y_train, test_size=0.2, random_state=21)"
   ]
  },
  {
   "cell_type": "markdown",
   "metadata": {},
   "source": [
    "<div class=\"alert alert-block alert-success\">\n",
    "<b>Успех:</b> Разбиение было сделано правильно.\n",
    "</div>"
   ]
  },
  {
   "cell_type": "markdown",
   "metadata": {},
   "source": [
    "## Ridge"
   ]
  },
  {
   "cell_type": "markdown",
   "metadata": {},
   "source": [
    "Подготовим пайплайн OHE -> scaler -> ridge, найдём лучшие параметры модели на кросс-валидации, измерим время."
   ]
  },
  {
   "cell_type": "code",
   "execution_count": 16,
   "metadata": {},
   "outputs": [],
   "source": [
    "res = []"
   ]
  },
  {
   "cell_type": "code",
   "execution_count": 17,
   "metadata": {},
   "outputs": [],
   "source": [
    "pipe = Pipeline([\n",
    "    ('ohe', OneHotEncoder(handle_unknown='ignore')),\n",
    "    ('scaler', StandardScaler(with_mean=False)),\n",
    "    ('model', Ridge(random_state=21))\n",
    "])\n",
    "\n",
    "params = [\n",
    "    {\n",
    "        'model__alpha': np.logspace(-2, 2, 20)\n",
    "    } \n",
    "]"
   ]
  },
  {
   "cell_type": "code",
   "execution_count": 18,
   "metadata": {},
   "outputs": [],
   "source": [
    "cv = KFold(n_splits=3, shuffle=True, random_state=21)\n",
    "\n",
    "grid = GridSearchCV(pipe,\n",
    "                    param_grid=params,\n",
    "                    cv=cv,\n",
    "                    scoring='neg_mean_squared_error',\n",
    "                    n_jobs=-1,\n",
    "                    verbose=False)"
   ]
  },
  {
   "cell_type": "code",
   "execution_count": 19,
   "metadata": {},
   "outputs": [
    {
     "name": "stdout",
     "output_type": "stream",
     "text": [
      "CPU times: user 4min 55s, sys: 2.72 s, total: 4min 58s\n",
      "Wall time: 5min 3s\n"
     ]
    },
    {
     "data": {
      "text/plain": [
       "GridSearchCV(cv=KFold(n_splits=3, random_state=21, shuffle=True),\n",
       "             error_score='raise-deprecating',\n",
       "             estimator=Pipeline(memory=None,\n",
       "                                steps=[('ohe',\n",
       "                                        OneHotEncoder(categorical_features=None,\n",
       "                                                      categories=None,\n",
       "                                                      drop=None,\n",
       "                                                      dtype=<class 'numpy.float64'>,\n",
       "                                                      handle_unknown='ignore',\n",
       "                                                      n_values=None,\n",
       "                                                      sparse=True)),\n",
       "                                       ('scaler',\n",
       "                                        StandardScaler(copy=True,\n",
       "                                                       with_mean=False,\n",
       "                                                       with_std=Tru...\n",
       "       6.95192796e-02, 1.12883789e-01, 1.83298071e-01, 2.97635144e-01,\n",
       "       4.83293024e-01, 7.84759970e-01, 1.27427499e+00, 2.06913808e+00,\n",
       "       3.35981829e+00, 5.45559478e+00, 8.85866790e+00, 1.43844989e+01,\n",
       "       2.33572147e+01, 3.79269019e+01, 6.15848211e+01, 1.00000000e+02])}],\n",
       "             pre_dispatch='2*n_jobs', refit=True, return_train_score=False,\n",
       "             scoring='neg_mean_squared_error', verbose=False)"
      ]
     },
     "execution_count": 19,
     "metadata": {},
     "output_type": "execute_result"
    }
   ],
   "source": [
    "%%time\n",
    "grid.fit(X_train_valid, y_train_valid);"
   ]
  },
  {
   "cell_type": "markdown",
   "metadata": {},
   "source": [
    "Зафиксируем результат, применим best_params_"
   ]
  },
  {
   "cell_type": "code",
   "execution_count": 20,
   "metadata": {},
   "outputs": [
    {
     "data": {
      "text/plain": [
       "{'model__alpha': 100.0}"
      ]
     },
     "execution_count": 20,
     "metadata": {},
     "output_type": "execute_result"
    }
   ],
   "source": [
    "grid.best_params_"
   ]
  },
  {
   "cell_type": "markdown",
   "metadata": {},
   "source": [
    "Добавим в массив для последующего наглядного сравнения."
   ]
  },
  {
   "cell_type": "code",
   "execution_count": 21,
   "metadata": {},
   "outputs": [],
   "source": [
    "res.append(model_eval(grid.best_estimator_, X_train_valid, y_train_valid, X_valid, y_valid))"
   ]
  },
  {
   "cell_type": "markdown",
   "metadata": {},
   "source": [
    "## LightGBM "
   ]
  },
  {
   "cell_type": "markdown",
   "metadata": {},
   "source": [
    "Что касается LightGBM, подготовим категориальные признаки через Label Encoder, найдём лучшие параметры (Scikit-learn), замерим время, обучив модель по всей train-выборке."
   ]
  },
  {
   "cell_type": "markdown",
   "metadata": {},
   "source": [
    "<div class=\"alert alert-block alert-warning\">\n",
    "<b>Комментарий студента:</b> Закомментируем.\n",
    "</div>"
   ]
  },
  {
   "cell_type": "markdown",
   "metadata": {},
   "source": [
    "encoder = LabelEncoder()\n",
    "\n",
    "lgb_train = X_train_valid.copy()\n",
    "lgb_test = X_valid.copy()\n",
    "lgb_full_train = X_train.copy()\n",
    "lgb_full_test = X_test.copy()\n",
    "\n",
    "\n",
    "cat_col_num = []\n",
    "\n",
    "for col in cat_columns:\n",
    "    lgb_train[col] = encoder.fit_transform(lgb_train[col])\n",
    "    lgb_test[col] = encoder.transform(lgb_test[col])\n",
    "    lgb_full_train[col] = encoder.fit_transform(lgb_full_train[col])\n",
    "    lgb_full_test[col] = encoder.transform(lgb_full_test[col])\n",
    "    cat_col_num.append(df.columns.to_list().index(col))\n",
    "\n",
    "gbm = lgb.LGBMRegressor(boosting_type='gbdt', verbose=0, seed=21)\n",
    "\n",
    "\n",
    "params = {\n",
    "    'learning_rate': np.logspace(-3, 0, 5),\n",
    "    'n_estimators': [40, 60],\n",
    "    'num_leaves': [21, 31, 41],\n",
    "}\n",
    "\n",
    "grid_gbm = GridSearchCV(gbm,\n",
    "                        params,\n",
    "                        cv=cv,\n",
    "                        scoring='neg_mean_squared_error',\n",
    "                        verbose=True)"
   ]
  },
  {
   "cell_type": "markdown",
   "metadata": {},
   "source": [
    "<div class=\"alert alert-block alert-danger\">\n",
    "<b>Ошибка:</b> LabelEncoder предназначен для кодировки целевой колонки, так указано в <a href=\"https://scikit-learn.org/stable/modules/generated/sklearn.preprocessing.LabelEncoder.html\">документации</a>. Для кодировки признаков лучше использовать OrdinalEncoder.\n",
    "</div>\n",
    "\n",
    "<div class=\"alert alert-block alert-info\">\n",
    "<b>Совет: </b> У модели lightGBM также существует внутренний метод кодировки. Для этого достаточно изменить тип колонок с категориальными признаками на соответствующий: .astype('category').\n",
    "</div>"
   ]
  },
  {
   "cell_type": "code",
   "execution_count": 22,
   "metadata": {},
   "outputs": [],
   "source": [
    "encoder = OrdinalEncoder()\n",
    "\n",
    "lgb_train = X_train_valid.copy()\n",
    "lgb_test = X_valid.copy()\n",
    "lgb_full_train = X_train.copy()\n",
    "lgb_full_test = X_test.copy()\n",
    "\n",
    "cat_col_num = []"
   ]
  },
  {
   "cell_type": "markdown",
   "metadata": {},
   "source": [
    "<div class=\"alert alert-block alert-warning\">\n",
    "<b>Комментарий студента:</b> Вот здесь затык, и пока что никто в чатах не смог помочь. Пытался и так и эдак, ориентировался сюда https://coderoad.ru/56502864/%D0%98%D1%81%D0%BF%D0%BE%D0%BB%D1%8C%D0%B7%D0%BE%D0%B2%D0%B0%D0%BD%D0%B8%D0%B5-OrdinalEncoder-%D0%B4%D0%BB%D1%8F-%D0%BF%D1%80%D0%B5%D0%BE%D0%B1%D1%80%D0%B0%D0%B7%D0%BE%D0%B2%D0%B0%D0%BD%D0%B8%D1%8F-%D0%BA%D0%B0%D1%82%D0%B5%D0%B3%D0%BE%D1%80%D0%B8%D0%B0%D0%BB%D1%8C%D0%BD%D1%8B%D1%85-%D0%B7%D0%BD%D0%B0%D1%87%D0%B5%D0%BD%D0%B8%D0%B9-%D0%B2 \n",
    "    Явно что-то не понимаю.\n",
    "    Тут тоже читал: https://scikit-learn.org/stable/modules/generated/sklearn.preprocessing.OrdinalEncoder.html\n",
    "    Вернул пока ниже старый код, чтобы не позориться. Подскажи, пожалуйста.\n",
    "</div>"
   ]
  },
  {
   "cell_type": "code",
   "execution_count": 27,
   "metadata": {
    "scrolled": true
   },
   "outputs": [],
   "source": [
    "for col in cat_columns:\n",
    "    lgb_train[[col]] = encoder.fit_transform(lgb_train[[col]])\n",
    "    lgb_test[[col]] = encoder.fit_transform(lgb_test[[col]])\n",
    "    lgb_full_train[[col]] = encoder.fit_transform(lgb_full_train[[col]])\n",
    "    lgb_full_test[[col]] = encoder.fit_transform(lgb_full_test[[col]])\n",
    "    cat_col_num.append(df.columns.to_list().index(col))"
   ]
  },
  {
   "cell_type": "markdown",
   "metadata": {},
   "source": [
    "<div class=\"alert alert-block alert-danger\">\n",
    "\n",
    "<b>Ошибка (ревью 2):</b> OrdinalEncoder применяется к датафрейму (двумерному массиву), а LaberEncoder к одной колонке (одномерному массиву). Корректнее всего применить OrdinalEncoder ко всему датасету и передать в параметр cat_features категориальные колонки, но можешь просто заменить `lgb_train[col]` на `lgb_train[[col]]`.\n",
    "</div>"
   ]
  },
  {
   "cell_type": "markdown",
   "metadata": {},
   "source": [
    "<div class=\"alert alert-block alert-warning\">\n",
    "<b>Комментарий студента:</b> Ок.\n",
    "</div>"
   ]
  },
  {
   "cell_type": "code",
   "execution_count": 28,
   "metadata": {},
   "outputs": [],
   "source": [
    "gbm = lgb.LGBMRegressor(boosting_type='gbdt', verbose=0, seed=21)\n",
    "\n",
    "\n",
    "params = {\n",
    "    'learning_rate': np.logspace(-3, 0, 5),\n",
    "    'n_estimators': [40, 60],\n",
    "    'num_leaves': [21, 31, 41],\n",
    "}\n",
    "\n",
    "grid_gbm = GridSearchCV(gbm,\n",
    "                        params,\n",
    "                        cv=cv,\n",
    "                        scoring='neg_mean_squared_error',\n",
    "                        verbose=True)"
   ]
  },
  {
   "cell_type": "code",
   "execution_count": 29,
   "metadata": {},
   "outputs": [
    {
     "name": "stdout",
     "output_type": "stream",
     "text": [
      "Fitting 3 folds for each of 30 candidates, totalling 90 fits\n"
     ]
    },
    {
     "name": "stderr",
     "output_type": "stream",
     "text": [
      "[Parallel(n_jobs=1)]: Using backend SequentialBackend with 1 concurrent workers.\n",
      "[Parallel(n_jobs=1)]: Done  90 out of  90 | elapsed:  6.0min finished\n"
     ]
    },
    {
     "name": "stdout",
     "output_type": "stream",
     "text": [
      "CPU times: user 5min 57s, sys: 1.4 s, total: 5min 58s\n",
      "Wall time: 6min 3s\n"
     ]
    },
    {
     "data": {
      "text/plain": [
       "GridSearchCV(cv=KFold(n_splits=3, random_state=21, shuffle=True),\n",
       "             error_score='raise-deprecating',\n",
       "             estimator=LGBMRegressor(boosting_type='gbdt', class_weight=None,\n",
       "                                     colsample_bytree=1.0,\n",
       "                                     importance_type='split', learning_rate=0.1,\n",
       "                                     max_depth=-1, min_child_samples=20,\n",
       "                                     min_child_weight=0.001, min_split_gain=0.0,\n",
       "                                     n_estimators=100, n_jobs=-1, num_leaves=31,\n",
       "                                     objective=No...\n",
       "                                     reg_alpha=0.0, reg_lambda=0.0, seed=21,\n",
       "                                     silent=True, subsample=1.0,\n",
       "                                     subsample_for_bin=200000, subsample_freq=0,\n",
       "                                     verbose=0),\n",
       "             iid='warn', n_jobs=None,\n",
       "             param_grid={'learning_rate': array([0.001     , 0.00562341, 0.03162278, 0.17782794, 1.        ]),\n",
       "                         'n_estimators': [40, 60], 'num_leaves': [21, 31, 41]},\n",
       "             pre_dispatch='2*n_jobs', refit=True, return_train_score=False,\n",
       "             scoring='neg_mean_squared_error', verbose=True)"
      ]
     },
     "execution_count": 29,
     "metadata": {},
     "output_type": "execute_result"
    }
   ],
   "source": [
    "%%time\n",
    "grid_gbm.fit(lgb_train, y_train_valid);"
   ]
  },
  {
   "cell_type": "markdown",
   "metadata": {},
   "source": [
    "Далее, делаем всё то же самое, что и выше:"
   ]
  },
  {
   "cell_type": "code",
   "execution_count": 30,
   "metadata": {},
   "outputs": [
    {
     "data": {
      "text/plain": [
       "{'learning_rate': 0.1778279410038923, 'n_estimators': 60, 'num_leaves': 41}"
      ]
     },
     "execution_count": 30,
     "metadata": {},
     "output_type": "execute_result"
    }
   ],
   "source": [
    "grid_gbm.best_params_"
   ]
  },
  {
   "cell_type": "code",
   "execution_count": 31,
   "metadata": {},
   "outputs": [],
   "source": [
    "res.append(model_eval(grid_gbm.best_estimator_, lgb_train, y_train_valid, lgb_test, y_valid))"
   ]
  },
  {
   "cell_type": "markdown",
   "metadata": {},
   "source": [
    "## CatBoost"
   ]
  },
  {
   "cell_type": "markdown",
   "metadata": {},
   "source": [
    "Всё аналогично."
   ]
  },
  {
   "cell_type": "code",
   "execution_count": 32,
   "metadata": {},
   "outputs": [],
   "source": [
    "cbr = CatBoostRegressor(random_seed=21,\n",
    "                        loss_function='RMSE',\n",
    "                        silent=True,\n",
    "                        cat_features=cat_columns)\n",
    "\n",
    "params = {\n",
    "    'learning_rate': np.logspace(-3, 0, 5),\n",
    "    'iterations': [40, 60],\n",
    "    'depth': [6, 8, 10],\n",
    "}\n",
    "\n",
    "grid_cbr = GridSearchCV(cbr,\n",
    "                        params,\n",
    "                        cv=cv,\n",
    "                        scoring='neg_mean_squared_error',\n",
    "                        verbose=False)"
   ]
  },
  {
   "cell_type": "code",
   "execution_count": 33,
   "metadata": {},
   "outputs": [
    {
     "name": "stdout",
     "output_type": "stream",
     "text": [
      "CPU times: user 16min 15s, sys: 1min 39s, total: 17min 55s\n",
      "Wall time: 19min 40s\n"
     ]
    },
    {
     "data": {
      "text/plain": [
       "GridSearchCV(cv=KFold(n_splits=3, random_state=21, shuffle=True),\n",
       "             error_score='raise-deprecating',\n",
       "             estimator=<catboost.core.CatBoostRegressor object at 0x7fa353827e50>,\n",
       "             iid='warn', n_jobs=None,\n",
       "             param_grid={'depth': [6, 8, 10], 'iterations': [40, 60],\n",
       "                         'learning_rate': array([0.001     , 0.00562341, 0.03162278, 0.17782794, 1.        ])},\n",
       "             pre_dispatch='2*n_jobs', refit=True, return_train_score=False,\n",
       "             scoring='neg_mean_squared_error', verbose=False)"
      ]
     },
     "execution_count": 33,
     "metadata": {},
     "output_type": "execute_result"
    }
   ],
   "source": [
    "%%time\n",
    "grid_cbr.fit(X_train_valid, y_train_valid);"
   ]
  },
  {
   "cell_type": "code",
   "execution_count": 34,
   "metadata": {},
   "outputs": [
    {
     "data": {
      "text/plain": [
       "{'depth': 10, 'iterations': 60, 'learning_rate': 0.1778279410038923}"
      ]
     },
     "execution_count": 34,
     "metadata": {},
     "output_type": "execute_result"
    }
   ],
   "source": [
    "grid_cbr.best_params_"
   ]
  },
  {
   "cell_type": "code",
   "execution_count": 35,
   "metadata": {},
   "outputs": [],
   "source": [
    "res.append(model_eval(grid_cbr.best_estimator_, X_train_valid, y_train_valid, X_valid, y_valid))"
   ]
  },
  {
   "cell_type": "markdown",
   "metadata": {},
   "source": [
    "<div class=\"alert alert-block alert-success\">\n",
    "<b>Успех:</b> Радует, что ты попробовал несколько разных моделей!\n",
    "</div>"
   ]
  },
  {
   "cell_type": "markdown",
   "metadata": {},
   "source": [
    "# Анализ моделей"
   ]
  },
  {
   "cell_type": "markdown",
   "metadata": {},
   "source": [
    "Нам необходимо соединить данные в один датафрейм и посмотреть результаты на валидационной выборке."
   ]
  },
  {
   "cell_type": "code",
   "execution_count": 36,
   "metadata": {},
   "outputs": [
    {
     "data": {
      "text/html": [
       "<div>\n",
       "<style scoped>\n",
       "    .dataframe tbody tr th:only-of-type {\n",
       "        vertical-align: middle;\n",
       "    }\n",
       "\n",
       "    .dataframe tbody tr th {\n",
       "        vertical-align: top;\n",
       "    }\n",
       "\n",
       "    .dataframe thead th {\n",
       "        text-align: right;\n",
       "    }\n",
       "</style>\n",
       "<table border=\"1\" class=\"dataframe\">\n",
       "  <thead>\n",
       "    <tr style=\"text-align: right;\">\n",
       "      <th></th>\n",
       "      <th>training_time</th>\n",
       "      <th>predict_time</th>\n",
       "      <th>score</th>\n",
       "    </tr>\n",
       "  </thead>\n",
       "  <tbody>\n",
       "    <tr>\n",
       "      <td>Ridge</td>\n",
       "      <td>7.635958</td>\n",
       "      <td>0.117303</td>\n",
       "      <td>1736.652808</td>\n",
       "    </tr>\n",
       "    <tr>\n",
       "      <td>LightGBM</td>\n",
       "      <td>5.684302</td>\n",
       "      <td>0.302475</td>\n",
       "      <td>1515.206004</td>\n",
       "    </tr>\n",
       "    <tr>\n",
       "      <td>CatBoost</td>\n",
       "      <td>23.105069</td>\n",
       "      <td>0.161013</td>\n",
       "      <td>1483.870332</td>\n",
       "    </tr>\n",
       "  </tbody>\n",
       "</table>\n",
       "</div>"
      ],
      "text/plain": [
       "          training_time  predict_time        score\n",
       "Ridge          7.635958      0.117303  1736.652808\n",
       "LightGBM       5.684302      0.302475  1515.206004\n",
       "CatBoost      23.105069      0.161013  1483.870332"
      ]
     },
     "execution_count": 36,
     "metadata": {},
     "output_type": "execute_result"
    }
   ],
   "source": [
    "pd.DataFrame(data=res,\n",
    "             index=['Ridge', 'LightGBM', 'CatBoost'],\n",
    "             columns=['training_time', 'predict_time', 'score'])"
   ]
  },
  {
   "cell_type": "markdown",
   "metadata": {},
   "source": [
    "<div class=\"alert alert-block alert-success\">\n",
    "<b>Успех:</b> Собрать все показатели в одной таблице – хорошая идея!\n",
    "</div>"
   ]
  },
  {
   "cell_type": "markdown",
   "metadata": {},
   "source": [
    "<b>В данном случае, наиболее подходящей моделью с оптимальным качеством и быстродействием оказался LightGBM</b>. "
   ]
  },
  {
   "cell_type": "markdown",
   "metadata": {},
   "source": [
    "Результат: Заказчик должен посмотреть на предъявленную таблицу и остаться доволен! Теперь у него не будет проблем в определении стоимости."
   ]
  },
  {
   "cell_type": "markdown",
   "metadata": {},
   "source": [
    "<div class=\"alert alert-block alert-info\">\n",
    "<b>Совет: </b> Желательно было сделать финальный вывод подробнее.\n",
    "</div>"
   ]
  },
  {
   "cell_type": "markdown",
   "metadata": {},
   "source": [
    "<div class=\"alert alert-block alert-warning\">\n",
    "<b>Комментарий студента:</b> В принципе, я всегда пишу вывод, но в этом случае, мне показалось, очень удачный вариант с таблицей.\n",
    "</div>"
   ]
  },
  {
   "cell_type": "markdown",
   "metadata": {},
   "source": [
    "## Чек-лист проверки"
   ]
  },
  {
   "cell_type": "markdown",
   "metadata": {},
   "source": [
    "Поставьте 'x' в выполненных пунктах. Далее нажмите Shift+Enter."
   ]
  },
  {
   "cell_type": "markdown",
   "metadata": {},
   "source": [
    "- [x]  Jupyter Notebook открыт\n",
    "- [ ]  Весь код выполняется без ошибок\n",
    "- [ ]  Ячейки с кодом расположены в порядке исполнения\n",
    "- [ ]  Выполнена загрузка и подготовка данных\n",
    "- [ ]  Выполнено обучение моделей\n",
    "- [ ]  Есть анализ скорости работы и качества моделей"
   ]
  }
 ],
 "metadata": {
  "ExecuteTimeLog": [
   {
    "duration": 1200,
    "start_time": "2021-09-20T09:43:43.132Z"
   },
   {
    "duration": 3475,
    "start_time": "2021-09-20T09:43:44.334Z"
   },
   {
    "duration": 4,
    "start_time": "2021-09-20T09:43:47.812Z"
   },
   {
    "duration": 135,
    "start_time": "2021-09-20T09:43:47.819Z"
   },
   {
    "duration": 126,
    "start_time": "2021-09-20T09:43:47.955Z"
   },
   {
    "duration": 51,
    "start_time": "2021-09-20T09:43:48.083Z"
   },
   {
    "duration": 41,
    "start_time": "2021-09-20T09:43:48.136Z"
   },
   {
    "duration": 199,
    "start_time": "2021-09-20T09:43:48.179Z"
   },
   {
    "duration": 21,
    "start_time": "2021-09-20T09:43:48.380Z"
   },
   {
    "duration": 33,
    "start_time": "2021-09-20T09:43:48.402Z"
   },
   {
    "duration": 114,
    "start_time": "2021-09-20T09:43:48.437Z"
   },
   {
    "duration": 377,
    "start_time": "2021-09-20T09:43:48.176Z"
   },
   {
    "duration": 372,
    "start_time": "2021-09-20T09:43:48.182Z"
   },
   {
    "duration": 371,
    "start_time": "2021-09-20T09:43:48.184Z"
   },
   {
    "duration": 370,
    "start_time": "2021-09-20T09:43:48.186Z"
   },
   {
    "duration": 368,
    "start_time": "2021-09-20T09:43:48.189Z"
   },
   {
    "duration": 367,
    "start_time": "2021-09-20T09:43:48.191Z"
   },
   {
    "duration": 366,
    "start_time": "2021-09-20T09:43:48.193Z"
   },
   {
    "duration": 365,
    "start_time": "2021-09-20T09:43:48.195Z"
   },
   {
    "duration": 364,
    "start_time": "2021-09-20T09:43:48.197Z"
   },
   {
    "duration": 365,
    "start_time": "2021-09-20T09:43:48.198Z"
   },
   {
    "duration": 365,
    "start_time": "2021-09-20T09:43:48.199Z"
   },
   {
    "duration": 365,
    "start_time": "2021-09-20T09:43:48.200Z"
   },
   {
    "duration": 364,
    "start_time": "2021-09-20T09:43:48.202Z"
   },
   {
    "duration": 361,
    "start_time": "2021-09-20T09:43:48.206Z"
   },
   {
    "duration": 5729,
    "start_time": "2021-09-20T09:44:08.379Z"
   },
   {
    "duration": 24,
    "start_time": "2021-09-20T09:44:14.110Z"
   },
   {
    "duration": 179,
    "start_time": "2021-09-20T09:44:43.141Z"
   },
   {
    "duration": 110,
    "start_time": "2021-09-20T09:44:43.539Z"
   },
   {
    "duration": 1219,
    "start_time": "2021-09-20T09:44:44.145Z"
   },
   {
    "duration": 20,
    "start_time": "2021-09-20T09:44:50.931Z"
   },
   {
    "duration": 19,
    "start_time": "2021-09-20T09:45:25.021Z"
   },
   {
    "duration": 2,
    "start_time": "2021-09-20T09:45:51.642Z"
   },
   {
    "duration": 313,
    "start_time": "2021-09-20T09:45:52.094Z"
   },
   {
    "duration": 88,
    "start_time": "2021-09-20T09:45:52.640Z"
   },
   {
    "duration": 1229,
    "start_time": "2021-09-20T09:47:29.412Z"
   },
   {
    "duration": 1828,
    "start_time": "2021-09-20T09:47:30.643Z"
   },
   {
    "duration": 5,
    "start_time": "2021-09-20T09:47:32.473Z"
   },
   {
    "duration": 132,
    "start_time": "2021-09-20T09:47:32.480Z"
   },
   {
    "duration": 120,
    "start_time": "2021-09-20T09:47:32.614Z"
   },
   {
    "duration": 60,
    "start_time": "2021-09-20T09:47:32.736Z"
   },
   {
    "duration": 29,
    "start_time": "2021-09-20T09:47:32.798Z"
   },
   {
    "duration": 200,
    "start_time": "2021-09-20T09:47:32.830Z"
   },
   {
    "duration": 22,
    "start_time": "2021-09-20T09:47:33.033Z"
   },
   {
    "duration": 46,
    "start_time": "2021-09-20T09:47:33.057Z"
   },
   {
    "duration": 5918,
    "start_time": "2021-09-20T09:47:33.104Z"
   },
   {
    "duration": 24,
    "start_time": "2021-09-20T09:47:39.023Z"
   },
   {
    "duration": 195,
    "start_time": "2021-09-20T09:47:39.049Z"
   },
   {
    "duration": 117,
    "start_time": "2021-09-20T09:47:39.246Z"
   },
   {
    "duration": 1254,
    "start_time": "2021-09-20T09:47:39.365Z"
   },
   {
    "duration": 19,
    "start_time": "2021-09-20T09:47:40.621Z"
   },
   {
    "duration": 3,
    "start_time": "2021-09-20T09:47:40.642Z"
   },
   {
    "duration": 337,
    "start_time": "2021-09-20T09:47:40.647Z"
   },
   {
    "duration": 92,
    "start_time": "2021-09-20T09:47:40.986Z"
   },
   {
    "duration": 2215,
    "start_time": "2021-09-20T09:51:47.213Z"
   },
   {
    "duration": 3126,
    "start_time": "2021-09-20T09:51:49.429Z"
   },
   {
    "duration": 4,
    "start_time": "2021-09-20T09:51:52.557Z"
   },
   {
    "duration": 133,
    "start_time": "2021-09-20T09:51:52.563Z"
   },
   {
    "duration": 124,
    "start_time": "2021-09-20T09:51:52.698Z"
   },
   {
    "duration": 60,
    "start_time": "2021-09-20T09:51:52.824Z"
   },
   {
    "duration": 29,
    "start_time": "2021-09-20T09:51:52.886Z"
   },
   {
    "duration": 208,
    "start_time": "2021-09-20T09:51:52.918Z"
   },
   {
    "duration": 22,
    "start_time": "2021-09-20T09:51:53.128Z"
   },
   {
    "duration": 42,
    "start_time": "2021-09-20T09:51:53.151Z"
   },
   {
    "duration": 5710,
    "start_time": "2021-09-20T09:51:53.195Z"
   },
   {
    "duration": 23,
    "start_time": "2021-09-20T09:51:58.907Z"
   },
   {
    "duration": 194,
    "start_time": "2021-09-20T09:51:58.932Z"
   },
   {
    "duration": 114,
    "start_time": "2021-09-20T09:51:59.128Z"
   },
   {
    "duration": 1259,
    "start_time": "2021-09-20T09:51:59.244Z"
   },
   {
    "duration": 21,
    "start_time": "2021-09-20T09:52:00.505Z"
   },
   {
    "duration": 3,
    "start_time": "2021-09-20T09:52:00.528Z"
   },
   {
    "duration": 358,
    "start_time": "2021-09-20T09:52:00.533Z"
   },
   {
    "duration": 98,
    "start_time": "2021-09-20T09:52:00.893Z"
   },
   {
    "duration": 1225,
    "start_time": "2021-09-20T10:00:59.638Z"
   },
   {
    "duration": 1866,
    "start_time": "2021-09-20T10:01:00.865Z"
   },
   {
    "duration": 4,
    "start_time": "2021-09-20T10:01:02.733Z"
   },
   {
    "duration": 131,
    "start_time": "2021-09-20T10:01:02.739Z"
   },
   {
    "duration": 126,
    "start_time": "2021-09-20T10:01:02.872Z"
   },
   {
    "duration": 51,
    "start_time": "2021-09-20T10:01:03.000Z"
   },
   {
    "duration": 46,
    "start_time": "2021-09-20T10:01:03.053Z"
   },
   {
    "duration": 199,
    "start_time": "2021-09-20T10:01:03.102Z"
   },
   {
    "duration": 22,
    "start_time": "2021-09-20T10:01:03.303Z"
   },
   {
    "duration": 34,
    "start_time": "2021-09-20T10:01:03.326Z"
   },
   {
    "duration": 5686,
    "start_time": "2021-09-20T10:01:03.362Z"
   },
   {
    "duration": 33,
    "start_time": "2021-09-20T10:01:09.050Z"
   },
   {
    "duration": 188,
    "start_time": "2021-09-20T10:01:09.085Z"
   },
   {
    "duration": 117,
    "start_time": "2021-09-20T10:01:09.276Z"
   },
   {
    "duration": 1236,
    "start_time": "2021-09-20T10:01:09.395Z"
   },
   {
    "duration": 19,
    "start_time": "2021-09-20T10:01:10.632Z"
   },
   {
    "duration": 2,
    "start_time": "2021-09-20T10:01:10.653Z"
   },
   {
    "duration": 334,
    "start_time": "2021-09-20T10:01:10.657Z"
   },
   {
    "duration": 97,
    "start_time": "2021-09-20T10:01:10.992Z"
   },
   {
    "duration": 1235,
    "start_time": "2021-09-20T10:03:47.602Z"
   },
   {
    "duration": 1612,
    "start_time": "2021-09-20T10:03:48.840Z"
   },
   {
    "duration": 3,
    "start_time": "2021-09-20T10:03:50.454Z"
   },
   {
    "duration": 135,
    "start_time": "2021-09-20T10:03:50.459Z"
   },
   {
    "duration": 123,
    "start_time": "2021-09-20T10:03:50.596Z"
   },
   {
    "duration": 64,
    "start_time": "2021-09-20T10:03:50.720Z"
   },
   {
    "duration": 30,
    "start_time": "2021-09-20T10:03:50.786Z"
   },
   {
    "duration": 209,
    "start_time": "2021-09-20T10:03:50.819Z"
   },
   {
    "duration": 22,
    "start_time": "2021-09-20T10:03:51.030Z"
   },
   {
    "duration": 43,
    "start_time": "2021-09-20T10:03:51.054Z"
   },
   {
    "duration": 5815,
    "start_time": "2021-09-20T10:03:51.099Z"
   },
   {
    "duration": 24,
    "start_time": "2021-09-20T10:03:56.916Z"
   },
   {
    "duration": 193,
    "start_time": "2021-09-20T10:03:56.941Z"
   },
   {
    "duration": 141,
    "start_time": "2021-09-20T10:03:57.136Z"
   },
   {
    "duration": 1261,
    "start_time": "2021-09-20T10:03:57.280Z"
   },
   {
    "duration": 20,
    "start_time": "2021-09-20T10:03:58.544Z"
   },
   {
    "duration": 3,
    "start_time": "2021-09-20T10:03:58.578Z"
   },
   {
    "duration": 343,
    "start_time": "2021-09-20T10:03:58.583Z"
   },
   {
    "duration": 99,
    "start_time": "2021-09-20T10:03:58.928Z"
   },
   {
    "duration": 551777,
    "start_time": "2021-09-20T10:03:59.029Z"
   },
   {
    "duration": 517,
    "start_time": "2021-09-20T10:13:10.808Z"
   },
   {
    "duration": 370,
    "start_time": "2021-09-20T10:13:10.958Z"
   },
   {
    "duration": 368,
    "start_time": "2021-09-20T10:13:10.961Z"
   },
   {
    "duration": 368,
    "start_time": "2021-09-20T10:13:10.963Z"
   },
   {
    "duration": 366,
    "start_time": "2021-09-20T10:13:10.966Z"
   },
   {
    "duration": 365,
    "start_time": "2021-09-20T10:13:10.968Z"
   },
   {
    "duration": 365,
    "start_time": "2021-09-20T10:13:10.970Z"
   },
   {
    "duration": 363,
    "start_time": "2021-09-20T10:13:10.973Z"
   },
   {
    "duration": 363,
    "start_time": "2021-09-20T10:13:10.975Z"
   },
   {
    "duration": 361,
    "start_time": "2021-09-20T10:13:10.978Z"
   },
   {
    "duration": 360,
    "start_time": "2021-09-20T10:13:10.980Z"
   },
   {
    "duration": 357,
    "start_time": "2021-09-20T10:13:10.985Z"
   },
   {
    "duration": 356,
    "start_time": "2021-09-20T10:13:10.987Z"
   },
   {
    "duration": 355,
    "start_time": "2021-09-20T10:13:10.990Z"
   },
   {
    "duration": 354,
    "start_time": "2021-09-20T10:13:10.992Z"
   },
   {
    "duration": 1260,
    "start_time": "2021-09-20T10:17:01.284Z"
   },
   {
    "duration": 4892,
    "start_time": "2021-09-20T10:17:02.546Z"
   },
   {
    "duration": 4,
    "start_time": "2021-09-20T10:17:07.440Z"
   },
   {
    "duration": 134,
    "start_time": "2021-09-20T10:17:07.446Z"
   },
   {
    "duration": 123,
    "start_time": "2021-09-20T10:17:07.582Z"
   },
   {
    "duration": 53,
    "start_time": "2021-09-20T10:17:07.707Z"
   },
   {
    "duration": 43,
    "start_time": "2021-09-20T10:17:07.761Z"
   },
   {
    "duration": 204,
    "start_time": "2021-09-20T10:17:07.807Z"
   },
   {
    "duration": 22,
    "start_time": "2021-09-20T10:17:08.013Z"
   },
   {
    "duration": 47,
    "start_time": "2021-09-20T10:17:08.037Z"
   },
   {
    "duration": 5757,
    "start_time": "2021-09-20T10:17:08.086Z"
   },
   {
    "duration": 24,
    "start_time": "2021-09-20T10:17:13.845Z"
   },
   {
    "duration": 192,
    "start_time": "2021-09-20T10:17:13.877Z"
   },
   {
    "duration": 118,
    "start_time": "2021-09-20T10:17:14.071Z"
   },
   {
    "duration": 1266,
    "start_time": "2021-09-20T10:17:14.191Z"
   },
   {
    "duration": 24,
    "start_time": "2021-09-20T10:17:15.459Z"
   },
   {
    "duration": 2,
    "start_time": "2021-09-20T10:17:15.485Z"
   },
   {
    "duration": 352,
    "start_time": "2021-09-20T10:17:15.489Z"
   },
   {
    "duration": 105,
    "start_time": "2021-09-20T10:17:15.842Z"
   },
   {
    "duration": 552455,
    "start_time": "2021-09-20T10:17:15.949Z"
   },
   {
    "duration": 589,
    "start_time": "2021-09-20T10:26:28.406Z"
   },
   {
    "duration": 5,
    "start_time": "2021-09-20T10:26:29.076Z"
   },
   {
    "duration": 647,
    "start_time": "2021-09-20T10:26:29.085Z"
   },
   {
    "duration": 57,
    "start_time": "2021-09-20T10:26:29.734Z"
   },
   {
    "duration": 111,
    "start_time": "2021-09-20T10:26:29.793Z"
   },
   {
    "duration": 202,
    "start_time": "2021-09-20T10:26:29.977Z"
   },
   {
    "duration": 95,
    "start_time": "2021-09-20T10:26:30.182Z"
   },
   {
    "duration": 98,
    "start_time": "2021-09-20T10:26:30.280Z"
   },
   {
    "duration": 206,
    "start_time": "2021-09-20T10:26:30.380Z"
   },
   {
    "duration": 99,
    "start_time": "2021-09-20T10:26:30.683Z"
   },
   {
    "duration": 95,
    "start_time": "2021-09-20T10:26:30.785Z"
   },
   {
    "duration": 122,
    "start_time": "2021-09-20T10:26:30.883Z"
   },
   {
    "duration": 73,
    "start_time": "2021-09-20T10:26:31.007Z"
   },
   {
    "duration": 95,
    "start_time": "2021-09-20T10:26:31.083Z"
   },
   {
    "duration": 7,
    "start_time": "2021-09-20T10:26:31.180Z"
   },
   {
    "duration": 22,
    "start_time": "2021-09-20T10:26:31.189Z"
   },
   {
    "duration": 1224,
    "start_time": "2021-09-20T10:38:00.616Z"
   },
   {
    "duration": 3870,
    "start_time": "2021-09-20T10:38:01.841Z"
   },
   {
    "duration": 4,
    "start_time": "2021-09-20T10:38:05.713Z"
   },
   {
    "duration": 133,
    "start_time": "2021-09-20T10:38:05.719Z"
   },
   {
    "duration": 118,
    "start_time": "2021-09-20T10:38:05.854Z"
   },
   {
    "duration": 51,
    "start_time": "2021-09-20T10:38:05.977Z"
   },
   {
    "duration": 31,
    "start_time": "2021-09-20T10:38:06.029Z"
   },
   {
    "duration": 199,
    "start_time": "2021-09-20T10:38:06.077Z"
   },
   {
    "duration": 21,
    "start_time": "2021-09-20T10:38:06.278Z"
   },
   {
    "duration": 33,
    "start_time": "2021-09-20T10:38:06.301Z"
   },
   {
    "duration": 5893,
    "start_time": "2021-09-20T10:38:06.336Z"
   },
   {
    "duration": 26,
    "start_time": "2021-09-20T10:38:12.232Z"
   },
   {
    "duration": 200,
    "start_time": "2021-09-20T10:38:12.260Z"
   },
   {
    "duration": 116,
    "start_time": "2021-09-20T10:38:12.461Z"
   },
   {
    "duration": 1262,
    "start_time": "2021-09-20T10:38:12.579Z"
   },
   {
    "duration": 4,
    "start_time": "2021-09-20T10:38:13.843Z"
   },
   {
    "duration": 13,
    "start_time": "2021-09-20T10:38:13.849Z"
   },
   {
    "duration": 462,
    "start_time": "2021-09-20T10:38:13.864Z"
   },
   {
    "duration": 392,
    "start_time": "2021-09-20T10:38:13.936Z"
   },
   {
    "duration": 388,
    "start_time": "2021-09-20T10:38:13.941Z"
   },
   {
    "duration": 386,
    "start_time": "2021-09-20T10:38:13.945Z"
   },
   {
    "duration": 384,
    "start_time": "2021-09-20T10:38:13.948Z"
   },
   {
    "duration": 1225,
    "start_time": "2021-09-20T10:38:42.219Z"
   },
   {
    "duration": 3127,
    "start_time": "2021-09-20T10:38:43.447Z"
   },
   {
    "duration": 4,
    "start_time": "2021-09-20T10:38:46.579Z"
   },
   {
    "duration": 130,
    "start_time": "2021-09-20T10:38:46.585Z"
   },
   {
    "duration": 125,
    "start_time": "2021-09-20T10:38:46.717Z"
   },
   {
    "duration": 64,
    "start_time": "2021-09-20T10:38:46.844Z"
   },
   {
    "duration": 30,
    "start_time": "2021-09-20T10:38:46.911Z"
   },
   {
    "duration": 205,
    "start_time": "2021-09-20T10:38:46.944Z"
   },
   {
    "duration": 20,
    "start_time": "2021-09-20T10:38:47.151Z"
   },
   {
    "duration": 34,
    "start_time": "2021-09-20T10:38:47.173Z"
   },
   {
    "duration": 5878,
    "start_time": "2021-09-20T10:38:47.209Z"
   },
   {
    "duration": 23,
    "start_time": "2021-09-20T10:38:53.089Z"
   },
   {
    "duration": 195,
    "start_time": "2021-09-20T10:38:53.114Z"
   },
   {
    "duration": 117,
    "start_time": "2021-09-20T10:38:53.310Z"
   },
   {
    "duration": 1275,
    "start_time": "2021-09-20T10:38:53.429Z"
   },
   {
    "duration": 4,
    "start_time": "2021-09-20T10:38:54.706Z"
   },
   {
    "duration": 5,
    "start_time": "2021-09-20T10:38:54.712Z"
   },
   {
    "duration": 500,
    "start_time": "2021-09-20T10:38:54.719Z"
   },
   {
    "duration": 425,
    "start_time": "2021-09-20T10:38:54.796Z"
   },
   {
    "duration": 423,
    "start_time": "2021-09-20T10:38:54.799Z"
   },
   {
    "duration": 421,
    "start_time": "2021-09-20T10:38:54.802Z"
   },
   {
    "duration": 405,
    "start_time": "2021-09-20T10:38:54.819Z"
   },
   {
    "duration": 1220,
    "start_time": "2021-09-20T10:39:26.532Z"
   },
   {
    "duration": 1673,
    "start_time": "2021-09-20T10:39:27.754Z"
   },
   {
    "duration": 4,
    "start_time": "2021-09-20T10:39:29.429Z"
   },
   {
    "duration": 132,
    "start_time": "2021-09-20T10:39:29.435Z"
   },
   {
    "duration": 120,
    "start_time": "2021-09-20T10:39:29.569Z"
   },
   {
    "duration": 53,
    "start_time": "2021-09-20T10:39:29.691Z"
   },
   {
    "duration": 46,
    "start_time": "2021-09-20T10:39:29.746Z"
   },
   {
    "duration": 211,
    "start_time": "2021-09-20T10:39:29.795Z"
   },
   {
    "duration": 22,
    "start_time": "2021-09-20T10:39:30.008Z"
   },
   {
    "duration": 34,
    "start_time": "2021-09-20T10:39:30.032Z"
   },
   {
    "duration": 5755,
    "start_time": "2021-09-20T10:39:30.077Z"
   },
   {
    "duration": 25,
    "start_time": "2021-09-20T10:39:35.834Z"
   },
   {
    "duration": 196,
    "start_time": "2021-09-20T10:39:35.861Z"
   },
   {
    "duration": 145,
    "start_time": "2021-09-20T10:39:36.059Z"
   },
   {
    "duration": 1295,
    "start_time": "2021-09-20T10:39:36.206Z"
   },
   {
    "duration": 3,
    "start_time": "2021-09-20T10:39:37.504Z"
   },
   {
    "duration": 16,
    "start_time": "2021-09-20T10:39:37.509Z"
   },
   {
    "duration": 456,
    "start_time": "2021-09-20T10:39:37.527Z"
   },
   {
    "duration": 430,
    "start_time": "2021-09-20T10:39:37.555Z"
   },
   {
    "duration": 418,
    "start_time": "2021-09-20T10:39:37.568Z"
   },
   {
    "duration": 416,
    "start_time": "2021-09-20T10:39:37.571Z"
   },
   {
    "duration": 413,
    "start_time": "2021-09-20T10:39:37.575Z"
   },
   {
    "duration": 1268,
    "start_time": "2021-09-20T10:39:56.671Z"
   },
   {
    "duration": 1759,
    "start_time": "2021-09-20T10:39:57.941Z"
   },
   {
    "duration": 4,
    "start_time": "2021-09-20T10:39:59.702Z"
   },
   {
    "duration": 130,
    "start_time": "2021-09-20T10:39:59.708Z"
   },
   {
    "duration": 128,
    "start_time": "2021-09-20T10:39:59.840Z"
   },
   {
    "duration": 54,
    "start_time": "2021-09-20T10:39:59.970Z"
   },
   {
    "duration": 32,
    "start_time": "2021-09-20T10:40:00.025Z"
   },
   {
    "duration": 204,
    "start_time": "2021-09-20T10:40:00.077Z"
   },
   {
    "duration": 23,
    "start_time": "2021-09-20T10:40:00.283Z"
   },
   {
    "duration": 36,
    "start_time": "2021-09-20T10:40:00.307Z"
   },
   {
    "duration": 5913,
    "start_time": "2021-09-20T10:40:00.345Z"
   },
   {
    "duration": 25,
    "start_time": "2021-09-20T10:40:06.260Z"
   },
   {
    "duration": 463,
    "start_time": "2021-09-20T10:40:06.287Z"
   },
   {
    "duration": 118,
    "start_time": "2021-09-20T10:40:06.752Z"
   },
   {
    "duration": 1262,
    "start_time": "2021-09-20T10:40:06.872Z"
   },
   {
    "duration": 4,
    "start_time": "2021-09-20T10:40:08.135Z"
   },
   {
    "duration": 10,
    "start_time": "2021-09-20T10:40:08.141Z"
   },
   {
    "duration": 7,
    "start_time": "2021-09-20T10:40:08.153Z"
   },
   {
    "duration": 499,
    "start_time": "2021-09-20T10:40:08.162Z"
   },
   {
    "duration": 393,
    "start_time": "2021-09-20T10:40:08.270Z"
   },
   {
    "duration": 388,
    "start_time": "2021-09-20T10:40:08.275Z"
   },
   {
    "duration": 388,
    "start_time": "2021-09-20T10:40:08.277Z"
   },
   {
    "duration": 1274,
    "start_time": "2021-09-20T10:40:20.970Z"
   },
   {
    "duration": 1463,
    "start_time": "2021-09-20T10:40:22.246Z"
   },
   {
    "duration": 4,
    "start_time": "2021-09-20T10:40:23.711Z"
   },
   {
    "duration": 132,
    "start_time": "2021-09-20T10:40:23.717Z"
   },
   {
    "duration": 126,
    "start_time": "2021-09-20T10:40:23.850Z"
   },
   {
    "duration": 52,
    "start_time": "2021-09-20T10:40:23.978Z"
   },
   {
    "duration": 47,
    "start_time": "2021-09-20T10:40:24.032Z"
   },
   {
    "duration": 193,
    "start_time": "2021-09-20T10:40:24.083Z"
   },
   {
    "duration": 22,
    "start_time": "2021-09-20T10:40:24.279Z"
   },
   {
    "duration": 32,
    "start_time": "2021-09-20T10:40:24.303Z"
   },
   {
    "duration": 5854,
    "start_time": "2021-09-20T10:40:24.337Z"
   },
   {
    "duration": 24,
    "start_time": "2021-09-20T10:40:30.193Z"
   },
   {
    "duration": 201,
    "start_time": "2021-09-20T10:40:30.219Z"
   },
   {
    "duration": 120,
    "start_time": "2021-09-20T10:40:30.422Z"
   },
   {
    "duration": 1284,
    "start_time": "2021-09-20T10:40:30.544Z"
   },
   {
    "duration": 4,
    "start_time": "2021-09-20T10:40:31.829Z"
   },
   {
    "duration": 10,
    "start_time": "2021-09-20T10:40:31.835Z"
   },
   {
    "duration": 6,
    "start_time": "2021-09-20T10:40:31.847Z"
   },
   {
    "duration": 6,
    "start_time": "2021-09-20T10:40:31.855Z"
   },
   {
    "duration": 364,
    "start_time": "2021-09-20T10:40:31.863Z"
   },
   {
    "duration": 357,
    "start_time": "2021-09-20T10:40:32.229Z"
   },
   {
    "duration": 391,
    "start_time": "2021-09-20T10:40:32.197Z"
   },
   {
    "duration": 1311,
    "start_time": "2021-09-20T10:44:17.843Z"
   },
   {
    "duration": 1432,
    "start_time": "2021-09-20T10:44:19.156Z"
   },
   {
    "duration": 4,
    "start_time": "2021-09-20T10:44:20.590Z"
   },
   {
    "duration": 133,
    "start_time": "2021-09-20T10:44:20.596Z"
   },
   {
    "duration": 119,
    "start_time": "2021-09-20T10:44:20.731Z"
   },
   {
    "duration": 64,
    "start_time": "2021-09-20T10:44:20.852Z"
   },
   {
    "duration": 33,
    "start_time": "2021-09-20T10:44:20.918Z"
   },
   {
    "duration": 210,
    "start_time": "2021-09-20T10:44:20.954Z"
   },
   {
    "duration": 29,
    "start_time": "2021-09-20T10:44:21.166Z"
   },
   {
    "duration": 34,
    "start_time": "2021-09-20T10:44:21.197Z"
   },
   {
    "duration": 5928,
    "start_time": "2021-09-20T10:44:21.233Z"
   },
   {
    "duration": 33,
    "start_time": "2021-09-20T10:44:27.163Z"
   },
   {
    "duration": 206,
    "start_time": "2021-09-20T10:44:27.198Z"
   },
   {
    "duration": 118,
    "start_time": "2021-09-20T10:44:27.405Z"
   },
   {
    "duration": 1280,
    "start_time": "2021-09-20T10:44:27.525Z"
   },
   {
    "duration": 4,
    "start_time": "2021-09-20T10:44:28.806Z"
   },
   {
    "duration": 10,
    "start_time": "2021-09-20T10:44:28.811Z"
   },
   {
    "duration": 11,
    "start_time": "2021-09-20T10:44:28.823Z"
   },
   {
    "duration": 11,
    "start_time": "2021-09-20T10:44:28.836Z"
   },
   {
    "duration": 346,
    "start_time": "2021-09-20T10:44:28.848Z"
   },
   {
    "duration": 344,
    "start_time": "2021-09-20T10:44:29.196Z"
   },
   {
    "duration": 427,
    "start_time": "2021-09-20T10:44:29.115Z"
   },
   {
    "duration": 1287,
    "start_time": "2021-09-20T10:49:01.461Z"
   },
   {
    "duration": 2893,
    "start_time": "2021-09-20T10:49:02.750Z"
   },
   {
    "duration": 3,
    "start_time": "2021-09-20T10:49:05.646Z"
   },
   {
    "duration": 133,
    "start_time": "2021-09-20T10:49:05.651Z"
   },
   {
    "duration": 125,
    "start_time": "2021-09-20T10:49:05.786Z"
   },
   {
    "duration": 52,
    "start_time": "2021-09-20T10:49:05.913Z"
   },
   {
    "duration": 39,
    "start_time": "2021-09-20T10:49:05.967Z"
   },
   {
    "duration": 104,
    "start_time": "2021-09-20T10:49:06.008Z"
   },
   {
    "duration": 476,
    "start_time": "2021-09-20T10:49:06.114Z"
   },
   {
    "duration": 393,
    "start_time": "2021-09-20T10:49:06.199Z"
   },
   {
    "duration": 392,
    "start_time": "2021-09-20T10:49:06.201Z"
   },
   {
    "duration": 391,
    "start_time": "2021-09-20T10:49:06.203Z"
   },
   {
    "duration": 390,
    "start_time": "2021-09-20T10:49:06.205Z"
   },
   {
    "duration": 389,
    "start_time": "2021-09-20T10:49:06.207Z"
   },
   {
    "duration": 388,
    "start_time": "2021-09-20T10:49:06.209Z"
   },
   {
    "duration": 387,
    "start_time": "2021-09-20T10:49:06.211Z"
   },
   {
    "duration": 386,
    "start_time": "2021-09-20T10:49:06.213Z"
   },
   {
    "duration": 385,
    "start_time": "2021-09-20T10:49:06.215Z"
   },
   {
    "duration": 385,
    "start_time": "2021-09-20T10:49:06.216Z"
   },
   {
    "duration": 385,
    "start_time": "2021-09-20T10:49:06.217Z"
   },
   {
    "duration": 384,
    "start_time": "2021-09-20T10:49:06.219Z"
   },
   {
    "duration": 383,
    "start_time": "2021-09-20T10:49:06.220Z"
   },
   {
    "duration": 383,
    "start_time": "2021-09-20T10:49:06.221Z"
   },
   {
    "duration": 1285,
    "start_time": "2021-09-20T10:49:32.055Z"
   },
   {
    "duration": 3379,
    "start_time": "2021-09-20T10:49:33.342Z"
   },
   {
    "duration": 4,
    "start_time": "2021-09-20T10:49:36.723Z"
   },
   {
    "duration": 130,
    "start_time": "2021-09-20T10:49:36.729Z"
   },
   {
    "duration": 125,
    "start_time": "2021-09-20T10:49:36.861Z"
   },
   {
    "duration": 50,
    "start_time": "2021-09-20T10:49:36.988Z"
   },
   {
    "duration": 42,
    "start_time": "2021-09-20T10:49:37.040Z"
   },
   {
    "duration": 141,
    "start_time": "2021-09-20T10:49:37.085Z"
   },
   {
    "duration": 518,
    "start_time": "2021-09-20T10:49:37.228Z"
   },
   {
    "duration": 376,
    "start_time": "2021-09-20T10:49:37.372Z"
   },
   {
    "duration": 368,
    "start_time": "2021-09-20T10:49:37.381Z"
   },
   {
    "duration": 367,
    "start_time": "2021-09-20T10:49:37.383Z"
   },
   {
    "duration": 366,
    "start_time": "2021-09-20T10:49:37.385Z"
   },
   {
    "duration": 365,
    "start_time": "2021-09-20T10:49:37.387Z"
   },
   {
    "duration": 365,
    "start_time": "2021-09-20T10:49:37.388Z"
   },
   {
    "duration": 365,
    "start_time": "2021-09-20T10:49:37.389Z"
   },
   {
    "duration": 361,
    "start_time": "2021-09-20T10:49:37.394Z"
   },
   {
    "duration": 361,
    "start_time": "2021-09-20T10:49:37.395Z"
   },
   {
    "duration": 361,
    "start_time": "2021-09-20T10:49:37.396Z"
   },
   {
    "duration": 361,
    "start_time": "2021-09-20T10:49:37.397Z"
   },
   {
    "duration": 361,
    "start_time": "2021-09-20T10:49:37.398Z"
   },
   {
    "duration": 361,
    "start_time": "2021-09-20T10:49:37.399Z"
   },
   {
    "duration": 361,
    "start_time": "2021-09-20T10:49:37.400Z"
   },
   {
    "duration": 1246,
    "start_time": "2021-09-20T10:57:23.001Z"
   },
   {
    "duration": 2929,
    "start_time": "2021-09-20T10:57:24.249Z"
   },
   {
    "duration": 5,
    "start_time": "2021-09-20T10:57:27.180Z"
   },
   {
    "duration": 149,
    "start_time": "2021-09-20T10:57:27.187Z"
   },
   {
    "duration": 123,
    "start_time": "2021-09-20T10:57:27.338Z"
   },
   {
    "duration": 57,
    "start_time": "2021-09-20T10:57:27.463Z"
   },
   {
    "duration": 31,
    "start_time": "2021-09-20T10:57:27.521Z"
   },
   {
    "duration": 212,
    "start_time": "2021-09-20T10:57:27.555Z"
   },
   {
    "duration": 22,
    "start_time": "2021-09-20T10:57:27.769Z"
   },
   {
    "duration": 35,
    "start_time": "2021-09-20T10:57:27.792Z"
   },
   {
    "duration": 6218,
    "start_time": "2021-09-20T10:57:27.829Z"
   },
   {
    "duration": 30,
    "start_time": "2021-09-20T10:57:34.049Z"
   },
   {
    "duration": 221,
    "start_time": "2021-09-20T10:57:34.080Z"
   },
   {
    "duration": 122,
    "start_time": "2021-09-20T10:57:34.303Z"
   },
   {
    "duration": 1370,
    "start_time": "2021-09-20T10:57:34.427Z"
   },
   {
    "duration": 441,
    "start_time": "2021-09-20T10:57:35.799Z"
   },
   {
    "duration": 426,
    "start_time": "2021-09-20T10:57:35.816Z"
   },
   {
    "duration": 426,
    "start_time": "2021-09-20T10:57:35.817Z"
   },
   {
    "duration": 412,
    "start_time": "2021-09-20T10:57:35.832Z"
   },
   {
    "duration": 413,
    "start_time": "2021-09-20T10:57:35.833Z"
   },
   {
    "duration": 414,
    "start_time": "2021-09-20T10:57:35.833Z"
   },
   {
    "duration": 414,
    "start_time": "2021-09-20T10:57:35.834Z"
   },
   {
    "duration": 414,
    "start_time": "2021-09-20T10:57:35.835Z"
   },
   {
    "duration": 1217,
    "start_time": "2021-09-20T11:16:54.926Z"
   },
   {
    "duration": 3648,
    "start_time": "2021-09-20T11:16:56.145Z"
   },
   {
    "duration": 3,
    "start_time": "2021-09-20T11:16:59.798Z"
   },
   {
    "duration": 131,
    "start_time": "2021-09-20T11:16:59.803Z"
   },
   {
    "duration": 136,
    "start_time": "2021-09-20T11:16:59.936Z"
   },
   {
    "duration": 53,
    "start_time": "2021-09-20T11:17:00.073Z"
   },
   {
    "duration": 49,
    "start_time": "2021-09-20T11:17:00.129Z"
   },
   {
    "duration": 207,
    "start_time": "2021-09-20T11:17:00.180Z"
   },
   {
    "duration": 22,
    "start_time": "2021-09-20T11:17:00.389Z"
   },
   {
    "duration": 35,
    "start_time": "2021-09-20T11:17:00.413Z"
   },
   {
    "duration": 5979,
    "start_time": "2021-09-20T11:17:00.450Z"
   },
   {
    "duration": 23,
    "start_time": "2021-09-20T11:17:06.431Z"
   },
   {
    "duration": 191,
    "start_time": "2021-09-20T11:17:06.456Z"
   },
   {
    "duration": 117,
    "start_time": "2021-09-20T11:17:06.649Z"
   },
   {
    "duration": 1273,
    "start_time": "2021-09-20T11:17:06.767Z"
   },
   {
    "duration": 4,
    "start_time": "2021-09-20T11:17:08.042Z"
   },
   {
    "duration": 5,
    "start_time": "2021-09-20T11:17:08.048Z"
   },
   {
    "duration": 5,
    "start_time": "2021-09-20T11:17:08.055Z"
   },
   {
    "duration": 3,
    "start_time": "2021-09-20T11:17:08.076Z"
   },
   {
    "duration": 394,
    "start_time": "2021-09-20T11:17:08.081Z"
   },
   {
    "duration": 409,
    "start_time": "2021-09-20T11:17:08.477Z"
   },
   {
    "duration": 421,
    "start_time": "2021-09-20T11:17:08.467Z"
   },
   {
    "duration": 860,
    "start_time": "2021-09-20T11:17:42.863Z"
   },
   {
    "duration": 3,
    "start_time": "2021-09-20T11:18:45.667Z"
   },
   {
    "duration": 448,
    "start_time": "2021-09-20T11:18:46.183Z"
   },
   {
    "duration": 154,
    "start_time": "2021-09-20T11:19:22.462Z"
   },
   {
    "duration": 3,
    "start_time": "2021-09-20T11:19:29.069Z"
   },
   {
    "duration": 3,
    "start_time": "2021-09-20T11:19:29.745Z"
   },
   {
    "duration": 3,
    "start_time": "2021-09-20T11:19:30.369Z"
   },
   {
    "duration": 237029,
    "start_time": "2021-09-20T11:19:31.083Z"
   },
   {
    "duration": 4,
    "start_time": "2021-09-20T11:23:28.114Z"
   },
   {
    "duration": 766,
    "start_time": "2021-09-20T11:23:28.120Z"
   },
   {
    "duration": 768,
    "start_time": "2021-09-20T11:24:59.149Z"
   },
   {
    "duration": 1261,
    "start_time": "2021-09-20T11:27:04.925Z"
   },
   {
    "duration": 4019,
    "start_time": "2021-09-20T11:27:06.188Z"
   },
   {
    "duration": 5,
    "start_time": "2021-09-20T11:27:10.210Z"
   },
   {
    "duration": 244,
    "start_time": "2021-09-20T11:27:10.217Z"
   },
   {
    "duration": 233,
    "start_time": "2021-09-20T11:27:10.464Z"
   },
   {
    "duration": 104,
    "start_time": "2021-09-20T11:27:10.699Z"
   },
   {
    "duration": 31,
    "start_time": "2021-09-20T11:27:10.805Z"
   },
   {
    "duration": 201,
    "start_time": "2021-09-20T11:27:10.838Z"
   },
   {
    "duration": 22,
    "start_time": "2021-09-20T11:27:11.042Z"
   },
   {
    "duration": 47,
    "start_time": "2021-09-20T11:27:11.066Z"
   },
   {
    "duration": 6040,
    "start_time": "2021-09-20T11:27:11.115Z"
   },
   {
    "duration": 28,
    "start_time": "2021-09-20T11:27:17.156Z"
   },
   {
    "duration": 186,
    "start_time": "2021-09-20T11:27:17.186Z"
   },
   {
    "duration": 123,
    "start_time": "2021-09-20T11:27:17.377Z"
   },
   {
    "duration": 1254,
    "start_time": "2021-09-20T11:27:17.502Z"
   },
   {
    "duration": 4,
    "start_time": "2021-09-20T11:27:18.758Z"
   },
   {
    "duration": 171,
    "start_time": "2021-09-20T11:27:18.764Z"
   },
   {
    "duration": 3,
    "start_time": "2021-09-20T11:27:18.936Z"
   },
   {
    "duration": 5,
    "start_time": "2021-09-20T11:27:18.941Z"
   },
   {
    "duration": 8,
    "start_time": "2021-09-20T11:27:18.947Z"
   },
   {
    "duration": 240843,
    "start_time": "2021-09-20T11:27:18.957Z"
   },
   {
    "duration": 5,
    "start_time": "2021-09-20T11:31:19.802Z"
   },
   {
    "duration": 938,
    "start_time": "2021-09-20T11:31:19.811Z"
   },
   {
    "duration": 1245,
    "start_time": "2021-09-20T11:32:19.903Z"
   },
   {
    "duration": 3715,
    "start_time": "2021-09-20T11:32:21.150Z"
   },
   {
    "duration": 10,
    "start_time": "2021-09-20T11:32:24.867Z"
   },
   {
    "duration": 133,
    "start_time": "2021-09-20T11:32:24.879Z"
   },
   {
    "duration": 125,
    "start_time": "2021-09-20T11:32:25.014Z"
   },
   {
    "duration": 63,
    "start_time": "2021-09-20T11:32:25.141Z"
   },
   {
    "duration": 33,
    "start_time": "2021-09-20T11:32:25.206Z"
   },
   {
    "duration": 213,
    "start_time": "2021-09-20T11:32:25.243Z"
   },
   {
    "duration": 27,
    "start_time": "2021-09-20T11:32:25.458Z"
   },
   {
    "duration": 35,
    "start_time": "2021-09-20T11:32:25.487Z"
   },
   {
    "duration": 6888,
    "start_time": "2021-09-20T11:32:25.524Z"
   },
   {
    "duration": 24,
    "start_time": "2021-09-20T11:32:32.414Z"
   },
   {
    "duration": 207,
    "start_time": "2021-09-20T11:32:32.440Z"
   },
   {
    "duration": 123,
    "start_time": "2021-09-20T11:32:32.650Z"
   },
   {
    "duration": 1279,
    "start_time": "2021-09-20T11:32:32.777Z"
   },
   {
    "duration": 4,
    "start_time": "2021-09-20T11:32:34.059Z"
   },
   {
    "duration": 172,
    "start_time": "2021-09-20T11:32:34.077Z"
   },
   {
    "duration": 3,
    "start_time": "2021-09-20T11:32:34.251Z"
   },
   {
    "duration": 6,
    "start_time": "2021-09-20T11:32:34.256Z"
   },
   {
    "duration": 19,
    "start_time": "2021-09-20T11:32:34.264Z"
   },
   {
    "duration": 240834,
    "start_time": "2021-09-20T11:32:34.285Z"
   },
   {
    "duration": 4,
    "start_time": "2021-09-20T11:36:35.121Z"
   },
   {
    "duration": 7383,
    "start_time": "2021-09-20T11:36:35.128Z"
   },
   {
    "duration": 1259,
    "start_time": "2021-09-20T11:37:07.886Z"
   },
   {
    "duration": 3500,
    "start_time": "2021-09-20T11:37:09.147Z"
   },
   {
    "duration": 5,
    "start_time": "2021-09-20T11:37:12.649Z"
   },
   {
    "duration": 134,
    "start_time": "2021-09-20T11:37:12.657Z"
   },
   {
    "duration": 131,
    "start_time": "2021-09-20T11:37:12.793Z"
   },
   {
    "duration": 62,
    "start_time": "2021-09-20T11:37:12.926Z"
   },
   {
    "duration": 34,
    "start_time": "2021-09-20T11:37:12.991Z"
   },
   {
    "duration": 220,
    "start_time": "2021-09-20T11:37:13.028Z"
   },
   {
    "duration": 23,
    "start_time": "2021-09-20T11:37:13.250Z"
   },
   {
    "duration": 37,
    "start_time": "2021-09-20T11:37:13.277Z"
   },
   {
    "duration": 5674,
    "start_time": "2021-09-20T11:37:13.316Z"
   },
   {
    "duration": 25,
    "start_time": "2021-09-20T11:37:18.992Z"
   },
   {
    "duration": 199,
    "start_time": "2021-09-20T11:37:19.018Z"
   },
   {
    "duration": 114,
    "start_time": "2021-09-20T11:37:19.219Z"
   },
   {
    "duration": 1252,
    "start_time": "2021-09-20T11:37:19.335Z"
   },
   {
    "duration": 3,
    "start_time": "2021-09-20T11:37:20.589Z"
   },
   {
    "duration": 160,
    "start_time": "2021-09-20T11:37:20.594Z"
   },
   {
    "duration": 3,
    "start_time": "2021-09-20T11:37:20.756Z"
   },
   {
    "duration": 21,
    "start_time": "2021-09-20T11:37:20.761Z"
   },
   {
    "duration": 30,
    "start_time": "2021-09-20T11:37:20.784Z"
   },
   {
    "duration": 238451,
    "start_time": "2021-09-20T11:37:20.816Z"
   },
   {
    "duration": 3,
    "start_time": "2021-09-20T11:41:19.277Z"
   },
   {
    "duration": 6676,
    "start_time": "2021-09-20T11:41:19.283Z"
   },
   {
    "duration": 427,
    "start_time": "2021-09-20T11:41:25.534Z"
   },
   {
    "duration": 424,
    "start_time": "2021-09-20T11:41:25.538Z"
   },
   {
    "duration": 421,
    "start_time": "2021-09-20T11:41:25.541Z"
   },
   {
    "duration": 417,
    "start_time": "2021-09-20T11:41:25.546Z"
   },
   {
    "duration": 416,
    "start_time": "2021-09-20T11:41:25.548Z"
   },
   {
    "duration": 416,
    "start_time": "2021-09-20T11:41:25.549Z"
   },
   {
    "duration": 415,
    "start_time": "2021-09-20T11:41:25.551Z"
   },
   {
    "duration": 414,
    "start_time": "2021-09-20T11:41:25.553Z"
   },
   {
    "duration": 414,
    "start_time": "2021-09-20T11:41:25.554Z"
   },
   {
    "duration": 412,
    "start_time": "2021-09-20T11:41:25.557Z"
   },
   {
    "duration": 1279,
    "start_time": "2021-09-20T11:44:10.565Z"
   },
   {
    "duration": 5124,
    "start_time": "2021-09-20T11:44:11.846Z"
   },
   {
    "duration": 4,
    "start_time": "2021-09-20T11:44:16.973Z"
   },
   {
    "duration": 137,
    "start_time": "2021-09-20T11:44:16.979Z"
   },
   {
    "duration": 125,
    "start_time": "2021-09-20T11:44:17.118Z"
   },
   {
    "duration": 71,
    "start_time": "2021-09-20T11:44:17.246Z"
   },
   {
    "duration": 32,
    "start_time": "2021-09-20T11:44:17.319Z"
   },
   {
    "duration": 214,
    "start_time": "2021-09-20T11:44:17.354Z"
   },
   {
    "duration": 23,
    "start_time": "2021-09-20T11:44:17.570Z"
   },
   {
    "duration": 36,
    "start_time": "2021-09-20T11:44:17.595Z"
   },
   {
    "duration": 5807,
    "start_time": "2021-09-20T11:44:17.633Z"
   },
   {
    "duration": 24,
    "start_time": "2021-09-20T11:44:23.442Z"
   },
   {
    "duration": 189,
    "start_time": "2021-09-20T11:44:23.477Z"
   },
   {
    "duration": 122,
    "start_time": "2021-09-20T11:44:23.669Z"
   },
   {
    "duration": 1242,
    "start_time": "2021-09-20T11:44:23.793Z"
   },
   {
    "duration": 4,
    "start_time": "2021-09-20T11:44:25.037Z"
   },
   {
    "duration": 163,
    "start_time": "2021-09-20T11:44:25.042Z"
   },
   {
    "duration": 2,
    "start_time": "2021-09-20T11:44:25.207Z"
   },
   {
    "duration": 7,
    "start_time": "2021-09-20T11:44:25.211Z"
   },
   {
    "duration": 9,
    "start_time": "2021-09-20T11:44:25.220Z"
   },
   {
    "duration": 238017,
    "start_time": "2021-09-20T11:44:25.231Z"
   },
   {
    "duration": 4,
    "start_time": "2021-09-20T11:48:23.250Z"
   },
   {
    "duration": 6248,
    "start_time": "2021-09-20T11:48:23.257Z"
   },
   {
    "duration": 498,
    "start_time": "2021-09-20T11:48:29.507Z"
   },
   {
    "duration": 453,
    "start_time": "2021-09-20T11:48:29.555Z"
   },
   {
    "duration": 426,
    "start_time": "2021-09-20T11:48:29.582Z"
   },
   {
    "duration": 425,
    "start_time": "2021-09-20T11:48:29.584Z"
   },
   {
    "duration": 424,
    "start_time": "2021-09-20T11:48:29.586Z"
   },
   {
    "duration": 424,
    "start_time": "2021-09-20T11:48:29.587Z"
   },
   {
    "duration": 423,
    "start_time": "2021-09-20T11:48:29.589Z"
   },
   {
    "duration": 424,
    "start_time": "2021-09-20T11:48:29.590Z"
   },
   {
    "duration": 424,
    "start_time": "2021-09-20T11:48:29.591Z"
   },
   {
    "duration": 422,
    "start_time": "2021-09-20T11:48:29.593Z"
   },
   {
    "duration": 1307,
    "start_time": "2021-09-20T11:59:06.645Z"
   },
   {
    "duration": 1859,
    "start_time": "2021-09-20T11:59:07.954Z"
   },
   {
    "duration": 3,
    "start_time": "2021-09-20T11:59:09.815Z"
   },
   {
    "duration": 133,
    "start_time": "2021-09-20T11:59:09.821Z"
   },
   {
    "duration": 131,
    "start_time": "2021-09-20T11:59:09.957Z"
   },
   {
    "duration": 84,
    "start_time": "2021-09-20T11:59:10.090Z"
   },
   {
    "duration": 33,
    "start_time": "2021-09-20T11:59:10.176Z"
   },
   {
    "duration": 213,
    "start_time": "2021-09-20T11:59:10.211Z"
   },
   {
    "duration": 23,
    "start_time": "2021-09-20T11:59:10.427Z"
   },
   {
    "duration": 45,
    "start_time": "2021-09-20T11:59:10.453Z"
   },
   {
    "duration": 5794,
    "start_time": "2021-09-20T11:59:10.500Z"
   },
   {
    "duration": 25,
    "start_time": "2021-09-20T11:59:16.296Z"
   },
   {
    "duration": 192,
    "start_time": "2021-09-20T11:59:16.323Z"
   },
   {
    "duration": 121,
    "start_time": "2021-09-20T11:59:16.517Z"
   },
   {
    "duration": 2,
    "start_time": "2021-09-20T11:59:16.640Z"
   },
   {
    "duration": 1276,
    "start_time": "2021-09-20T11:59:16.644Z"
   },
   {
    "duration": 4,
    "start_time": "2021-09-20T11:59:17.923Z"
   },
   {
    "duration": 194,
    "start_time": "2021-09-20T11:59:17.929Z"
   },
   {
    "duration": 3,
    "start_time": "2021-09-20T11:59:18.125Z"
   },
   {
    "duration": 24,
    "start_time": "2021-09-20T11:59:18.129Z"
   },
   {
    "duration": 38,
    "start_time": "2021-09-20T11:59:18.155Z"
   },
   {
    "duration": 250440,
    "start_time": "2021-09-20T11:59:18.195Z"
   },
   {
    "duration": 3,
    "start_time": "2021-09-20T12:03:28.637Z"
   },
   {
    "duration": 6275,
    "start_time": "2021-09-20T12:03:28.642Z"
   },
   {
    "duration": 607,
    "start_time": "2021-09-20T12:03:34.919Z"
   },
   {
    "duration": 457,
    "start_time": "2021-09-20T12:03:35.072Z"
   },
   {
    "duration": 452,
    "start_time": "2021-09-20T12:03:35.078Z"
   },
   {
    "duration": 445,
    "start_time": "2021-09-20T12:03:35.086Z"
   },
   {
    "duration": 442,
    "start_time": "2021-09-20T12:03:35.090Z"
   },
   {
    "duration": 439,
    "start_time": "2021-09-20T12:03:35.094Z"
   },
   {
    "duration": 437,
    "start_time": "2021-09-20T12:03:35.097Z"
   },
   {
    "duration": 437,
    "start_time": "2021-09-20T12:03:35.098Z"
   },
   {
    "duration": 436,
    "start_time": "2021-09-20T12:03:35.100Z"
   },
   {
    "duration": 435,
    "start_time": "2021-09-20T12:03:35.102Z"
   },
   {
    "duration": 1256,
    "start_time": "2021-09-20T12:06:15.189Z"
   },
   {
    "duration": 3187,
    "start_time": "2021-09-20T12:06:16.447Z"
   },
   {
    "duration": 3,
    "start_time": "2021-09-20T12:06:19.636Z"
   },
   {
    "duration": 136,
    "start_time": "2021-09-20T12:06:19.641Z"
   },
   {
    "duration": 126,
    "start_time": "2021-09-20T12:06:19.778Z"
   },
   {
    "duration": 54,
    "start_time": "2021-09-20T12:06:19.905Z"
   },
   {
    "duration": 45,
    "start_time": "2021-09-20T12:06:19.961Z"
   },
   {
    "duration": 228,
    "start_time": "2021-09-20T12:06:20.008Z"
   },
   {
    "duration": 21,
    "start_time": "2021-09-20T12:06:20.239Z"
   },
   {
    "duration": 40,
    "start_time": "2021-09-20T12:06:20.262Z"
   },
   {
    "duration": 5776,
    "start_time": "2021-09-20T12:06:20.304Z"
   },
   {
    "duration": 25,
    "start_time": "2021-09-20T12:06:26.082Z"
   },
   {
    "duration": 202,
    "start_time": "2021-09-20T12:06:26.109Z"
   },
   {
    "duration": 121,
    "start_time": "2021-09-20T12:06:26.312Z"
   },
   {
    "duration": 3,
    "start_time": "2021-09-20T12:06:26.434Z"
   },
   {
    "duration": 1372,
    "start_time": "2021-09-20T12:06:26.438Z"
   },
   {
    "duration": 3,
    "start_time": "2021-09-20T12:06:27.812Z"
   },
   {
    "duration": 195,
    "start_time": "2021-09-20T12:06:27.817Z"
   },
   {
    "duration": 2,
    "start_time": "2021-09-20T12:06:28.014Z"
   },
   {
    "duration": 6,
    "start_time": "2021-09-20T12:06:28.018Z"
   },
   {
    "duration": 9,
    "start_time": "2021-09-20T12:06:28.025Z"
   },
   {
    "duration": 247512,
    "start_time": "2021-09-20T12:06:28.036Z"
   },
   {
    "duration": 3,
    "start_time": "2021-09-20T12:10:35.552Z"
   },
   {
    "duration": 6032,
    "start_time": "2021-09-20T12:10:35.557Z"
   },
   {
    "duration": 782,
    "start_time": "2021-09-20T12:10:41.591Z"
   },
   {
    "duration": 418,
    "start_time": "2021-09-20T12:10:41.957Z"
   },
   {
    "duration": 416,
    "start_time": "2021-09-20T12:10:41.960Z"
   },
   {
    "duration": 415,
    "start_time": "2021-09-20T12:10:41.962Z"
   },
   {
    "duration": 412,
    "start_time": "2021-09-20T12:10:41.965Z"
   },
   {
    "duration": 411,
    "start_time": "2021-09-20T12:10:41.967Z"
   },
   {
    "duration": 410,
    "start_time": "2021-09-20T12:10:41.969Z"
   },
   {
    "duration": 408,
    "start_time": "2021-09-20T12:10:41.972Z"
   },
   {
    "duration": 406,
    "start_time": "2021-09-20T12:10:41.974Z"
   },
   {
    "duration": 404,
    "start_time": "2021-09-20T12:10:41.977Z"
   },
   {
    "duration": 1228,
    "start_time": "2021-09-20T12:12:07.514Z"
   },
   {
    "duration": 5059,
    "start_time": "2021-09-20T12:12:08.744Z"
   },
   {
    "duration": 4,
    "start_time": "2021-09-20T12:12:13.805Z"
   },
   {
    "duration": 132,
    "start_time": "2021-09-20T12:12:13.811Z"
   },
   {
    "duration": 126,
    "start_time": "2021-09-20T12:12:13.944Z"
   },
   {
    "duration": 53,
    "start_time": "2021-09-20T12:12:14.075Z"
   },
   {
    "duration": 32,
    "start_time": "2021-09-20T12:12:14.130Z"
   },
   {
    "duration": 207,
    "start_time": "2021-09-20T12:12:14.178Z"
   },
   {
    "duration": 24,
    "start_time": "2021-09-20T12:12:14.388Z"
   },
   {
    "duration": 35,
    "start_time": "2021-09-20T12:12:14.414Z"
   },
   {
    "duration": 5980,
    "start_time": "2021-09-20T12:12:14.451Z"
   },
   {
    "duration": 25,
    "start_time": "2021-09-20T12:12:20.433Z"
   },
   {
    "duration": 195,
    "start_time": "2021-09-20T12:12:20.459Z"
   },
   {
    "duration": 121,
    "start_time": "2021-09-20T12:12:20.656Z"
   },
   {
    "duration": 468,
    "start_time": "2021-09-20T12:12:20.779Z"
   },
   {
    "duration": 447,
    "start_time": "2021-09-20T12:12:20.804Z"
   },
   {
    "duration": 443,
    "start_time": "2021-09-20T12:12:20.808Z"
   },
   {
    "duration": 440,
    "start_time": "2021-09-20T12:12:20.812Z"
   },
   {
    "duration": 437,
    "start_time": "2021-09-20T12:12:20.817Z"
   },
   {
    "duration": 433,
    "start_time": "2021-09-20T12:12:20.821Z"
   },
   {
    "duration": 433,
    "start_time": "2021-09-20T12:12:20.822Z"
   },
   {
    "duration": 432,
    "start_time": "2021-09-20T12:12:20.824Z"
   },
   {
    "duration": 430,
    "start_time": "2021-09-20T12:12:20.827Z"
   },
   {
    "duration": 428,
    "start_time": "2021-09-20T12:12:20.830Z"
   },
   {
    "duration": 428,
    "start_time": "2021-09-20T12:12:20.832Z"
   },
   {
    "duration": 427,
    "start_time": "2021-09-20T12:12:20.834Z"
   },
   {
    "duration": 426,
    "start_time": "2021-09-20T12:12:20.836Z"
   },
   {
    "duration": 425,
    "start_time": "2021-09-20T12:12:20.838Z"
   },
   {
    "duration": 424,
    "start_time": "2021-09-20T12:12:20.840Z"
   },
   {
    "duration": 423,
    "start_time": "2021-09-20T12:12:20.842Z"
   },
   {
    "duration": 422,
    "start_time": "2021-09-20T12:12:20.844Z"
   },
   {
    "duration": 423,
    "start_time": "2021-09-20T12:12:20.846Z"
   },
   {
    "duration": 422,
    "start_time": "2021-09-20T12:12:20.848Z"
   },
   {
    "duration": 422,
    "start_time": "2021-09-20T12:12:20.849Z"
   },
   {
    "duration": 1230,
    "start_time": "2021-09-20T12:23:36.525Z"
   },
   {
    "duration": 1494,
    "start_time": "2021-09-20T12:23:37.757Z"
   },
   {
    "duration": 3,
    "start_time": "2021-09-20T12:23:39.253Z"
   },
   {
    "duration": 130,
    "start_time": "2021-09-20T12:23:39.258Z"
   },
   {
    "duration": 122,
    "start_time": "2021-09-20T12:23:39.390Z"
   },
   {
    "duration": 52,
    "start_time": "2021-09-20T12:23:39.514Z"
   },
   {
    "duration": 31,
    "start_time": "2021-09-20T12:23:39.577Z"
   },
   {
    "duration": 211,
    "start_time": "2021-09-20T12:23:39.611Z"
   },
   {
    "duration": 22,
    "start_time": "2021-09-20T12:23:39.824Z"
   },
   {
    "duration": 42,
    "start_time": "2021-09-20T12:23:39.848Z"
   },
   {
    "duration": 6046,
    "start_time": "2021-09-20T12:23:39.892Z"
   },
   {
    "duration": 43,
    "start_time": "2021-09-20T12:23:45.941Z"
   },
   {
    "duration": 213,
    "start_time": "2021-09-20T12:23:45.986Z"
   },
   {
    "duration": 126,
    "start_time": "2021-09-20T12:23:46.201Z"
   },
   {
    "duration": 17,
    "start_time": "2021-09-20T12:23:46.329Z"
   },
   {
    "duration": 1404,
    "start_time": "2021-09-20T12:23:46.348Z"
   },
   {
    "duration": 3,
    "start_time": "2021-09-20T12:23:47.754Z"
   },
   {
    "duration": 191,
    "start_time": "2021-09-20T12:23:47.760Z"
   },
   {
    "duration": 3,
    "start_time": "2021-09-20T12:23:47.953Z"
   },
   {
    "duration": 6,
    "start_time": "2021-09-20T12:23:47.958Z"
   },
   {
    "duration": 14,
    "start_time": "2021-09-20T12:23:47.965Z"
   },
   {
    "duration": 236544,
    "start_time": "2021-09-20T12:23:47.981Z"
   },
   {
    "duration": 4,
    "start_time": "2021-09-20T12:27:44.529Z"
   },
   {
    "duration": 5669,
    "start_time": "2021-09-20T12:27:44.535Z"
   },
   {
    "duration": 712,
    "start_time": "2021-09-20T12:27:50.206Z"
   },
   {
    "duration": 442,
    "start_time": "2021-09-20T12:27:50.478Z"
   },
   {
    "duration": 440,
    "start_time": "2021-09-20T12:27:50.481Z"
   },
   {
    "duration": 439,
    "start_time": "2021-09-20T12:27:50.483Z"
   },
   {
    "duration": 436,
    "start_time": "2021-09-20T12:27:50.486Z"
   },
   {
    "duration": 435,
    "start_time": "2021-09-20T12:27:50.488Z"
   },
   {
    "duration": 434,
    "start_time": "2021-09-20T12:27:50.490Z"
   },
   {
    "duration": 433,
    "start_time": "2021-09-20T12:27:50.492Z"
   },
   {
    "duration": 433,
    "start_time": "2021-09-20T12:27:50.493Z"
   },
   {
    "duration": 432,
    "start_time": "2021-09-20T12:27:50.495Z"
   },
   {
    "duration": 1560,
    "start_time": "2021-09-20T14:09:41.070Z"
   },
   {
    "duration": 5501,
    "start_time": "2021-09-20T14:09:42.632Z"
   },
   {
    "duration": 7,
    "start_time": "2021-09-20T14:09:48.137Z"
   },
   {
    "duration": 184,
    "start_time": "2021-09-20T14:09:48.147Z"
   },
   {
    "duration": 177,
    "start_time": "2021-09-20T14:09:48.334Z"
   },
   {
    "duration": 72,
    "start_time": "2021-09-20T14:09:48.514Z"
   },
   {
    "duration": 67,
    "start_time": "2021-09-20T14:09:48.589Z"
   },
   {
    "duration": 307,
    "start_time": "2021-09-20T14:09:48.660Z"
   },
   {
    "duration": 28,
    "start_time": "2021-09-20T14:09:48.970Z"
   },
   {
    "duration": 63,
    "start_time": "2021-09-20T14:09:49.000Z"
   },
   {
    "duration": 10039,
    "start_time": "2021-09-20T14:09:49.065Z"
   },
   {
    "duration": 36,
    "start_time": "2021-09-20T14:09:59.107Z"
   },
   {
    "duration": 262,
    "start_time": "2021-09-20T14:09:59.146Z"
   },
   {
    "duration": 171,
    "start_time": "2021-09-20T14:09:59.410Z"
   },
   {
    "duration": 35,
    "start_time": "2021-09-20T14:09:59.583Z"
   },
   {
    "duration": 1990,
    "start_time": "2021-09-20T14:09:59.621Z"
   },
   {
    "duration": 5,
    "start_time": "2021-09-20T14:10:01.617Z"
   },
   {
    "duration": 325,
    "start_time": "2021-09-20T14:10:01.624Z"
   },
   {
    "duration": 3,
    "start_time": "2021-09-20T14:10:01.951Z"
   },
   {
    "duration": 27,
    "start_time": "2021-09-20T14:10:01.957Z"
   },
   {
    "duration": 39,
    "start_time": "2021-09-20T14:10:01.986Z"
   },
   {
    "duration": 294024,
    "start_time": "2021-09-20T14:10:02.028Z"
   },
   {
    "duration": 5,
    "start_time": "2021-09-20T14:14:56.057Z"
   },
   {
    "duration": 7161,
    "start_time": "2021-09-20T14:14:56.064Z"
   },
   {
    "duration": 983,
    "start_time": "2021-09-20T14:15:03.227Z"
   },
   {
    "duration": 258,
    "start_time": "2021-09-20T14:15:03.956Z"
   },
   {
    "duration": 257,
    "start_time": "2021-09-20T14:15:03.959Z"
   },
   {
    "duration": 257,
    "start_time": "2021-09-20T14:15:03.961Z"
   },
   {
    "duration": 257,
    "start_time": "2021-09-20T14:15:03.963Z"
   },
   {
    "duration": 256,
    "start_time": "2021-09-20T14:15:03.965Z"
   },
   {
    "duration": 255,
    "start_time": "2021-09-20T14:15:03.968Z"
   },
   {
    "duration": 254,
    "start_time": "2021-09-20T14:15:03.971Z"
   },
   {
    "duration": 254,
    "start_time": "2021-09-20T14:15:03.973Z"
   },
   {
    "duration": 253,
    "start_time": "2021-09-20T14:15:03.976Z"
   },
   {
    "duration": 5178,
    "start_time": "2021-09-20T14:30:20.504Z"
   },
   {
    "duration": 2136,
    "start_time": "2021-09-20T14:30:25.685Z"
   },
   {
    "duration": 5,
    "start_time": "2021-09-20T14:30:27.824Z"
   },
   {
    "duration": 180,
    "start_time": "2021-09-20T14:30:27.831Z"
   },
   {
    "duration": 154,
    "start_time": "2021-09-20T14:30:28.014Z"
   },
   {
    "duration": 88,
    "start_time": "2021-09-20T14:30:28.171Z"
   },
   {
    "duration": 59,
    "start_time": "2021-09-20T14:30:28.262Z"
   },
   {
    "duration": 311,
    "start_time": "2021-09-20T14:30:28.325Z"
   },
   {
    "duration": 32,
    "start_time": "2021-09-20T14:30:28.639Z"
   },
   {
    "duration": 66,
    "start_time": "2021-09-20T14:30:28.674Z"
   },
   {
    "duration": 10536,
    "start_time": "2021-09-20T14:30:28.743Z"
   },
   {
    "duration": 42,
    "start_time": "2021-09-20T14:30:39.282Z"
   },
   {
    "duration": 269,
    "start_time": "2021-09-20T14:30:39.327Z"
   },
   {
    "duration": 175,
    "start_time": "2021-09-20T14:30:39.599Z"
   },
   {
    "duration": 5,
    "start_time": "2021-09-20T14:30:39.776Z"
   },
   {
    "duration": 1977,
    "start_time": "2021-09-20T14:30:39.784Z"
   },
   {
    "duration": 5,
    "start_time": "2021-09-20T14:30:41.763Z"
   },
   {
    "duration": 322,
    "start_time": "2021-09-20T14:30:41.771Z"
   },
   {
    "duration": 4,
    "start_time": "2021-09-20T14:30:42.096Z"
   },
   {
    "duration": 6,
    "start_time": "2021-09-20T14:30:42.116Z"
   },
   {
    "duration": 33,
    "start_time": "2021-09-20T14:30:42.125Z"
   },
   {
    "duration": 284706,
    "start_time": "2021-09-20T14:30:42.160Z"
   },
   {
    "duration": 5,
    "start_time": "2021-09-20T14:35:26.871Z"
   },
   {
    "duration": 7199,
    "start_time": "2021-09-20T14:35:26.878Z"
   },
   {
    "duration": 1109,
    "start_time": "2021-09-20T14:35:34.079Z"
   },
   {
    "duration": 246,
    "start_time": "2021-09-20T14:35:34.946Z"
   },
   {
    "duration": 246,
    "start_time": "2021-09-20T14:35:34.948Z"
   },
   {
    "duration": 245,
    "start_time": "2021-09-20T14:35:34.951Z"
   },
   {
    "duration": 244,
    "start_time": "2021-09-20T14:35:34.954Z"
   },
   {
    "duration": 245,
    "start_time": "2021-09-20T14:35:34.956Z"
   },
   {
    "duration": 244,
    "start_time": "2021-09-20T14:35:34.959Z"
   },
   {
    "duration": 245,
    "start_time": "2021-09-20T14:35:34.961Z"
   },
   {
    "duration": 245,
    "start_time": "2021-09-20T14:35:34.963Z"
   },
   {
    "duration": 245,
    "start_time": "2021-09-20T14:35:34.966Z"
   },
   {
    "duration": 6,
    "start_time": "2021-09-20T16:39:04.552Z"
   },
   {
    "duration": 28,
    "start_time": "2021-09-20T16:39:23.689Z"
   },
   {
    "duration": 1483,
    "start_time": "2021-09-20T16:41:14.849Z"
   },
   {
    "duration": 3764,
    "start_time": "2021-09-20T16:41:16.335Z"
   },
   {
    "duration": 14,
    "start_time": "2021-09-20T16:41:20.102Z"
   },
   {
    "duration": 171,
    "start_time": "2021-09-20T16:41:20.119Z"
   },
   {
    "duration": 158,
    "start_time": "2021-09-20T16:41:20.293Z"
   },
   {
    "duration": 84,
    "start_time": "2021-09-20T16:41:20.454Z"
   },
   {
    "duration": 49,
    "start_time": "2021-09-20T16:41:20.541Z"
   },
   {
    "duration": 315,
    "start_time": "2021-09-20T16:41:20.593Z"
   },
   {
    "duration": 29,
    "start_time": "2021-09-20T16:41:20.916Z"
   },
   {
    "duration": 68,
    "start_time": "2021-09-20T16:41:20.948Z"
   },
   {
    "duration": 10106,
    "start_time": "2021-09-20T16:41:21.018Z"
   },
   {
    "duration": 33,
    "start_time": "2021-09-20T16:41:31.126Z"
   },
   {
    "duration": 262,
    "start_time": "2021-09-20T16:41:31.161Z"
   },
   {
    "duration": 172,
    "start_time": "2021-09-20T16:41:31.425Z"
   },
   {
    "duration": 3,
    "start_time": "2021-09-20T16:41:31.600Z"
   },
   {
    "duration": 3,
    "start_time": "2021-09-20T16:41:31.616Z"
   },
   {
    "duration": 1887,
    "start_time": "2021-09-20T16:41:31.622Z"
   },
   {
    "duration": 5,
    "start_time": "2021-09-20T16:41:33.511Z"
   },
   {
    "duration": 314,
    "start_time": "2021-09-20T16:41:33.519Z"
   },
   {
    "duration": 4,
    "start_time": "2021-09-20T16:41:33.835Z"
   },
   {
    "duration": 7,
    "start_time": "2021-09-20T16:41:33.842Z"
   },
   {
    "duration": 8,
    "start_time": "2021-09-20T16:41:33.851Z"
   },
   {
    "duration": 290852,
    "start_time": "2021-09-20T16:41:33.864Z"
   },
   {
    "duration": 5,
    "start_time": "2021-09-20T16:46:24.719Z"
   },
   {
    "duration": 7147,
    "start_time": "2021-09-20T16:46:24.726Z"
   },
   {
    "duration": 970,
    "start_time": "2021-09-20T16:46:31.876Z"
   },
   {
    "duration": 309,
    "start_time": "2021-09-20T16:46:32.541Z"
   },
   {
    "duration": 310,
    "start_time": "2021-09-20T16:46:32.542Z"
   },
   {
    "duration": 310,
    "start_time": "2021-09-20T16:46:32.544Z"
   },
   {
    "duration": 311,
    "start_time": "2021-09-20T16:46:32.546Z"
   },
   {
    "duration": 312,
    "start_time": "2021-09-20T16:46:32.547Z"
   },
   {
    "duration": 313,
    "start_time": "2021-09-20T16:46:32.549Z"
   },
   {
    "duration": 313,
    "start_time": "2021-09-20T16:46:32.551Z"
   },
   {
    "duration": 313,
    "start_time": "2021-09-20T16:46:32.553Z"
   },
   {
    "duration": 312,
    "start_time": "2021-09-20T16:46:32.556Z"
   },
   {
    "duration": 1640,
    "start_time": "2021-09-20T16:50:20.899Z"
   },
   {
    "duration": 3498,
    "start_time": "2021-09-20T16:50:22.542Z"
   },
   {
    "duration": 5,
    "start_time": "2021-09-20T16:50:26.042Z"
   },
   {
    "duration": 178,
    "start_time": "2021-09-20T16:50:26.049Z"
   },
   {
    "duration": 163,
    "start_time": "2021-09-20T16:50:26.229Z"
   },
   {
    "duration": 84,
    "start_time": "2021-09-20T16:50:26.395Z"
   },
   {
    "duration": 67,
    "start_time": "2021-09-20T16:50:26.482Z"
   },
   {
    "duration": 288,
    "start_time": "2021-09-20T16:50:26.555Z"
   },
   {
    "duration": 29,
    "start_time": "2021-09-20T16:50:26.846Z"
   },
   {
    "duration": 68,
    "start_time": "2021-09-20T16:50:26.877Z"
   },
   {
    "duration": 9548,
    "start_time": "2021-09-20T16:50:26.948Z"
   },
   {
    "duration": 37,
    "start_time": "2021-09-20T16:50:36.499Z"
   },
   {
    "duration": 277,
    "start_time": "2021-09-20T16:50:36.539Z"
   },
   {
    "duration": 175,
    "start_time": "2021-09-20T16:50:36.818Z"
   },
   {
    "duration": 3,
    "start_time": "2021-09-20T16:50:36.996Z"
   },
   {
    "duration": 2170,
    "start_time": "2021-09-20T16:50:37.001Z"
   },
   {
    "duration": 6,
    "start_time": "2021-09-20T16:50:39.174Z"
   },
   {
    "duration": 334,
    "start_time": "2021-09-20T16:50:39.182Z"
   },
   {
    "duration": 4,
    "start_time": "2021-09-20T16:50:39.519Z"
   },
   {
    "duration": 10,
    "start_time": "2021-09-20T16:50:39.526Z"
   },
   {
    "duration": 9,
    "start_time": "2021-09-20T16:50:39.539Z"
   },
   {
    "duration": 309060,
    "start_time": "2021-09-20T16:50:39.550Z"
   },
   {
    "duration": 5,
    "start_time": "2021-09-20T16:55:48.614Z"
   },
   {
    "duration": 6942,
    "start_time": "2021-09-20T16:55:48.622Z"
   },
   {
    "duration": 970,
    "start_time": "2021-09-20T16:55:55.566Z"
   },
   {
    "duration": 335,
    "start_time": "2021-09-20T16:55:56.203Z"
   },
   {
    "duration": 335,
    "start_time": "2021-09-20T16:55:56.205Z"
   },
   {
    "duration": 334,
    "start_time": "2021-09-20T16:55:56.208Z"
   },
   {
    "duration": 334,
    "start_time": "2021-09-20T16:55:56.210Z"
   },
   {
    "duration": 333,
    "start_time": "2021-09-20T16:55:56.213Z"
   },
   {
    "duration": 334,
    "start_time": "2021-09-20T16:55:56.215Z"
   },
   {
    "duration": 333,
    "start_time": "2021-09-20T16:55:56.218Z"
   },
   {
    "duration": 333,
    "start_time": "2021-09-20T16:55:56.220Z"
   },
   {
    "duration": 329,
    "start_time": "2021-09-20T16:55:56.227Z"
   },
   {
    "duration": 1557,
    "start_time": "2021-09-20T17:09:41.381Z"
   },
   {
    "duration": 2084,
    "start_time": "2021-09-20T17:09:42.941Z"
   },
   {
    "duration": 5,
    "start_time": "2021-09-20T17:09:45.028Z"
   },
   {
    "duration": 182,
    "start_time": "2021-09-20T17:09:45.036Z"
   },
   {
    "duration": 163,
    "start_time": "2021-09-20T17:09:45.220Z"
   },
   {
    "duration": 80,
    "start_time": "2021-09-20T17:09:45.386Z"
   },
   {
    "duration": 50,
    "start_time": "2021-09-20T17:09:45.468Z"
   },
   {
    "duration": 18698,
    "start_time": "2021-09-20T17:09:45.522Z"
   },
   {
    "duration": 330,
    "start_time": "2021-09-20T17:10:03.894Z"
   },
   {
    "duration": 327,
    "start_time": "2021-09-20T17:10:03.898Z"
   },
   {
    "duration": 326,
    "start_time": "2021-09-20T17:10:03.901Z"
   },
   {
    "duration": 324,
    "start_time": "2021-09-20T17:10:03.904Z"
   },
   {
    "duration": 323,
    "start_time": "2021-09-20T17:10:03.906Z"
   },
   {
    "duration": 322,
    "start_time": "2021-09-20T17:10:03.909Z"
   },
   {
    "duration": 321,
    "start_time": "2021-09-20T17:10:03.911Z"
   },
   {
    "duration": 319,
    "start_time": "2021-09-20T17:10:03.915Z"
   },
   {
    "duration": 319,
    "start_time": "2021-09-20T17:10:03.917Z"
   },
   {
    "duration": 317,
    "start_time": "2021-09-20T17:10:03.920Z"
   },
   {
    "duration": 316,
    "start_time": "2021-09-20T17:10:03.922Z"
   },
   {
    "duration": 316,
    "start_time": "2021-09-20T17:10:03.924Z"
   },
   {
    "duration": 316,
    "start_time": "2021-09-20T17:10:03.925Z"
   },
   {
    "duration": 316,
    "start_time": "2021-09-20T17:10:03.926Z"
   },
   {
    "duration": 314,
    "start_time": "2021-09-20T17:10:03.930Z"
   },
   {
    "duration": 314,
    "start_time": "2021-09-20T17:10:03.931Z"
   },
   {
    "duration": 314,
    "start_time": "2021-09-20T17:10:03.932Z"
   },
   {
    "duration": 315,
    "start_time": "2021-09-20T17:10:03.933Z"
   },
   {
    "duration": 298,
    "start_time": "2021-09-20T17:10:03.951Z"
   },
   {
    "duration": 298,
    "start_time": "2021-09-20T17:10:03.953Z"
   },
   {
    "duration": 297,
    "start_time": "2021-09-20T17:10:03.955Z"
   },
   {
    "duration": 298,
    "start_time": "2021-09-20T17:10:03.956Z"
   },
   {
    "duration": 297,
    "start_time": "2021-09-20T17:10:03.958Z"
   },
   {
    "duration": 296,
    "start_time": "2021-09-20T17:10:03.960Z"
   },
   {
    "duration": 294,
    "start_time": "2021-09-20T17:10:03.963Z"
   },
   {
    "duration": 295,
    "start_time": "2021-09-20T17:10:03.964Z"
   },
   {
    "duration": 1596,
    "start_time": "2021-09-20T17:14:32.138Z"
   },
   {
    "duration": 3357,
    "start_time": "2021-09-20T17:14:33.737Z"
   },
   {
    "duration": 6,
    "start_time": "2021-09-20T17:14:37.096Z"
   },
   {
    "duration": 175,
    "start_time": "2021-09-20T17:14:37.104Z"
   },
   {
    "duration": 165,
    "start_time": "2021-09-20T17:14:37.282Z"
   },
   {
    "duration": 81,
    "start_time": "2021-09-20T17:14:37.449Z"
   },
   {
    "duration": 39,
    "start_time": "2021-09-20T17:14:37.532Z"
   },
   {
    "duration": 10634,
    "start_time": "2021-09-20T17:14:37.574Z"
   },
   {
    "duration": 334,
    "start_time": "2021-09-20T17:14:47.878Z"
   },
   {
    "duration": 332,
    "start_time": "2021-09-20T17:14:47.881Z"
   },
   {
    "duration": 331,
    "start_time": "2021-09-20T17:14:47.884Z"
   },
   {
    "duration": 330,
    "start_time": "2021-09-20T17:14:47.886Z"
   },
   {
    "duration": 329,
    "start_time": "2021-09-20T17:14:47.888Z"
   },
   {
    "duration": 328,
    "start_time": "2021-09-20T17:14:47.891Z"
   },
   {
    "duration": 327,
    "start_time": "2021-09-20T17:14:47.893Z"
   },
   {
    "duration": 321,
    "start_time": "2021-09-20T17:14:47.901Z"
   },
   {
    "duration": 319,
    "start_time": "2021-09-20T17:14:47.904Z"
   },
   {
    "duration": 319,
    "start_time": "2021-09-20T17:14:47.906Z"
   },
   {
    "duration": 319,
    "start_time": "2021-09-20T17:14:47.907Z"
   },
   {
    "duration": 320,
    "start_time": "2021-09-20T17:14:47.908Z"
   },
   {
    "duration": 320,
    "start_time": "2021-09-20T17:14:47.909Z"
   },
   {
    "duration": 321,
    "start_time": "2021-09-20T17:14:47.910Z"
   },
   {
    "duration": 320,
    "start_time": "2021-09-20T17:14:47.912Z"
   },
   {
    "duration": 321,
    "start_time": "2021-09-20T17:14:47.913Z"
   },
   {
    "duration": 321,
    "start_time": "2021-09-20T17:14:47.914Z"
   },
   {
    "duration": 322,
    "start_time": "2021-09-20T17:14:47.915Z"
   },
   {
    "duration": 322,
    "start_time": "2021-09-20T17:14:47.916Z"
   },
   {
    "duration": 323,
    "start_time": "2021-09-20T17:14:47.917Z"
   },
   {
    "duration": 323,
    "start_time": "2021-09-20T17:14:47.918Z"
   },
   {
    "duration": 324,
    "start_time": "2021-09-20T17:14:47.919Z"
   },
   {
    "duration": 297,
    "start_time": "2021-09-20T17:14:47.947Z"
   },
   {
    "duration": 297,
    "start_time": "2021-09-20T17:14:47.949Z"
   },
   {
    "duration": 297,
    "start_time": "2021-09-20T17:14:47.951Z"
   },
   {
    "duration": 295,
    "start_time": "2021-09-20T17:14:47.954Z"
   },
   {
    "duration": 1640,
    "start_time": "2021-09-20T17:25:23.960Z"
   },
   {
    "duration": 5813,
    "start_time": "2021-09-20T17:25:25.603Z"
   },
   {
    "duration": 7,
    "start_time": "2021-09-20T17:25:31.419Z"
   },
   {
    "duration": 181,
    "start_time": "2021-09-20T17:25:31.429Z"
   },
   {
    "duration": 159,
    "start_time": "2021-09-20T17:25:31.617Z"
   },
   {
    "duration": 86,
    "start_time": "2021-09-20T17:25:31.779Z"
   },
   {
    "duration": 49,
    "start_time": "2021-09-20T17:25:31.868Z"
   },
   {
    "duration": 10378,
    "start_time": "2021-09-20T17:25:31.921Z"
   },
   {
    "duration": 329,
    "start_time": "2021-09-20T17:25:41.974Z"
   },
   {
    "duration": 327,
    "start_time": "2021-09-20T17:25:41.977Z"
   },
   {
    "duration": 325,
    "start_time": "2021-09-20T17:25:41.980Z"
   },
   {
    "duration": 324,
    "start_time": "2021-09-20T17:25:41.983Z"
   },
   {
    "duration": 323,
    "start_time": "2021-09-20T17:25:41.985Z"
   },
   {
    "duration": 321,
    "start_time": "2021-09-20T17:25:41.988Z"
   },
   {
    "duration": 320,
    "start_time": "2021-09-20T17:25:41.990Z"
   },
   {
    "duration": 319,
    "start_time": "2021-09-20T17:25:41.993Z"
   },
   {
    "duration": 319,
    "start_time": "2021-09-20T17:25:41.995Z"
   },
   {
    "duration": 319,
    "start_time": "2021-09-20T17:25:41.996Z"
   },
   {
    "duration": 320,
    "start_time": "2021-09-20T17:25:41.997Z"
   },
   {
    "duration": 320,
    "start_time": "2021-09-20T17:25:41.998Z"
   },
   {
    "duration": 321,
    "start_time": "2021-09-20T17:25:41.999Z"
   },
   {
    "duration": 321,
    "start_time": "2021-09-20T17:25:42.000Z"
   },
   {
    "duration": 321,
    "start_time": "2021-09-20T17:25:42.001Z"
   },
   {
    "duration": 322,
    "start_time": "2021-09-20T17:25:42.002Z"
   },
   {
    "duration": 322,
    "start_time": "2021-09-20T17:25:42.003Z"
   },
   {
    "duration": 322,
    "start_time": "2021-09-20T17:25:42.004Z"
   },
   {
    "duration": 322,
    "start_time": "2021-09-20T17:25:42.005Z"
   },
   {
    "duration": 323,
    "start_time": "2021-09-20T17:25:42.006Z"
   },
   {
    "duration": 324,
    "start_time": "2021-09-20T17:25:42.007Z"
   },
   {
    "duration": 324,
    "start_time": "2021-09-20T17:25:42.008Z"
   },
   {
    "duration": 321,
    "start_time": "2021-09-20T17:25:42.013Z"
   },
   {
    "duration": 321,
    "start_time": "2021-09-20T17:25:42.014Z"
   },
   {
    "duration": 322,
    "start_time": "2021-09-20T17:25:42.015Z"
   },
   {
    "duration": 322,
    "start_time": "2021-09-20T17:25:42.016Z"
   },
   {
    "duration": 1582,
    "start_time": "2021-09-20T17:26:05.446Z"
   },
   {
    "duration": 2173,
    "start_time": "2021-09-20T17:26:07.031Z"
   },
   {
    "duration": 11,
    "start_time": "2021-09-20T17:26:09.207Z"
   },
   {
    "duration": 171,
    "start_time": "2021-09-20T17:26:09.221Z"
   },
   {
    "duration": 173,
    "start_time": "2021-09-20T17:26:09.395Z"
   },
   {
    "duration": 88,
    "start_time": "2021-09-20T17:26:09.570Z"
   },
   {
    "duration": 299,
    "start_time": "2021-09-20T17:26:09.660Z"
   },
   {
    "duration": 72,
    "start_time": "2021-09-20T17:26:09.962Z"
   },
   {
    "duration": 9976,
    "start_time": "2021-09-20T17:26:10.039Z"
   },
   {
    "duration": 357,
    "start_time": "2021-09-20T17:26:19.662Z"
   },
   {
    "duration": 356,
    "start_time": "2021-09-20T17:26:19.665Z"
   },
   {
    "duration": 356,
    "start_time": "2021-09-20T17:26:19.667Z"
   },
   {
    "duration": 355,
    "start_time": "2021-09-20T17:26:19.670Z"
   },
   {
    "duration": 354,
    "start_time": "2021-09-20T17:26:19.673Z"
   },
   {
    "duration": 354,
    "start_time": "2021-09-20T17:26:19.676Z"
   },
   {
    "duration": 352,
    "start_time": "2021-09-20T17:26:19.679Z"
   },
   {
    "duration": 352,
    "start_time": "2021-09-20T17:26:19.682Z"
   },
   {
    "duration": 351,
    "start_time": "2021-09-20T17:26:19.685Z"
   },
   {
    "duration": 351,
    "start_time": "2021-09-20T17:26:19.687Z"
   },
   {
    "duration": 350,
    "start_time": "2021-09-20T17:26:19.690Z"
   },
   {
    "duration": 351,
    "start_time": "2021-09-20T17:26:19.691Z"
   },
   {
    "duration": 304,
    "start_time": "2021-09-20T17:26:19.741Z"
   },
   {
    "duration": 299,
    "start_time": "2021-09-20T17:26:19.748Z"
   },
   {
    "duration": 295,
    "start_time": "2021-09-20T17:26:19.755Z"
   },
   {
    "duration": 290,
    "start_time": "2021-09-20T17:26:19.762Z"
   },
   {
    "duration": 286,
    "start_time": "2021-09-20T17:26:19.768Z"
   },
   {
    "duration": 278,
    "start_time": "2021-09-20T17:26:19.778Z"
   },
   {
    "duration": 277,
    "start_time": "2021-09-20T17:26:19.781Z"
   },
   {
    "duration": 275,
    "start_time": "2021-09-20T17:26:19.785Z"
   },
   {
    "duration": 272,
    "start_time": "2021-09-20T17:26:19.790Z"
   },
   {
    "duration": 323,
    "start_time": "2021-09-20T17:26:19.793Z"
   },
   {
    "duration": 323,
    "start_time": "2021-09-20T17:26:19.796Z"
   },
   {
    "duration": 323,
    "start_time": "2021-09-20T17:26:19.798Z"
   },
   {
    "duration": 321,
    "start_time": "2021-09-20T17:26:19.802Z"
   },
   {
    "duration": 1611,
    "start_time": "2021-09-20T17:27:09.013Z"
   },
   {
    "duration": 3504,
    "start_time": "2021-09-20T17:27:10.627Z"
   },
   {
    "duration": 5,
    "start_time": "2021-09-20T17:27:14.134Z"
   },
   {
    "duration": 179,
    "start_time": "2021-09-20T17:27:14.141Z"
   },
   {
    "duration": 161,
    "start_time": "2021-09-20T17:27:14.322Z"
   },
   {
    "duration": 87,
    "start_time": "2021-09-20T17:27:14.486Z"
   },
   {
    "duration": 319,
    "start_time": "2021-09-20T17:27:14.575Z"
   },
   {
    "duration": 41,
    "start_time": "2021-09-20T17:27:14.900Z"
   },
   {
    "duration": 81,
    "start_time": "2021-09-20T17:27:14.944Z"
   },
   {
    "duration": 667,
    "start_time": "2021-09-20T17:27:15.029Z"
   },
   {
    "duration": 336,
    "start_time": "2021-09-20T17:27:15.363Z"
   },
   {
    "duration": 333,
    "start_time": "2021-09-20T17:27:15.368Z"
   },
   {
    "duration": 331,
    "start_time": "2021-09-20T17:27:15.372Z"
   },
   {
    "duration": 330,
    "start_time": "2021-09-20T17:27:15.374Z"
   },
   {
    "duration": 329,
    "start_time": "2021-09-20T17:27:15.376Z"
   },
   {
    "duration": 329,
    "start_time": "2021-09-20T17:27:15.378Z"
   },
   {
    "duration": 327,
    "start_time": "2021-09-20T17:27:15.381Z"
   },
   {
    "duration": 327,
    "start_time": "2021-09-20T17:27:15.383Z"
   },
   {
    "duration": 327,
    "start_time": "2021-09-20T17:27:15.384Z"
   },
   {
    "duration": 328,
    "start_time": "2021-09-20T17:27:15.385Z"
   },
   {
    "duration": 328,
    "start_time": "2021-09-20T17:27:15.386Z"
   },
   {
    "duration": 329,
    "start_time": "2021-09-20T17:27:15.387Z"
   },
   {
    "duration": 329,
    "start_time": "2021-09-20T17:27:15.388Z"
   },
   {
    "duration": 330,
    "start_time": "2021-09-20T17:27:15.389Z"
   },
   {
    "duration": 330,
    "start_time": "2021-09-20T17:27:15.390Z"
   },
   {
    "duration": 331,
    "start_time": "2021-09-20T17:27:15.391Z"
   },
   {
    "duration": 331,
    "start_time": "2021-09-20T17:27:15.392Z"
   },
   {
    "duration": 332,
    "start_time": "2021-09-20T17:27:15.393Z"
   },
   {
    "duration": 330,
    "start_time": "2021-09-20T17:27:15.397Z"
   },
   {
    "duration": 331,
    "start_time": "2021-09-20T17:27:15.398Z"
   },
   {
    "duration": 331,
    "start_time": "2021-09-20T17:27:15.399Z"
   },
   {
    "duration": 332,
    "start_time": "2021-09-20T17:27:15.400Z"
   },
   {
    "duration": 332,
    "start_time": "2021-09-20T17:27:15.401Z"
   },
   {
    "duration": 332,
    "start_time": "2021-09-20T17:27:15.402Z"
   },
   {
    "duration": 1642,
    "start_time": "2021-09-20T17:27:37.000Z"
   },
   {
    "duration": 2908,
    "start_time": "2021-09-20T17:27:38.645Z"
   },
   {
    "duration": 5,
    "start_time": "2021-09-20T17:27:41.560Z"
   },
   {
    "duration": 179,
    "start_time": "2021-09-20T17:27:41.567Z"
   },
   {
    "duration": 181,
    "start_time": "2021-09-20T17:27:41.749Z"
   },
   {
    "duration": 70,
    "start_time": "2021-09-20T17:27:41.932Z"
   },
   {
    "duration": 397,
    "start_time": "2021-09-20T17:27:42.019Z"
   },
   {
    "duration": 27,
    "start_time": "2021-09-20T17:27:42.419Z"
   },
   {
    "duration": 85,
    "start_time": "2021-09-20T17:27:42.448Z"
   },
   {
    "duration": 52,
    "start_time": "2021-09-20T17:27:42.536Z"
   },
   {
    "duration": 9473,
    "start_time": "2021-09-20T17:27:42.591Z"
   },
   {
    "duration": 50,
    "start_time": "2021-09-20T17:27:52.067Z"
   },
   {
    "duration": 257,
    "start_time": "2021-09-20T17:27:52.120Z"
   },
   {
    "duration": 11855,
    "start_time": "2021-09-20T17:27:52.380Z"
   },
   {
    "duration": 331,
    "start_time": "2021-09-20T17:28:03.907Z"
   },
   {
    "duration": 331,
    "start_time": "2021-09-20T17:28:03.909Z"
   },
   {
    "duration": 330,
    "start_time": "2021-09-20T17:28:03.912Z"
   },
   {
    "duration": 328,
    "start_time": "2021-09-20T17:28:03.915Z"
   },
   {
    "duration": 328,
    "start_time": "2021-09-20T17:28:03.917Z"
   },
   {
    "duration": 326,
    "start_time": "2021-09-20T17:28:03.920Z"
   },
   {
    "duration": 326,
    "start_time": "2021-09-20T17:28:03.922Z"
   },
   {
    "duration": 324,
    "start_time": "2021-09-20T17:28:03.925Z"
   },
   {
    "duration": 325,
    "start_time": "2021-09-20T17:28:03.926Z"
   },
   {
    "duration": 324,
    "start_time": "2021-09-20T17:28:03.928Z"
   },
   {
    "duration": 324,
    "start_time": "2021-09-20T17:28:03.929Z"
   },
   {
    "duration": 325,
    "start_time": "2021-09-20T17:28:03.930Z"
   },
   {
    "duration": 325,
    "start_time": "2021-09-20T17:28:03.931Z"
   },
   {
    "duration": 325,
    "start_time": "2021-09-20T17:28:03.932Z"
   },
   {
    "duration": 325,
    "start_time": "2021-09-20T17:28:03.934Z"
   },
   {
    "duration": 325,
    "start_time": "2021-09-20T17:28:03.935Z"
   },
   {
    "duration": 325,
    "start_time": "2021-09-20T17:28:03.936Z"
   },
   {
    "duration": 326,
    "start_time": "2021-09-20T17:28:03.937Z"
   },
   {
    "duration": 323,
    "start_time": "2021-09-20T17:28:03.941Z"
   },
   {
    "duration": 322,
    "start_time": "2021-09-20T17:28:03.943Z"
   },
   {
    "duration": 1657,
    "start_time": "2021-09-20T17:29:21.505Z"
   },
   {
    "duration": 2037,
    "start_time": "2021-09-20T17:29:23.165Z"
   },
   {
    "duration": 13,
    "start_time": "2021-09-20T17:29:25.205Z"
   },
   {
    "duration": 165,
    "start_time": "2021-09-20T17:29:25.221Z"
   },
   {
    "duration": 163,
    "start_time": "2021-09-20T17:29:25.389Z"
   },
   {
    "duration": 89,
    "start_time": "2021-09-20T17:29:25.555Z"
   },
   {
    "duration": 301,
    "start_time": "2021-09-20T17:29:25.646Z"
   },
   {
    "duration": 26,
    "start_time": "2021-09-20T17:29:25.951Z"
   },
   {
    "duration": 90,
    "start_time": "2021-09-20T17:29:25.981Z"
   },
   {
    "duration": 62,
    "start_time": "2021-09-20T17:29:26.073Z"
   },
   {
    "duration": 10087,
    "start_time": "2021-09-20T17:29:26.138Z"
   },
   {
    "duration": 33,
    "start_time": "2021-09-20T17:29:36.228Z"
   },
   {
    "duration": 265,
    "start_time": "2021-09-20T17:29:36.264Z"
   },
   {
    "duration": 11072,
    "start_time": "2021-09-20T17:29:36.532Z"
   },
   {
    "duration": 350,
    "start_time": "2021-09-20T17:29:47.256Z"
   },
   {
    "duration": 344,
    "start_time": "2021-09-20T17:29:47.264Z"
   },
   {
    "duration": 339,
    "start_time": "2021-09-20T17:29:47.271Z"
   },
   {
    "duration": 334,
    "start_time": "2021-09-20T17:29:47.277Z"
   },
   {
    "duration": 333,
    "start_time": "2021-09-20T17:29:47.280Z"
   },
   {
    "duration": 332,
    "start_time": "2021-09-20T17:29:47.282Z"
   },
   {
    "duration": 331,
    "start_time": "2021-09-20T17:29:47.285Z"
   },
   {
    "duration": 331,
    "start_time": "2021-09-20T17:29:47.287Z"
   },
   {
    "duration": 330,
    "start_time": "2021-09-20T17:29:47.290Z"
   },
   {
    "duration": 329,
    "start_time": "2021-09-20T17:29:47.292Z"
   },
   {
    "duration": 328,
    "start_time": "2021-09-20T17:29:47.295Z"
   },
   {
    "duration": 328,
    "start_time": "2021-09-20T17:29:47.297Z"
   },
   {
    "duration": 327,
    "start_time": "2021-09-20T17:29:47.300Z"
   },
   {
    "duration": 326,
    "start_time": "2021-09-20T17:29:47.302Z"
   },
   {
    "duration": 325,
    "start_time": "2021-09-20T17:29:47.305Z"
   },
   {
    "duration": 325,
    "start_time": "2021-09-20T17:29:47.307Z"
   },
   {
    "duration": 325,
    "start_time": "2021-09-20T17:29:47.308Z"
   },
   {
    "duration": 325,
    "start_time": "2021-09-20T17:29:47.310Z"
   },
   {
    "duration": 324,
    "start_time": "2021-09-20T17:29:47.312Z"
   },
   {
    "duration": 325,
    "start_time": "2021-09-20T17:29:47.313Z"
   },
   {
    "duration": 1661,
    "start_time": "2021-09-20T17:30:49.785Z"
   },
   {
    "duration": 3305,
    "start_time": "2021-09-20T17:30:51.449Z"
   },
   {
    "duration": 5,
    "start_time": "2021-09-20T17:30:54.756Z"
   },
   {
    "duration": 177,
    "start_time": "2021-09-20T17:30:54.764Z"
   },
   {
    "duration": 173,
    "start_time": "2021-09-20T17:30:54.943Z"
   },
   {
    "duration": 73,
    "start_time": "2021-09-20T17:30:55.118Z"
   },
   {
    "duration": 308,
    "start_time": "2021-09-20T17:30:55.194Z"
   },
   {
    "duration": 31,
    "start_time": "2021-09-20T17:30:55.506Z"
   },
   {
    "duration": 83,
    "start_time": "2021-09-20T17:30:55.540Z"
   },
   {
    "duration": 55,
    "start_time": "2021-09-20T17:30:55.626Z"
   },
   {
    "duration": 9826,
    "start_time": "2021-09-20T17:30:55.684Z"
   },
   {
    "duration": 32,
    "start_time": "2021-09-20T17:31:05.516Z"
   },
   {
    "duration": 269,
    "start_time": "2021-09-20T17:31:05.550Z"
   },
   {
    "duration": 128,
    "start_time": "2021-09-20T17:31:05.821Z"
   },
   {
    "duration": 4,
    "start_time": "2021-09-20T17:31:05.951Z"
   },
   {
    "duration": 2428,
    "start_time": "2021-09-20T17:31:05.957Z"
   },
   {
    "duration": 5,
    "start_time": "2021-09-20T17:31:08.388Z"
   },
   {
    "duration": 352,
    "start_time": "2021-09-20T17:31:08.396Z"
   },
   {
    "duration": 4,
    "start_time": "2021-09-20T17:31:08.750Z"
   },
   {
    "duration": 10,
    "start_time": "2021-09-20T17:31:08.756Z"
   },
   {
    "duration": 15,
    "start_time": "2021-09-20T17:31:08.768Z"
   },
   {
    "duration": 388734,
    "start_time": "2021-09-20T17:31:08.785Z"
   },
   {
    "duration": 4,
    "start_time": "2021-09-20T17:37:37.524Z"
   },
   {
    "duration": 9872,
    "start_time": "2021-09-20T17:37:37.531Z"
   },
   {
    "duration": 962,
    "start_time": "2021-09-20T17:37:47.406Z"
   },
   {
    "duration": 365,
    "start_time": "2021-09-20T17:37:48.006Z"
   },
   {
    "duration": 363,
    "start_time": "2021-09-20T17:37:48.009Z"
   },
   {
    "duration": 360,
    "start_time": "2021-09-20T17:37:48.013Z"
   },
   {
    "duration": 358,
    "start_time": "2021-09-20T17:37:48.016Z"
   },
   {
    "duration": 357,
    "start_time": "2021-09-20T17:37:48.019Z"
   },
   {
    "duration": 356,
    "start_time": "2021-09-20T17:37:48.021Z"
   },
   {
    "duration": 355,
    "start_time": "2021-09-20T17:37:48.023Z"
   },
   {
    "duration": 354,
    "start_time": "2021-09-20T17:37:48.025Z"
   },
   {
    "duration": 354,
    "start_time": "2021-09-20T17:37:48.027Z"
   },
   {
    "duration": 1614,
    "start_time": "2021-09-20T17:40:01.536Z"
   },
   {
    "duration": 2069,
    "start_time": "2021-09-20T17:40:03.152Z"
   },
   {
    "duration": 6,
    "start_time": "2021-09-20T17:40:05.224Z"
   },
   {
    "duration": 178,
    "start_time": "2021-09-20T17:40:05.232Z"
   },
   {
    "duration": 164,
    "start_time": "2021-09-20T17:40:05.417Z"
   },
   {
    "duration": 82,
    "start_time": "2021-09-20T17:40:05.584Z"
   },
   {
    "duration": 292,
    "start_time": "2021-09-20T17:40:05.669Z"
   },
   {
    "duration": 27,
    "start_time": "2021-09-20T17:40:05.965Z"
   },
   {
    "duration": 85,
    "start_time": "2021-09-20T17:40:05.995Z"
   },
   {
    "duration": 64,
    "start_time": "2021-09-20T17:40:06.082Z"
   },
   {
    "duration": 1238,
    "start_time": "2021-09-20T17:40:06.148Z"
   },
   {
    "duration": 349,
    "start_time": "2021-09-20T17:40:07.040Z"
   },
   {
    "duration": 345,
    "start_time": "2021-09-20T17:40:07.045Z"
   },
   {
    "duration": 340,
    "start_time": "2021-09-20T17:40:07.052Z"
   },
   {
    "duration": 336,
    "start_time": "2021-09-20T17:40:07.058Z"
   },
   {
    "duration": 332,
    "start_time": "2021-09-20T17:40:07.063Z"
   },
   {
    "duration": 327,
    "start_time": "2021-09-20T17:40:07.069Z"
   },
   {
    "duration": 326,
    "start_time": "2021-09-20T17:40:07.072Z"
   },
   {
    "duration": 324,
    "start_time": "2021-09-20T17:40:07.075Z"
   },
   {
    "duration": 322,
    "start_time": "2021-09-20T17:40:07.078Z"
   },
   {
    "duration": 321,
    "start_time": "2021-09-20T17:40:07.080Z"
   },
   {
    "duration": 320,
    "start_time": "2021-09-20T17:40:07.083Z"
   },
   {
    "duration": 319,
    "start_time": "2021-09-20T17:40:07.085Z"
   },
   {
    "duration": 317,
    "start_time": "2021-09-20T17:40:07.088Z"
   },
   {
    "duration": 316,
    "start_time": "2021-09-20T17:40:07.090Z"
   },
   {
    "duration": 315,
    "start_time": "2021-09-20T17:40:07.092Z"
   },
   {
    "duration": 314,
    "start_time": "2021-09-20T17:40:07.095Z"
   },
   {
    "duration": 312,
    "start_time": "2021-09-20T17:40:07.098Z"
   },
   {
    "duration": 311,
    "start_time": "2021-09-20T17:40:07.100Z"
   },
   {
    "duration": 311,
    "start_time": "2021-09-20T17:40:07.101Z"
   },
   {
    "duration": 310,
    "start_time": "2021-09-20T17:40:07.103Z"
   },
   {
    "duration": 311,
    "start_time": "2021-09-20T17:40:07.104Z"
   },
   {
    "duration": 311,
    "start_time": "2021-09-20T17:40:07.105Z"
   },
   {
    "duration": 311,
    "start_time": "2021-09-20T17:40:07.106Z"
   },
   {
    "duration": 1611,
    "start_time": "2021-09-20T17:41:38.243Z"
   },
   {
    "duration": 2235,
    "start_time": "2021-09-20T17:41:39.857Z"
   },
   {
    "duration": 21,
    "start_time": "2021-09-20T17:41:42.095Z"
   },
   {
    "duration": 161,
    "start_time": "2021-09-20T17:41:42.118Z"
   },
   {
    "duration": 163,
    "start_time": "2021-09-20T17:41:42.281Z"
   },
   {
    "duration": 90,
    "start_time": "2021-09-20T17:41:42.446Z"
   },
   {
    "duration": 291,
    "start_time": "2021-09-20T17:41:42.538Z"
   },
   {
    "duration": 30,
    "start_time": "2021-09-20T17:41:42.833Z"
   },
   {
    "duration": 87,
    "start_time": "2021-09-20T17:41:42.866Z"
   },
   {
    "duration": 54,
    "start_time": "2021-09-20T17:41:42.955Z"
   },
   {
    "duration": 1251,
    "start_time": "2021-09-20T17:41:43.017Z"
   },
   {
    "duration": 351,
    "start_time": "2021-09-20T17:41:43.920Z"
   },
   {
    "duration": 348,
    "start_time": "2021-09-20T17:41:43.924Z"
   },
   {
    "duration": 347,
    "start_time": "2021-09-20T17:41:43.927Z"
   },
   {
    "duration": 348,
    "start_time": "2021-09-20T17:41:43.928Z"
   },
   {
    "duration": 347,
    "start_time": "2021-09-20T17:41:43.930Z"
   },
   {
    "duration": 347,
    "start_time": "2021-09-20T17:41:43.932Z"
   },
   {
    "duration": 346,
    "start_time": "2021-09-20T17:41:43.934Z"
   },
   {
    "duration": 347,
    "start_time": "2021-09-20T17:41:43.935Z"
   },
   {
    "duration": 346,
    "start_time": "2021-09-20T17:41:43.937Z"
   },
   {
    "duration": 345,
    "start_time": "2021-09-20T17:41:43.939Z"
   },
   {
    "duration": 345,
    "start_time": "2021-09-20T17:41:43.940Z"
   },
   {
    "duration": 345,
    "start_time": "2021-09-20T17:41:43.942Z"
   },
   {
    "duration": 344,
    "start_time": "2021-09-20T17:41:43.944Z"
   },
   {
    "duration": 344,
    "start_time": "2021-09-20T17:41:43.945Z"
   },
   {
    "duration": 344,
    "start_time": "2021-09-20T17:41:43.947Z"
   },
   {
    "duration": 339,
    "start_time": "2021-09-20T17:41:43.953Z"
   },
   {
    "duration": 338,
    "start_time": "2021-09-20T17:41:43.955Z"
   },
   {
    "duration": 337,
    "start_time": "2021-09-20T17:41:43.957Z"
   },
   {
    "duration": 338,
    "start_time": "2021-09-20T17:41:43.958Z"
   },
   {
    "duration": 337,
    "start_time": "2021-09-20T17:41:43.960Z"
   },
   {
    "duration": 338,
    "start_time": "2021-09-20T17:41:43.961Z"
   },
   {
    "duration": 338,
    "start_time": "2021-09-20T17:41:43.962Z"
   },
   {
    "duration": 338,
    "start_time": "2021-09-20T17:41:43.963Z"
   },
   {
    "duration": 1654,
    "start_time": "2021-09-20T17:42:38.087Z"
   },
   {
    "duration": 3457,
    "start_time": "2021-09-20T17:42:39.743Z"
   },
   {
    "duration": 15,
    "start_time": "2021-09-20T17:42:43.202Z"
   },
   {
    "duration": 168,
    "start_time": "2021-09-20T17:42:43.220Z"
   },
   {
    "duration": 172,
    "start_time": "2021-09-20T17:42:43.392Z"
   },
   {
    "duration": 85,
    "start_time": "2021-09-20T17:42:43.567Z"
   },
   {
    "duration": 300,
    "start_time": "2021-09-20T17:42:43.656Z"
   },
   {
    "duration": 40,
    "start_time": "2021-09-20T17:42:43.962Z"
   },
   {
    "duration": 71,
    "start_time": "2021-09-20T17:42:44.007Z"
   },
   {
    "duration": 69,
    "start_time": "2021-09-20T17:42:44.081Z"
   },
   {
    "duration": 389,
    "start_time": "2021-09-20T17:42:44.153Z"
   },
   {
    "duration": 27,
    "start_time": "2021-09-20T17:42:44.545Z"
   },
   {
    "duration": 260,
    "start_time": "2021-09-20T17:42:44.575Z"
   },
   {
    "duration": 120,
    "start_time": "2021-09-20T17:42:44.837Z"
   },
   {
    "duration": 4,
    "start_time": "2021-09-20T17:42:44.959Z"
   },
   {
    "duration": 2384,
    "start_time": "2021-09-20T17:42:44.965Z"
   },
   {
    "duration": 5,
    "start_time": "2021-09-20T17:42:47.352Z"
   },
   {
    "duration": 327,
    "start_time": "2021-09-20T17:42:47.359Z"
   },
   {
    "duration": 4,
    "start_time": "2021-09-20T17:42:47.688Z"
   },
   {
    "duration": 8,
    "start_time": "2021-09-20T17:42:47.694Z"
   },
   {
    "duration": 4,
    "start_time": "2021-09-20T17:42:47.717Z"
   },
   {
    "duration": 432226,
    "start_time": "2021-09-20T17:42:47.724Z"
   },
   {
    "duration": 5,
    "start_time": "2021-09-20T17:49:59.955Z"
   },
   {
    "duration": 11386,
    "start_time": "2021-09-20T17:49:59.963Z"
   },
   {
    "duration": 1424,
    "start_time": "2021-09-20T17:50:11.351Z"
   },
   {
    "duration": 385,
    "start_time": "2021-09-20T17:50:12.392Z"
   },
   {
    "duration": 362,
    "start_time": "2021-09-20T17:50:12.417Z"
   },
   {
    "duration": 354,
    "start_time": "2021-09-20T17:50:12.426Z"
   },
   {
    "duration": 355,
    "start_time": "2021-09-20T17:50:12.427Z"
   },
   {
    "duration": 351,
    "start_time": "2021-09-20T17:50:12.432Z"
   },
   {
    "duration": 352,
    "start_time": "2021-09-20T17:50:12.433Z"
   },
   {
    "duration": 352,
    "start_time": "2021-09-20T17:50:12.434Z"
   },
   {
    "duration": 352,
    "start_time": "2021-09-20T17:50:12.435Z"
   },
   {
    "duration": 353,
    "start_time": "2021-09-20T17:50:12.436Z"
   },
   {
    "duration": 1729,
    "start_time": "2021-09-20T17:52:30.923Z"
   },
   {
    "duration": 2735,
    "start_time": "2021-09-20T17:52:32.655Z"
   },
   {
    "duration": 20,
    "start_time": "2021-09-20T17:52:35.396Z"
   },
   {
    "duration": 172,
    "start_time": "2021-09-20T17:52:35.418Z"
   },
   {
    "duration": 266,
    "start_time": "2021-09-20T17:52:35.592Z"
   },
   {
    "duration": 86,
    "start_time": "2021-09-20T17:52:35.861Z"
   },
   {
    "duration": 293,
    "start_time": "2021-09-20T17:52:35.951Z"
   },
   {
    "duration": 27,
    "start_time": "2021-09-20T17:52:36.248Z"
   },
   {
    "duration": 88,
    "start_time": "2021-09-20T17:52:36.277Z"
   },
   {
    "duration": 63,
    "start_time": "2021-09-20T17:52:36.368Z"
   },
   {
    "duration": 378,
    "start_time": "2021-09-20T17:52:36.434Z"
   },
   {
    "duration": 26,
    "start_time": "2021-09-20T17:52:36.815Z"
   },
   {
    "duration": 255,
    "start_time": "2021-09-20T17:52:36.844Z"
   },
   {
    "duration": 121,
    "start_time": "2021-09-20T17:52:37.101Z"
   },
   {
    "duration": 3,
    "start_time": "2021-09-20T17:52:37.224Z"
   },
   {
    "duration": 2453,
    "start_time": "2021-09-20T17:52:37.229Z"
   },
   {
    "duration": 4,
    "start_time": "2021-09-20T17:52:39.685Z"
   },
   {
    "duration": 341,
    "start_time": "2021-09-20T17:52:39.692Z"
   },
   {
    "duration": 11,
    "start_time": "2021-09-20T17:52:40.036Z"
   },
   {
    "duration": 8,
    "start_time": "2021-09-20T17:52:40.050Z"
   },
   {
    "duration": 12,
    "start_time": "2021-09-20T17:52:40.061Z"
   },
   {
    "duration": 433047,
    "start_time": "2021-09-20T17:52:40.078Z"
   },
   {
    "duration": 4,
    "start_time": "2021-09-20T17:59:53.128Z"
   },
   {
    "duration": 11267,
    "start_time": "2021-09-20T17:59:53.135Z"
   },
   {
    "duration": 889,
    "start_time": "2021-09-20T18:00:04.404Z"
   },
   {
    "duration": 756,
    "start_time": "2021-09-20T18:00:05.296Z"
   },
   {
    "duration": 399,
    "start_time": "2021-09-20T18:00:06.054Z"
   },
   {
    "duration": 383,
    "start_time": "2021-09-20T18:00:06.072Z"
   },
   {
    "duration": 382,
    "start_time": "2021-09-20T18:00:06.074Z"
   },
   {
    "duration": 381,
    "start_time": "2021-09-20T18:00:06.077Z"
   },
   {
    "duration": 362,
    "start_time": "2021-09-20T18:00:06.097Z"
   },
   {
    "duration": 362,
    "start_time": "2021-09-20T18:00:06.099Z"
   },
   {
    "duration": 362,
    "start_time": "2021-09-20T18:00:06.100Z"
   },
   {
    "duration": 359,
    "start_time": "2021-09-20T18:00:06.105Z"
   },
   {
    "duration": 1572,
    "start_time": "2021-09-20T18:00:45.048Z"
   },
   {
    "duration": 3345,
    "start_time": "2021-09-20T18:00:46.622Z"
   },
   {
    "duration": 5,
    "start_time": "2021-09-20T18:00:49.970Z"
   },
   {
    "duration": 172,
    "start_time": "2021-09-20T18:00:49.977Z"
   },
   {
    "duration": 155,
    "start_time": "2021-09-20T18:00:50.151Z"
   },
   {
    "duration": 71,
    "start_time": "2021-09-20T18:00:50.317Z"
   },
   {
    "duration": 3,
    "start_time": "2021-09-20T18:00:50.390Z"
   },
   {
    "duration": 20,
    "start_time": "2021-09-20T18:00:50.397Z"
   },
   {
    "duration": 58,
    "start_time": "2021-09-20T18:00:50.420Z"
   },
   {
    "duration": 78,
    "start_time": "2021-09-20T18:00:50.480Z"
   },
   {
    "duration": 407,
    "start_time": "2021-09-20T18:00:50.560Z"
   },
   {
    "duration": 297,
    "start_time": "2021-09-20T18:00:50.969Z"
   },
   {
    "duration": 732,
    "start_time": "2021-09-20T18:00:51.269Z"
   },
   {
    "duration": 376,
    "start_time": "2021-09-20T18:00:51.628Z"
   },
   {
    "duration": 372,
    "start_time": "2021-09-20T18:00:51.634Z"
   },
   {
    "duration": 368,
    "start_time": "2021-09-20T18:00:51.640Z"
   },
   {
    "duration": 366,
    "start_time": "2021-09-20T18:00:51.643Z"
   },
   {
    "duration": 366,
    "start_time": "2021-09-20T18:00:51.645Z"
   },
   {
    "duration": 364,
    "start_time": "2021-09-20T18:00:51.648Z"
   },
   {
    "duration": 364,
    "start_time": "2021-09-20T18:00:51.650Z"
   },
   {
    "duration": 363,
    "start_time": "2021-09-20T18:00:51.652Z"
   },
   {
    "duration": 362,
    "start_time": "2021-09-20T18:00:51.655Z"
   },
   {
    "duration": 360,
    "start_time": "2021-09-20T18:00:51.658Z"
   },
   {
    "duration": 360,
    "start_time": "2021-09-20T18:00:51.660Z"
   },
   {
    "duration": 358,
    "start_time": "2021-09-20T18:00:51.663Z"
   },
   {
    "duration": 357,
    "start_time": "2021-09-20T18:00:51.665Z"
   },
   {
    "duration": 357,
    "start_time": "2021-09-20T18:00:51.667Z"
   },
   {
    "duration": 357,
    "start_time": "2021-09-20T18:00:51.669Z"
   },
   {
    "duration": 356,
    "start_time": "2021-09-20T18:00:51.671Z"
   },
   {
    "duration": 357,
    "start_time": "2021-09-20T18:00:51.672Z"
   },
   {
    "duration": 357,
    "start_time": "2021-09-20T18:00:51.673Z"
   },
   {
    "duration": 358,
    "start_time": "2021-09-20T18:00:51.674Z"
   },
   {
    "duration": 358,
    "start_time": "2021-09-20T18:00:51.675Z"
   },
   {
    "duration": 1721,
    "start_time": "2021-09-20T18:02:56.121Z"
   },
   {
    "duration": 1749,
    "start_time": "2021-09-20T18:02:57.844Z"
   },
   {
    "duration": 6,
    "start_time": "2021-09-20T18:02:59.596Z"
   },
   {
    "duration": 184,
    "start_time": "2021-09-20T18:02:59.604Z"
   },
   {
    "duration": 162,
    "start_time": "2021-09-20T18:02:59.791Z"
   },
   {
    "duration": 88,
    "start_time": "2021-09-20T18:02:59.955Z"
   },
   {
    "duration": 3,
    "start_time": "2021-09-20T18:03:00.046Z"
   },
   {
    "duration": 18,
    "start_time": "2021-09-20T18:03:00.052Z"
   },
   {
    "duration": 67,
    "start_time": "2021-09-20T18:03:00.073Z"
   },
   {
    "duration": 71,
    "start_time": "2021-09-20T18:03:00.142Z"
   },
   {
    "duration": 387,
    "start_time": "2021-09-20T18:03:00.216Z"
   },
   {
    "duration": 293,
    "start_time": "2021-09-20T18:03:00.606Z"
   },
   {
    "duration": 3,
    "start_time": "2021-09-20T18:03:00.902Z"
   },
   {
    "duration": 5,
    "start_time": "2021-09-20T18:03:00.915Z"
   },
   {
    "duration": 1625,
    "start_time": "2021-09-20T18:03:00.922Z"
   },
   {
    "duration": 5,
    "start_time": "2021-09-20T18:03:02.550Z"
   },
   {
    "duration": 333,
    "start_time": "2021-09-20T18:03:02.557Z"
   },
   {
    "duration": 4,
    "start_time": "2021-09-20T18:03:02.892Z"
   },
   {
    "duration": 29,
    "start_time": "2021-09-20T18:03:02.898Z"
   },
   {
    "duration": 31,
    "start_time": "2021-09-20T18:03:02.930Z"
   },
   {
    "duration": 349943,
    "start_time": "2021-09-20T18:03:02.964Z"
   },
   {
    "duration": 6,
    "start_time": "2021-09-20T18:08:52.916Z"
   },
   {
    "duration": 9710,
    "start_time": "2021-09-20T18:08:52.928Z"
   },
   {
    "duration": 892,
    "start_time": "2021-09-20T18:09:02.641Z"
   },
   {
    "duration": 510,
    "start_time": "2021-09-20T18:09:03.535Z"
   },
   {
    "duration": 408,
    "start_time": "2021-09-20T18:09:04.047Z"
   },
   {
    "duration": 383,
    "start_time": "2021-09-20T18:09:04.075Z"
   },
   {
    "duration": 382,
    "start_time": "2021-09-20T18:09:04.077Z"
   },
   {
    "duration": 383,
    "start_time": "2021-09-20T18:09:04.078Z"
   },
   {
    "duration": 384,
    "start_time": "2021-09-20T18:09:04.079Z"
   },
   {
    "duration": 384,
    "start_time": "2021-09-20T18:09:04.080Z"
   },
   {
    "duration": 384,
    "start_time": "2021-09-20T18:09:04.082Z"
   },
   {
    "duration": 384,
    "start_time": "2021-09-20T18:09:04.083Z"
   },
   {
    "duration": 1581,
    "start_time": "2021-09-20T18:11:09.150Z"
   },
   {
    "duration": 502,
    "start_time": "2021-09-20T18:11:10.734Z"
   },
   {
    "duration": 364,
    "start_time": "2021-09-20T18:11:10.876Z"
   },
   {
    "duration": 363,
    "start_time": "2021-09-20T18:11:10.879Z"
   },
   {
    "duration": 360,
    "start_time": "2021-09-20T18:11:10.883Z"
   },
   {
    "duration": 358,
    "start_time": "2021-09-20T18:11:10.887Z"
   },
   {
    "duration": 356,
    "start_time": "2021-09-20T18:11:10.890Z"
   },
   {
    "duration": 355,
    "start_time": "2021-09-20T18:11:10.892Z"
   },
   {
    "duration": 356,
    "start_time": "2021-09-20T18:11:10.893Z"
   },
   {
    "duration": 355,
    "start_time": "2021-09-20T18:11:10.895Z"
   },
   {
    "duration": 355,
    "start_time": "2021-09-20T18:11:10.896Z"
   },
   {
    "duration": 356,
    "start_time": "2021-09-20T18:11:10.897Z"
   },
   {
    "duration": 356,
    "start_time": "2021-09-20T18:11:10.898Z"
   },
   {
    "duration": 356,
    "start_time": "2021-09-20T18:11:10.899Z"
   },
   {
    "duration": 356,
    "start_time": "2021-09-20T18:11:10.900Z"
   },
   {
    "duration": 356,
    "start_time": "2021-09-20T18:11:10.901Z"
   },
   {
    "duration": 355,
    "start_time": "2021-09-20T18:11:10.904Z"
   },
   {
    "duration": 354,
    "start_time": "2021-09-20T18:11:10.906Z"
   },
   {
    "duration": 354,
    "start_time": "2021-09-20T18:11:10.907Z"
   },
   {
    "duration": 353,
    "start_time": "2021-09-20T18:11:10.910Z"
   },
   {
    "duration": 353,
    "start_time": "2021-09-20T18:11:10.911Z"
   },
   {
    "duration": 352,
    "start_time": "2021-09-20T18:11:10.913Z"
   },
   {
    "duration": 345,
    "start_time": "2021-09-20T18:11:10.921Z"
   },
   {
    "duration": 346,
    "start_time": "2021-09-20T18:11:10.922Z"
   },
   {
    "duration": 346,
    "start_time": "2021-09-20T18:11:10.923Z"
   },
   {
    "duration": 344,
    "start_time": "2021-09-20T18:11:10.926Z"
   },
   {
    "duration": 342,
    "start_time": "2021-09-20T18:11:10.929Z"
   },
   {
    "duration": 342,
    "start_time": "2021-09-20T18:11:10.931Z"
   },
   {
    "duration": 340,
    "start_time": "2021-09-20T18:11:10.934Z"
   },
   {
    "duration": 340,
    "start_time": "2021-09-20T18:11:10.935Z"
   },
   {
    "duration": 378,
    "start_time": "2021-09-20T18:11:10.938Z"
   },
   {
    "duration": 377,
    "start_time": "2021-09-20T18:11:10.940Z"
   },
   {
    "duration": 375,
    "start_time": "2021-09-20T18:11:10.944Z"
   },
   {
    "duration": 1604,
    "start_time": "2021-09-20T18:11:24.083Z"
   },
   {
    "duration": 3560,
    "start_time": "2021-09-20T18:11:25.690Z"
   },
   {
    "duration": 6,
    "start_time": "2021-09-20T18:11:29.253Z"
   },
   {
    "duration": 142,
    "start_time": "2021-09-20T18:11:29.261Z"
   },
   {
    "duration": 117,
    "start_time": "2021-09-20T18:11:29.405Z"
   },
   {
    "duration": 73,
    "start_time": "2021-09-20T18:11:29.524Z"
   },
   {
    "duration": 3,
    "start_time": "2021-09-20T18:11:29.617Z"
   },
   {
    "duration": 8,
    "start_time": "2021-09-20T18:11:29.624Z"
   },
   {
    "duration": 48,
    "start_time": "2021-09-20T18:11:29.635Z"
   },
   {
    "duration": 78,
    "start_time": "2021-09-20T18:11:29.685Z"
   },
   {
    "duration": 420,
    "start_time": "2021-09-20T18:11:29.765Z"
   },
   {
    "duration": 282,
    "start_time": "2021-09-20T18:11:30.187Z"
   },
   {
    "duration": 3,
    "start_time": "2021-09-20T18:11:30.472Z"
   },
   {
    "duration": 25,
    "start_time": "2021-09-20T18:11:30.478Z"
   },
   {
    "duration": 1629,
    "start_time": "2021-09-20T18:11:30.506Z"
   },
   {
    "duration": 5,
    "start_time": "2021-09-20T18:11:32.138Z"
   },
   {
    "duration": 336,
    "start_time": "2021-09-20T18:11:32.145Z"
   },
   {
    "duration": 4,
    "start_time": "2021-09-20T18:11:32.483Z"
   },
   {
    "duration": 23,
    "start_time": "2021-09-20T18:11:32.490Z"
   },
   {
    "duration": 22,
    "start_time": "2021-09-20T18:11:32.515Z"
   },
   {
    "duration": 354226,
    "start_time": "2021-09-20T18:11:32.540Z"
   },
   {
    "duration": 5,
    "start_time": "2021-09-20T18:17:26.769Z"
   },
   {
    "duration": 9904,
    "start_time": "2021-09-20T18:17:26.778Z"
   },
   {
    "duration": 907,
    "start_time": "2021-09-20T18:17:36.685Z"
   },
   {
    "duration": 547,
    "start_time": "2021-09-20T18:17:37.596Z"
   },
   {
    "duration": 399,
    "start_time": "2021-09-20T18:17:38.146Z"
   },
   {
    "duration": 393,
    "start_time": "2021-09-20T18:17:38.155Z"
   },
   {
    "duration": 390,
    "start_time": "2021-09-20T18:17:38.160Z"
   },
   {
    "duration": 369,
    "start_time": "2021-09-20T18:17:38.183Z"
   },
   {
    "duration": 369,
    "start_time": "2021-09-20T18:17:38.186Z"
   },
   {
    "duration": 368,
    "start_time": "2021-09-20T18:17:38.189Z"
   },
   {
    "duration": 367,
    "start_time": "2021-09-20T18:17:38.192Z"
   },
   {
    "duration": 369,
    "start_time": "2021-09-20T18:17:38.193Z"
   },
   {
    "duration": 1573,
    "start_time": "2021-09-20T18:22:18.167Z"
   },
   {
    "duration": 3702,
    "start_time": "2021-09-20T18:22:19.746Z"
   },
   {
    "duration": 5,
    "start_time": "2021-09-20T18:22:23.451Z"
   },
   {
    "duration": 138,
    "start_time": "2021-09-20T18:22:23.458Z"
   },
   {
    "duration": 136,
    "start_time": "2021-09-20T18:22:23.599Z"
   },
   {
    "duration": 89,
    "start_time": "2021-09-20T18:22:23.738Z"
   },
   {
    "duration": 669,
    "start_time": "2021-09-20T18:22:23.831Z"
   },
   {
    "duration": 370,
    "start_time": "2021-09-20T18:22:24.133Z"
   },
   {
    "duration": 370,
    "start_time": "2021-09-20T18:22:24.135Z"
   },
   {
    "duration": 369,
    "start_time": "2021-09-20T18:22:24.138Z"
   },
   {
    "duration": 368,
    "start_time": "2021-09-20T18:22:24.141Z"
   },
   {
    "duration": 368,
    "start_time": "2021-09-20T18:22:24.143Z"
   },
   {
    "duration": 368,
    "start_time": "2021-09-20T18:22:24.145Z"
   },
   {
    "duration": 366,
    "start_time": "2021-09-20T18:22:24.148Z"
   },
   {
    "duration": 366,
    "start_time": "2021-09-20T18:22:24.150Z"
   },
   {
    "duration": 365,
    "start_time": "2021-09-20T18:22:24.153Z"
   },
   {
    "duration": 365,
    "start_time": "2021-09-20T18:22:24.155Z"
   },
   {
    "duration": 366,
    "start_time": "2021-09-20T18:22:24.156Z"
   },
   {
    "duration": 364,
    "start_time": "2021-09-20T18:22:24.159Z"
   },
   {
    "duration": 362,
    "start_time": "2021-09-20T18:22:24.163Z"
   },
   {
    "duration": 362,
    "start_time": "2021-09-20T18:22:24.164Z"
   },
   {
    "duration": 362,
    "start_time": "2021-09-20T18:22:24.165Z"
   },
   {
    "duration": 363,
    "start_time": "2021-09-20T18:22:24.166Z"
   },
   {
    "duration": 363,
    "start_time": "2021-09-20T18:22:24.167Z"
   },
   {
    "duration": 363,
    "start_time": "2021-09-20T18:22:24.168Z"
   },
   {
    "duration": 363,
    "start_time": "2021-09-20T18:22:24.169Z"
   },
   {
    "duration": 363,
    "start_time": "2021-09-20T18:22:24.170Z"
   },
   {
    "duration": 363,
    "start_time": "2021-09-20T18:22:24.171Z"
   },
   {
    "duration": 42,
    "start_time": "2021-09-20T18:22:46.187Z"
   },
   {
    "duration": 236,
    "start_time": "2021-09-20T18:22:48.828Z"
   },
   {
    "duration": 475,
    "start_time": "2021-09-20T18:22:51.538Z"
   },
   {
    "duration": 397,
    "start_time": "2021-09-20T18:23:01.364Z"
   },
   {
    "duration": 1730,
    "start_time": "2021-09-20T18:23:04.270Z"
   },
   {
    "duration": 6,
    "start_time": "2021-09-20T18:24:11.262Z"
   },
   {
    "duration": 341,
    "start_time": "2021-09-20T18:24:12.232Z"
   },
   {
    "duration": 3,
    "start_time": "2021-09-20T18:24:15.949Z"
   },
   {
    "duration": 5,
    "start_time": "2021-09-20T18:24:16.833Z"
   },
   {
    "duration": 4,
    "start_time": "2021-09-20T18:24:18.106Z"
   },
   {
    "duration": 1496,
    "start_time": "2021-09-20T18:25:25.327Z"
   },
   {
    "duration": 2115,
    "start_time": "2021-09-20T18:25:26.825Z"
   },
   {
    "duration": 5,
    "start_time": "2021-09-20T18:25:28.943Z"
   },
   {
    "duration": 132,
    "start_time": "2021-09-20T18:25:28.950Z"
   },
   {
    "duration": 121,
    "start_time": "2021-09-20T18:25:29.084Z"
   },
   {
    "duration": 81,
    "start_time": "2021-09-20T18:25:29.208Z"
   },
   {
    "duration": 56,
    "start_time": "2021-09-20T18:25:29.291Z"
   },
   {
    "duration": 236,
    "start_time": "2021-09-20T18:25:29.351Z"
   },
   {
    "duration": 430,
    "start_time": "2021-09-20T18:25:29.591Z"
   },
   {
    "duration": 1702,
    "start_time": "2021-09-20T18:25:30.023Z"
   },
   {
    "duration": 6,
    "start_time": "2021-09-20T18:25:31.728Z"
   },
   {
    "duration": 359,
    "start_time": "2021-09-20T18:25:31.736Z"
   },
   {
    "duration": 3,
    "start_time": "2021-09-20T18:25:32.098Z"
   },
   {
    "duration": 18,
    "start_time": "2021-09-20T18:25:32.104Z"
   },
   {
    "duration": 22,
    "start_time": "2021-09-20T18:25:32.124Z"
   },
   {
    "duration": 364867,
    "start_time": "2021-09-20T18:25:32.149Z"
   },
   {
    "duration": 5,
    "start_time": "2021-09-20T18:31:37.018Z"
   },
   {
    "duration": 9549,
    "start_time": "2021-09-20T18:31:37.025Z"
   },
   {
    "duration": 786,
    "start_time": "2021-09-20T18:31:46.576Z"
   },
   {
    "duration": 369,
    "start_time": "2021-09-20T18:31:46.995Z"
   },
   {
    "duration": 367,
    "start_time": "2021-09-20T18:31:46.999Z"
   },
   {
    "duration": 365,
    "start_time": "2021-09-20T18:31:47.002Z"
   },
   {
    "duration": 363,
    "start_time": "2021-09-20T18:31:47.005Z"
   },
   {
    "duration": 362,
    "start_time": "2021-09-20T18:31:47.007Z"
   },
   {
    "duration": 361,
    "start_time": "2021-09-20T18:31:47.009Z"
   },
   {
    "duration": 360,
    "start_time": "2021-09-20T18:31:47.012Z"
   },
   {
    "duration": 359,
    "start_time": "2021-09-20T18:31:47.014Z"
   },
   {
    "duration": 358,
    "start_time": "2021-09-20T18:31:47.016Z"
   },
   {
    "duration": 1408,
    "start_time": "2021-09-20T18:32:38.320Z"
   },
   {
    "duration": 993,
    "start_time": "2021-09-20T18:33:38.464Z"
   },
   {
    "duration": 483827,
    "start_time": "2021-09-20T18:33:40.192Z"
   },
   {
    "duration": 5,
    "start_time": "2021-09-20T18:43:23.400Z"
   },
   {
    "duration": 6323,
    "start_time": "2021-09-20T18:43:24.004Z"
   },
   {
    "duration": 7,
    "start_time": "2021-09-20T18:43:30.330Z"
   },
   {
    "duration": 1489,
    "start_time": "2021-09-21T04:59:48.618Z"
   },
   {
    "duration": 2349,
    "start_time": "2021-09-21T04:59:50.110Z"
   },
   {
    "duration": 5,
    "start_time": "2021-09-21T04:59:52.468Z"
   },
   {
    "duration": 148,
    "start_time": "2021-09-21T04:59:52.475Z"
   },
   {
    "duration": 124,
    "start_time": "2021-09-21T04:59:52.626Z"
   },
   {
    "duration": 89,
    "start_time": "2021-09-21T04:59:52.753Z"
   },
   {
    "duration": 42,
    "start_time": "2021-09-21T04:59:52.867Z"
   },
   {
    "duration": 232,
    "start_time": "2021-09-21T04:59:52.912Z"
   },
   {
    "duration": 393,
    "start_time": "2021-09-21T04:59:53.147Z"
   },
   {
    "duration": 1702,
    "start_time": "2021-09-21T04:59:53.543Z"
   },
   {
    "duration": 5,
    "start_time": "2021-09-21T04:59:55.248Z"
   },
   {
    "duration": 381,
    "start_time": "2021-09-21T04:59:55.268Z"
   },
   {
    "duration": 4,
    "start_time": "2021-09-21T04:59:55.651Z"
   },
   {
    "duration": 5,
    "start_time": "2021-09-21T04:59:55.668Z"
   },
   {
    "duration": 9,
    "start_time": "2021-09-21T04:59:55.675Z"
   },
   {
    "duration": 375547,
    "start_time": "2021-09-21T04:59:55.686Z"
   },
   {
    "duration": 5,
    "start_time": "2021-09-21T05:06:11.236Z"
   },
   {
    "duration": 10409,
    "start_time": "2021-09-21T05:06:11.243Z"
   },
   {
    "duration": 1086,
    "start_time": "2021-09-21T05:06:21.654Z"
   },
   {
    "duration": 364428,
    "start_time": "2021-09-21T05:06:22.742Z"
   },
   {
    "duration": 5,
    "start_time": "2021-09-21T05:12:27.173Z"
   },
   {
    "duration": 6288,
    "start_time": "2021-09-21T05:12:27.183Z"
   },
   {
    "duration": 7,
    "start_time": "2021-09-21T05:12:33.474Z"
   },
   {
    "duration": 1849452,
    "start_time": "2021-09-21T05:12:33.483Z"
   },
   {
    "duration": 5,
    "start_time": "2021-09-21T05:43:22.937Z"
   },
   {
    "duration": 38435,
    "start_time": "2021-09-21T05:43:22.944Z"
   },
   {
    "duration": 14,
    "start_time": "2021-09-21T05:44:01.383Z"
   },
   {
    "duration": 588,
    "start_time": "2021-09-21T05:44:01.400Z"
   },
   {
    "duration": 262,
    "start_time": "2021-09-21T05:47:51.354Z"
   },
   {
    "duration": 17,
    "start_time": "2021-09-21T06:00:31.871Z"
   },
   {
    "duration": 1658,
    "start_time": "2021-09-21T06:04:54.559Z"
   },
   {
    "duration": 2313,
    "start_time": "2021-09-21T06:04:56.220Z"
   },
   {
    "duration": 5,
    "start_time": "2021-09-21T06:04:58.536Z"
   },
   {
    "duration": 152,
    "start_time": "2021-09-21T06:04:58.544Z"
   },
   {
    "duration": 129,
    "start_time": "2021-09-21T06:04:58.698Z"
   },
   {
    "duration": 98,
    "start_time": "2021-09-21T06:04:58.829Z"
   },
   {
    "duration": 51,
    "start_time": "2021-09-21T06:04:58.929Z"
   },
   {
    "duration": 242,
    "start_time": "2021-09-21T06:04:58.984Z"
   },
   {
    "duration": 417,
    "start_time": "2021-09-21T06:04:59.228Z"
   },
   {
    "duration": 1839,
    "start_time": "2021-09-21T06:04:59.648Z"
   },
   {
    "duration": 5,
    "start_time": "2021-09-21T06:05:01.490Z"
   },
   {
    "duration": 421,
    "start_time": "2021-09-21T06:05:01.497Z"
   },
   {
    "duration": 4,
    "start_time": "2021-09-21T06:05:01.920Z"
   },
   {
    "duration": 12,
    "start_time": "2021-09-21T06:05:01.927Z"
   },
   {
    "duration": 25,
    "start_time": "2021-09-21T06:05:01.942Z"
   },
   {
    "duration": 399838,
    "start_time": "2021-09-21T06:05:01.970Z"
   },
   {
    "duration": 5,
    "start_time": "2021-09-21T06:11:41.810Z"
   },
   {
    "duration": 9954,
    "start_time": "2021-09-21T06:11:41.817Z"
   },
   {
    "duration": 1167,
    "start_time": "2021-09-21T06:11:51.775Z"
   },
   {
    "duration": 1046240,
    "start_time": "2021-09-21T06:11:52.944Z"
   },
   {
    "duration": 5,
    "start_time": "2021-09-21T06:29:19.186Z"
   },
   {
    "duration": 21089,
    "start_time": "2021-09-21T06:29:19.194Z"
   },
   {
    "duration": 6,
    "start_time": "2021-09-21T06:29:40.289Z"
   },
   {
    "duration": 1895841,
    "start_time": "2021-09-21T06:29:40.298Z"
   },
   {
    "duration": 8,
    "start_time": "2021-09-21T07:01:16.168Z"
   },
   {
    "duration": 38699,
    "start_time": "2021-09-21T07:01:16.179Z"
   },
   {
    "duration": 13,
    "start_time": "2021-09-21T07:01:54.881Z"
   },
   {
    "duration": 1453,
    "start_time": "2021-09-22T04:39:14.169Z"
   },
   {
    "duration": 2418,
    "start_time": "2021-09-22T04:39:15.624Z"
   },
   {
    "duration": 6,
    "start_time": "2021-09-22T04:39:18.045Z"
   },
   {
    "duration": 146,
    "start_time": "2021-09-22T04:39:18.054Z"
   },
   {
    "duration": 115,
    "start_time": "2021-09-22T04:39:18.203Z"
   },
   {
    "duration": 73,
    "start_time": "2021-09-22T04:39:18.320Z"
   },
   {
    "duration": 63,
    "start_time": "2021-09-22T04:39:18.396Z"
   },
   {
    "duration": 247,
    "start_time": "2021-09-22T04:39:18.465Z"
   },
   {
    "duration": 397,
    "start_time": "2021-09-22T04:39:18.715Z"
   },
   {
    "duration": 1618,
    "start_time": "2021-09-22T04:39:19.115Z"
   },
   {
    "duration": 4,
    "start_time": "2021-09-22T04:39:20.736Z"
   },
   {
    "duration": 357,
    "start_time": "2021-09-22T04:39:20.742Z"
   },
   {
    "duration": 3,
    "start_time": "2021-09-22T04:39:21.101Z"
   },
   {
    "duration": 22,
    "start_time": "2021-09-22T04:39:21.107Z"
   },
   {
    "duration": 19,
    "start_time": "2021-09-22T04:39:21.131Z"
   },
   {
    "duration": 339969,
    "start_time": "2021-09-22T04:39:21.153Z"
   },
   {
    "duration": 5,
    "start_time": "2021-09-22T04:45:01.125Z"
   },
   {
    "duration": 9737,
    "start_time": "2021-09-22T04:45:01.132Z"
   },
   {
    "duration": 480,
    "start_time": "2021-09-22T04:45:10.872Z"
   },
   {
    "duration": 1909,
    "start_time": "2021-09-22T04:45:09.446Z"
   },
   {
    "duration": 1908,
    "start_time": "2021-09-22T04:45:09.448Z"
   },
   {
    "duration": 1908,
    "start_time": "2021-09-22T04:45:09.450Z"
   },
   {
    "duration": 1908,
    "start_time": "2021-09-22T04:45:09.451Z"
   },
   {
    "duration": 1909,
    "start_time": "2021-09-22T04:45:09.452Z"
   },
   {
    "duration": 1908,
    "start_time": "2021-09-22T04:45:09.454Z"
   },
   {
    "duration": 1909,
    "start_time": "2021-09-22T04:45:09.455Z"
   },
   {
    "duration": 1907,
    "start_time": "2021-09-22T04:45:09.458Z"
   },
   {
    "duration": 1524,
    "start_time": "2021-09-22T04:49:38.900Z"
   },
   {
    "duration": 2715,
    "start_time": "2021-09-22T04:49:40.427Z"
   },
   {
    "duration": 5,
    "start_time": "2021-09-22T04:49:43.146Z"
   },
   {
    "duration": 134,
    "start_time": "2021-09-22T04:49:43.154Z"
   },
   {
    "duration": 112,
    "start_time": "2021-09-22T04:49:43.290Z"
   },
   {
    "duration": 78,
    "start_time": "2021-09-22T04:49:43.405Z"
   },
   {
    "duration": 55,
    "start_time": "2021-09-22T04:49:43.485Z"
   },
   {
    "duration": 217,
    "start_time": "2021-09-22T04:49:43.544Z"
   },
   {
    "duration": 379,
    "start_time": "2021-09-22T04:49:43.763Z"
   },
   {
    "duration": 397,
    "start_time": "2021-09-22T04:49:44.144Z"
   },
   {
    "duration": 1941,
    "start_time": "2021-09-22T04:49:42.603Z"
   },
   {
    "duration": 1924,
    "start_time": "2021-09-22T04:49:42.622Z"
   },
   {
    "duration": 1917,
    "start_time": "2021-09-22T04:49:42.630Z"
   },
   {
    "duration": 1917,
    "start_time": "2021-09-22T04:49:42.632Z"
   },
   {
    "duration": 1916,
    "start_time": "2021-09-22T04:49:42.634Z"
   },
   {
    "duration": 1915,
    "start_time": "2021-09-22T04:49:42.637Z"
   },
   {
    "duration": 1914,
    "start_time": "2021-09-22T04:49:42.639Z"
   },
   {
    "duration": 1913,
    "start_time": "2021-09-22T04:49:42.641Z"
   },
   {
    "duration": 1914,
    "start_time": "2021-09-22T04:49:42.642Z"
   },
   {
    "duration": 1915,
    "start_time": "2021-09-22T04:49:42.643Z"
   },
   {
    "duration": 1915,
    "start_time": "2021-09-22T04:49:42.644Z"
   },
   {
    "duration": 1916,
    "start_time": "2021-09-22T04:49:42.645Z"
   },
   {
    "duration": 1915,
    "start_time": "2021-09-22T04:49:42.647Z"
   },
   {
    "duration": 1916,
    "start_time": "2021-09-22T04:49:42.648Z"
   },
   {
    "duration": 1916,
    "start_time": "2021-09-22T04:49:42.649Z"
   },
   {
    "duration": 1916,
    "start_time": "2021-09-22T04:49:42.650Z"
   },
   {
    "duration": 1917,
    "start_time": "2021-09-22T04:49:42.651Z"
   },
   {
    "duration": 1917,
    "start_time": "2021-09-22T04:49:42.652Z"
   },
   {
    "duration": 1917,
    "start_time": "2021-09-22T04:49:42.653Z"
   },
   {
    "duration": 1913,
    "start_time": "2021-09-22T04:49:42.659Z"
   },
   {
    "duration": 1736,
    "start_time": "2021-09-22T04:51:27.278Z"
   },
   {
    "duration": 2402,
    "start_time": "2021-09-22T04:51:29.016Z"
   },
   {
    "duration": 6,
    "start_time": "2021-09-22T04:51:31.423Z"
   },
   {
    "duration": 153,
    "start_time": "2021-09-22T04:51:31.431Z"
   },
   {
    "duration": 113,
    "start_time": "2021-09-22T04:51:31.586Z"
   },
   {
    "duration": 76,
    "start_time": "2021-09-22T04:51:31.701Z"
   },
   {
    "duration": 52,
    "start_time": "2021-09-22T04:51:31.780Z"
   },
   {
    "duration": 214,
    "start_time": "2021-09-22T04:51:31.837Z"
   },
   {
    "duration": 371,
    "start_time": "2021-09-22T04:51:32.054Z"
   },
   {
    "duration": 224,
    "start_time": "2021-09-22T04:51:32.428Z"
   },
   {
    "duration": 8,
    "start_time": "2021-09-22T04:51:32.655Z"
   },
   {
    "duration": 817,
    "start_time": "2021-09-22T04:51:32.666Z"
   },
   {
    "duration": 1523,
    "start_time": "2021-09-22T04:51:33.486Z"
   },
   {
    "duration": 13,
    "start_time": "2021-09-22T04:51:35.012Z"
   },
   {
    "duration": 325,
    "start_time": "2021-09-22T04:51:35.028Z"
   },
   {
    "duration": 3,
    "start_time": "2021-09-22T04:51:35.356Z"
   },
   {
    "duration": 19,
    "start_time": "2021-09-22T04:51:35.362Z"
   },
   {
    "duration": 9,
    "start_time": "2021-09-22T04:51:35.384Z"
   },
   {
    "duration": 376580,
    "start_time": "2021-09-22T04:51:35.395Z"
   },
   {
    "duration": 6,
    "start_time": "2021-09-22T04:57:51.979Z"
   },
   {
    "duration": 10160,
    "start_time": "2021-09-22T04:57:51.988Z"
   },
   {
    "duration": 463,
    "start_time": "2021-09-22T04:58:02.150Z"
   },
   {
    "duration": 1907,
    "start_time": "2021-09-22T04:58:00.709Z"
   },
   {
    "duration": 1907,
    "start_time": "2021-09-22T04:58:00.711Z"
   },
   {
    "duration": 1907,
    "start_time": "2021-09-22T04:58:00.712Z"
   },
   {
    "duration": 1907,
    "start_time": "2021-09-22T04:58:00.714Z"
   },
   {
    "duration": 1908,
    "start_time": "2021-09-22T04:58:00.715Z"
   },
   {
    "duration": 1908,
    "start_time": "2021-09-22T04:58:00.716Z"
   },
   {
    "duration": 1909,
    "start_time": "2021-09-22T04:58:00.717Z"
   },
   {
    "duration": 1909,
    "start_time": "2021-09-22T04:58:00.718Z"
   },
   {
    "duration": 344,
    "start_time": "2021-09-22T05:02:33.314Z"
   },
   {
    "duration": 323,
    "start_time": "2021-09-22T05:03:04.051Z"
   },
   {
    "duration": 54,
    "start_time": "2021-09-22T05:05:14.732Z"
   },
   {
    "duration": 41,
    "start_time": "2021-09-22T05:05:18.503Z"
   },
   {
    "duration": 272,
    "start_time": "2021-09-22T05:05:19.421Z"
   },
   {
    "duration": 288,
    "start_time": "2021-09-22T05:25:23.594Z"
   },
   {
    "duration": 273,
    "start_time": "2021-09-22T05:26:06.549Z"
   },
   {
    "duration": 273,
    "start_time": "2021-09-22T05:26:23.410Z"
   },
   {
    "duration": 268,
    "start_time": "2021-09-22T05:26:23.999Z"
   },
   {
    "duration": 347,
    "start_time": "2021-09-22T05:26:44.275Z"
   },
   {
    "duration": 269,
    "start_time": "2021-09-22T05:26:48.017Z"
   },
   {
    "duration": 30,
    "start_time": "2021-09-22T05:27:44.258Z"
   },
   {
    "duration": 556,
    "start_time": "2021-09-22T05:27:45.292Z"
   },
   {
    "duration": 524,
    "start_time": "2021-09-22T05:31:50.512Z"
   },
   {
    "duration": 1595,
    "start_time": "2021-09-22T05:32:02.140Z"
   },
   {
    "duration": 1303,
    "start_time": "2021-09-22T05:49:50.260Z"
   },
   {
    "duration": 1291,
    "start_time": "2021-09-22T05:50:04.584Z"
   },
   {
    "duration": 560,
    "start_time": "2021-09-22T05:50:10.916Z"
   },
   {
    "duration": 38,
    "start_time": "2021-09-22T05:51:11.205Z"
   },
   {
    "duration": 302,
    "start_time": "2021-09-22T05:51:43.667Z"
   },
   {
    "duration": 281,
    "start_time": "2021-09-22T05:51:57.737Z"
   },
   {
    "duration": 38,
    "start_time": "2021-09-22T05:55:34.403Z"
   },
   {
    "duration": 291,
    "start_time": "2021-09-22T05:55:35.677Z"
   },
   {
    "duration": 304,
    "start_time": "2021-09-22T06:04:49.726Z"
   },
   {
    "duration": 1130,
    "start_time": "2021-09-23T09:01:45.551Z"
   },
   {
    "duration": 1811,
    "start_time": "2021-09-23T09:01:46.683Z"
   },
   {
    "duration": 4,
    "start_time": "2021-09-23T09:01:48.499Z"
   },
   {
    "duration": 100,
    "start_time": "2021-09-23T09:01:48.505Z"
   },
   {
    "duration": 82,
    "start_time": "2021-09-23T09:01:48.607Z"
   },
   {
    "duration": 64,
    "start_time": "2021-09-23T09:01:48.690Z"
   },
   {
    "duration": 26,
    "start_time": "2021-09-23T09:01:48.757Z"
   },
   {
    "duration": 161,
    "start_time": "2021-09-23T09:01:48.785Z"
   },
   {
    "duration": 252,
    "start_time": "2021-09-23T09:01:48.947Z"
   },
   {
    "duration": 144,
    "start_time": "2021-09-23T09:01:49.200Z"
   },
   {
    "duration": 6,
    "start_time": "2021-09-23T09:01:49.346Z"
   },
   {
    "duration": 545,
    "start_time": "2021-09-23T09:01:49.354Z"
   },
   {
    "duration": 939,
    "start_time": "2021-09-23T09:01:49.900Z"
   },
   {
    "duration": 4,
    "start_time": "2021-09-23T09:01:50.841Z"
   },
   {
    "duration": 166,
    "start_time": "2021-09-23T09:01:50.846Z"
   },
   {
    "duration": 2,
    "start_time": "2021-09-23T09:01:51.014Z"
   },
   {
    "duration": 11,
    "start_time": "2021-09-23T09:01:51.018Z"
   },
   {
    "duration": 12,
    "start_time": "2021-09-23T09:01:51.030Z"
   },
   {
    "duration": 303496,
    "start_time": "2021-09-23T09:01:51.044Z"
   },
   {
    "duration": 3,
    "start_time": "2021-09-23T09:06:54.545Z"
   },
   {
    "duration": 7760,
    "start_time": "2021-09-23T09:06:54.550Z"
   },
   {
    "duration": 45,
    "start_time": "2021-09-23T09:07:02.313Z"
   },
   {
    "duration": 452,
    "start_time": "2021-09-23T09:07:02.360Z"
   },
   {
    "duration": 330,
    "start_time": "2021-09-23T09:07:02.483Z"
   },
   {
    "duration": 330,
    "start_time": "2021-09-23T09:07:02.484Z"
   },
   {
    "duration": 329,
    "start_time": "2021-09-23T09:07:02.486Z"
   },
   {
    "duration": 329,
    "start_time": "2021-09-23T09:07:02.487Z"
   },
   {
    "duration": 329,
    "start_time": "2021-09-23T09:07:02.488Z"
   },
   {
    "duration": 329,
    "start_time": "2021-09-23T09:07:02.489Z"
   },
   {
    "duration": 329,
    "start_time": "2021-09-23T09:07:02.490Z"
   },
   {
    "duration": 328,
    "start_time": "2021-09-23T09:07:02.492Z"
   },
   {
    "duration": 328,
    "start_time": "2021-09-23T09:07:02.493Z"
   },
   {
    "duration": 329,
    "start_time": "2021-09-23T09:12:40.831Z"
   },
   {
    "duration": 316,
    "start_time": "2021-09-23T09:13:00.969Z"
   },
   {
    "duration": 330,
    "start_time": "2021-09-23T09:13:58.272Z"
   },
   {
    "duration": 1416,
    "start_time": "2021-09-23T09:14:14.174Z"
   },
   {
    "duration": 4,
    "start_time": "2021-09-23T09:14:22.700Z"
   },
   {
    "duration": 363322,
    "start_time": "2021-09-23T09:14:23.724Z"
   },
   {
    "duration": 4,
    "start_time": "2021-09-23T09:20:27.048Z"
   },
   {
    "duration": 6091,
    "start_time": "2021-09-23T09:20:27.054Z"
   },
   {
    "duration": 4,
    "start_time": "2021-09-23T09:20:33.147Z"
   },
   {
    "duration": 1180442,
    "start_time": "2021-09-23T09:20:33.153Z"
   },
   {
    "duration": 4,
    "start_time": "2021-09-23T09:40:13.597Z"
   },
   {
    "duration": 23279,
    "start_time": "2021-09-23T09:40:13.602Z"
   },
   {
    "duration": 8,
    "start_time": "2021-09-23T09:40:36.883Z"
   }
  ],
  "kernelspec": {
   "display_name": "Python 3",
   "language": "python",
   "name": "python3"
  },
  "language_info": {
   "codemirror_mode": {
    "name": "ipython",
    "version": 3
   },
   "file_extension": ".py",
   "mimetype": "text/x-python",
   "name": "python",
   "nbconvert_exporter": "python",
   "pygments_lexer": "ipython3",
   "version": "3.7.8"
  },
  "toc": {
   "base_numbering": 1,
   "nav_menu": {},
   "number_sections": true,
   "sideBar": true,
   "skip_h1_title": true,
   "title_cell": "Table of Contents",
   "title_sidebar": "Contents",
   "toc_cell": false,
   "toc_position": {},
   "toc_section_display": true,
   "toc_window_display": false
  }
 },
 "nbformat": 4,
 "nbformat_minor": 2
}
