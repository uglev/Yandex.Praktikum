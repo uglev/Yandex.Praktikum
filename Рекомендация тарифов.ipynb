{
 "cells": [
  {
   "cell_type": "markdown",
   "metadata": {},
   "source": [
    "Привет, меня зовут Артем Хуршудов. Сегодня я проверю твой проект.\n",
    "<br> Дальнейшее общение будет происходить на \"ты\" если это не вызывает никаких проблем.\n",
    "<br> Желательно реагировать на каждый мой комментарий ('исправил', 'не понятно как исправить ошибку', ...)\n",
    "<br> Пожалуйста, не удаляй комментарии ревьюера, так как они повышают качество повторного ревью.\n",
    "\n",
    "Комментарии будут в <font color='green'>зеленой</font>, <font color='blue'>синей</font> или <font color='red'>красной</font> рамках:\n",
    "\n",
    "<div class=\"alert alert-block alert-success\">\n",
    "<b>Успех:</b> Если все сделано отлично\n",
    "</div>\n",
    "\n",
    "<div class=\"alert alert-block alert-info\">\n",
    "<b>Совет: </b> Если можно немного улучшить\n",
    "</div>\n",
    "\n",
    "<div class=\"alert alert-block alert-danger\">\n",
    "<b>Ошибка:</b> Если требуются исправления. Работа не может быть принята с красными комментариями.\n",
    "</div>\n",
    "\n",
    "-------------------\n",
    "\n",
    "Будет очень хорошо, если ты будешь помечать свои действия следующим образом:\n",
    "<div class=\"alert alert-block alert-warning\">\n",
    "<b>Комментарий студента:</b> ...\n",
    "</div>\n",
    "\n",
    "<div class=\"alert alert-block alert-warning\">\n",
    "<b>Изменения:</b> Были внесены следующие изменения ...\n",
    "</div>\n",
    "\n",
    "### <font color='orange'>Общее впечатление</font>\n",
    "* Большое спасибо за проделанную работу. Видно, что приложено много усилий.\n",
    "* Отлично, что правильно использованы train/valid/test наборы.\n",
    "* Выводы и рассуждения получились содержательными, их было интересно читать.\n",
    "* Я оставил несколько советов, надеюсь, что они будут учтены в будущих проектах.\n",
    "* Тебе удалось добиться очень хорошего качества, поздравляю!\n",
    "* Проект может быть зачтен, но я его отправлю назад, чтобы у тебя была возможность задать вопросы и внести правки, при желании. Однако, ты можешь просто вернуть проект в таком же виде и я его зачту."
   ]
  },
  {
   "cell_type": "markdown",
   "metadata": {},
   "source": [
    "### <font color='orange'>Общее впечатление (ревью 2)</font>\n",
    "* Проект зачтен!\n",
    "* Удачи в дальнейшем обучении и следующих работах!"
   ]
  },
  {
   "cell_type": "markdown",
   "metadata": {},
   "source": [
    "# Рекомендация тарифов"
   ]
  },
  {
   "cell_type": "markdown",
   "metadata": {},
   "source": [
    "В вашем распоряжении данные о поведении клиентов, которые уже перешли на эти тарифы (из проекта курса «Статистический анализ данных»). Нужно построить модель для задачи классификации, которая выберет подходящий тариф. Предобработка данных не понадобится — вы её уже сделали.\n",
    "\n",
    "Постройте модель с максимально большим значением *accuracy*. Чтобы сдать проект успешно, нужно довести долю правильных ответов по крайней мере до 0.75. Проверьте *accuracy* на тестовой выборке самостоятельно."
   ]
  },
  {
   "cell_type": "markdown",
   "metadata": {},
   "source": [
    "## Откройте и изучите файл"
   ]
  },
  {
   "cell_type": "markdown",
   "metadata": {},
   "source": [
    "Откроем и импортируем все известные библиотеки, пройденные на курсе. В общем - стандартный заголовок."
   ]
  },
  {
   "cell_type": "code",
   "execution_count": 1,
   "metadata": {},
   "outputs": [],
   "source": [
    "import pandas as pd\n",
    "import numpy as np\n",
    "from sklearn.tree import DecisionTreeClassifier\n",
    "from sklearn.ensemble import RandomForestClassifier\n",
    "from sklearn.linear_model import LogisticRegression\n",
    "from sklearn.model_selection import GridSearchCV, train_test_split, StratifiedKFold\n",
    "from sklearn.metrics import accuracy_score\n",
    "from sklearn.dummy import DummyClassifier\n",
    "import timeit\n",
    "import warnings\n",
    "warnings.filterwarnings(\"ignore\", category=FutureWarning)"
   ]
  },
  {
   "cell_type": "markdown",
   "metadata": {},
   "source": [
    "<div class=\"alert alert-block alert-success\">\n",
    "<b>Успех:</b> Отлично, что все импорты собраны в первой ячейке ноутбука! Если у того, кто будет запускать твой ноутбук будут отсутствовать некоторые библиотеки, то он это увидит сразу, а не в процессе!\n",
    "</div>"
   ]
  },
  {
   "cell_type": "markdown",
   "metadata": {},
   "source": [
    "Импортируем файл csv с использованием полный путей для облегчения проверяющего. Посмотрим, что там:"
   ]
  },
  {
   "cell_type": "code",
   "execution_count": 2,
   "metadata": {
    "scrolled": true
   },
   "outputs": [
    {
     "data": {
      "text/html": [
       "<div>\n",
       "<style scoped>\n",
       "    .dataframe tbody tr th:only-of-type {\n",
       "        vertical-align: middle;\n",
       "    }\n",
       "\n",
       "    .dataframe tbody tr th {\n",
       "        vertical-align: top;\n",
       "    }\n",
       "\n",
       "    .dataframe thead th {\n",
       "        text-align: right;\n",
       "    }\n",
       "</style>\n",
       "<table border=\"1\" class=\"dataframe\">\n",
       "  <thead>\n",
       "    <tr style=\"text-align: right;\">\n",
       "      <th></th>\n",
       "      <th>calls</th>\n",
       "      <th>minutes</th>\n",
       "      <th>messages</th>\n",
       "      <th>mb_used</th>\n",
       "      <th>is_ultra</th>\n",
       "    </tr>\n",
       "  </thead>\n",
       "  <tbody>\n",
       "    <tr>\n",
       "      <td>74</td>\n",
       "      <td>63.0</td>\n",
       "      <td>427.64</td>\n",
       "      <td>93.0</td>\n",
       "      <td>19541.17</td>\n",
       "      <td>0</td>\n",
       "    </tr>\n",
       "    <tr>\n",
       "      <td>463</td>\n",
       "      <td>34.0</td>\n",
       "      <td>247.29</td>\n",
       "      <td>77.0</td>\n",
       "      <td>11925.40</td>\n",
       "      <td>0</td>\n",
       "    </tr>\n",
       "    <tr>\n",
       "      <td>1395</td>\n",
       "      <td>56.0</td>\n",
       "      <td>483.17</td>\n",
       "      <td>52.0</td>\n",
       "      <td>16331.71</td>\n",
       "      <td>0</td>\n",
       "    </tr>\n",
       "    <tr>\n",
       "      <td>1132</td>\n",
       "      <td>51.0</td>\n",
       "      <td>381.12</td>\n",
       "      <td>43.0</td>\n",
       "      <td>14771.91</td>\n",
       "      <td>0</td>\n",
       "    </tr>\n",
       "    <tr>\n",
       "      <td>1302</td>\n",
       "      <td>100.0</td>\n",
       "      <td>825.84</td>\n",
       "      <td>0.0</td>\n",
       "      <td>20273.82</td>\n",
       "      <td>1</td>\n",
       "    </tr>\n",
       "  </tbody>\n",
       "</table>\n",
       "</div>"
      ],
      "text/plain": [
       "      calls  minutes  messages   mb_used  is_ultra\n",
       "74     63.0   427.64      93.0  19541.17         0\n",
       "463    34.0   247.29      77.0  11925.40         0\n",
       "1395   56.0   483.17      52.0  16331.71         0\n",
       "1132   51.0   381.12      43.0  14771.91         0\n",
       "1302  100.0   825.84       0.0  20273.82         1"
      ]
     },
     "execution_count": 2,
     "metadata": {},
     "output_type": "execute_result"
    }
   ],
   "source": [
    "data = pd.read_csv('https://code.s3.yandex.net/datasets/users_behavior.csv')\n",
    "data.sample(5)"
   ]
  },
  {
   "cell_type": "code",
   "execution_count": 3,
   "metadata": {
    "scrolled": true
   },
   "outputs": [
    {
     "name": "stdout",
     "output_type": "stream",
     "text": [
      "<class 'pandas.core.frame.DataFrame'>\n",
      "RangeIndex: 3214 entries, 0 to 3213\n",
      "Data columns (total 5 columns):\n",
      "calls       3214 non-null float64\n",
      "minutes     3214 non-null float64\n",
      "messages    3214 non-null float64\n",
      "mb_used     3214 non-null float64\n",
      "is_ultra    3214 non-null int64\n",
      "dtypes: float64(4), int64(1)\n",
      "memory usage: 125.7 KB\n"
     ]
    }
   ],
   "source": [
    "data.info()"
   ]
  },
  {
   "cell_type": "markdown",
   "metadata": {},
   "source": [
    "Изменим тип поля messages на int, потому что дробных сообщений быть не может:"
   ]
  },
  {
   "cell_type": "code",
   "execution_count": 4,
   "metadata": {},
   "outputs": [],
   "source": [
    "data['messages']=data['messages'].astype(\"int\")"
   ]
  },
  {
   "cell_type": "markdown",
   "metadata": {},
   "source": [
    "Проверим на дубликаты."
   ]
  },
  {
   "cell_type": "code",
   "execution_count": 5,
   "metadata": {},
   "outputs": [
    {
     "data": {
      "text/plain": [
       "0"
      ]
     },
     "execution_count": 5,
     "metadata": {},
     "output_type": "execute_result"
    }
   ],
   "source": [
    "data.duplicated().sum()"
   ]
  },
  {
   "cell_type": "markdown",
   "metadata": {},
   "source": [
    "Проверим на корректность наименований столбцов (всё корректно):"
   ]
  },
  {
   "cell_type": "code",
   "execution_count": 6,
   "metadata": {},
   "outputs": [
    {
     "data": {
      "text/plain": [
       "Index(['calls', 'minutes', 'messages', 'mb_used', 'is_ultra'], dtype='object')"
      ]
     },
     "execution_count": 6,
     "metadata": {},
     "output_type": "execute_result"
    }
   ],
   "source": [
    "data.columns"
   ]
  },
  {
   "cell_type": "markdown",
   "metadata": {},
   "source": [
    "Исследуем выборку: посмотрим на число пользователей тарифа \"Ультра\" и увидим, что она в пару раз меньше \"Смарта\""
   ]
  },
  {
   "cell_type": "code",
   "execution_count": 7,
   "metadata": {
    "scrolled": false
   },
   "outputs": [
    {
     "data": {
      "text/plain": [
       "0    2229\n",
       "1     985\n",
       "Name: is_ultra, dtype: int64"
      ]
     },
     "execution_count": 7,
     "metadata": {},
     "output_type": "execute_result"
    }
   ],
   "source": [
    "data['is_ultra'].value_counts()"
   ]
  },
  {
   "cell_type": "markdown",
   "metadata": {},
   "source": [
    "Проверим значения, содержащиеся в столбцах:"
   ]
  },
  {
   "cell_type": "code",
   "execution_count": 8,
   "metadata": {},
   "outputs": [
    {
     "data": {
      "text/html": [
       "<div>\n",
       "<style scoped>\n",
       "    .dataframe tbody tr th:only-of-type {\n",
       "        vertical-align: middle;\n",
       "    }\n",
       "\n",
       "    .dataframe tbody tr th {\n",
       "        vertical-align: top;\n",
       "    }\n",
       "\n",
       "    .dataframe thead th {\n",
       "        text-align: right;\n",
       "    }\n",
       "</style>\n",
       "<table border=\"1\" class=\"dataframe\">\n",
       "  <thead>\n",
       "    <tr style=\"text-align: right;\">\n",
       "      <th></th>\n",
       "      <th>calls</th>\n",
       "      <th>minutes</th>\n",
       "      <th>messages</th>\n",
       "      <th>mb_used</th>\n",
       "      <th>is_ultra</th>\n",
       "    </tr>\n",
       "  </thead>\n",
       "  <tbody>\n",
       "    <tr>\n",
       "      <td>count</td>\n",
       "      <td>3214.000000</td>\n",
       "      <td>3214.000000</td>\n",
       "      <td>3214.000000</td>\n",
       "      <td>3214.000000</td>\n",
       "      <td>3214.000000</td>\n",
       "    </tr>\n",
       "    <tr>\n",
       "      <td>mean</td>\n",
       "      <td>63.038892</td>\n",
       "      <td>438.208787</td>\n",
       "      <td>38.281269</td>\n",
       "      <td>17207.673836</td>\n",
       "      <td>0.306472</td>\n",
       "    </tr>\n",
       "    <tr>\n",
       "      <td>std</td>\n",
       "      <td>33.236368</td>\n",
       "      <td>234.569872</td>\n",
       "      <td>36.148326</td>\n",
       "      <td>7570.968246</td>\n",
       "      <td>0.461100</td>\n",
       "    </tr>\n",
       "    <tr>\n",
       "      <td>min</td>\n",
       "      <td>0.000000</td>\n",
       "      <td>0.000000</td>\n",
       "      <td>0.000000</td>\n",
       "      <td>0.000000</td>\n",
       "      <td>0.000000</td>\n",
       "    </tr>\n",
       "    <tr>\n",
       "      <td>25%</td>\n",
       "      <td>40.000000</td>\n",
       "      <td>274.575000</td>\n",
       "      <td>9.000000</td>\n",
       "      <td>12491.902500</td>\n",
       "      <td>0.000000</td>\n",
       "    </tr>\n",
       "    <tr>\n",
       "      <td>50%</td>\n",
       "      <td>62.000000</td>\n",
       "      <td>430.600000</td>\n",
       "      <td>30.000000</td>\n",
       "      <td>16943.235000</td>\n",
       "      <td>0.000000</td>\n",
       "    </tr>\n",
       "    <tr>\n",
       "      <td>75%</td>\n",
       "      <td>82.000000</td>\n",
       "      <td>571.927500</td>\n",
       "      <td>57.000000</td>\n",
       "      <td>21424.700000</td>\n",
       "      <td>1.000000</td>\n",
       "    </tr>\n",
       "    <tr>\n",
       "      <td>max</td>\n",
       "      <td>244.000000</td>\n",
       "      <td>1632.060000</td>\n",
       "      <td>224.000000</td>\n",
       "      <td>49745.730000</td>\n",
       "      <td>1.000000</td>\n",
       "    </tr>\n",
       "  </tbody>\n",
       "</table>\n",
       "</div>"
      ],
      "text/plain": [
       "             calls      minutes     messages       mb_used     is_ultra\n",
       "count  3214.000000  3214.000000  3214.000000   3214.000000  3214.000000\n",
       "mean     63.038892   438.208787    38.281269  17207.673836     0.306472\n",
       "std      33.236368   234.569872    36.148326   7570.968246     0.461100\n",
       "min       0.000000     0.000000     0.000000      0.000000     0.000000\n",
       "25%      40.000000   274.575000     9.000000  12491.902500     0.000000\n",
       "50%      62.000000   430.600000    30.000000  16943.235000     0.000000\n",
       "75%      82.000000   571.927500    57.000000  21424.700000     1.000000\n",
       "max     244.000000  1632.060000   224.000000  49745.730000     1.000000"
      ]
     },
     "execution_count": 8,
     "metadata": {},
     "output_type": "execute_result"
    }
   ],
   "source": [
    "data.describe()"
   ]
  },
  {
   "cell_type": "markdown",
   "metadata": {},
   "source": [
    "<b>Вывод:</b>\n",
    "- Пропущенных значений нет\n",
    "- Типы столбцов в порядке\n",
    "- Дубликатов нет"
   ]
  },
  {
   "cell_type": "markdown",
   "metadata": {},
   "source": [
    "<div class=\"alert alert-block alert-success\">\n",
    "<b>Успех:</b> Данные загружены корректно, первичный осмотр проведен. Радует, что было отмечено наличие дисбаланса классов.\n",
    "</div>"
   ]
  },
  {
   "cell_type": "markdown",
   "metadata": {},
   "source": [
    "## Разбейте данные на выборки"
   ]
  },
  {
   "cell_type": "markdown",
   "metadata": {},
   "source": [
    "Для начала разобьём данные на train и test с помощью изученной функции train_test_split (соответственно, 80 и 20 процентов):"
   ]
  },
  {
   "cell_type": "code",
   "execution_count": 9,
   "metadata": {},
   "outputs": [],
   "source": [
    "train, test = train_test_split(data, test_size=0.4, random_state=12345)"
   ]
  },
  {
   "cell_type": "code",
   "execution_count": 10,
   "metadata": {},
   "outputs": [],
   "source": [
    "features = test.drop('is_ultra', axis=1)\n",
    "target = test['is_ultra']"
   ]
  },
  {
   "cell_type": "markdown",
   "metadata": {},
   "source": [
    "Разобьём выборки на val(20%) и test(20%), при этом:\n",
    "- features_train, target_train - обучающая выборка\n",
    "- features_val, target_val - валидационная выборка\n",
    "- features_test, target_test - тестовая выборка"
   ]
  },
  {
   "cell_type": "code",
   "execution_count": 11,
   "metadata": {},
   "outputs": [],
   "source": [
    "features_val, features_test, target_val, target_test = train_test_split(features, target, test_size=0.5, random_state=12345)"
   ]
  },
  {
   "cell_type": "code",
   "execution_count": 12,
   "metadata": {},
   "outputs": [],
   "source": [
    "features_train = train.drop('is_ultra', axis=1)\n",
    "target_train = train['is_ultra']"
   ]
  },
  {
   "cell_type": "markdown",
   "metadata": {},
   "source": [
    "<div class=\"alert alert-block alert-success\">\n",
    "<b>Успех:</b> Разбиение было сделано верно, молодец!\n",
    "</div>\n",
    "\n",
    "<div class=\"alert alert-block alert-info\">\n",
    "<b>Совет: </b> Однако, желательно было напечатать размеры полученных наборов. Иногда, это помогает избежать ошибок.\n",
    "</div>"
   ]
  },
  {
   "cell_type": "code",
   "execution_count": 13,
   "metadata": {},
   "outputs": [
    {
     "data": {
      "text/plain": [
       "(1928, 4)"
      ]
     },
     "execution_count": 13,
     "metadata": {},
     "output_type": "execute_result"
    }
   ],
   "source": [
    "features_train.shape"
   ]
  },
  {
   "cell_type": "code",
   "execution_count": 14,
   "metadata": {},
   "outputs": [
    {
     "data": {
      "text/plain": [
       "(1928,)"
      ]
     },
     "execution_count": 14,
     "metadata": {},
     "output_type": "execute_result"
    }
   ],
   "source": [
    "target_train.shape"
   ]
  },
  {
   "cell_type": "markdown",
   "metadata": {},
   "source": [
    "<div class=\"alert alert-block alert-warning\">\n",
    "<b>Комментарий студента:</b> Размеры выведены.\n",
    "</div>"
   ]
  },
  {
   "cell_type": "markdown",
   "metadata": {},
   "source": [
    "<div class=\"alert alert-block alert-success\">\n",
    "<b>Успех (ревью 2):</b> Спасибо!\n",
    "</div>"
   ]
  },
  {
   "cell_type": "markdown",
   "metadata": {},
   "source": [
    "## Исследуйте модели"
   ]
  },
  {
   "cell_type": "markdown",
   "metadata": {},
   "source": [
    "### Дерево решений"
   ]
  },
  {
   "cell_type": "markdown",
   "metadata": {},
   "source": [
    "Используем в цикле DecisionTreeClassifier для обучения дерева решений, выведем глубину и качество:"
   ]
  },
  {
   "cell_type": "code",
   "execution_count": 15,
   "metadata": {},
   "outputs": [
    {
     "name": "stdout",
     "output_type": "stream",
     "text": [
      "Глубина дерева: 3     Качество: 0.7853810264385692\n"
     ]
    }
   ],
   "source": [
    "best_accuracy = 0\n",
    "best_depth = 0\n",
    "for depth in range(1,16):\n",
    "    model = DecisionTreeClassifier(max_depth=depth, random_state=412)\n",
    "    model.fit(features_train, target_train)\n",
    "    accuracy = model.score(features_val, target_val)\n",
    "    if accuracy > best_accuracy:\n",
    "        # print(\"Глубина дерева:\", depth,\"    Качество:\" ,accuracy)\n",
    "        best_accuracy = accuracy\n",
    "        best_depth = depth\n",
    "print(\"Глубина дерева:\", best_depth, \"    Качество:\", best_accuracy)"
   ]
  },
  {
   "cell_type": "markdown",
   "metadata": {},
   "source": [
    "<div class=\"alert alert-block alert-success\">\n",
    "<b>Успех:</b> Подбор параметров был реализован верно.\n",
    "</div>"
   ]
  },
  {
   "cell_type": "markdown",
   "metadata": {},
   "source": [
    "### Случайный лес"
   ]
  },
  {
   "cell_type": "markdown",
   "metadata": {},
   "source": [
    "Теперь попробуем вариант \"случайный лес\", также выведем сравниваемые параметры:"
   ]
  },
  {
   "cell_type": "code",
   "execution_count": 16,
   "metadata": {},
   "outputs": [
    {
     "name": "stdout",
     "output_type": "stream",
     "text": [
      "Глубина дерева: 7     Количество деревьев: 40    мин. объектов в узле: 3   Качество: 0.8040435458786936\n"
     ]
    }
   ],
   "source": [
    "best_accuracy = 0\n",
    "best_depth = 0\n",
    "for depth in range(1,10):\n",
    "    for est in range(5,50,5):\n",
    "        for sample in range(2,5):\n",
    "            model = RandomForestClassifier(max_depth=depth, n_estimators=est, min_samples_leaf=sample, random_state=412)\n",
    "            model.fit(features_train, target_train)\n",
    "            accuracy = model.score(features_val, target_val)\n",
    "            if accuracy > best_accuracy:\n",
    "                best_accuracy = accuracy\n",
    "                best_depth = depth\n",
    "                best_est = est\n",
    "                best_sample = sample\n",
    "print(\"Глубина дерева:\", best_depth, \"    Количество деревьев:\", best_est, \"   мин. объектов в узле:\", best_sample, \"  Качество:\", best_accuracy)"
   ]
  },
  {
   "cell_type": "markdown",
   "metadata": {},
   "source": [
    "<div class=\"alert alert-block alert-success\">\n",
    "<b>Успех:</b> Отлично, что здесь подбиралось сразу несколько параметров.\n",
    "</div>"
   ]
  },
  {
   "cell_type": "markdown",
   "metadata": {},
   "source": [
    "### Логистическая регрессия"
   ]
  },
  {
   "cell_type": "markdown",
   "metadata": {},
   "source": [
    "Подготовим модель логистической регрессии LogisticRegression:"
   ]
  },
  {
   "cell_type": "code",
   "execution_count": 17,
   "metadata": {},
   "outputs": [
    {
     "name": "stdout",
     "output_type": "stream",
     "text": [
      "Качество: 0.7589424572317263\n"
     ]
    }
   ],
   "source": [
    "model = LogisticRegression()\n",
    "model.fit(features_train, target_train)\n",
    "accuracy = model.score(features_val, target_val)\n",
    "print(\"Качество:\", accuracy)"
   ]
  },
  {
   "cell_type": "markdown",
   "metadata": {},
   "source": [
    "<div class=\"alert alert-block alert-success\">\n",
    "<b>Успех:</b> Молодец, что попробовал несколько разных моделей!\n",
    "</div>"
   ]
  },
  {
   "cell_type": "markdown",
   "metadata": {},
   "source": [
    "## Проверьте модель на тестовой выборке"
   ]
  },
  {
   "cell_type": "markdown",
   "metadata": {},
   "source": [
    "Проверим выбранную модель на тестовой выборке, последовательно по моделям:"
   ]
  },
  {
   "cell_type": "code",
   "execution_count": 18,
   "metadata": {},
   "outputs": [
    {
     "name": "stdout",
     "output_type": "stream",
     "text": [
      "Качество: 0.7962674961119751\n"
     ]
    }
   ],
   "source": [
    "model = DecisionTreeClassifier(max_depth=8, random_state=412)\n",
    "model.fit(features_train, target_train)\n",
    "accuracy = model.score(features_test, target_test)\n",
    "print(\"Качество:\", accuracy)"
   ]
  },
  {
   "cell_type": "code",
   "execution_count": 19,
   "metadata": {},
   "outputs": [
    {
     "name": "stdout",
     "output_type": "stream",
     "text": [
      "Качество: 0.7402799377916018\n"
     ]
    }
   ],
   "source": [
    "model = LogisticRegression()\n",
    "model.fit(features_train, target_train)\n",
    "accuracy = model.score(features_test, target_test)\n",
    "print(\"Качество:\", accuracy)"
   ]
  },
  {
   "cell_type": "code",
   "execution_count": 20,
   "metadata": {},
   "outputs": [
    {
     "name": "stdout",
     "output_type": "stream",
     "text": [
      "Качество: 0.7947122861586314\n"
     ]
    }
   ],
   "source": [
    "model = RandomForestClassifier(max_depth=7, n_estimators=40, min_samples_leaf=3, random_state=412)\n",
    "model.fit(features_train, target_train)\n",
    "accuracy = model.score(features_test, target_test)\n",
    "print(\"Качество:\", accuracy)"
   ]
  },
  {
   "cell_type": "markdown",
   "metadata": {},
   "source": [
    "<b>Вывод:</b> Наилучшее качество (0.794) достигается при использовании randomforest с гиперпараметрами max_depth=7 , n_estimators=40 , min_samples_leaf=3"
   ]
  },
  {
   "cell_type": "markdown",
   "metadata": {},
   "source": [
    "<div class=\"alert alert-block alert-success\">\n",
    "<b>Успех:</b> Тестирование было сделано абсолютно верно!\n",
    "</div>"
   ]
  },
  {
   "cell_type": "markdown",
   "metadata": {},
   "source": [
    "## (бонус) Проверьте модели на адекватность"
   ]
  },
  {
   "cell_type": "markdown",
   "metadata": {},
   "source": [
    "Будем считать, что если модель предсказывает лучше, чем простое предположение, то количество перешедших на тариф \"Смарт\" и \"Ультра\", будет с такими же пропорциями, что и в исходной выборке - то она адекватна.\n",
    "\n",
    "Посчитаем количество перешедших на тариф \"Смарт\" к общему количеству объектов в выборке."
   ]
  },
  {
   "cell_type": "code",
   "execution_count": 21,
   "metadata": {},
   "outputs": [
    {
     "data": {
      "text/plain": [
       "0.693528313627878"
      ]
     },
     "execution_count": 21,
     "metadata": {},
     "output_type": "execute_result"
    }
   ],
   "source": [
    "(data['is_ultra']==0).sum() / data.shape[0]"
   ]
  },
  {
   "cell_type": "markdown",
   "metadata": {},
   "source": [
    "Мы видим, что доля правильных ответов моделей выше, чем у нашего наивного предположения, считаем модели адекватными."
   ]
  },
  {
   "cell_type": "markdown",
   "metadata": {},
   "source": [
    "<div class=\"alert alert-block alert-success\">\n",
    "<b>Успех:</b> Именно это и есть проверка на адекватность.\n",
    "</div>\n",
    "\n",
    "<div class=\"alert alert-block alert-info\">\n",
    "<b>Совет: </b> В будущем советую реализовывать ее с помощью <a href=\"https://scikit-learn.org/stable/modules/generated/sklearn.dummy.DummyClassifier.html\"> DummyClassifier </a>. \n",
    "</div>"
   ]
  },
  {
   "cell_type": "markdown",
   "metadata": {},
   "source": [
    "<b>Вывод: </b>Проверены три модели: деревья решений, логистическая регрессия, случайный лес.\n",
    "Наилучшее качество (0.794) достигается при использовании randomforest с гиперпараметрами\n",
    "max_depth=7 , n_estimators=40 , min_samples_leaf=3"
   ]
  },
  {
   "cell_type": "markdown",
   "metadata": {},
   "source": [
    "<div class=\"alert alert-block alert-info\">\n",
    "<b>Совет: </b> Финальный вывод желательно было сделать подробнее.\n",
    "</div>"
   ]
  },
  {
   "cell_type": "markdown",
   "metadata": {},
   "source": [
    "<div class=\"alert alert-block alert-warning\">\n",
    "<b>Комментарий студента:</b> Вариант c DummyClassifier ниже. Но качество прогноза при использовании RandomForest всё также выше, чем наивного прогноза, то есть результат длиннее и времени на него нужно тратить больше.\n",
    "</div>"
   ]
  },
  {
   "cell_type": "code",
   "execution_count": 22,
   "metadata": {},
   "outputs": [
    {
     "name": "stdout",
     "output_type": "stream",
     "text": [
      "Качество наивного прогноза: 0.5707620528771384\n",
      "Качество при использовании RandomForest: 0.7947122861586314\n"
     ]
    }
   ],
   "source": [
    "new_version = DummyClassifier(strategy=\"stratified\", random_state=412)\n",
    "new_version.fit(features_train, target_train)\n",
    "my_accuracy = new_version.score(features_test, target_test)\n",
    "print(\"Качество наивного прогноза:\", my_accuracy)\n",
    "print(\"Качество при использовании RandomForest:\", accuracy)"
   ]
  },
  {
   "cell_type": "code",
   "execution_count": 23,
   "metadata": {},
   "outputs": [
    {
     "name": "stdout",
     "output_type": "stream",
     "text": [
      "Качество наивного прогноза: 0.6842923794712286\n",
      "Качество при использовании RandomForest: 0.7947122861586314\n"
     ]
    }
   ],
   "source": [
    "new_version = DummyClassifier(strategy='most_frequent', random_state=412)\n",
    "new_version.fit(features_train, target_train)\n",
    "my_accuracy = new_version.score(features_test, target_test)\n",
    "print(\"Качество наивного прогноза:\", my_accuracy)\n",
    "print(\"Качество при использовании RandomForest:\", accuracy)"
   ]
  },
  {
   "cell_type": "code",
   "execution_count": 24,
   "metadata": {},
   "outputs": [
    {
     "name": "stdout",
     "output_type": "stream",
     "text": [
      "Качество наивного прогноза: 0.48989113530326595\n",
      "Качество при использовании RandomForest: 0.7947122861586314\n"
     ]
    }
   ],
   "source": [
    "new_version = DummyClassifier(strategy='uniform', random_state=412)\n",
    "new_version.fit(features_train, target_train)\n",
    "my_accuracy = new_version.score(features_test, target_test)\n",
    "print(\"Качество наивного прогноза:\", my_accuracy)\n",
    "print(\"Качество при использовании RandomForest:\", accuracy)"
   ]
  },
  {
   "cell_type": "markdown",
   "metadata": {},
   "source": [
    "<div class=\"alert alert-block alert-warning\">\n",
    "<b>Комментарий студента:</b> Про окончательный вывод. \"Постройте модель с максимально большим значением accuracy. Чтобы сдать проект успешно, нужно довести долю правильных ответов по крайней мере до 0.75. Проверьте accuracy на тестовой выборке самостоятельно.\". Соответственно, я могу лишь написать, что соответствующая модель построена, доля правильных ответов доведена до указанного значения, accuracy проверена. Наилучшее качество, как я уже писал, 0.794, достигается при использовании randomforest с гиперпараметрами max_depth=7 , n_estimators=40 , min_samples_leaf=3. Что ещё писать, честно говоря, не представляю.\n",
    "</div>"
   ]
  },
  {
   "cell_type": "markdown",
   "metadata": {},
   "source": [
    "<div class=\"alert alert-block alert-success\">\n",
    "<b>Успех (ревью 2):</b> Финальный вывод получился хорошо. Но я бы добавил еще информацию о том, сколько данных было, как ты их разделял на выборки итд.\n",
    "</div>"
   ]
  },
  {
   "cell_type": "markdown",
   "metadata": {},
   "source": [
    "## Чек-лист готовности проекта"
   ]
  },
  {
   "cell_type": "markdown",
   "metadata": {},
   "source": [
    "Поставьте 'x' в выполненных пунктах. Далее нажмите Shift+Enter."
   ]
  },
  {
   "cell_type": "markdown",
   "metadata": {},
   "source": [
    "- [x] Jupyter Notebook открыт\n",
    "- [ ] Весь код исполняется без ошибок\n",
    "- [ ] Ячейки с кодом расположены в порядке исполнения\n",
    "- [ ] Выполнено задание 1: данные загружены и изучены\n",
    "- [ ] Выполнено задание 2: данные разбиты на три выборки\n",
    "- [ ] Выполнено задание 3: проведено исследование моделей\n",
    "    - [ ] Рассмотрено больше одной модели\n",
    "    - [ ] Рассмотрено хотя бы 3 значения гипепараметров для какой-нибудь модели\n",
    "    - [ ] Написаны выводы по результатам исследования\n",
    "- [ ] Выполнено задание 3: Проведено тестирование\n",
    "- [ ] Удалось достичь accuracy не меньше 0.75\n"
   ]
  },
  {
   "cell_type": "code",
   "execution_count": null,
   "metadata": {},
   "outputs": [],
   "source": []
  }
 ],
 "metadata": {
  "ExecuteTimeLog": [
   {
    "duration": 1396,
    "start_time": "2021-07-13T11:40:43.302Z"
   },
   {
    "duration": 3,
    "start_time": "2021-07-13T11:40:44.701Z"
   },
   {
    "duration": 202,
    "start_time": "2021-07-13T11:40:45.226Z"
   },
   {
    "duration": 9,
    "start_time": "2021-07-13T11:40:47.103Z"
   },
   {
    "duration": 98,
    "start_time": "2021-07-13T11:40:55.181Z"
   },
   {
    "duration": 101,
    "start_time": "2021-07-13T11:41:12.437Z"
   },
   {
    "duration": 126,
    "start_time": "2021-07-13T11:41:31.389Z"
   },
   {
    "duration": 93,
    "start_time": "2021-07-13T11:41:45.958Z"
   },
   {
    "duration": 8,
    "start_time": "2021-07-13T11:41:47.493Z"
   },
   {
    "duration": 8,
    "start_time": "2021-07-13T11:43:30.639Z"
   },
   {
    "duration": 5,
    "start_time": "2021-07-13T11:43:31.677Z"
   },
   {
    "duration": 5,
    "start_time": "2021-07-13T11:43:32.593Z"
   },
   {
    "duration": 1364,
    "start_time": "2021-07-13T12:00:46.452Z"
   },
   {
    "duration": 4,
    "start_time": "2021-07-13T12:00:47.819Z"
   },
   {
    "duration": 132,
    "start_time": "2021-07-13T12:00:47.826Z"
   },
   {
    "duration": 8,
    "start_time": "2021-07-13T12:00:47.961Z"
   },
   {
    "duration": 6,
    "start_time": "2021-07-13T12:00:47.971Z"
   },
   {
    "duration": 13,
    "start_time": "2021-07-13T12:00:47.979Z"
   },
   {
    "duration": 427,
    "start_time": "2021-07-13T12:00:47.994Z"
   },
   {
    "duration": 1310,
    "start_time": "2021-07-13T12:00:47.114Z"
   },
   {
    "duration": 1309,
    "start_time": "2021-07-13T12:00:47.117Z"
   },
   {
    "duration": 1307,
    "start_time": "2021-07-13T12:00:47.120Z"
   },
   {
    "duration": 1301,
    "start_time": "2021-07-13T12:00:47.127Z"
   },
   {
    "duration": 1299,
    "start_time": "2021-07-13T12:00:47.130Z"
   },
   {
    "duration": 1298,
    "start_time": "2021-07-13T12:00:47.133Z"
   },
   {
    "duration": 1296,
    "start_time": "2021-07-13T12:00:47.136Z"
   },
   {
    "duration": 1311,
    "start_time": "2021-07-13T12:01:47.717Z"
   },
   {
    "duration": 4,
    "start_time": "2021-07-13T12:01:49.030Z"
   },
   {
    "duration": 126,
    "start_time": "2021-07-13T12:01:49.037Z"
   },
   {
    "duration": 8,
    "start_time": "2021-07-13T12:01:49.166Z"
   },
   {
    "duration": 9,
    "start_time": "2021-07-13T12:01:49.176Z"
   },
   {
    "duration": 10,
    "start_time": "2021-07-13T12:01:49.187Z"
   },
   {
    "duration": 12,
    "start_time": "2021-07-13T12:01:49.199Z"
   },
   {
    "duration": 8,
    "start_time": "2021-07-13T12:01:49.213Z"
   },
   {
    "duration": 9,
    "start_time": "2021-07-13T12:01:49.225Z"
   },
   {
    "duration": 9,
    "start_time": "2021-07-13T12:01:49.237Z"
   },
   {
    "duration": 8,
    "start_time": "2021-07-13T12:01:49.249Z"
   },
   {
    "duration": 474,
    "start_time": "2021-07-13T12:01:49.259Z"
   },
   {
    "duration": 1329,
    "start_time": "2021-07-13T12:01:48.406Z"
   },
   {
    "duration": 1330,
    "start_time": "2021-07-13T12:01:48.407Z"
   },
   {
    "duration": 1360,
    "start_time": "2021-07-13T12:16:10.247Z"
   },
   {
    "duration": 5,
    "start_time": "2021-07-13T12:16:11.610Z"
   },
   {
    "duration": 105,
    "start_time": "2021-07-13T12:16:11.619Z"
   },
   {
    "duration": 9,
    "start_time": "2021-07-13T12:16:11.727Z"
   },
   {
    "duration": 9,
    "start_time": "2021-07-13T12:16:11.739Z"
   },
   {
    "duration": 8,
    "start_time": "2021-07-13T12:16:11.751Z"
   },
   {
    "duration": 29,
    "start_time": "2021-07-13T12:16:11.762Z"
   },
   {
    "duration": 3,
    "start_time": "2021-07-13T12:16:11.795Z"
   },
   {
    "duration": 6,
    "start_time": "2021-07-13T12:16:11.801Z"
   },
   {
    "duration": 9,
    "start_time": "2021-07-13T12:16:11.810Z"
   },
   {
    "duration": 7,
    "start_time": "2021-07-13T12:16:11.821Z"
   },
   {
    "duration": 444,
    "start_time": "2021-07-13T12:16:11.830Z"
   },
   {
    "duration": 1324,
    "start_time": "2021-07-13T12:16:10.952Z"
   },
   {
    "duration": 1310,
    "start_time": "2021-07-13T12:16:10.968Z"
   },
   {
    "duration": 1345,
    "start_time": "2021-07-13T12:22:07.876Z"
   },
   {
    "duration": 3,
    "start_time": "2021-07-13T12:22:09.224Z"
   },
   {
    "duration": 112,
    "start_time": "2021-07-13T12:22:09.230Z"
   },
   {
    "duration": 9,
    "start_time": "2021-07-13T12:22:09.345Z"
   },
   {
    "duration": 13,
    "start_time": "2021-07-13T12:22:09.356Z"
   },
   {
    "duration": 10,
    "start_time": "2021-07-13T12:22:09.371Z"
   },
   {
    "duration": 14,
    "start_time": "2021-07-13T12:22:09.383Z"
   },
   {
    "duration": 3,
    "start_time": "2021-07-13T12:22:09.401Z"
   },
   {
    "duration": 10,
    "start_time": "2021-07-13T12:22:09.407Z"
   },
   {
    "duration": 12,
    "start_time": "2021-07-13T12:22:09.419Z"
   },
   {
    "duration": 16,
    "start_time": "2021-07-13T12:22:09.433Z"
   },
   {
    "duration": 12,
    "start_time": "2021-07-13T12:22:09.451Z"
   },
   {
    "duration": 478,
    "start_time": "2021-07-13T12:22:09.466Z"
   },
   {
    "duration": 1313,
    "start_time": "2021-07-13T12:22:08.633Z"
   },
   {
    "duration": 1309,
    "start_time": "2021-07-13T12:22:08.639Z"
   },
   {
    "duration": 1284,
    "start_time": "2021-07-13T12:24:05.735Z"
   },
   {
    "duration": 3,
    "start_time": "2021-07-13T12:24:07.022Z"
   },
   {
    "duration": 111,
    "start_time": "2021-07-13T12:24:07.029Z"
   },
   {
    "duration": 9,
    "start_time": "2021-07-13T12:24:07.144Z"
   },
   {
    "duration": 6,
    "start_time": "2021-07-13T12:24:07.155Z"
   },
   {
    "duration": 9,
    "start_time": "2021-07-13T12:24:07.164Z"
   },
   {
    "duration": 20,
    "start_time": "2021-07-13T12:24:07.176Z"
   },
   {
    "duration": 4,
    "start_time": "2021-07-13T12:24:07.200Z"
   },
   {
    "duration": 6,
    "start_time": "2021-07-13T12:24:07.206Z"
   },
   {
    "duration": 11,
    "start_time": "2021-07-13T12:24:07.214Z"
   },
   {
    "duration": 12,
    "start_time": "2021-07-13T12:24:07.228Z"
   },
   {
    "duration": 9,
    "start_time": "2021-07-13T12:24:07.242Z"
   },
   {
    "duration": 446,
    "start_time": "2021-07-13T12:24:07.254Z"
   },
   {
    "duration": 1316,
    "start_time": "2021-07-13T12:24:06.387Z"
   },
   {
    "duration": 1315,
    "start_time": "2021-07-13T12:24:06.390Z"
   },
   {
    "duration": 11,
    "start_time": "2021-07-13T12:34:27.014Z"
   },
   {
    "duration": 5,
    "start_time": "2021-07-13T12:35:21.319Z"
   },
   {
    "duration": 228,
    "start_time": "2021-07-13T12:35:21.761Z"
   },
   {
    "duration": 11,
    "start_time": "2021-07-13T12:35:22.321Z"
   },
   {
    "duration": 10,
    "start_time": "2021-07-13T12:35:27.727Z"
   },
   {
    "duration": 6,
    "start_time": "2021-07-13T12:36:15.289Z"
   },
   {
    "duration": 8,
    "start_time": "2021-07-13T12:36:17.765Z"
   },
   {
    "duration": 35,
    "start_time": "2021-07-13T12:36:57.145Z"
   },
   {
    "duration": 1409,
    "start_time": "2021-07-13T12:47:36.681Z"
   },
   {
    "duration": 4,
    "start_time": "2021-07-13T12:47:38.093Z"
   },
   {
    "duration": 225,
    "start_time": "2021-07-13T12:47:38.100Z"
   },
   {
    "duration": 10,
    "start_time": "2021-07-13T12:47:38.329Z"
   },
   {
    "duration": 13,
    "start_time": "2021-07-13T12:47:38.342Z"
   },
   {
    "duration": 18,
    "start_time": "2021-07-13T12:47:38.358Z"
   },
   {
    "duration": 7,
    "start_time": "2021-07-13T12:47:38.386Z"
   },
   {
    "duration": 10,
    "start_time": "2021-07-13T12:47:38.398Z"
   },
   {
    "duration": 42,
    "start_time": "2021-07-13T12:47:38.412Z"
   },
   {
    "duration": 8,
    "start_time": "2021-07-13T12:47:38.486Z"
   },
   {
    "duration": 10,
    "start_time": "2021-07-13T12:47:38.496Z"
   },
   {
    "duration": 12,
    "start_time": "2021-07-13T12:47:38.509Z"
   },
   {
    "duration": 7,
    "start_time": "2021-07-13T12:47:38.523Z"
   },
   {
    "duration": 171,
    "start_time": "2021-07-13T12:47:38.533Z"
   },
   {
    "duration": 20408,
    "start_time": "2021-07-13T12:47:38.707Z"
   },
   {
    "duration": 26,
    "start_time": "2021-07-13T12:47:59.118Z"
   },
   {
    "duration": 41,
    "start_time": "2021-07-13T12:47:59.146Z"
   },
   {
    "duration": 165,
    "start_time": "2021-07-13T12:47:59.189Z"
   },
   {
    "duration": 37,
    "start_time": "2021-07-13T12:47:59.356Z"
   },
   {
    "duration": 8,
    "start_time": "2021-07-13T12:47:59.395Z"
   },
   {
    "duration": 1438,
    "start_time": "2021-07-13T12:49:41.279Z"
   },
   {
    "duration": 4,
    "start_time": "2021-07-13T12:49:42.720Z"
   },
   {
    "duration": 105,
    "start_time": "2021-07-13T12:49:42.727Z"
   },
   {
    "duration": 10,
    "start_time": "2021-07-13T12:49:42.835Z"
   },
   {
    "duration": 10,
    "start_time": "2021-07-13T12:49:42.847Z"
   },
   {
    "duration": 12,
    "start_time": "2021-07-13T12:49:42.860Z"
   },
   {
    "duration": 9,
    "start_time": "2021-07-13T12:49:42.875Z"
   },
   {
    "duration": 9,
    "start_time": "2021-07-13T12:49:42.888Z"
   },
   {
    "duration": 36,
    "start_time": "2021-07-13T12:49:42.900Z"
   },
   {
    "duration": 7,
    "start_time": "2021-07-13T12:49:42.939Z"
   },
   {
    "duration": 38,
    "start_time": "2021-07-13T12:49:42.948Z"
   },
   {
    "duration": 10,
    "start_time": "2021-07-13T12:49:42.988Z"
   },
   {
    "duration": 9,
    "start_time": "2021-07-13T12:49:43.001Z"
   },
   {
    "duration": 165,
    "start_time": "2021-07-13T12:49:43.013Z"
   },
   {
    "duration": 21216,
    "start_time": "2021-07-13T12:49:43.185Z"
   },
   {
    "duration": 24,
    "start_time": "2021-07-13T12:50:04.404Z"
   },
   {
    "duration": 15,
    "start_time": "2021-07-13T12:50:04.430Z"
   },
   {
    "duration": 183,
    "start_time": "2021-07-13T12:50:04.447Z"
   },
   {
    "duration": 23,
    "start_time": "2021-07-13T12:50:04.633Z"
   },
   {
    "duration": 27,
    "start_time": "2021-07-13T12:50:04.658Z"
   },
   {
    "duration": 1412,
    "start_time": "2021-07-13T12:50:32.034Z"
   },
   {
    "duration": 3,
    "start_time": "2021-07-13T12:50:33.449Z"
   },
   {
    "duration": 128,
    "start_time": "2021-07-13T12:50:33.456Z"
   },
   {
    "duration": 10,
    "start_time": "2021-07-13T12:50:33.586Z"
   },
   {
    "duration": 9,
    "start_time": "2021-07-13T12:50:33.598Z"
   },
   {
    "duration": 13,
    "start_time": "2021-07-13T12:50:33.609Z"
   },
   {
    "duration": 5,
    "start_time": "2021-07-13T12:50:33.625Z"
   },
   {
    "duration": 8,
    "start_time": "2021-07-13T12:50:33.634Z"
   },
   {
    "duration": 68,
    "start_time": "2021-07-13T12:50:33.645Z"
   },
   {
    "duration": 7,
    "start_time": "2021-07-13T12:50:33.716Z"
   },
   {
    "duration": 6,
    "start_time": "2021-07-13T12:50:33.726Z"
   },
   {
    "duration": 15,
    "start_time": "2021-07-13T12:50:33.734Z"
   },
   {
    "duration": 36,
    "start_time": "2021-07-13T12:50:33.752Z"
   },
   {
    "duration": 158,
    "start_time": "2021-07-13T12:50:33.791Z"
   },
   {
    "duration": 20295,
    "start_time": "2021-07-13T12:50:33.952Z"
   },
   {
    "duration": 36,
    "start_time": "2021-07-13T12:50:54.249Z"
   },
   {
    "duration": 14,
    "start_time": "2021-07-13T12:50:54.288Z"
   },
   {
    "duration": 175,
    "start_time": "2021-07-13T12:50:54.305Z"
   },
   {
    "duration": 24,
    "start_time": "2021-07-13T12:50:54.486Z"
   },
   {
    "duration": 8,
    "start_time": "2021-07-13T12:50:54.512Z"
   },
   {
    "duration": 103,
    "start_time": "2021-07-13T12:55:58.581Z"
   },
   {
    "duration": 1371,
    "start_time": "2021-07-13T12:58:38.266Z"
   },
   {
    "duration": 4,
    "start_time": "2021-07-13T12:58:39.640Z"
   },
   {
    "duration": 135,
    "start_time": "2021-07-13T12:58:39.650Z"
   },
   {
    "duration": 9,
    "start_time": "2021-07-13T12:58:39.788Z"
   },
   {
    "duration": 11,
    "start_time": "2021-07-13T12:58:39.799Z"
   },
   {
    "duration": 16,
    "start_time": "2021-07-13T12:58:39.813Z"
   },
   {
    "duration": 5,
    "start_time": "2021-07-13T12:58:39.833Z"
   },
   {
    "duration": 14,
    "start_time": "2021-07-13T12:58:39.841Z"
   },
   {
    "duration": 63,
    "start_time": "2021-07-13T12:58:39.857Z"
   },
   {
    "duration": 6,
    "start_time": "2021-07-13T12:58:39.923Z"
   },
   {
    "duration": 8,
    "start_time": "2021-07-13T12:58:39.931Z"
   },
   {
    "duration": 45,
    "start_time": "2021-07-13T12:58:39.941Z"
   },
   {
    "duration": 5,
    "start_time": "2021-07-13T12:58:39.989Z"
   },
   {
    "duration": 167,
    "start_time": "2021-07-13T12:58:39.997Z"
   },
   {
    "duration": 19542,
    "start_time": "2021-07-13T12:58:40.167Z"
   },
   {
    "duration": 24,
    "start_time": "2021-07-13T12:58:59.711Z"
   },
   {
    "duration": 14,
    "start_time": "2021-07-13T12:58:59.737Z"
   },
   {
    "duration": 187,
    "start_time": "2021-07-13T12:58:59.753Z"
   },
   {
    "duration": 23,
    "start_time": "2021-07-13T12:58:59.942Z"
   },
   {
    "duration": 23,
    "start_time": "2021-07-13T12:58:59.967Z"
   },
   {
    "duration": 1329,
    "start_time": "2021-07-13T13:01:15.081Z"
   },
   {
    "duration": 108,
    "start_time": "2021-07-13T13:01:16.413Z"
   },
   {
    "duration": 9,
    "start_time": "2021-07-13T13:01:16.524Z"
   },
   {
    "duration": 8,
    "start_time": "2021-07-13T13:01:16.535Z"
   },
   {
    "duration": 18,
    "start_time": "2021-07-13T13:01:16.546Z"
   },
   {
    "duration": 21,
    "start_time": "2021-07-13T13:01:16.566Z"
   },
   {
    "duration": 8,
    "start_time": "2021-07-13T13:01:16.589Z"
   },
   {
    "duration": 40,
    "start_time": "2021-07-13T13:01:16.601Z"
   },
   {
    "duration": 6,
    "start_time": "2021-07-13T13:01:16.644Z"
   },
   {
    "duration": 32,
    "start_time": "2021-07-13T13:01:16.653Z"
   },
   {
    "duration": 17,
    "start_time": "2021-07-13T13:01:16.688Z"
   },
   {
    "duration": 8,
    "start_time": "2021-07-13T13:01:16.708Z"
   },
   {
    "duration": 141,
    "start_time": "2021-07-13T13:01:16.719Z"
   },
   {
    "duration": 20376,
    "start_time": "2021-07-13T13:01:16.862Z"
   },
   {
    "duration": 26,
    "start_time": "2021-07-13T13:01:37.240Z"
   },
   {
    "duration": 16,
    "start_time": "2021-07-13T13:01:37.286Z"
   },
   {
    "duration": 178,
    "start_time": "2021-07-13T13:01:37.304Z"
   },
   {
    "duration": 27,
    "start_time": "2021-07-13T13:01:37.487Z"
   },
   {
    "duration": 7,
    "start_time": "2021-07-13T13:01:37.517Z"
   },
   {
    "duration": 1389,
    "start_time": "2021-07-13T13:19:00.635Z"
   },
   {
    "duration": 108,
    "start_time": "2021-07-13T13:19:02.027Z"
   },
   {
    "duration": 8,
    "start_time": "2021-07-13T13:19:02.139Z"
   },
   {
    "duration": 17,
    "start_time": "2021-07-13T13:19:02.150Z"
   },
   {
    "duration": 31,
    "start_time": "2021-07-13T13:19:02.169Z"
   },
   {
    "duration": 23,
    "start_time": "2021-07-13T13:19:02.202Z"
   },
   {
    "duration": 23,
    "start_time": "2021-07-13T13:19:02.228Z"
   },
   {
    "duration": 44,
    "start_time": "2021-07-13T13:19:02.255Z"
   },
   {
    "duration": 8,
    "start_time": "2021-07-13T13:19:02.301Z"
   },
   {
    "duration": 18,
    "start_time": "2021-07-13T13:19:02.312Z"
   },
   {
    "duration": 21,
    "start_time": "2021-07-13T13:19:02.332Z"
   },
   {
    "duration": 17,
    "start_time": "2021-07-13T13:19:02.355Z"
   },
   {
    "duration": 150,
    "start_time": "2021-07-13T13:19:02.375Z"
   },
   {
    "duration": 19945,
    "start_time": "2021-07-13T13:19:02.528Z"
   },
   {
    "duration": 32,
    "start_time": "2021-07-13T13:19:22.476Z"
   },
   {
    "duration": 15,
    "start_time": "2021-07-13T13:19:22.510Z"
   },
   {
    "duration": 177,
    "start_time": "2021-07-13T13:19:22.528Z"
   },
   {
    "duration": 24,
    "start_time": "2021-07-13T13:19:22.707Z"
   },
   {
    "duration": 7,
    "start_time": "2021-07-13T13:19:22.734Z"
   },
   {
    "duration": 319,
    "start_time": "2021-07-13T17:18:05.681Z"
   },
   {
    "duration": 1280,
    "start_time": "2021-07-13T17:18:27.544Z"
   },
   {
    "duration": 313,
    "start_time": "2021-07-13T17:18:28.826Z"
   },
   {
    "duration": 8,
    "start_time": "2021-07-13T17:18:29.142Z"
   },
   {
    "duration": 6,
    "start_time": "2021-07-13T17:18:29.153Z"
   },
   {
    "duration": 12,
    "start_time": "2021-07-13T17:18:29.162Z"
   },
   {
    "duration": 5,
    "start_time": "2021-07-13T17:18:29.177Z"
   },
   {
    "duration": 11,
    "start_time": "2021-07-13T17:18:29.201Z"
   },
   {
    "duration": 33,
    "start_time": "2021-07-13T17:18:29.216Z"
   },
   {
    "duration": 7,
    "start_time": "2021-07-13T17:18:29.251Z"
   },
   {
    "duration": 6,
    "start_time": "2021-07-13T17:18:29.260Z"
   },
   {
    "duration": 8,
    "start_time": "2021-07-13T17:18:29.301Z"
   },
   {
    "duration": 5,
    "start_time": "2021-07-13T17:18:29.311Z"
   },
   {
    "duration": 7,
    "start_time": "2021-07-13T17:18:29.319Z"
   },
   {
    "duration": 7,
    "start_time": "2021-07-13T17:18:29.328Z"
   },
   {
    "duration": 172,
    "start_time": "2021-07-13T17:18:29.337Z"
   },
   {
    "duration": 19621,
    "start_time": "2021-07-13T17:18:29.512Z"
   },
   {
    "duration": 23,
    "start_time": "2021-07-13T17:18:49.135Z"
   },
   {
    "duration": 16,
    "start_time": "2021-07-13T17:18:49.160Z"
   },
   {
    "duration": 154,
    "start_time": "2021-07-13T17:18:49.201Z"
   },
   {
    "duration": 24,
    "start_time": "2021-07-13T17:18:49.357Z"
   },
   {
    "duration": 19,
    "start_time": "2021-07-13T17:18:49.383Z"
   },
   {
    "duration": 1349,
    "start_time": "2021-07-13T17:23:58.426Z"
   },
   {
    "duration": 156,
    "start_time": "2021-07-13T17:23:59.779Z"
   },
   {
    "duration": 12,
    "start_time": "2021-07-13T17:23:59.940Z"
   },
   {
    "duration": 6,
    "start_time": "2021-07-13T17:23:59.956Z"
   },
   {
    "duration": 37,
    "start_time": "2021-07-13T17:23:59.965Z"
   },
   {
    "duration": 6,
    "start_time": "2021-07-13T17:24:00.005Z"
   },
   {
    "duration": 10,
    "start_time": "2021-07-13T17:24:00.013Z"
   },
   {
    "duration": 37,
    "start_time": "2021-07-13T17:24:00.027Z"
   },
   {
    "duration": 8,
    "start_time": "2021-07-13T17:24:00.102Z"
   },
   {
    "duration": 8,
    "start_time": "2021-07-13T17:24:00.112Z"
   },
   {
    "duration": 8,
    "start_time": "2021-07-13T17:24:00.123Z"
   },
   {
    "duration": 6,
    "start_time": "2021-07-13T17:24:00.133Z"
   },
   {
    "duration": 14,
    "start_time": "2021-07-13T17:24:00.141Z"
   },
   {
    "duration": 6,
    "start_time": "2021-07-13T17:24:00.158Z"
   },
   {
    "duration": 146,
    "start_time": "2021-07-13T17:24:00.201Z"
   },
   {
    "duration": 19213,
    "start_time": "2021-07-13T17:24:00.349Z"
   },
   {
    "duration": 41,
    "start_time": "2021-07-13T17:24:19.565Z"
   },
   {
    "duration": 16,
    "start_time": "2021-07-13T17:24:19.608Z"
   },
   {
    "duration": 174,
    "start_time": "2021-07-13T17:24:19.626Z"
   },
   {
    "duration": 23,
    "start_time": "2021-07-13T17:24:19.803Z"
   },
   {
    "duration": 6,
    "start_time": "2021-07-13T17:24:19.828Z"
   },
   {
    "duration": 409,
    "start_time": "2021-07-13T17:24:19.836Z"
   },
   {
    "duration": 1244,
    "start_time": "2021-07-13T17:24:19.004Z"
   },
   {
    "duration": 1240,
    "start_time": "2021-07-13T17:24:19.009Z"
   },
   {
    "duration": 1389,
    "start_time": "2021-07-13T17:24:56.261Z"
   },
   {
    "duration": 104,
    "start_time": "2021-07-13T17:24:57.653Z"
   },
   {
    "duration": 10,
    "start_time": "2021-07-13T17:24:57.762Z"
   },
   {
    "duration": 11,
    "start_time": "2021-07-13T17:24:57.774Z"
   },
   {
    "duration": 10,
    "start_time": "2021-07-13T17:24:57.787Z"
   },
   {
    "duration": 5,
    "start_time": "2021-07-13T17:24:57.799Z"
   },
   {
    "duration": 8,
    "start_time": "2021-07-13T17:24:57.806Z"
   },
   {
    "duration": 32,
    "start_time": "2021-07-13T17:24:57.817Z"
   },
   {
    "duration": 6,
    "start_time": "2021-07-13T17:24:57.852Z"
   },
   {
    "duration": 40,
    "start_time": "2021-07-13T17:24:57.860Z"
   },
   {
    "duration": 9,
    "start_time": "2021-07-13T17:24:57.903Z"
   },
   {
    "duration": 8,
    "start_time": "2021-07-13T17:24:57.914Z"
   },
   {
    "duration": 7,
    "start_time": "2021-07-13T17:24:57.924Z"
   },
   {
    "duration": 5,
    "start_time": "2021-07-13T17:24:57.933Z"
   },
   {
    "duration": 168,
    "start_time": "2021-07-13T17:24:57.940Z"
   },
   {
    "duration": 19549,
    "start_time": "2021-07-13T17:24:58.110Z"
   },
   {
    "duration": 23,
    "start_time": "2021-07-13T17:25:17.661Z"
   },
   {
    "duration": 27,
    "start_time": "2021-07-13T17:25:17.687Z"
   },
   {
    "duration": 175,
    "start_time": "2021-07-13T17:25:17.717Z"
   },
   {
    "duration": 24,
    "start_time": "2021-07-13T17:25:17.895Z"
   },
   {
    "duration": 6,
    "start_time": "2021-07-13T17:25:17.922Z"
   },
   {
    "duration": 425,
    "start_time": "2021-07-13T17:25:17.930Z"
   },
   {
    "duration": 1258,
    "start_time": "2021-07-13T17:25:17.099Z"
   },
   {
    "duration": 1256,
    "start_time": "2021-07-13T17:25:17.103Z"
   },
   {
    "duration": 1340,
    "start_time": "2021-07-13T17:25:33.483Z"
   },
   {
    "duration": 107,
    "start_time": "2021-07-13T17:25:34.826Z"
   },
   {
    "duration": 10,
    "start_time": "2021-07-13T17:25:34.938Z"
   },
   {
    "duration": 6,
    "start_time": "2021-07-13T17:25:34.951Z"
   },
   {
    "duration": 9,
    "start_time": "2021-07-13T17:25:34.959Z"
   },
   {
    "duration": 5,
    "start_time": "2021-07-13T17:25:34.970Z"
   },
   {
    "duration": 7,
    "start_time": "2021-07-13T17:25:35.001Z"
   },
   {
    "duration": 34,
    "start_time": "2021-07-13T17:25:35.010Z"
   },
   {
    "duration": 5,
    "start_time": "2021-07-13T17:25:35.048Z"
   },
   {
    "duration": 45,
    "start_time": "2021-07-13T17:25:35.056Z"
   },
   {
    "duration": 7,
    "start_time": "2021-07-13T17:25:35.103Z"
   },
   {
    "duration": 10,
    "start_time": "2021-07-13T17:25:35.112Z"
   },
   {
    "duration": 8,
    "start_time": "2021-07-13T17:25:35.124Z"
   },
   {
    "duration": 9,
    "start_time": "2021-07-13T17:25:35.134Z"
   },
   {
    "duration": 161,
    "start_time": "2021-07-13T17:25:35.145Z"
   },
   {
    "duration": 19046,
    "start_time": "2021-07-13T17:25:35.309Z"
   },
   {
    "duration": 25,
    "start_time": "2021-07-13T17:25:54.357Z"
   },
   {
    "duration": 16,
    "start_time": "2021-07-13T17:25:54.401Z"
   },
   {
    "duration": 175,
    "start_time": "2021-07-13T17:25:54.419Z"
   },
   {
    "duration": 23,
    "start_time": "2021-07-13T17:25:54.601Z"
   },
   {
    "duration": 6,
    "start_time": "2021-07-13T17:25:54.626Z"
   },
   {
    "duration": 13,
    "start_time": "2021-07-13T17:25:54.635Z"
   },
   {
    "duration": 10,
    "start_time": "2021-07-13T17:25:54.651Z"
   },
   {
    "duration": 43,
    "start_time": "2021-07-13T17:25:54.663Z"
   },
   {
    "duration": 10,
    "start_time": "2021-07-13T17:28:55.925Z"
   },
   {
    "duration": 9,
    "start_time": "2021-07-13T17:28:56.649Z"
   },
   {
    "duration": 9,
    "start_time": "2021-07-13T17:28:57.119Z"
   },
   {
    "duration": 1369,
    "start_time": "2021-07-13T17:31:21.066Z"
   },
   {
    "duration": 111,
    "start_time": "2021-07-13T17:31:22.438Z"
   },
   {
    "duration": 10,
    "start_time": "2021-07-13T17:31:22.552Z"
   },
   {
    "duration": 9,
    "start_time": "2021-07-13T17:31:22.565Z"
   },
   {
    "duration": 13,
    "start_time": "2021-07-13T17:31:22.577Z"
   },
   {
    "duration": 7,
    "start_time": "2021-07-13T17:31:22.592Z"
   },
   {
    "duration": 8,
    "start_time": "2021-07-13T17:31:22.602Z"
   },
   {
    "duration": 35,
    "start_time": "2021-07-13T17:31:22.614Z"
   },
   {
    "duration": 7,
    "start_time": "2021-07-13T17:31:22.652Z"
   },
   {
    "duration": 41,
    "start_time": "2021-07-13T17:31:22.661Z"
   },
   {
    "duration": 8,
    "start_time": "2021-07-13T17:31:22.705Z"
   },
   {
    "duration": 5,
    "start_time": "2021-07-13T17:31:22.715Z"
   },
   {
    "duration": 7,
    "start_time": "2021-07-13T17:31:22.723Z"
   },
   {
    "duration": 6,
    "start_time": "2021-07-13T17:31:22.733Z"
   },
   {
    "duration": 181,
    "start_time": "2021-07-13T17:31:22.741Z"
   },
   {
    "duration": 19169,
    "start_time": "2021-07-13T17:31:22.924Z"
   },
   {
    "duration": 23,
    "start_time": "2021-07-13T17:31:42.101Z"
   },
   {
    "duration": 16,
    "start_time": "2021-07-13T17:31:42.126Z"
   },
   {
    "duration": 242,
    "start_time": "2021-07-13T17:31:42.145Z"
   },
   {
    "duration": 32,
    "start_time": "2021-07-13T17:31:42.390Z"
   },
   {
    "duration": 6,
    "start_time": "2021-07-13T17:31:42.424Z"
   },
   {
    "duration": 10,
    "start_time": "2021-07-13T17:31:42.432Z"
   },
   {
    "duration": 8,
    "start_time": "2021-07-13T17:31:42.446Z"
   },
   {
    "duration": 47,
    "start_time": "2021-07-13T17:31:42.456Z"
   },
   {
    "duration": 1275,
    "start_time": "2021-07-13T17:32:27.150Z"
   },
   {
    "duration": 108,
    "start_time": "2021-07-13T17:32:28.428Z"
   },
   {
    "duration": 10,
    "start_time": "2021-07-13T17:32:28.540Z"
   },
   {
    "duration": 15,
    "start_time": "2021-07-13T17:32:28.553Z"
   },
   {
    "duration": 22,
    "start_time": "2021-07-13T17:32:28.570Z"
   },
   {
    "duration": 11,
    "start_time": "2021-07-13T17:32:28.594Z"
   },
   {
    "duration": 9,
    "start_time": "2021-07-13T17:32:28.608Z"
   },
   {
    "duration": 35,
    "start_time": "2021-07-13T17:32:28.621Z"
   },
   {
    "duration": 6,
    "start_time": "2021-07-13T17:32:28.659Z"
   },
   {
    "duration": 6,
    "start_time": "2021-07-13T17:32:28.705Z"
   },
   {
    "duration": 17,
    "start_time": "2021-07-13T17:32:28.713Z"
   },
   {
    "duration": 9,
    "start_time": "2021-07-13T17:32:28.732Z"
   },
   {
    "duration": 11,
    "start_time": "2021-07-13T17:32:28.744Z"
   },
   {
    "duration": 13,
    "start_time": "2021-07-13T17:32:28.757Z"
   },
   {
    "duration": 157,
    "start_time": "2021-07-13T17:32:28.772Z"
   },
   {
    "duration": 19474,
    "start_time": "2021-07-13T17:32:28.931Z"
   },
   {
    "duration": 25,
    "start_time": "2021-07-13T17:32:48.408Z"
   },
   {
    "duration": 18,
    "start_time": "2021-07-13T17:32:48.436Z"
   },
   {
    "duration": 190,
    "start_time": "2021-07-13T17:32:48.456Z"
   },
   {
    "duration": 24,
    "start_time": "2021-07-13T17:32:48.649Z"
   },
   {
    "duration": 27,
    "start_time": "2021-07-13T17:32:48.676Z"
   },
   {
    "duration": 11,
    "start_time": "2021-07-13T17:32:48.706Z"
   },
   {
    "duration": 7,
    "start_time": "2021-07-13T17:32:48.721Z"
   },
   {
    "duration": 10,
    "start_time": "2021-07-13T17:32:48.730Z"
   },
   {
    "duration": 1342,
    "start_time": "2021-07-13T17:33:22.175Z"
   },
   {
    "duration": 105,
    "start_time": "2021-07-13T17:33:23.520Z"
   },
   {
    "duration": 10,
    "start_time": "2021-07-13T17:33:23.628Z"
   },
   {
    "duration": 6,
    "start_time": "2021-07-13T17:33:23.641Z"
   },
   {
    "duration": 12,
    "start_time": "2021-07-13T17:33:23.650Z"
   },
   {
    "duration": 6,
    "start_time": "2021-07-13T17:33:23.664Z"
   },
   {
    "duration": 33,
    "start_time": "2021-07-13T17:33:23.673Z"
   },
   {
    "duration": 35,
    "start_time": "2021-07-13T17:33:23.710Z"
   },
   {
    "duration": 7,
    "start_time": "2021-07-13T17:33:23.748Z"
   },
   {
    "duration": 44,
    "start_time": "2021-07-13T17:33:23.757Z"
   },
   {
    "duration": 9,
    "start_time": "2021-07-13T17:33:23.804Z"
   },
   {
    "duration": 6,
    "start_time": "2021-07-13T17:33:23.815Z"
   },
   {
    "duration": 15,
    "start_time": "2021-07-13T17:33:23.823Z"
   },
   {
    "duration": 7,
    "start_time": "2021-07-13T17:33:23.840Z"
   },
   {
    "duration": 168,
    "start_time": "2021-07-13T17:33:23.849Z"
   },
   {
    "duration": 19575,
    "start_time": "2021-07-13T17:33:24.019Z"
   },
   {
    "duration": 23,
    "start_time": "2021-07-13T17:33:43.601Z"
   },
   {
    "duration": 16,
    "start_time": "2021-07-13T17:33:43.626Z"
   },
   {
    "duration": 179,
    "start_time": "2021-07-13T17:33:43.645Z"
   },
   {
    "duration": 22,
    "start_time": "2021-07-13T17:33:43.826Z"
   },
   {
    "duration": 6,
    "start_time": "2021-07-13T17:33:43.850Z"
   },
   {
    "duration": 10,
    "start_time": "2021-07-13T17:33:43.859Z"
   },
   {
    "duration": 9,
    "start_time": "2021-07-13T17:33:43.902Z"
   },
   {
    "duration": 7,
    "start_time": "2021-07-13T17:33:43.914Z"
   },
   {
    "duration": 1287,
    "start_time": "2021-07-13T17:38:23.337Z"
   },
   {
    "duration": 124,
    "start_time": "2021-07-13T17:38:24.627Z"
   },
   {
    "duration": 9,
    "start_time": "2021-07-13T17:38:24.757Z"
   },
   {
    "duration": 6,
    "start_time": "2021-07-13T17:38:24.769Z"
   },
   {
    "duration": 11,
    "start_time": "2021-07-13T17:38:24.777Z"
   },
   {
    "duration": 15,
    "start_time": "2021-07-13T17:38:24.790Z"
   },
   {
    "duration": 8,
    "start_time": "2021-07-13T17:38:24.808Z"
   },
   {
    "duration": 39,
    "start_time": "2021-07-13T17:38:24.819Z"
   },
   {
    "duration": 7,
    "start_time": "2021-07-13T17:38:24.861Z"
   },
   {
    "duration": 34,
    "start_time": "2021-07-13T17:38:24.870Z"
   },
   {
    "duration": 21,
    "start_time": "2021-07-13T17:38:24.907Z"
   },
   {
    "duration": 7,
    "start_time": "2021-07-13T17:38:24.931Z"
   },
   {
    "duration": 10,
    "start_time": "2021-07-13T17:38:24.940Z"
   },
   {
    "duration": 8,
    "start_time": "2021-07-13T17:38:24.953Z"
   },
   {
    "duration": 164,
    "start_time": "2021-07-13T17:38:24.964Z"
   },
   {
    "duration": 19255,
    "start_time": "2021-07-13T17:38:25.131Z"
   },
   {
    "duration": 29,
    "start_time": "2021-07-13T17:38:44.389Z"
   },
   {
    "duration": 15,
    "start_time": "2021-07-13T17:38:44.421Z"
   },
   {
    "duration": 23,
    "start_time": "2021-07-13T17:38:44.438Z"
   },
   {
    "duration": 194,
    "start_time": "2021-07-13T17:38:44.463Z"
   },
   {
    "duration": 6,
    "start_time": "2021-07-13T17:38:44.660Z"
   },
   {
    "duration": 8,
    "start_time": "2021-07-13T17:38:44.670Z"
   },
   {
    "duration": 24,
    "start_time": "2021-07-13T17:38:44.680Z"
   },
   {
    "duration": 7,
    "start_time": "2021-07-13T17:38:44.706Z"
   },
   {
    "duration": 1276,
    "start_time": "2021-07-13T17:39:42.756Z"
   },
   {
    "duration": 121,
    "start_time": "2021-07-13T17:39:44.035Z"
   },
   {
    "duration": 10,
    "start_time": "2021-07-13T17:39:44.159Z"
   },
   {
    "duration": 15,
    "start_time": "2021-07-13T17:39:44.172Z"
   },
   {
    "duration": 20,
    "start_time": "2021-07-13T17:39:44.189Z"
   },
   {
    "duration": 14,
    "start_time": "2021-07-13T17:39:44.211Z"
   },
   {
    "duration": 16,
    "start_time": "2021-07-13T17:39:44.227Z"
   },
   {
    "duration": 46,
    "start_time": "2021-07-13T17:39:44.247Z"
   },
   {
    "duration": 5,
    "start_time": "2021-07-13T17:39:44.297Z"
   },
   {
    "duration": 16,
    "start_time": "2021-07-13T17:39:44.305Z"
   },
   {
    "duration": 16,
    "start_time": "2021-07-13T17:39:44.324Z"
   },
   {
    "duration": 4,
    "start_time": "2021-07-13T17:39:44.343Z"
   },
   {
    "duration": 14,
    "start_time": "2021-07-13T17:39:44.349Z"
   },
   {
    "duration": 23,
    "start_time": "2021-07-13T17:39:44.365Z"
   },
   {
    "duration": 132,
    "start_time": "2021-07-13T17:39:44.390Z"
   },
   {
    "duration": 19737,
    "start_time": "2021-07-13T17:39:44.525Z"
   },
   {
    "duration": 36,
    "start_time": "2021-07-13T17:40:04.264Z"
   },
   {
    "duration": 16,
    "start_time": "2021-07-13T17:40:04.303Z"
   },
   {
    "duration": 24,
    "start_time": "2021-07-13T17:40:04.321Z"
   },
   {
    "duration": 180,
    "start_time": "2021-07-13T17:40:04.347Z"
   },
   {
    "duration": 6,
    "start_time": "2021-07-13T17:40:04.529Z"
   },
   {
    "duration": 16,
    "start_time": "2021-07-13T17:40:04.537Z"
   },
   {
    "duration": 7,
    "start_time": "2021-07-13T17:40:04.558Z"
   },
   {
    "duration": 40,
    "start_time": "2021-07-13T17:40:04.568Z"
   }
  ],
  "kernelspec": {
   "display_name": "Python 3",
   "language": "python",
   "name": "python3"
  },
  "language_info": {
   "codemirror_mode": {
    "name": "ipython",
    "version": 3
   },
   "file_extension": ".py",
   "mimetype": "text/x-python",
   "name": "python",
   "nbconvert_exporter": "python",
   "pygments_lexer": "ipython3",
   "version": "3.7.8"
  },
  "toc": {
   "base_numbering": 1,
   "nav_menu": {},
   "number_sections": true,
   "sideBar": true,
   "skip_h1_title": true,
   "title_cell": "Table of Contents",
   "title_sidebar": "Contents",
   "toc_cell": false,
   "toc_position": {},
   "toc_section_display": true,
   "toc_window_display": false
  }
 },
 "nbformat": 4,
 "nbformat_minor": 2
}
