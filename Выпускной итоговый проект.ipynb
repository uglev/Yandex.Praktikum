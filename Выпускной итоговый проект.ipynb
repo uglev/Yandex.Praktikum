{
 "cells": [
  {
   "cell_type": "markdown",
   "metadata": {},
   "source": [
    "<div style=\"background: #cceeaa; padding: 5px; border: 1px solid green; border-radius: 5px;\">\n",
    "<font color='green'> \n",
    "    <b><u>КОММЕНТАРИЙ РЕВЬЮЕРА</u></b>\n",
    "<font color='green'><br>\n",
    "<br />\n",
    "Семён, доброго дня! рад приветствовать тебя в финале) <br />\n",
    "Вот и он подобрался, поздравляю. Остался последний рывок в этом марафоне)<br>\n",
    "<br />    \n",
    "Несмотря на то, что проект не такой уж и простой как с позиции кода, так и в понимании процессов - <br />тебе удалось сдать его вовремя, это большой плюс для всех нас, спасибо:)<br />\n",
    "<br />\n",
    "Меня зовут Николай. <br />И на этом этапе Вашего движения к новой профессии от меня будут комментарии по написанному коду. <br />Чтобы меньше \"мусорить эфир\" и чтобы максимально наглядно отделяться от основного кода, есть предложение условиться в некоторых обозначениях:<br /> <br />\n",
    "<u><b>ТАКОЙ ШРИФТ</b></u> - всегда начало комментария <br />\n",
    "<font color='green'>такой шрифт</font> - комментарии о том, что всё ОК <br/>\n",
    "<font color='purple'>такой шрифт</font> - комментарии о том, что всё ОК по результату,<br> однако что есть ещё что-то или в коде или есть способы сделать более короткий или быстрый код <br/>\n",
    "<font color='red'>такой шрифт</font> - комментарии о том, что есть критичный момент, влияющий на бизнес-результат проекта.<br/>\n",
    "</font><br /><br />\n",
    "<font color='green'>Как и всегда в спринтах - ставлю своей целью максимально помочь. Поэтому, все мои комментарии - это только способ передать свой опыт для помощи в твоих достижениях."
   ]
  },
  {
   "cell_type": "markdown",
   "metadata": {},
   "source": [
    "# Телеком — задача проекта"
   ]
  },
  {
   "cell_type": "markdown",
   "metadata": {},
   "source": [
    "Оператор связи «Ниединогоразрыва.ком» хочет научиться прогнозировать отток клиентов. Если выяснится, что пользователь планирует уйти, ему будут предложены промокоды и специальные условия. Команда оператора собрала персональные данные о некоторых клиентах, информацию об их тарифах и договорах."
   ]
  },
  {
   "cell_type": "markdown",
   "metadata": {},
   "source": [
    "## Описание услуг"
   ]
  },
  {
   "cell_type": "markdown",
   "metadata": {},
   "source": [
    "Оператор предоставляет два основных типа услуг: \n",
    "\n",
    "1. Стационарную телефонную связь. Возможно подключение телефонного аппарата к нескольким линиям одновременно.\n",
    "2. Интернет. Подключение может быть двух типов: через телефонную линию (DSL*,* от англ. *digital subscriber line*, «цифровая абонентская линия») или оптоволоконный кабель (*Fiber optic*).  \n",
    "\n",
    "Также доступны такие услуги:\n",
    "\n",
    "- Интернет-безопасность: антивирус (*DeviceProtection*) и блокировка небезопасных сайтов (*OnlineSecurity*);\n",
    "- Выделенная линия технической поддержки (*TechSupport*);\n",
    "- Облачное хранилище файлов для резервного копирования данных (*OnlineBackup*);\n",
    "- Стриминговое телевидение (*StreamingTV*) и каталог фильмов (*StreamingMovies*).\n",
    "\n",
    "За услуги клиенты могут платить каждый месяц или заключить договор на 1–2 года. Доступны различные способы расчёта и возможность получения электронного чека."
   ]
  },
  {
   "cell_type": "markdown",
   "metadata": {},
   "source": [
    "## Описание данных"
   ]
  },
  {
   "cell_type": "markdown",
   "metadata": {},
   "source": [
    "Данные состоят из файлов, полученных из разных источников:\n",
    "\n",
    "- `contract.csv` — информация о договоре;\n",
    "- `personal.csv` — персональные данные клиента;\n",
    "- `internet.csv` — информация об интернет-услугах;\n",
    "- `phone.csv` — информация об услугах телефонии.\n",
    "\n",
    "Во всех файлах столбец `customerID` содержит код клиента.\n",
    "\n",
    "Информация о договорах актуальна на 1 февраля 2020."
   ]
  },
  {
   "cell_type": "code",
   "execution_count": 1,
   "metadata": {},
   "outputs": [
    {
     "name": "stdout",
     "output_type": "stream",
     "text": [
      "Requirement already satisfied: catboost in c:\\users\\uglev\\anaconda3\\envs\\praktikum\\lib\\site-packages (1.0.0)\n",
      "Requirement already satisfied: graphviz in c:\\users\\uglev\\anaconda3\\envs\\praktikum\\lib\\site-packages (from catboost) (0.17)\n",
      "Requirement already satisfied: pandas>=0.24.0 in c:\\users\\uglev\\anaconda3\\envs\\praktikum\\lib\\site-packages (from catboost) (0.25.1)\n",
      "Requirement already satisfied: scipy in c:\\users\\uglev\\anaconda3\\envs\\praktikum\\lib\\site-packages (from catboost) (1.4.1)\n",
      "Requirement already satisfied: six in c:\\users\\uglev\\anaconda3\\envs\\praktikum\\lib\\site-packages (from catboost) (1.16.0)\n",
      "Requirement already satisfied: numpy>=1.16.0 in c:\\users\\uglev\\anaconda3\\envs\\praktikum\\lib\\site-packages (from catboost) (1.18.3)\n",
      "Requirement already satisfied: plotly in c:\\users\\uglev\\anaconda3\\envs\\praktikum\\lib\\site-packages (from catboost) (4.1.0)\n",
      "Requirement already satisfied: matplotlib in c:\\users\\uglev\\anaconda3\\envs\\praktikum\\lib\\site-packages (from catboost) (3.1.0)\n",
      "Requirement already satisfied: pytz>=2017.2 in c:\\users\\uglev\\anaconda3\\envs\\praktikum\\lib\\site-packages (from pandas>=0.24.0->catboost) (2021.1)\n",
      "Requirement already satisfied: python-dateutil>=2.6.1 in c:\\users\\uglev\\anaconda3\\envs\\praktikum\\lib\\site-packages (from pandas>=0.24.0->catboost) (2.8.1)\n",
      "Requirement already satisfied: kiwisolver>=1.0.1 in c:\\users\\uglev\\anaconda3\\envs\\praktikum\\lib\\site-packages (from matplotlib->catboost) (1.3.1)\n",
      "Requirement already satisfied: cycler>=0.10 in c:\\users\\uglev\\anaconda3\\envs\\praktikum\\lib\\site-packages (from matplotlib->catboost) (0.10.0)\n",
      "Requirement already satisfied: pyparsing!=2.0.4,!=2.1.2,!=2.1.6,>=2.0.1 in c:\\users\\uglev\\anaconda3\\envs\\praktikum\\lib\\site-packages (from matplotlib->catboost) (2.4.7)\n",
      "Requirement already satisfied: retrying>=1.3.3 in c:\\users\\uglev\\anaconda3\\envs\\praktikum\\lib\\site-packages (from plotly->catboost) (1.3.3)\n",
      "Requirement already satisfied: lightgbm in c:\\users\\uglev\\anaconda3\\envs\\praktikum\\lib\\site-packages (3.3.0)\n",
      "Requirement already satisfied: scipy in c:\\users\\uglev\\anaconda3\\envs\\praktikum\\lib\\site-packages (from lightgbm) (1.4.1)\n",
      "Requirement already satisfied: wheel in c:\\users\\uglev\\anaconda3\\envs\\praktikum\\lib\\site-packages (from lightgbm) (0.36.2)\n",
      "Requirement already satisfied: numpy in c:\\users\\uglev\\anaconda3\\envs\\praktikum\\lib\\site-packages (from lightgbm) (1.18.3)\n",
      "Requirement already satisfied: scikit-learn!=0.22.0 in c:\\users\\uglev\\anaconda3\\envs\\praktikum\\lib\\site-packages (from lightgbm) (0.21.2)\n",
      "Requirement already satisfied: joblib>=0.11 in c:\\users\\uglev\\anaconda3\\envs\\praktikum\\lib\\site-packages (from scikit-learn!=0.22.0->lightgbm) (1.0.1)\n"
     ]
    }
   ],
   "source": [
    "import pandas as pd\n",
    "import numpy as np\n",
    "import seaborn as sns\n",
    "import matplotlib.pyplot as plt\n",
    "from sklearn.model_selection import train_test_split\n",
    "from sklearn.metrics import roc_auc_score\n",
    "from sklearn.tree import DecisionTreeClassifier\n",
    "from sklearn.ensemble import RandomForestClassifier\n",
    "from sklearn.linear_model import LogisticRegression\n",
    "from sklearn.neighbors import KNeighborsClassifier\n",
    "from sklearn.preprocessing import OrdinalEncoder\n",
    "from sklearn.metrics import f1_score\n",
    "from sklearn.utils import shuffle\n",
    "!pip install catboost\n",
    "from catboost import CatBoostClassifier\n",
    "from sklearn.model_selection import KFold\n",
    "from sklearn.model_selection import GridSearchCV\n",
    "!pip install lightgbm\n",
    "import lightgbm as lgb\n",
    "from sklearn.metrics import recall_score\n",
    "from sklearn.metrics import precision_score"
   ]
  },
  {
   "cell_type": "code",
   "execution_count": 2,
   "metadata": {},
   "outputs": [],
   "source": [
    "phone = pd.read_csv('final_provider/phone.csv')\n",
    "contract = pd.read_csv('final_provider/contract.csv')\n",
    "personal = pd.read_csv('final_provider/personal.csv')\n",
    "internet = pd.read_csv('final_provider/internet.csv')"
   ]
  },
  {
   "cell_type": "code",
   "execution_count": 3,
   "metadata": {},
   "outputs": [],
   "source": [
    "#contract = pd.read_csv('/datasets/final_provider/contract.csv')\n",
    "#internet = pd.read_csv('/datasets/final_provider/internet.csv')\n",
    "#personal = pd.read_csv('/datasets/final_provider/personal.csv')\n",
    "#phone = pd.read_csv('/datasets/final_provider/phone.csv')"
   ]
  },
  {
   "cell_type": "markdown",
   "metadata": {},
   "source": [
    "<div style=\"background: #cceeaa; padding: 5px; border: 1px solid green; border-radius: 5px;\">\n",
    "    <font color='green'> <b><u>КОММЕНТАРИЙ РЕВЬЮЕРА</u></b>\n",
    "</font>\n",
    "<font color='green'><br>ОК, данные на базе)"
   ]
  },
  {
   "cell_type": "code",
   "execution_count": 4,
   "metadata": {},
   "outputs": [
    {
     "name": "stdout",
     "output_type": "stream",
     "text": [
      "<class 'pandas.core.frame.DataFrame'>\n",
      "RangeIndex: 6361 entries, 0 to 6360\n",
      "Data columns (total 2 columns):\n",
      "customerID       6361 non-null object\n",
      "MultipleLines    6361 non-null object\n",
      "dtypes: object(2)\n",
      "memory usage: 99.5+ KB\n"
     ]
    }
   ],
   "source": [
    "phone.info()"
   ]
  },
  {
   "cell_type": "code",
   "execution_count": 5,
   "metadata": {},
   "outputs": [
    {
     "data": {
      "text/html": [
       "<div>\n",
       "<style scoped>\n",
       "    .dataframe tbody tr th:only-of-type {\n",
       "        vertical-align: middle;\n",
       "    }\n",
       "\n",
       "    .dataframe tbody tr th {\n",
       "        vertical-align: top;\n",
       "    }\n",
       "\n",
       "    .dataframe thead th {\n",
       "        text-align: right;\n",
       "    }\n",
       "</style>\n",
       "<table border=\"1\" class=\"dataframe\">\n",
       "  <thead>\n",
       "    <tr style=\"text-align: right;\">\n",
       "      <th></th>\n",
       "      <th>customerID</th>\n",
       "      <th>MultipleLines</th>\n",
       "    </tr>\n",
       "  </thead>\n",
       "  <tbody>\n",
       "    <tr>\n",
       "      <td>0</td>\n",
       "      <td>5575-GNVDE</td>\n",
       "      <td>No</td>\n",
       "    </tr>\n",
       "    <tr>\n",
       "      <td>1</td>\n",
       "      <td>3668-QPYBK</td>\n",
       "      <td>No</td>\n",
       "    </tr>\n",
       "    <tr>\n",
       "      <td>2</td>\n",
       "      <td>9237-HQITU</td>\n",
       "      <td>No</td>\n",
       "    </tr>\n",
       "    <tr>\n",
       "      <td>3</td>\n",
       "      <td>9305-CDSKC</td>\n",
       "      <td>Yes</td>\n",
       "    </tr>\n",
       "    <tr>\n",
       "      <td>4</td>\n",
       "      <td>1452-KIOVK</td>\n",
       "      <td>Yes</td>\n",
       "    </tr>\n",
       "  </tbody>\n",
       "</table>\n",
       "</div>"
      ],
      "text/plain": [
       "   customerID MultipleLines\n",
       "0  5575-GNVDE            No\n",
       "1  3668-QPYBK            No\n",
       "2  9237-HQITU            No\n",
       "3  9305-CDSKC           Yes\n",
       "4  1452-KIOVK           Yes"
      ]
     },
     "execution_count": 5,
     "metadata": {},
     "output_type": "execute_result"
    }
   ],
   "source": [
    "phone.head()"
   ]
  },
  {
   "cell_type": "code",
   "execution_count": 6,
   "metadata": {},
   "outputs": [
    {
     "name": "stdout",
     "output_type": "stream",
     "text": [
      "<class 'pandas.core.frame.DataFrame'>\n",
      "RangeIndex: 7043 entries, 0 to 7042\n",
      "Data columns (total 8 columns):\n",
      "customerID          7043 non-null object\n",
      "BeginDate           7043 non-null object\n",
      "EndDate             7043 non-null object\n",
      "Type                7043 non-null object\n",
      "PaperlessBilling    7043 non-null object\n",
      "PaymentMethod       7043 non-null object\n",
      "MonthlyCharges      7043 non-null float64\n",
      "TotalCharges        7043 non-null object\n",
      "dtypes: float64(1), object(7)\n",
      "memory usage: 440.3+ KB\n"
     ]
    }
   ],
   "source": [
    "contract.info()"
   ]
  },
  {
   "cell_type": "code",
   "execution_count": 7,
   "metadata": {},
   "outputs": [
    {
     "data": {
      "text/html": [
       "<div>\n",
       "<style scoped>\n",
       "    .dataframe tbody tr th:only-of-type {\n",
       "        vertical-align: middle;\n",
       "    }\n",
       "\n",
       "    .dataframe tbody tr th {\n",
       "        vertical-align: top;\n",
       "    }\n",
       "\n",
       "    .dataframe thead th {\n",
       "        text-align: right;\n",
       "    }\n",
       "</style>\n",
       "<table border=\"1\" class=\"dataframe\">\n",
       "  <thead>\n",
       "    <tr style=\"text-align: right;\">\n",
       "      <th></th>\n",
       "      <th>customerID</th>\n",
       "      <th>BeginDate</th>\n",
       "      <th>EndDate</th>\n",
       "      <th>Type</th>\n",
       "      <th>PaperlessBilling</th>\n",
       "      <th>PaymentMethod</th>\n",
       "      <th>MonthlyCharges</th>\n",
       "      <th>TotalCharges</th>\n",
       "    </tr>\n",
       "  </thead>\n",
       "  <tbody>\n",
       "    <tr>\n",
       "      <td>0</td>\n",
       "      <td>7590-VHVEG</td>\n",
       "      <td>2020-01-01</td>\n",
       "      <td>No</td>\n",
       "      <td>Month-to-month</td>\n",
       "      <td>Yes</td>\n",
       "      <td>Electronic check</td>\n",
       "      <td>29.85</td>\n",
       "      <td>29.85</td>\n",
       "    </tr>\n",
       "    <tr>\n",
       "      <td>1</td>\n",
       "      <td>5575-GNVDE</td>\n",
       "      <td>2017-04-01</td>\n",
       "      <td>No</td>\n",
       "      <td>One year</td>\n",
       "      <td>No</td>\n",
       "      <td>Mailed check</td>\n",
       "      <td>56.95</td>\n",
       "      <td>1889.5</td>\n",
       "    </tr>\n",
       "    <tr>\n",
       "      <td>2</td>\n",
       "      <td>3668-QPYBK</td>\n",
       "      <td>2019-10-01</td>\n",
       "      <td>2019-12-01 00:00:00</td>\n",
       "      <td>Month-to-month</td>\n",
       "      <td>Yes</td>\n",
       "      <td>Mailed check</td>\n",
       "      <td>53.85</td>\n",
       "      <td>108.15</td>\n",
       "    </tr>\n",
       "    <tr>\n",
       "      <td>3</td>\n",
       "      <td>7795-CFOCW</td>\n",
       "      <td>2016-05-01</td>\n",
       "      <td>No</td>\n",
       "      <td>One year</td>\n",
       "      <td>No</td>\n",
       "      <td>Bank transfer (automatic)</td>\n",
       "      <td>42.30</td>\n",
       "      <td>1840.75</td>\n",
       "    </tr>\n",
       "    <tr>\n",
       "      <td>4</td>\n",
       "      <td>9237-HQITU</td>\n",
       "      <td>2019-09-01</td>\n",
       "      <td>2019-11-01 00:00:00</td>\n",
       "      <td>Month-to-month</td>\n",
       "      <td>Yes</td>\n",
       "      <td>Electronic check</td>\n",
       "      <td>70.70</td>\n",
       "      <td>151.65</td>\n",
       "    </tr>\n",
       "  </tbody>\n",
       "</table>\n",
       "</div>"
      ],
      "text/plain": [
       "   customerID   BeginDate              EndDate            Type  \\\n",
       "0  7590-VHVEG  2020-01-01                   No  Month-to-month   \n",
       "1  5575-GNVDE  2017-04-01                   No        One year   \n",
       "2  3668-QPYBK  2019-10-01  2019-12-01 00:00:00  Month-to-month   \n",
       "3  7795-CFOCW  2016-05-01                   No        One year   \n",
       "4  9237-HQITU  2019-09-01  2019-11-01 00:00:00  Month-to-month   \n",
       "\n",
       "  PaperlessBilling              PaymentMethod  MonthlyCharges TotalCharges  \n",
       "0              Yes           Electronic check           29.85        29.85  \n",
       "1               No               Mailed check           56.95       1889.5  \n",
       "2              Yes               Mailed check           53.85       108.15  \n",
       "3               No  Bank transfer (automatic)           42.30      1840.75  \n",
       "4              Yes           Electronic check           70.70       151.65  "
      ]
     },
     "execution_count": 7,
     "metadata": {},
     "output_type": "execute_result"
    }
   ],
   "source": [
    "contract.head()"
   ]
  },
  {
   "cell_type": "code",
   "execution_count": 8,
   "metadata": {},
   "outputs": [
    {
     "name": "stdout",
     "output_type": "stream",
     "text": [
      "<class 'pandas.core.frame.DataFrame'>\n",
      "RangeIndex: 7043 entries, 0 to 7042\n",
      "Data columns (total 5 columns):\n",
      "customerID       7043 non-null object\n",
      "gender           7043 non-null object\n",
      "SeniorCitizen    7043 non-null int64\n",
      "Partner          7043 non-null object\n",
      "Dependents       7043 non-null object\n",
      "dtypes: int64(1), object(4)\n",
      "memory usage: 275.2+ KB\n"
     ]
    }
   ],
   "source": [
    "personal.info()"
   ]
  },
  {
   "cell_type": "code",
   "execution_count": 9,
   "metadata": {},
   "outputs": [
    {
     "data": {
      "text/html": [
       "<div>\n",
       "<style scoped>\n",
       "    .dataframe tbody tr th:only-of-type {\n",
       "        vertical-align: middle;\n",
       "    }\n",
       "\n",
       "    .dataframe tbody tr th {\n",
       "        vertical-align: top;\n",
       "    }\n",
       "\n",
       "    .dataframe thead th {\n",
       "        text-align: right;\n",
       "    }\n",
       "</style>\n",
       "<table border=\"1\" class=\"dataframe\">\n",
       "  <thead>\n",
       "    <tr style=\"text-align: right;\">\n",
       "      <th></th>\n",
       "      <th>customerID</th>\n",
       "      <th>gender</th>\n",
       "      <th>SeniorCitizen</th>\n",
       "      <th>Partner</th>\n",
       "      <th>Dependents</th>\n",
       "    </tr>\n",
       "  </thead>\n",
       "  <tbody>\n",
       "    <tr>\n",
       "      <td>0</td>\n",
       "      <td>7590-VHVEG</td>\n",
       "      <td>Female</td>\n",
       "      <td>0</td>\n",
       "      <td>Yes</td>\n",
       "      <td>No</td>\n",
       "    </tr>\n",
       "    <tr>\n",
       "      <td>1</td>\n",
       "      <td>5575-GNVDE</td>\n",
       "      <td>Male</td>\n",
       "      <td>0</td>\n",
       "      <td>No</td>\n",
       "      <td>No</td>\n",
       "    </tr>\n",
       "    <tr>\n",
       "      <td>2</td>\n",
       "      <td>3668-QPYBK</td>\n",
       "      <td>Male</td>\n",
       "      <td>0</td>\n",
       "      <td>No</td>\n",
       "      <td>No</td>\n",
       "    </tr>\n",
       "    <tr>\n",
       "      <td>3</td>\n",
       "      <td>7795-CFOCW</td>\n",
       "      <td>Male</td>\n",
       "      <td>0</td>\n",
       "      <td>No</td>\n",
       "      <td>No</td>\n",
       "    </tr>\n",
       "    <tr>\n",
       "      <td>4</td>\n",
       "      <td>9237-HQITU</td>\n",
       "      <td>Female</td>\n",
       "      <td>0</td>\n",
       "      <td>No</td>\n",
       "      <td>No</td>\n",
       "    </tr>\n",
       "  </tbody>\n",
       "</table>\n",
       "</div>"
      ],
      "text/plain": [
       "   customerID  gender  SeniorCitizen Partner Dependents\n",
       "0  7590-VHVEG  Female              0     Yes         No\n",
       "1  5575-GNVDE    Male              0      No         No\n",
       "2  3668-QPYBK    Male              0      No         No\n",
       "3  7795-CFOCW    Male              0      No         No\n",
       "4  9237-HQITU  Female              0      No         No"
      ]
     },
     "execution_count": 9,
     "metadata": {},
     "output_type": "execute_result"
    }
   ],
   "source": [
    "personal.head()"
   ]
  },
  {
   "cell_type": "code",
   "execution_count": 10,
   "metadata": {},
   "outputs": [
    {
     "name": "stdout",
     "output_type": "stream",
     "text": [
      "<class 'pandas.core.frame.DataFrame'>\n",
      "RangeIndex: 5517 entries, 0 to 5516\n",
      "Data columns (total 8 columns):\n",
      "customerID          5517 non-null object\n",
      "InternetService     5517 non-null object\n",
      "OnlineSecurity      5517 non-null object\n",
      "OnlineBackup        5517 non-null object\n",
      "DeviceProtection    5517 non-null object\n",
      "TechSupport         5517 non-null object\n",
      "StreamingTV         5517 non-null object\n",
      "StreamingMovies     5517 non-null object\n",
      "dtypes: object(8)\n",
      "memory usage: 344.9+ KB\n"
     ]
    }
   ],
   "source": [
    "internet.info()"
   ]
  },
  {
   "cell_type": "code",
   "execution_count": 11,
   "metadata": {},
   "outputs": [
    {
     "data": {
      "text/html": [
       "<div>\n",
       "<style scoped>\n",
       "    .dataframe tbody tr th:only-of-type {\n",
       "        vertical-align: middle;\n",
       "    }\n",
       "\n",
       "    .dataframe tbody tr th {\n",
       "        vertical-align: top;\n",
       "    }\n",
       "\n",
       "    .dataframe thead th {\n",
       "        text-align: right;\n",
       "    }\n",
       "</style>\n",
       "<table border=\"1\" class=\"dataframe\">\n",
       "  <thead>\n",
       "    <tr style=\"text-align: right;\">\n",
       "      <th></th>\n",
       "      <th>customerID</th>\n",
       "      <th>InternetService</th>\n",
       "      <th>OnlineSecurity</th>\n",
       "      <th>OnlineBackup</th>\n",
       "      <th>DeviceProtection</th>\n",
       "      <th>TechSupport</th>\n",
       "      <th>StreamingTV</th>\n",
       "      <th>StreamingMovies</th>\n",
       "    </tr>\n",
       "  </thead>\n",
       "  <tbody>\n",
       "    <tr>\n",
       "      <td>0</td>\n",
       "      <td>7590-VHVEG</td>\n",
       "      <td>DSL</td>\n",
       "      <td>No</td>\n",
       "      <td>Yes</td>\n",
       "      <td>No</td>\n",
       "      <td>No</td>\n",
       "      <td>No</td>\n",
       "      <td>No</td>\n",
       "    </tr>\n",
       "    <tr>\n",
       "      <td>1</td>\n",
       "      <td>5575-GNVDE</td>\n",
       "      <td>DSL</td>\n",
       "      <td>Yes</td>\n",
       "      <td>No</td>\n",
       "      <td>Yes</td>\n",
       "      <td>No</td>\n",
       "      <td>No</td>\n",
       "      <td>No</td>\n",
       "    </tr>\n",
       "    <tr>\n",
       "      <td>2</td>\n",
       "      <td>3668-QPYBK</td>\n",
       "      <td>DSL</td>\n",
       "      <td>Yes</td>\n",
       "      <td>Yes</td>\n",
       "      <td>No</td>\n",
       "      <td>No</td>\n",
       "      <td>No</td>\n",
       "      <td>No</td>\n",
       "    </tr>\n",
       "    <tr>\n",
       "      <td>3</td>\n",
       "      <td>7795-CFOCW</td>\n",
       "      <td>DSL</td>\n",
       "      <td>Yes</td>\n",
       "      <td>No</td>\n",
       "      <td>Yes</td>\n",
       "      <td>Yes</td>\n",
       "      <td>No</td>\n",
       "      <td>No</td>\n",
       "    </tr>\n",
       "    <tr>\n",
       "      <td>4</td>\n",
       "      <td>9237-HQITU</td>\n",
       "      <td>Fiber optic</td>\n",
       "      <td>No</td>\n",
       "      <td>No</td>\n",
       "      <td>No</td>\n",
       "      <td>No</td>\n",
       "      <td>No</td>\n",
       "      <td>No</td>\n",
       "    </tr>\n",
       "  </tbody>\n",
       "</table>\n",
       "</div>"
      ],
      "text/plain": [
       "   customerID InternetService OnlineSecurity OnlineBackup DeviceProtection  \\\n",
       "0  7590-VHVEG             DSL             No          Yes               No   \n",
       "1  5575-GNVDE             DSL            Yes           No              Yes   \n",
       "2  3668-QPYBK             DSL            Yes          Yes               No   \n",
       "3  7795-CFOCW             DSL            Yes           No              Yes   \n",
       "4  9237-HQITU     Fiber optic             No           No               No   \n",
       "\n",
       "  TechSupport StreamingTV StreamingMovies  \n",
       "0          No          No              No  \n",
       "1          No          No              No  \n",
       "2          No          No              No  \n",
       "3         Yes          No              No  \n",
       "4          No          No              No  "
      ]
     },
     "execution_count": 11,
     "metadata": {},
     "output_type": "execute_result"
    }
   ],
   "source": [
    "internet.head()"
   ]
  },
  {
   "cell_type": "markdown",
   "metadata": {},
   "source": [
    "<div style=\"background: #cceeaa; padding: 5px; border: 1px solid green; border-radius: 5px;\">\n",
    "    <font color='green'> <b><u>КОММЕНТАРИЙ РЕВЬЮЕРА</u></b>\n",
    "</font>\n",
    "<font color='green'><br>\n",
    "И на месте первичный аналитический осмотр) "
   ]
  },
  {
   "cell_type": "code",
   "execution_count": null,
   "metadata": {},
   "outputs": [],
   "source": []
  },
  {
   "cell_type": "markdown",
   "metadata": {},
   "source": [
    "Итак, что мы видим? Заключён контракт с 7043 пользователями, из которых только интернетом пользуются 5517 пользователей, только телефоном - 6361 пользователь. Необходимо уточнить, есть ли пропуски и пр."
   ]
  },
  {
   "cell_type": "code",
   "execution_count": 12,
   "metadata": {
    "scrolled": true
   },
   "outputs": [
    {
     "name": "stdout",
     "output_type": "stream",
     "text": [
      "0\n",
      "0\n",
      "0\n",
      "0\n"
     ]
    }
   ],
   "source": [
    "print(phone['customerID'].duplicated().sum()),\n",
    "print(contract['customerID'].duplicated().sum()),\n",
    "print(personal['customerID'].duplicated().sum()),\n",
    "print(internet['customerID'].duplicated().sum())"
   ]
  },
  {
   "cell_type": "markdown",
   "metadata": {},
   "source": [
    "Ещё нужно понимать, ушёл уже клиент или нет."
   ]
  },
  {
   "cell_type": "code",
   "execution_count": 13,
   "metadata": {},
   "outputs": [
    {
     "data": {
      "text/html": [
       "<div>\n",
       "<style scoped>\n",
       "    .dataframe tbody tr th:only-of-type {\n",
       "        vertical-align: middle;\n",
       "    }\n",
       "\n",
       "    .dataframe tbody tr th {\n",
       "        vertical-align: top;\n",
       "    }\n",
       "\n",
       "    .dataframe thead th {\n",
       "        text-align: right;\n",
       "    }\n",
       "</style>\n",
       "<table border=\"1\" class=\"dataframe\">\n",
       "  <thead>\n",
       "    <tr style=\"text-align: right;\">\n",
       "      <th></th>\n",
       "      <th>customerID</th>\n",
       "      <th>BeginDate</th>\n",
       "      <th>EndDate</th>\n",
       "      <th>Type</th>\n",
       "      <th>PaperlessBilling</th>\n",
       "      <th>PaymentMethod</th>\n",
       "      <th>MonthlyCharges</th>\n",
       "      <th>TotalCharges</th>\n",
       "      <th>Actual</th>\n",
       "    </tr>\n",
       "  </thead>\n",
       "  <tbody>\n",
       "    <tr>\n",
       "      <td>0</td>\n",
       "      <td>7590-VHVEG</td>\n",
       "      <td>2020-01-01</td>\n",
       "      <td>No</td>\n",
       "      <td>Month-to-month</td>\n",
       "      <td>Yes</td>\n",
       "      <td>Electronic check</td>\n",
       "      <td>29.85</td>\n",
       "      <td>29.85</td>\n",
       "      <td>False</td>\n",
       "    </tr>\n",
       "    <tr>\n",
       "      <td>1</td>\n",
       "      <td>5575-GNVDE</td>\n",
       "      <td>2017-04-01</td>\n",
       "      <td>No</td>\n",
       "      <td>One year</td>\n",
       "      <td>No</td>\n",
       "      <td>Mailed check</td>\n",
       "      <td>56.95</td>\n",
       "      <td>1889.5</td>\n",
       "      <td>False</td>\n",
       "    </tr>\n",
       "    <tr>\n",
       "      <td>2</td>\n",
       "      <td>3668-QPYBK</td>\n",
       "      <td>2019-10-01</td>\n",
       "      <td>2019-12-01 00:00:00</td>\n",
       "      <td>Month-to-month</td>\n",
       "      <td>Yes</td>\n",
       "      <td>Mailed check</td>\n",
       "      <td>53.85</td>\n",
       "      <td>108.15</td>\n",
       "      <td>True</td>\n",
       "    </tr>\n",
       "    <tr>\n",
       "      <td>3</td>\n",
       "      <td>7795-CFOCW</td>\n",
       "      <td>2016-05-01</td>\n",
       "      <td>No</td>\n",
       "      <td>One year</td>\n",
       "      <td>No</td>\n",
       "      <td>Bank transfer (automatic)</td>\n",
       "      <td>42.30</td>\n",
       "      <td>1840.75</td>\n",
       "      <td>False</td>\n",
       "    </tr>\n",
       "    <tr>\n",
       "      <td>4</td>\n",
       "      <td>9237-HQITU</td>\n",
       "      <td>2019-09-01</td>\n",
       "      <td>2019-11-01 00:00:00</td>\n",
       "      <td>Month-to-month</td>\n",
       "      <td>Yes</td>\n",
       "      <td>Electronic check</td>\n",
       "      <td>70.70</td>\n",
       "      <td>151.65</td>\n",
       "      <td>True</td>\n",
       "    </tr>\n",
       "  </tbody>\n",
       "</table>\n",
       "</div>"
      ],
      "text/plain": [
       "   customerID   BeginDate              EndDate            Type  \\\n",
       "0  7590-VHVEG  2020-01-01                   No  Month-to-month   \n",
       "1  5575-GNVDE  2017-04-01                   No        One year   \n",
       "2  3668-QPYBK  2019-10-01  2019-12-01 00:00:00  Month-to-month   \n",
       "3  7795-CFOCW  2016-05-01                   No        One year   \n",
       "4  9237-HQITU  2019-09-01  2019-11-01 00:00:00  Month-to-month   \n",
       "\n",
       "  PaperlessBilling              PaymentMethod  MonthlyCharges TotalCharges  \\\n",
       "0              Yes           Electronic check           29.85        29.85   \n",
       "1               No               Mailed check           56.95       1889.5   \n",
       "2              Yes               Mailed check           53.85       108.15   \n",
       "3               No  Bank transfer (automatic)           42.30      1840.75   \n",
       "4              Yes           Electronic check           70.70       151.65   \n",
       "\n",
       "   Actual  \n",
       "0   False  \n",
       "1   False  \n",
       "2    True  \n",
       "3   False  \n",
       "4    True  "
      ]
     },
     "execution_count": 13,
     "metadata": {},
     "output_type": "execute_result"
    }
   ],
   "source": [
    "contract['Actual'] = 1\n",
    "contract.loc[contract['EndDate'] == 'No', 'Actual'] = 0\n",
    "contract['Actual'] = contract['Actual'].astype('bool')\n",
    "contract.head()"
   ]
  },
  {
   "cell_type": "markdown",
   "metadata": {},
   "source": [
    "<div style=\"background: #cceeaa; padding: 5px; border: 1px solid green; border-radius: 5px;\">\n",
    "    <font color='green'> <b><u>КОММЕНТАРИЙ РЕВЬЮЕРА</u></b>\n",
    "</font>\n",
    "<font color='green'><br>ОК"
   ]
  },
  {
   "cell_type": "markdown",
   "metadata": {},
   "source": [
    "При более внимательном изучении мы видим, что есть клиенты, которые менее месяца, и TotalCharges нет. Нужно заполнить хотя бы месячной суммой."
   ]
  },
  {
   "cell_type": "code",
   "execution_count": 14,
   "metadata": {},
   "outputs": [],
   "source": [
    "contract.loc[contract['TotalCharges'] == ' ', 'TotalCharges'] = contract['MonthlyCharges']\n",
    "contract['TotalCharges'] = contract['TotalCharges'].astype('float')"
   ]
  },
  {
   "cell_type": "markdown",
   "metadata": {},
   "source": [
    "Также мы видим, что дата представлена весьма неудобно. Поправим это."
   ]
  },
  {
   "cell_type": "code",
   "execution_count": 15,
   "metadata": {},
   "outputs": [],
   "source": [
    "contract['EndDateNew']= contract['EndDate'].replace('No', '2020-02-01')\n",
    "contract['BeginDate']= pd.to_datetime(contract['BeginDate'], format='%Y-%m-%d')\n",
    "contract['EndDate']= pd.to_datetime(contract['EndDate'], format='%Y-%m-%dT%H:%M:%S',errors='coerce')"
   ]
  },
  {
   "cell_type": "markdown",
   "metadata": {},
   "source": [
    "Даты датами, но хорошо бы видеть число месяцев, сколько работаем с клиентом."
   ]
  },
  {
   "cell_type": "code",
   "execution_count": 16,
   "metadata": {},
   "outputs": [],
   "source": [
    "contract['begin_year'] = pd.DatetimeIndex(contract['BeginDate']).year\n",
    "contract['end_year'] = pd.DatetimeIndex(contract['EndDateNew']).year\n",
    "contract['begin_month'] = pd.DatetimeIndex(contract['BeginDate']).month\n",
    "contract['end_month'] = pd.DatetimeIndex(contract['EndDateNew']).month\n",
    "contract['Months'] = ((contract['end_year']- contract['begin_year']) * 12 + (contract['end_month'] - contract['begin_month']))\n",
    "contract = contract.drop(['begin_year','end_year','begin_month','end_month', 'EndDateNew'], axis=1)"
   ]
  },
  {
   "cell_type": "markdown",
   "metadata": {},
   "source": [
    "<div style=\"background: #cceeaa; padding: 5px; border: 1px solid green; border-radius: 5px;\">\n",
    "    <font color='green'> <b><u>КОММЕНТАРИЙ РЕВЬЮЕРА</u></b>\n",
    "</font>\n",
    "<font color='green'><br>\n",
    "ОТЛИЧНО, что удаляешь факторы-даты!!!!! Если у нас тема НЕ временные ряды, то такие факторы лучше не использовать. Они \"нагонят\" метрики, но бизнес-эффективность модели  - рухнет."
   ]
  },
  {
   "cell_type": "code",
   "execution_count": 17,
   "metadata": {},
   "outputs": [
    {
     "data": {
      "text/html": [
       "<div>\n",
       "<style scoped>\n",
       "    .dataframe tbody tr th:only-of-type {\n",
       "        vertical-align: middle;\n",
       "    }\n",
       "\n",
       "    .dataframe tbody tr th {\n",
       "        vertical-align: top;\n",
       "    }\n",
       "\n",
       "    .dataframe thead th {\n",
       "        text-align: right;\n",
       "    }\n",
       "</style>\n",
       "<table border=\"1\" class=\"dataframe\">\n",
       "  <thead>\n",
       "    <tr style=\"text-align: right;\">\n",
       "      <th></th>\n",
       "      <th>customerID</th>\n",
       "      <th>BeginDate</th>\n",
       "      <th>EndDate</th>\n",
       "      <th>Type</th>\n",
       "      <th>PaperlessBilling</th>\n",
       "      <th>PaymentMethod</th>\n",
       "      <th>MonthlyCharges</th>\n",
       "      <th>TotalCharges</th>\n",
       "      <th>Actual</th>\n",
       "      <th>Months</th>\n",
       "    </tr>\n",
       "  </thead>\n",
       "  <tbody>\n",
       "    <tr>\n",
       "      <td>0</td>\n",
       "      <td>7590-VHVEG</td>\n",
       "      <td>2020-01-01</td>\n",
       "      <td>NaT</td>\n",
       "      <td>Month-to-month</td>\n",
       "      <td>Yes</td>\n",
       "      <td>Electronic check</td>\n",
       "      <td>29.85</td>\n",
       "      <td>29.85</td>\n",
       "      <td>False</td>\n",
       "      <td>1</td>\n",
       "    </tr>\n",
       "    <tr>\n",
       "      <td>1</td>\n",
       "      <td>5575-GNVDE</td>\n",
       "      <td>2017-04-01</td>\n",
       "      <td>NaT</td>\n",
       "      <td>One year</td>\n",
       "      <td>No</td>\n",
       "      <td>Mailed check</td>\n",
       "      <td>56.95</td>\n",
       "      <td>1889.50</td>\n",
       "      <td>False</td>\n",
       "      <td>34</td>\n",
       "    </tr>\n",
       "    <tr>\n",
       "      <td>2</td>\n",
       "      <td>3668-QPYBK</td>\n",
       "      <td>2019-10-01</td>\n",
       "      <td>2019-12-01</td>\n",
       "      <td>Month-to-month</td>\n",
       "      <td>Yes</td>\n",
       "      <td>Mailed check</td>\n",
       "      <td>53.85</td>\n",
       "      <td>108.15</td>\n",
       "      <td>True</td>\n",
       "      <td>2</td>\n",
       "    </tr>\n",
       "    <tr>\n",
       "      <td>3</td>\n",
       "      <td>7795-CFOCW</td>\n",
       "      <td>2016-05-01</td>\n",
       "      <td>NaT</td>\n",
       "      <td>One year</td>\n",
       "      <td>No</td>\n",
       "      <td>Bank transfer (automatic)</td>\n",
       "      <td>42.30</td>\n",
       "      <td>1840.75</td>\n",
       "      <td>False</td>\n",
       "      <td>45</td>\n",
       "    </tr>\n",
       "    <tr>\n",
       "      <td>4</td>\n",
       "      <td>9237-HQITU</td>\n",
       "      <td>2019-09-01</td>\n",
       "      <td>2019-11-01</td>\n",
       "      <td>Month-to-month</td>\n",
       "      <td>Yes</td>\n",
       "      <td>Electronic check</td>\n",
       "      <td>70.70</td>\n",
       "      <td>151.65</td>\n",
       "      <td>True</td>\n",
       "      <td>2</td>\n",
       "    </tr>\n",
       "  </tbody>\n",
       "</table>\n",
       "</div>"
      ],
      "text/plain": [
       "   customerID  BeginDate    EndDate            Type PaperlessBilling  \\\n",
       "0  7590-VHVEG 2020-01-01        NaT  Month-to-month              Yes   \n",
       "1  5575-GNVDE 2017-04-01        NaT        One year               No   \n",
       "2  3668-QPYBK 2019-10-01 2019-12-01  Month-to-month              Yes   \n",
       "3  7795-CFOCW 2016-05-01        NaT        One year               No   \n",
       "4  9237-HQITU 2019-09-01 2019-11-01  Month-to-month              Yes   \n",
       "\n",
       "               PaymentMethod  MonthlyCharges  TotalCharges  Actual  Months  \n",
       "0           Electronic check           29.85         29.85   False       1  \n",
       "1               Mailed check           56.95       1889.50   False      34  \n",
       "2               Mailed check           53.85        108.15    True       2  \n",
       "3  Bank transfer (automatic)           42.30       1840.75   False      45  \n",
       "4           Electronic check           70.70        151.65    True       2  "
      ]
     },
     "execution_count": 17,
     "metadata": {},
     "output_type": "execute_result"
    }
   ],
   "source": [
    "contract.head()"
   ]
  },
  {
   "cell_type": "markdown",
   "metadata": {},
   "source": [
    "<div style=\"background: #cceeaa; padding: 5px; border: 1px solid green; border-radius: 5px;\">\n",
    "    <font color='green'> <b><u>КОММЕНТАРИЙ РЕВЬЮЕРА</u></b>\n",
    "</font>\n",
    "<font color='green'><br>есть контакт)"
   ]
  },
  {
   "cell_type": "code",
   "execution_count": 18,
   "metadata": {},
   "outputs": [
    {
     "name": "stdout",
     "output_type": "stream",
     "text": [
      "<class 'pandas.core.frame.DataFrame'>\n",
      "RangeIndex: 7043 entries, 0 to 7042\n",
      "Data columns (total 10 columns):\n",
      "customerID          7043 non-null object\n",
      "BeginDate           7043 non-null datetime64[ns]\n",
      "EndDate             1869 non-null datetime64[ns]\n",
      "Type                7043 non-null object\n",
      "PaperlessBilling    7043 non-null object\n",
      "PaymentMethod       7043 non-null object\n",
      "MonthlyCharges      7043 non-null float64\n",
      "TotalCharges        7043 non-null float64\n",
      "Actual              7043 non-null bool\n",
      "Months              7043 non-null int64\n",
      "dtypes: bool(1), datetime64[ns](2), float64(2), int64(1), object(4)\n",
      "memory usage: 502.2+ KB\n"
     ]
    }
   ],
   "source": [
    "contract.info()"
   ]
  },
  {
   "cell_type": "markdown",
   "metadata": {},
   "source": [
    "Соответственно, объединим всё в один датафрейм."
   ]
  },
  {
   "cell_type": "code",
   "execution_count": 19,
   "metadata": {},
   "outputs": [],
   "source": [
    "data = contract.merge(personal, on='customerID', how='left')\n",
    "data = data.merge(phone, on='customerID', how='left')\n",
    "data = data.merge(internet, on='customerID', how='left')"
   ]
  },
  {
   "cell_type": "markdown",
   "metadata": {},
   "source": [
    "Заполним пропуски."
   ]
  },
  {
   "cell_type": "code",
   "execution_count": 20,
   "metadata": {},
   "outputs": [],
   "source": [
    "for k in ['MultipleLines', 'InternetService', 'OnlineSecurity', 'OnlineBackup', 'DeviceProtection', 'TechSupport', 'StreamingTV', 'StreamingMovies']:\n",
    "    data[k] = data[k].fillna('NA')"
   ]
  },
  {
   "cell_type": "markdown",
   "metadata": {},
   "source": [
    "<div style=\"background: #cceeaa; padding: 5px; border: 1px solid green; border-radius: 5px;\">\n",
    "    <font color='green'> <b><u>КОММЕНТАРИЙ РЕВЬЮЕРА</u></b>\n",
    "</font>\n",
    "<font color='green'><br>\n",
    "ОК, понятно)"
   ]
  },
  {
   "cell_type": "markdown",
   "metadata": {},
   "source": [
    "И создадим ещё признак, по которому будет ясно, использует ли он только Интернет, или только телефон (0 - всё, 1 - интернет, 2 - телефон)."
   ]
  },
  {
   "cell_type": "code",
   "execution_count": 21,
   "metadata": {},
   "outputs": [],
   "source": [
    "data['Services'] = 0 \n",
    "data.loc[data['MultipleLines'] == 'NA', 'Services'] = 1 \n",
    "data.loc[data['InternetService'] == 'NA', 'Services'] = 2\n",
    "data['EndDate'] = data['EndDate'].fillna('No')"
   ]
  },
  {
   "cell_type": "code",
   "execution_count": 22,
   "metadata": {},
   "outputs": [
    {
     "name": "stdout",
     "output_type": "stream",
     "text": [
      "<class 'pandas.core.frame.DataFrame'>\n",
      "Int64Index: 7043 entries, 0 to 7042\n",
      "Data columns (total 23 columns):\n",
      "customerID          7043 non-null object\n",
      "BeginDate           7043 non-null datetime64[ns]\n",
      "EndDate             7043 non-null object\n",
      "Type                7043 non-null object\n",
      "PaperlessBilling    7043 non-null object\n",
      "PaymentMethod       7043 non-null object\n",
      "MonthlyCharges      7043 non-null float64\n",
      "TotalCharges        7043 non-null float64\n",
      "Actual              7043 non-null bool\n",
      "Months              7043 non-null int64\n",
      "gender              7043 non-null object\n",
      "SeniorCitizen       7043 non-null int64\n",
      "Partner             7043 non-null object\n",
      "Dependents          7043 non-null object\n",
      "MultipleLines       7043 non-null object\n",
      "InternetService     7043 non-null object\n",
      "OnlineSecurity      7043 non-null object\n",
      "OnlineBackup        7043 non-null object\n",
      "DeviceProtection    7043 non-null object\n",
      "TechSupport         7043 non-null object\n",
      "StreamingTV         7043 non-null object\n",
      "StreamingMovies     7043 non-null object\n",
      "Services            7043 non-null int64\n",
      "dtypes: bool(1), datetime64[ns](1), float64(2), int64(3), object(16)\n",
      "memory usage: 1.2+ MB\n"
     ]
    }
   ],
   "source": [
    "data.info()"
   ]
  },
  {
   "cell_type": "markdown",
   "metadata": {},
   "source": [
    "<div style=\"background: #cceeaa; padding: 5px; border: 1px solid green; border-radius: 5px;\">\n",
    "    <font color='green'> <b><u>КОММЕНТАРИЙ РЕВЬЮЕРА</u></b>\n",
    "</font>\n",
    "<font color='green'><br>\n",
    "ОК"
   ]
  },
  {
   "cell_type": "code",
   "execution_count": 23,
   "metadata": {},
   "outputs": [
    {
     "data": {
      "image/png": "[encoded data removed]",
      "text/plain": [
       "<Figure size 432x288 with 1 Axes>"
      ]
     },
     "metadata": {},
     "output_type": "display_data"
    }
   ],
   "source": [
    "labels = ['Все сервисы', 'Только Интернет', 'Только телефон']\n",
    "sizes = data['Services'].value_counts().values\n",
    " \n",
    "fig1, ax1 = plt.subplots()\n",
    "ax1.pie(sizes, labels=labels, autopct='%1.1f%%', startangle=90)\n",
    "\n",
    "centre_circle = plt.Circle((0,0),0.70,fc='white')\n",
    "fig = plt.gcf()\n",
    "fig.gca().add_artist(centre_circle)\n",
    "\n",
    "ax1.axis('equal')  \n",
    "plt.tight_layout()\n",
    "plt.title(\"Доли каждой услуги в общем количестве контрактов\")\n",
    "plt.show()"
   ]
  },
  {
   "cell_type": "code",
   "execution_count": 24,
   "metadata": {},
   "outputs": [
    {
     "data": {
      "image/png": "[encoded data removed]",
      "text/plain": [
       "<Figure size 432x288 with 1 Axes>"
      ]
     },
     "metadata": {},
     "output_type": "display_data"
    }
   ],
   "source": [
    "labels = ['Все сервисы', 'Только Интернет', 'Только телефон']\n",
    "actual_data = data.query('Actual == 1')\n",
    "sizes = actual_data['Services'].value_counts().values\n",
    " \n",
    "fig1, ax1 = plt.subplots()\n",
    "ax1.pie(sizes, labels=labels, autopct='%1.1f%%', startangle=90)\n",
    "\n",
    "centre_circle = plt.Circle((0,0),0.70,fc='white')\n",
    "fig = plt.gcf()\n",
    "fig.gca().add_artist(centre_circle)\n",
    "\n",
    "ax1.axis('equal')  \n",
    "plt.tight_layout()\n",
    "plt.title(\"Распределение ушедших клиентов по услугам\")\n",
    "plt.show()"
   ]
  },
  {
   "cell_type": "code",
   "execution_count": 25,
   "metadata": {},
   "outputs": [
    {
     "data": {
      "image/png": "[encoded data removed]",
      "text/plain": [
       "<Figure size 720x432 with 1 Axes>"
      ]
     },
     "metadata": {
      "needs_background": "light"
     },
     "output_type": "display_data"
    }
   ],
   "source": [
    "plt.figure(figsize=(10,6))\n",
    "ax = sns.barplot(x=\"Services\", y=\"TotalCharges\", hue=\"gender\",  data=data)\n",
    "plt.title(\"Распределение общей суммы платежей по услугам  (0- все сервисы, 1 - только интернет, 2- только телефон)\")\n",
    "plt.show()"
   ]
  },
  {
   "cell_type": "code",
   "execution_count": 26,
   "metadata": {},
   "outputs": [
    {
     "data": {
      "image/png": "[encoded data removed]",
      "text/plain": [
       "<Figure size 1152x432 with 1 Axes>"
      ]
     },
     "metadata": {
      "needs_background": "light"
     },
     "output_type": "display_data"
    }
   ],
   "source": [
    "data.pivot_table(values = 'Actual', index ='Months', aggfunc='count').query('Months > 0').plot(style='o-', grid=True,figsize=(16, 6))\n",
    "plt.title(\"Распределение оттока клиентов в зависимости от длительности контракта, месяцев\")\n",
    "plt.show()"
   ]
  },
  {
   "cell_type": "code",
   "execution_count": 27,
   "metadata": {},
   "outputs": [
    {
     "data": {
      "image/png": "[encoded data removed]",
      "text/plain": [
       "<Figure size 1152x432 with 1 Axes>"
      ]
     },
     "metadata": {
      "needs_background": "light"
     },
     "output_type": "display_data"
    }
   ],
   "source": [
    "data['BeginDate'].value_counts().plot(style='o-', grid=True,figsize=(16, 6))\n",
    "plt.title(\"Распределение новых пользователей по годам\")\n",
    "plt.show()"
   ]
  },
  {
   "cell_type": "markdown",
   "metadata": {},
   "source": [
    "## Выводы"
   ]
  },
  {
   "cell_type": "markdown",
   "metadata": {},
   "source": [
    "1. Мы подготовили данные для обработки, удалили пропуски и привели типы, добавили признаки числа месяца и статус клиента (ушёл или нет),\n",
    "2. Получили данные о том, что 69% клиентов пользуются нашими обеими услугами, 10% пользуются только телефоном, 21% - только интернетом.\n",
    "3. Клиенты уходят не пропорционально общему распределению - следовательно, проблема не в какой-либо услуге,\n",
    "4. Прирост пользователей пошёл примерно с 2018 года, особенно ярко с 2019."
   ]
  },
  {
   "cell_type": "markdown",
   "metadata": {},
   "source": [
    "<div style=\"background: #cceeaa; padding: 5px; border: 1px solid green; border-radius: 5px;\">\n",
    "    <font color='green'> <b><u>КОММЕНТАРИЙ РЕВЬЮЕРА</u></b>\n",
    "</font>\n",
    "<font color='green'><br>\n",
    "ОТЛИЧНО с визулизацией!!! Замечу только, что графический анализ - это предположение/гипотеза о влиянии факторв на целевую.  И чтобы подтвердить/опровергнуть его - применяют аналитические методы проверки гипотез (спринт 4, например)."
   ]
  },
  {
   "cell_type": "markdown",
   "metadata": {},
   "source": [
    "# План решения"
   ]
  },
  {
   "cell_type": "markdown",
   "metadata": {},
   "source": [
    "1. Разбить датасет на трейн, валид, тест,\n",
    "2. Исследовать рэндом_форест, логистическую регрессию, ближайших соседей, может что-то ещё. Подобрать параметры для гиперпараметры для LGBMClassifier,\n",
    "3. Аналогично для CatBoostClassifier,\n",
    "4. Для лучших моделей посчитать метрику и выбрать победителя,\n",
    "5. Описать ключевые задачи, итоговый результат для выбранной модели."
   ]
  },
  {
   "cell_type": "markdown",
   "metadata": {},
   "source": [
    "<div class='alert alert-danger'>\n",
    "Привет. План получился слегка сумбурным, не понятно почему построение модели Catboost выделено в отдельные шаг. Не хватает этапа с исследованием данным и предобработки. Не пнятно почему метрика считается только для лучших моделей, каким тогда образом вообще понять какая модель является лучшей ? "
   ]
  },
  {
   "cell_type": "markdown",
   "metadata": {},
   "source": [
    "<div class='alert alert-info'>\n",
    "Здравствуй, мой безымянный друг! К сожалению, из-за сроков по личным причинам я уже не смогу в ближайшую неделю к нему вернуться (экзамены). Пожалуйста, пришли более подробные комментарии, что надо исправить. Если тебя корёжит от 3-го пункта и его надо сконкатенировать со вторым - это одно. А если целого этапа не хватает - то напиши, что именно там должно быть. У меня исследование и предобработка, по моему мнению, проведены. И свой план тоже есть, хотя понятно, я с задачей, в отличие от тебя, не знаком, поэтому что-то будет прояснено в процессе.</div>"
   ]
  },
  {
   "cell_type": "markdown",
   "metadata": {},
   "source": [
    "<div class='alert alert-warning'>\n",
    "Пропишите 3–5 основных шагов, каждый поясните не более двумя предложениями.\n",
    "\n",
    "Шаги должны обобщать некоторые действия. То что ты прописал это конкретные действия в рамках одного шага. Например пункт 2 и 3 это этам моделирования. Так можешь и назвать данный шаг, сделав к нему комментарий что ты там внутри будешь более детально делать. Цель составления плана заключается в том, чтобы ты смог обобщить и выделить наиболее характерные этапы работы с данными при построении модели. Эти этапы являются универсальны при построении любой модели. "
   ]
  },
  {
   "cell_type": "markdown",
   "metadata": {},
   "source": [
    "<div class='alert alert-info'>Ок, вот вариант. Хочется быстрее приступить, так как, даже если есть непонятные вещи на первом этппе, они могут быть прояснены в дальнейшем. Тут работы на пару часов.</div>"
   ]
  },
  {
   "cell_type": "markdown",
   "metadata": {},
   "source": [
    "1. Подготовка данных: запонение пробелов, добавление ключевых столбца, разбиение датасета на трейн, валид, тест,\n",
    "2. Моделирование: Исследовать рэндом_форест, логистическую регрессию, ближайших соседей, может что-то ещё. Подобрать параметры для гиперпараметры для LGBMClassifier, аналогично для CatBoostClassifier,\n",
    "3. Исследование результатов: Выявляем слабые стороны моделей, обращаем внимание не только на подбор значений гиперпараметров, но и на то, какие из них оказывают наибольшее влияние на модель,\n",
    "4. Вывод: Из наилучших моделей считаем метрику на тестовой выборке и делаем выбор победителя."
   ]
  },
  {
   "cell_type": "markdown",
   "metadata": {},
   "source": [
    "<div class='alert alert-success'>\n",
    "<b>Комментарий тимлида</b>\n",
    "\n",
    "Отличный получился план, можешь продолжать работу над проектом."
   ]
  },
  {
   "cell_type": "markdown",
   "metadata": {},
   "source": [
    "Закодируем признаки."
   ]
  },
  {
   "cell_type": "code",
   "execution_count": 28,
   "metadata": {},
   "outputs": [],
   "source": [
    "df = data\n",
    "df = df.drop(['BeginDate', 'EndDate'], axis=1)\n",
    "\n",
    "df_to_ohe = df.drop(['customerID', 'MonthlyCharges', 'TotalCharges', 'Actual', 'Months'], axis=1)\n",
    "df_no_ohe = df[['customerID', 'MonthlyCharges', 'TotalCharges', 'Actual', 'Months']]\n",
    "df_to_ohe = pd.get_dummies(df_to_ohe, drop_first=True)\n",
    "\n",
    "df = df_no_ohe.join(df_to_ohe).drop(['customerID'], axis=1)"
   ]
  },
  {
   "cell_type": "code",
   "execution_count": 29,
   "metadata": {
    "scrolled": true
   },
   "outputs": [
    {
     "data": {
      "text/plain": [
       "<matplotlib.axes._subplots.AxesSubplot at 0x13388a11e88>"
      ]
     },
     "execution_count": 29,
     "metadata": {},
     "output_type": "execute_result"
    },
    {
     "data": {
      "image/png": "[encoded data removed]",
      "text/plain": [
       "<Figure size 1080x1080 with 2 Axes>"
      ]
     },
     "metadata": {
      "needs_background": "light"
     },
     "output_type": "display_data"
    }
   ],
   "source": [
    "corrMatrix = df.corr()\n",
    "plt.figure(figsize=(15, 15))\n",
    "sns.heatmap(corrMatrix, annot=False)"
   ]
  },
  {
   "cell_type": "markdown",
   "metadata": {},
   "source": [
    "Собственно, разобъём датасет."
   ]
  },
  {
   "cell_type": "markdown",
   "metadata": {},
   "source": [
    "<div style=\"background: #ffeeaa; padding: 5px; border: 1px solid green; border-radius: 5px;\">\n",
    "    <font color='green'> <b><u>КОММЕНТАРИЙ РЕВЬЮЕРА</u></b>\n",
    "</font>\n",
    "<font color='green'><br>ОК, работа с мультиколлинеарностью - важна. Но есть важный момент по корреляциям: данная корреляция Спирмена/Пирсона - разрабатывался для количественных шкал. Если данные в бинарной шкале (пол, тип услуги....) - техника не подходит, лучше не опираться на данные выводы.<br>\n",
    "    \n",
    "Поэтому выводы (а вот и выводов - вообще нет)))) можно делать только по количественным данным (в нашем случае - финансы и длительность контракта)"
   ]
  },
  {
   "cell_type": "code",
   "execution_count": null,
   "metadata": {},
   "outputs": [],
   "source": []
  },
  {
   "cell_type": "code",
   "execution_count": null,
   "metadata": {},
   "outputs": [],
   "source": []
  },
  {
   "cell_type": "code",
   "execution_count": 30,
   "metadata": {},
   "outputs": [
    {
     "name": "stdout",
     "output_type": "stream",
     "text": [
      "features_train 4225\n",
      "features_valid 1409\n",
      "features_test 1409\n"
     ]
    }
   ],
   "source": [
    "target = df['Actual']\n",
    "features = df.drop('Actual', axis=1)\n",
    "features_other, features_test, target_other, target_test = train_test_split(\n",
    "    features, target, test_size=0.2, random_state=2576)\n",
    "features_train, features_valid, target_train, target_valid = train_test_split(\n",
    "   features_other, target_other, test_size=0.25, random_state=2576)\n",
    "\n",
    "print('features_train', len(features_train))\n",
    "print('features_valid', len(features_valid))\n",
    "print('features_test', len(features_test))"
   ]
  },
  {
   "cell_type": "markdown",
   "metadata": {},
   "source": [
    "<div style=\"background: #cceeaa; padding: 5px; border: 1px solid green; border-radius: 5px;\">\n",
    "    <font color='green'> <b><u>КОММЕНТАРИЙ РЕВЬЮЕРА</u></b>\n",
    "</font>\n",
    "<font color='green'><br>ОК"
   ]
  },
  {
   "cell_type": "markdown",
   "metadata": {},
   "source": [
    "Создадим функцию."
   ]
  },
  {
   "cell_type": "code",
   "execution_count": 31,
   "metadata": {},
   "outputs": [],
   "source": [
    "def upsample(features, target, repeat):\n",
    "    features_zeros = features[target == 0]\n",
    "    features_ones = features[target == 1]\n",
    "    target_zeros = target[target == 0]\n",
    "    target_ones = target[target == 1]\n",
    "\n",
    "    features_upsampled = pd.concat([features_zeros] + [features_ones] * repeat)\n",
    "    target_upsampled = pd.concat([target_zeros] + [target_ones] * repeat)\n",
    "    \n",
    "    features_upsampled, target_upsampled = shuffle(\n",
    "        features_upsampled, target_upsampled, random_state=12345)\n",
    "    \n",
    "    return features_upsampled, target_upsampled\n",
    "\n",
    "features_train, target_train = upsample(features_train, target_train, 3)"
   ]
  },
  {
   "cell_type": "markdown",
   "metadata": {},
   "source": [
    "<div style=\"background: #cceeaa; padding: 5px; border: 1px solid green; border-radius: 5px;\">\n",
    "    <font color='green'> <b><u>КОММЕНТАРИЙ РЕВЬЮЕРА</u></b>\n",
    "</font>\n",
    "<font color='green'><br>только трайн балансируем, ок."
   ]
  },
  {
   "cell_type": "markdown",
   "metadata": {},
   "source": [
    "В time запишем лучший результат на валидационной выборке по каждой модели"
   ]
  },
  {
   "cell_type": "code",
   "execution_count": 32,
   "metadata": {},
   "outputs": [
    {
     "name": "stdout",
     "output_type": "stream",
     "text": [
      "Wall time: 2.99 ms\n"
     ]
    }
   ],
   "source": [
    "%%time\n",
    "total_result = pd.DataFrame(columns = ['model', 'roc_auc_valid', 'recall_valid', 'precision_valid'])"
   ]
  },
  {
   "cell_type": "markdown",
   "metadata": {},
   "source": [
    "Исследуем дерево."
   ]
  },
  {
   "cell_type": "code",
   "execution_count": 33,
   "metadata": {},
   "outputs": [
    {
     "data": {
      "text/html": [
       "<div>\n",
       "<style scoped>\n",
       "    .dataframe tbody tr th:only-of-type {\n",
       "        vertical-align: middle;\n",
       "    }\n",
       "\n",
       "    .dataframe tbody tr th {\n",
       "        vertical-align: top;\n",
       "    }\n",
       "\n",
       "    .dataframe thead th {\n",
       "        text-align: right;\n",
       "    }\n",
       "</style>\n",
       "<table border=\"1\" class=\"dataframe\">\n",
       "  <thead>\n",
       "    <tr style=\"text-align: right;\">\n",
       "      <th></th>\n",
       "      <th>depth</th>\n",
       "      <th>f1_train</th>\n",
       "      <th>f1_valid</th>\n",
       "      <th>roc_auc_train</th>\n",
       "      <th>roc_auc_valid</th>\n",
       "      <th>recall_valid</th>\n",
       "      <th>precision_valid</th>\n",
       "    </tr>\n",
       "  </thead>\n",
       "  <tbody>\n",
       "    <tr>\n",
       "      <td>0</td>\n",
       "      <td>1.0</td>\n",
       "      <td>0.712126</td>\n",
       "      <td>0.543796</td>\n",
       "      <td>0.683055</td>\n",
       "      <td>0.677842</td>\n",
       "      <td>0.752525</td>\n",
       "      <td>0.425714</td>\n",
       "    </tr>\n",
       "    <tr>\n",
       "      <td>1</td>\n",
       "      <td>2.0</td>\n",
       "      <td>0.615819</td>\n",
       "      <td>0.546479</td>\n",
       "      <td>0.684724</td>\n",
       "      <td>0.685719</td>\n",
       "      <td>0.489899</td>\n",
       "      <td>0.617834</td>\n",
       "    </tr>\n",
       "    <tr>\n",
       "      <td>2</td>\n",
       "      <td>3.0</td>\n",
       "      <td>0.745647</td>\n",
       "      <td>0.584521</td>\n",
       "      <td>0.732236</td>\n",
       "      <td>0.714792</td>\n",
       "      <td>0.724747</td>\n",
       "      <td>0.489761</td>\n",
       "    </tr>\n",
       "    <tr>\n",
       "      <td>3</td>\n",
       "      <td>4.0</td>\n",
       "      <td>0.756264</td>\n",
       "      <td>0.617989</td>\n",
       "      <td>0.748898</td>\n",
       "      <td>0.741836</td>\n",
       "      <td>0.737374</td>\n",
       "      <td>0.531876</td>\n",
       "    </tr>\n",
       "    <tr>\n",
       "      <td>4</td>\n",
       "      <td>5.0</td>\n",
       "      <td>0.779661</td>\n",
       "      <td>0.598309</td>\n",
       "      <td>0.767703</td>\n",
       "      <td>0.725536</td>\n",
       "      <td>0.714646</td>\n",
       "      <td>0.514545</td>\n",
       "    </tr>\n",
       "    <tr>\n",
       "      <td>5</td>\n",
       "      <td>6.0</td>\n",
       "      <td>0.799179</td>\n",
       "      <td>0.618106</td>\n",
       "      <td>0.785095</td>\n",
       "      <td>0.742720</td>\n",
       "      <td>0.750000</td>\n",
       "      <td>0.525664</td>\n",
       "    </tr>\n",
       "    <tr>\n",
       "      <td>6</td>\n",
       "      <td>7.0</td>\n",
       "      <td>0.819499</td>\n",
       "      <td>0.593952</td>\n",
       "      <td>0.806314</td>\n",
       "      <td>0.721358</td>\n",
       "      <td>0.694444</td>\n",
       "      <td>0.518868</td>\n",
       "    </tr>\n",
       "    <tr>\n",
       "      <td>7</td>\n",
       "      <td>8.0</td>\n",
       "      <td>0.850657</td>\n",
       "      <td>0.583593</td>\n",
       "      <td>0.835028</td>\n",
       "      <td>0.713633</td>\n",
       "      <td>0.709596</td>\n",
       "      <td>0.495591</td>\n",
       "    </tr>\n",
       "    <tr>\n",
       "      <td>8</td>\n",
       "      <td>9.0</td>\n",
       "      <td>0.873046</td>\n",
       "      <td>0.566120</td>\n",
       "      <td>0.863177</td>\n",
       "      <td>0.698689</td>\n",
       "      <td>0.654040</td>\n",
       "      <td>0.499037</td>\n",
       "    </tr>\n",
       "    <tr>\n",
       "      <td>9</td>\n",
       "      <td>10.0</td>\n",
       "      <td>0.903355</td>\n",
       "      <td>0.584885</td>\n",
       "      <td>0.893274</td>\n",
       "      <td>0.713725</td>\n",
       "      <td>0.674242</td>\n",
       "      <td>0.516441</td>\n",
       "    </tr>\n",
       "    <tr>\n",
       "      <td>10</td>\n",
       "      <td>11.0</td>\n",
       "      <td>0.918090</td>\n",
       "      <td>0.574032</td>\n",
       "      <td>0.911315</td>\n",
       "      <td>0.704658</td>\n",
       "      <td>0.636364</td>\n",
       "      <td>0.522822</td>\n",
       "    </tr>\n",
       "    <tr>\n",
       "      <td>11</td>\n",
       "      <td>12.0</td>\n",
       "      <td>0.936950</td>\n",
       "      <td>0.561772</td>\n",
       "      <td>0.931882</td>\n",
       "      <td>0.695211</td>\n",
       "      <td>0.608586</td>\n",
       "      <td>0.521645</td>\n",
       "    </tr>\n",
       "    <tr>\n",
       "      <td>12</td>\n",
       "      <td>13.0</td>\n",
       "      <td>0.948957</td>\n",
       "      <td>0.561905</td>\n",
       "      <td>0.945353</td>\n",
       "      <td>0.695314</td>\n",
       "      <td>0.595960</td>\n",
       "      <td>0.531532</td>\n",
       "    </tr>\n",
       "    <tr>\n",
       "      <td>13</td>\n",
       "      <td>14.0</td>\n",
       "      <td>0.959002</td>\n",
       "      <td>0.557971</td>\n",
       "      <td>0.956221</td>\n",
       "      <td>0.692456</td>\n",
       "      <td>0.583333</td>\n",
       "      <td>0.534722</td>\n",
       "    </tr>\n",
       "    <tr>\n",
       "      <td>14</td>\n",
       "      <td>15.0</td>\n",
       "      <td>0.969733</td>\n",
       "      <td>0.568627</td>\n",
       "      <td>0.967709</td>\n",
       "      <td>0.700136</td>\n",
       "      <td>0.585859</td>\n",
       "      <td>0.552381</td>\n",
       "    </tr>\n",
       "    <tr>\n",
       "      <td>15</td>\n",
       "      <td>16.0</td>\n",
       "      <td>0.975669</td>\n",
       "      <td>0.546366</td>\n",
       "      <td>0.974545</td>\n",
       "      <td>0.684433</td>\n",
       "      <td>0.550505</td>\n",
       "      <td>0.542289</td>\n",
       "    </tr>\n",
       "    <tr>\n",
       "      <td>16</td>\n",
       "      <td>17.0</td>\n",
       "      <td>0.982297</td>\n",
       "      <td>0.535533</td>\n",
       "      <td>0.981448</td>\n",
       "      <td>0.677076</td>\n",
       "      <td>0.532828</td>\n",
       "      <td>0.538265</td>\n",
       "    </tr>\n",
       "    <tr>\n",
       "      <td>17</td>\n",
       "      <td>18.0</td>\n",
       "      <td>0.987583</td>\n",
       "      <td>0.535393</td>\n",
       "      <td>0.986934</td>\n",
       "      <td>0.677236</td>\n",
       "      <td>0.525253</td>\n",
       "      <td>0.545932</td>\n",
       "    </tr>\n",
       "    <tr>\n",
       "      <td>18</td>\n",
       "      <td>19.0</td>\n",
       "      <td>0.991939</td>\n",
       "      <td>0.528497</td>\n",
       "      <td>0.991555</td>\n",
       "      <td>0.672679</td>\n",
       "      <td>0.515152</td>\n",
       "      <td>0.542553</td>\n",
       "    </tr>\n",
       "    <tr>\n",
       "      <td>19</td>\n",
       "      <td>20.0</td>\n",
       "      <td>0.994207</td>\n",
       "      <td>0.508475</td>\n",
       "      <td>0.993945</td>\n",
       "      <td>0.659341</td>\n",
       "      <td>0.492424</td>\n",
       "      <td>0.525606</td>\n",
       "    </tr>\n",
       "  </tbody>\n",
       "</table>\n",
       "</div>"
      ],
      "text/plain": [
       "    depth  f1_train  f1_valid  roc_auc_train  roc_auc_valid  recall_valid  \\\n",
       "0     1.0  0.712126  0.543796       0.683055       0.677842      0.752525   \n",
       "1     2.0  0.615819  0.546479       0.684724       0.685719      0.489899   \n",
       "2     3.0  0.745647  0.584521       0.732236       0.714792      0.724747   \n",
       "3     4.0  0.756264  0.617989       0.748898       0.741836      0.737374   \n",
       "4     5.0  0.779661  0.598309       0.767703       0.725536      0.714646   \n",
       "5     6.0  0.799179  0.618106       0.785095       0.742720      0.750000   \n",
       "6     7.0  0.819499  0.593952       0.806314       0.721358      0.694444   \n",
       "7     8.0  0.850657  0.583593       0.835028       0.713633      0.709596   \n",
       "8     9.0  0.873046  0.566120       0.863177       0.698689      0.654040   \n",
       "9    10.0  0.903355  0.584885       0.893274       0.713725      0.674242   \n",
       "10   11.0  0.918090  0.574032       0.911315       0.704658      0.636364   \n",
       "11   12.0  0.936950  0.561772       0.931882       0.695211      0.608586   \n",
       "12   13.0  0.948957  0.561905       0.945353       0.695314      0.595960   \n",
       "13   14.0  0.959002  0.557971       0.956221       0.692456      0.583333   \n",
       "14   15.0  0.969733  0.568627       0.967709       0.700136      0.585859   \n",
       "15   16.0  0.975669  0.546366       0.974545       0.684433      0.550505   \n",
       "16   17.0  0.982297  0.535533       0.981448       0.677076      0.532828   \n",
       "17   18.0  0.987583  0.535393       0.986934       0.677236      0.525253   \n",
       "18   19.0  0.991939  0.528497       0.991555       0.672679      0.515152   \n",
       "19   20.0  0.994207  0.508475       0.993945       0.659341      0.492424   \n",
       "\n",
       "    precision_valid  \n",
       "0          0.425714  \n",
       "1          0.617834  \n",
       "2          0.489761  \n",
       "3          0.531876  \n",
       "4          0.514545  \n",
       "5          0.525664  \n",
       "6          0.518868  \n",
       "7          0.495591  \n",
       "8          0.499037  \n",
       "9          0.516441  \n",
       "10         0.522822  \n",
       "11         0.521645  \n",
       "12         0.531532  \n",
       "13         0.534722  \n",
       "14         0.552381  \n",
       "15         0.542289  \n",
       "16         0.538265  \n",
       "17         0.545932  \n",
       "18         0.542553  \n",
       "19         0.525606  "
      ]
     },
     "execution_count": 33,
     "metadata": {},
     "output_type": "execute_result"
    }
   ],
   "source": [
    "tree_result = pd.DataFrame()\n",
    "i= 0\n",
    "\n",
    "for depth in range(1, 21, 1):\n",
    "    model_tree = DecisionTreeClassifier(max_depth=depth, random_state=12345, class_weight='balanced')\n",
    "    model_tree.fit(features_train, target_train)\n",
    "    \n",
    "    predictions_tree_train = model_tree.predict(features_train)\n",
    "    predictions_tree_valid = model_tree.predict(features_valid)\n",
    "    tree_result.loc[i, 'depth'] = depth\n",
    "    tree_result.loc[i, 'f1_train'] = f1_score(target_train, predictions_tree_train)\n",
    "    tree_result.loc[i, 'f1_valid'] = f1_score(target_valid, predictions_tree_valid)\n",
    "    tree_result.loc[i, 'roc_auc_train'] = roc_auc_score(target_train, predictions_tree_train)\n",
    "    tree_result.loc[i, 'roc_auc_valid'] = roc_auc_score(target_valid, predictions_tree_valid)\n",
    "    tree_result.loc[i, 'recall_valid'] = recall_score(target_valid, predictions_tree_valid)\n",
    "    tree_result.loc[i, 'precision_valid'] = precision_score(target_valid, predictions_tree_valid)\n",
    "    i +=1\n",
    "    \n",
    "\n",
    "total_result.loc[0,'model'] = 'DecisionTreeClassifier'\n",
    "total_result.loc[0,'roc_auc_valid'] = tree_result['roc_auc_valid'].max()\n",
    "\n",
    "max_ = tree_result['roc_auc_valid'].max()\n",
    "ind =  (tree_result.query('roc_auc_valid == @max_').index).values[0]\n",
    "\n",
    "total_result.loc[0,'recall_valid'] = tree_result.loc[ind,'recall_valid']\n",
    "total_result.loc[0,'precision_valid'] = tree_result.loc[ind,'precision_valid']\n",
    "\n",
    "tree_result"
   ]
  },
  {
   "cell_type": "markdown",
   "metadata": {},
   "source": [
    "<div style=\"background: #cceeaa; padding: 5px; border: 1px solid green; border-radius: 5px;\">\n",
    "    <font color='green'> <b><u>КОММЕНТАРИЙ РЕВЬЮЕРА</u></b>\n",
    "</font>\n",
    "<font color='green'><br>бодренько)))"
   ]
  },
  {
   "cell_type": "markdown",
   "metadata": {},
   "source": [
    "Теперь лес."
   ]
  },
  {
   "cell_type": "code",
   "execution_count": 34,
   "metadata": {
    "scrolled": true
   },
   "outputs": [
    {
     "name": "stdout",
     "output_type": "stream",
     "text": [
      "Wall time: 4.6 s\n"
     ]
    },
    {
     "data": {
      "text/html": [
       "<div>\n",
       "<style scoped>\n",
       "    .dataframe tbody tr th:only-of-type {\n",
       "        vertical-align: middle;\n",
       "    }\n",
       "\n",
       "    .dataframe tbody tr th {\n",
       "        vertical-align: top;\n",
       "    }\n",
       "\n",
       "    .dataframe thead th {\n",
       "        text-align: right;\n",
       "    }\n",
       "</style>\n",
       "<table border=\"1\" class=\"dataframe\">\n",
       "  <thead>\n",
       "    <tr style=\"text-align: right;\">\n",
       "      <th></th>\n",
       "      <th>estim</th>\n",
       "      <th>depth</th>\n",
       "      <th>roc_auc_train</th>\n",
       "      <th>roc_auc_valid</th>\n",
       "      <th>recall_valid</th>\n",
       "      <th>precision_valid</th>\n",
       "    </tr>\n",
       "  </thead>\n",
       "  <tbody>\n",
       "    <tr>\n",
       "      <td>0</td>\n",
       "      <td>5.0</td>\n",
       "      <td>2.0</td>\n",
       "      <td>0.742079</td>\n",
       "      <td>0.726753</td>\n",
       "      <td>0.734848</td>\n",
       "      <td>0.505208</td>\n",
       "    </tr>\n",
       "    <tr>\n",
       "      <td>1</td>\n",
       "      <td>5.0</td>\n",
       "      <td>4.0</td>\n",
       "      <td>0.750918</td>\n",
       "      <td>0.731896</td>\n",
       "      <td>0.709596</td>\n",
       "      <td>0.530189</td>\n",
       "    </tr>\n",
       "    <tr>\n",
       "      <td>2</td>\n",
       "      <td>5.0</td>\n",
       "      <td>6.0</td>\n",
       "      <td>0.789667</td>\n",
       "      <td>0.769442</td>\n",
       "      <td>0.777778</td>\n",
       "      <td>0.560000</td>\n",
       "    </tr>\n",
       "    <tr>\n",
       "      <td>3</td>\n",
       "      <td>5.0</td>\n",
       "      <td>8.0</td>\n",
       "      <td>0.827894</td>\n",
       "      <td>0.766572</td>\n",
       "      <td>0.742424</td>\n",
       "      <td>0.581028</td>\n",
       "    </tr>\n",
       "    <tr>\n",
       "      <td>4</td>\n",
       "      <td>5.0</td>\n",
       "      <td>10.0</td>\n",
       "      <td>0.887868</td>\n",
       "      <td>0.729853</td>\n",
       "      <td>0.681818</td>\n",
       "      <td>0.545455</td>\n",
       "    </tr>\n",
       "    <tr>\n",
       "      <td>5</td>\n",
       "      <td>10.0</td>\n",
       "      <td>2.0</td>\n",
       "      <td>0.744496</td>\n",
       "      <td>0.735373</td>\n",
       "      <td>0.755051</td>\n",
       "      <td>0.509370</td>\n",
       "    </tr>\n",
       "    <tr>\n",
       "      <td>6</td>\n",
       "      <td>10.0</td>\n",
       "      <td>4.0</td>\n",
       "      <td>0.755437</td>\n",
       "      <td>0.739701</td>\n",
       "      <td>0.744949</td>\n",
       "      <td>0.523050</td>\n",
       "    </tr>\n",
       "    <tr>\n",
       "      <td>7</td>\n",
       "      <td>10.0</td>\n",
       "      <td>6.0</td>\n",
       "      <td>0.792584</td>\n",
       "      <td>0.769063</td>\n",
       "      <td>0.787879</td>\n",
       "      <td>0.552212</td>\n",
       "    </tr>\n",
       "    <tr>\n",
       "      <td>8</td>\n",
       "      <td>10.0</td>\n",
       "      <td>8.0</td>\n",
       "      <td>0.830635</td>\n",
       "      <td>0.753957</td>\n",
       "      <td>0.739899</td>\n",
       "      <td>0.554924</td>\n",
       "    </tr>\n",
       "    <tr>\n",
       "      <td>9</td>\n",
       "      <td>10.0</td>\n",
       "      <td>10.0</td>\n",
       "      <td>0.897513</td>\n",
       "      <td>0.744557</td>\n",
       "      <td>0.694444</td>\n",
       "      <td>0.569358</td>\n",
       "    </tr>\n",
       "    <tr>\n",
       "      <td>10</td>\n",
       "      <td>15.0</td>\n",
       "      <td>2.0</td>\n",
       "      <td>0.74817</td>\n",
       "      <td>0.745313</td>\n",
       "      <td>0.782828</td>\n",
       "      <td>0.511551</td>\n",
       "    </tr>\n",
       "    <tr>\n",
       "      <td>11</td>\n",
       "      <td>15.0</td>\n",
       "      <td>4.0</td>\n",
       "      <td>0.753242</td>\n",
       "      <td>0.753532</td>\n",
       "      <td>0.767677</td>\n",
       "      <td>0.535211</td>\n",
       "    </tr>\n",
       "    <tr>\n",
       "      <td>12</td>\n",
       "      <td>15.0</td>\n",
       "      <td>6.0</td>\n",
       "      <td>0.794039</td>\n",
       "      <td>0.767077</td>\n",
       "      <td>0.765152</td>\n",
       "      <td>0.564246</td>\n",
       "    </tr>\n",
       "    <tr>\n",
       "      <td>13</td>\n",
       "      <td>15.0</td>\n",
       "      <td>8.0</td>\n",
       "      <td>0.83513</td>\n",
       "      <td>0.759662</td>\n",
       "      <td>0.742424</td>\n",
       "      <td>0.565385</td>\n",
       "    </tr>\n",
       "    <tr>\n",
       "      <td>14</td>\n",
       "      <td>15.0</td>\n",
       "      <td>10.0</td>\n",
       "      <td>0.898042</td>\n",
       "      <td>0.751249</td>\n",
       "      <td>0.696970</td>\n",
       "      <td>0.583510</td>\n",
       "    </tr>\n",
       "    <tr>\n",
       "      <td>15</td>\n",
       "      <td>20.0</td>\n",
       "      <td>2.0</td>\n",
       "      <td>0.748351</td>\n",
       "      <td>0.753544</td>\n",
       "      <td>0.790404</td>\n",
       "      <td>0.521667</td>\n",
       "    </tr>\n",
       "    <tr>\n",
       "      <td>16</td>\n",
       "      <td>20.0</td>\n",
       "      <td>4.0</td>\n",
       "      <td>0.75951</td>\n",
       "      <td>0.755231</td>\n",
       "      <td>0.765152</td>\n",
       "      <td>0.540107</td>\n",
       "    </tr>\n",
       "    <tr>\n",
       "      <td>17</td>\n",
       "      <td>20.0</td>\n",
       "      <td>6.0</td>\n",
       "      <td>0.794904</td>\n",
       "      <td>0.765596</td>\n",
       "      <td>0.765152</td>\n",
       "      <td>0.561111</td>\n",
       "    </tr>\n",
       "    <tr>\n",
       "      <td>18</td>\n",
       "      <td>20.0</td>\n",
       "      <td>8.0</td>\n",
       "      <td>0.83642</td>\n",
       "      <td>0.760374</td>\n",
       "      <td>0.739899</td>\n",
       "      <td>0.568932</td>\n",
       "    </tr>\n",
       "    <tr>\n",
       "      <td>19</td>\n",
       "      <td>20.0</td>\n",
       "      <td>10.0</td>\n",
       "      <td>0.904854</td>\n",
       "      <td>0.758113</td>\n",
       "      <td>0.714646</td>\n",
       "      <td>0.584711</td>\n",
       "    </tr>\n",
       "    <tr>\n",
       "      <td>20</td>\n",
       "      <td>25.0</td>\n",
       "      <td>2.0</td>\n",
       "      <td>0.752635</td>\n",
       "      <td>0.754255</td>\n",
       "      <td>0.787879</td>\n",
       "      <td>0.524370</td>\n",
       "    </tr>\n",
       "    <tr>\n",
       "      <td>21</td>\n",
       "      <td>25.0</td>\n",
       "      <td>4.0</td>\n",
       "      <td>0.75921</td>\n",
       "      <td>0.751386</td>\n",
       "      <td>0.752525</td>\n",
       "      <td>0.540835</td>\n",
       "    </tr>\n",
       "    <tr>\n",
       "      <td>22</td>\n",
       "      <td>25.0</td>\n",
       "      <td>6.0</td>\n",
       "      <td>0.794126</td>\n",
       "      <td>0.773115</td>\n",
       "      <td>0.775253</td>\n",
       "      <td>0.569573</td>\n",
       "    </tr>\n",
       "    <tr>\n",
       "      <td>23</td>\n",
       "      <td>25.0</td>\n",
       "      <td>8.0</td>\n",
       "      <td>0.836985</td>\n",
       "      <td>0.764988</td>\n",
       "      <td>0.755051</td>\n",
       "      <td>0.567362</td>\n",
       "    </tr>\n",
       "    <tr>\n",
       "      <td>24</td>\n",
       "      <td>25.0</td>\n",
       "      <td>10.0</td>\n",
       "      <td>0.906781</td>\n",
       "      <td>0.757068</td>\n",
       "      <td>0.709596</td>\n",
       "      <td>0.586639</td>\n",
       "    </tr>\n",
       "    <tr>\n",
       "      <td>25</td>\n",
       "      <td>30.0</td>\n",
       "      <td>2.0</td>\n",
       "      <td>0.750353</td>\n",
       "      <td>0.758204</td>\n",
       "      <td>0.787879</td>\n",
       "      <td>0.531516</td>\n",
       "    </tr>\n",
       "    <tr>\n",
       "      <td>26</td>\n",
       "      <td>30.0</td>\n",
       "      <td>4.0</td>\n",
       "      <td>0.763719</td>\n",
       "      <td>0.758744</td>\n",
       "      <td>0.770202</td>\n",
       "      <td>0.543672</td>\n",
       "    </tr>\n",
       "    <tr>\n",
       "      <td>27</td>\n",
       "      <td>30.0</td>\n",
       "      <td>6.0</td>\n",
       "      <td>0.790428</td>\n",
       "      <td>0.76384</td>\n",
       "      <td>0.762626</td>\n",
       "      <td>0.559259</td>\n",
       "    </tr>\n",
       "    <tr>\n",
       "      <td>28</td>\n",
       "      <td>30.0</td>\n",
       "      <td>8.0</td>\n",
       "      <td>0.840632</td>\n",
       "      <td>0.76213</td>\n",
       "      <td>0.742424</td>\n",
       "      <td>0.570874</td>\n",
       "    </tr>\n",
       "    <tr>\n",
       "      <td>29</td>\n",
       "      <td>30.0</td>\n",
       "      <td>10.0</td>\n",
       "      <td>0.906977</td>\n",
       "      <td>0.753338</td>\n",
       "      <td>0.707071</td>\n",
       "      <td>0.579710</td>\n",
       "    </tr>\n",
       "    <tr>\n",
       "      <td>30</td>\n",
       "      <td>35.0</td>\n",
       "      <td>2.0</td>\n",
       "      <td>0.74621</td>\n",
       "      <td>0.762543</td>\n",
       "      <td>0.800505</td>\n",
       "      <td>0.531879</td>\n",
       "    </tr>\n",
       "    <tr>\n",
       "      <td>31</td>\n",
       "      <td>35.0</td>\n",
       "      <td>4.0</td>\n",
       "      <td>0.757721</td>\n",
       "      <td>0.755943</td>\n",
       "      <td>0.762626</td>\n",
       "      <td>0.543165</td>\n",
       "    </tr>\n",
       "    <tr>\n",
       "      <td>32</td>\n",
       "      <td>35.0</td>\n",
       "      <td>6.0</td>\n",
       "      <td>0.792923</td>\n",
       "      <td>0.76966</td>\n",
       "      <td>0.775253</td>\n",
       "      <td>0.562271</td>\n",
       "    </tr>\n",
       "    <tr>\n",
       "      <td>33</td>\n",
       "      <td>35.0</td>\n",
       "      <td>8.0</td>\n",
       "      <td>0.843286</td>\n",
       "      <td>0.755874</td>\n",
       "      <td>0.734848</td>\n",
       "      <td>0.562863</td>\n",
       "    </tr>\n",
       "    <tr>\n",
       "      <td>34</td>\n",
       "      <td>35.0</td>\n",
       "      <td>10.0</td>\n",
       "      <td>0.908128</td>\n",
       "      <td>0.75312</td>\n",
       "      <td>0.709596</td>\n",
       "      <td>0.577002</td>\n",
       "    </tr>\n",
       "    <tr>\n",
       "      <td>35</td>\n",
       "      <td>40.0</td>\n",
       "      <td>2.0</td>\n",
       "      <td>0.744599</td>\n",
       "      <td>0.761888</td>\n",
       "      <td>0.808081</td>\n",
       "      <td>0.526316</td>\n",
       "    </tr>\n",
       "    <tr>\n",
       "      <td>36</td>\n",
       "      <td>40.0</td>\n",
       "      <td>4.0</td>\n",
       "      <td>0.757334</td>\n",
       "      <td>0.755886</td>\n",
       "      <td>0.757576</td>\n",
       "      <td>0.546448</td>\n",
       "    </tr>\n",
       "    <tr>\n",
       "      <td>37</td>\n",
       "      <td>40.0</td>\n",
       "      <td>6.0</td>\n",
       "      <td>0.792569</td>\n",
       "      <td>0.770704</td>\n",
       "      <td>0.780303</td>\n",
       "      <td>0.560799</td>\n",
       "    </tr>\n",
       "    <tr>\n",
       "      <td>38</td>\n",
       "      <td>40.0</td>\n",
       "      <td>8.0</td>\n",
       "      <td>0.840632</td>\n",
       "      <td>0.765149</td>\n",
       "      <td>0.747475</td>\n",
       "      <td>0.573643</td>\n",
       "    </tr>\n",
       "    <tr>\n",
       "      <td>39</td>\n",
       "      <td>40.0</td>\n",
       "      <td>10.0</td>\n",
       "      <td>0.909827</td>\n",
       "      <td>0.751857</td>\n",
       "      <td>0.707071</td>\n",
       "      <td>0.576132</td>\n",
       "    </tr>\n",
       "    <tr>\n",
       "      <td>40</td>\n",
       "      <td>45.0</td>\n",
       "      <td>2.0</td>\n",
       "      <td>0.741803</td>\n",
       "      <td>0.761613</td>\n",
       "      <td>0.805556</td>\n",
       "      <td>0.527273</td>\n",
       "    </tr>\n",
       "    <tr>\n",
       "      <td>41</td>\n",
       "      <td>45.0</td>\n",
       "      <td>4.0</td>\n",
       "      <td>0.757917</td>\n",
       "      <td>0.754244</td>\n",
       "      <td>0.765152</td>\n",
       "      <td>0.538188</td>\n",
       "    </tr>\n",
       "    <tr>\n",
       "      <td>42</td>\n",
       "      <td>45.0</td>\n",
       "      <td>6.0</td>\n",
       "      <td>0.791844</td>\n",
       "      <td>0.768122</td>\n",
       "      <td>0.770202</td>\n",
       "      <td>0.562731</td>\n",
       "    </tr>\n",
       "    <tr>\n",
       "      <td>43</td>\n",
       "      <td>45.0</td>\n",
       "      <td>8.0</td>\n",
       "      <td>0.842135</td>\n",
       "      <td>0.764162</td>\n",
       "      <td>0.747475</td>\n",
       "      <td>0.571429</td>\n",
       "    </tr>\n",
       "    <tr>\n",
       "      <td>44</td>\n",
       "      <td>45.0</td>\n",
       "      <td>10.0</td>\n",
       "      <td>0.911685</td>\n",
       "      <td>0.748563</td>\n",
       "      <td>0.699495</td>\n",
       "      <td>0.574689</td>\n",
       "    </tr>\n",
       "    <tr>\n",
       "      <td>45</td>\n",
       "      <td>50.0</td>\n",
       "      <td>2.0</td>\n",
       "      <td>0.740687</td>\n",
       "      <td>0.756069</td>\n",
       "      <td>0.795455</td>\n",
       "      <td>0.523256</td>\n",
       "    </tr>\n",
       "    <tr>\n",
       "      <td>46</td>\n",
       "      <td>50.0</td>\n",
       "      <td>4.0</td>\n",
       "      <td>0.759279</td>\n",
       "      <td>0.759237</td>\n",
       "      <td>0.770202</td>\n",
       "      <td>0.544643</td>\n",
       "    </tr>\n",
       "    <tr>\n",
       "      <td>47</td>\n",
       "      <td>50.0</td>\n",
       "      <td>6.0</td>\n",
       "      <td>0.793753</td>\n",
       "      <td>0.768179</td>\n",
       "      <td>0.775253</td>\n",
       "      <td>0.559199</td>\n",
       "    </tr>\n",
       "    <tr>\n",
       "      <td>48</td>\n",
       "      <td>50.0</td>\n",
       "      <td>8.0</td>\n",
       "      <td>0.841197</td>\n",
       "      <td>0.760649</td>\n",
       "      <td>0.742424</td>\n",
       "      <td>0.567568</td>\n",
       "    </tr>\n",
       "    <tr>\n",
       "      <td>49</td>\n",
       "      <td>50.0</td>\n",
       "      <td>10.0</td>\n",
       "      <td>0.909791</td>\n",
       "      <td>0.751582</td>\n",
       "      <td>0.704545</td>\n",
       "      <td>0.577640</td>\n",
       "    </tr>\n",
       "  </tbody>\n",
       "</table>\n",
       "</div>"
      ],
      "text/plain": [
       "    estim  depth roc_auc_train roc_auc_valid  recall_valid  precision_valid\n",
       "0     5.0    2.0      0.742079      0.726753      0.734848         0.505208\n",
       "1     5.0    4.0      0.750918      0.731896      0.709596         0.530189\n",
       "2     5.0    6.0      0.789667      0.769442      0.777778         0.560000\n",
       "3     5.0    8.0      0.827894      0.766572      0.742424         0.581028\n",
       "4     5.0   10.0      0.887868      0.729853      0.681818         0.545455\n",
       "5    10.0    2.0      0.744496      0.735373      0.755051         0.509370\n",
       "6    10.0    4.0      0.755437      0.739701      0.744949         0.523050\n",
       "7    10.0    6.0      0.792584      0.769063      0.787879         0.552212\n",
       "8    10.0    8.0      0.830635      0.753957      0.739899         0.554924\n",
       "9    10.0   10.0      0.897513      0.744557      0.694444         0.569358\n",
       "10   15.0    2.0       0.74817      0.745313      0.782828         0.511551\n",
       "11   15.0    4.0      0.753242      0.753532      0.767677         0.535211\n",
       "12   15.0    6.0      0.794039      0.767077      0.765152         0.564246\n",
       "13   15.0    8.0       0.83513      0.759662      0.742424         0.565385\n",
       "14   15.0   10.0      0.898042      0.751249      0.696970         0.583510\n",
       "15   20.0    2.0      0.748351      0.753544      0.790404         0.521667\n",
       "16   20.0    4.0       0.75951      0.755231      0.765152         0.540107\n",
       "17   20.0    6.0      0.794904      0.765596      0.765152         0.561111\n",
       "18   20.0    8.0       0.83642      0.760374      0.739899         0.568932\n",
       "19   20.0   10.0      0.904854      0.758113      0.714646         0.584711\n",
       "20   25.0    2.0      0.752635      0.754255      0.787879         0.524370\n",
       "21   25.0    4.0       0.75921      0.751386      0.752525         0.540835\n",
       "22   25.0    6.0      0.794126      0.773115      0.775253         0.569573\n",
       "23   25.0    8.0      0.836985      0.764988      0.755051         0.567362\n",
       "24   25.0   10.0      0.906781      0.757068      0.709596         0.586639\n",
       "25   30.0    2.0      0.750353      0.758204      0.787879         0.531516\n",
       "26   30.0    4.0      0.763719      0.758744      0.770202         0.543672\n",
       "27   30.0    6.0      0.790428       0.76384      0.762626         0.559259\n",
       "28   30.0    8.0      0.840632       0.76213      0.742424         0.570874\n",
       "29   30.0   10.0      0.906977      0.753338      0.707071         0.579710\n",
       "30   35.0    2.0       0.74621      0.762543      0.800505         0.531879\n",
       "31   35.0    4.0      0.757721      0.755943      0.762626         0.543165\n",
       "32   35.0    6.0      0.792923       0.76966      0.775253         0.562271\n",
       "33   35.0    8.0      0.843286      0.755874      0.734848         0.562863\n",
       "34   35.0   10.0      0.908128       0.75312      0.709596         0.577002\n",
       "35   40.0    2.0      0.744599      0.761888      0.808081         0.526316\n",
       "36   40.0    4.0      0.757334      0.755886      0.757576         0.546448\n",
       "37   40.0    6.0      0.792569      0.770704      0.780303         0.560799\n",
       "38   40.0    8.0      0.840632      0.765149      0.747475         0.573643\n",
       "39   40.0   10.0      0.909827      0.751857      0.707071         0.576132\n",
       "40   45.0    2.0      0.741803      0.761613      0.805556         0.527273\n",
       "41   45.0    4.0      0.757917      0.754244      0.765152         0.538188\n",
       "42   45.0    6.0      0.791844      0.768122      0.770202         0.562731\n",
       "43   45.0    8.0      0.842135      0.764162      0.747475         0.571429\n",
       "44   45.0   10.0      0.911685      0.748563      0.699495         0.574689\n",
       "45   50.0    2.0      0.740687      0.756069      0.795455         0.523256\n",
       "46   50.0    4.0      0.759279      0.759237      0.770202         0.544643\n",
       "47   50.0    6.0      0.793753      0.768179      0.775253         0.559199\n",
       "48   50.0    8.0      0.841197      0.760649      0.742424         0.567568\n",
       "49   50.0   10.0      0.909791      0.751582      0.704545         0.577640"
      ]
     },
     "execution_count": 34,
     "metadata": {},
     "output_type": "execute_result"
    }
   ],
   "source": [
    "%%time\n",
    "forest_result = pd.DataFrame(columns = ['estim', 'depth', 'roc_auc_train', 'roc_auc_valid'])\n",
    "i= 0\n",
    "for estim in range(5, 51, 5):\n",
    "    for depth in range(2, 11, 2):\n",
    "        model_forest = RandomForestClassifier(n_estimators=estim, max_depth=depth, random_state=12345, class_weight='balanced')\n",
    "        model_forest.fit(features_train, target_train)\n",
    "        predictions_forest_train = model_forest.predict(features_train)\n",
    "        predictions_forest_valid = model_forest.predict(features_valid)\n",
    " \n",
    "        forest_result.loc[i, 'estim'] = estim\n",
    "        forest_result.loc[i, 'depth'] = depth\n",
    "        forest_result.loc[i, 'roc_auc_train'] = roc_auc_score(target_train, predictions_forest_train)\n",
    "        forest_result.loc[i, 'roc_auc_valid'] = roc_auc_score(target_valid, predictions_forest_valid)\n",
    "        forest_result.loc[i, 'recall_valid'] = recall_score(target_valid, predictions_forest_valid)\n",
    "        forest_result.loc[i, 'precision_valid'] = precision_score(target_valid, predictions_forest_valid)\n",
    "        i +=1\n",
    "    \n",
    "total_result.loc[1,'model'] = 'RandomForestClassifier'\n",
    "total_result.loc[1,'roc_auc_valid'] = forest_result['roc_auc_valid'].max()\n",
    "\n",
    "max_ = forest_result['roc_auc_valid'].max()\n",
    "ind =  (forest_result.query('roc_auc_valid == @max_').index).values[0]\n",
    "total_result.loc[1,'recall_valid'] = forest_result.loc[ind,'recall_valid']\n",
    "total_result.loc[1,'precision_valid'] = forest_result.loc[ind,'precision_valid']\n",
    "\n",
    "forest_result  "
   ]
  },
  {
   "cell_type": "markdown",
   "metadata": {},
   "source": [
    "<div style=\"background: #cceeaa; padding: 5px; border: 1px solid green; border-radius: 5px;\">\n",
    "    <font color='green'> <b><u>КОММЕНТАРИЙ РЕВЬЮЕРА</u></b>\n",
    "</font>\n",
    "<font color='green'><br>ветвистый лес))ОК"
   ]
  },
  {
   "cell_type": "markdown",
   "metadata": {},
   "source": [
    "<div class='alert alert-info'>Например, график важности факторов для леса:</div>"
   ]
  },
  {
   "cell_type": "code",
   "execution_count": 35,
   "metadata": {},
   "outputs": [
    {
     "data": {
      "image/png": "[encoded data removed]",
      "text/plain": [
       "<Figure size 432x288 with 1 Axes>"
      ]
     },
     "metadata": {
      "needs_background": "light"
     },
     "output_type": "display_data"
    }
   ],
   "source": [
    "importances = model_forest.feature_importances_\n",
    "sorted_indices = np.argsort(importances)[::-1]\n",
    "plt.title('Feature Importance')\n",
    "plt.bar(range(features_train.shape[1]), importances[sorted_indices], align='center')\n",
    "plt.xticks(range(features_train.shape[1]), features_train.columns[sorted_indices], rotation=90)\n",
    "plt.tight_layout()\n",
    "plt.show()"
   ]
  },
  {
   "cell_type": "markdown",
   "metadata": {},
   "source": [
    "Логистическая регрессия:"
   ]
  },
  {
   "cell_type": "code",
   "execution_count": 36,
   "metadata": {},
   "outputs": [
    {
     "name": "stdout",
     "output_type": "stream",
     "text": [
      "Качество на обучающей выборке: 0.7636832066551628\n",
      "Качество на валидационной выборке: 0.7499626073170003\n"
     ]
    },
    {
     "name": "stderr",
     "output_type": "stream",
     "text": [
      "C:\\Users\\Uglev\\anaconda3\\envs\\praktikum\\lib\\site-packages\\sklearn\\linear_model\\logistic.py:432: FutureWarning: Default solver will be changed to 'lbfgs' in 0.22. Specify a solver to silence this warning.\n",
      "  FutureWarning)\n"
     ]
    }
   ],
   "source": [
    "model_log = LogisticRegression(random_state=12345, class_weight='balanced')\n",
    "model_log.fit(features_train, target_train)\n",
    "predictions_log_train = model_log.predict(features_train)\n",
    "predictions_log_valid = model_log.predict(features_valid)\n",
    "roc_auc_log_train = roc_auc_score(target_train, predictions_log_train)\n",
    "roc_auc_log_valid = roc_auc_score(target_valid, predictions_log_valid)\n",
    "recall_log_valid = recall_score(target_valid, predictions_log_valid)\n",
    "precision_log_valid = precision_score(target_valid, predictions_log_valid)\n",
    "print('Качество на обучающей выборке:', roc_auc_log_train )\n",
    "print('Качество на валидационной выборке:', roc_auc_log_valid )\n",
    "\n",
    "total_result.loc[2,'model'] = 'LogisticRegression'\n",
    "total_result.loc[2,'roc_auc_valid'] = roc_auc_log_valid\n",
    "total_result.loc[2,'recall_valid'] = recall_log_valid\n",
    "total_result.loc[2,'precision_valid'] = precision_log_valid"
   ]
  },
  {
   "cell_type": "markdown",
   "metadata": {},
   "source": [
    "Метод ближайших соседей."
   ]
  },
  {
   "cell_type": "code",
   "execution_count": 37,
   "metadata": {},
   "outputs": [
    {
     "data": {
      "text/html": [
       "<div>\n",
       "<style scoped>\n",
       "    .dataframe tbody tr th:only-of-type {\n",
       "        vertical-align: middle;\n",
       "    }\n",
       "\n",
       "    .dataframe tbody tr th {\n",
       "        vertical-align: top;\n",
       "    }\n",
       "\n",
       "    .dataframe thead th {\n",
       "        text-align: right;\n",
       "    }\n",
       "</style>\n",
       "<table border=\"1\" class=\"dataframe\">\n",
       "  <thead>\n",
       "    <tr style=\"text-align: right;\">\n",
       "      <th></th>\n",
       "      <th>n_neighbors</th>\n",
       "      <th>roc_auc_train</th>\n",
       "      <th>roc_auc_valid</th>\n",
       "      <th>recall_valid</th>\n",
       "      <th>precision_valid</th>\n",
       "    </tr>\n",
       "  </thead>\n",
       "  <tbody>\n",
       "    <tr>\n",
       "      <td>0</td>\n",
       "      <td>1.0</td>\n",
       "      <td>0.998602</td>\n",
       "      <td>0.65149</td>\n",
       "      <td>0.474747</td>\n",
       "      <td>0.519337</td>\n",
       "    </tr>\n",
       "    <tr>\n",
       "      <td>1</td>\n",
       "      <td>2.0</td>\n",
       "      <td>0.998602</td>\n",
       "      <td>0.65149</td>\n",
       "      <td>0.474747</td>\n",
       "      <td>0.519337</td>\n",
       "    </tr>\n",
       "    <tr>\n",
       "      <td>2</td>\n",
       "      <td>3.0</td>\n",
       "      <td>0.901052</td>\n",
       "      <td>0.677579</td>\n",
       "      <td>0.664141</td>\n",
       "      <td>0.456597</td>\n",
       "    </tr>\n",
       "    <tr>\n",
       "      <td>3</td>\n",
       "      <td>4.0</td>\n",
       "      <td>0.901052</td>\n",
       "      <td>0.677579</td>\n",
       "      <td>0.664141</td>\n",
       "      <td>0.456597</td>\n",
       "    </tr>\n",
       "    <tr>\n",
       "      <td>4</td>\n",
       "      <td>5.0</td>\n",
       "      <td>0.838432</td>\n",
       "      <td>0.674709</td>\n",
       "      <td>0.737374</td>\n",
       "      <td>0.426277</td>\n",
       "    </tr>\n",
       "    <tr>\n",
       "      <td>5</td>\n",
       "      <td>6.0</td>\n",
       "      <td>0.79699</td>\n",
       "      <td>0.694098</td>\n",
       "      <td>0.575758</td>\n",
       "      <td>0.545455</td>\n",
       "    </tr>\n",
       "    <tr>\n",
       "      <td>6</td>\n",
       "      <td>7.0</td>\n",
       "      <td>0.791393</td>\n",
       "      <td>0.694017</td>\n",
       "      <td>0.633838</td>\n",
       "      <td>0.502000</td>\n",
       "    </tr>\n",
       "    <tr>\n",
       "      <td>7</td>\n",
       "      <td>8.0</td>\n",
       "      <td>0.791393</td>\n",
       "      <td>0.694017</td>\n",
       "      <td>0.633838</td>\n",
       "      <td>0.502000</td>\n",
       "    </tr>\n",
       "    <tr>\n",
       "      <td>8</td>\n",
       "      <td>9.0</td>\n",
       "      <td>0.786493</td>\n",
       "      <td>0.701615</td>\n",
       "      <td>0.694444</td>\n",
       "      <td>0.482456</td>\n",
       "    </tr>\n",
       "    <tr>\n",
       "      <td>9</td>\n",
       "      <td>10.0</td>\n",
       "      <td>0.786652</td>\n",
       "      <td>0.701615</td>\n",
       "      <td>0.694444</td>\n",
       "      <td>0.482456</td>\n",
       "    </tr>\n",
       "    <tr>\n",
       "      <td>10</td>\n",
       "      <td>11.0</td>\n",
       "      <td>0.777859</td>\n",
       "      <td>0.717937</td>\n",
       "      <td>0.762626</td>\n",
       "      <td>0.477093</td>\n",
       "    </tr>\n",
       "    <tr>\n",
       "      <td>11</td>\n",
       "      <td>12.0</td>\n",
       "      <td>0.769124</td>\n",
       "      <td>0.712337</td>\n",
       "      <td>0.638889</td>\n",
       "      <td>0.538298</td>\n",
       "    </tr>\n",
       "    <tr>\n",
       "      <td>12</td>\n",
       "      <td>13.0</td>\n",
       "      <td>0.768634</td>\n",
       "      <td>0.730082</td>\n",
       "      <td>0.702020</td>\n",
       "      <td>0.531549</td>\n",
       "    </tr>\n",
       "    <tr>\n",
       "      <td>13</td>\n",
       "      <td>14.0</td>\n",
       "      <td>0.768794</td>\n",
       "      <td>0.729313</td>\n",
       "      <td>0.699495</td>\n",
       "      <td>0.531670</td>\n",
       "    </tr>\n",
       "    <tr>\n",
       "      <td>14</td>\n",
       "      <td>15.0</td>\n",
       "      <td>0.767685</td>\n",
       "      <td>0.725158</td>\n",
       "      <td>0.724747</td>\n",
       "      <td>0.507965</td>\n",
       "    </tr>\n",
       "    <tr>\n",
       "      <td>15</td>\n",
       "      <td>16.0</td>\n",
       "      <td>0.767685</td>\n",
       "      <td>0.725158</td>\n",
       "      <td>0.724747</td>\n",
       "      <td>0.507965</td>\n",
       "    </tr>\n",
       "    <tr>\n",
       "      <td>16</td>\n",
       "      <td>17.0</td>\n",
       "      <td>0.764312</td>\n",
       "      <td>0.715022</td>\n",
       "      <td>0.744949</td>\n",
       "      <td>0.480456</td>\n",
       "    </tr>\n",
       "    <tr>\n",
       "      <td>17</td>\n",
       "      <td>18.0</td>\n",
       "      <td>0.756539</td>\n",
       "      <td>0.715746</td>\n",
       "      <td>0.656566</td>\n",
       "      <td>0.532787</td>\n",
       "    </tr>\n",
       "    <tr>\n",
       "      <td>18</td>\n",
       "      <td>19.0</td>\n",
       "      <td>0.751453</td>\n",
       "      <td>0.720314</td>\n",
       "      <td>0.689394</td>\n",
       "      <td>0.520000</td>\n",
       "    </tr>\n",
       "  </tbody>\n",
       "</table>\n",
       "</div>"
      ],
      "text/plain": [
       "    n_neighbors roc_auc_train roc_auc_valid  recall_valid  precision_valid\n",
       "0           1.0      0.998602       0.65149      0.474747         0.519337\n",
       "1           2.0      0.998602       0.65149      0.474747         0.519337\n",
       "2           3.0      0.901052      0.677579      0.664141         0.456597\n",
       "3           4.0      0.901052      0.677579      0.664141         0.456597\n",
       "4           5.0      0.838432      0.674709      0.737374         0.426277\n",
       "5           6.0       0.79699      0.694098      0.575758         0.545455\n",
       "6           7.0      0.791393      0.694017      0.633838         0.502000\n",
       "7           8.0      0.791393      0.694017      0.633838         0.502000\n",
       "8           9.0      0.786493      0.701615      0.694444         0.482456\n",
       "9          10.0      0.786652      0.701615      0.694444         0.482456\n",
       "10         11.0      0.777859      0.717937      0.762626         0.477093\n",
       "11         12.0      0.769124      0.712337      0.638889         0.538298\n",
       "12         13.0      0.768634      0.730082      0.702020         0.531549\n",
       "13         14.0      0.768794      0.729313      0.699495         0.531670\n",
       "14         15.0      0.767685      0.725158      0.724747         0.507965\n",
       "15         16.0      0.767685      0.725158      0.724747         0.507965\n",
       "16         17.0      0.764312      0.715022      0.744949         0.480456\n",
       "17         18.0      0.756539      0.715746      0.656566         0.532787\n",
       "18         19.0      0.751453      0.720314      0.689394         0.520000"
      ]
     },
     "execution_count": 37,
     "metadata": {},
     "output_type": "execute_result"
    }
   ],
   "source": [
    "neigh_result = pd.DataFrame(columns = ['n_neighbors', 'roc_auc_train', 'roc_auc_valid'])\n",
    "i= 0\n",
    "for n in range(1, 20):\n",
    "    neigh = KNeighborsClassifier(n_neighbors=n)\n",
    "    neigh.fit(features_train, target_train)\n",
    "    prediction_neigh_train = neigh.predict(features_train)\n",
    "    prediction_neigh_valid = neigh.predict(features_valid)\n",
    "    neigh_result.loc[i, 'n_neighbors'] = n\n",
    "    neigh_result.loc[i, 'roc_auc_train'] = roc_auc_score(target_train, prediction_neigh_train)\n",
    "    neigh_result.loc[i, 'roc_auc_valid'] = roc_auc_score(target_valid, prediction_neigh_valid)\n",
    "    neigh_result.loc[i, 'recall_valid'] = recall_score(target_valid, prediction_neigh_valid)\n",
    "    neigh_result.loc[i, 'precision_valid'] = precision_score(target_valid, prediction_neigh_valid)\n",
    "    i +=1    \n",
    "\n",
    "total_result.loc[3,'model'] = 'KNeighborsClassifier'\n",
    "total_result.loc[3,'roc_auc_valid'] = neigh_result['roc_auc_valid'].max()\n",
    "\n",
    "max_ = neigh_result['roc_auc_valid'].max()\n",
    "ind =  (neigh_result.query('roc_auc_valid == @max_').index).values[0]\n",
    "total_result.loc[3,'recall_valid'] = neigh_result.loc[ind,'recall_valid']\n",
    "total_result.loc[3,'precision_valid'] = neigh_result.loc[ind,'precision_valid']\n",
    "\n",
    "neigh_result"
   ]
  },
  {
   "cell_type": "code",
   "execution_count": 38,
   "metadata": {},
   "outputs": [],
   "source": [
    "cat_features = [c for c, col in enumerate(features_train.columns) if col not in (df_no_ohe.columns)]"
   ]
  },
  {
   "cell_type": "markdown",
   "metadata": {},
   "source": [
    "гиперпараметры для LGBMClassifier:"
   ]
  },
  {
   "cell_type": "markdown",
   "metadata": {},
   "source": [
    "estimator = lgb.LGBMClassifier(class_weight='balanced', boosting_type = 'gbdt', objective='binary', random_state=2576, reg_alpha = 0, metric = 'auc', max_depth = 1, silent=True)\n",
    "\n",
    "param_grid = { 'learning_rate': [0.01, 0.1 ,0.5], 'n_estimators': [2,10,60], 'min_child_samples' : [10,50,100]\n",
    "\n",
    "}\n",
    "\n",
    "cv =KFold(random_state=2576, n_splits=7) gbm = GridSearchCV(estimator, param_grid, cv=cv, scoring='roc_auc')\n",
    "\n",
    "gbm.fit(features_train, target_train, categorical_feature=cat_features) #, eval_metric ='auc',eval_set =[(features_valid, target_valid)] )\n",
    "\n",
    "print('Best parameters is:', gbm.bestparams) print('Best score is:', gbm.bestscore)"
   ]
  },
  {
   "cell_type": "code",
   "execution_count": 39,
   "metadata": {},
   "outputs": [
    {
     "name": "stderr",
     "output_type": "stream",
     "text": [
      "C:\\Users\\Uglev\\anaconda3\\envs\\praktikum\\lib\\site-packages\\lightgbm\\basic.py:2065: UserWarning: Using categorical_feature in Dataset.\n",
      "  _log_warning('Using categorical_feature in Dataset.')\n"
     ]
    }
   ],
   "source": [
    "model_lgb = lgb.LGBMClassifier(learning_rate=0.5, max_depth=1, n_estimators=60, min_child_samples = 10, class_weight='balanced',\n",
    "                               reg_alpha = 0,objective='binary', metric = 'auc', random_state=2576)\n",
    "model_lgb.fit(features_train, target_train, categorical_feature=cat_features)\n",
    "\n",
    "probabilities_valid = model_lgb.predict_proba(features_valid)\n",
    "probabilities_one_valid = probabilities_valid[:, 1]\n",
    "\n",
    "lgb_score = roc_auc_score(target_valid, probabilities_one_valid)\n",
    "recall_lgb_valid = recall_score(target_valid, probabilities_one_valid.round())\n",
    "precision_lgb_valid = precision_score(target_valid, probabilities_one_valid.round())\n",
    "\n",
    "total_result.loc[4,'model'] = 'LGBMClassifier'\n",
    "total_result.loc[4,'roc_auc_valid'] = lgb_score\n",
    "total_result.loc[4,'recall_valid'] = recall_lgb_valid\n",
    "total_result.loc[4,'precision_valid'] = precision_lgb_valid"
   ]
  },
  {
   "cell_type": "code",
   "execution_count": 40,
   "metadata": {},
   "outputs": [
    {
     "data": {
      "text/html": [
       "<div>\n",
       "<style scoped>\n",
       "    .dataframe tbody tr th:only-of-type {\n",
       "        vertical-align: middle;\n",
       "    }\n",
       "\n",
       "    .dataframe tbody tr th {\n",
       "        vertical-align: top;\n",
       "    }\n",
       "\n",
       "    .dataframe thead th {\n",
       "        text-align: right;\n",
       "    }\n",
       "</style>\n",
       "<table border=\"1\" class=\"dataframe\">\n",
       "  <thead>\n",
       "    <tr style=\"text-align: right;\">\n",
       "      <th></th>\n",
       "      <th>model</th>\n",
       "      <th>roc_auc_valid</th>\n",
       "      <th>recall_valid</th>\n",
       "      <th>precision_valid</th>\n",
       "    </tr>\n",
       "  </thead>\n",
       "  <tbody>\n",
       "    <tr>\n",
       "      <td>0</td>\n",
       "      <td>DecisionTreeClassifier</td>\n",
       "      <td>0.74272</td>\n",
       "      <td>0.75</td>\n",
       "      <td>0.525664</td>\n",
       "    </tr>\n",
       "    <tr>\n",
       "      <td>1</td>\n",
       "      <td>RandomForestClassifier</td>\n",
       "      <td>0.773115</td>\n",
       "      <td>0.775253</td>\n",
       "      <td>0.569573</td>\n",
       "    </tr>\n",
       "    <tr>\n",
       "      <td>2</td>\n",
       "      <td>LogisticRegression</td>\n",
       "      <td>0.749963</td>\n",
       "      <td>0.757576</td>\n",
       "      <td>0.534759</td>\n",
       "    </tr>\n",
       "    <tr>\n",
       "      <td>3</td>\n",
       "      <td>KNeighborsClassifier</td>\n",
       "      <td>0.730082</td>\n",
       "      <td>0.70202</td>\n",
       "      <td>0.531549</td>\n",
       "    </tr>\n",
       "    <tr>\n",
       "      <td>4</td>\n",
       "      <td>LGBMClassifier</td>\n",
       "      <td>0.849327</td>\n",
       "      <td>0.792929</td>\n",
       "      <td>0.545139</td>\n",
       "    </tr>\n",
       "  </tbody>\n",
       "</table>\n",
       "</div>"
      ],
      "text/plain": [
       "                    model roc_auc_valid recall_valid precision_valid\n",
       "0  DecisionTreeClassifier       0.74272         0.75        0.525664\n",
       "1  RandomForestClassifier      0.773115     0.775253        0.569573\n",
       "2      LogisticRegression      0.749963     0.757576        0.534759\n",
       "3    KNeighborsClassifier      0.730082      0.70202        0.531549\n",
       "4          LGBMClassifier      0.849327     0.792929        0.545139"
      ]
     },
     "execution_count": 40,
     "metadata": {},
     "output_type": "execute_result"
    }
   ],
   "source": [
    "total_result"
   ]
  },
  {
   "cell_type": "markdown",
   "metadata": {},
   "source": [
    "гиперпараметры для CatBoostClassifier:"
   ]
  },
  {
   "cell_type": "code",
   "execution_count": 41,
   "metadata": {},
   "outputs": [
    {
     "data": {
      "application/vnd.jupyter.widget-view+json": {
       "model_id": "12f6706d15bd4cf4a47620e51e8fff76",
       "version_major": 2,
       "version_minor": 0
      },
      "text/plain": [
       "MetricVisualizer(layout=Layout(align_self='stretch', height='500px'))"
      ]
     },
     "metadata": {},
     "output_type": "display_data"
    },
    {
     "name": "stdout",
     "output_type": "stream",
     "text": [
      "0:\ttotal: 147ms\tremaining: 2m 27s\n",
      "100:\ttotal: 1.29s\tremaining: 11.5s\n",
      "200:\ttotal: 2.41s\tremaining: 9.58s\n",
      "300:\ttotal: 3.56s\tremaining: 8.27s\n",
      "400:\ttotal: 4.69s\tremaining: 7.01s\n",
      "500:\ttotal: 5.84s\tremaining: 5.82s\n",
      "600:\ttotal: 6.99s\tremaining: 4.64s\n",
      "700:\ttotal: 8.17s\tremaining: 3.49s\n",
      "800:\ttotal: 9.31s\tremaining: 2.31s\n",
      "900:\ttotal: 10.4s\tremaining: 1.15s\n",
      "999:\ttotal: 11.6s\tremaining: 0us\n"
     ]
    }
   ],
   "source": [
    "model_cb_1 = CatBoostClassifier(depth = 10, learning_rate = 0.1, l2_leaf_reg = 1, eval_metric='AUC', random_state=2576)\n",
    "model_cb_1.fit(features_train, target_train, verbose=100, plot=True)\n",
    "\n",
    "probabilities_valid = model_cb_1.predict_proba(features_valid)\n",
    "probabilities_one_valid = probabilities_valid[:, 1]\n",
    "\n",
    "\n",
    "total_result.loc[5,'model'] = 'CatBoostClassifier_1'\n",
    "total_result.loc[5,'roc_auc_valid'] = roc_auc_score(target_valid, probabilities_one_valid)\n",
    "total_result.loc[5,'recall_valid'] = recall_score(target_valid, probabilities_one_valid.round())\n",
    "total_result.loc[5,'precision_valid'] = precision_score(target_valid, probabilities_one_valid.round())"
   ]
  },
  {
   "cell_type": "markdown",
   "metadata": {},
   "source": [
    "Для проверки попробуем CatBoost \"из коробки\":"
   ]
  },
  {
   "cell_type": "code",
   "execution_count": 42,
   "metadata": {},
   "outputs": [
    {
     "data": {
      "application/vnd.jupyter.widget-view+json": {
       "model_id": "86c179e2843047f2a4c0875a36142805",
       "version_major": 2,
       "version_minor": 0
      },
      "text/plain": [
       "MetricVisualizer(layout=Layout(align_self='stretch', height='500px'))"
      ]
     },
     "metadata": {},
     "output_type": "display_data"
    },
    {
     "name": "stdout",
     "output_type": "stream",
     "text": [
      "Learning rate set to 0.022759\n",
      "0:\ttotal: 16.6ms\tremaining: 16.6s\n",
      "100:\ttotal: 255ms\tremaining: 2.27s\n",
      "200:\ttotal: 476ms\tremaining: 1.89s\n",
      "300:\ttotal: 766ms\tremaining: 1.78s\n",
      "400:\ttotal: 1.08s\tremaining: 1.62s\n",
      "500:\ttotal: 1.3s\tremaining: 1.3s\n",
      "600:\ttotal: 1.58s\tremaining: 1.05s\n",
      "700:\ttotal: 1.86s\tremaining: 793ms\n",
      "800:\ttotal: 2.26s\tremaining: 562ms\n",
      "900:\ttotal: 2.51s\tremaining: 276ms\n",
      "999:\ttotal: 2.72s\tremaining: 0us\n"
     ]
    }
   ],
   "source": [
    "model_cb_2 = CatBoostClassifier(eval_metric='AUC')\n",
    "model_cb_2.fit(features_train, target_train, verbose=100, plot=True)\n",
    "\n",
    "probabilities_valid = model_cb_2.predict_proba(features_valid)\n",
    "probabilities_one_valid = probabilities_valid[:, 1]\n",
    "\n",
    "total_result.loc[6,'model'] = 'CatBoostClassifier_2'\n",
    "total_result.loc[6,'roc_auc_valid'] = roc_auc_score(target_valid, probabilities_one_valid)\n",
    "total_result.loc[6,'recall_valid'] = recall_score(target_valid, probabilities_one_valid.round())\n",
    "total_result.loc[6,'precision_valid'] = precision_score(target_valid, probabilities_one_valid.round())"
   ]
  },
  {
   "cell_type": "markdown",
   "metadata": {},
   "source": [
    "<div style=\"background: #cceeaa; padding: 5px; border: 1px solid green; border-radius: 5px;\">\n",
    "    <font color='green'> <b><u>КОММЕНТАРИЙ РЕВЬЮЕРА</u></b>\n",
    "</font>\n",
    "<font color='green'><br>ОК, тут predict_proba() нам и нужен!"
   ]
  },
  {
   "cell_type": "code",
   "execution_count": 43,
   "metadata": {
    "scrolled": true
   },
   "outputs": [
    {
     "data": {
      "text/html": [
       "<div>\n",
       "<style scoped>\n",
       "    .dataframe tbody tr th:only-of-type {\n",
       "        vertical-align: middle;\n",
       "    }\n",
       "\n",
       "    .dataframe tbody tr th {\n",
       "        vertical-align: top;\n",
       "    }\n",
       "\n",
       "    .dataframe thead th {\n",
       "        text-align: right;\n",
       "    }\n",
       "</style>\n",
       "<table border=\"1\" class=\"dataframe\">\n",
       "  <thead>\n",
       "    <tr style=\"text-align: right;\">\n",
       "      <th></th>\n",
       "      <th>model</th>\n",
       "      <th>roc_auc_valid</th>\n",
       "      <th>recall_valid</th>\n",
       "      <th>precision_valid</th>\n",
       "    </tr>\n",
       "  </thead>\n",
       "  <tbody>\n",
       "    <tr>\n",
       "      <td>4</td>\n",
       "      <td>LGBMClassifier</td>\n",
       "      <td>0.849327</td>\n",
       "      <td>0.792929</td>\n",
       "      <td>0.545139</td>\n",
       "    </tr>\n",
       "    <tr>\n",
       "      <td>6</td>\n",
       "      <td>CatBoostClassifier_2</td>\n",
       "      <td>0.836871</td>\n",
       "      <td>0.70202</td>\n",
       "      <td>0.569672</td>\n",
       "    </tr>\n",
       "    <tr>\n",
       "      <td>5</td>\n",
       "      <td>CatBoostClassifier_1</td>\n",
       "      <td>0.80927</td>\n",
       "      <td>0.540404</td>\n",
       "      <td>0.62029</td>\n",
       "    </tr>\n",
       "    <tr>\n",
       "      <td>1</td>\n",
       "      <td>RandomForestClassifier</td>\n",
       "      <td>0.773115</td>\n",
       "      <td>0.775253</td>\n",
       "      <td>0.569573</td>\n",
       "    </tr>\n",
       "    <tr>\n",
       "      <td>2</td>\n",
       "      <td>LogisticRegression</td>\n",
       "      <td>0.749963</td>\n",
       "      <td>0.757576</td>\n",
       "      <td>0.534759</td>\n",
       "    </tr>\n",
       "    <tr>\n",
       "      <td>0</td>\n",
       "      <td>DecisionTreeClassifier</td>\n",
       "      <td>0.74272</td>\n",
       "      <td>0.75</td>\n",
       "      <td>0.525664</td>\n",
       "    </tr>\n",
       "    <tr>\n",
       "      <td>3</td>\n",
       "      <td>KNeighborsClassifier</td>\n",
       "      <td>0.730082</td>\n",
       "      <td>0.70202</td>\n",
       "      <td>0.531549</td>\n",
       "    </tr>\n",
       "  </tbody>\n",
       "</table>\n",
       "</div>"
      ],
      "text/plain": [
       "                    model roc_auc_valid recall_valid precision_valid\n",
       "4          LGBMClassifier      0.849327     0.792929        0.545139\n",
       "6    CatBoostClassifier_2      0.836871      0.70202        0.569672\n",
       "5    CatBoostClassifier_1       0.80927     0.540404         0.62029\n",
       "1  RandomForestClassifier      0.773115     0.775253        0.569573\n",
       "2      LogisticRegression      0.749963     0.757576        0.534759\n",
       "0  DecisionTreeClassifier       0.74272         0.75        0.525664\n",
       "3    KNeighborsClassifier      0.730082      0.70202        0.531549"
      ]
     },
     "execution_count": 43,
     "metadata": {},
     "output_type": "execute_result"
    }
   ],
   "source": [
    "total_result.sort_values(by = 'roc_auc_valid', ascending = False)"
   ]
  },
  {
   "cell_type": "markdown",
   "metadata": {},
   "source": [
    "Наилучшими у нас оказались 3 модели: LGBMClassifier, CatBoostClassifier_2 и CatBoostClassifier_1. Для них посчитаем метрику на тестовой выборке и выберем победителя. Дополнительно посмотрим на accuracy и матрицы ошибок. Кстати, интересно, что CatBoostClassifier с дефолтными настройками показал себя чуть лучше чем тот, для которого гиперпараметры подбирались."
   ]
  },
  {
   "cell_type": "code",
   "execution_count": 44,
   "metadata": {},
   "outputs": [
    {
     "name": "stderr",
     "output_type": "stream",
     "text": [
      "C:\\Users\\Uglev\\anaconda3\\envs\\praktikum\\lib\\site-packages\\lightgbm\\basic.py:2065: UserWarning: Using categorical_feature in Dataset.\n",
      "  _log_warning('Using categorical_feature in Dataset.')\n"
     ]
    },
    {
     "data": {
      "text/plain": [
       "array([[769, 254],\n",
       "       [ 63, 323]], dtype=int64)"
      ]
     },
     "execution_count": 44,
     "metadata": {},
     "output_type": "execute_result"
    }
   ],
   "source": [
    "from sklearn.metrics import accuracy_score\n",
    "from sklearn.metrics import confusion_matrix\n",
    "test_result = pd.DataFrame(columns = ['model', 'roc_auc_test', 'accuracy_test'])\n",
    "\n",
    "model_lgb.fit(features_train, target_train, categorical_feature=cat_features)\n",
    "probabilities_test = model_lgb.predict_proba(features_test)\n",
    "probabilities_one_test = probabilities_test[:, 1]\n",
    "\n",
    "test_result.loc[0,'model'] = 'LGBMClassifier'\n",
    "test_result.loc[0,'roc_auc_test'] = roc_auc_score(target_test, probabilities_one_test)\n",
    "test_result.loc[0,'accuracy_test'] = accuracy_score(target_test, probabilities_one_test.round())\n",
    "\n",
    "confusion_matrix(target_test, probabilities_one_test.round())"
   ]
  },
  {
   "cell_type": "code",
   "execution_count": 45,
   "metadata": {},
   "outputs": [
    {
     "data": {
      "text/plain": [
       "array([[897, 126],\n",
       "       [172, 214]], dtype=int64)"
      ]
     },
     "execution_count": 45,
     "metadata": {},
     "output_type": "execute_result"
    }
   ],
   "source": [
    "probabilities_test = model_cb_1.predict_proba(features_test)\n",
    "probabilities_one_test = probabilities_test[:, 1]\n",
    "\n",
    "test_result.loc[1,'model'] = 'CatBoostClassifier_1'\n",
    "test_result.loc[1,'roc_auc_test'] = roc_auc_score(target_test, probabilities_one_test)\n",
    "test_result.loc[1,'accuracy_test'] = accuracy_score(target_test, probabilities_one_test.round())\n",
    "\n",
    "confusion_matrix(target_test, probabilities_one_test.round())"
   ]
  },
  {
   "cell_type": "code",
   "execution_count": 46,
   "metadata": {},
   "outputs": [
    {
     "data": {
      "text/plain": [
       "array([[812, 211],\n",
       "       [ 97, 289]], dtype=int64)"
      ]
     },
     "execution_count": 46,
     "metadata": {},
     "output_type": "execute_result"
    }
   ],
   "source": [
    "probabilities_test = model_cb_2.predict_proba(features_test)\n",
    "probabilities_one_test = probabilities_test[:, 1]\n",
    "\n",
    "test_result.loc[2,'model'] = 'CatBoostClassifier_2'\n",
    "test_result.loc[2,'roc_auc_test'] = roc_auc_score(target_test, probabilities_one_test)\n",
    "test_result.loc[2,'accuracy_test'] = accuracy_score(target_test, probabilities_one_test.round())\n",
    "\n",
    "confusion_matrix(target_test, probabilities_one_test.round())"
   ]
  },
  {
   "cell_type": "code",
   "execution_count": 47,
   "metadata": {},
   "outputs": [
    {
     "data": {
      "text/html": [
       "<div>\n",
       "<style scoped>\n",
       "    .dataframe tbody tr th:only-of-type {\n",
       "        vertical-align: middle;\n",
       "    }\n",
       "\n",
       "    .dataframe tbody tr th {\n",
       "        vertical-align: top;\n",
       "    }\n",
       "\n",
       "    .dataframe thead th {\n",
       "        text-align: right;\n",
       "    }\n",
       "</style>\n",
       "<table border=\"1\" class=\"dataframe\">\n",
       "  <thead>\n",
       "    <tr style=\"text-align: right;\">\n",
       "      <th></th>\n",
       "      <th>model</th>\n",
       "      <th>roc_auc_test</th>\n",
       "      <th>accuracy_test</th>\n",
       "    </tr>\n",
       "  </thead>\n",
       "  <tbody>\n",
       "    <tr>\n",
       "      <td>0</td>\n",
       "      <td>LGBMClassifier</td>\n",
       "      <td>0.880825</td>\n",
       "      <td>0.775018</td>\n",
       "    </tr>\n",
       "    <tr>\n",
       "      <td>2</td>\n",
       "      <td>CatBoostClassifier_2</td>\n",
       "      <td>0.863169</td>\n",
       "      <td>0.781405</td>\n",
       "    </tr>\n",
       "    <tr>\n",
       "      <td>1</td>\n",
       "      <td>CatBoostClassifier_1</td>\n",
       "      <td>0.837761</td>\n",
       "      <td>0.788502</td>\n",
       "    </tr>\n",
       "  </tbody>\n",
       "</table>\n",
       "</div>"
      ],
      "text/plain": [
       "                  model roc_auc_test accuracy_test\n",
       "0        LGBMClassifier     0.880825      0.775018\n",
       "2  CatBoostClassifier_2     0.863169      0.781405\n",
       "1  CatBoostClassifier_1     0.837761      0.788502"
      ]
     },
     "execution_count": 47,
     "metadata": {},
     "output_type": "execute_result"
    }
   ],
   "source": [
    "test_result.sort_values(by = 'roc_auc_test', ascending = False)"
   ]
  },
  {
   "cell_type": "markdown",
   "metadata": {},
   "source": [
    "Accuracy у LGBMClassifier хуже, чем у представленных трех моделей, но в целом, значение неплохое и не сильно отрывается от остальных моделей. А матрица ошибок у LGBMClassifier показывает, что эта модель - лидер по поиску истинноположительных ответов. Это говорит о том, что она с большей вероятностью по сравнению с остальными моделями найдёт тех клиентов, которые собираются уйти."
   ]
  },
  {
   "cell_type": "code",
   "execution_count": 48,
   "metadata": {},
   "outputs": [
    {
     "data": {
      "text/html": [
       "<div>\n",
       "<style scoped>\n",
       "    .dataframe tbody tr th:only-of-type {\n",
       "        vertical-align: middle;\n",
       "    }\n",
       "\n",
       "    .dataframe tbody tr th {\n",
       "        vertical-align: top;\n",
       "    }\n",
       "\n",
       "    .dataframe thead th {\n",
       "        text-align: right;\n",
       "    }\n",
       "</style>\n",
       "<table border=\"1\" class=\"dataframe\">\n",
       "  <thead>\n",
       "    <tr style=\"text-align: right;\">\n",
       "      <th></th>\n",
       "      <th>model</th>\n",
       "      <th>roc_auc_test</th>\n",
       "      <th>accuracy_test</th>\n",
       "    </tr>\n",
       "  </thead>\n",
       "  <tbody>\n",
       "    <tr>\n",
       "      <td>0</td>\n",
       "      <td>LGBMClassifier</td>\n",
       "      <td>0.880825</td>\n",
       "      <td>0.775018</td>\n",
       "    </tr>\n",
       "  </tbody>\n",
       "</table>\n",
       "</div>"
      ],
      "text/plain": [
       "            model roc_auc_test accuracy_test\n",
       "0  LGBMClassifier     0.880825      0.775018"
      ]
     },
     "execution_count": 48,
     "metadata": {},
     "output_type": "execute_result"
    }
   ],
   "source": [
    "test_result.head(1)"
   ]
  },
  {
   "cell_type": "markdown",
   "metadata": {},
   "source": [
    "<b>Вывод.</b> А вот и ответ. Моей итоговой моделью является LGBMClassifier с указанными значениями метрик. Также, обращаю внимание на злую шутку, а именно, на важность не только подбора значений гиперпараметров, но и определение, какие из них оказывают наибольшее влияние на модель. Некоторые работают неплохо \"из коробки\"."
   ]
  },
  {
   "cell_type": "markdown",
   "metadata": {},
   "source": [
    "<div style=\"background: #cceeaa; padding: 5px; border: 1px solid green; border-radius: 5px;\">\n",
    "    <font color='green'> <b><u>КОММЕНТАРИЙ РЕВЬЮЕРА</u></b>\n",
    "</font>\n",
    "<font color='green'><br>\n",
    "ОК, Семён, скажу, что уверенная работа, на мой взгляд)<br>\n",
    "Обработка данных, размышления над факторами, многогранная модельная работа, конечные результаты - многое удалось как надо<br> \n",
    "А что совсем хорошо, так это то, что не стал гнаться за точностью любой ценой, даже ценой наружения бизнес-логики. (это я про даты-признаки, многие их вставляют...)<br>\n",
    "\n",
    "Прежде, чем идти дальше, напомню из прошлых наших общений основные моменты, которые бы мне хотелось зафиксировать, как важные для момделирования (что-то ты и так хорошо используешь):<br>   \n",
    "1) F1, Акураси и AUC - отличные метрики, но нужно держать в голове, что это лишь бобщённые характеристики. А в реальной практике бизнесу часто важно знать детали самой ошибки - из каких ошибок/успехов она складывается. И в этом случае очень кстати будут меры полноты и точности. Рассмотри возможность их использования для своих проектов. Только через них можно выйти на финансовые возможности модели. Ведь перед запуском её в бой, будет сравнение стоимости создания и поддержки модели со стомостью \"оставить как есть\" \n",
    "    \n",
    "2) При анализе факторов влияния (их зависиомть между собой и на целевую) происходит по одному из трёх алгоритмов, исходя из типа шкалы. Могут применять следующие графический и аналитический анализы:<br>\n",
    "- колличественная-колличественная: аналитически методод - корреляции, графический - скатерплот.<br>\n",
    "- колличественная-номинальная: аналитически методод - проверка гипотез (стьюдент, маннауитни), графический - боксплот.<br>\n",
    "- номинальная-номинальная: аналитически методод - Хи-квадрат, графический - круговая диаграмма<br>\n",
    "Это я к тому разделу, который посвящён анализу данных. Там ты сделал интересные предположения и чтобы их доказать, стои проверить аналитически. Вот как раз те методы проверки гипотез, что выше написал.<br>\n",
    "    \n",
    "3) Алгоритм нахождения модели может быть таким:<br>\n",
    "- изучаем проблематику бизнеса и самой темы (в данном случае отток). Пытаемся понять суть явления.<br>\n",
    "- генерируем разные факторы влияния - любые.<br>\n",
    "- дизайнируем (прикидываем модели) какие методы решения есть, чтобы решить проблему.<br>\n",
    "- Смотрим, какие данные и в какой шкале есть. Что нужно ещё, что применить выбранный метод.<br>\n",
    "- Оцениваем мультиколлинеарность.<br>\n",
    "- строим модели и анализируем те фактры, какие сгенерировали ранее.<br>\n",
    "- Думаем над тем, какие причины (факторы) могут ещё влиять на отток.<br>\n",
    "- если после нескольких итераций точность \"замирает\" - значит достигли потолка)<br>\n",
    " \n",
    "4) Проведение анализа важности факторов с помощью команды feature_importances_ (+графический анализ). Отличная вещь намечается: высока я метрика + график рейтинаг факторов по силе влияния на целевой признак). Важнейшая часть любого модельного финала. Если видно, что часть факторов - слабозначимые для модели. Т.е. не значительно влияют на целевую переменную, то их смело можно убирать из модели. Ну и для бизнеса доносить: так мол и так - на эти факторы надо обращать внимание, а эти не влияют на уход клиента.\n",
    "\n",
    "<font color='red'>\n",
    "Есть пару-тройку не ошибок, а вопросов для дополнений:<br>\n",
    "1)При моделировании существует проблематика мультиколлинеарности.(когда количественные факторы имеют сильную корреляцию друг с другом - больше 0.8).Есть ли она у нас?  Если есть - надо  решать по понятиям:) (удалить лишнее). У тебя есть тепловая карта Там я оставил ещё комментарий.<br><br>\n",
    "2) Будет здорово, если построишь график важности факторов<br>\n",
    "<font color='green'>\n",
    "Однозначно видно, что ты технически сделал хорошую работу.<br>\n",
    "Просто эти два пункта - важный момент в алгоритме моделирования. И хотелось, чтобы они у тебя остались в финале.<br>\n",
    "\n",
    "Спасибо)<br>\n",
    "БУДУ ЖДАТЬ КОММЕНТАРИЕВ."
   ]
  },
  {
   "cell_type": "markdown",
   "metadata": {},
   "source": [
    "<div class='alert alert-info'>День добрый! Интересные замечания! По feature importance понял, график важности построил для леса - см. мой комментарий.\n",
    "Про мультиколлинеарность - да, помню. На консультации Александр нам говорил считать коллинеарными признаки, у которых корреляция в районе 0.90-0.95 (и выше). Для этого вроде помогает heatmap, внутрь вызова надо засунуть вычисление корреляции признаков.\n",
    "P.S. Твои пути восстановил для удобства. ) </div>"
   ]
  },
  {
   "cell_type": "markdown",
   "metadata": {},
   "source": [
    "<div style=\"background: #cceeaa; padding: 5px; border: 1px solid green; border-radius: 5px;\">\n",
    "    <font color='green'> <b><u>КОММЕНТАРИЙ РЕВЬЮЕРА 2</u></b>\n",
    "</font>\n",
    "<font color='green'><br>\n",
    "Привет, Семён! ОК, спасибо) С важностью - увидел (но лучше его оформлять чуть призентабельнее - это один из ключевых будет графиков при общении с клиентов на бизнес-темы)).<br> C мультиколлинеарностью - ОК (Спирмен/Пирсон - только для количественных шкал)<br>\n",
    "ОК, в общем-то всё)<br>\n",
    "Спасибо за этот труд и за совместную работу на других проектах)<br>\n",
    "Искренне желаю покорить ещё не один аналитический Эверест)<br>"
   ]
  },
  {
   "cell_type": "markdown",
   "metadata": {},
   "source": [
    "В конце Jupyter Notebook с кодом решения задачи напишите отчёт. Его проверит тимлид, а к коду обратится в случае возникновения спорных моментов.\n",
    "В отчёте ответьте на вопросы:\n",
    "\n",
    "    Какие пункты плана были выполнены, а какие — нет (поясните почему)?\n",
    "    Какие трудности возникли и как вы их преодолели?\n",
    "    Какие ключевые шаги в решении задачи выделили?\n",
    "    Какая ваша итоговая модель и какое у неё качество?\n",
    "\n",
    "На что обращает внимание тимлид, проверяя проект:\n",
    "\n",
    "    Ответили на все вопросы или нет?\n",
    "    Понятны ли ответы на вопросы?"
   ]
  },
  {
   "cell_type": "markdown",
   "metadata": {},
   "source": [
    "# Ответы на вопросы"
   ]
  },
  {
   "cell_type": "markdown",
   "metadata": {},
   "source": [
    "1. Были выполнены все пункты плана,\n",
    "2. Трудности были, как и неожиданности - например, оказалось, что важен не только подбор значений гиперпараметров, но и определение, какие из них оказывают наибольшее влияние на модель (из коробки может работать лучше). Ещё можно выделить оценку мультиколлинеарности и график важности факторов (буду теперь знать),\n",
    "3. Ключевые шаги - подготовка данных, моделирование, исследование, вывод,\n",
    "4. Моей итоговой моделью является LGBMClassifier, значение roc_auc 0.880825, accuracy 0.775018."
   ]
  },
  {
   "cell_type": "markdown",
   "metadata": {},
   "source": [
    "<div class='alert alert-success'>\n",
    "Отличная работа, поздравляю с завершением проекта. Чуть позже еще вернусь с индивидуальной обратной связью в лс слака."
   ]
  },
  {
   "cell_type": "code",
   "execution_count": null,
   "metadata": {},
   "outputs": [],
   "source": []
  }
 ],
 "metadata": {
  "ExecuteTimeLog": [
   {
    "duration": 103,
    "start_time": "2021-12-15T20:21:00.630Z"
   },
   {
    "duration": 103,
    "start_time": "2021-12-17T17:04:45.860Z"
   },
   {
    "duration": 136033,
    "start_time": "2021-12-17T22:16:26.786Z"
   },
   {
    "duration": 98,
    "start_time": "2021-12-17T22:19:09.458Z"
   },
   {
    "duration": 7,
    "start_time": "2021-12-17T22:19:12.660Z"
   },
   {
    "duration": 11,
    "start_time": "2021-12-17T22:19:13.145Z"
   },
   {
    "duration": 8,
    "start_time": "2021-12-17T22:19:13.280Z"
   },
   {
    "duration": 10,
    "start_time": "2021-12-17T22:19:13.502Z"
   },
   {
    "duration": 9,
    "start_time": "2021-12-17T22:19:13.678Z"
   },
   {
    "duration": 9,
    "start_time": "2021-12-17T22:19:13.862Z"
   },
   {
    "duration": 8,
    "start_time": "2021-12-17T22:19:14.041Z"
   },
   {
    "duration": 9,
    "start_time": "2021-12-17T22:19:14.500Z"
   },
   {
    "duration": 8,
    "start_time": "2021-12-17T22:19:16.372Z"
   },
   {
    "duration": 17,
    "start_time": "2021-12-17T22:19:17.777Z"
   },
   {
    "duration": 8,
    "start_time": "2021-12-17T22:19:33.757Z"
   },
   {
    "duration": 11,
    "start_time": "2021-12-17T22:19:35.818Z"
   },
   {
    "duration": 21,
    "start_time": "2021-12-17T22:19:36.667Z"
   },
   {
    "duration": 11,
    "start_time": "2021-12-17T22:19:37.559Z"
   },
   {
    "duration": 8,
    "start_time": "2021-12-17T22:20:41.554Z"
   },
   {
    "duration": 25,
    "start_time": "2021-12-17T22:20:43.629Z"
   },
   {
    "duration": 9,
    "start_time": "2021-12-17T22:20:48.603Z"
   },
   {
    "duration": 27,
    "start_time": "2021-12-17T22:21:11.931Z"
   },
   {
    "duration": 13,
    "start_time": "2021-12-17T22:21:12.503Z"
   },
   {
    "duration": 275,
    "start_time": "2021-12-17T22:21:29.234Z"
   },
   {
    "duration": 200,
    "start_time": "2021-12-17T22:21:33.386Z"
   },
   {
    "duration": 456,
    "start_time": "2021-12-17T22:21:35.020Z"
   },
   {
    "duration": 266,
    "start_time": "2021-12-17T22:21:35.478Z"
   },
   {
    "duration": 322,
    "start_time": "2021-12-17T22:21:35.920Z"
   },
   {
    "duration": 33,
    "start_time": "2021-12-17T22:23:52.045Z"
   },
   {
    "duration": 1065,
    "start_time": "2021-12-17T22:23:53.926Z"
   },
   {
    "duration": 13,
    "start_time": "2021-12-17T22:24:50.620Z"
   },
   {
    "duration": 1338,
    "start_time": "2021-12-18T12:28:18.960Z"
   },
   {
    "duration": 97,
    "start_time": "2021-12-18T12:28:26.813Z"
   },
   {
    "duration": 7,
    "start_time": "2021-12-18T12:28:27.661Z"
   },
   {
    "duration": 11,
    "start_time": "2021-12-18T12:28:27.833Z"
   },
   {
    "duration": 9,
    "start_time": "2021-12-18T12:28:28.000Z"
   },
   {
    "duration": 10,
    "start_time": "2021-12-18T12:28:28.174Z"
   },
   {
    "duration": 8,
    "start_time": "2021-12-18T12:28:28.369Z"
   },
   {
    "duration": 8,
    "start_time": "2021-12-18T12:28:28.530Z"
   },
   {
    "duration": 8,
    "start_time": "2021-12-18T12:28:28.695Z"
   },
   {
    "duration": 10,
    "start_time": "2021-12-18T12:28:28.873Z"
   },
   {
    "duration": 9,
    "start_time": "2021-12-18T12:28:30.249Z"
   },
   {
    "duration": 17,
    "start_time": "2021-12-18T12:28:30.595Z"
   },
   {
    "duration": 9,
    "start_time": "2021-12-18T12:28:31.117Z"
   },
   {
    "duration": 11,
    "start_time": "2021-12-18T12:28:31.455Z"
   },
   {
    "duration": 20,
    "start_time": "2021-12-18T12:28:31.798Z"
   },
   {
    "duration": 12,
    "start_time": "2021-12-18T12:28:32.130Z"
   },
   {
    "duration": 8,
    "start_time": "2021-12-18T12:28:32.770Z"
   },
   {
    "duration": 26,
    "start_time": "2021-12-18T12:28:33.308Z"
   },
   {
    "duration": 11,
    "start_time": "2021-12-18T12:28:33.656Z"
   },
   {
    "duration": 28,
    "start_time": "2021-12-18T12:28:34.550Z"
   },
   {
    "duration": 15,
    "start_time": "2021-12-18T12:28:34.732Z"
   },
   {
    "duration": 167,
    "start_time": "2021-12-18T12:28:35.327Z"
   },
   {
    "duration": 226,
    "start_time": "2021-12-18T12:28:35.739Z"
   },
   {
    "duration": 469,
    "start_time": "2021-12-18T12:28:35.968Z"
   },
   {
    "duration": 502,
    "start_time": "2021-12-18T12:28:36.439Z"
   },
   {
    "duration": 308,
    "start_time": "2021-12-18T12:28:36.943Z"
   },
   {
    "duration": 37,
    "start_time": "2021-12-18T12:28:40.002Z"
   },
   {
    "duration": 1112,
    "start_time": "2021-12-18T12:28:40.920Z"
   },
   {
    "duration": 13,
    "start_time": "2021-12-18T12:28:44.058Z"
   },
   {
    "duration": 13,
    "start_time": "2021-12-18T12:28:45.236Z"
   },
   {
    "duration": 7,
    "start_time": "2021-12-18T12:28:46.994Z"
   },
   {
    "duration": 307,
    "start_time": "2021-12-18T12:33:12.987Z"
   },
   {
    "duration": 1275,
    "start_time": "2021-12-18T12:33:22.828Z"
   },
   {
    "duration": 98,
    "start_time": "2021-12-18T12:33:29.374Z"
   },
   {
    "duration": 7,
    "start_time": "2021-12-18T12:33:29.756Z"
   },
   {
    "duration": 10,
    "start_time": "2021-12-18T12:33:29.905Z"
   },
   {
    "duration": 13,
    "start_time": "2021-12-18T12:33:30.054Z"
   },
   {
    "duration": 11,
    "start_time": "2021-12-18T12:33:30.240Z"
   },
   {
    "duration": 8,
    "start_time": "2021-12-18T12:33:30.387Z"
   },
   {
    "duration": 9,
    "start_time": "2021-12-18T12:33:30.545Z"
   },
   {
    "duration": 7,
    "start_time": "2021-12-18T12:33:30.711Z"
   },
   {
    "duration": 9,
    "start_time": "2021-12-18T12:33:30.854Z"
   },
   {
    "duration": 9,
    "start_time": "2021-12-18T12:33:31.469Z"
   },
   {
    "duration": 16,
    "start_time": "2021-12-18T12:33:31.747Z"
   },
   {
    "duration": 8,
    "start_time": "2021-12-18T12:33:32.197Z"
   },
   {
    "duration": 10,
    "start_time": "2021-12-18T12:33:32.458Z"
   },
   {
    "duration": 22,
    "start_time": "2021-12-18T12:33:32.768Z"
   },
   {
    "duration": 12,
    "start_time": "2021-12-18T12:33:33.045Z"
   },
   {
    "duration": 8,
    "start_time": "2021-12-18T12:33:33.360Z"
   },
   {
    "duration": 27,
    "start_time": "2021-12-18T12:33:33.645Z"
   },
   {
    "duration": 9,
    "start_time": "2021-12-18T12:33:33.960Z"
   },
   {
    "duration": 26,
    "start_time": "2021-12-18T12:33:34.408Z"
   },
   {
    "duration": 14,
    "start_time": "2021-12-18T12:33:34.547Z"
   },
   {
    "duration": 201,
    "start_time": "2021-12-18T12:33:34.865Z"
   },
   {
    "duration": 197,
    "start_time": "2021-12-18T12:33:35.068Z"
   },
   {
    "duration": 458,
    "start_time": "2021-12-18T12:33:35.267Z"
   },
   {
    "duration": 258,
    "start_time": "2021-12-18T12:33:35.727Z"
   },
   {
    "duration": 307,
    "start_time": "2021-12-18T12:33:35.987Z"
   },
   {
    "duration": 32,
    "start_time": "2021-12-18T12:33:38.639Z"
   },
   {
    "duration": 1075,
    "start_time": "2021-12-18T12:33:39.192Z"
   },
   {
    "duration": 11,
    "start_time": "2021-12-18T12:33:41.322Z"
   },
   {
    "duration": 12,
    "start_time": "2021-12-18T12:33:42.175Z"
   },
   {
    "duration": 7,
    "start_time": "2021-12-18T12:33:43.385Z"
   },
   {
    "duration": 834,
    "start_time": "2021-12-18T12:33:44.320Z"
   },
   {
    "duration": 7985,
    "start_time": "2021-12-18T12:33:49.882Z"
   },
   {
    "duration": 422,
    "start_time": "2021-12-18T12:34:01.321Z"
   },
   {
    "duration": 237,
    "start_time": "2021-12-18T12:34:07.538Z"
   },
   {
    "duration": 5268,
    "start_time": "2021-12-18T12:34:12.875Z"
   },
   {
    "duration": 3,
    "start_time": "2021-12-18T12:34:18.145Z"
   },
   {
    "duration": 74688,
    "start_time": "2021-12-18T12:34:34.829Z"
   },
   {
    "duration": 37580,
    "start_time": "2021-12-18T12:39:31.122Z"
   },
   {
    "duration": 8,
    "start_time": "2021-12-18T12:40:08.704Z"
   },
   {
    "duration": 337,
    "start_time": "2021-12-18T12:40:08.715Z"
   },
   {
    "duration": 542,
    "start_time": "2021-12-18T12:40:08.512Z"
   },
   {
    "duration": 523,
    "start_time": "2021-12-18T12:40:08.532Z"
   },
   {
    "duration": 519,
    "start_time": "2021-12-18T12:40:08.538Z"
   },
   {
    "duration": 27,
    "start_time": "2021-12-18T12:41:51.541Z"
   },
   {
    "duration": 25,
    "start_time": "2021-12-18T12:41:52.556Z"
   },
   {
    "duration": 8,
    "start_time": "2021-12-18T12:41:55.099Z"
   },
   {
    "duration": 7,
    "start_time": "2021-12-18T12:41:58.830Z"
   },
   {
    "duration": 83,
    "start_time": "2021-12-19T09:21:43.184Z"
   }
  ],
  "kernelspec": {
   "display_name": "Python 3",
   "language": "python",
   "name": "python3"
  },
  "language_info": {
   "codemirror_mode": {
    "name": "ipython",
    "version": 3
   },
   "file_extension": ".py",
   "mimetype": "text/x-python",
   "name": "python",
   "nbconvert_exporter": "python",
   "pygments_lexer": "ipython3",
   "version": "3.7.8"
  },
  "toc": {
   "base_numbering": 1,
   "nav_menu": {},
   "number_sections": true,
   "sideBar": true,
   "skip_h1_title": true,
   "title_cell": "Table of Contents",
   "title_sidebar": "Contents",
   "toc_cell": false,
   "toc_position": {},
   "toc_section_display": true,
   "toc_window_display": false
  }
 },
 "nbformat": 4,
 "nbformat_minor": 5
}
