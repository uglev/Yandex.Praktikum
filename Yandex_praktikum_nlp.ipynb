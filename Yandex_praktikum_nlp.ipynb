{
  "nbformat": 4,
  "nbformat_minor": 0,
  "metadata": {
    "colab": {
      "name": "Yandex-praktikum-nlp.ipynb",
      "provenance": [],
      "toc_visible": true,
      "machine_shape": "hm"
    },
    "kernelspec": {
      "name": "python3",
      "display_name": "Python 3"
    },
    "accelerator": "GPU"
  },
  "cells": [
    {
      "cell_type": "markdown",
      "metadata": {
        "id": "B5G8vk3EAqPV"
      },
      "source": [
        "# CatBoost и Bert\n",
        "Загрузим файл с данными из яндекс практикума\n",
        "\n",
        "Попробуем CatBoost и Bert в GPU режиме\n"
      ]
    },
    {
      "cell_type": "code",
      "metadata": {
        "id": "nnxgxdCDRTKv"
      },
      "source": [
        "%%bash\n",
        "pip -q install transformers\n",
        "pip -q install catboost"
      ],
      "execution_count": null,
      "outputs": []
    },
    {
      "cell_type": "code",
      "metadata": {
        "id": "XMeXtcdjKuyU",
        "colab": {
          "base_uri": "https://localhost:8080/",
          "height": 55
        },
        "outputId": "9a47942e-e8f9-4e2d-8054-460b7bd454c0"
      },
      "source": [
        "from google.colab import drive\n",
        "drive.mount('/content/drive')"
      ],
      "execution_count": null,
      "outputs": [
        {
          "output_type": "stream",
          "text": [
            "Drive already mounted at /content/drive; to attempt to forcibly remount, call drive.mount(\"/content/drive\", force_remount=True).\n"
          ],
          "name": "stdout"
        }
      ]
    },
    {
      "cell_type": "code",
      "metadata": {
        "id": "3CSoBK6kQVIG"
      },
      "source": [
        "import os\n",
        "\n",
        "#import warnings\n",
        "#warnings.filterwarnings('ignore')\n",
        "\n",
        "import pandas as pd\n",
        "import numpy as np\n",
        "\n",
        "from joblib import dump, load\n",
        "\n",
        "from sklearn.linear_model import LogisticRegression\n",
        "from sklearn.metrics import f1_score\n",
        "from sklearn.model_selection import train_test_split\n",
        "\n",
        "from tqdm import tqdm\n",
        "\n",
        "from catboost import Pool, CatBoostClassifier\n",
        "\n",
        "import torch\n",
        "from transformers import BertTokenizer, BertModel, BertForMaskedLM\n",
        "\n",
        "PATH = '/content/drive/My Drive/Colab Notebooks/data/'\n",
        "SEED = 21"
      ],
      "execution_count": null,
      "outputs": []
    },
    {
      "cell_type": "code",
      "metadata": {
        "id": "hbKDQaiVQiZL",
        "colab": {
          "base_uri": "https://localhost:8080/",
          "height": 35
        },
        "outputId": "3db95d77-00ca-4372-a3aa-65bb0ea6829c"
      },
      "source": [
        "data = load(os.path.join(PATH, 'toxic_comments_ready'))\n",
        "data.shape"
      ],
      "execution_count": null,
      "outputs": [
        {
          "output_type": "execute_result",
          "data": {
            "text/plain": [
              "(159571, 11)"
            ]
          },
          "metadata": {
            "tags": []
          },
          "execution_count": 29
        }
      ]
    },
    {
      "cell_type": "code",
      "metadata": {
        "id": "ndlUh3ZUdv1F",
        "colab": {
          "base_uri": "https://localhost:8080/",
          "height": 121
        },
        "outputId": "73603ff6-287d-4241-8ff6-e877fe5b8a5a"
      },
      "source": [
        "X = data.drop(columns=['toxic'])\n",
        "y = data['toxic']\n",
        "\n",
        "X_train, X_test, y_train, y_test = train_test_split(X, y,\n",
        "                                                    shuffle=True,\n",
        "                                                    test_size=0.2,\n",
        "                                                    random_state=SEED)\n",
        "X_train_valid, X_valid, y_train_valid, y_valid = train_test_split(X_train, y_train,\n",
        "                                                                 shuffle=True,\n",
        "                                                                 test_size=0.2,\n",
        "                                                                 random_state=SEED)\n",
        "print('Train_valid shapes:')\n",
        "print(X_train_valid.shape, y_train_valid.shape)\n",
        "print('Valid shapes:')\n",
        "print(X_valid.shape, y_valid.shape)\n",
        "print('Test shapes:')\n",
        "print(X_test.shape, y_test.shape)"
      ],
      "execution_count": null,
      "outputs": [
        {
          "output_type": "stream",
          "text": [
            "Train_valid shapes:\n",
            "(102124, 10) (102124,)\n",
            "Valid shapes:\n",
            "(25532, 10) (25532,)\n",
            "Test shapes:\n",
            "(31915, 10) (31915,)\n"
          ],
          "name": "stdout"
        }
      ]
    },
    {
      "cell_type": "markdown",
      "metadata": {
        "id": "WKlhlH9qLC2w"
      },
      "source": [
        "##CatBoost"
      ]
    },
    {
      "cell_type": "code",
      "metadata": {
        "id": "_W2my8O0Ho9n"
      },
      "source": [
        "meta_features = ['word_count', 'unique_word_count', 'stop_word_count', 'url_count', 'mean_word_length',\n",
        "                'char_count', 'punctuation_count']\n",
        "\n",
        "learn_pool = Pool(\n",
        "    X_train_valid[meta_features+['text_lemma']], \n",
        "    y_train_valid, \n",
        "    text_features=['text_lemma'],\n",
        ")\n",
        "test_pool = Pool(\n",
        "    X_valid[meta_features+['text_lemma']], \n",
        "    y_valid,\n",
        "    text_features=['text_lemma'],\n",
        ")\n",
        "\n",
        "ctb = CatBoostClassifier(iterations=1000,\n",
        "                         random_seed=SEED,\n",
        "                         eval_metric='F1',\n",
        "                         task_type='GPU',\n",
        "                         od_type='Iter',\n",
        "                         early_stopping_rounds=100)"
      ],
      "execution_count": null,
      "outputs": []
    },
    {
      "cell_type": "code",
      "metadata": {
        "id": "2Pl6tZ43INIi",
        "colab": {
          "base_uri": "https://localhost:8080/",
          "height": 295
        },
        "outputId": "e00e1d71-bbd0-40e8-b9a1-1c97270b20a7"
      },
      "source": [
        "ctb.fit(learn_pool, eval_set=test_pool, verbose=100)"
      ],
      "execution_count": null,
      "outputs": [
        {
          "output_type": "stream",
          "text": [
            "Learning rate set to 0.048056\n",
            "0:\tlearn: 0.6840574\ttest: 0.7211256\tbest: 0.7211256 (0)\ttotal: 27.7ms\tremaining: 27.7s\n",
            "100:\tlearn: 0.7273732\ttest: 0.7441558\tbest: 0.7445887 (99)\ttotal: 2.32s\tremaining: 20.6s\n",
            "200:\tlearn: 0.7452300\ttest: 0.7565124\tbest: 0.7565124 (192)\ttotal: 4.49s\tremaining: 17.8s\n",
            "300:\tlearn: 0.7532610\ttest: 0.7611684\tbest: 0.7618639 (281)\ttotal: 6.62s\tremaining: 15.4s\n",
            "400:\tlearn: 0.7595773\ttest: 0.7644788\tbest: 0.7651093 (394)\ttotal: 8.61s\tremaining: 12.9s\n",
            "500:\tlearn: 0.7642178\ttest: 0.7662671\tbest: 0.7666952 (495)\ttotal: 10.5s\tremaining: 10.5s\n",
            "600:\tlearn: 0.7679903\ttest: 0.7677199\tbest: 0.7679487 (597)\ttotal: 12.5s\tremaining: 8.31s\n",
            "700:\tlearn: 0.7714489\ttest: 0.7693621\tbest: 0.7701493 (684)\ttotal: 14.5s\tremaining: 6.17s\n",
            "800:\tlearn: 0.7737378\ttest: 0.7715260\tbest: 0.7716905 (799)\ttotal: 16.4s\tremaining: 4.07s\n",
            "900:\tlearn: 0.7763251\ttest: 0.7720494\tbest: 0.7723785 (870)\ttotal: 18.3s\tremaining: 2.01s\n",
            "999:\tlearn: 0.7784942\ttest: 0.7720119\tbest: 0.7726983 (990)\ttotal: 20.1s\tremaining: 0us\n",
            "bestTest = 0.7726982777\n",
            "bestIteration = 990\n",
            "Shrink model to first 991 iterations.\n"
          ],
          "name": "stdout"
        },
        {
          "output_type": "execute_result",
          "data": {
            "text/plain": [
              "<catboost.core.CatBoostClassifier at 0x7f332f3f6048>"
            ]
          },
          "metadata": {
            "tags": []
          },
          "execution_count": 32
        }
      ]
    },
    {
      "cell_type": "code",
      "metadata": {
        "id": "UjabYgU0IrSH",
        "colab": {
          "base_uri": "https://localhost:8080/",
          "height": 35
        },
        "outputId": "37cf88e6-a538-4dd3-c5a3-e9cd39f15c38"
      },
      "source": [
        "y_pred_valid = ctb.predict(X_valid[meta_features+['text_lemma']])\n",
        "\n",
        "dump(ctb.predict_proba(X_valid[meta_features+['text_lemma']]),\n",
        "     os.path.join(PATH, 'ctb_predict_valid'))\n",
        "\n",
        "f1_score(y_valid, y_pred_valid)"
      ],
      "execution_count": null,
      "outputs": [
        {
          "output_type": "execute_result",
          "data": {
            "text/plain": [
              "0.7726982776950883"
            ]
          },
          "metadata": {
            "tags": []
          },
          "execution_count": 33
        }
      ]
    },
    {
      "cell_type": "markdown",
      "metadata": {
        "id": "O-YLIfO8Lctz"
      },
      "source": [
        "Получили скор чуть меньше чем Tf-idf + Logit с тюннгом гиперпараметров"
      ]
    },
    {
      "cell_type": "markdown",
      "metadata": {
        "id": "G6bbmJQkLo4C"
      },
      "source": [
        "##Bert"
      ]
    },
    {
      "cell_type": "code",
      "metadata": {
        "id": "wDKgoa-aTclz"
      },
      "source": [
        "model = BertModel.from_pretrained('bert-base-uncased')\n",
        "model.eval();\n",
        "\n",
        "tokenizer = BertTokenizer.from_pretrained('bert-base-uncased')"
      ],
      "execution_count": null,
      "outputs": []
    },
    {
      "cell_type": "code",
      "metadata": {
        "id": "tfQLGlmNTmZ6",
        "colab": {
          "base_uri": "https://localhost:8080/",
          "height": 52
        },
        "outputId": "e0e28100-2fb3-4de8-e81c-99640aec2b86"
      },
      "source": [
        "%%time\n",
        "#tqdm.pandas()\n",
        "tokenized = data['text_clean'].apply(lambda x: tokenizer.encode(x, add_special_tokens=True, max_length=512))"
      ],
      "execution_count": null,
      "outputs": [
        {
          "output_type": "stream",
          "text": [
            "CPU times: user 4min 1s, sys: 250 ms, total: 4min 2s\n",
            "Wall time: 4min 2s\n"
          ],
          "name": "stdout"
        }
      ]
    },
    {
      "cell_type": "code",
      "metadata": {
        "id": "0jfua6G9UR9m",
        "colab": {
          "base_uri": "https://localhost:8080/",
          "height": 35
        },
        "outputId": "d5513dfc-fa80-4108-ccc1-f797764126fd"
      },
      "source": [
        "max_len = 0\n",
        "for i in tokenized.values:\n",
        "    if len(i) > max_len:\n",
        "        max_len = len(i)\n",
        "        \n",
        "max_len"
      ],
      "execution_count": null,
      "outputs": [
        {
          "output_type": "execute_result",
          "data": {
            "text/plain": [
              "512"
            ]
          },
          "metadata": {
            "tags": []
          },
          "execution_count": 36
        }
      ]
    },
    {
      "cell_type": "code",
      "metadata": {
        "id": "2hlx7PJGUXUf",
        "colab": {
          "base_uri": "https://localhost:8080/",
          "height": 35
        },
        "outputId": "73178081-2fa4-444b-ecb2-8a6dc3f06df7"
      },
      "source": [
        "padded = np.array([i + [0]*(max_len - len(i)) for i in tokenized.values])\n",
        "padded.shape"
      ],
      "execution_count": null,
      "outputs": [
        {
          "output_type": "execute_result",
          "data": {
            "text/plain": [
              "(159571, 512)"
            ]
          },
          "metadata": {
            "tags": []
          },
          "execution_count": 37
        }
      ]
    },
    {
      "cell_type": "code",
      "metadata": {
        "id": "a1lQ1bGaUaXK",
        "colab": {
          "base_uri": "https://localhost:8080/",
          "height": 35
        },
        "outputId": "a7c60e76-486e-497a-8b2f-e38edc121551"
      },
      "source": [
        "attention_mask = np.where(padded != 0, 1, 0)\n",
        "attention_mask.shape"
      ],
      "execution_count": null,
      "outputs": [
        {
          "output_type": "execute_result",
          "data": {
            "text/plain": [
              "(159571, 512)"
            ]
          },
          "metadata": {
            "tags": []
          },
          "execution_count": 38
        }
      ]
    },
    {
      "cell_type": "code",
      "metadata": {
        "id": "hbxQ3f6uUbzk",
        "colab": {
          "base_uri": "https://localhost:8080/",
          "height": 375
        },
        "outputId": "b269b099-2613-4f42-bba3-313dcf0d5e2e"
      },
      "source": [
        "batch_size = 32\n",
        "embeddings = []\n",
        "\n",
        "for i in tqdm(range(padded.shape[0] // batch_size)):\n",
        "        batch = torch.LongTensor(padded[batch_size*i:batch_size*(i+1)]) \n",
        "        attention_mask_batch = torch.LongTensor(attention_mask[batch_size*i:batch_size*(i+1)])\n",
        "        \n",
        "        batch = batch.to('cuda')\n",
        "        attention_mask_batch = attention_mask_batch.to('cuda')\n",
        "        model.to('cuda')\n",
        "\n",
        "        with torch.no_grad():\n",
        "            batch_embeddings = model(batch, attention_mask=attention_mask_batch)\n",
        "        \n",
        "        embeddings.append(batch_embeddings[0][:,0,:].cpu().numpy())\n",
        "       \n",
        "#добавим остаток который не попал в батчи:\n",
        "last_batch_idx = (padded.shape[0] // batch_size) * batch_size\n",
        "rest_idx = list(range(last_batch_idx, padded.shape[0]))\n",
        "\n",
        "batch = torch.LongTensor(padded[rest_idx]) \n",
        "attention_mask_batch = torch.LongTensor(attention_mask[rest_idx])\n",
        "        \n",
        "batch = batch.to('cuda')\n",
        "attention_mask_batch = attention_mask_batch.to('cuda')\n",
        "model.to('cuda')\n",
        "\n",
        "with torch.no_grad():\n",
        "    batch_embeddings = model(batch, attention_mask=attention_mask_batch)\n",
        "        \n",
        "embeddings.append(batch_embeddings[0][:,0,:].cpu().numpy())\n",
        "\n",
        "dump(np.concatenate(embeddings), os.path.join(PATH, 'embeds'))"
      ],
      "execution_count": null,
      "outputs": [
        {
          "output_type": "stream",
          "text": [
            "\n",
            "  0%|          | 0/4986 [00:00<?, ?it/s]\u001b[A\n",
            "  0%|          | 1/4986 [00:02<3:03:20,  2.21s/it]\u001b[A\n",
            "  0%|          | 2/4986 [00:04<2:55:52,  2.12s/it]\u001b[A\n",
            "  0%|          | 3/4986 [00:06<2:51:08,  2.06s/it]\u001b[A\n",
            "  0%|          | 4/4986 [00:07<2:47:22,  2.02s/it]\u001b[A\n",
            "  0%|          | 5/4986 [00:09<2:44:52,  1.99s/it]\u001b[A\n",
            "  0%|          | 6/4986 [00:11<2:43:26,  1.97s/it]\u001b[A"
          ],
          "name": "stderr"
        },
        {
          "output_type": "error",
          "ename": "KeyboardInterrupt",
          "evalue": "ignored",
          "traceback": [
            "\u001b[0;31m---------------------------------------------------------------------------\u001b[0m",
            "\u001b[0;31mKeyboardInterrupt\u001b[0m                         Traceback (most recent call last)",
            "\u001b[0;32m<ipython-input-39-0fa511d95ef9>\u001b[0m in \u001b[0;36m<module>\u001b[0;34m()\u001b[0m\n\u001b[1;32m     13\u001b[0m             \u001b[0mbatch_embeddings\u001b[0m \u001b[0;34m=\u001b[0m \u001b[0mmodel\u001b[0m\u001b[0;34m(\u001b[0m\u001b[0mbatch\u001b[0m\u001b[0;34m,\u001b[0m \u001b[0mattention_mask\u001b[0m\u001b[0;34m=\u001b[0m\u001b[0mattention_mask_batch\u001b[0m\u001b[0;34m)\u001b[0m\u001b[0;34m\u001b[0m\u001b[0;34m\u001b[0m\u001b[0m\n\u001b[1;32m     14\u001b[0m \u001b[0;34m\u001b[0m\u001b[0m\n\u001b[0;32m---> 15\u001b[0;31m         \u001b[0membeddings\u001b[0m\u001b[0;34m.\u001b[0m\u001b[0mappend\u001b[0m\u001b[0;34m(\u001b[0m\u001b[0mbatch_embeddings\u001b[0m\u001b[0;34m[\u001b[0m\u001b[0;36m0\u001b[0m\u001b[0;34m]\u001b[0m\u001b[0;34m[\u001b[0m\u001b[0;34m:\u001b[0m\u001b[0;34m,\u001b[0m\u001b[0;36m0\u001b[0m\u001b[0;34m,\u001b[0m\u001b[0;34m:\u001b[0m\u001b[0;34m]\u001b[0m\u001b[0;34m.\u001b[0m\u001b[0mcpu\u001b[0m\u001b[0;34m(\u001b[0m\u001b[0;34m)\u001b[0m\u001b[0;34m.\u001b[0m\u001b[0mnumpy\u001b[0m\u001b[0;34m(\u001b[0m\u001b[0;34m)\u001b[0m\u001b[0;34m)\u001b[0m\u001b[0;34m\u001b[0m\u001b[0;34m\u001b[0m\u001b[0m\n\u001b[0m\u001b[1;32m     16\u001b[0m \u001b[0;34m\u001b[0m\u001b[0m\n\u001b[1;32m     17\u001b[0m \u001b[0;31m#добавим остаток который не попал в батчи:\u001b[0m\u001b[0;34m\u001b[0m\u001b[0;34m\u001b[0m\u001b[0;34m\u001b[0m\u001b[0m\n",
            "\u001b[0;31mKeyboardInterrupt\u001b[0m: "
          ]
        }
      ]
    },
    {
      "cell_type": "markdown",
      "metadata": {
        "id": "TZeOeG4-MqeA"
      },
      "source": [
        "Прошу не обращать внимания на ошибку.\n",
        "Время выполнения варьируется от часа до 4х, и колаб иногда рвет сессии и выполнение останавливается. \n",
        "Далее загружаются файлы после успешного создания ембедингов."
      ]
    },
    {
      "cell_type": "code",
      "metadata": {
        "id": "am5qvvZawPP2"
      },
      "source": [
        "feat = load(os.path.join(PATH, 'embeds'))\n",
        "assert feat.shape[0] == data.shape[0]"
      ],
      "execution_count": null,
      "outputs": []
    },
    {
      "cell_type": "code",
      "metadata": {
        "id": "ygNnq_vtd7Ao"
      },
      "source": [
        "X_train_vec = feat[X_train.index]\n",
        "X_train_valid_vec = feat[X_train_valid.index]\n",
        "X_test_vec = feat[X_test.index]\n",
        "X_valid_vec = feat[X_valid.index]"
      ],
      "execution_count": null,
      "outputs": []
    },
    {
      "cell_type": "code",
      "metadata": {
        "id": "yKB__06_eE2A",
        "colab": {
          "base_uri": "https://localhost:8080/",
          "height": 35
        },
        "outputId": "17c67e2b-2563-4154-8f7c-564540024a0d"
      },
      "source": [
        "logit = LogisticRegression(C=1, random_state=SEED, solver='liblinear')\n",
        "\n",
        "logit.fit(X_train_valid_vec, y_train_valid)\n",
        "\n",
        "y_pred_valid = logit.predict(X_valid_vec)\n",
        "dump(y_pred_valid, 'y_pred_valid_bert')\n",
        "\n",
        "f1 = f1_score(y_valid, y_pred_valid)\n",
        "dump(f1, os.path.join(PATH, 'f1_nlp.txt'))\n",
        "f1"
      ],
      "execution_count": null,
      "outputs": [
        {
          "output_type": "execute_result",
          "data": {
            "text/plain": [
              "0.7213252254141329"
            ]
          },
          "metadata": {
            "tags": []
          },
          "execution_count": 43
        }
      ]
    },
    {
      "cell_type": "markdown",
      "metadata": {
        "id": "HUEdpwQzLvgk"
      },
      "source": [
        "Получили скор значительно ниже, чем для других моделей, наверно я тут что-то делаю нет так.\n",
        "\n",
        "Есть статья где используют берт на этих данных, у меня пока не хватает знаний её понять:\n",
        "- [en] https://medium.com/huggingface/multi-label-text-classification-using-bert-the-mighty-transformer-69714fa3fb3d\n",
        "- [ru] https://neurohive.io/ru/tutorial/bert-klassifikacya-teksta/\n"
      ]
    },
    {
      "cell_type": "markdown",
      "metadata": {
        "id": "6i7KXS-9SW42"
      },
      "source": [
        "##Final CatBoost\n",
        "\n",
        "Обучим катбуст на всей трейн выборке и выгрузим предсказания для теста"
      ]
    },
    {
      "cell_type": "code",
      "metadata": {
        "id": "ZEFUSR72ScBc"
      },
      "source": [
        "train_pool = Pool(\n",
        "    X_train[meta_features+['text_lemma']], \n",
        "    y_train, \n",
        "    text_features=['text_lemma'],\n",
        ")\n",
        "\n",
        "ctb = CatBoostClassifier(iterations=1000,\n",
        "                         random_seed=SEED,\n",
        "                         eval_metric='F1',\n",
        "                         task_type='GPU',\n",
        "                         )"
      ],
      "execution_count": null,
      "outputs": []
    },
    {
      "cell_type": "code",
      "metadata": {
        "id": "4Y7mH9BDTfTZ"
      },
      "source": [
        "ctb.fit(train_pool, verbose=100)"
      ],
      "execution_count": null,
      "outputs": []
    },
    {
      "cell_type": "code",
      "metadata": {
        "id": "sreH8LpKTkD8"
      },
      "source": [
        "dump(ctb.predict_proba(X_test[meta_features+['text_lemma']]),\n",
        "     os.path.join(PATH, 'ctb_test'))"
      ],
      "execution_count": null,
      "outputs": []
    },
    {
      "cell_type": "markdown",
      "metadata": {
        "id": "8eFYPkaMTjpD"
      },
      "source": [
        "# New Section"
      ]
    }
  ]
}