import pandas as pd
from sklearn.feature_extraction.text import TfidfVectorizer
import nltk
from nltk.corpus import stopwords as nltk_stopwords
from sklearn.linear_model import LogisticRegression
 
train = pd.read_csv(r'C:\datasets\Практикум\tweets_lemm_train.csv')
test = pd.read_csv(r'C:\datasets\Практикум\tweets_lemm_test.csv')
 
X_train = train['lemm_text']
y_train = train['positive']
X_test = test['lemm_text']
 
nltk.download('stopwords')
stopwords = set(nltk_stopwords.words('russian'))
 
count_tf_idf = TfidfVectorizer(stop_words=stopwords)
tf_idf_model = count_tf_idf.fit(X_train)
train_tfidf = count_tf_idf.transform(X_train)
test_tfidf = count_tf_idf.transform(X_test)
 
model = LogisticRegression()
model.fit(train_tfidf, y_train)

pred.columns = ['positive']
pred = pd.DataFrame({'positive':preds})

pred.to_csv('predictions', index=False)