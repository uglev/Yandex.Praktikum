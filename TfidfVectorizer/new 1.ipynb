import pandas as pd
import nltk
from nltk.corpus import stopwords as nltk_stopwords
from sklearn.feature_extraction.text import TfidfVectorizer
from sklearn.linear_model import LogisticRegression
 
data = pd.read_csv("tweets_lemm_train.csv")
corpus = data['lemm_text'].values.astype('U')
 
nltk.download('stopwords')
stopwords = set(nltk_stopwords.words('russian'))
 
tf_idf = TfidfVectorizer(stop_words=stopwords)# < напишите код здесь >
tf_idf.fit(corpus)
 
X = tf_idf.transform(corpus)
y = data['positive']
model = LogisticRegression().fit(X, y)
data_test = pd.read_csv("tweets_lemm_test.csv")
corpus_test = data_test['lemm_text'].values.astype('U')
X_test = tf_idf.transform(corpus_test)
predictions = model.predict(X_test)
data_test['positive'] = predictions
data_test.to_csv('predictions')


