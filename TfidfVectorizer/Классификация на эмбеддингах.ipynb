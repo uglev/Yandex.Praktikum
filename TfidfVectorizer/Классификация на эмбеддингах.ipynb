{
 "cells": [
  {
   "cell_type": "markdown",
   "metadata": {
    "deletable": false,
    "editable": false,
    "tags": [
     "045a5103-bb0f-4fb7-835a-238e053b2157"
    ]
   },
   "source": [
    "# Классификация на эмбеддингах"
   ]
  },
  {
   "cell_type": "code",
   "execution_count": 24,
   "metadata": {},
   "outputs": [],
   "source": [
    "import numpy as np\n",
    "import pandas as pd\n",
    "import torch\n",
    "import transformers\n",
    "from tqdm import notebook\n",
    "from sklearn.linear_model import LogisticRegression\n",
    "from sklearn.model_selection import cross_val_score\n",
    "from sklearn.model_selection import train_test_split\n",
    "from sklearn import metrics"
   ]
  },
  {
   "cell_type": "code",
   "execution_count": 7,
   "metadata": {},
   "outputs": [
    {
     "data": {
      "text/html": [
       "<div>\n",
       "<style scoped>\n",
       "    .dataframe tbody tr th:only-of-type {\n",
       "        vertical-align: middle;\n",
       "    }\n",
       "\n",
       "    .dataframe tbody tr th {\n",
       "        vertical-align: top;\n",
       "    }\n",
       "\n",
       "    .dataframe thead th {\n",
       "        text-align: right;\n",
       "    }\n",
       "</style>\n",
       "<table border=\"1\" class=\"dataframe\">\n",
       "  <thead>\n",
       "    <tr style=\"text-align: right;\">\n",
       "      <th></th>\n",
       "      <th>text</th>\n",
       "      <th>positive</th>\n",
       "    </tr>\n",
       "  </thead>\n",
       "  <tbody>\n",
       "    <tr>\n",
       "      <td>0</td>\n",
       "      <td>@first_timee хоть я и школота, но поверь, у на...</td>\n",
       "      <td>1</td>\n",
       "    </tr>\n",
       "    <tr>\n",
       "      <td>1</td>\n",
       "      <td>Да, все-таки он немного похож на него. Но мой ...</td>\n",
       "      <td>1</td>\n",
       "    </tr>\n",
       "    <tr>\n",
       "      <td>2</td>\n",
       "      <td>RT @KatiaCheh: Ну ты идиотка) я испугалась за ...</td>\n",
       "      <td>1</td>\n",
       "    </tr>\n",
       "    <tr>\n",
       "      <td>3</td>\n",
       "      <td>RT @digger2912: \"Кто то в углу сидит и погибае...</td>\n",
       "      <td>1</td>\n",
       "    </tr>\n",
       "    <tr>\n",
       "      <td>4</td>\n",
       "      <td>@irina_dyshkant Вот что значит страшилка :D\\nН...</td>\n",
       "      <td>1</td>\n",
       "    </tr>\n",
       "    <tr>\n",
       "      <td>...</td>\n",
       "      <td>...</td>\n",
       "      <td>...</td>\n",
       "    </tr>\n",
       "    <tr>\n",
       "      <td>4995</td>\n",
       "      <td>@104Saha,а у меня дома нету \"Ролтона\" :( Закон...</td>\n",
       "      <td>0</td>\n",
       "    </tr>\n",
       "    <tr>\n",
       "      <td>4996</td>\n",
       "      <td>что нужно знать для олимпиады по литературе?(</td>\n",
       "      <td>0</td>\n",
       "    </tr>\n",
       "    <tr>\n",
       "      <td>4997</td>\n",
       "      <td>вот они — проблемы современного мира. кончилос...</td>\n",
       "      <td>0</td>\n",
       "    </tr>\n",
       "    <tr>\n",
       "      <td>4998</td>\n",
       "      <td>мне кажется, или я всю субботу провела, играя ...</td>\n",
       "      <td>0</td>\n",
       "    </tr>\n",
       "    <tr>\n",
       "      <td>4999</td>\n",
       "      <td>@yamaikkaa  офигеть ! Я не смогу без них :(</td>\n",
       "      <td>0</td>\n",
       "    </tr>\n",
       "  </tbody>\n",
       "</table>\n",
       "<p>5000 rows × 2 columns</p>\n",
       "</div>"
      ],
      "text/plain": [
       "                                                   text  positive\n",
       "0     @first_timee хоть я и школота, но поверь, у на...         1\n",
       "1     Да, все-таки он немного похож на него. Но мой ...         1\n",
       "2     RT @KatiaCheh: Ну ты идиотка) я испугалась за ...         1\n",
       "3     RT @digger2912: \"Кто то в углу сидит и погибае...         1\n",
       "4     @irina_dyshkant Вот что значит страшилка :D\\nН...         1\n",
       "...                                                 ...       ...\n",
       "4995  @104Saha,а у меня дома нету \"Ролтона\" :( Закон...         0\n",
       "4996      что нужно знать для олимпиады по литературе?(         0\n",
       "4997  вот они — проблемы современного мира. кончилос...         0\n",
       "4998  мне кажется, или я всю субботу провела, играя ...         0\n",
       "4999        @yamaikkaa  офигеть ! Я не смогу без них :(         0\n",
       "\n",
       "[5000 rows x 2 columns]"
      ]
     },
     "execution_count": 7,
     "metadata": {},
     "output_type": "execute_result"
    }
   ],
   "source": [
    "df_tweets = pd.read_csv('/datasets/tweets.csv')"
   ]
  },
  {
   "cell_type": "code",
   "execution_count": 3,
   "metadata": {},
   "outputs": [],
   "source": [
    "tokenizer = transformers.BertTokenizer(\n",
    "    vocab_file='/datasets/ds_bert/vocab.txt')\n",
    "\n",
    "tokenized = df_tweets['text'].apply(\n",
    "    lambda x: tokenizer.encode(x, add_special_tokens=True))\n",
    "\n",
    "max_len = 0\n",
    "for i in tokenized.values:\n",
    "    if len(i) > max_len:\n",
    "        max_len = len(i)\n",
    "\n",
    "padded = np.array([i + [0]*(max_len - len(i)) for i in tokenized.values])\n",
    "\n",
    "attention_mask = np.where(padded != 0, 1, 0)"
   ]
  },
  {
   "cell_type": "code",
   "execution_count": 4,
   "metadata": {},
   "outputs": [],
   "source": [
    "config = transformers.BertConfig.from_json_file(\n",
    "    '/datasets/ds_bert/bert_config.json')\n",
    "model = transformers.BertModel.from_pretrained(\n",
    "    '/datasets/ds_bert/rubert_model.bin', config=config)"
   ]
  },
  {
   "cell_type": "code",
   "execution_count": 5,
   "metadata": {},
   "outputs": [
    {
     "data": {
      "application/vnd.jupyter.widget-view+json": {
       "model_id": "9a00316bad7e432f8eea4d06f702efc1",
       "version_major": 2,
       "version_minor": 0
      },
      "text/plain": [
       "HBox(children=(HTML(value=''), FloatProgress(value=0.0, max=50.0), HTML(value='')))"
      ]
     },
     "metadata": {},
     "output_type": "display_data"
    },
    {
     "name": "stdout",
     "output_type": "stream",
     "text": [
      "\n"
     ]
    }
   ],
   "source": [
    "batch_size = 100\n",
    "embeddings = []\n",
    "for i in notebook.tqdm(range(padded.shape[0] // batch_size)):\n",
    "        batch = torch.LongTensor(padded[batch_size*i:batch_size*(i+1)]) \n",
    "        attention_mask_batch = torch.LongTensor(attention_mask[batch_size*i:batch_size*(i+1)])\n",
    "        \n",
    "        with torch.no_grad():\n",
    "            batch_embeddings = model(batch, attention_mask=attention_mask_batch)\n",
    "        \n",
    "        embeddings.append(batch_embeddings[0][:,0,:].numpy())"
   ]
  },
  {
   "cell_type": "code",
   "execution_count": 21,
   "metadata": {},
   "outputs": [],
   "source": [
    "features = np.concatenate(embeddings)\n",
    "\n",
    "#df_part = features.sample(n=400, replace=False, axis=0) \n",
    "\n",
    "X = features\n",
    "y = df_tweets['positive']\n",
    "# обучите и протестируйте модель\n",
    "# < напишите код здесь >\n",
    "X_train, X_test, y_train, y_test = train_test_split(X, y, \n",
    "                                                    train_size=0.5, \n",
    "                                                    random_state=42)"
   ]
  },
  {
   "cell_type": "code",
   "execution_count": 22,
   "metadata": {},
   "outputs": [
    {
     "name": "stderr",
     "output_type": "stream",
     "text": [
      "/opt/conda/lib/python3.7/site-packages/sklearn/linear_model/logistic.py:432: FutureWarning: Default solver will be changed to 'lbfgs' in 0.22. Specify a solver to silence this warning.\n",
      "  FutureWarning)\n"
     ]
    }
   ],
   "source": [
    "model = LogisticRegression()\n",
    "model.fit(X_train,y_train)\n",
    "y_pred=model.predict(X_test)"
   ]
  },
  {
   "cell_type": "code",
   "execution_count": 25,
   "metadata": {},
   "outputs": [
    {
     "name": "stdout",
     "output_type": "stream",
     "text": [
      "Accuracy: 0.966\n"
     ]
    }
   ],
   "source": [
    "print(\"Accuracy:\", metrics.accuracy_score(y_test, y_pred))"
   ]
  },
  {
   "cell_type": "code",
   "execution_count": null,
   "metadata": {},
   "outputs": [],
   "source": []
  }
 ],
 "metadata": {
  "ExecuteTimeLog": [
   {
    "duration": 5080,
    "start_time": "2021-10-13T13:45:10.387Z"
   },
   {
    "duration": 87,
    "start_time": "2021-10-13T13:45:15.469Z"
   },
   {
    "duration": 2926,
    "start_time": "2021-10-13T13:45:15.559Z"
   },
   {
    "duration": 21445,
    "start_time": "2021-10-13T13:45:18.488Z"
   },
   {
    "duration": 5195507,
    "start_time": "2021-10-13T13:45:39.936Z"
   },
   {
    "duration": 6606,
    "start_time": "2021-10-13T15:12:15.445Z"
   },
   {
    "duration": -37,
    "start_time": "2021-10-13T15:12:22.091Z"
   },
   {
    "duration": 96,
    "start_time": "2021-10-13T15:18:33.129Z"
   },
   {
    "duration": 14,
    "start_time": "2021-10-13T15:18:51.614Z"
   },
   {
    "duration": 18,
    "start_time": "2021-10-13T15:22:39.183Z"
   },
   {
    "duration": 7,
    "start_time": "2021-10-13T15:22:48.001Z"
   },
   {
    "duration": 8,
    "start_time": "2021-10-13T15:22:57.692Z"
   },
   {
    "duration": 16,
    "start_time": "2021-10-13T15:29:16.025Z"
   },
   {
    "duration": 7,
    "start_time": "2021-10-13T15:29:18.177Z"
   },
   {
    "duration": 5,
    "start_time": "2021-10-13T15:30:44.661Z"
   },
   {
    "duration": 288,
    "start_time": "2021-10-13T15:44:44.138Z"
   },
   {
    "duration": 47,
    "start_time": "2021-10-13T15:46:38.145Z"
   },
   {
    "duration": 332,
    "start_time": "2021-10-13T15:51:24.801Z"
   },
   {
    "duration": 14,
    "start_time": "2021-10-13T15:55:22.576Z"
   },
   {
    "duration": 239,
    "start_time": "2021-10-13T16:02:42.232Z"
   },
   {
    "duration": 247,
    "start_time": "2021-10-13T16:02:55.881Z"
   },
   {
    "duration": 17,
    "start_time": "2021-10-13T16:03:45.710Z"
   },
   {
    "duration": 1701,
    "start_time": "2021-10-13T16:03:53.428Z"
   },
   {
    "duration": 238,
    "start_time": "2021-10-13T16:03:59.192Z"
   },
   {
    "duration": 4,
    "start_time": "2021-10-13T16:05:08.034Z"
   },
   {
    "duration": 6,
    "start_time": "2021-10-13T16:05:12.563Z"
   }
  ],
  "kernelspec": {
   "display_name": "Python 3",
   "language": "python",
   "name": "python3"
  },
  "language_info": {
   "codemirror_mode": {
    "name": "ipython",
    "version": 3
   },
   "file_extension": ".py",
   "mimetype": "text/x-python",
   "name": "python",
   "nbconvert_exporter": "python",
   "pygments_lexer": "ipython3",
   "version": "3.7.8"
  },
  "toc": {
   "base_numbering": 1,
   "nav_menu": {},
   "number_sections": true,
   "sideBar": true,
   "skip_h1_title": true,
   "title_cell": "Table of Contents",
   "title_sidebar": "Contents",
   "toc_cell": false,
   "toc_position": {},
   "toc_section_display": true,
   "toc_window_display": false
  }
 },
 "nbformat": 4,
 "nbformat_minor": 2
}
