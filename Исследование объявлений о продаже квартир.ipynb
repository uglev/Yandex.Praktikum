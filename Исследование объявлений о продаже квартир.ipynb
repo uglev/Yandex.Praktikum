{
 "cells": [
  {
   "cell_type": "markdown",
   "metadata": {},
   "source": [
    "Привет, меня зовут Гребенюк Артём. Сегодня я буду делать ревью твоего проекта!\\\n",
    "В Практикуме принято общаться на \"ты\", однако если это неудобно - дай знать, и можем перейти на более официальное общение.\n",
    "\n",
    "Ниже ты найдешь мои комментарии - пожалуйста, не перемещай, не изменяй и не удаляй их. Я буду использовать цветовую разметку: \n",
    "\n",
    "<div class=\"alert alert-block alert-success\">\n",
    "<b>Success:</b> Если все сделано хорошо. </div>\n",
    "\n",
    "<div class=\"alert alert-block alert-warning\">\n",
    "<b>Remarks:</b> Некритичное замечание; если таких замечаний меньше трех — проект может быть принят без их отработки.</div>\n",
    "\n",
    "<div class=\"alert alert-block alert-danger\">\n",
    "<b>Needs fixing:</b> Грубая ошибка, необходимо исправить, иначе проект не будет принят.\n",
    "</div>\n",
    "\n",
    "Давай работать над проектом в диалоге: если ты что-то меняешь в проекте или отвечаешь на мои комменатри — пиши об этом. Мне будет легче отследить изменения, если ты выделишь свои комментарии:\n",
    "Например так:\n",
    "<div class=\"alert alert-block alert-info\">\n",
    "<b>Fixed:</b> \n",
    "Hello World!\n",
    "</div>\n",
    "\n",
    "Или можешь использовать эту галочку ✔ в моих комментариях, если писать особо нечего.\n",
    "\n",
    "<div class=\"alert alert-block alert-warning\">\n",
    "<b>Общее впечатление:</b> \n",
    "    \n",
    "- Спасибо за работу :)\n",
    "- У меня есть пара ремарок, которые помогут тебе сделать проект еще лучше.\n",
    "- Пробегись по моим комментариям, исправь недочёты и всё будет отлично :)\n",
    "    \n",
    "</div>\n",
    "\n"
   ]
  },
  {
   "cell_type": "markdown",
   "metadata": {},
   "source": [
    "<div class=\"alert alert-block alert-success\">\n",
    "<b>Привет!</b> отличная работа над ремарками! Здорово, что все мои комментарии были проработаны, вне зависимости от цвета. Проект принят, поздравляю! Желаю удачи в дальнейшем обучении :) "
   ]
  },
  {
   "cell_type": "markdown",
   "metadata": {
    "toc": true
   },
   "source": [
    "<h1>Содержание<span class=\"tocSkip\"></span></h1>\n",
    "<div class=\"toc\"><ul class=\"toc-item\"><li><span><a href=\"#Изучение-данных-из-файла\" data-toc-modified-id=\"Изучение-данных-из-файла-1\"><span class=\"toc-item-num\">1&nbsp;&nbsp;</span>Изучение данных из файла</a></span></li><li><span><a href=\"#-Комментарий-студента\" data-toc-modified-id=\"-Комментарий-студента-2\"><span class=\"toc-item-num\">2&nbsp;&nbsp;</span> Комментарий студента</a></span></li><li><span><a href=\"#-Комментарий-студента\" data-toc-modified-id=\"-Комментарий-студента-3\"><span class=\"toc-item-num\">3&nbsp;&nbsp;</span> Комментарий студента</a></span></li><li><span><a href=\"#-Комментарий-студента\" data-toc-modified-id=\"-Комментарий-студента-4\"><span class=\"toc-item-num\">4&nbsp;&nbsp;</span> Комментарий студента</a></span></li><li><span><a href=\"#-Комментарий-студента\" data-toc-modified-id=\"-Комментарий-студента-5\"><span class=\"toc-item-num\">5&nbsp;&nbsp;</span> Комментарий студента</a></span><ul class=\"toc-item\"><li><span><a href=\"#Вывод\" data-toc-modified-id=\"Вывод-5.1\"><span class=\"toc-item-num\">5.1&nbsp;&nbsp;</span>Вывод</a></span></li></ul></li><li><span><a href=\"#Предобработка-данных\" data-toc-modified-id=\"Предобработка-данных-6\"><span class=\"toc-item-num\">6&nbsp;&nbsp;</span>Предобработка данных</a></span></li><li><span><a href=\"#Расчёты-и-добавление-результатов-в-таблицу\" data-toc-modified-id=\"Расчёты-и-добавление-результатов-в-таблицу-7\"><span class=\"toc-item-num\">7&nbsp;&nbsp;</span>Расчёты и добавление результатов в таблицу</a></span></li><li><span><a href=\"#-Комментарий-студента\" data-toc-modified-id=\"-Комментарий-студента-8\"><span class=\"toc-item-num\">8&nbsp;&nbsp;</span> Комментарий студента</a></span></li><li><span><a href=\"#-Комментарий-студента\" data-toc-modified-id=\"-Комментарий-студента-9\"><span class=\"toc-item-num\">9&nbsp;&nbsp;</span> Комментарий студента</a></span></li><li><span><a href=\"#-Комментарий-студента\" data-toc-modified-id=\"-Комментарий-студента-10\"><span class=\"toc-item-num\">10&nbsp;&nbsp;</span> Комментарий студента</a></span></li><li><span><a href=\"#Исследовательский-анализ-данных\" data-toc-modified-id=\"Исследовательский-анализ-данных-11\"><span class=\"toc-item-num\">11&nbsp;&nbsp;</span>Исследовательский анализ данных</a></span></li><li><span><a href=\"#-Комментарий-студента\" data-toc-modified-id=\"-Комментарий-студента-12\"><span class=\"toc-item-num\">12&nbsp;&nbsp;</span> Комментарий студента</a></span></li><li><span><a href=\"#-Комментарий-студента\" data-toc-modified-id=\"-Комментарий-студента-13\"><span class=\"toc-item-num\">13&nbsp;&nbsp;</span> Комментарий студента</a></span></li><li><span><a href=\"#Общий-вывод\" data-toc-modified-id=\"Общий-вывод-14\"><span class=\"toc-item-num\">14&nbsp;&nbsp;</span>Общий вывод</a></span></li><li><span><a href=\"#-Комментарий-студента\" data-toc-modified-id=\"-Комментарий-студента-15\"><span class=\"toc-item-num\">15&nbsp;&nbsp;</span> Комментарий студента</a></span></li><li><span><a href=\"#Чек-лист-готовности-проекта\" data-toc-modified-id=\"Чек-лист-готовности-проекта-16\"><span class=\"toc-item-num\">16&nbsp;&nbsp;</span>Чек-лист готовности проекта</a></span></li></ul></div>"
   ]
  },
  {
   "cell_type": "markdown",
   "metadata": {},
   "source": [
    "# Исследование объявлений о продаже квартир\n",
    "\n",
    "В вашем распоряжении данные сервиса Яндекс.Недвижимость — архив объявлений о продаже квартир в Санкт-Петербурге и соседних населённых пунктах за несколько лет. Нужно научиться определять рыночную стоимость объектов недвижимости. Ваша задача — установить параметры. Это позволит построить автоматизированную систему: она отследит аномалии и мошенническую деятельность. \n",
    "\n",
    "По каждой квартире на продажу доступны два вида данных. Первые вписаны пользователем, вторые получены автоматически на основе картографических данных. Например, расстояние до центра, аэропорта, ближайшего парка и водоёма. "
   ]
  },
  {
   "cell_type": "markdown",
   "metadata": {},
   "source": [
    "<div class=\"alert alert-block alert-success\">\n",
    "<b>Success:</b> Отличное введение в работу!"
   ]
  },
  {
   "cell_type": "markdown",
   "metadata": {},
   "source": [
    "## Изучение данных из файла"
   ]
  },
  {
   "cell_type": "markdown",
   "metadata": {},
   "source": [
    "Начинаем проект. Для начала, импортируем все библиотеки, о которых нас учили на курсе, и загрузим в переменную таблицу. Таблицу, на всякий случай, загрузим с полным путём - если заказчик захочет проверить на своём компьютере."
   ]
  },
  {
   "cell_type": "code",
   "execution_count": 1,
   "metadata": {},
   "outputs": [],
   "source": [
    "import pandas as pd\n",
    "import matplotlib.pyplot as plt\n",
    "import numpy as np\n",
    "from datetime import datetime"
   ]
  },
  {
   "cell_type": "code",
   "execution_count": 2,
   "metadata": {},
   "outputs": [],
   "source": [
    "aparts = pd.read_csv('https://code.s3.yandex.net/datasets/real_estate_data.csv', sep='\\t')"
   ]
  },
  {
   "cell_type": "markdown",
   "metadata": {},
   "source": [
    "<div class=\"alert alert-block alert-success\">\n",
    "<b>Success:</b> здорово, что все импорты собраны в начале проекта - так в нем гораздо проще ориентироваться"
   ]
  },
  {
   "cell_type": "markdown",
   "metadata": {},
   "source": [
    "<div class=\"alert alert-block alert-warning\">\n",
    "<b>Remarks:</b> \n",
    "    \n",
    "- также советую отделять импорты от открытия датасета, это делается для того, чтобы иметь возможность в любйо момент вернуться в начало, дописать нужные библиотеки, перезапустить ячейку и продолжить работу, не перетирая датасет."
   ]
  },
  {
   "cell_type": "markdown",
   "metadata": {},
   "source": [
    "<div class=\"alert alert-info\">\n",
    "<h2> Комментарий студента</h2>\n",
    "\n",
    "Сделано.\n",
    "</div>"
   ]
  },
  {
   "cell_type": "markdown",
   "metadata": {},
   "source": [
    "Предупреждение в 57 строке и отчаянное гугление заставило меня отключить предупреждения."
   ]
  },
  {
   "cell_type": "code",
   "execution_count": 3,
   "metadata": {},
   "outputs": [],
   "source": [
    "pd.options.mode.chained_assignment = None  # default='warn'"
   ]
  },
  {
   "cell_type": "markdown",
   "metadata": {},
   "source": [
    "Ну-ка, посмотрим, что у нас за таблица."
   ]
  },
  {
   "cell_type": "code",
   "execution_count": 4,
   "metadata": {
    "scrolled": false
   },
   "outputs": [
    {
     "data": {
      "text/html": [
       "<div>\n",
       "<style scoped>\n",
       "    .dataframe tbody tr th:only-of-type {\n",
       "        vertical-align: middle;\n",
       "    }\n",
       "\n",
       "    .dataframe tbody tr th {\n",
       "        vertical-align: top;\n",
       "    }\n",
       "\n",
       "    .dataframe thead th {\n",
       "        text-align: right;\n",
       "    }\n",
       "</style>\n",
       "<table border=\"1\" class=\"dataframe\">\n",
       "  <thead>\n",
       "    <tr style=\"text-align: right;\">\n",
       "      <th></th>\n",
       "      <th>total_images</th>\n",
       "      <th>last_price</th>\n",
       "      <th>total_area</th>\n",
       "      <th>first_day_exposition</th>\n",
       "      <th>rooms</th>\n",
       "      <th>ceiling_height</th>\n",
       "      <th>floors_total</th>\n",
       "      <th>living_area</th>\n",
       "      <th>floor</th>\n",
       "      <th>is_apartment</th>\n",
       "      <th>...</th>\n",
       "      <th>kitchen_area</th>\n",
       "      <th>balcony</th>\n",
       "      <th>locality_name</th>\n",
       "      <th>airports_nearest</th>\n",
       "      <th>cityCenters_nearest</th>\n",
       "      <th>parks_around3000</th>\n",
       "      <th>parks_nearest</th>\n",
       "      <th>ponds_around3000</th>\n",
       "      <th>ponds_nearest</th>\n",
       "      <th>days_exposition</th>\n",
       "    </tr>\n",
       "  </thead>\n",
       "  <tbody>\n",
       "    <tr>\n",
       "      <td>0</td>\n",
       "      <td>20</td>\n",
       "      <td>13000000.0</td>\n",
       "      <td>108.0</td>\n",
       "      <td>2019-03-07T00:00:00</td>\n",
       "      <td>3</td>\n",
       "      <td>2.70</td>\n",
       "      <td>16.0</td>\n",
       "      <td>51.0</td>\n",
       "      <td>8</td>\n",
       "      <td>NaN</td>\n",
       "      <td>...</td>\n",
       "      <td>25.0</td>\n",
       "      <td>NaN</td>\n",
       "      <td>Санкт-Петербург</td>\n",
       "      <td>18863.0</td>\n",
       "      <td>16028.0</td>\n",
       "      <td>1.0</td>\n",
       "      <td>482.0</td>\n",
       "      <td>2.0</td>\n",
       "      <td>755.0</td>\n",
       "      <td>NaN</td>\n",
       "    </tr>\n",
       "    <tr>\n",
       "      <td>1</td>\n",
       "      <td>7</td>\n",
       "      <td>3350000.0</td>\n",
       "      <td>40.4</td>\n",
       "      <td>2018-12-04T00:00:00</td>\n",
       "      <td>1</td>\n",
       "      <td>NaN</td>\n",
       "      <td>11.0</td>\n",
       "      <td>18.6</td>\n",
       "      <td>1</td>\n",
       "      <td>NaN</td>\n",
       "      <td>...</td>\n",
       "      <td>11.0</td>\n",
       "      <td>2.0</td>\n",
       "      <td>посёлок Шушары</td>\n",
       "      <td>12817.0</td>\n",
       "      <td>18603.0</td>\n",
       "      <td>0.0</td>\n",
       "      <td>NaN</td>\n",
       "      <td>0.0</td>\n",
       "      <td>NaN</td>\n",
       "      <td>81.0</td>\n",
       "    </tr>\n",
       "    <tr>\n",
       "      <td>2</td>\n",
       "      <td>10</td>\n",
       "      <td>5196000.0</td>\n",
       "      <td>56.0</td>\n",
       "      <td>2015-08-20T00:00:00</td>\n",
       "      <td>2</td>\n",
       "      <td>NaN</td>\n",
       "      <td>5.0</td>\n",
       "      <td>34.3</td>\n",
       "      <td>4</td>\n",
       "      <td>NaN</td>\n",
       "      <td>...</td>\n",
       "      <td>8.3</td>\n",
       "      <td>0.0</td>\n",
       "      <td>Санкт-Петербург</td>\n",
       "      <td>21741.0</td>\n",
       "      <td>13933.0</td>\n",
       "      <td>1.0</td>\n",
       "      <td>90.0</td>\n",
       "      <td>2.0</td>\n",
       "      <td>574.0</td>\n",
       "      <td>558.0</td>\n",
       "    </tr>\n",
       "    <tr>\n",
       "      <td>3</td>\n",
       "      <td>0</td>\n",
       "      <td>64900000.0</td>\n",
       "      <td>159.0</td>\n",
       "      <td>2015-07-24T00:00:00</td>\n",
       "      <td>3</td>\n",
       "      <td>NaN</td>\n",
       "      <td>14.0</td>\n",
       "      <td>NaN</td>\n",
       "      <td>9</td>\n",
       "      <td>NaN</td>\n",
       "      <td>...</td>\n",
       "      <td>NaN</td>\n",
       "      <td>0.0</td>\n",
       "      <td>Санкт-Петербург</td>\n",
       "      <td>28098.0</td>\n",
       "      <td>6800.0</td>\n",
       "      <td>2.0</td>\n",
       "      <td>84.0</td>\n",
       "      <td>3.0</td>\n",
       "      <td>234.0</td>\n",
       "      <td>424.0</td>\n",
       "    </tr>\n",
       "    <tr>\n",
       "      <td>4</td>\n",
       "      <td>2</td>\n",
       "      <td>10000000.0</td>\n",
       "      <td>100.0</td>\n",
       "      <td>2018-06-19T00:00:00</td>\n",
       "      <td>2</td>\n",
       "      <td>3.03</td>\n",
       "      <td>14.0</td>\n",
       "      <td>32.0</td>\n",
       "      <td>13</td>\n",
       "      <td>NaN</td>\n",
       "      <td>...</td>\n",
       "      <td>41.0</td>\n",
       "      <td>NaN</td>\n",
       "      <td>Санкт-Петербург</td>\n",
       "      <td>31856.0</td>\n",
       "      <td>8098.0</td>\n",
       "      <td>2.0</td>\n",
       "      <td>112.0</td>\n",
       "      <td>1.0</td>\n",
       "      <td>48.0</td>\n",
       "      <td>121.0</td>\n",
       "    </tr>\n",
       "  </tbody>\n",
       "</table>\n",
       "<p>5 rows × 22 columns</p>\n",
       "</div>"
      ],
      "text/plain": [
       "   total_images  last_price  total_area first_day_exposition  rooms  \\\n",
       "0            20  13000000.0       108.0  2019-03-07T00:00:00      3   \n",
       "1             7   3350000.0        40.4  2018-12-04T00:00:00      1   \n",
       "2            10   5196000.0        56.0  2015-08-20T00:00:00      2   \n",
       "3             0  64900000.0       159.0  2015-07-24T00:00:00      3   \n",
       "4             2  10000000.0       100.0  2018-06-19T00:00:00      2   \n",
       "\n",
       "   ceiling_height  floors_total  living_area  floor is_apartment  ...  \\\n",
       "0            2.70          16.0         51.0      8          NaN  ...   \n",
       "1             NaN          11.0         18.6      1          NaN  ...   \n",
       "2             NaN           5.0         34.3      4          NaN  ...   \n",
       "3             NaN          14.0          NaN      9          NaN  ...   \n",
       "4            3.03          14.0         32.0     13          NaN  ...   \n",
       "\n",
       "   kitchen_area  balcony    locality_name  airports_nearest  \\\n",
       "0          25.0      NaN  Санкт-Петербург           18863.0   \n",
       "1          11.0      2.0   посёлок Шушары           12817.0   \n",
       "2           8.3      0.0  Санкт-Петербург           21741.0   \n",
       "3           NaN      0.0  Санкт-Петербург           28098.0   \n",
       "4          41.0      NaN  Санкт-Петербург           31856.0   \n",
       "\n",
       "  cityCenters_nearest  parks_around3000  parks_nearest  ponds_around3000  \\\n",
       "0             16028.0               1.0          482.0               2.0   \n",
       "1             18603.0               0.0            NaN               0.0   \n",
       "2             13933.0               1.0           90.0               2.0   \n",
       "3              6800.0               2.0           84.0               3.0   \n",
       "4              8098.0               2.0          112.0               1.0   \n",
       "\n",
       "   ponds_nearest  days_exposition  \n",
       "0          755.0              NaN  \n",
       "1            NaN             81.0  \n",
       "2          574.0            558.0  \n",
       "3          234.0            424.0  \n",
       "4           48.0            121.0  \n",
       "\n",
       "[5 rows x 22 columns]"
      ]
     },
     "execution_count": 4,
     "metadata": {},
     "output_type": "execute_result"
    }
   ],
   "source": [
    "aparts.head(5)"
   ]
  },
  {
   "cell_type": "markdown",
   "metadata": {},
   "source": [
    "Ну что сказать. Всё как обычно, формат не тот, пропуски, дата некрасивая, представление неудобное... Продолжать? Ну, посмотрим, с чем вообще тут можно работать."
   ]
  },
  {
   "cell_type": "code",
   "execution_count": 5,
   "metadata": {
    "scrolled": true
   },
   "outputs": [
    {
     "data": {
      "text/html": [
       "<div>\n",
       "<style scoped>\n",
       "    .dataframe tbody tr th:only-of-type {\n",
       "        vertical-align: middle;\n",
       "    }\n",
       "\n",
       "    .dataframe tbody tr th {\n",
       "        vertical-align: top;\n",
       "    }\n",
       "\n",
       "    .dataframe thead th {\n",
       "        text-align: right;\n",
       "    }\n",
       "</style>\n",
       "<table border=\"1\" class=\"dataframe\">\n",
       "  <thead>\n",
       "    <tr style=\"text-align: right;\">\n",
       "      <th></th>\n",
       "      <th>total_images</th>\n",
       "      <th>last_price</th>\n",
       "      <th>total_area</th>\n",
       "      <th>rooms</th>\n",
       "      <th>ceiling_height</th>\n",
       "      <th>floors_total</th>\n",
       "      <th>living_area</th>\n",
       "      <th>floor</th>\n",
       "      <th>kitchen_area</th>\n",
       "      <th>balcony</th>\n",
       "      <th>airports_nearest</th>\n",
       "      <th>cityCenters_nearest</th>\n",
       "      <th>parks_around3000</th>\n",
       "      <th>parks_nearest</th>\n",
       "      <th>ponds_around3000</th>\n",
       "      <th>ponds_nearest</th>\n",
       "      <th>days_exposition</th>\n",
       "    </tr>\n",
       "  </thead>\n",
       "  <tbody>\n",
       "    <tr>\n",
       "      <td>count</td>\n",
       "      <td>23699.000000</td>\n",
       "      <td>2.369900e+04</td>\n",
       "      <td>23699.000000</td>\n",
       "      <td>23699.000000</td>\n",
       "      <td>14504.000000</td>\n",
       "      <td>23613.000000</td>\n",
       "      <td>21796.000000</td>\n",
       "      <td>23699.000000</td>\n",
       "      <td>21421.000000</td>\n",
       "      <td>12180.000000</td>\n",
       "      <td>18157.000000</td>\n",
       "      <td>18180.000000</td>\n",
       "      <td>18181.000000</td>\n",
       "      <td>8079.000000</td>\n",
       "      <td>18181.000000</td>\n",
       "      <td>9110.000000</td>\n",
       "      <td>20518.000000</td>\n",
       "    </tr>\n",
       "    <tr>\n",
       "      <td>mean</td>\n",
       "      <td>9.858475</td>\n",
       "      <td>6.541549e+06</td>\n",
       "      <td>60.348651</td>\n",
       "      <td>2.070636</td>\n",
       "      <td>2.771499</td>\n",
       "      <td>10.673824</td>\n",
       "      <td>34.457852</td>\n",
       "      <td>5.892358</td>\n",
       "      <td>10.569807</td>\n",
       "      <td>1.150082</td>\n",
       "      <td>28793.672193</td>\n",
       "      <td>14191.277833</td>\n",
       "      <td>0.611408</td>\n",
       "      <td>490.804555</td>\n",
       "      <td>0.770255</td>\n",
       "      <td>517.980900</td>\n",
       "      <td>180.888634</td>\n",
       "    </tr>\n",
       "    <tr>\n",
       "      <td>std</td>\n",
       "      <td>5.682529</td>\n",
       "      <td>1.088701e+07</td>\n",
       "      <td>35.654083</td>\n",
       "      <td>1.078405</td>\n",
       "      <td>1.261056</td>\n",
       "      <td>6.597173</td>\n",
       "      <td>22.030445</td>\n",
       "      <td>4.885249</td>\n",
       "      <td>5.905438</td>\n",
       "      <td>1.071300</td>\n",
       "      <td>12630.880622</td>\n",
       "      <td>8608.386210</td>\n",
       "      <td>0.802074</td>\n",
       "      <td>342.317995</td>\n",
       "      <td>0.938346</td>\n",
       "      <td>277.720643</td>\n",
       "      <td>219.727988</td>\n",
       "    </tr>\n",
       "    <tr>\n",
       "      <td>min</td>\n",
       "      <td>0.000000</td>\n",
       "      <td>1.219000e+04</td>\n",
       "      <td>12.000000</td>\n",
       "      <td>0.000000</td>\n",
       "      <td>1.000000</td>\n",
       "      <td>1.000000</td>\n",
       "      <td>2.000000</td>\n",
       "      <td>1.000000</td>\n",
       "      <td>1.300000</td>\n",
       "      <td>0.000000</td>\n",
       "      <td>0.000000</td>\n",
       "      <td>181.000000</td>\n",
       "      <td>0.000000</td>\n",
       "      <td>1.000000</td>\n",
       "      <td>0.000000</td>\n",
       "      <td>13.000000</td>\n",
       "      <td>1.000000</td>\n",
       "    </tr>\n",
       "    <tr>\n",
       "      <td>25%</td>\n",
       "      <td>6.000000</td>\n",
       "      <td>3.400000e+06</td>\n",
       "      <td>40.000000</td>\n",
       "      <td>1.000000</td>\n",
       "      <td>2.520000</td>\n",
       "      <td>5.000000</td>\n",
       "      <td>18.600000</td>\n",
       "      <td>2.000000</td>\n",
       "      <td>7.000000</td>\n",
       "      <td>0.000000</td>\n",
       "      <td>18585.000000</td>\n",
       "      <td>9238.000000</td>\n",
       "      <td>0.000000</td>\n",
       "      <td>288.000000</td>\n",
       "      <td>0.000000</td>\n",
       "      <td>294.000000</td>\n",
       "      <td>45.000000</td>\n",
       "    </tr>\n",
       "    <tr>\n",
       "      <td>50%</td>\n",
       "      <td>9.000000</td>\n",
       "      <td>4.650000e+06</td>\n",
       "      <td>52.000000</td>\n",
       "      <td>2.000000</td>\n",
       "      <td>2.650000</td>\n",
       "      <td>9.000000</td>\n",
       "      <td>30.000000</td>\n",
       "      <td>4.000000</td>\n",
       "      <td>9.100000</td>\n",
       "      <td>1.000000</td>\n",
       "      <td>26726.000000</td>\n",
       "      <td>13098.500000</td>\n",
       "      <td>0.000000</td>\n",
       "      <td>455.000000</td>\n",
       "      <td>1.000000</td>\n",
       "      <td>502.000000</td>\n",
       "      <td>95.000000</td>\n",
       "    </tr>\n",
       "    <tr>\n",
       "      <td>75%</td>\n",
       "      <td>14.000000</td>\n",
       "      <td>6.800000e+06</td>\n",
       "      <td>69.900000</td>\n",
       "      <td>3.000000</td>\n",
       "      <td>2.800000</td>\n",
       "      <td>16.000000</td>\n",
       "      <td>42.300000</td>\n",
       "      <td>8.000000</td>\n",
       "      <td>12.000000</td>\n",
       "      <td>2.000000</td>\n",
       "      <td>37273.000000</td>\n",
       "      <td>16293.000000</td>\n",
       "      <td>1.000000</td>\n",
       "      <td>612.000000</td>\n",
       "      <td>1.000000</td>\n",
       "      <td>729.000000</td>\n",
       "      <td>232.000000</td>\n",
       "    </tr>\n",
       "    <tr>\n",
       "      <td>max</td>\n",
       "      <td>50.000000</td>\n",
       "      <td>7.630000e+08</td>\n",
       "      <td>900.000000</td>\n",
       "      <td>19.000000</td>\n",
       "      <td>100.000000</td>\n",
       "      <td>60.000000</td>\n",
       "      <td>409.700000</td>\n",
       "      <td>33.000000</td>\n",
       "      <td>112.000000</td>\n",
       "      <td>5.000000</td>\n",
       "      <td>84869.000000</td>\n",
       "      <td>65968.000000</td>\n",
       "      <td>3.000000</td>\n",
       "      <td>3190.000000</td>\n",
       "      <td>3.000000</td>\n",
       "      <td>1344.000000</td>\n",
       "      <td>1580.000000</td>\n",
       "    </tr>\n",
       "  </tbody>\n",
       "</table>\n",
       "</div>"
      ],
      "text/plain": [
       "       total_images    last_price    total_area         rooms  ceiling_height  \\\n",
       "count  23699.000000  2.369900e+04  23699.000000  23699.000000    14504.000000   \n",
       "mean       9.858475  6.541549e+06     60.348651      2.070636        2.771499   \n",
       "std        5.682529  1.088701e+07     35.654083      1.078405        1.261056   \n",
       "min        0.000000  1.219000e+04     12.000000      0.000000        1.000000   \n",
       "25%        6.000000  3.400000e+06     40.000000      1.000000        2.520000   \n",
       "50%        9.000000  4.650000e+06     52.000000      2.000000        2.650000   \n",
       "75%       14.000000  6.800000e+06     69.900000      3.000000        2.800000   \n",
       "max       50.000000  7.630000e+08    900.000000     19.000000      100.000000   \n",
       "\n",
       "       floors_total   living_area         floor  kitchen_area       balcony  \\\n",
       "count  23613.000000  21796.000000  23699.000000  21421.000000  12180.000000   \n",
       "mean      10.673824     34.457852      5.892358     10.569807      1.150082   \n",
       "std        6.597173     22.030445      4.885249      5.905438      1.071300   \n",
       "min        1.000000      2.000000      1.000000      1.300000      0.000000   \n",
       "25%        5.000000     18.600000      2.000000      7.000000      0.000000   \n",
       "50%        9.000000     30.000000      4.000000      9.100000      1.000000   \n",
       "75%       16.000000     42.300000      8.000000     12.000000      2.000000   \n",
       "max       60.000000    409.700000     33.000000    112.000000      5.000000   \n",
       "\n",
       "       airports_nearest  cityCenters_nearest  parks_around3000  parks_nearest  \\\n",
       "count      18157.000000         18180.000000      18181.000000    8079.000000   \n",
       "mean       28793.672193         14191.277833          0.611408     490.804555   \n",
       "std        12630.880622          8608.386210          0.802074     342.317995   \n",
       "min            0.000000           181.000000          0.000000       1.000000   \n",
       "25%        18585.000000          9238.000000          0.000000     288.000000   \n",
       "50%        26726.000000         13098.500000          0.000000     455.000000   \n",
       "75%        37273.000000         16293.000000          1.000000     612.000000   \n",
       "max        84869.000000         65968.000000          3.000000    3190.000000   \n",
       "\n",
       "       ponds_around3000  ponds_nearest  days_exposition  \n",
       "count      18181.000000    9110.000000     20518.000000  \n",
       "mean           0.770255     517.980900       180.888634  \n",
       "std            0.938346     277.720643       219.727988  \n",
       "min            0.000000      13.000000         1.000000  \n",
       "25%            0.000000     294.000000        45.000000  \n",
       "50%            1.000000     502.000000        95.000000  \n",
       "75%            1.000000     729.000000       232.000000  \n",
       "max            3.000000    1344.000000      1580.000000  "
      ]
     },
     "execution_count": 5,
     "metadata": {},
     "output_type": "execute_result"
    }
   ],
   "source": [
    "aparts.describe()"
   ]
  },
  {
   "cell_type": "markdown",
   "metadata": {},
   "source": [
    "<div class=\"alert alert-block alert-warning\">\n",
    "<b>Remarks:</b> \n",
    "    \n",
    "- `descirbe` - отличная функция для знакомства с датасетом, позволяющая обнаружить явные аномалии. В данном проекте будет гораздо удобнее восприниматься, если развернуть аутпут `df.describe().T`"
   ]
  },
  {
   "cell_type": "markdown",
   "metadata": {},
   "source": [
    "<h2> Комментарий студента</h2>\n",
    "\n",
    "Сделано.\n",
    "</div>"
   ]
  },
  {
   "cell_type": "code",
   "execution_count": 6,
   "metadata": {},
   "outputs": [
    {
     "data": {
      "text/html": [
       "<div>\n",
       "<style scoped>\n",
       "    .dataframe tbody tr th:only-of-type {\n",
       "        vertical-align: middle;\n",
       "    }\n",
       "\n",
       "    .dataframe tbody tr th {\n",
       "        vertical-align: top;\n",
       "    }\n",
       "\n",
       "    .dataframe thead th {\n",
       "        text-align: right;\n",
       "    }\n",
       "</style>\n",
       "<table border=\"1\" class=\"dataframe\">\n",
       "  <thead>\n",
       "    <tr style=\"text-align: right;\">\n",
       "      <th></th>\n",
       "      <th>count</th>\n",
       "      <th>mean</th>\n",
       "      <th>std</th>\n",
       "      <th>min</th>\n",
       "      <th>25%</th>\n",
       "      <th>50%</th>\n",
       "      <th>75%</th>\n",
       "      <th>max</th>\n",
       "    </tr>\n",
       "  </thead>\n",
       "  <tbody>\n",
       "    <tr>\n",
       "      <td>total_images</td>\n",
       "      <td>23699.0</td>\n",
       "      <td>9.858475e+00</td>\n",
       "      <td>5.682529e+00</td>\n",
       "      <td>0.0</td>\n",
       "      <td>6.00</td>\n",
       "      <td>9.00</td>\n",
       "      <td>14.0</td>\n",
       "      <td>50.0</td>\n",
       "    </tr>\n",
       "    <tr>\n",
       "      <td>last_price</td>\n",
       "      <td>23699.0</td>\n",
       "      <td>6.541549e+06</td>\n",
       "      <td>1.088701e+07</td>\n",
       "      <td>12190.0</td>\n",
       "      <td>3400000.00</td>\n",
       "      <td>4650000.00</td>\n",
       "      <td>6800000.0</td>\n",
       "      <td>763000000.0</td>\n",
       "    </tr>\n",
       "    <tr>\n",
       "      <td>total_area</td>\n",
       "      <td>23699.0</td>\n",
       "      <td>6.034865e+01</td>\n",
       "      <td>3.565408e+01</td>\n",
       "      <td>12.0</td>\n",
       "      <td>40.00</td>\n",
       "      <td>52.00</td>\n",
       "      <td>69.9</td>\n",
       "      <td>900.0</td>\n",
       "    </tr>\n",
       "    <tr>\n",
       "      <td>rooms</td>\n",
       "      <td>23699.0</td>\n",
       "      <td>2.070636e+00</td>\n",
       "      <td>1.078405e+00</td>\n",
       "      <td>0.0</td>\n",
       "      <td>1.00</td>\n",
       "      <td>2.00</td>\n",
       "      <td>3.0</td>\n",
       "      <td>19.0</td>\n",
       "    </tr>\n",
       "    <tr>\n",
       "      <td>ceiling_height</td>\n",
       "      <td>14504.0</td>\n",
       "      <td>2.771499e+00</td>\n",
       "      <td>1.261056e+00</td>\n",
       "      <td>1.0</td>\n",
       "      <td>2.52</td>\n",
       "      <td>2.65</td>\n",
       "      <td>2.8</td>\n",
       "      <td>100.0</td>\n",
       "    </tr>\n",
       "    <tr>\n",
       "      <td>floors_total</td>\n",
       "      <td>23613.0</td>\n",
       "      <td>1.067382e+01</td>\n",
       "      <td>6.597173e+00</td>\n",
       "      <td>1.0</td>\n",
       "      <td>5.00</td>\n",
       "      <td>9.00</td>\n",
       "      <td>16.0</td>\n",
       "      <td>60.0</td>\n",
       "    </tr>\n",
       "    <tr>\n",
       "      <td>living_area</td>\n",
       "      <td>21796.0</td>\n",
       "      <td>3.445785e+01</td>\n",
       "      <td>2.203045e+01</td>\n",
       "      <td>2.0</td>\n",
       "      <td>18.60</td>\n",
       "      <td>30.00</td>\n",
       "      <td>42.3</td>\n",
       "      <td>409.7</td>\n",
       "    </tr>\n",
       "    <tr>\n",
       "      <td>floor</td>\n",
       "      <td>23699.0</td>\n",
       "      <td>5.892358e+00</td>\n",
       "      <td>4.885249e+00</td>\n",
       "      <td>1.0</td>\n",
       "      <td>2.00</td>\n",
       "      <td>4.00</td>\n",
       "      <td>8.0</td>\n",
       "      <td>33.0</td>\n",
       "    </tr>\n",
       "    <tr>\n",
       "      <td>kitchen_area</td>\n",
       "      <td>21421.0</td>\n",
       "      <td>1.056981e+01</td>\n",
       "      <td>5.905438e+00</td>\n",
       "      <td>1.3</td>\n",
       "      <td>7.00</td>\n",
       "      <td>9.10</td>\n",
       "      <td>12.0</td>\n",
       "      <td>112.0</td>\n",
       "    </tr>\n",
       "    <tr>\n",
       "      <td>balcony</td>\n",
       "      <td>12180.0</td>\n",
       "      <td>1.150082e+00</td>\n",
       "      <td>1.071300e+00</td>\n",
       "      <td>0.0</td>\n",
       "      <td>0.00</td>\n",
       "      <td>1.00</td>\n",
       "      <td>2.0</td>\n",
       "      <td>5.0</td>\n",
       "    </tr>\n",
       "    <tr>\n",
       "      <td>airports_nearest</td>\n",
       "      <td>18157.0</td>\n",
       "      <td>2.879367e+04</td>\n",
       "      <td>1.263088e+04</td>\n",
       "      <td>0.0</td>\n",
       "      <td>18585.00</td>\n",
       "      <td>26726.00</td>\n",
       "      <td>37273.0</td>\n",
       "      <td>84869.0</td>\n",
       "    </tr>\n",
       "    <tr>\n",
       "      <td>cityCenters_nearest</td>\n",
       "      <td>18180.0</td>\n",
       "      <td>1.419128e+04</td>\n",
       "      <td>8.608386e+03</td>\n",
       "      <td>181.0</td>\n",
       "      <td>9238.00</td>\n",
       "      <td>13098.50</td>\n",
       "      <td>16293.0</td>\n",
       "      <td>65968.0</td>\n",
       "    </tr>\n",
       "    <tr>\n",
       "      <td>parks_around3000</td>\n",
       "      <td>18181.0</td>\n",
       "      <td>6.114075e-01</td>\n",
       "      <td>8.020736e-01</td>\n",
       "      <td>0.0</td>\n",
       "      <td>0.00</td>\n",
       "      <td>0.00</td>\n",
       "      <td>1.0</td>\n",
       "      <td>3.0</td>\n",
       "    </tr>\n",
       "    <tr>\n",
       "      <td>parks_nearest</td>\n",
       "      <td>8079.0</td>\n",
       "      <td>4.908046e+02</td>\n",
       "      <td>3.423180e+02</td>\n",
       "      <td>1.0</td>\n",
       "      <td>288.00</td>\n",
       "      <td>455.00</td>\n",
       "      <td>612.0</td>\n",
       "      <td>3190.0</td>\n",
       "    </tr>\n",
       "    <tr>\n",
       "      <td>ponds_around3000</td>\n",
       "      <td>18181.0</td>\n",
       "      <td>7.702547e-01</td>\n",
       "      <td>9.383456e-01</td>\n",
       "      <td>0.0</td>\n",
       "      <td>0.00</td>\n",
       "      <td>1.00</td>\n",
       "      <td>1.0</td>\n",
       "      <td>3.0</td>\n",
       "    </tr>\n",
       "    <tr>\n",
       "      <td>ponds_nearest</td>\n",
       "      <td>9110.0</td>\n",
       "      <td>5.179809e+02</td>\n",
       "      <td>2.777206e+02</td>\n",
       "      <td>13.0</td>\n",
       "      <td>294.00</td>\n",
       "      <td>502.00</td>\n",
       "      <td>729.0</td>\n",
       "      <td>1344.0</td>\n",
       "    </tr>\n",
       "    <tr>\n",
       "      <td>days_exposition</td>\n",
       "      <td>20518.0</td>\n",
       "      <td>1.808886e+02</td>\n",
       "      <td>2.197280e+02</td>\n",
       "      <td>1.0</td>\n",
       "      <td>45.00</td>\n",
       "      <td>95.00</td>\n",
       "      <td>232.0</td>\n",
       "      <td>1580.0</td>\n",
       "    </tr>\n",
       "  </tbody>\n",
       "</table>\n",
       "</div>"
      ],
      "text/plain": [
       "                       count          mean           std      min         25%  \\\n",
       "total_images         23699.0  9.858475e+00  5.682529e+00      0.0        6.00   \n",
       "last_price           23699.0  6.541549e+06  1.088701e+07  12190.0  3400000.00   \n",
       "total_area           23699.0  6.034865e+01  3.565408e+01     12.0       40.00   \n",
       "rooms                23699.0  2.070636e+00  1.078405e+00      0.0        1.00   \n",
       "ceiling_height       14504.0  2.771499e+00  1.261056e+00      1.0        2.52   \n",
       "floors_total         23613.0  1.067382e+01  6.597173e+00      1.0        5.00   \n",
       "living_area          21796.0  3.445785e+01  2.203045e+01      2.0       18.60   \n",
       "floor                23699.0  5.892358e+00  4.885249e+00      1.0        2.00   \n",
       "kitchen_area         21421.0  1.056981e+01  5.905438e+00      1.3        7.00   \n",
       "balcony              12180.0  1.150082e+00  1.071300e+00      0.0        0.00   \n",
       "airports_nearest     18157.0  2.879367e+04  1.263088e+04      0.0    18585.00   \n",
       "cityCenters_nearest  18180.0  1.419128e+04  8.608386e+03    181.0     9238.00   \n",
       "parks_around3000     18181.0  6.114075e-01  8.020736e-01      0.0        0.00   \n",
       "parks_nearest         8079.0  4.908046e+02  3.423180e+02      1.0      288.00   \n",
       "ponds_around3000     18181.0  7.702547e-01  9.383456e-01      0.0        0.00   \n",
       "ponds_nearest         9110.0  5.179809e+02  2.777206e+02     13.0      294.00   \n",
       "days_exposition      20518.0  1.808886e+02  2.197280e+02      1.0       45.00   \n",
       "\n",
       "                            50%        75%          max  \n",
       "total_images               9.00       14.0         50.0  \n",
       "last_price           4650000.00  6800000.0  763000000.0  \n",
       "total_area                52.00       69.9        900.0  \n",
       "rooms                      2.00        3.0         19.0  \n",
       "ceiling_height             2.65        2.8        100.0  \n",
       "floors_total               9.00       16.0         60.0  \n",
       "living_area               30.00       42.3        409.7  \n",
       "floor                      4.00        8.0         33.0  \n",
       "kitchen_area               9.10       12.0        112.0  \n",
       "balcony                    1.00        2.0          5.0  \n",
       "airports_nearest       26726.00    37273.0      84869.0  \n",
       "cityCenters_nearest    13098.50    16293.0      65968.0  \n",
       "parks_around3000           0.00        1.0          3.0  \n",
       "parks_nearest            455.00      612.0       3190.0  \n",
       "ponds_around3000           1.00        1.0          3.0  \n",
       "ponds_nearest            502.00      729.0       1344.0  \n",
       "days_exposition           95.00      232.0       1580.0  "
      ]
     },
     "execution_count": 6,
     "metadata": {},
     "output_type": "execute_result"
    }
   ],
   "source": [
    "aparts.describe().T"
   ]
  },
  {
   "cell_type": "markdown",
   "metadata": {},
   "source": [
    "<div class=\"alert alert-info\">\n",
    "<h2> Комментарий студента</h2>\n",
    "\n",
    "Сделано.\n",
    "</div>"
   ]
  },
  {
   "cell_type": "markdown",
   "metadata": {},
   "source": [
    "Помимо пропусков, я погорячился с оценкой. Они не идут ни в какой счёт с квартирами со 100-метровыми потолками. Насчёт 19 комнат тоже классно, но недавно какой-то чиновник записал аналогичную на свою бабушку. Может, это мой шанс разоблачить его? Но всё же, начнём с пропусков."
   ]
  },
  {
   "cell_type": "code",
   "execution_count": 7,
   "metadata": {
    "scrolled": true
   },
   "outputs": [
    {
     "name": "stdout",
     "output_type": "stream",
     "text": [
      "<class 'pandas.core.frame.DataFrame'>\n",
      "RangeIndex: 23699 entries, 0 to 23698\n",
      "Data columns (total 22 columns):\n",
      "total_images            23699 non-null int64\n",
      "last_price              23699 non-null float64\n",
      "total_area              23699 non-null float64\n",
      "first_day_exposition    23699 non-null object\n",
      "rooms                   23699 non-null int64\n",
      "ceiling_height          14504 non-null float64\n",
      "floors_total            23613 non-null float64\n",
      "living_area             21796 non-null float64\n",
      "floor                   23699 non-null int64\n",
      "is_apartment            2775 non-null object\n",
      "studio                  23699 non-null bool\n",
      "open_plan               23699 non-null bool\n",
      "kitchen_area            21421 non-null float64\n",
      "balcony                 12180 non-null float64\n",
      "locality_name           23650 non-null object\n",
      "airports_nearest        18157 non-null float64\n",
      "cityCenters_nearest     18180 non-null float64\n",
      "parks_around3000        18181 non-null float64\n",
      "parks_nearest           8079 non-null float64\n",
      "ponds_around3000        18181 non-null float64\n",
      "ponds_nearest           9110 non-null float64\n",
      "days_exposition         20518 non-null float64\n",
      "dtypes: bool(2), float64(14), int64(3), object(3)\n",
      "memory usage: 3.7+ MB\n"
     ]
    }
   ],
   "source": [
    "aparts.info()"
   ]
  },
  {
   "cell_type": "markdown",
   "metadata": {},
   "source": [
    "Иногда число пропусков просто огромное. Посмотрим общее число записей."
   ]
  },
  {
   "cell_type": "code",
   "execution_count": 8,
   "metadata": {},
   "outputs": [
    {
     "data": {
      "text/plain": [
       "23699"
      ]
     },
     "execution_count": 8,
     "metadata": {},
     "output_type": "execute_result"
    }
   ],
   "source": [
    "max_entries = len(aparts)\n",
    "max_entries"
   ]
  },
  {
   "cell_type": "markdown",
   "metadata": {},
   "source": [
    "Посмотрим число пропущенных записей по столбцам."
   ]
  },
  {
   "cell_type": "code",
   "execution_count": 9,
   "metadata": {},
   "outputs": [
    {
     "data": {
      "text/plain": [
       "Index(['total_images', 'last_price', 'total_area', 'first_day_exposition',\n",
       "       'rooms', 'ceiling_height', 'floors_total', 'living_area', 'floor',\n",
       "       'is_apartment', 'studio', 'open_plan', 'kitchen_area', 'balcony',\n",
       "       'locality_name', 'airports_nearest', 'cityCenters_nearest',\n",
       "       'parks_around3000', 'parks_nearest', 'ponds_around3000',\n",
       "       'ponds_nearest', 'days_exposition'],\n",
       "      dtype='object')"
      ]
     },
     "execution_count": 9,
     "metadata": {},
     "output_type": "execute_result"
    }
   ],
   "source": [
    "headers = aparts.dtypes.index\n",
    "headers"
   ]
  },
  {
   "cell_type": "code",
   "execution_count": 10,
   "metadata": {
    "scrolled": false
   },
   "outputs": [
    {
     "data": {
      "image/png": "[encoded data removed]",
      "text/plain": [
       "<Figure size 432x288 with 1 Axes>"
      ]
     },
     "metadata": {
      "needs_background": "light"
     },
     "output_type": "display_data"
    },
    {
     "data": {
      "text/plain": [
       "[23699,\n",
       " 23699,\n",
       " 23699,\n",
       " 23699,\n",
       " 23699,\n",
       " 14504,\n",
       " 23613,\n",
       " 21796,\n",
       " 23699,\n",
       " 2775,\n",
       " 23699,\n",
       " 23699,\n",
       " 21421,\n",
       " 12180,\n",
       " 23650,\n",
       " 18157,\n",
       " 18180,\n",
       " 18181,\n",
       " 8079,\n",
       " 18181,\n",
       " 9110,\n",
       " 20518]"
      ]
     },
     "execution_count": 10,
     "metadata": {},
     "output_type": "execute_result"
    }
   ],
   "source": [
    "numbers = []\n",
    "for i in headers:\n",
    "    numbers.append(max_entries-(aparts[i].isna().sum()))\n",
    "plt.hist(numbers)\n",
    "plt.show()\n",
    "numbers\n"
   ]
  },
  {
   "cell_type": "markdown",
   "metadata": {},
   "source": [
    "Не самая понятная гистограмма, демонстрирующая, что я знаю и hist(). Но такое выпадение подавляет. Давайте-ка выведем поточнее, что там недозаполнено."
   ]
  },
  {
   "cell_type": "markdown",
   "metadata": {},
   "source": [
    "<div class=\"alert alert-block alert-success\">\n",
    "<b>Success:</b> хех :)"
   ]
  },
  {
   "cell_type": "code",
   "execution_count": 11,
   "metadata": {
    "scrolled": true
   },
   "outputs": [
    {
     "name": "stdout",
     "output_type": "stream",
     "text": [
      "total_images : 23699\n",
      "last_price : 23699\n",
      "total_area : 23699\n",
      "first_day_exposition : 23699\n",
      "rooms : 23699\n",
      "ceiling_height : 14504\n",
      "floors_total : 23613\n",
      "living_area : 21796\n",
      "floor : 23699\n",
      "is_apartment : 2775\n",
      "studio : 23699\n",
      "open_plan : 23699\n",
      "kitchen_area : 21421\n",
      "balcony : 12180\n",
      "locality_name : 23650\n",
      "airports_nearest : 18157\n",
      "cityCenters_nearest : 18180\n",
      "parks_around3000 : 18181\n",
      "parks_nearest : 8079\n",
      "ponds_around3000 : 18181\n",
      "ponds_nearest : 9110\n",
      "days_exposition : 20518\n"
     ]
    }
   ],
   "source": [
    "for i in range(len(headers)):\n",
    "    print(headers[i], ':', numbers[i])"
   ]
  },
  {
   "cell_type": "markdown",
   "metadata": {},
   "source": [
    "\n",
    "<div class=\"alert alert-block alert-warning\">\n",
    "<b>Remarks:</b> давай сюда еще добавим информацию, какой это процент данных от общего числа данных пропущен"
   ]
  },
  {
   "cell_type": "markdown",
   "metadata": {},
   "source": [
    "<div class=\"alert alert-info\">\n",
    "<h2> Комментарий студента</h2>\n",
    "\n",
    "Я сделал наоборот - насколько заполнена таблица, коли уж я иду от числа записей. Но можно и 100 минус х.\n",
    "</div>"
   ]
  },
  {
   "cell_type": "markdown",
   "metadata": {},
   "source": [
    "<div class=\"alert alert-block alert-success\">\n",
    "Тоже вариант :)"
   ]
  },
  {
   "cell_type": "code",
   "execution_count": 67,
   "metadata": {},
   "outputs": [
    {
     "name": "stdout",
     "output_type": "stream",
     "text": [
      "total_images : 23699 : 100 %\n",
      "last_price : 23699 : 100 %\n",
      "total_area : 23699 : 100 %\n",
      "first_day_exposition : 23699 : 100 %\n",
      "rooms : 23699 : 100 %\n",
      "ceiling_height : 14504 : 61 %\n",
      "floors_total : 23613 : 99 %\n",
      "living_area : 21796 : 91 %\n",
      "floor : 23699 : 100 %\n",
      "is_apartment : 2775 : 11 %\n",
      "studio : 23699 : 100 %\n",
      "open_plan : 23699 : 100 %\n",
      "kitchen_area : 21421 : 90 %\n",
      "balcony : 12180 : 51 %\n",
      "locality_name : 23650 : 99 %\n",
      "airports_nearest : 18157 : 76 %\n",
      "cityCenters_nearest : 18180 : 76 %\n",
      "parks_around3000 : 18181 : 76 %\n",
      "parks_nearest : 8079 : 34 %\n",
      "ponds_around3000 : 18181 : 76 %\n",
      "ponds_nearest : 9110 : 38 %\n",
      "days_exposition : 20518 : 86 %\n"
     ]
    }
   ],
   "source": [
    "for i in range(len(headers)):\n",
    "    print(headers[i], ':', numbers[i], ':', int(numbers[i]*100/max_entries), '%')"
   ]
  },
  {
   "cell_type": "markdown",
   "metadata": {},
   "source": [
    "Питон надёжнее, чем эти фреймворки! В общем, что мы видим. ceiling_height - пропущено много, а величина обязательная. Скорее всего, его поленились заполнять.\n",
    "is_apartment - тут проще, значит, остальные не \"апартаменты\".\n",
    "balcony - смело заменим NaN на нули!\n",
    "parks_around3000, ponds_around3000, parks_nearest, ponds_nearest - данные не заполнены.\n",
    "Есть ещё пара идей, например, с населённым пунктом - данные можно взять из расстояния от центра. В общем, есть над чем поработать!"
   ]
  },
  {
   "cell_type": "markdown",
   "metadata": {},
   "source": [
    "### Вывод"
   ]
  },
  {
   "cell_type": "markdown",
   "metadata": {},
   "source": [
    "Данные замусорены, грязные, иногда с явно неверными сведениями (высота потолков). Будем над этим работать!"
   ]
  },
  {
   "cell_type": "markdown",
   "metadata": {},
   "source": [
    "## Предобработка данных"
   ]
  },
  {
   "cell_type": "markdown",
   "metadata": {},
   "source": [
    "Но я начну с апартаментов. Самое простое!"
   ]
  },
  {
   "cell_type": "code",
   "execution_count": 13,
   "metadata": {},
   "outputs": [
    {
     "name": "stdout",
     "output_type": "stream",
     "text": [
      "Количество NaN в столбце is_apartment: 20924\n"
     ]
    },
    {
     "data": {
      "text/plain": [
       "False    2725\n",
       "True       50\n",
       "Name: is_apartment, dtype: int64"
      ]
     },
     "execution_count": 13,
     "metadata": {},
     "output_type": "execute_result"
    }
   ],
   "source": [
    "print('Количество NaN в столбце is_apartment:', aparts['is_apartment'].isnull().sum())\n",
    "aparts['is_apartment'].value_counts()"
   ]
  },
  {
   "cell_type": "markdown",
   "metadata": {},
   "source": [
    "В XVIII веке в России апартаментами называли личные жилые помещения в больших поместьях. С этой точки зрения, расчёт верен. Согласно приказу Министерства культуры России, апартамент — это две и более жилые комнаты (гостиная/столовая и спальня (кабинет)). Тут цифра 50 является смешной. Эй, разработчики, определитесь там уже!"
   ]
  },
  {
   "cell_type": "markdown",
   "metadata": {},
   "source": [
    "<div class=\"alert alert-block alert-success\">\n",
    "<b>Success:</b> кстати верно подмечено, что формулировка не ясна и возможно требуется уточнение от заказчика"
   ]
  },
  {
   "cell_type": "markdown",
   "metadata": {},
   "source": [
    "Чёрт с ними, с апартаментами. Вернусь позже. Посмотрим на другую лёгкую задачу - балконы! Заполним нулями."
   ]
  },
  {
   "cell_type": "code",
   "execution_count": 14,
   "metadata": {},
   "outputs": [
    {
     "name": "stdout",
     "output_type": "stream",
     "text": [
      "Число NaN в столбце balcony: 0\n"
     ]
    }
   ],
   "source": [
    "aparts['balcony'] = aparts['balcony'].fillna(0)\n",
    "print('Число NaN в столбце balcony:', aparts['balcony'].isnull().sum())"
   ]
  },
  {
   "cell_type": "markdown",
   "metadata": {},
   "source": [
    "Теперь посмотрим, что там с airports_nearest и cityCenters_nearest. Посчитаем пробелы."
   ]
  },
  {
   "cell_type": "code",
   "execution_count": 15,
   "metadata": {},
   "outputs": [
    {
     "name": "stdout",
     "output_type": "stream",
     "text": [
      "Количество NaN по airports_nearest: 5542\n",
      "Количество NaN по cityCenters_nearest: 5519\n"
     ]
    }
   ],
   "source": [
    "print('Количество NaN по airports_nearest:', aparts['airports_nearest'].isnull().sum())\n",
    "print('Количество NaN по cityCenters_nearest:', aparts['cityCenters_nearest'].isnull().sum())"
   ]
  },
  {
   "cell_type": "markdown",
   "metadata": {},
   "source": [
    "Число подозрительно похоже. А что, если..."
   ]
  },
  {
   "cell_type": "code",
   "execution_count": 16,
   "metadata": {
    "scrolled": true
   },
   "outputs": [
    {
     "name": "stdout",
     "output_type": "stream",
     "text": [
      "Попарно NaN в airports_nearest и в cityCenters_nearest в 5518 строках\n"
     ]
    }
   ],
   "source": [
    "print('Попарно NaN в airports_nearest и в cityCenters_nearest в {} строках'.\n",
    "      format(aparts.query('airports_nearest != airports_nearest and cityCenters_nearest != cityCenters_nearest').shape[0]))"
   ]
  },
  {
   "cell_type": "markdown",
   "metadata": {},
   "source": [
    "Ага, почти все они расположены попарно. Возможно, не посчитали нужным внести эти изменения, поскольку люди и так живут в центре."
   ]
  },
  {
   "cell_type": "markdown",
   "metadata": {},
   "source": [
    "## Расчёты и добавление результатов в таблицу"
   ]
  },
  {
   "cell_type": "markdown",
   "metadata": {},
   "source": [
    "Прежде всего, добавим столбец, насколько далеко находятся квартиры от центра. Напишем функцию."
   ]
  },
  {
   "cell_type": "code",
   "execution_count": 17,
   "metadata": {},
   "outputs": [],
   "source": [
    "def get_center(row):\n",
    "    if row['cityCenters_nearest'] < 2500:\n",
    "        return 'самый центр'\n",
    "    elif row['cityCenters_nearest'] < 5000:\n",
    "        return 'центр'\n",
    "    elif row['cityCenters_nearest'] < 17000:\n",
    "        return 'спальный район'\n",
    "    elif row['cityCenters_nearest'] >= 17000:\n",
    "        return 'область'"
   ]
  },
  {
   "cell_type": "code",
   "execution_count": 18,
   "metadata": {
    "scrolled": true
   },
   "outputs": [
    {
     "data": {
      "text/html": [
       "<div>\n",
       "<style scoped>\n",
       "    .dataframe tbody tr th:only-of-type {\n",
       "        vertical-align: middle;\n",
       "    }\n",
       "\n",
       "    .dataframe tbody tr th {\n",
       "        vertical-align: top;\n",
       "    }\n",
       "\n",
       "    .dataframe thead th {\n",
       "        text-align: right;\n",
       "    }\n",
       "</style>\n",
       "<table border=\"1\" class=\"dataframe\">\n",
       "  <thead>\n",
       "    <tr style=\"text-align: right;\">\n",
       "      <th></th>\n",
       "      <th>locality_name</th>\n",
       "      <th>cityCenters_nearest</th>\n",
       "      <th>fromcenter_category</th>\n",
       "    </tr>\n",
       "  </thead>\n",
       "  <tbody>\n",
       "    <tr>\n",
       "      <td>0</td>\n",
       "      <td>Санкт-Петербург</td>\n",
       "      <td>16028.0</td>\n",
       "      <td>спальный район</td>\n",
       "    </tr>\n",
       "    <tr>\n",
       "      <td>1</td>\n",
       "      <td>посёлок Шушары</td>\n",
       "      <td>18603.0</td>\n",
       "      <td>область</td>\n",
       "    </tr>\n",
       "    <tr>\n",
       "      <td>2</td>\n",
       "      <td>Санкт-Петербург</td>\n",
       "      <td>13933.0</td>\n",
       "      <td>спальный район</td>\n",
       "    </tr>\n",
       "    <tr>\n",
       "      <td>3</td>\n",
       "      <td>Санкт-Петербург</td>\n",
       "      <td>6800.0</td>\n",
       "      <td>спальный район</td>\n",
       "    </tr>\n",
       "    <tr>\n",
       "      <td>4</td>\n",
       "      <td>Санкт-Петербург</td>\n",
       "      <td>8098.0</td>\n",
       "      <td>спальный район</td>\n",
       "    </tr>\n",
       "    <tr>\n",
       "      <td>5</td>\n",
       "      <td>городской посёлок Янино-1</td>\n",
       "      <td>NaN</td>\n",
       "      <td>None</td>\n",
       "    </tr>\n",
       "    <tr>\n",
       "      <td>6</td>\n",
       "      <td>посёлок Парголово</td>\n",
       "      <td>19143.0</td>\n",
       "      <td>область</td>\n",
       "    </tr>\n",
       "    <tr>\n",
       "      <td>7</td>\n",
       "      <td>Санкт-Петербург</td>\n",
       "      <td>11634.0</td>\n",
       "      <td>спальный район</td>\n",
       "    </tr>\n",
       "    <tr>\n",
       "      <td>8</td>\n",
       "      <td>посёлок Мурино</td>\n",
       "      <td>NaN</td>\n",
       "      <td>None</td>\n",
       "    </tr>\n",
       "    <tr>\n",
       "      <td>9</td>\n",
       "      <td>Санкт-Петербург</td>\n",
       "      <td>15008.0</td>\n",
       "      <td>спальный район</td>\n",
       "    </tr>\n",
       "  </tbody>\n",
       "</table>\n",
       "</div>"
      ],
      "text/plain": [
       "               locality_name  cityCenters_nearest fromcenter_category\n",
       "0            Санкт-Петербург              16028.0      спальный район\n",
       "1             посёлок Шушары              18603.0             область\n",
       "2            Санкт-Петербург              13933.0      спальный район\n",
       "3            Санкт-Петербург               6800.0      спальный район\n",
       "4            Санкт-Петербург               8098.0      спальный район\n",
       "5  городской посёлок Янино-1                  NaN                None\n",
       "6          посёлок Парголово              19143.0             область\n",
       "7            Санкт-Петербург              11634.0      спальный район\n",
       "8             посёлок Мурино                  NaN                None\n",
       "9            Санкт-Петербург              15008.0      спальный район"
      ]
     },
     "execution_count": 18,
     "metadata": {},
     "output_type": "execute_result"
    }
   ],
   "source": [
    "aparts['fromcenter_category'] = aparts.apply(get_center, axis=1)\n",
    "aparts[['locality_name', 'cityCenters_nearest', 'fromcenter_category']].head(10)"
   ]
  },
  {
   "cell_type": "markdown",
   "metadata": {},
   "source": [
    "Вообще, я хотел заполнить нулями NaN в cityCenters_nearest. Но я сам из Спб и понимаю, что от Янино до центра - не 0 метров... Похоже, надо обратиться к программистам дозаполнить поля в зависимости от локации."
   ]
  },
  {
   "cell_type": "markdown",
   "metadata": {},
   "source": [
    "<div class=\"alert alert-block alert-success\">\n",
    "<b>Success:</b> отлично)"
   ]
  },
  {
   "cell_type": "markdown",
   "metadata": {},
   "source": [
    "Заполним пропуски в столбце ceiling_height средним по каждой группе fromcenter_category, кроме NaN."
   ]
  },
  {
   "cell_type": "code",
   "execution_count": 19,
   "metadata": {},
   "outputs": [
    {
     "data": {
      "text/html": [
       "<div>\n",
       "<style scoped>\n",
       "    .dataframe tbody tr th:only-of-type {\n",
       "        vertical-align: middle;\n",
       "    }\n",
       "\n",
       "    .dataframe tbody tr th {\n",
       "        vertical-align: top;\n",
       "    }\n",
       "\n",
       "    .dataframe thead th {\n",
       "        text-align: right;\n",
       "    }\n",
       "</style>\n",
       "<table border=\"1\" class=\"dataframe\">\n",
       "  <thead>\n",
       "    <tr style=\"text-align: right;\">\n",
       "      <th></th>\n",
       "      <th>ceiling_height</th>\n",
       "    </tr>\n",
       "    <tr>\n",
       "      <th>fromcenter_category</th>\n",
       "      <th></th>\n",
       "    </tr>\n",
       "  </thead>\n",
       "  <tbody>\n",
       "    <tr>\n",
       "      <td>самый центр</td>\n",
       "      <td>3.239759</td>\n",
       "    </tr>\n",
       "    <tr>\n",
       "      <td>центр</td>\n",
       "      <td>3.189076</td>\n",
       "    </tr>\n",
       "    <tr>\n",
       "      <td>спальный район</td>\n",
       "      <td>2.744391</td>\n",
       "    </tr>\n",
       "    <tr>\n",
       "      <td>область</td>\n",
       "      <td>2.677288</td>\n",
       "    </tr>\n",
       "  </tbody>\n",
       "</table>\n",
       "</div>"
      ],
      "text/plain": [
       "                     ceiling_height\n",
       "fromcenter_category                \n",
       "самый центр                3.239759\n",
       "центр                      3.189076\n",
       "спальный район             2.744391\n",
       "область                    2.677288"
      ]
     },
     "execution_count": 19,
     "metadata": {},
     "output_type": "execute_result"
    }
   ],
   "source": [
    "aparts.groupby('fromcenter_category')['ceiling_height'].mean().sort_values(ascending=False).to_frame()"
   ]
  },
  {
   "cell_type": "code",
   "execution_count": 20,
   "metadata": {
    "scrolled": false
   },
   "outputs": [
    {
     "data": {
      "text/html": [
       "<div>\n",
       "<style scoped>\n",
       "    .dataframe tbody tr th:only-of-type {\n",
       "        vertical-align: middle;\n",
       "    }\n",
       "\n",
       "    .dataframe tbody tr th {\n",
       "        vertical-align: top;\n",
       "    }\n",
       "\n",
       "    .dataframe thead th {\n",
       "        text-align: right;\n",
       "    }\n",
       "</style>\n",
       "<table border=\"1\" class=\"dataframe\">\n",
       "  <thead>\n",
       "    <tr style=\"text-align: right;\">\n",
       "      <th></th>\n",
       "      <th>total_images</th>\n",
       "      <th>last_price</th>\n",
       "      <th>total_area</th>\n",
       "      <th>first_day_exposition</th>\n",
       "      <th>rooms</th>\n",
       "      <th>ceiling_height</th>\n",
       "      <th>floors_total</th>\n",
       "      <th>living_area</th>\n",
       "      <th>floor</th>\n",
       "      <th>is_apartment</th>\n",
       "      <th>...</th>\n",
       "      <th>balcony</th>\n",
       "      <th>locality_name</th>\n",
       "      <th>airports_nearest</th>\n",
       "      <th>cityCenters_nearest</th>\n",
       "      <th>parks_around3000</th>\n",
       "      <th>parks_nearest</th>\n",
       "      <th>ponds_around3000</th>\n",
       "      <th>ponds_nearest</th>\n",
       "      <th>days_exposition</th>\n",
       "      <th>fromcenter_category</th>\n",
       "    </tr>\n",
       "  </thead>\n",
       "  <tbody>\n",
       "    <tr>\n",
       "      <td>0</td>\n",
       "      <td>20</td>\n",
       "      <td>13000000.0</td>\n",
       "      <td>108.00</td>\n",
       "      <td>2019-03-07T00:00:00</td>\n",
       "      <td>3</td>\n",
       "      <td>2.700000</td>\n",
       "      <td>16.0</td>\n",
       "      <td>51.00</td>\n",
       "      <td>8</td>\n",
       "      <td>NaN</td>\n",
       "      <td>...</td>\n",
       "      <td>0.0</td>\n",
       "      <td>Санкт-Петербург</td>\n",
       "      <td>18863.0</td>\n",
       "      <td>16028.0</td>\n",
       "      <td>1.0</td>\n",
       "      <td>482.0</td>\n",
       "      <td>2.0</td>\n",
       "      <td>755.0</td>\n",
       "      <td>NaN</td>\n",
       "      <td>спальный район</td>\n",
       "    </tr>\n",
       "    <tr>\n",
       "      <td>1</td>\n",
       "      <td>7</td>\n",
       "      <td>3350000.0</td>\n",
       "      <td>40.40</td>\n",
       "      <td>2018-12-04T00:00:00</td>\n",
       "      <td>1</td>\n",
       "      <td>2.677288</td>\n",
       "      <td>11.0</td>\n",
       "      <td>18.60</td>\n",
       "      <td>1</td>\n",
       "      <td>NaN</td>\n",
       "      <td>...</td>\n",
       "      <td>2.0</td>\n",
       "      <td>посёлок Шушары</td>\n",
       "      <td>12817.0</td>\n",
       "      <td>18603.0</td>\n",
       "      <td>0.0</td>\n",
       "      <td>NaN</td>\n",
       "      <td>0.0</td>\n",
       "      <td>NaN</td>\n",
       "      <td>81.0</td>\n",
       "      <td>область</td>\n",
       "    </tr>\n",
       "    <tr>\n",
       "      <td>2</td>\n",
       "      <td>10</td>\n",
       "      <td>5196000.0</td>\n",
       "      <td>56.00</td>\n",
       "      <td>2015-08-20T00:00:00</td>\n",
       "      <td>2</td>\n",
       "      <td>2.744391</td>\n",
       "      <td>5.0</td>\n",
       "      <td>34.30</td>\n",
       "      <td>4</td>\n",
       "      <td>NaN</td>\n",
       "      <td>...</td>\n",
       "      <td>0.0</td>\n",
       "      <td>Санкт-Петербург</td>\n",
       "      <td>21741.0</td>\n",
       "      <td>13933.0</td>\n",
       "      <td>1.0</td>\n",
       "      <td>90.0</td>\n",
       "      <td>2.0</td>\n",
       "      <td>574.0</td>\n",
       "      <td>558.0</td>\n",
       "      <td>спальный район</td>\n",
       "    </tr>\n",
       "    <tr>\n",
       "      <td>3</td>\n",
       "      <td>0</td>\n",
       "      <td>64900000.0</td>\n",
       "      <td>159.00</td>\n",
       "      <td>2015-07-24T00:00:00</td>\n",
       "      <td>3</td>\n",
       "      <td>2.744391</td>\n",
       "      <td>14.0</td>\n",
       "      <td>NaN</td>\n",
       "      <td>9</td>\n",
       "      <td>NaN</td>\n",
       "      <td>...</td>\n",
       "      <td>0.0</td>\n",
       "      <td>Санкт-Петербург</td>\n",
       "      <td>28098.0</td>\n",
       "      <td>6800.0</td>\n",
       "      <td>2.0</td>\n",
       "      <td>84.0</td>\n",
       "      <td>3.0</td>\n",
       "      <td>234.0</td>\n",
       "      <td>424.0</td>\n",
       "      <td>спальный район</td>\n",
       "    </tr>\n",
       "    <tr>\n",
       "      <td>4</td>\n",
       "      <td>2</td>\n",
       "      <td>10000000.0</td>\n",
       "      <td>100.00</td>\n",
       "      <td>2018-06-19T00:00:00</td>\n",
       "      <td>2</td>\n",
       "      <td>3.030000</td>\n",
       "      <td>14.0</td>\n",
       "      <td>32.00</td>\n",
       "      <td>13</td>\n",
       "      <td>NaN</td>\n",
       "      <td>...</td>\n",
       "      <td>0.0</td>\n",
       "      <td>Санкт-Петербург</td>\n",
       "      <td>31856.0</td>\n",
       "      <td>8098.0</td>\n",
       "      <td>2.0</td>\n",
       "      <td>112.0</td>\n",
       "      <td>1.0</td>\n",
       "      <td>48.0</td>\n",
       "      <td>121.0</td>\n",
       "      <td>спальный район</td>\n",
       "    </tr>\n",
       "    <tr>\n",
       "      <td>5</td>\n",
       "      <td>10</td>\n",
       "      <td>2890000.0</td>\n",
       "      <td>30.40</td>\n",
       "      <td>2018-09-10T00:00:00</td>\n",
       "      <td>1</td>\n",
       "      <td>NaN</td>\n",
       "      <td>12.0</td>\n",
       "      <td>14.40</td>\n",
       "      <td>5</td>\n",
       "      <td>NaN</td>\n",
       "      <td>...</td>\n",
       "      <td>0.0</td>\n",
       "      <td>городской посёлок Янино-1</td>\n",
       "      <td>NaN</td>\n",
       "      <td>NaN</td>\n",
       "      <td>NaN</td>\n",
       "      <td>NaN</td>\n",
       "      <td>NaN</td>\n",
       "      <td>NaN</td>\n",
       "      <td>55.0</td>\n",
       "      <td>None</td>\n",
       "    </tr>\n",
       "    <tr>\n",
       "      <td>6</td>\n",
       "      <td>6</td>\n",
       "      <td>3700000.0</td>\n",
       "      <td>37.30</td>\n",
       "      <td>2017-11-02T00:00:00</td>\n",
       "      <td>1</td>\n",
       "      <td>2.677288</td>\n",
       "      <td>26.0</td>\n",
       "      <td>10.60</td>\n",
       "      <td>6</td>\n",
       "      <td>NaN</td>\n",
       "      <td>...</td>\n",
       "      <td>1.0</td>\n",
       "      <td>посёлок Парголово</td>\n",
       "      <td>52996.0</td>\n",
       "      <td>19143.0</td>\n",
       "      <td>0.0</td>\n",
       "      <td>NaN</td>\n",
       "      <td>0.0</td>\n",
       "      <td>NaN</td>\n",
       "      <td>155.0</td>\n",
       "      <td>область</td>\n",
       "    </tr>\n",
       "    <tr>\n",
       "      <td>7</td>\n",
       "      <td>5</td>\n",
       "      <td>7915000.0</td>\n",
       "      <td>71.60</td>\n",
       "      <td>2019-04-18T00:00:00</td>\n",
       "      <td>2</td>\n",
       "      <td>2.744391</td>\n",
       "      <td>24.0</td>\n",
       "      <td>NaN</td>\n",
       "      <td>22</td>\n",
       "      <td>NaN</td>\n",
       "      <td>...</td>\n",
       "      <td>2.0</td>\n",
       "      <td>Санкт-Петербург</td>\n",
       "      <td>23982.0</td>\n",
       "      <td>11634.0</td>\n",
       "      <td>0.0</td>\n",
       "      <td>NaN</td>\n",
       "      <td>0.0</td>\n",
       "      <td>NaN</td>\n",
       "      <td>NaN</td>\n",
       "      <td>спальный район</td>\n",
       "    </tr>\n",
       "    <tr>\n",
       "      <td>8</td>\n",
       "      <td>20</td>\n",
       "      <td>2900000.0</td>\n",
       "      <td>33.16</td>\n",
       "      <td>2018-05-23T00:00:00</td>\n",
       "      <td>1</td>\n",
       "      <td>NaN</td>\n",
       "      <td>27.0</td>\n",
       "      <td>15.43</td>\n",
       "      <td>26</td>\n",
       "      <td>NaN</td>\n",
       "      <td>...</td>\n",
       "      <td>0.0</td>\n",
       "      <td>посёлок Мурино</td>\n",
       "      <td>NaN</td>\n",
       "      <td>NaN</td>\n",
       "      <td>NaN</td>\n",
       "      <td>NaN</td>\n",
       "      <td>NaN</td>\n",
       "      <td>NaN</td>\n",
       "      <td>189.0</td>\n",
       "      <td>None</td>\n",
       "    </tr>\n",
       "    <tr>\n",
       "      <td>9</td>\n",
       "      <td>18</td>\n",
       "      <td>5400000.0</td>\n",
       "      <td>61.00</td>\n",
       "      <td>2017-02-26T00:00:00</td>\n",
       "      <td>3</td>\n",
       "      <td>2.500000</td>\n",
       "      <td>9.0</td>\n",
       "      <td>43.60</td>\n",
       "      <td>7</td>\n",
       "      <td>NaN</td>\n",
       "      <td>...</td>\n",
       "      <td>2.0</td>\n",
       "      <td>Санкт-Петербург</td>\n",
       "      <td>50898.0</td>\n",
       "      <td>15008.0</td>\n",
       "      <td>0.0</td>\n",
       "      <td>NaN</td>\n",
       "      <td>0.0</td>\n",
       "      <td>NaN</td>\n",
       "      <td>289.0</td>\n",
       "      <td>спальный район</td>\n",
       "    </tr>\n",
       "  </tbody>\n",
       "</table>\n",
       "<p>10 rows × 23 columns</p>\n",
       "</div>"
      ],
      "text/plain": [
       "   total_images  last_price  total_area first_day_exposition  rooms  \\\n",
       "0            20  13000000.0      108.00  2019-03-07T00:00:00      3   \n",
       "1             7   3350000.0       40.40  2018-12-04T00:00:00      1   \n",
       "2            10   5196000.0       56.00  2015-08-20T00:00:00      2   \n",
       "3             0  64900000.0      159.00  2015-07-24T00:00:00      3   \n",
       "4             2  10000000.0      100.00  2018-06-19T00:00:00      2   \n",
       "5            10   2890000.0       30.40  2018-09-10T00:00:00      1   \n",
       "6             6   3700000.0       37.30  2017-11-02T00:00:00      1   \n",
       "7             5   7915000.0       71.60  2019-04-18T00:00:00      2   \n",
       "8            20   2900000.0       33.16  2018-05-23T00:00:00      1   \n",
       "9            18   5400000.0       61.00  2017-02-26T00:00:00      3   \n",
       "\n",
       "   ceiling_height  floors_total  living_area  floor is_apartment  ...  \\\n",
       "0        2.700000          16.0        51.00      8          NaN  ...   \n",
       "1        2.677288          11.0        18.60      1          NaN  ...   \n",
       "2        2.744391           5.0        34.30      4          NaN  ...   \n",
       "3        2.744391          14.0          NaN      9          NaN  ...   \n",
       "4        3.030000          14.0        32.00     13          NaN  ...   \n",
       "5             NaN          12.0        14.40      5          NaN  ...   \n",
       "6        2.677288          26.0        10.60      6          NaN  ...   \n",
       "7        2.744391          24.0          NaN     22          NaN  ...   \n",
       "8             NaN          27.0        15.43     26          NaN  ...   \n",
       "9        2.500000           9.0        43.60      7          NaN  ...   \n",
       "\n",
       "   balcony              locality_name  airports_nearest  cityCenters_nearest  \\\n",
       "0      0.0            Санкт-Петербург           18863.0              16028.0   \n",
       "1      2.0             посёлок Шушары           12817.0              18603.0   \n",
       "2      0.0            Санкт-Петербург           21741.0              13933.0   \n",
       "3      0.0            Санкт-Петербург           28098.0               6800.0   \n",
       "4      0.0            Санкт-Петербург           31856.0               8098.0   \n",
       "5      0.0  городской посёлок Янино-1               NaN                  NaN   \n",
       "6      1.0          посёлок Парголово           52996.0              19143.0   \n",
       "7      2.0            Санкт-Петербург           23982.0              11634.0   \n",
       "8      0.0             посёлок Мурино               NaN                  NaN   \n",
       "9      2.0            Санкт-Петербург           50898.0              15008.0   \n",
       "\n",
       "  parks_around3000  parks_nearest  ponds_around3000  ponds_nearest  \\\n",
       "0              1.0          482.0               2.0          755.0   \n",
       "1              0.0            NaN               0.0            NaN   \n",
       "2              1.0           90.0               2.0          574.0   \n",
       "3              2.0           84.0               3.0          234.0   \n",
       "4              2.0          112.0               1.0           48.0   \n",
       "5              NaN            NaN               NaN            NaN   \n",
       "6              0.0            NaN               0.0            NaN   \n",
       "7              0.0            NaN               0.0            NaN   \n",
       "8              NaN            NaN               NaN            NaN   \n",
       "9              0.0            NaN               0.0            NaN   \n",
       "\n",
       "   days_exposition  fromcenter_category  \n",
       "0              NaN       спальный район  \n",
       "1             81.0              область  \n",
       "2            558.0       спальный район  \n",
       "3            424.0       спальный район  \n",
       "4            121.0       спальный район  \n",
       "5             55.0                 None  \n",
       "6            155.0              область  \n",
       "7              NaN       спальный район  \n",
       "8            189.0                 None  \n",
       "9            289.0       спальный район  \n",
       "\n",
       "[10 rows x 23 columns]"
      ]
     },
     "execution_count": 20,
     "metadata": {},
     "output_type": "execute_result"
    }
   ],
   "source": [
    "aparts['ceiling_height'] = aparts.groupby('fromcenter_category')['ceiling_height'].apply(lambda x: x.fillna(x.mean()))\n",
    "aparts.head(10)"
   ]
  },
  {
   "cell_type": "code",
   "execution_count": 21,
   "metadata": {},
   "outputs": [
    {
     "data": {
      "text/plain": [
       "5519"
      ]
     },
     "execution_count": 21,
     "metadata": {},
     "output_type": "execute_result"
    }
   ],
   "source": [
    "aparts['ceiling_height'].isnull().sum()"
   ]
  },
  {
   "cell_type": "markdown",
   "metadata": {},
   "source": [
    "Хороший результат, уменьшили пропуски в два раза. Обратимся к kitchen_area/living_area."
   ]
  },
  {
   "cell_type": "code",
   "execution_count": 22,
   "metadata": {
    "scrolled": true
   },
   "outputs": [
    {
     "name": "stdout",
     "output_type": "stream",
     "text": [
      "Количество NaN по kitchen_area: 2278\n",
      "Количество NaN по living_area: 1903\n"
     ]
    }
   ],
   "source": [
    "print('Количество NaN по kitchen_area:', aparts['kitchen_area'].isnull().sum())\n",
    "print('Количество NaN по living_area:', aparts['living_area'].isnull().sum())"
   ]
  },
  {
   "cell_type": "markdown",
   "metadata": {},
   "source": [
    "А вдруг это студии?"
   ]
  },
  {
   "cell_type": "code",
   "execution_count": 23,
   "metadata": {},
   "outputs": [
    {
     "data": {
      "text/plain": [
       "kitchen_area    197\n",
       "living_area      14\n",
       "dtype: int64"
      ]
     },
     "execution_count": 23,
     "metadata": {},
     "output_type": "execute_result"
    }
   ],
   "source": [
    "aparts.query('rooms == 0')[['kitchen_area', 'living_area']].isnull().sum()"
   ]
  },
  {
   "cell_type": "markdown",
   "metadata": {},
   "source": [
    "Плохо, и вообще NaN здесь не заполнить расчётом - квартиры из разных районов и планировка разная. А что там по дням?"
   ]
  },
  {
   "cell_type": "code",
   "execution_count": 24,
   "metadata": {
    "scrolled": true
   },
   "outputs": [
    {
     "name": "stdout",
     "output_type": "stream",
     "text": [
      "Количество NaN по days_exposition: 3181\n"
     ]
    }
   ],
   "source": [
    "print('Количество NaN по days_exposition:', aparts['days_exposition'].isnull().sum())"
   ]
  },
  {
   "cell_type": "markdown",
   "metadata": {},
   "source": [
    "<div class=\"alert alert-block alert-warning\">\n",
    "<b>Remarks:</b> пропуски в этом поле означают, что объявление не было снято с публикации на момент сбора данных"
   ]
  },
  {
   "cell_type": "markdown",
   "metadata": {},
   "source": [
    "<div class=\"alert alert-info\">\n",
    "<h2> Комментарий студента</h2>\n",
    "\n",
    "Отлично!\n",
    "</div>"
   ]
  },
  {
   "cell_type": "markdown",
   "metadata": {},
   "source": [
    "Здесь тоже, очевидно, mean или median не подойдут."
   ]
  },
  {
   "cell_type": "code",
   "execution_count": 25,
   "metadata": {},
   "outputs": [
    {
     "name": "stdout",
     "output_type": "stream",
     "text": [
      "Количество NaN по floors_total: 86\n"
     ]
    }
   ],
   "source": [
    "print('Количество NaN по floors_total:', aparts['floors_total'].isnull().sum())"
   ]
  },
  {
   "cell_type": "markdown",
   "metadata": {},
   "source": [
    "Ну что же, вероятно, это тоже приемлемо. И, наконец, смотрим locality_name: проверим, есть ли данные по расстоянию от центра города. Возможно, эта квартира находится в пределах Санкт-Петербурга:"
   ]
  },
  {
   "cell_type": "code",
   "execution_count": 26,
   "metadata": {
    "scrolled": true
   },
   "outputs": [
    {
     "name": "stdout",
     "output_type": "stream",
     "text": [
      "Количество NaN по locality_name: 49\n"
     ]
    },
    {
     "data": {
      "text/html": [
       "<div>\n",
       "<style scoped>\n",
       "    .dataframe tbody tr th:only-of-type {\n",
       "        vertical-align: middle;\n",
       "    }\n",
       "\n",
       "    .dataframe tbody tr th {\n",
       "        vertical-align: top;\n",
       "    }\n",
       "\n",
       "    .dataframe thead th {\n",
       "        text-align: right;\n",
       "    }\n",
       "</style>\n",
       "<table border=\"1\" class=\"dataframe\">\n",
       "  <thead>\n",
       "    <tr style=\"text-align: right;\">\n",
       "      <th></th>\n",
       "      <th>locality_name</th>\n",
       "      <th>cityCenters_nearest</th>\n",
       "    </tr>\n",
       "  </thead>\n",
       "  <tbody>\n",
       "    <tr>\n",
       "      <td>1097</td>\n",
       "      <td>NaN</td>\n",
       "      <td>4258.0</td>\n",
       "    </tr>\n",
       "    <tr>\n",
       "      <td>2033</td>\n",
       "      <td>NaN</td>\n",
       "      <td>NaN</td>\n",
       "    </tr>\n",
       "    <tr>\n",
       "      <td>2603</td>\n",
       "      <td>NaN</td>\n",
       "      <td>17369.0</td>\n",
       "    </tr>\n",
       "    <tr>\n",
       "      <td>2632</td>\n",
       "      <td>NaN</td>\n",
       "      <td>17369.0</td>\n",
       "    </tr>\n",
       "    <tr>\n",
       "      <td>3574</td>\n",
       "      <td>NaN</td>\n",
       "      <td>8127.0</td>\n",
       "    </tr>\n",
       "  </tbody>\n",
       "</table>\n",
       "</div>"
      ],
      "text/plain": [
       "     locality_name  cityCenters_nearest\n",
       "1097           NaN               4258.0\n",
       "2033           NaN                  NaN\n",
       "2603           NaN              17369.0\n",
       "2632           NaN              17369.0\n",
       "3574           NaN               8127.0"
      ]
     },
     "execution_count": 26,
     "metadata": {},
     "output_type": "execute_result"
    }
   ],
   "source": [
    "print('Количество NaN по locality_name:', aparts['locality_name'].isnull().sum())\n",
    "aparts[(aparts['locality_name'].isnull())][['locality_name', 'cityCenters_nearest']].head()"
   ]
  },
  {
   "cell_type": "markdown",
   "metadata": {},
   "source": [
    "Почти везде, где не указан город, есть расстояние от центра. Это очень хорошо, так как мы можем ранжировать город и область. Например, меньше 10 км - Петербург."
   ]
  },
  {
   "cell_type": "markdown",
   "metadata": {},
   "source": [
    "<div class=\"alert alert-block alert-success\">\n",
    "<b>Success:</b> это очень хороший план :)"
   ]
  },
  {
   "cell_type": "code",
   "execution_count": 27,
   "metadata": {},
   "outputs": [],
   "source": [
    "aparts.loc[(aparts['locality_name'].isnull()) & (aparts['cityCenters_nearest'] < 10000), 'locality_name'] = aparts.loc[(aparts['locality_name'].isnull()) & (aparts['cityCenters_nearest'] < 10000), 'locality_name'].fillna('Санкт-Петербург')"
   ]
  },
  {
   "cell_type": "code",
   "execution_count": 28,
   "metadata": {
    "scrolled": true
   },
   "outputs": [
    {
     "name": "stdout",
     "output_type": "stream",
     "text": [
      "Количество NaN по locality_name: 24\n"
     ]
    }
   ],
   "source": [
    "print('Количество NaN по locality_name:', aparts['locality_name'].isnull().sum())"
   ]
  },
  {
   "cell_type": "markdown",
   "metadata": {},
   "source": [
    "Теперь изменим типы данных."
   ]
  },
  {
   "cell_type": "code",
   "execution_count": 29,
   "metadata": {
    "scrolled": true
   },
   "outputs": [
    {
     "name": "stdout",
     "output_type": "stream",
     "text": [
      "<class 'pandas.core.frame.DataFrame'>\n",
      "RangeIndex: 23699 entries, 0 to 23698\n",
      "Data columns (total 23 columns):\n",
      "total_images            23699 non-null int64\n",
      "last_price              23699 non-null float64\n",
      "total_area              23699 non-null float64\n",
      "first_day_exposition    23699 non-null object\n",
      "rooms                   23699 non-null int64\n",
      "ceiling_height          18180 non-null float64\n",
      "floors_total            23613 non-null float64\n",
      "living_area             21796 non-null float64\n",
      "floor                   23699 non-null int64\n",
      "is_apartment            2775 non-null object\n",
      "studio                  23699 non-null bool\n",
      "open_plan               23699 non-null bool\n",
      "kitchen_area            21421 non-null float64\n",
      "balcony                 23699 non-null float64\n",
      "locality_name           23675 non-null object\n",
      "airports_nearest        18157 non-null float64\n",
      "cityCenters_nearest     18180 non-null float64\n",
      "parks_around3000        18181 non-null float64\n",
      "parks_nearest           8079 non-null float64\n",
      "ponds_around3000        18181 non-null float64\n",
      "ponds_nearest           9110 non-null float64\n",
      "days_exposition         20518 non-null float64\n",
      "fromcenter_category     18180 non-null object\n",
      "dtypes: bool(2), float64(14), int64(3), object(4)\n",
      "memory usage: 3.8+ MB\n"
     ]
    }
   ],
   "source": [
    "aparts.info()"
   ]
  },
  {
   "cell_type": "code",
   "execution_count": 30,
   "metadata": {
    "scrolled": true
   },
   "outputs": [
    {
     "data": {
      "text/html": [
       "<div>\n",
       "<style scoped>\n",
       "    .dataframe tbody tr th:only-of-type {\n",
       "        vertical-align: middle;\n",
       "    }\n",
       "\n",
       "    .dataframe tbody tr th {\n",
       "        vertical-align: top;\n",
       "    }\n",
       "\n",
       "    .dataframe thead th {\n",
       "        text-align: right;\n",
       "    }\n",
       "</style>\n",
       "<table border=\"1\" class=\"dataframe\">\n",
       "  <thead>\n",
       "    <tr style=\"text-align: right;\">\n",
       "      <th></th>\n",
       "      <th>total_images</th>\n",
       "      <th>last_price</th>\n",
       "      <th>total_area</th>\n",
       "      <th>first_day_exposition</th>\n",
       "      <th>rooms</th>\n",
       "      <th>ceiling_height</th>\n",
       "      <th>floors_total</th>\n",
       "      <th>living_area</th>\n",
       "      <th>floor</th>\n",
       "      <th>is_apartment</th>\n",
       "      <th>...</th>\n",
       "      <th>balcony</th>\n",
       "      <th>locality_name</th>\n",
       "      <th>airports_nearest</th>\n",
       "      <th>cityCenters_nearest</th>\n",
       "      <th>parks_around3000</th>\n",
       "      <th>parks_nearest</th>\n",
       "      <th>ponds_around3000</th>\n",
       "      <th>ponds_nearest</th>\n",
       "      <th>days_exposition</th>\n",
       "      <th>fromcenter_category</th>\n",
       "    </tr>\n",
       "  </thead>\n",
       "  <tbody>\n",
       "    <tr>\n",
       "      <td>0</td>\n",
       "      <td>20</td>\n",
       "      <td>13000000.0</td>\n",
       "      <td>108.0</td>\n",
       "      <td>2019-03-07T00:00:00</td>\n",
       "      <td>3</td>\n",
       "      <td>2.700000</td>\n",
       "      <td>16.0</td>\n",
       "      <td>51.0</td>\n",
       "      <td>8</td>\n",
       "      <td>NaN</td>\n",
       "      <td>...</td>\n",
       "      <td>0.0</td>\n",
       "      <td>Санкт-Петербург</td>\n",
       "      <td>18863.0</td>\n",
       "      <td>16028.0</td>\n",
       "      <td>1.0</td>\n",
       "      <td>482.0</td>\n",
       "      <td>2.0</td>\n",
       "      <td>755.0</td>\n",
       "      <td>NaN</td>\n",
       "      <td>спальный район</td>\n",
       "    </tr>\n",
       "    <tr>\n",
       "      <td>1</td>\n",
       "      <td>7</td>\n",
       "      <td>3350000.0</td>\n",
       "      <td>40.4</td>\n",
       "      <td>2018-12-04T00:00:00</td>\n",
       "      <td>1</td>\n",
       "      <td>2.677288</td>\n",
       "      <td>11.0</td>\n",
       "      <td>18.6</td>\n",
       "      <td>1</td>\n",
       "      <td>NaN</td>\n",
       "      <td>...</td>\n",
       "      <td>2.0</td>\n",
       "      <td>посёлок Шушары</td>\n",
       "      <td>12817.0</td>\n",
       "      <td>18603.0</td>\n",
       "      <td>0.0</td>\n",
       "      <td>NaN</td>\n",
       "      <td>0.0</td>\n",
       "      <td>NaN</td>\n",
       "      <td>81.0</td>\n",
       "      <td>область</td>\n",
       "    </tr>\n",
       "    <tr>\n",
       "      <td>2</td>\n",
       "      <td>10</td>\n",
       "      <td>5196000.0</td>\n",
       "      <td>56.0</td>\n",
       "      <td>2015-08-20T00:00:00</td>\n",
       "      <td>2</td>\n",
       "      <td>2.744391</td>\n",
       "      <td>5.0</td>\n",
       "      <td>34.3</td>\n",
       "      <td>4</td>\n",
       "      <td>NaN</td>\n",
       "      <td>...</td>\n",
       "      <td>0.0</td>\n",
       "      <td>Санкт-Петербург</td>\n",
       "      <td>21741.0</td>\n",
       "      <td>13933.0</td>\n",
       "      <td>1.0</td>\n",
       "      <td>90.0</td>\n",
       "      <td>2.0</td>\n",
       "      <td>574.0</td>\n",
       "      <td>558.0</td>\n",
       "      <td>спальный район</td>\n",
       "    </tr>\n",
       "    <tr>\n",
       "      <td>3</td>\n",
       "      <td>0</td>\n",
       "      <td>64900000.0</td>\n",
       "      <td>159.0</td>\n",
       "      <td>2015-07-24T00:00:00</td>\n",
       "      <td>3</td>\n",
       "      <td>2.744391</td>\n",
       "      <td>14.0</td>\n",
       "      <td>NaN</td>\n",
       "      <td>9</td>\n",
       "      <td>NaN</td>\n",
       "      <td>...</td>\n",
       "      <td>0.0</td>\n",
       "      <td>Санкт-Петербург</td>\n",
       "      <td>28098.0</td>\n",
       "      <td>6800.0</td>\n",
       "      <td>2.0</td>\n",
       "      <td>84.0</td>\n",
       "      <td>3.0</td>\n",
       "      <td>234.0</td>\n",
       "      <td>424.0</td>\n",
       "      <td>спальный район</td>\n",
       "    </tr>\n",
       "    <tr>\n",
       "      <td>4</td>\n",
       "      <td>2</td>\n",
       "      <td>10000000.0</td>\n",
       "      <td>100.0</td>\n",
       "      <td>2018-06-19T00:00:00</td>\n",
       "      <td>2</td>\n",
       "      <td>3.030000</td>\n",
       "      <td>14.0</td>\n",
       "      <td>32.0</td>\n",
       "      <td>13</td>\n",
       "      <td>NaN</td>\n",
       "      <td>...</td>\n",
       "      <td>0.0</td>\n",
       "      <td>Санкт-Петербург</td>\n",
       "      <td>31856.0</td>\n",
       "      <td>8098.0</td>\n",
       "      <td>2.0</td>\n",
       "      <td>112.0</td>\n",
       "      <td>1.0</td>\n",
       "      <td>48.0</td>\n",
       "      <td>121.0</td>\n",
       "      <td>спальный район</td>\n",
       "    </tr>\n",
       "  </tbody>\n",
       "</table>\n",
       "<p>5 rows × 23 columns</p>\n",
       "</div>"
      ],
      "text/plain": [
       "   total_images  last_price  total_area first_day_exposition  rooms  \\\n",
       "0            20  13000000.0       108.0  2019-03-07T00:00:00      3   \n",
       "1             7   3350000.0        40.4  2018-12-04T00:00:00      1   \n",
       "2            10   5196000.0        56.0  2015-08-20T00:00:00      2   \n",
       "3             0  64900000.0       159.0  2015-07-24T00:00:00      3   \n",
       "4             2  10000000.0       100.0  2018-06-19T00:00:00      2   \n",
       "\n",
       "   ceiling_height  floors_total  living_area  floor is_apartment  ...  \\\n",
       "0        2.700000          16.0         51.0      8          NaN  ...   \n",
       "1        2.677288          11.0         18.6      1          NaN  ...   \n",
       "2        2.744391           5.0         34.3      4          NaN  ...   \n",
       "3        2.744391          14.0          NaN      9          NaN  ...   \n",
       "4        3.030000          14.0         32.0     13          NaN  ...   \n",
       "\n",
       "   balcony    locality_name  airports_nearest  cityCenters_nearest  \\\n",
       "0      0.0  Санкт-Петербург           18863.0              16028.0   \n",
       "1      2.0   посёлок Шушары           12817.0              18603.0   \n",
       "2      0.0  Санкт-Петербург           21741.0              13933.0   \n",
       "3      0.0  Санкт-Петербург           28098.0               6800.0   \n",
       "4      0.0  Санкт-Петербург           31856.0               8098.0   \n",
       "\n",
       "  parks_around3000  parks_nearest  ponds_around3000  ponds_nearest  \\\n",
       "0              1.0          482.0               2.0          755.0   \n",
       "1              0.0            NaN               0.0            NaN   \n",
       "2              1.0           90.0               2.0          574.0   \n",
       "3              2.0           84.0               3.0          234.0   \n",
       "4              2.0          112.0               1.0           48.0   \n",
       "\n",
       "   days_exposition  fromcenter_category  \n",
       "0              NaN       спальный район  \n",
       "1             81.0              область  \n",
       "2            558.0       спальный район  \n",
       "3            424.0       спальный район  \n",
       "4            121.0       спальный район  \n",
       "\n",
       "[5 rows x 23 columns]"
      ]
     },
     "execution_count": 30,
     "metadata": {},
     "output_type": "execute_result"
    }
   ],
   "source": [
    "aparts.head()"
   ]
  },
  {
   "cell_type": "markdown",
   "metadata": {},
   "source": [
    "Что мы сделаем. last_price переведём в int (а также floors_total и balcony, ну где вы видели балконы из кусочков?), а также days_exposition; total_area округлим, first_day_exposition - переведём даты, ceiling_height тоже округлим. Сначала datetime:"
   ]
  },
  {
   "cell_type": "code",
   "execution_count": 31,
   "metadata": {},
   "outputs": [],
   "source": [
    "aparts['first_day_exposition'] = pd.to_datetime(aparts['first_day_exposition'], format='%Y-%m-%dT%H:%M:%S')"
   ]
  },
  {
   "cell_type": "markdown",
   "metadata": {},
   "source": [
    "<div class=\"alert alert-block alert-warning\">\n",
    "<b>Remarks:</b> хорошей практикой является выносить формат в константу, чтобы при необходимости иметь возможность поменять во всем преокте, без лишних поисков"
   ]
  },
  {
   "cell_type": "markdown",
   "metadata": {},
   "source": [
    "<div class=\"alert alert-info\">\n",
    "<h2> Комментарий студента</h2>\n",
    "\n",
    "Ок. Хотя здесь это используется 1 раз, обычно константы и функции пишут, если используется минимум 2 раза.\n",
    "</div>"
   ]
  },
  {
   "cell_type": "markdown",
   "metadata": {},
   "source": [
    "<div class=\"alert alert-block alert-success\">\n",
    "не соглашусь. константы пишутся для того, чтобы код было легче поддерживать. Захочется потом сделать выгрузку для американского партнера, где формат даты другой - просто поправим константу на уровне модуля и перезапустим (понятно, что пример упрощен, но надеюсь идея ясна)"
   ]
  },
  {
   "cell_type": "markdown",
   "metadata": {},
   "source": [
    "Цена метра:"
   ]
  },
  {
   "cell_type": "code",
   "execution_count": 32,
   "metadata": {},
   "outputs": [],
   "source": [
    "aparts['price_of_m2'] = aparts['last_price']/aparts['total_area']"
   ]
  },
  {
   "cell_type": "markdown",
   "metadata": {},
   "source": [
    "Год и месяц публикации:"
   ]
  },
  {
   "cell_type": "code",
   "execution_count": 33,
   "metadata": {},
   "outputs": [],
   "source": [
    "aparts['year'] = aparts['first_day_exposition'].apply(lambda x: x.year)\n",
    "aparts['month'] = aparts['first_day_exposition'].apply(lambda x: x.month)"
   ]
  },
  {
   "cell_type": "markdown",
   "metadata": {},
   "source": [
    "День недели:"
   ]
  },
  {
   "cell_type": "code",
   "execution_count": 34,
   "metadata": {},
   "outputs": [],
   "source": [
    "aparts['day'] = aparts['first_day_exposition'].apply(lambda x: x.isoweekday())"
   ]
  },
  {
   "cell_type": "markdown",
   "metadata": {},
   "source": [
    "Перевод чисел в текст:"
   ]
  },
  {
   "cell_type": "code",
   "execution_count": 35,
   "metadata": {},
   "outputs": [],
   "source": [
    "weekdays = {1: 'понедельник', 2: 'вторник', 3: 'среда', 4: 'четверг', \n",
    "                    5: 'пятница', 6: 'суббота', 7: 'воскресенье'}\n",
    "aparts['day'] = aparts['day'].map(weekdays)"
   ]
  },
  {
   "cell_type": "markdown",
   "metadata": {},
   "source": [
    "Аналогично с этажами:"
   ]
  },
  {
   "cell_type": "code",
   "execution_count": 36,
   "metadata": {},
   "outputs": [],
   "source": [
    "aparts['level'] = np.where(aparts['floor'] == 1, 'первый', 'другой')\n",
    "aparts['level'] = np.where(aparts['floor'] == aparts['floors_total'], 'последний', aparts['level'])"
   ]
  },
  {
   "cell_type": "markdown",
   "metadata": {},
   "source": [
    "И соотношение жилой и общей площади, а также с отношение площади кухни к общей площади."
   ]
  },
  {
   "cell_type": "code",
   "execution_count": 37,
   "metadata": {},
   "outputs": [],
   "source": [
    "aparts['living_area_part'] = aparts['living_area']/aparts['total_area']\n",
    "aparts['kitchen_area_part'] = aparts['kitchen_area']/aparts['total_area']"
   ]
  },
  {
   "cell_type": "markdown",
   "metadata": {},
   "source": [
    "Приведём типы. Терпеть не могу питон, почему его выбрали? Впрочем, если без отступов, был бы нормальный язык..."
   ]
  },
  {
   "cell_type": "code",
   "execution_count": 38,
   "metadata": {},
   "outputs": [],
   "source": [
    "list_to_int = ['last_price', 'floors_total', 'balcony', 'airports_nearest', 'cityCenters_nearest', 'parks_around3000',\n",
    "               'parks_nearest', 'ponds_around3000', 'ponds_nearest', 'days_exposition', 'price_of_m2']\n",
    "for column in list_to_int:\n",
    "    aparts[column] = aparts[aparts[column].notnull()][column].astype('int')"
   ]
  },
  {
   "cell_type": "markdown",
   "metadata": {},
   "source": [
    "<div class=\"alert alert-block alert-warning\">\n",
    "<b>Remarks:</b> \n",
    "    \n",
    "    \n",
    "Потенциал для эффективного изменения типов тут гораздо шире.\n",
    "    \n",
    "Давай я дам тебе две классные статьи, а ты попробуешь изменить типы данных на еще более подходящие и замеришь, сколько памяти в % ты сэкономишь:\n",
    "    \n",
    "https://pyprog.pro/data_types.html\n",
    "    \n",
    "https://habr.com/ru/company/ruvds/blog/442516/"
   ]
  },
  {
   "cell_type": "markdown",
   "metadata": {},
   "source": [
    "<div class=\"alert alert-info\">\n",
    "<h2> Комментарий студента</h2>\n",
    "\n",
    "А я вон как раз выше показал округление процентов. Хотя np.float64(х) тоже здорово. Если честно, думал, что меня здесь похвалят - эк он лихо через массив прогнал округления. ))\n",
    "</div>"
   ]
  },
  {
   "cell_type": "markdown",
   "metadata": {},
   "source": [
    "<div class=\"alert alert-block alert-success\">\n",
    "С массивом действительно элегантно :)"
   ]
  },
  {
   "cell_type": "markdown",
   "metadata": {},
   "source": [
    "Округлим до десятых."
   ]
  },
  {
   "cell_type": "code",
   "execution_count": 39,
   "metadata": {},
   "outputs": [],
   "source": [
    "list_to_float = ['total_area', 'ceiling_height', 'living_area', 'kitchen_area', 'living_area_part', 'kitchen_area_part']\n",
    "for column in list_to_float:\n",
    "    aparts[column] = aparts[aparts[column].notnull()][column].round(1)"
   ]
  },
  {
   "cell_type": "code",
   "execution_count": 40,
   "metadata": {},
   "outputs": [
    {
     "data": {
      "text/html": [
       "<div>\n",
       "<style scoped>\n",
       "    .dataframe tbody tr th:only-of-type {\n",
       "        vertical-align: middle;\n",
       "    }\n",
       "\n",
       "    .dataframe tbody tr th {\n",
       "        vertical-align: top;\n",
       "    }\n",
       "\n",
       "    .dataframe thead th {\n",
       "        text-align: right;\n",
       "    }\n",
       "</style>\n",
       "<table border=\"1\" class=\"dataframe\">\n",
       "  <thead>\n",
       "    <tr style=\"text-align: right;\">\n",
       "      <th></th>\n",
       "      <th>total_images</th>\n",
       "      <th>last_price</th>\n",
       "      <th>total_area</th>\n",
       "      <th>first_day_exposition</th>\n",
       "      <th>rooms</th>\n",
       "      <th>ceiling_height</th>\n",
       "      <th>floors_total</th>\n",
       "      <th>living_area</th>\n",
       "      <th>floor</th>\n",
       "      <th>is_apartment</th>\n",
       "      <th>...</th>\n",
       "      <th>ponds_nearest</th>\n",
       "      <th>days_exposition</th>\n",
       "      <th>fromcenter_category</th>\n",
       "      <th>price_of_m2</th>\n",
       "      <th>year</th>\n",
       "      <th>month</th>\n",
       "      <th>day</th>\n",
       "      <th>level</th>\n",
       "      <th>living_area_part</th>\n",
       "      <th>kitchen_area_part</th>\n",
       "    </tr>\n",
       "  </thead>\n",
       "  <tbody>\n",
       "    <tr>\n",
       "      <td>0</td>\n",
       "      <td>20</td>\n",
       "      <td>13000000</td>\n",
       "      <td>108.0</td>\n",
       "      <td>2019-03-07</td>\n",
       "      <td>3</td>\n",
       "      <td>2.7</td>\n",
       "      <td>16.0</td>\n",
       "      <td>51.0</td>\n",
       "      <td>8</td>\n",
       "      <td>NaN</td>\n",
       "      <td>...</td>\n",
       "      <td>755.0</td>\n",
       "      <td>NaN</td>\n",
       "      <td>спальный район</td>\n",
       "      <td>120370</td>\n",
       "      <td>2019</td>\n",
       "      <td>3</td>\n",
       "      <td>четверг</td>\n",
       "      <td>другой</td>\n",
       "      <td>0.5</td>\n",
       "      <td>0.2</td>\n",
       "    </tr>\n",
       "    <tr>\n",
       "      <td>1</td>\n",
       "      <td>7</td>\n",
       "      <td>3350000</td>\n",
       "      <td>40.4</td>\n",
       "      <td>2018-12-04</td>\n",
       "      <td>1</td>\n",
       "      <td>2.7</td>\n",
       "      <td>11.0</td>\n",
       "      <td>18.6</td>\n",
       "      <td>1</td>\n",
       "      <td>NaN</td>\n",
       "      <td>...</td>\n",
       "      <td>NaN</td>\n",
       "      <td>81.0</td>\n",
       "      <td>область</td>\n",
       "      <td>82920</td>\n",
       "      <td>2018</td>\n",
       "      <td>12</td>\n",
       "      <td>вторник</td>\n",
       "      <td>первый</td>\n",
       "      <td>0.5</td>\n",
       "      <td>0.3</td>\n",
       "    </tr>\n",
       "    <tr>\n",
       "      <td>2</td>\n",
       "      <td>10</td>\n",
       "      <td>5196000</td>\n",
       "      <td>56.0</td>\n",
       "      <td>2015-08-20</td>\n",
       "      <td>2</td>\n",
       "      <td>2.7</td>\n",
       "      <td>5.0</td>\n",
       "      <td>34.3</td>\n",
       "      <td>4</td>\n",
       "      <td>NaN</td>\n",
       "      <td>...</td>\n",
       "      <td>574.0</td>\n",
       "      <td>558.0</td>\n",
       "      <td>спальный район</td>\n",
       "      <td>92785</td>\n",
       "      <td>2015</td>\n",
       "      <td>8</td>\n",
       "      <td>четверг</td>\n",
       "      <td>другой</td>\n",
       "      <td>0.6</td>\n",
       "      <td>0.1</td>\n",
       "    </tr>\n",
       "    <tr>\n",
       "      <td>3</td>\n",
       "      <td>0</td>\n",
       "      <td>64900000</td>\n",
       "      <td>159.0</td>\n",
       "      <td>2015-07-24</td>\n",
       "      <td>3</td>\n",
       "      <td>2.7</td>\n",
       "      <td>14.0</td>\n",
       "      <td>NaN</td>\n",
       "      <td>9</td>\n",
       "      <td>NaN</td>\n",
       "      <td>...</td>\n",
       "      <td>234.0</td>\n",
       "      <td>424.0</td>\n",
       "      <td>спальный район</td>\n",
       "      <td>408176</td>\n",
       "      <td>2015</td>\n",
       "      <td>7</td>\n",
       "      <td>пятница</td>\n",
       "      <td>другой</td>\n",
       "      <td>NaN</td>\n",
       "      <td>NaN</td>\n",
       "    </tr>\n",
       "    <tr>\n",
       "      <td>4</td>\n",
       "      <td>2</td>\n",
       "      <td>10000000</td>\n",
       "      <td>100.0</td>\n",
       "      <td>2018-06-19</td>\n",
       "      <td>2</td>\n",
       "      <td>3.0</td>\n",
       "      <td>14.0</td>\n",
       "      <td>32.0</td>\n",
       "      <td>13</td>\n",
       "      <td>NaN</td>\n",
       "      <td>...</td>\n",
       "      <td>48.0</td>\n",
       "      <td>121.0</td>\n",
       "      <td>спальный район</td>\n",
       "      <td>100000</td>\n",
       "      <td>2018</td>\n",
       "      <td>6</td>\n",
       "      <td>вторник</td>\n",
       "      <td>другой</td>\n",
       "      <td>0.3</td>\n",
       "      <td>0.4</td>\n",
       "    </tr>\n",
       "    <tr>\n",
       "      <td>5</td>\n",
       "      <td>10</td>\n",
       "      <td>2890000</td>\n",
       "      <td>30.4</td>\n",
       "      <td>2018-09-10</td>\n",
       "      <td>1</td>\n",
       "      <td>NaN</td>\n",
       "      <td>12.0</td>\n",
       "      <td>14.4</td>\n",
       "      <td>5</td>\n",
       "      <td>NaN</td>\n",
       "      <td>...</td>\n",
       "      <td>NaN</td>\n",
       "      <td>55.0</td>\n",
       "      <td>None</td>\n",
       "      <td>95065</td>\n",
       "      <td>2018</td>\n",
       "      <td>9</td>\n",
       "      <td>понедельник</td>\n",
       "      <td>другой</td>\n",
       "      <td>0.5</td>\n",
       "      <td>0.3</td>\n",
       "    </tr>\n",
       "    <tr>\n",
       "      <td>6</td>\n",
       "      <td>6</td>\n",
       "      <td>3700000</td>\n",
       "      <td>37.3</td>\n",
       "      <td>2017-11-02</td>\n",
       "      <td>1</td>\n",
       "      <td>2.7</td>\n",
       "      <td>26.0</td>\n",
       "      <td>10.6</td>\n",
       "      <td>6</td>\n",
       "      <td>NaN</td>\n",
       "      <td>...</td>\n",
       "      <td>NaN</td>\n",
       "      <td>155.0</td>\n",
       "      <td>область</td>\n",
       "      <td>99195</td>\n",
       "      <td>2017</td>\n",
       "      <td>11</td>\n",
       "      <td>четверг</td>\n",
       "      <td>другой</td>\n",
       "      <td>0.3</td>\n",
       "      <td>0.4</td>\n",
       "    </tr>\n",
       "    <tr>\n",
       "      <td>7</td>\n",
       "      <td>5</td>\n",
       "      <td>7915000</td>\n",
       "      <td>71.6</td>\n",
       "      <td>2019-04-18</td>\n",
       "      <td>2</td>\n",
       "      <td>2.7</td>\n",
       "      <td>24.0</td>\n",
       "      <td>NaN</td>\n",
       "      <td>22</td>\n",
       "      <td>NaN</td>\n",
       "      <td>...</td>\n",
       "      <td>NaN</td>\n",
       "      <td>NaN</td>\n",
       "      <td>спальный район</td>\n",
       "      <td>110544</td>\n",
       "      <td>2019</td>\n",
       "      <td>4</td>\n",
       "      <td>четверг</td>\n",
       "      <td>другой</td>\n",
       "      <td>NaN</td>\n",
       "      <td>0.3</td>\n",
       "    </tr>\n",
       "    <tr>\n",
       "      <td>8</td>\n",
       "      <td>20</td>\n",
       "      <td>2900000</td>\n",
       "      <td>33.2</td>\n",
       "      <td>2018-05-23</td>\n",
       "      <td>1</td>\n",
       "      <td>NaN</td>\n",
       "      <td>27.0</td>\n",
       "      <td>15.4</td>\n",
       "      <td>26</td>\n",
       "      <td>NaN</td>\n",
       "      <td>...</td>\n",
       "      <td>NaN</td>\n",
       "      <td>189.0</td>\n",
       "      <td>None</td>\n",
       "      <td>87454</td>\n",
       "      <td>2018</td>\n",
       "      <td>5</td>\n",
       "      <td>среда</td>\n",
       "      <td>другой</td>\n",
       "      <td>0.5</td>\n",
       "      <td>0.3</td>\n",
       "    </tr>\n",
       "    <tr>\n",
       "      <td>9</td>\n",
       "      <td>18</td>\n",
       "      <td>5400000</td>\n",
       "      <td>61.0</td>\n",
       "      <td>2017-02-26</td>\n",
       "      <td>3</td>\n",
       "      <td>2.5</td>\n",
       "      <td>9.0</td>\n",
       "      <td>43.6</td>\n",
       "      <td>7</td>\n",
       "      <td>NaN</td>\n",
       "      <td>...</td>\n",
       "      <td>NaN</td>\n",
       "      <td>289.0</td>\n",
       "      <td>спальный район</td>\n",
       "      <td>88524</td>\n",
       "      <td>2017</td>\n",
       "      <td>2</td>\n",
       "      <td>воскресенье</td>\n",
       "      <td>другой</td>\n",
       "      <td>0.7</td>\n",
       "      <td>0.1</td>\n",
       "    </tr>\n",
       "  </tbody>\n",
       "</table>\n",
       "<p>10 rows × 30 columns</p>\n",
       "</div>"
      ],
      "text/plain": [
       "   total_images  last_price  total_area first_day_exposition  rooms  \\\n",
       "0            20    13000000       108.0           2019-03-07      3   \n",
       "1             7     3350000        40.4           2018-12-04      1   \n",
       "2            10     5196000        56.0           2015-08-20      2   \n",
       "3             0    64900000       159.0           2015-07-24      3   \n",
       "4             2    10000000       100.0           2018-06-19      2   \n",
       "5            10     2890000        30.4           2018-09-10      1   \n",
       "6             6     3700000        37.3           2017-11-02      1   \n",
       "7             5     7915000        71.6           2019-04-18      2   \n",
       "8            20     2900000        33.2           2018-05-23      1   \n",
       "9            18     5400000        61.0           2017-02-26      3   \n",
       "\n",
       "   ceiling_height  floors_total  living_area  floor is_apartment  ...  \\\n",
       "0             2.7          16.0         51.0      8          NaN  ...   \n",
       "1             2.7          11.0         18.6      1          NaN  ...   \n",
       "2             2.7           5.0         34.3      4          NaN  ...   \n",
       "3             2.7          14.0          NaN      9          NaN  ...   \n",
       "4             3.0          14.0         32.0     13          NaN  ...   \n",
       "5             NaN          12.0         14.4      5          NaN  ...   \n",
       "6             2.7          26.0         10.6      6          NaN  ...   \n",
       "7             2.7          24.0          NaN     22          NaN  ...   \n",
       "8             NaN          27.0         15.4     26          NaN  ...   \n",
       "9             2.5           9.0         43.6      7          NaN  ...   \n",
       "\n",
       "   ponds_nearest  days_exposition  fromcenter_category  price_of_m2  year  \\\n",
       "0          755.0              NaN       спальный район       120370  2019   \n",
       "1            NaN             81.0              область        82920  2018   \n",
       "2          574.0            558.0       спальный район        92785  2015   \n",
       "3          234.0            424.0       спальный район       408176  2015   \n",
       "4           48.0            121.0       спальный район       100000  2018   \n",
       "5            NaN             55.0                 None        95065  2018   \n",
       "6            NaN            155.0              область        99195  2017   \n",
       "7            NaN              NaN       спальный район       110544  2019   \n",
       "8            NaN            189.0                 None        87454  2018   \n",
       "9            NaN            289.0       спальный район        88524  2017   \n",
       "\n",
       "   month          day   level  living_area_part  kitchen_area_part  \n",
       "0      3      четверг  другой               0.5                0.2  \n",
       "1     12      вторник  первый               0.5                0.3  \n",
       "2      8      четверг  другой               0.6                0.1  \n",
       "3      7      пятница  другой               NaN                NaN  \n",
       "4      6      вторник  другой               0.3                0.4  \n",
       "5      9  понедельник  другой               0.5                0.3  \n",
       "6     11      четверг  другой               0.3                0.4  \n",
       "7      4      четверг  другой               NaN                0.3  \n",
       "8      5        среда  другой               0.5                0.3  \n",
       "9      2  воскресенье  другой               0.7                0.1  \n",
       "\n",
       "[10 rows x 30 columns]"
      ]
     },
     "execution_count": 40,
     "metadata": {},
     "output_type": "execute_result"
    }
   ],
   "source": [
    "aparts.head(10)"
   ]
  },
  {
   "cell_type": "markdown",
   "metadata": {},
   "source": [
    "## Исследовательский анализ данных"
   ]
  },
  {
   "cell_type": "markdown",
   "metadata": {},
   "source": [
    "Нас интересует площадь, цена, число комнат, высота потолков."
   ]
  },
  {
   "cell_type": "code",
   "execution_count": 41,
   "metadata": {
    "scrolled": true
   },
   "outputs": [
    {
     "data": {
      "text/html": [
       "<div>\n",
       "<style scoped>\n",
       "    .dataframe tbody tr th:only-of-type {\n",
       "        vertical-align: middle;\n",
       "    }\n",
       "\n",
       "    .dataframe tbody tr th {\n",
       "        vertical-align: top;\n",
       "    }\n",
       "\n",
       "    .dataframe thead th {\n",
       "        text-align: right;\n",
       "    }\n",
       "</style>\n",
       "<table border=\"1\" class=\"dataframe\">\n",
       "  <thead>\n",
       "    <tr style=\"text-align: right;\">\n",
       "      <th></th>\n",
       "      <th>total_area</th>\n",
       "      <th>last_price</th>\n",
       "      <th>rooms</th>\n",
       "      <th>ceiling_height</th>\n",
       "    </tr>\n",
       "  </thead>\n",
       "  <tbody>\n",
       "    <tr>\n",
       "      <td>count</td>\n",
       "      <td>23699.000000</td>\n",
       "      <td>2.369900e+04</td>\n",
       "      <td>23699.000000</td>\n",
       "      <td>18180.000000</td>\n",
       "    </tr>\n",
       "    <tr>\n",
       "      <td>mean</td>\n",
       "      <td>60.348635</td>\n",
       "      <td>6.541549e+06</td>\n",
       "      <td>2.070636</td>\n",
       "      <td>2.776397</td>\n",
       "    </tr>\n",
       "    <tr>\n",
       "      <td>std</td>\n",
       "      <td>35.654086</td>\n",
       "      <td>1.088701e+07</td>\n",
       "      <td>1.078405</td>\n",
       "      <td>0.988544</td>\n",
       "    </tr>\n",
       "    <tr>\n",
       "      <td>min</td>\n",
       "      <td>12.000000</td>\n",
       "      <td>1.219000e+04</td>\n",
       "      <td>0.000000</td>\n",
       "      <td>1.000000</td>\n",
       "    </tr>\n",
       "    <tr>\n",
       "      <td>25%</td>\n",
       "      <td>40.000000</td>\n",
       "      <td>3.400000e+06</td>\n",
       "      <td>1.000000</td>\n",
       "      <td>2.600000</td>\n",
       "    </tr>\n",
       "    <tr>\n",
       "      <td>50%</td>\n",
       "      <td>52.000000</td>\n",
       "      <td>4.650000e+06</td>\n",
       "      <td>2.000000</td>\n",
       "      <td>2.700000</td>\n",
       "    </tr>\n",
       "    <tr>\n",
       "      <td>75%</td>\n",
       "      <td>69.900000</td>\n",
       "      <td>6.800000e+06</td>\n",
       "      <td>3.000000</td>\n",
       "      <td>2.800000</td>\n",
       "    </tr>\n",
       "    <tr>\n",
       "      <td>max</td>\n",
       "      <td>900.000000</td>\n",
       "      <td>7.630000e+08</td>\n",
       "      <td>19.000000</td>\n",
       "      <td>100.000000</td>\n",
       "    </tr>\n",
       "  </tbody>\n",
       "</table>\n",
       "</div>"
      ],
      "text/plain": [
       "         total_area    last_price         rooms  ceiling_height\n",
       "count  23699.000000  2.369900e+04  23699.000000    18180.000000\n",
       "mean      60.348635  6.541549e+06      2.070636        2.776397\n",
       "std       35.654086  1.088701e+07      1.078405        0.988544\n",
       "min       12.000000  1.219000e+04      0.000000        1.000000\n",
       "25%       40.000000  3.400000e+06      1.000000        2.600000\n",
       "50%       52.000000  4.650000e+06      2.000000        2.700000\n",
       "75%       69.900000  6.800000e+06      3.000000        2.800000\n",
       "max      900.000000  7.630000e+08     19.000000      100.000000"
      ]
     },
     "execution_count": 41,
     "metadata": {},
     "output_type": "execute_result"
    }
   ],
   "source": [
    "aparts[['total_area', 'last_price', 'rooms', 'ceiling_height']].describe()"
   ]
  },
  {
   "cell_type": "markdown",
   "metadata": {},
   "source": [
    "Что мы видим. Квартиры от 12 до 900 м2, цена - от 12 до 763 млн., комнаты от 0 до 19, 0 - это студия, высота потолков от 1 до 100 м. Потолки - самая нормальная величина."
   ]
  },
  {
   "cell_type": "code",
   "execution_count": 42,
   "metadata": {
    "scrolled": true
   },
   "outputs": [
    {
     "data": {
      "text/html": [
       "<div>\n",
       "<style scoped>\n",
       "    .dataframe tbody tr th:only-of-type {\n",
       "        vertical-align: middle;\n",
       "    }\n",
       "\n",
       "    .dataframe tbody tr th {\n",
       "        vertical-align: top;\n",
       "    }\n",
       "\n",
       "    .dataframe thead th {\n",
       "        text-align: right;\n",
       "    }\n",
       "</style>\n",
       "<table border=\"1\" class=\"dataframe\">\n",
       "  <thead>\n",
       "    <tr style=\"text-align: right;\">\n",
       "      <th></th>\n",
       "      <th>total_images</th>\n",
       "      <th>last_price</th>\n",
       "      <th>total_area</th>\n",
       "      <th>first_day_exposition</th>\n",
       "      <th>rooms</th>\n",
       "      <th>ceiling_height</th>\n",
       "      <th>floors_total</th>\n",
       "      <th>living_area</th>\n",
       "      <th>floor</th>\n",
       "      <th>is_apartment</th>\n",
       "      <th>...</th>\n",
       "      <th>ponds_nearest</th>\n",
       "      <th>days_exposition</th>\n",
       "      <th>fromcenter_category</th>\n",
       "      <th>price_of_m2</th>\n",
       "      <th>year</th>\n",
       "      <th>month</th>\n",
       "      <th>day</th>\n",
       "      <th>level</th>\n",
       "      <th>living_area_part</th>\n",
       "      <th>kitchen_area_part</th>\n",
       "    </tr>\n",
       "  </thead>\n",
       "  <tbody>\n",
       "    <tr>\n",
       "      <td>154</td>\n",
       "      <td>1</td>\n",
       "      <td>8200000</td>\n",
       "      <td>80.0</td>\n",
       "      <td>2018-11-06</td>\n",
       "      <td>3</td>\n",
       "      <td>4.2</td>\n",
       "      <td>3.0</td>\n",
       "      <td>44.2</td>\n",
       "      <td>2</td>\n",
       "      <td>NaN</td>\n",
       "      <td>...</td>\n",
       "      <td>838.0</td>\n",
       "      <td>38.0</td>\n",
       "      <td>центр</td>\n",
       "      <td>102500</td>\n",
       "      <td>2018</td>\n",
       "      <td>11</td>\n",
       "      <td>вторник</td>\n",
       "      <td>другой</td>\n",
       "      <td>0.6</td>\n",
       "      <td>0.2</td>\n",
       "    </tr>\n",
       "    <tr>\n",
       "      <td>464</td>\n",
       "      <td>15</td>\n",
       "      <td>66571000</td>\n",
       "      <td>280.3</td>\n",
       "      <td>2015-06-11</td>\n",
       "      <td>6</td>\n",
       "      <td>5.2</td>\n",
       "      <td>8.0</td>\n",
       "      <td>159.5</td>\n",
       "      <td>7</td>\n",
       "      <td>NaN</td>\n",
       "      <td>...</td>\n",
       "      <td>616.0</td>\n",
       "      <td>578.0</td>\n",
       "      <td>спальный район</td>\n",
       "      <td>237499</td>\n",
       "      <td>2015</td>\n",
       "      <td>6</td>\n",
       "      <td>четверг</td>\n",
       "      <td>другой</td>\n",
       "      <td>0.6</td>\n",
       "      <td>0.1</td>\n",
       "    </tr>\n",
       "    <tr>\n",
       "      <td>1026</td>\n",
       "      <td>20</td>\n",
       "      <td>155000000</td>\n",
       "      <td>310.0</td>\n",
       "      <td>2018-10-12</td>\n",
       "      <td>5</td>\n",
       "      <td>5.3</td>\n",
       "      <td>3.0</td>\n",
       "      <td>190.0</td>\n",
       "      <td>3</td>\n",
       "      <td>NaN</td>\n",
       "      <td>...</td>\n",
       "      <td>603.0</td>\n",
       "      <td>NaN</td>\n",
       "      <td>центр</td>\n",
       "      <td>500000</td>\n",
       "      <td>2018</td>\n",
       "      <td>10</td>\n",
       "      <td>пятница</td>\n",
       "      <td>последний</td>\n",
       "      <td>0.6</td>\n",
       "      <td>0.2</td>\n",
       "    </tr>\n",
       "    <tr>\n",
       "      <td>1129</td>\n",
       "      <td>20</td>\n",
       "      <td>6695000</td>\n",
       "      <td>36.9</td>\n",
       "      <td>2018-09-28</td>\n",
       "      <td>1</td>\n",
       "      <td>4.1</td>\n",
       "      <td>5.0</td>\n",
       "      <td>22.0</td>\n",
       "      <td>2</td>\n",
       "      <td>NaN</td>\n",
       "      <td>...</td>\n",
       "      <td>866.0</td>\n",
       "      <td>110.0</td>\n",
       "      <td>центр</td>\n",
       "      <td>181436</td>\n",
       "      <td>2018</td>\n",
       "      <td>9</td>\n",
       "      <td>пятница</td>\n",
       "      <td>другой</td>\n",
       "      <td>0.6</td>\n",
       "      <td>0.2</td>\n",
       "    </tr>\n",
       "    <tr>\n",
       "      <td>1300</td>\n",
       "      <td>14</td>\n",
       "      <td>120000000</td>\n",
       "      <td>280.0</td>\n",
       "      <td>2018-07-12</td>\n",
       "      <td>5</td>\n",
       "      <td>4.7</td>\n",
       "      <td>4.0</td>\n",
       "      <td>162.0</td>\n",
       "      <td>3</td>\n",
       "      <td>NaN</td>\n",
       "      <td>...</td>\n",
       "      <td>339.0</td>\n",
       "      <td>225.0</td>\n",
       "      <td>центр</td>\n",
       "      <td>428571</td>\n",
       "      <td>2018</td>\n",
       "      <td>7</td>\n",
       "      <td>четверг</td>\n",
       "      <td>другой</td>\n",
       "      <td>0.6</td>\n",
       "      <td>0.1</td>\n",
       "    </tr>\n",
       "    <tr>\n",
       "      <td>...</td>\n",
       "      <td>...</td>\n",
       "      <td>...</td>\n",
       "      <td>...</td>\n",
       "      <td>...</td>\n",
       "      <td>...</td>\n",
       "      <td>...</td>\n",
       "      <td>...</td>\n",
       "      <td>...</td>\n",
       "      <td>...</td>\n",
       "      <td>...</td>\n",
       "      <td>...</td>\n",
       "      <td>...</td>\n",
       "      <td>...</td>\n",
       "      <td>...</td>\n",
       "      <td>...</td>\n",
       "      <td>...</td>\n",
       "      <td>...</td>\n",
       "      <td>...</td>\n",
       "      <td>...</td>\n",
       "      <td>...</td>\n",
       "      <td>...</td>\n",
       "    </tr>\n",
       "    <tr>\n",
       "      <td>22055</td>\n",
       "      <td>2</td>\n",
       "      <td>8550000</td>\n",
       "      <td>75.1</td>\n",
       "      <td>2017-08-09</td>\n",
       "      <td>3</td>\n",
       "      <td>4.2</td>\n",
       "      <td>6.0</td>\n",
       "      <td>52.5</td>\n",
       "      <td>3</td>\n",
       "      <td>NaN</td>\n",
       "      <td>...</td>\n",
       "      <td>NaN</td>\n",
       "      <td>477.0</td>\n",
       "      <td>центр</td>\n",
       "      <td>113848</td>\n",
       "      <td>2017</td>\n",
       "      <td>8</td>\n",
       "      <td>среда</td>\n",
       "      <td>другой</td>\n",
       "      <td>0.7</td>\n",
       "      <td>0.1</td>\n",
       "    </tr>\n",
       "    <tr>\n",
       "      <td>22309</td>\n",
       "      <td>20</td>\n",
       "      <td>5300000</td>\n",
       "      <td>45.0</td>\n",
       "      <td>2017-09-30</td>\n",
       "      <td>1</td>\n",
       "      <td>10.3</td>\n",
       "      <td>16.0</td>\n",
       "      <td>15.5</td>\n",
       "      <td>15</td>\n",
       "      <td>NaN</td>\n",
       "      <td>...</td>\n",
       "      <td>450.0</td>\n",
       "      <td>136.0</td>\n",
       "      <td>спальный район</td>\n",
       "      <td>117777</td>\n",
       "      <td>2017</td>\n",
       "      <td>9</td>\n",
       "      <td>суббота</td>\n",
       "      <td>другой</td>\n",
       "      <td>0.3</td>\n",
       "      <td>NaN</td>\n",
       "    </tr>\n",
       "    <tr>\n",
       "      <td>22336</td>\n",
       "      <td>19</td>\n",
       "      <td>9999000</td>\n",
       "      <td>92.4</td>\n",
       "      <td>2019-04-05</td>\n",
       "      <td>2</td>\n",
       "      <td>32.0</td>\n",
       "      <td>6.0</td>\n",
       "      <td>55.5</td>\n",
       "      <td>5</td>\n",
       "      <td>False</td>\n",
       "      <td>...</td>\n",
       "      <td>511.0</td>\n",
       "      <td>NaN</td>\n",
       "      <td>центр</td>\n",
       "      <td>108214</td>\n",
       "      <td>2019</td>\n",
       "      <td>4</td>\n",
       "      <td>пятница</td>\n",
       "      <td>другой</td>\n",
       "      <td>0.6</td>\n",
       "      <td>0.2</td>\n",
       "    </tr>\n",
       "    <tr>\n",
       "      <td>22494</td>\n",
       "      <td>7</td>\n",
       "      <td>91075000</td>\n",
       "      <td>491.0</td>\n",
       "      <td>2017-05-27</td>\n",
       "      <td>5</td>\n",
       "      <td>4.2</td>\n",
       "      <td>9.0</td>\n",
       "      <td>274.0</td>\n",
       "      <td>9</td>\n",
       "      <td>NaN</td>\n",
       "      <td>...</td>\n",
       "      <td>NaN</td>\n",
       "      <td>115.0</td>\n",
       "      <td>спальный район</td>\n",
       "      <td>185488</td>\n",
       "      <td>2017</td>\n",
       "      <td>5</td>\n",
       "      <td>суббота</td>\n",
       "      <td>последний</td>\n",
       "      <td>0.6</td>\n",
       "      <td>0.1</td>\n",
       "    </tr>\n",
       "    <tr>\n",
       "      <td>22869</td>\n",
       "      <td>0</td>\n",
       "      <td>15000000</td>\n",
       "      <td>25.0</td>\n",
       "      <td>2018-07-25</td>\n",
       "      <td>1</td>\n",
       "      <td>100.0</td>\n",
       "      <td>5.0</td>\n",
       "      <td>14.0</td>\n",
       "      <td>5</td>\n",
       "      <td>True</td>\n",
       "      <td>...</td>\n",
       "      <td>30.0</td>\n",
       "      <td>19.0</td>\n",
       "      <td>спальный район</td>\n",
       "      <td>600000</td>\n",
       "      <td>2018</td>\n",
       "      <td>7</td>\n",
       "      <td>среда</td>\n",
       "      <td>последний</td>\n",
       "      <td>0.6</td>\n",
       "      <td>0.4</td>\n",
       "    </tr>\n",
       "  </tbody>\n",
       "</table>\n",
       "<p>61 rows × 30 columns</p>\n",
       "</div>"
      ],
      "text/plain": [
       "       total_images  last_price  total_area first_day_exposition  rooms  \\\n",
       "154               1     8200000        80.0           2018-11-06      3   \n",
       "464              15    66571000       280.3           2015-06-11      6   \n",
       "1026             20   155000000       310.0           2018-10-12      5   \n",
       "1129             20     6695000        36.9           2018-09-28      1   \n",
       "1300             14   120000000       280.0           2018-07-12      5   \n",
       "...             ...         ...         ...                  ...    ...   \n",
       "22055             2     8550000        75.1           2017-08-09      3   \n",
       "22309            20     5300000        45.0           2017-09-30      1   \n",
       "22336            19     9999000        92.4           2019-04-05      2   \n",
       "22494             7    91075000       491.0           2017-05-27      5   \n",
       "22869             0    15000000        25.0           2018-07-25      1   \n",
       "\n",
       "       ceiling_height  floors_total  living_area  floor is_apartment  ...  \\\n",
       "154               4.2           3.0         44.2      2          NaN  ...   \n",
       "464               5.2           8.0        159.5      7          NaN  ...   \n",
       "1026              5.3           3.0        190.0      3          NaN  ...   \n",
       "1129              4.1           5.0         22.0      2          NaN  ...   \n",
       "1300              4.7           4.0        162.0      3          NaN  ...   \n",
       "...               ...           ...          ...    ...          ...  ...   \n",
       "22055             4.2           6.0         52.5      3          NaN  ...   \n",
       "22309            10.3          16.0         15.5     15          NaN  ...   \n",
       "22336            32.0           6.0         55.5      5        False  ...   \n",
       "22494             4.2           9.0        274.0      9          NaN  ...   \n",
       "22869           100.0           5.0         14.0      5         True  ...   \n",
       "\n",
       "       ponds_nearest  days_exposition  fromcenter_category  price_of_m2  year  \\\n",
       "154            838.0             38.0                центр       102500  2018   \n",
       "464            616.0            578.0       спальный район       237499  2015   \n",
       "1026           603.0              NaN                центр       500000  2018   \n",
       "1129           866.0            110.0                центр       181436  2018   \n",
       "1300           339.0            225.0                центр       428571  2018   \n",
       "...              ...              ...                  ...          ...   ...   \n",
       "22055            NaN            477.0                центр       113848  2017   \n",
       "22309          450.0            136.0       спальный район       117777  2017   \n",
       "22336          511.0              NaN                центр       108214  2019   \n",
       "22494            NaN            115.0       спальный район       185488  2017   \n",
       "22869           30.0             19.0       спальный район       600000  2018   \n",
       "\n",
       "       month      day      level  living_area_part  kitchen_area_part  \n",
       "154       11  вторник     другой               0.6                0.2  \n",
       "464        6  четверг     другой               0.6                0.1  \n",
       "1026      10  пятница  последний               0.6                0.2  \n",
       "1129       9  пятница     другой               0.6                0.2  \n",
       "1300       7  четверг     другой               0.6                0.1  \n",
       "...      ...      ...        ...               ...                ...  \n",
       "22055      8    среда     другой               0.7                0.1  \n",
       "22309      9  суббота     другой               0.3                NaN  \n",
       "22336      4  пятница     другой               0.6                0.2  \n",
       "22494      5  суббота  последний               0.6                0.1  \n",
       "22869      7    среда  последний               0.6                0.4  \n",
       "\n",
       "[61 rows x 30 columns]"
      ]
     },
     "execution_count": 42,
     "metadata": {},
     "output_type": "execute_result"
    }
   ],
   "source": [
    "aparts.query('ceiling_height > 4')"
   ]
  },
  {
   "cell_type": "markdown",
   "metadata": {},
   "source": [
    "61 квартира с высотой потолков более 4 метров. Странно, что имелось в виду."
   ]
  },
  {
   "cell_type": "markdown",
   "metadata": {},
   "source": [
    "Строим гистограммы."
   ]
  },
  {
   "cell_type": "code",
   "execution_count": 43,
   "metadata": {
    "scrolled": true
   },
   "outputs": [
    {
     "data": {
      "image/png": "[encoded data removed]",
      "text/plain": [
       "<Figure size 3600x1800 with 4 Axes>"
      ]
     },
     "metadata": {
      "needs_background": "light"
     },
     "output_type": "display_data"
    }
   ],
   "source": [
    "rows = 2\n",
    "cols = 2\n",
    "fig, axes = plt.subplots(rows, cols, figsize=(50,25))\n",
    "column_list = ['total_area', 'last_price', 'rooms', 'ceiling_height']\n",
    "ylims = [600, 13000, 10, 5]\n",
    "count = 0\n",
    "for r in range(rows):\n",
    "    for c in range(cols):\n",
    "        ax = aparts.boxplot(column=column_list[count], ax=axes[r,c], fontsize=40)\n",
    "        ax.set_ylim([0, ylims[count]])\n",
    "        count += 1"
   ]
  },
  {
   "cell_type": "markdown",
   "metadata": {},
   "source": [
    "На гистограммах видно, что total_area - 20 - 120 кв.м.;\n",
    "last_price - 0 - 12 млн р.;\n",
    "rooms - 0 - 6 комнат;\n",
    "ceiling_height - 2,4 - 3м."
   ]
  },
  {
   "cell_type": "markdown",
   "metadata": {},
   "source": [
    "<div class=\"alert alert-block alert-success\">\n",
    "<b>Success:</b> Хорошая работа!"
   ]
  },
  {
   "cell_type": "markdown",
   "metadata": {},
   "source": [
    "Посмотрим следующую задачу: \"Изучите время продажи квартиры. Постройте гистограмму. Посчитайте среднее и медиану. Опишите, сколько обычно занимает продажа. Когда можно считать, что продажи прошли очень быстро, а когда необычно долго?\""
   ]
  },
  {
   "cell_type": "code",
   "execution_count": 44,
   "metadata": {
    "scrolled": true
   },
   "outputs": [
    {
     "data": {
      "text/html": [
       "<div>\n",
       "<style scoped>\n",
       "    .dataframe tbody tr th:only-of-type {\n",
       "        vertical-align: middle;\n",
       "    }\n",
       "\n",
       "    .dataframe tbody tr th {\n",
       "        vertical-align: top;\n",
       "    }\n",
       "\n",
       "    .dataframe thead th {\n",
       "        text-align: right;\n",
       "    }\n",
       "</style>\n",
       "<table border=\"1\" class=\"dataframe\">\n",
       "  <thead>\n",
       "    <tr style=\"text-align: right;\">\n",
       "      <th></th>\n",
       "      <th>days_exposition</th>\n",
       "    </tr>\n",
       "  </thead>\n",
       "  <tbody>\n",
       "    <tr>\n",
       "      <td>count</td>\n",
       "      <td>20518.000000</td>\n",
       "    </tr>\n",
       "    <tr>\n",
       "      <td>mean</td>\n",
       "      <td>180.888634</td>\n",
       "    </tr>\n",
       "    <tr>\n",
       "      <td>std</td>\n",
       "      <td>219.727988</td>\n",
       "    </tr>\n",
       "    <tr>\n",
       "      <td>min</td>\n",
       "      <td>1.000000</td>\n",
       "    </tr>\n",
       "    <tr>\n",
       "      <td>25%</td>\n",
       "      <td>45.000000</td>\n",
       "    </tr>\n",
       "    <tr>\n",
       "      <td>50%</td>\n",
       "      <td>95.000000</td>\n",
       "    </tr>\n",
       "    <tr>\n",
       "      <td>75%</td>\n",
       "      <td>232.000000</td>\n",
       "    </tr>\n",
       "    <tr>\n",
       "      <td>max</td>\n",
       "      <td>1580.000000</td>\n",
       "    </tr>\n",
       "  </tbody>\n",
       "</table>\n",
       "</div>"
      ],
      "text/plain": [
       "       days_exposition\n",
       "count     20518.000000\n",
       "mean        180.888634\n",
       "std         219.727988\n",
       "min           1.000000\n",
       "25%          45.000000\n",
       "50%          95.000000\n",
       "75%         232.000000\n",
       "max        1580.000000"
      ]
     },
     "execution_count": 44,
     "metadata": {},
     "output_type": "execute_result"
    }
   ],
   "source": [
    "aparts['days_exposition'].describe().to_frame()"
   ]
  },
  {
   "cell_type": "code",
   "execution_count": 77,
   "metadata": {},
   "outputs": [
    {
     "data": {
      "text/plain": [
       "95.0"
      ]
     },
     "execution_count": 77,
     "metadata": {},
     "output_type": "execute_result"
    }
   ],
   "source": [
    "aparts['days_exposition'].median()"
   ]
  },
  {
   "cell_type": "markdown",
   "metadata": {},
   "source": [
    "Среднее время продажи - полгода, 180 дней. Медианное - 95 дней. Очень неплохо, так оно и есть. Посмотрим, как они продавались."
   ]
  },
  {
   "cell_type": "code",
   "execution_count": 85,
   "metadata": {
    "scrolled": true
   },
   "outputs": [
    {
     "data": {
      "text/plain": [
       "Text(0.5, 0, 'Дни')"
      ]
     },
     "execution_count": 85,
     "metadata": {},
     "output_type": "execute_result"
    },
    {
     "data": {
      "image/png": "[encoded data removed]",
      "text/plain": [
       "<Figure size 720x360 with 1 Axes>"
      ]
     },
     "metadata": {
      "needs_background": "light"
     },
     "output_type": "display_data"
    }
   ],
   "source": [
    "aparts['days_exposition'].hist(bins=70, figsize=(10,5), ec='black').set_ylabel('Сделки')\n",
    "aparts['days_exposition'].hist(bins=70, figsize=(10,5), ec='black').set_xlabel('Дни')"
   ]
  },
  {
   "cell_type": "markdown",
   "metadata": {},
   "source": [
    "<div class=\"alert alert-block alert-warning\">\n",
    "<b>Remarks:</b> \n",
    "    \n",
    "Дальше будут проекты, где тебе придется строить очень много графиков, поэтому лучше сразу их правильно строить. На данном графике у тебя должны быть подписаны оси, ось Y должна содержать еще размерность данных (шт., млн. и т.д.). Оси и заголовок должны быть на одном языке. В заголовке еще можно написать за какой период у нас данные. Поправь и другие графики в проекте.\n",
    "\n",
    "Правильное оформление графиков сильно повышает вероятность сдачи проекта с первого раза ;)\n",
    "    \n",
    "Также скину тебе сайт с подборкой крутых примеров на разных библиотеках:\n",
    "    \n",
    "https://python-graph-gallery.com/\n",
    "    "
   ]
  },
  {
   "cell_type": "markdown",
   "metadata": {},
   "source": [
    "<div class=\"alert alert-info\">\n",
    "<h2> Комментарий студента</h2>\n",
    "\n",
    "Ок, подписал.</div>"
   ]
  },
  {
   "cell_type": "markdown",
   "metadata": {},
   "source": [
    "Чем дальше, тем реже продажи, тоже всё верно. Смотрим на ящик."
   ]
  },
  {
   "cell_type": "code",
   "execution_count": 47,
   "metadata": {
    "scrolled": true
   },
   "outputs": [
    {
     "data": {
      "text/plain": [
       "<matplotlib.axes._subplots.AxesSubplot at 0x7f209ceace50>"
      ]
     },
     "execution_count": 47,
     "metadata": {},
     "output_type": "execute_result"
    },
    {
     "data": {
      "image/png": "[encoded data removed]",
      "text/plain": [
       "<Figure size 432x288 with 1 Axes>"
      ]
     },
     "metadata": {
      "needs_background": "light"
     },
     "output_type": "display_data"
    }
   ],
   "source": [
    "aparts.boxplot(column='days_exposition')"
   ]
  },
  {
   "cell_type": "markdown",
   "metadata": {},
   "source": [
    "Выборку можно сделать где-то в районе 500."
   ]
  },
  {
   "cell_type": "code",
   "execution_count": 48,
   "metadata": {
    "scrolled": true
   },
   "outputs": [
    {
     "data": {
      "text/plain": [
       "<matplotlib.axes._subplots.AxesSubplot at 0x7f209c556310>"
      ]
     },
     "execution_count": 48,
     "metadata": {},
     "output_type": "execute_result"
    },
    {
     "data": {
      "image/png": "[encoded data removed]",
      "text/plain": [
       "<Figure size 720x216 with 1 Axes>"
      ]
     },
     "metadata": {
      "needs_background": "light"
     },
     "output_type": "display_data"
    }
   ],
   "source": [
    "aparts.query('days_exposition<500')['days_exposition'].hist(bins=70, figsize=(10,3), ec='black')"
   ]
  },
  {
   "cell_type": "markdown",
   "metadata": {},
   "source": [
    "Вывод остался прежним. Укрупним редкие и выбивающиеся значения."
   ]
  },
  {
   "cell_type": "code",
   "execution_count": 49,
   "metadata": {
    "scrolled": true
   },
   "outputs": [
    {
     "data": {
      "text/plain": [
       "<matplotlib.axes._subplots.AxesSubplot at 0x7f209c5068d0>"
      ]
     },
     "execution_count": 49,
     "metadata": {},
     "output_type": "execute_result"
    },
    {
     "data": {
      "image/png": "[encoded data removed]",
      "text/plain": [
       "<Figure size 720x216 with 1 Axes>"
      ]
     },
     "metadata": {
      "needs_background": "light"
     },
     "output_type": "display_data"
    }
   ],
   "source": [
    "aparts.query('40<days_exposition<65')['days_exposition'].hist(bins=70, figsize=(10,3), ec='black')"
   ]
  },
  {
   "cell_type": "markdown",
   "metadata": {},
   "source": [
    "Шаг в 15 дней может означать какой-то скрипт проверки или звонок. Тогда логично, что в эти даты будет пик закрытий."
   ]
  },
  {
   "cell_type": "markdown",
   "metadata": {},
   "source": [
    "<div class=\"alert alert-block alert-success\">\n",
    "<b>Success:</b> и снова в точку!"
   ]
  },
  {
   "cell_type": "markdown",
   "metadata": {},
   "source": [
    "\"Какие факторы больше всего влияют на стоимость квартиры? Изучите, зависит ли цена от квадратного метра, числа комнат, этажа (первого или последнего), удалённости от центра. Также изучите зависимость от даты размещения: дня недели, месяца и года. \"Выберите 10 населённых пунктов с наибольшим числом объявлений. Посчитайте среднюю цену квадратного метра в этих населённых пунктах. Выделите населённые пункты с самой высокой и низкой стоимостью жилья. Эти данные можно найти по имени в столбце 'locality_name'. \""
   ]
  },
  {
   "cell_type": "code",
   "execution_count": 50,
   "metadata": {},
   "outputs": [],
   "source": [
    "def func_price(df, column):\n",
    "    title_dict = {'rooms': 'Зависимость цены от числа комнат', 'level': 'Зависимость цены от этажа',\n",
    "                  'fromcenter_category': 'Зависимость от удалённости от центра',\n",
    "                  'day':'Медиана цен по дням недели', 'month': 'Медиана цен по месяцам',\n",
    "                  'year': 'Медиана цен (по годам)', \n",
    "                  'cityCenters_nearest_kms': 'Зависимость цены от удалённости от центра'}\n",
    "    plt.style.use('seaborn-pastel')\n",
    "    if column == 'level' or column == 'fromcenter_category':\n",
    "        sort_key = 'last_price'\n",
    "    else:\n",
    "        sort_key = column\n",
    "    if column == 'fromcenter_category':\n",
    "        fontsize = 12\n",
    "    else:\n",
    "        fontsize = 15\n",
    "    df_filtered = df.groupby(column).median()['last_price'].reset_index().sort_values(by=sort_key)\n",
    "    plot = df_filtered.plot(x=column, y=\"last_price\", kind='bar', ec='black', \n",
    "                            title=title_dict[column], legend=None, \n",
    "                            fontsize=fontsize, figsize=(9,4))\n",
    "    ax2 = plt.gca()\n",
    "    x_axis = ax2.xaxis\n",
    "    x_axis.label.set_visible(False)\n",
    "    if column != 'cityCenters_nearest_kms':\n",
    "        plt.xticks(rotation=0)\n",
    "    return plot"
   ]
  },
  {
   "cell_type": "code",
   "execution_count": 51,
   "metadata": {
    "scrolled": true
   },
   "outputs": [
    {
     "data": {
      "text/plain": [
       "<matplotlib.axes._subplots.AxesSubplot at 0x7f209b33a790>"
      ]
     },
     "execution_count": 51,
     "metadata": {},
     "output_type": "execute_result"
    },
    {
     "data": {
      "image/png": "[encoded data removed]",
      "text/plain": [
       "<Figure size 648x288 with 1 Axes>"
      ]
     },
     "metadata": {
      "needs_background": "light"
     },
     "output_type": "display_data"
    }
   ],
   "source": [
    "func_price(aparts, 'rooms')"
   ]
  },
  {
   "cell_type": "markdown",
   "metadata": {},
   "source": [
    "12 - это странно, поэтому убираем выбросы."
   ]
  },
  {
   "cell_type": "code",
   "execution_count": 52,
   "metadata": {
    "scrolled": true
   },
   "outputs": [
    {
     "data": {
      "text/plain": [
       "<matplotlib.axes._subplots.AxesSubplot at 0x7f209cfcd410>"
      ]
     },
     "execution_count": 52,
     "metadata": {},
     "output_type": "execute_result"
    },
    {
     "data": {
      "image/png": "[encoded data removed]",
      "text/plain": [
       "<Figure size 432x288 with 1 Axes>"
      ]
     },
     "metadata": {
      "needs_background": "light"
     },
     "output_type": "display_data"
    }
   ],
   "source": [
    "aparts.boxplot(column='rooms')"
   ]
  },
  {
   "cell_type": "code",
   "execution_count": 53,
   "metadata": {
    "scrolled": true
   },
   "outputs": [
    {
     "data": {
      "text/plain": [
       "<matplotlib.axes._subplots.AxesSubplot at 0x7f209b0f9190>"
      ]
     },
     "execution_count": 53,
     "metadata": {},
     "output_type": "execute_result"
    },
    {
     "data": {
      "image/png": "[encoded data removed]",
      "text/plain": [
       "<Figure size 648x288 with 1 Axes>"
      ]
     },
     "metadata": {
      "needs_background": "light"
     },
     "output_type": "display_data"
    }
   ],
   "source": [
    "func_price(aparts.query('rooms <= 6'), 'rooms')"
   ]
  },
  {
   "cell_type": "markdown",
   "metadata": {},
   "source": [
    "Всё выглядит красиво, цена с числом только увеличивается. Смотрим этажи."
   ]
  },
  {
   "cell_type": "code",
   "execution_count": 54,
   "metadata": {
    "scrolled": true
   },
   "outputs": [
    {
     "data": {
      "text/plain": [
       "<matplotlib.axes._subplots.AxesSubplot at 0x7f209b178690>"
      ]
     },
     "execution_count": 54,
     "metadata": {},
     "output_type": "execute_result"
    },
    {
     "data": {
      "image/png": "[encoded data removed]",
      "text/plain": [
       "<Figure size 648x288 with 1 Axes>"
      ]
     },
     "metadata": {
      "needs_background": "light"
     },
     "output_type": "display_data"
    }
   ],
   "source": [
    "func_price(aparts, 'level')"
   ]
  },
  {
   "cell_type": "markdown",
   "metadata": {},
   "source": [
    "<div class=\"alert alert-block alert-success\">\n",
    "<b>Success:</b> очень наглядно!"
   ]
  },
  {
   "cell_type": "markdown",
   "metadata": {},
   "source": [
    "Но в общем-то да. Первый и последний этажи стоят дешевле. Привет Пушкину (пригород СПб), где я живу. Тут много двухэтажек и вообще малоэтажная застройка. Найти квартиру не на первом и последнем практически невозможно! Я живу на третьем этаже, но без лифта. )"
   ]
  },
  {
   "cell_type": "code",
   "execution_count": 55,
   "metadata": {
    "scrolled": true
   },
   "outputs": [
    {
     "data": {
      "text/plain": [
       "<matplotlib.axes._subplots.AxesSubplot at 0x7f209afb3c90>"
      ]
     },
     "execution_count": 55,
     "metadata": {},
     "output_type": "execute_result"
    },
    {
     "data": {
      "image/png": "[encoded data removed]",
      "text/plain": [
       "<Figure size 648x288 with 1 Axes>"
      ]
     },
     "metadata": {
      "needs_background": "light"
     },
     "output_type": "display_data"
    }
   ],
   "source": [
    "func_price(aparts, 'fromcenter_category')"
   ]
  },
  {
   "cell_type": "markdown",
   "metadata": {},
   "source": [
    "Да. В центре дороже. В области дешевле."
   ]
  },
  {
   "cell_type": "markdown",
   "metadata": {},
   "source": [
    "Теперь изучим зависимость от дня недели, месяца и года объявления."
   ]
  },
  {
   "cell_type": "code",
   "execution_count": 56,
   "metadata": {},
   "outputs": [],
   "source": [
    "def med_price(df, ylims=None):\n",
    "    med_to_plot = ['day', 'month', 'year']\n",
    "    titles = ['Медиана недели', 'Медиана месяца', 'Медиана года']\n",
    "\n",
    "    for i in range(len(med_to_plot)):\n",
    "        df_to_plot = aparts.groupby(med_to_plot[i]).median()['last_price'].reset_index().sort_values(by=med_to_plot[i])\n",
    "        if ylims is None:\n",
    "            plot = df_to_plot.plot(x=med_to_plot[i], y=\"last_price\", kind='bar', figsize=(10,5), ec='black',\n",
    "                                   legend=False, title=titles[i], fontsize=15)\n",
    "        else:\n",
    "            plot = df_to_plot.plot(x=med_to_plot[i], y=\"last_price\", kind='bar', figsize=(10,5), ec='black',\n",
    "                               legend=False, title=titles[i], fontsize=15, ylim=ylims[i])\n",
    "        ax2 = plt.gca()\n",
    "        x_axis = ax2.xaxis\n",
    "        x_axis.label.set_visible(False)\n",
    "        if med_to_plot[i] != 'day':\n",
    "            plt.xticks(rotation=0)\n",
    "    return plot"
   ]
  },
  {
   "cell_type": "markdown",
   "metadata": {},
   "source": [
    "Составим функцию и используем её."
   ]
  },
  {
   "cell_type": "code",
   "execution_count": 57,
   "metadata": {
    "scrolled": true
   },
   "outputs": [
    {
     "data": {
      "text/plain": [
       "<matplotlib.axes._subplots.AxesSubplot at 0x7f209ae99290>"
      ]
     },
     "execution_count": 57,
     "metadata": {},
     "output_type": "execute_result"
    },
    {
     "data": {
      "image/png": "[encoded data removed]",
      "text/plain": [
       "<Figure size 720x360 with 1 Axes>"
      ]
     },
     "metadata": {
      "needs_background": "light"
     },
     "output_type": "display_data"
    },
    {
     "data": {
      "image/png": "[encoded data removed]",
      "text/plain": [
       "<Figure size 720x360 with 1 Axes>"
      ]
     },
     "metadata": {
      "needs_background": "light"
     },
     "output_type": "display_data"
    },
    {
     "data": {
      "image/png": "[encoded data removed]",
      "text/plain": [
       "<Figure size 720x360 with 1 Axes>"
      ]
     },
     "metadata": {
      "needs_background": "light"
     },
     "output_type": "display_data"
    }
   ],
   "source": [
    "med_price(aparts)"
   ]
  },
  {
   "cell_type": "markdown",
   "metadata": {},
   "source": [
    "Ничего не понятно. Увеличим размеры."
   ]
  },
  {
   "cell_type": "code",
   "execution_count": 58,
   "metadata": {
    "scrolled": true
   },
   "outputs": [
    {
     "data": {
      "text/plain": [
       "<matplotlib.axes._subplots.AxesSubplot at 0x7f209ad03510>"
      ]
     },
     "execution_count": 58,
     "metadata": {},
     "output_type": "execute_result"
    },
    {
     "data": {
      "image/png": "[encoded data removed]",
      "text/plain": [
       "<Figure size 720x360 with 1 Axes>"
      ]
     },
     "metadata": {
      "needs_background": "light"
     },
     "output_type": "display_data"
    },
    {
     "data": {
      "image/png": "[encoded data removed]",
      "text/plain": [
       "<Figure size 720x360 with 1 Axes>"
      ]
     },
     "metadata": {
      "needs_background": "light"
     },
     "output_type": "display_data"
    },
    {
     "data": {
      "image/png": "[encoded data removed]",
      "text/plain": [
       "<Figure size 720x360 with 1 Axes>"
      ]
     },
     "metadata": {
      "needs_background": "light"
     },
     "output_type": "display_data"
    }
   ],
   "source": [
    "med_price(df=aparts, ylims=[(4000000, 4900000), (4000000, 4900000), (4000000, 8000000)])"
   ]
  },
  {
   "cell_type": "markdown",
   "metadata": {},
   "source": [
    "Итак, наш вывод. Зависимость <b>от цены и дня недели не зависит</b>. В месячной медиане <b>пик продаж приходится на апрель</b>. В медиане года выделяется 2014."
   ]
  },
  {
   "cell_type": "markdown",
   "metadata": {},
   "source": [
    "<div class=\"alert alert-block alert-warning\">\n",
    "<b>Remarks:</b> давай теперь помимо медиан посмотрим на количество значений в каждой категории"
   ]
  },
  {
   "cell_type": "markdown",
   "metadata": {},
   "source": [
    "<div class=\"alert alert-info\">\n",
    "<h2> Комментарий студента</h2>\n",
    "\n",
    "Ок. Продублируем функцию. Можно count(), можно суммами sum().</div>"
   ]
  },
  {
   "cell_type": "code",
   "execution_count": 102,
   "metadata": {},
   "outputs": [],
   "source": [
    "def num_price(df, ylims=None):\n",
    "    med_to_plot = ['day', 'month', 'year']\n",
    "    titles = ['Значения недели', 'Значения месяца', 'Значения года']\n",
    "\n",
    "    for i in range(len(med_to_plot)):\n",
    "        df_to_plot = aparts.groupby(med_to_plot[i]).count()['last_price'].reset_index().sort_values(by=med_to_plot[i])\n",
    "        if ylims is None:\n",
    "            plot = df_to_plot.plot(x=med_to_plot[i], y=\"last_price\", kind='bar', figsize=(10,5), ec='black',\n",
    "                                   legend=False, title=titles[i], fontsize=15)\n",
    "        else:\n",
    "            plot = df_to_plot.plot(x=med_to_plot[i], y=\"last_price\", kind='bar', figsize=(10,5), ec='black',\n",
    "                               legend=False, title=titles[i], fontsize=15, ylim=ylims[i])\n",
    "        ax2 = plt.gca()\n",
    "        x_axis = ax2.xaxis\n",
    "        x_axis.label.set_visible(False)\n",
    "        if med_to_plot[i] != 'day':\n",
    "            plt.xticks(rotation=0)\n",
    "    return plot"
   ]
  },
  {
   "cell_type": "code",
   "execution_count": 103,
   "metadata": {},
   "outputs": [
    {
     "data": {
      "text/plain": [
       "<matplotlib.axes._subplots.AxesSubplot at 0x7f209ae0d5d0>"
      ]
     },
     "execution_count": 103,
     "metadata": {},
     "output_type": "execute_result"
    },
    {
     "data": {
      "image/png": "[encoded data removed]",
      "text/plain": [
       "<Figure size 720x360 with 1 Axes>"
      ]
     },
     "metadata": {
      "needs_background": "light"
     },
     "output_type": "display_data"
    },
    {
     "data": {
      "image/png": "[encoded data removed]",
      "text/plain": [
       "<Figure size 720x360 with 1 Axes>"
      ]
     },
     "metadata": {
      "needs_background": "light"
     },
     "output_type": "display_data"
    },
    {
     "data": {
      "image/png": "[encoded data removed]",
      "text/plain": [
       "<Figure size 720x360 with 1 Axes>"
      ]
     },
     "metadata": {
      "needs_background": "light"
     },
     "output_type": "display_data"
    }
   ],
   "source": [
    "num_price(aparts)"
   ]
  },
  {
   "cell_type": "markdown",
   "metadata": {},
   "source": [
    "Теперь подсчитаем среднюю стоимость метра и отранжируем по убыванию. Возьмём первые 10 позиций."
   ]
  },
  {
   "cell_type": "code",
   "execution_count": 59,
   "metadata": {
    "scrolled": false
   },
   "outputs": [
    {
     "data": {
      "text/html": [
       "<div>\n",
       "<style scoped>\n",
       "    .dataframe tbody tr th:only-of-type {\n",
       "        vertical-align: middle;\n",
       "    }\n",
       "\n",
       "    .dataframe tbody tr th {\n",
       "        vertical-align: top;\n",
       "    }\n",
       "\n",
       "    .dataframe thead th {\n",
       "        text-align: right;\n",
       "    }\n",
       "</style>\n",
       "<table border=\"1\" class=\"dataframe\">\n",
       "  <thead>\n",
       "    <tr style=\"text-align: right;\">\n",
       "      <th></th>\n",
       "      <th>Город</th>\n",
       "      <th>Средняя цена за кв.м., тыс. руб.</th>\n",
       "      <th>Средняя цена за квартиру, тыс. руб.</th>\n",
       "    </tr>\n",
       "  </thead>\n",
       "  <tbody>\n",
       "    <tr>\n",
       "      <td>0</td>\n",
       "      <td>Санкт-Петербург</td>\n",
       "      <td>104761.0</td>\n",
       "      <td>5500000.0</td>\n",
       "    </tr>\n",
       "    <tr>\n",
       "      <td>4</td>\n",
       "      <td>Пушкин</td>\n",
       "      <td>100000.0</td>\n",
       "      <td>5180000.0</td>\n",
       "    </tr>\n",
       "    <tr>\n",
       "      <td>8</td>\n",
       "      <td>деревня Кудрово</td>\n",
       "      <td>91860.0</td>\n",
       "      <td>3790000.0</td>\n",
       "    </tr>\n",
       "    <tr>\n",
       "      <td>6</td>\n",
       "      <td>посёлок Парголово</td>\n",
       "      <td>91642.0</td>\n",
       "      <td>4100000.0</td>\n",
       "    </tr>\n",
       "    <tr>\n",
       "      <td>1</td>\n",
       "      <td>посёлок Мурино</td>\n",
       "      <td>85878.0</td>\n",
       "      <td>3400000.0</td>\n",
       "    </tr>\n",
       "    <tr>\n",
       "      <td>2</td>\n",
       "      <td>посёлок Шушары</td>\n",
       "      <td>76876.0</td>\n",
       "      <td>3950000.0</td>\n",
       "    </tr>\n",
       "    <tr>\n",
       "      <td>5</td>\n",
       "      <td>Колпино</td>\n",
       "      <td>74723.5</td>\n",
       "      <td>3600000.0</td>\n",
       "    </tr>\n",
       "    <tr>\n",
       "      <td>7</td>\n",
       "      <td>Гатчина</td>\n",
       "      <td>67796.0</td>\n",
       "      <td>3100000.0</td>\n",
       "    </tr>\n",
       "    <tr>\n",
       "      <td>3</td>\n",
       "      <td>Всеволожск</td>\n",
       "      <td>65789.0</td>\n",
       "      <td>3450000.0</td>\n",
       "    </tr>\n",
       "    <tr>\n",
       "      <td>9</td>\n",
       "      <td>Выборг</td>\n",
       "      <td>58158.0</td>\n",
       "      <td>2897000.0</td>\n",
       "    </tr>\n",
       "  </tbody>\n",
       "</table>\n",
       "</div>"
      ],
      "text/plain": [
       "               Город  Средняя цена за кв.м., тыс. руб.  \\\n",
       "0    Санкт-Петербург                          104761.0   \n",
       "4             Пушкин                          100000.0   \n",
       "8    деревня Кудрово                           91860.0   \n",
       "6  посёлок Парголово                           91642.0   \n",
       "1     посёлок Мурино                           85878.0   \n",
       "2     посёлок Шушары                           76876.0   \n",
       "5            Колпино                           74723.5   \n",
       "7            Гатчина                           67796.0   \n",
       "3         Всеволожск                           65789.0   \n",
       "9             Выборг                           58158.0   \n",
       "\n",
       "   Средняя цена за квартиру, тыс. руб.  \n",
       "0                            5500000.0  \n",
       "4                            5180000.0  \n",
       "8                            3790000.0  \n",
       "6                            4100000.0  \n",
       "1                            3400000.0  \n",
       "2                            3950000.0  \n",
       "5                            3600000.0  \n",
       "7                            3100000.0  \n",
       "3                            3450000.0  \n",
       "9                            2897000.0  "
      ]
     },
     "execution_count": 59,
     "metadata": {},
     "output_type": "execute_result"
    }
   ],
   "source": [
    "top10 = aparts['locality_name'].value_counts().index.tolist()[:10]\n",
    "mean10_metrics = [aparts[aparts['locality_name'] == city]['price_of_m2'].median().round(2) for city in top10]\n",
    "mean10_prices = [aparts[aparts['locality_name'] == city]['last_price'].median() for city in top10]\n",
    "frame = {'Город': top10, 'Средняя цена за кв.м., тыс. руб.': mean10_metrics, 'Средняя цена за квартиру, тыс. руб.': mean10_prices}\n",
    "dataframe = pd.DataFrame(frame).sort_values(by='Средняя цена за кв.м., тыс. руб.', ascending=False)\n",
    "dataframe"
   ]
  },
  {
   "cell_type": "markdown",
   "metadata": {},
   "source": [
    "А я передислоцировался из Всеволожска в Пушкин, и не напрасно. Моё благосостояние растёт (нет)."
   ]
  },
  {
   "cell_type": "markdown",
   "metadata": {},
   "source": [
    "Теперь займёмся Петербургом и центральной зоной."
   ]
  },
  {
   "cell_type": "code",
   "execution_count": 60,
   "metadata": {},
   "outputs": [
    {
     "data": {
      "text/html": [
       "<div>\n",
       "<style scoped>\n",
       "    .dataframe tbody tr th:only-of-type {\n",
       "        vertical-align: middle;\n",
       "    }\n",
       "\n",
       "    .dataframe tbody tr th {\n",
       "        vertical-align: top;\n",
       "    }\n",
       "\n",
       "    .dataframe thead th {\n",
       "        text-align: right;\n",
       "    }\n",
       "</style>\n",
       "<table border=\"1\" class=\"dataframe\">\n",
       "  <thead>\n",
       "    <tr style=\"text-align: right;\">\n",
       "      <th></th>\n",
       "      <th>total_images</th>\n",
       "      <th>last_price</th>\n",
       "      <th>total_area</th>\n",
       "      <th>first_day_exposition</th>\n",
       "      <th>rooms</th>\n",
       "      <th>ceiling_height</th>\n",
       "      <th>floors_total</th>\n",
       "      <th>living_area</th>\n",
       "      <th>floor</th>\n",
       "      <th>is_apartment</th>\n",
       "      <th>...</th>\n",
       "      <th>days_exposition</th>\n",
       "      <th>fromcenter_category</th>\n",
       "      <th>price_of_m2</th>\n",
       "      <th>year</th>\n",
       "      <th>month</th>\n",
       "      <th>day</th>\n",
       "      <th>level</th>\n",
       "      <th>living_area_part</th>\n",
       "      <th>kitchen_area_part</th>\n",
       "      <th>cityCenters_nearest_kms</th>\n",
       "    </tr>\n",
       "  </thead>\n",
       "  <tbody>\n",
       "    <tr>\n",
       "      <td>0</td>\n",
       "      <td>20</td>\n",
       "      <td>13000000</td>\n",
       "      <td>108.0</td>\n",
       "      <td>2019-03-07</td>\n",
       "      <td>3</td>\n",
       "      <td>2.7</td>\n",
       "      <td>16.0</td>\n",
       "      <td>51.0</td>\n",
       "      <td>8</td>\n",
       "      <td>NaN</td>\n",
       "      <td>...</td>\n",
       "      <td>NaN</td>\n",
       "      <td>спальный район</td>\n",
       "      <td>120370</td>\n",
       "      <td>2019</td>\n",
       "      <td>3</td>\n",
       "      <td>четверг</td>\n",
       "      <td>другой</td>\n",
       "      <td>0.5</td>\n",
       "      <td>0.2</td>\n",
       "      <td>16.0</td>\n",
       "    </tr>\n",
       "    <tr>\n",
       "      <td>2</td>\n",
       "      <td>10</td>\n",
       "      <td>5196000</td>\n",
       "      <td>56.0</td>\n",
       "      <td>2015-08-20</td>\n",
       "      <td>2</td>\n",
       "      <td>2.7</td>\n",
       "      <td>5.0</td>\n",
       "      <td>34.3</td>\n",
       "      <td>4</td>\n",
       "      <td>NaN</td>\n",
       "      <td>...</td>\n",
       "      <td>558.0</td>\n",
       "      <td>спальный район</td>\n",
       "      <td>92785</td>\n",
       "      <td>2015</td>\n",
       "      <td>8</td>\n",
       "      <td>четверг</td>\n",
       "      <td>другой</td>\n",
       "      <td>0.6</td>\n",
       "      <td>0.1</td>\n",
       "      <td>14.0</td>\n",
       "    </tr>\n",
       "    <tr>\n",
       "      <td>3</td>\n",
       "      <td>0</td>\n",
       "      <td>64900000</td>\n",
       "      <td>159.0</td>\n",
       "      <td>2015-07-24</td>\n",
       "      <td>3</td>\n",
       "      <td>2.7</td>\n",
       "      <td>14.0</td>\n",
       "      <td>NaN</td>\n",
       "      <td>9</td>\n",
       "      <td>NaN</td>\n",
       "      <td>...</td>\n",
       "      <td>424.0</td>\n",
       "      <td>спальный район</td>\n",
       "      <td>408176</td>\n",
       "      <td>2015</td>\n",
       "      <td>7</td>\n",
       "      <td>пятница</td>\n",
       "      <td>другой</td>\n",
       "      <td>NaN</td>\n",
       "      <td>NaN</td>\n",
       "      <td>7.0</td>\n",
       "    </tr>\n",
       "    <tr>\n",
       "      <td>4</td>\n",
       "      <td>2</td>\n",
       "      <td>10000000</td>\n",
       "      <td>100.0</td>\n",
       "      <td>2018-06-19</td>\n",
       "      <td>2</td>\n",
       "      <td>3.0</td>\n",
       "      <td>14.0</td>\n",
       "      <td>32.0</td>\n",
       "      <td>13</td>\n",
       "      <td>NaN</td>\n",
       "      <td>...</td>\n",
       "      <td>121.0</td>\n",
       "      <td>спальный район</td>\n",
       "      <td>100000</td>\n",
       "      <td>2018</td>\n",
       "      <td>6</td>\n",
       "      <td>вторник</td>\n",
       "      <td>другой</td>\n",
       "      <td>0.3</td>\n",
       "      <td>0.4</td>\n",
       "      <td>8.0</td>\n",
       "    </tr>\n",
       "    <tr>\n",
       "      <td>7</td>\n",
       "      <td>5</td>\n",
       "      <td>7915000</td>\n",
       "      <td>71.6</td>\n",
       "      <td>2019-04-18</td>\n",
       "      <td>2</td>\n",
       "      <td>2.7</td>\n",
       "      <td>24.0</td>\n",
       "      <td>NaN</td>\n",
       "      <td>22</td>\n",
       "      <td>NaN</td>\n",
       "      <td>...</td>\n",
       "      <td>NaN</td>\n",
       "      <td>спальный район</td>\n",
       "      <td>110544</td>\n",
       "      <td>2019</td>\n",
       "      <td>4</td>\n",
       "      <td>четверг</td>\n",
       "      <td>другой</td>\n",
       "      <td>NaN</td>\n",
       "      <td>0.3</td>\n",
       "      <td>12.0</td>\n",
       "    </tr>\n",
       "  </tbody>\n",
       "</table>\n",
       "<p>5 rows × 31 columns</p>\n",
       "</div>"
      ],
      "text/plain": [
       "   total_images  last_price  total_area first_day_exposition  rooms  \\\n",
       "0            20    13000000       108.0           2019-03-07      3   \n",
       "2            10     5196000        56.0           2015-08-20      2   \n",
       "3             0    64900000       159.0           2015-07-24      3   \n",
       "4             2    10000000       100.0           2018-06-19      2   \n",
       "7             5     7915000        71.6           2019-04-18      2   \n",
       "\n",
       "   ceiling_height  floors_total  living_area  floor is_apartment  ...  \\\n",
       "0             2.7          16.0         51.0      8          NaN  ...   \n",
       "2             2.7           5.0         34.3      4          NaN  ...   \n",
       "3             2.7          14.0          NaN      9          NaN  ...   \n",
       "4             3.0          14.0         32.0     13          NaN  ...   \n",
       "7             2.7          24.0          NaN     22          NaN  ...   \n",
       "\n",
       "   days_exposition  fromcenter_category  price_of_m2  year month      day  \\\n",
       "0              NaN       спальный район       120370  2019     3  четверг   \n",
       "2            558.0       спальный район        92785  2015     8  четверг   \n",
       "3            424.0       спальный район       408176  2015     7  пятница   \n",
       "4            121.0       спальный район       100000  2018     6  вторник   \n",
       "7              NaN       спальный район       110544  2019     4  четверг   \n",
       "\n",
       "    level  living_area_part  kitchen_area_part  cityCenters_nearest_kms  \n",
       "0  другой               0.5                0.2                     16.0  \n",
       "2  другой               0.6                0.1                     14.0  \n",
       "3  другой               NaN                NaN                      7.0  \n",
       "4  другой               0.3                0.4                      8.0  \n",
       "7  другой               NaN                0.3                     12.0  \n",
       "\n",
       "[5 rows x 31 columns]"
      ]
     },
     "execution_count": 60,
     "metadata": {},
     "output_type": "execute_result"
    }
   ],
   "source": [
    "aparts_spb = aparts.query('locality_name == \"Санкт-Петербург\"')\n",
    "aparts_spb.loc[:, 'cityCenters_nearest_kms'] = (aparts_spb.loc[:, 'cityCenters_nearest']/1000).round()\n",
    "aparts_spb.head()"
   ]
  },
  {
   "cell_type": "markdown",
   "metadata": {},
   "source": [
    "В последнем стообце - средняя цена для каждого километра. Теперь по нему можно построить график медианной цены."
   ]
  },
  {
   "cell_type": "code",
   "execution_count": 61,
   "metadata": {
    "scrolled": true
   },
   "outputs": [
    {
     "data": {
      "text/plain": [
       "<matplotlib.axes._subplots.AxesSubplot at 0x7f209ac87110>"
      ]
     },
     "execution_count": 61,
     "metadata": {},
     "output_type": "execute_result"
    },
    {
     "data": {
      "image/png": "[encoded data removed]",
      "text/plain": [
       "<Figure size 648x288 with 1 Axes>"
      ]
     },
     "metadata": {
      "needs_background": "light"
     },
     "output_type": "display_data"
    }
   ],
   "source": [
    "func_price(aparts_spb, 'cityCenters_nearest_kms')"
   ]
  },
  {
   "cell_type": "markdown",
   "metadata": {},
   "source": [
    "Дальше от центра - дешевле."
   ]
  },
  {
   "cell_type": "markdown",
   "metadata": {},
   "source": [
    "Выделим сегмент квартир в удалённости до 10 км. в отдельную переменную."
   ]
  },
  {
   "cell_type": "markdown",
   "metadata": {},
   "source": [
    "<div class=\"alert alert-block alert-success\">\n",
    "<b>Success:</b> согалсен с выбранным радиусом"
   ]
  },
  {
   "cell_type": "code",
   "execution_count": 62,
   "metadata": {
    "scrolled": true
   },
   "outputs": [
    {
     "name": "stdout",
     "output_type": "stream",
     "text": [
      "Выборка квартир в центральной зоне Санкт-Петербурга - 5097 квартир\n"
     ]
    }
   ],
   "source": [
    "aparts_in_center = aparts_spb.query('cityCenters_nearest <= 10000')\n",
    "print('Выборка квартир в центральной зоне Санкт-Петербурга -', aparts_in_center.shape[0], 'квартир')"
   ]
  },
  {
   "cell_type": "markdown",
   "metadata": {},
   "source": [
    "Зависимость цены от комнат. Выберем до 6 (хотя можно было бы и до 4-х)"
   ]
  },
  {
   "cell_type": "code",
   "execution_count": 63,
   "metadata": {
    "scrolled": true
   },
   "outputs": [
    {
     "data": {
      "text/plain": [
       "<matplotlib.axes._subplots.AxesSubplot at 0x7f2099adea50>"
      ]
     },
     "execution_count": 63,
     "metadata": {},
     "output_type": "execute_result"
    },
    {
     "data": {
      "image/png": "[encoded data removed]",
      "text/plain": [
       "<Figure size 648x288 with 1 Axes>"
      ]
     },
     "metadata": {
      "needs_background": "light"
     },
     "output_type": "display_data"
    }
   ],
   "source": [
    "#func_price(aparts_in_center, 'rooms')\n",
    "func_price(aparts_in_center.query('rooms <= 6'), 'rooms')"
   ]
  },
  {
   "cell_type": "markdown",
   "metadata": {},
   "source": [
    "<b>С ростом числа комнат растёт цена.</b> Посмотрим зависимость от этажа."
   ]
  },
  {
   "cell_type": "code",
   "execution_count": 64,
   "metadata": {
    "scrolled": true
   },
   "outputs": [
    {
     "data": {
      "text/plain": [
       "<matplotlib.axes._subplots.AxesSubplot at 0x7f2099a58d90>"
      ]
     },
     "execution_count": 64,
     "metadata": {},
     "output_type": "execute_result"
    },
    {
     "data": {
      "image/png": "[encoded data removed]",
      "text/plain": [
       "<Figure size 648x288 with 1 Axes>"
      ]
     },
     "metadata": {
      "needs_background": "light"
     },
     "output_type": "display_data"
    }
   ],
   "source": [
    "func_price(aparts_in_center, 'level')"
   ]
  },
  {
   "cell_type": "markdown",
   "metadata": {},
   "source": [
    "Первый и последний этажи <b>стоят дешевле</b>. Посмотрим зависимость от удалённости от центра."
   ]
  },
  {
   "cell_type": "code",
   "execution_count": 65,
   "metadata": {
    "scrolled": true
   },
   "outputs": [
    {
     "data": {
      "text/plain": [
       "<matplotlib.axes._subplots.AxesSubplot at 0x7f209abc1a10>"
      ]
     },
     "execution_count": 65,
     "metadata": {},
     "output_type": "execute_result"
    },
    {
     "data": {
      "image/png": "[encoded data removed]",
      "text/plain": [
       "<Figure size 648x288 with 1 Axes>"
      ]
     },
     "metadata": {
      "needs_background": "light"
     },
     "output_type": "display_data"
    }
   ],
   "source": [
    "func_price(aparts_in_center, 'cityCenters_nearest_kms')"
   ]
  },
  {
   "cell_type": "markdown",
   "metadata": {},
   "source": [
    "Чем дальше - тем дешевле. Зависимость цены от даты размещения объявления:"
   ]
  },
  {
   "cell_type": "code",
   "execution_count": 66,
   "metadata": {
    "scrolled": true
   },
   "outputs": [
    {
     "data": {
      "text/plain": [
       "<matplotlib.axes._subplots.AxesSubplot at 0x7f20998cd550>"
      ]
     },
     "execution_count": 66,
     "metadata": {},
     "output_type": "execute_result"
    },
    {
     "data": {
      "image/png": "[encoded data removed]",
      "text/plain": [
       "<Figure size 720x360 with 1 Axes>"
      ]
     },
     "metadata": {
      "needs_background": "light"
     },
     "output_type": "display_data"
    },
    {
     "data": {
      "image/png": "[encoded data removed]",
      "text/plain": [
       "<Figure size 720x360 with 1 Axes>"
      ]
     },
     "metadata": {
      "needs_background": "light"
     },
     "output_type": "display_data"
    },
    {
     "data": {
      "image/png": "[encoded data removed]",
      "text/plain": [
       "<Figure size 720x360 with 1 Axes>"
      ]
     },
     "metadata": {
      "needs_background": "light"
     },
     "output_type": "display_data"
    }
   ],
   "source": [
    "#med_price(aparts_in_center)\n",
    "med_price(df=aparts_in_center, ylims=[(4000000, 4900000), (4000000, 4900000), (4000000, 8000000)])"
   ]
  },
  {
   "cell_type": "markdown",
   "metadata": {},
   "source": [
    "<b>Вывод.</b> Зависимости от дня нет, от месяца и года есть. В целом, все те же закономерности проявляются и для всего города."
   ]
  },
  {
   "cell_type": "markdown",
   "metadata": {},
   "source": [
    "## Общий вывод"
   ]
  },
  {
   "cell_type": "markdown",
   "metadata": {},
   "source": [
    "Итак, что мы можем сказать по всем этим данным. Во-первых, цена на квартиру зависит от цены за квадратный метр, от общей площади квартиры (чем выше площадь, тем выше цена), от площади жилой площади и площади кухни, а также от количества комнат. Также, влияние оказывает удалённость от центра - чем дальше от центра, тем ниже цена."
   ]
  },
  {
   "cell_type": "markdown",
   "metadata": {},
   "source": [
    "<div class=\"alert alert-block alert-warning\">\n",
    "    \n",
    "<b>Remarks:</b> Также давай напишем инфомративный общий вывод. Подумай об этом так: общий вывод это резюме исследовательской работы, а не лабораторной :) и большинство заказчиков начнут читать работу именно с него. Он должен содержать все обнаруженные инсайды, рекомендации и главное цифры.</div>"
   ]
  },
  {
   "cell_type": "markdown",
   "metadata": {},
   "source": [
    "<div class=\"alert alert-info\">\n",
    "<h2> Комментарий студента</h2>\n",
    "\n",
    "Ок. Ну что же.\n",
    "    1. Чем больше площадь квартиры, тем выше цена,\n",
    "    2. Чем больше цена за квадратный метр, тем выше цена,\n",
    "    3. Чем выше доля жилой площади/площадь кухни, тем выше цена,\n",
    "    4. Чем больше комнат, тем выше цена,\n",
    "    5. На первом этаже квартира дешевле, чем на остальных; на последнем дороже, чем на первом, но дешевле, чем на остальных,\n",
    "    6. Чем ближе к центру, тем выше цена,\n",
    "    7. Квартиры, размещённые к продаже в 2014 году, дороже всех,\n",
    "    8. Квартиры, размещённые к продаже зимой и летом, в среднем дешевле, чем размещённые в любые другие месяца.\n",
    "</div>"
   ]
  },
  {
   "cell_type": "markdown",
   "metadata": {},
   "source": [
    "## Чек-лист готовности проекта\n",
    "\n",
    "Поставьте 'x' в выполненных пунктах. Далее нажмите Shift+Enter."
   ]
  },
  {
   "cell_type": "markdown",
   "metadata": {},
   "source": [
    "- [x]  открыт файл\n",
    "- [ ]  файлы изучены (выведены первые строки, метод info())\n",
    "- [ ]  определены пропущенные значения\n",
    "- [ ]  заполнены пропущенные значения\n",
    "- [ ]  есть пояснение, какие пропущенные значения обнаружены\n",
    "- [ ]  изменены типы данных\n",
    "- [ ]  есть пояснение, в каких столбцах изменены типы и почему\n",
    "- [ ]  посчитано и добавлено в таблицу: цена квадратного метра\n",
    "- [ ]  посчитано и добавлено в таблицу: день недели, месяц и год публикации объявления\n",
    "- [ ]  посчитано и добавлено в таблицу: этаж квартиры; варианты — первый, последний, другой\n",
    "- [ ]  посчитано и добавлено в таблицу: соотношение жилой и общей площади, а также отношение площади кухни к общей\n",
    "- [ ]  изучены следующие параметры: площадь, цена, число комнат, высота потолков\n",
    "- [ ]  построены гистограммы для каждого параметра\n",
    "- [ ]  выполнено задание: \"Изучите время продажи квартиры. Постройте гистограмму. Посчитайте среднее и медиану. Опишите, сколько обычно занимает продажа. Когда можно считать, что продажи прошли очень быстро, а когда необычно долго?\"\n",
    "- [ ]  выполнено задание: \"Уберите редкие и выбивающиеся значения. Опишите, какие особенности обнаружили.\"\n",
    "- [ ]  выполнено задание: \"Какие факторы больше всего влияют на стоимость квартиры? Изучите, зависит ли цена от квадратного метра, числа комнат, этажа (первого или последнего), удалённости от центра. Также изучите зависимость от даты размещения: дня недели, месяца и года. \"Выберите 10 населённых пунктов с наибольшим числом объявлений. Посчитайте среднюю цену квадратного метра в этих населённых пунктах. Выделите населённые пункты с самой высокой и низкой стоимостью жилья. Эти данные можно найти по имени в столбце '*locality_name'*. \"\n",
    "- [ ]  выполнено задание: \"Изучите предложения квартир: для каждой квартиры есть информация о расстоянии до центра. Выделите квартиры в Санкт-Петербурге (*'locality_name'*). Ваша задача — выяснить, какая область входит в центр. Создайте столбец с расстоянием до центра в километрах: округлите до целых значений. После этого посчитайте среднюю цену для каждого километра. Постройте график: он должен показывать, как цена зависит от удалённости от центра. Определите границу, где график сильно меняется — это и будет центральная зона. \"\n",
    "- [ ]  выполнено задание: \"Выделите сегмент квартир в центре. Проанализируйте эту территорию и изучите следующие параметры: площадь, цена, число комнат, высота потолков. Также выделите факторы, которые влияют на стоимость квартиры (число комнат, этаж, удалённость от центра, дата размещения объявления). Сделайте выводы. Отличаются ли они от общих выводов по всему городу?\"\n",
    "- [ ]  в каждом этапе есть выводы\n",
    "- [ ]  есть общий вывод"
   ]
  }
 ],
 "metadata": {
  "kernelspec": {
   "display_name": "Python 3",
   "language": "python",
   "name": "python3"
  },
  "language_info": {
   "codemirror_mode": {
    "name": "ipython",
    "version": 3
   },
   "file_extension": ".py",
   "mimetype": "text/x-python",
   "name": "python",
   "nbconvert_exporter": "python",
   "pygments_lexer": "ipython3",
   "version": "3.7.8"
  },
  "toc": {
   "base_numbering": 1,
   "nav_menu": {},
   "number_sections": true,
   "sideBar": true,
   "skip_h1_title": true,
   "title_cell": "Содержание",
   "title_sidebar": "Contents",
   "toc_cell": true,
   "toc_position": {},
   "toc_section_display": true,
   "toc_window_display": true
  }
 },
 "nbformat": 4,
 "nbformat_minor": 2
}
