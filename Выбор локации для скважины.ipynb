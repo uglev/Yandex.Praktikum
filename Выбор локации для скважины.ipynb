{
 "cells": [
  {
   "cell_type": "markdown",
   "metadata": {},
   "source": [
    "# Выбор локации для скважины"
   ]
  },
  {
   "cell_type": "markdown",
   "metadata": {},
   "source": [
    "Допустим, вы работаете в добывающей компании «ГлавРосГосНефть». Нужно решить, где бурить новую скважину.\n",
    "\n",
    "Вам предоставлены пробы нефти в трёх регионах: в каждом 10 000 месторождений, где измерили качество нефти и объём её запасов. Постройте модель машинного обучения, которая поможет определить регион, где добыча принесёт наибольшую прибыль. Проанализируйте возможную прибыль и риски техникой *Bootstrap.*\n",
    "\n",
    "Шаги для выбора локации:\n",
    "\n",
    "- В избранном регионе ищут месторождения, для каждого определяют значения признаков;\n",
    "- Строят модель и оценивают объём запасов;\n",
    "- Выбирают месторождения с самым высокими оценками значений. Количество месторождений зависит от бюджета компании и стоимости разработки одной скважины;\n",
    "- Прибыль равна суммарной прибыли отобранных месторождений."
   ]
  },
  {
   "cell_type": "markdown",
   "metadata": {},
   "source": [
    "## Загрузка и подготовка данных"
   ]
  },
  {
   "cell_type": "markdown",
   "metadata": {},
   "source": [
    "Импортируем необходимые библиотеки и пр., как обычно."
   ]
  },
  {
   "cell_type": "code",
   "execution_count": 1,
   "metadata": {},
   "outputs": [],
   "source": [
    "import pandas as pd\n",
    "import numpy as np\n",
    "import scipy.stats as st\n",
    "\n",
    "from sklearn.linear_model import LinearRegression\n",
    "\n",
    "from sklearn.metrics import mean_squared_error\n",
    "from sklearn.model_selection import train_test_split\n",
    "from sklearn.preprocessing import MinMaxScaler\n",
    "\n",
    "import matplotlib.pyplot as plt\n",
    "\n",
    "import warnings\n",
    "warnings.filterwarnings(\"ignore\")"
   ]
  },
  {
   "cell_type": "markdown",
   "metadata": {},
   "source": [
    "Присвоим имена переменным с указанием полного пути."
   ]
  },
  {
   "cell_type": "code",
   "execution_count": 2,
   "metadata": {},
   "outputs": [],
   "source": [
    "df1 = pd.read_csv('https://code.s3.yandex.net/datasets/geo_data_0.csv')\n",
    "df2 = pd.read_csv('https://code.s3.yandex.net/datasets/geo_data_1.csv')\n",
    "df3 = pd.read_csv('https://code.s3.yandex.net/datasets/geo_data_2.csv')"
   ]
  },
  {
   "cell_type": "markdown",
   "metadata": {},
   "source": [
    "Чтобы кто ни говорил, а здесь я использую head."
   ]
  },
  {
   "cell_type": "code",
   "execution_count": 3,
   "metadata": {
    "scrolled": false
   },
   "outputs": [
    {
     "data": {
      "text/html": [
       "<div>\n",
       "<style scoped>\n",
       "    .dataframe tbody tr th:only-of-type {\n",
       "        vertical-align: middle;\n",
       "    }\n",
       "\n",
       "    .dataframe tbody tr th {\n",
       "        vertical-align: top;\n",
       "    }\n",
       "\n",
       "    .dataframe thead th {\n",
       "        text-align: right;\n",
       "    }\n",
       "</style>\n",
       "<table border=\"1\" class=\"dataframe\">\n",
       "  <thead>\n",
       "    <tr style=\"text-align: right;\">\n",
       "      <th></th>\n",
       "      <th>id</th>\n",
       "      <th>f0</th>\n",
       "      <th>f1</th>\n",
       "      <th>f2</th>\n",
       "      <th>product</th>\n",
       "    </tr>\n",
       "  </thead>\n",
       "  <tbody>\n",
       "    <tr>\n",
       "      <td>0</td>\n",
       "      <td>txEyH</td>\n",
       "      <td>0.705745</td>\n",
       "      <td>-0.497823</td>\n",
       "      <td>1.22117</td>\n",
       "      <td>105.280062</td>\n",
       "    </tr>\n",
       "  </tbody>\n",
       "</table>\n",
       "</div>"
      ],
      "text/plain": [
       "      id        f0        f1       f2     product\n",
       "0  txEyH  0.705745 -0.497823  1.22117  105.280062"
      ]
     },
     "execution_count": 3,
     "metadata": {},
     "output_type": "execute_result"
    }
   ],
   "source": [
    "df1.head(1)"
   ]
  },
  {
   "cell_type": "markdown",
   "metadata": {},
   "source": [
    "Капитан Очевидность? Но всё же."
   ]
  },
  {
   "cell_type": "code",
   "execution_count": 4,
   "metadata": {},
   "outputs": [
    {
     "data": {
      "text/html": [
       "<div>\n",
       "<style scoped>\n",
       "    .dataframe tbody tr th:only-of-type {\n",
       "        vertical-align: middle;\n",
       "    }\n",
       "\n",
       "    .dataframe tbody tr th {\n",
       "        vertical-align: top;\n",
       "    }\n",
       "\n",
       "    .dataframe thead th {\n",
       "        text-align: right;\n",
       "    }\n",
       "</style>\n",
       "<table border=\"1\" class=\"dataframe\">\n",
       "  <thead>\n",
       "    <tr style=\"text-align: right;\">\n",
       "      <th></th>\n",
       "      <th>id</th>\n",
       "      <th>f0</th>\n",
       "      <th>f1</th>\n",
       "      <th>f2</th>\n",
       "      <th>product</th>\n",
       "    </tr>\n",
       "  </thead>\n",
       "  <tbody>\n",
       "    <tr>\n",
       "      <td>0</td>\n",
       "      <td>kBEdx</td>\n",
       "      <td>-15.001348</td>\n",
       "      <td>-8.276</td>\n",
       "      <td>-0.005876</td>\n",
       "      <td>3.179103</td>\n",
       "    </tr>\n",
       "  </tbody>\n",
       "</table>\n",
       "</div>"
      ],
      "text/plain": [
       "      id         f0     f1        f2   product\n",
       "0  kBEdx -15.001348 -8.276 -0.005876  3.179103"
      ]
     },
     "execution_count": 4,
     "metadata": {},
     "output_type": "execute_result"
    }
   ],
   "source": [
    "df2.head(1)"
   ]
  },
  {
   "cell_type": "code",
   "execution_count": 5,
   "metadata": {
    "scrolled": false
   },
   "outputs": [
    {
     "data": {
      "text/html": [
       "<div>\n",
       "<style scoped>\n",
       "    .dataframe tbody tr th:only-of-type {\n",
       "        vertical-align: middle;\n",
       "    }\n",
       "\n",
       "    .dataframe tbody tr th {\n",
       "        vertical-align: top;\n",
       "    }\n",
       "\n",
       "    .dataframe thead th {\n",
       "        text-align: right;\n",
       "    }\n",
       "</style>\n",
       "<table border=\"1\" class=\"dataframe\">\n",
       "  <thead>\n",
       "    <tr style=\"text-align: right;\">\n",
       "      <th></th>\n",
       "      <th>id</th>\n",
       "      <th>f0</th>\n",
       "      <th>f1</th>\n",
       "      <th>f2</th>\n",
       "      <th>product</th>\n",
       "    </tr>\n",
       "  </thead>\n",
       "  <tbody>\n",
       "    <tr>\n",
       "      <td>0</td>\n",
       "      <td>fwXo0</td>\n",
       "      <td>-1.146987</td>\n",
       "      <td>0.963328</td>\n",
       "      <td>-0.828965</td>\n",
       "      <td>27.758673</td>\n",
       "    </tr>\n",
       "  </tbody>\n",
       "</table>\n",
       "</div>"
      ],
      "text/plain": [
       "      id        f0        f1        f2    product\n",
       "0  fwXo0 -1.146987  0.963328 -0.828965  27.758673"
      ]
     },
     "execution_count": 5,
     "metadata": {},
     "output_type": "execute_result"
    }
   ],
   "source": [
    "df3.head(1)"
   ]
  },
  {
   "cell_type": "markdown",
   "metadata": {},
   "source": [
    "Создадим функцию для удобства просмотра распределения признаков, коль уж таблицы здесь три."
   ]
  },
  {
   "cell_type": "code",
   "execution_count": 6,
   "metadata": {},
   "outputs": [],
   "source": [
    "def distribution(data):\n",
    "    print(f\"Shape:    {data.shape}\")\n",
    "    print(\"Na's:         \", data.isna().sum().sum())\n",
    "    print(\"duplicates:   \", data.duplicated().sum())\n",
    "    print(\"\\nРаспределение признаков:\")\n",
    "    data[[\"f0\",\"f1\",\"f2\"]].hist()\n",
    "    plt.show()"
   ]
  },
  {
   "cell_type": "code",
   "execution_count": 7,
   "metadata": {
    "scrolled": true
   },
   "outputs": [
    {
     "name": "stdout",
     "output_type": "stream",
     "text": [
      "Shape:    (100000, 5)\n",
      "Na's:          0\n",
      "duplicates:    0\n",
      "\n",
      "Распределение признаков:\n"
     ]
    },
    {
     "data": {
      "image/png": "[encoded data removed]",
      "text/plain": [
       "<Figure size 432x288 with 4 Axes>"
      ]
     },
     "metadata": {
      "needs_background": "light"
     },
     "output_type": "display_data"
    }
   ],
   "source": [
    "distribution(df1)"
   ]
  },
  {
   "cell_type": "code",
   "execution_count": 8,
   "metadata": {
    "scrolled": true
   },
   "outputs": [
    {
     "name": "stdout",
     "output_type": "stream",
     "text": [
      "Shape:    (100000, 5)\n",
      "Na's:          0\n",
      "duplicates:    0\n",
      "\n",
      "Распределение признаков:\n"
     ]
    },
    {
     "data": {
      "image/png": "[encoded data removed]",
      "text/plain": [
       "<Figure size 432x288 with 4 Axes>"
      ]
     },
     "metadata": {
      "needs_background": "light"
     },
     "output_type": "display_data"
    }
   ],
   "source": [
    "distribution(df2)"
   ]
  },
  {
   "cell_type": "code",
   "execution_count": 9,
   "metadata": {
    "scrolled": true
   },
   "outputs": [
    {
     "name": "stdout",
     "output_type": "stream",
     "text": [
      "Shape:    (100000, 5)\n",
      "Na's:          0\n",
      "duplicates:    0\n",
      "\n",
      "Распределение признаков:\n"
     ]
    },
    {
     "data": {
      "image/png": "[encoded data removed]",
      "text/plain": [
       "<Figure size 432x288 with 4 Axes>"
      ]
     },
     "metadata": {
      "needs_background": "light"
     },
     "output_type": "display_data"
    }
   ],
   "source": [
    "distribution(df3)"
   ]
  },
  {
   "cell_type": "markdown",
   "metadata": {},
   "source": [
    "<b>Вывод.</b> Дубликатов нет, пропусков нет, признаки распределены не \"нормально\"."
   ]
  },
  {
   "cell_type": "markdown",
   "metadata": {},
   "source": [
    "## Обучение и проверка модели"
   ]
  },
  {
   "cell_type": "markdown",
   "metadata": {},
   "source": [
    "Давайте оттолкнёмся от линейной модели - для предсказания объёмов нефти в скважинах"
   ]
  },
  {
   "cell_type": "code",
   "execution_count": 19,
   "metadata": {},
   "outputs": [],
   "source": [
    "def split_and_train(data):\n",
    "    \"\"\"\n",
    "    data = датасет.\n",
    "    \n",
    "    Оставляет только нужные признаки.\n",
    "    Делит df на train и test, шкалирует.\n",
    "    \n",
    "    Обучает линейную модель\n",
    "    \n",
    "    Возвращает tuple с предсказаниями, label'ы, RMSE.\n",
    "    \"\"\"\n",
    "    \n",
    "    features = data.drop([\"product\",\"id\"], axis=1)\n",
    "    target = data[\"product\"]\n",
    "    features_train, features_valid, target_train, target_valid = train_test_split(features, \n",
    "                                                                                  target, \n",
    "                                                                                  test_size=0.25, \n",
    "                                                                                  random_state=1)\n",
    "    scaler = MinMaxScaler()\n",
    "    features_train = scaler.fit_transform(features_train)\n",
    "    features_valid = scaler.transform(features_valid)\n",
    "    \n",
    "    lr = LinearRegression(normalize=False)\n",
    "    lr.fit(features_train, target_train)\n",
    "    predictions = lr.predict(features_valid)\n",
    "    predictions = pd.Series(predictions)\n",
    "    rmse = (mean_squared_error(predictions, target_valid))**(0.5)\n",
    "    average_product = sum(predictions) / len(predictions)\n",
    "    \n",
    "    print(\"RMSE: {0:.2f}\".format(rmse))\n",
    "    print(\"Средний запас: {0:.2f}\".format(average_product))\n",
    "    \n",
    "    return (predictions, target_valid.reset_index(drop=True), rmse)"
   ]
  },
  {
   "cell_type": "markdown",
   "metadata": {},
   "source": [
    "Выведем данные RMSE и средний запас предсказанного сырья для региона 1, 2 и 3."
   ]
  },
  {
   "cell_type": "code",
   "execution_count": 23,
   "metadata": {
    "scrolled": true
   },
   "outputs": [
    {
     "name": "stdout",
     "output_type": "stream",
     "text": [
      "\n",
      "-----------------------------------------\n",
      "Регион №1\n",
      "RMSE: 37.74\n",
      "Средний запас: 92.49\n",
      "\n",
      "-----------------------------------------\n",
      "Регион №2\n",
      "RMSE: 0.89\n",
      "Средний запас: 69.12\n",
      "\n",
      "-----------------------------------------\n",
      "Регион №3\n",
      "RMSE: 39.87\n",
      "Средний запас: 94.96\n"
     ]
    }
   ],
   "source": [
    "print(\"\\n-----------------------------------------\")\n",
    "print(\"Регион №1\")\n",
    "predictions_1, validation_1, rmse_1 = split_and_train(df1)\n",
    "print(\"\\n-----------------------------------------\")\n",
    "print(\"Регион №2\")\n",
    "predictions_2, validation_2, rmse_2 = split_and_train(df2)\n",
    "print(\"\\n-----------------------------------------\")\n",
    "print(\"Регион №3\")\n",
    "predictions_3, validation_3, rmse_3 = split_and_train(df3)"
   ]
  },
  {
   "cell_type": "markdown",
   "metadata": {},
   "source": [
    "<b>Вывод.</b> Самый низкий RMSE и средний запас - во втором регионе."
   ]
  },
  {
   "cell_type": "markdown",
   "metadata": {},
   "source": [
    "## Подготовка к расчёту прибыли"
   ]
  },
  {
   "cell_type": "markdown",
   "metadata": {},
   "source": [
    "Определим исходные значения и точку безубыточности."
   ]
  },
  {
   "cell_type": "code",
   "execution_count": 12,
   "metadata": {},
   "outputs": [],
   "source": [
    "budget = 10**10 \n",
    "barrel = 450000"
   ]
  },
  {
   "cell_type": "code",
   "execution_count": 13,
   "metadata": {},
   "outputs": [
    {
     "name": "stdout",
     "output_type": "stream",
     "text": [
      "Точка безубыточности: 22222 тыс. баррелей\n"
     ]
    }
   ],
   "source": [
    "zero_point = budget / barrel\n",
    "print(\"Точка безубыточности: {0:.0f} тыс. баррелей\".format(zero_point))"
   ]
  },
  {
   "cell_type": "code",
   "execution_count": 14,
   "metadata": {},
   "outputs": [
    {
     "name": "stdout",
     "output_type": "stream",
     "text": [
      "Средний объём нефти в скважине для безубыточного функционирования: 112.0\n"
     ]
    }
   ],
   "source": [
    "print(\"Средний объём нефти в скважине для безубыточного функционирования:\", np.ceil(zero_point/200))"
   ]
  },
  {
   "cell_type": "markdown",
   "metadata": {},
   "source": [
    "<b>Вывод</b>. Запас сырья в скважинах меньше, чем точка безубыточности."
   ]
  },
  {
   "cell_type": "markdown",
   "metadata": {},
   "source": [
    "## Расчёт прибыли и рисков "
   ]
  },
  {
   "cell_type": "markdown",
   "metadata": {},
   "source": [
    "Для расчёта прибыли и рисков создадим функцию profit."
   ]
  },
  {
   "cell_type": "code",
   "execution_count": 15,
   "metadata": {},
   "outputs": [],
   "source": [
    "def profit(predictions, target):\n",
    "    top_preds = predictions.sort_values(ascending=False)\n",
    "    top_target = target[top_preds.index][:200]\n",
    "    revenue = top_target.sum() * barrel\n",
    "    return revenue - budget"
   ]
  },
  {
   "cell_type": "code",
   "execution_count": 16,
   "metadata": {},
   "outputs": [],
   "source": [
    "state = np.random.RandomState(42)"
   ]
  },
  {
   "cell_type": "code",
   "execution_count": 17,
   "metadata": {},
   "outputs": [],
   "source": [
    "def risk_assessment(predictions, target):\n",
    "    revenue = []\n",
    "    for _ in range(1000):\n",
    "        target_sample = target.sample(500, replace=True, random_state=state)\n",
    "        predictions_sample = predictions[target_sample.index]\n",
    "        revenue.append(profit(predictions_sample, target_sample))  \n",
    "        \n",
    "    lower = int(np.percentile(revenue, 2.5))\n",
    "    higher = int(np.percentile(revenue, 97.5))\n",
    "    mean_revenue = int(sum(revenue) / len(revenue))\n",
    "    risk = st.percentileofscore(revenue, 0)\n",
    "\n",
    "    return ((lower, higher), mean_revenue, risk)"
   ]
  },
  {
   "cell_type": "code",
   "execution_count": 18,
   "metadata": {},
   "outputs": [
    {
     "name": "stdout",
     "output_type": "stream",
     "text": [
      "Регион 1:\n",
      "\n",
      "-----------------------------------------\n",
      "Средняя прибыль: 483620020\n",
      "95% доверительный интервал: (-54499686, 999922208)\n",
      "Риск убытка: 3.2\n",
      "-----------------------------------------\n",
      "\n",
      "\n",
      "Регион 2:\n",
      "\n",
      "-----------------------------------------\n",
      "Средняя прибыль: 541232380\n",
      "95% доверительный интервал: (99573508, 963619380)\n",
      "Риск убытка: 1.1\n",
      "-----------------------------------------\n",
      "\n",
      "\n",
      "Регион 3:\n",
      "\n",
      "-----------------------------------------\n",
      "Средняя прибыль: 408477739\n",
      "95% доверительный интервал: (-147436391, 964607821)\n",
      "Риск убытка: 7.3\n",
      "-----------------------------------------\n",
      "\n",
      "\n"
     ]
    }
   ],
   "source": [
    "i = 1\n",
    "for preds, target in zip([predictions_1, predictions_2, predictions_3], \n",
    "                         [validation_1, validation_2, validation_3]):\n",
    "    interval, mean_revenue, risk = risk_assessment(preds, target)\n",
    "    print(f\"Регион {i}:\")\n",
    "    print(\"\\n-----------------------------------------\")\n",
    "    print(f\"Средняя прибыль: {mean_revenue}\")\n",
    "    print(f\"95% доверительный интервал: {interval}\")\n",
    "    print(f\"Риск убытка: {risk}\")\n",
    "    print(\"-----------------------------------------\\n\\n\")\n",
    "    i+=1"
   ]
  },
  {
   "cell_type": "markdown",
   "metadata": {},
   "source": [
    "1. Проведён исследовательский анализ данных, проверены датасеты на наличие пропусков, дупликатов, а также оценены распределения признаков (распределены не нормально).\n",
    "2. Построена линейную модель, для предсказания объёмов нефти в скважинах. Запас сырья в скважинах меньше, чем точка безубыточности.\n",
    "3. Выполнен bootstrap и найден 95% доверительный интервал для среднего объёма нефти в скважинах. Наиболее перспективным для разработки представляется регион № 2, поскольку риски убытков наименьшие, а средняя прибыль наибольшая."
   ]
  },
  {
   "cell_type": "markdown",
   "metadata": {},
   "source": [
    "## Чек-лист готовности проекта"
   ]
  },
  {
   "cell_type": "markdown",
   "metadata": {},
   "source": [
    "Поставьте 'x' в выполненных пунктах. Далее нажмите Shift+Enter."
   ]
  },
  {
   "cell_type": "markdown",
   "metadata": {},
   "source": [
    "- [x]  Jupyter Notebook открыт\n",
    "- [ ]  Весь код выполняется без ошибок\n",
    "- [ ]  Ячейки с кодом расположены в порядке исполнения\n",
    "- [ ]  Выполнен шаг 1: данные подготовлены\n",
    "- [ ]  Выполнен шаг 2: модели обучены и проверены\n",
    "    - [ ]  Данные корректно разбиты на обучающую и валидационную выборки\n",
    "    - [ ]  Модели обучены, предсказания сделаны\n",
    "    - [ ]  Предсказания и правильные ответы на валидационной выборке сохранены\n",
    "    - [ ]  На экране напечатаны результаты\n",
    "    - [ ]  Сделаны выводы\n",
    "- [ ]  Выполнен шаг 3: проведена подготовка к расчёту прибыли\n",
    "    - [ ]  Для всех ключевых значений созданы константы Python\n",
    "    - [ ]  Посчитано минимальное среднее количество продукта в месторождениях региона, достаточное для разработки\n",
    "    - [ ]  По предыдущему пункту сделаны выводы\n",
    "    - [ ]  Написана функция расчёта прибыли\n",
    "- [ ]  Выполнен шаг 4: посчитаны риски и прибыль\n",
    "    - [ ]  Проведена процедура *Bootstrap*\n",
    "    - [ ]  Все параметры бутстрепа соответствуют условию\n",
    "    - [ ]  Найдены все нужные величины\n",
    "    - [ ]  Предложен регион для разработки месторождения\n",
    "    - [ ]  Выбор региона обоснован"
   ]
  },
  {
   "cell_type": "code",
   "execution_count": null,
   "metadata": {},
   "outputs": [],
   "source": []
  }
 ],
 "metadata": {
  "ExecuteTimeLog": [
   {
    "duration": 1548,
    "start_time": "2021-08-10T07:02:58.859Z"
   },
   {
    "duration": 1101,
    "start_time": "2021-08-10T07:03:00.410Z"
   },
   {
    "duration": 19,
    "start_time": "2021-08-10T07:03:01.515Z"
   },
   {
    "duration": 12,
    "start_time": "2021-08-10T07:03:26.880Z"
   },
   {
    "duration": 12,
    "start_time": "2021-08-10T07:03:27.356Z"
   },
   {
    "duration": 11,
    "start_time": "2021-08-10T07:03:27.978Z"
   },
   {
    "duration": 5,
    "start_time": "2021-08-10T07:04:32.443Z"
   },
   {
    "duration": 5,
    "start_time": "2021-08-10T07:05:05.498Z"
   },
   {
    "duration": 851,
    "start_time": "2021-08-10T07:05:10.992Z"
   },
   {
    "duration": 706,
    "start_time": "2021-08-10T07:05:24.898Z"
   },
   {
    "duration": 718,
    "start_time": "2021-08-10T07:05:32.361Z"
   },
   {
    "duration": 129,
    "start_time": "2021-08-10T07:09:50.691Z"
   },
   {
    "duration": 11,
    "start_time": "2021-08-10T07:10:10.304Z"
   },
   {
    "duration": 625,
    "start_time": "2021-08-10T07:11:00.328Z"
   },
   {
    "duration": 7,
    "start_time": "2021-08-10T07:13:54.266Z"
   },
   {
    "duration": 452,
    "start_time": "2021-08-10T07:13:55.134Z"
   },
   {
    "duration": 4,
    "start_time": "2021-08-10T07:15:08.622Z"
   },
   {
    "duration": 5,
    "start_time": "2021-08-10T07:15:08.975Z"
   },
   {
    "duration": 6,
    "start_time": "2021-08-10T07:15:09.311Z"
   },
   {
    "duration": 5,
    "start_time": "2021-08-10T07:16:28.405Z"
   },
   {
    "duration": 6,
    "start_time": "2021-08-10T07:18:51.817Z"
   },
   {
    "duration": 683,
    "start_time": "2021-08-10T07:18:52.234Z"
   },
   {
    "duration": 4,
    "start_time": "2021-08-10T07:18:55.409Z"
   },
   {
    "duration": 4,
    "start_time": "2021-08-10T07:18:55.811Z"
   },
   {
    "duration": 6,
    "start_time": "2021-08-10T07:18:56.283Z"
   },
   {
    "duration": 15485,
    "start_time": "2021-08-10T07:18:57.521Z"
   },
   {
    "duration": 1788,
    "start_time": "2021-08-10T07:19:38.004Z"
   },
   {
    "duration": 1502,
    "start_time": "2021-08-10T07:19:39.795Z"
   },
   {
    "duration": 16,
    "start_time": "2021-08-10T07:19:41.300Z"
   },
   {
    "duration": 37,
    "start_time": "2021-08-10T07:19:41.318Z"
   },
   {
    "duration": 12,
    "start_time": "2021-08-10T07:19:41.357Z"
   },
   {
    "duration": 6,
    "start_time": "2021-08-10T07:19:41.371Z"
   },
   {
    "duration": 777,
    "start_time": "2021-08-10T07:19:41.379Z"
   },
   {
    "duration": 737,
    "start_time": "2021-08-10T07:19:42.160Z"
   },
   {
    "duration": 728,
    "start_time": "2021-08-10T07:19:42.900Z"
   },
   {
    "duration": 7,
    "start_time": "2021-08-10T07:19:43.631Z"
   },
   {
    "duration": 538,
    "start_time": "2021-08-10T07:19:43.640Z"
   },
   {
    "duration": 5,
    "start_time": "2021-08-10T07:19:44.257Z"
   },
   {
    "duration": 6,
    "start_time": "2021-08-10T07:19:44.354Z"
   },
   {
    "duration": 5,
    "start_time": "2021-08-10T07:19:44.363Z"
   },
   {
    "duration": 7,
    "start_time": "2021-08-10T07:19:44.370Z"
   },
   {
    "duration": 5,
    "start_time": "2021-08-10T07:19:44.379Z"
   },
   {
    "duration": 8,
    "start_time": "2021-08-10T07:19:44.387Z"
   },
   {
    "duration": 16786,
    "start_time": "2021-08-10T07:19:44.397Z"
   },
   {
    "duration": 1412,
    "start_time": "2021-08-10T07:21:01.588Z"
   },
   {
    "duration": 916,
    "start_time": "2021-08-10T07:21:03.003Z"
   },
   {
    "duration": 16,
    "start_time": "2021-08-10T07:21:03.922Z"
   },
   {
    "duration": 25,
    "start_time": "2021-08-10T07:21:03.940Z"
   },
   {
    "duration": 25,
    "start_time": "2021-08-10T07:21:03.967Z"
   },
   {
    "duration": 10,
    "start_time": "2021-08-10T07:21:03.995Z"
   },
   {
    "duration": 745,
    "start_time": "2021-08-10T07:21:04.007Z"
   },
   {
    "duration": 757,
    "start_time": "2021-08-10T07:21:04.756Z"
   },
   {
    "duration": 757,
    "start_time": "2021-08-10T07:21:05.517Z"
   },
   {
    "duration": 8,
    "start_time": "2021-08-10T07:21:06.277Z"
   },
   {
    "duration": 478,
    "start_time": "2021-08-10T07:21:06.287Z"
   },
   {
    "duration": 5,
    "start_time": "2021-08-10T07:21:06.858Z"
   },
   {
    "duration": 5,
    "start_time": "2021-08-10T07:21:06.954Z"
   },
   {
    "duration": 12,
    "start_time": "2021-08-10T07:21:06.962Z"
   },
   {
    "duration": 9,
    "start_time": "2021-08-10T07:21:06.977Z"
   },
   {
    "duration": 13,
    "start_time": "2021-08-10T07:21:06.989Z"
   },
   {
    "duration": 9,
    "start_time": "2021-08-10T07:21:07.005Z"
   },
   {
    "duration": 20343,
    "start_time": "2021-08-10T07:21:07.017Z"
   },
   {
    "duration": 1419,
    "start_time": "2021-08-10T07:21:54.382Z"
   },
   {
    "duration": 1186,
    "start_time": "2021-08-10T07:21:55.803Z"
   },
   {
    "duration": 17,
    "start_time": "2021-08-10T07:21:56.992Z"
   },
   {
    "duration": 17,
    "start_time": "2021-08-10T07:21:57.011Z"
   },
   {
    "duration": 35,
    "start_time": "2021-08-10T07:21:57.030Z"
   },
   {
    "duration": 5,
    "start_time": "2021-08-10T07:21:57.068Z"
   },
   {
    "duration": 757,
    "start_time": "2021-08-10T07:21:57.076Z"
   },
   {
    "duration": 747,
    "start_time": "2021-08-10T07:21:57.837Z"
   },
   {
    "duration": 774,
    "start_time": "2021-08-10T07:21:58.588Z"
   },
   {
    "duration": 9,
    "start_time": "2021-08-10T07:21:59.365Z"
   },
   {
    "duration": 579,
    "start_time": "2021-08-10T07:21:59.377Z"
   },
   {
    "duration": 5,
    "start_time": "2021-08-10T07:21:59.960Z"
   },
   {
    "duration": 10,
    "start_time": "2021-08-10T07:22:00.055Z"
   },
   {
    "duration": 12,
    "start_time": "2021-08-10T07:22:00.068Z"
   },
   {
    "duration": 17,
    "start_time": "2021-08-10T07:22:00.082Z"
   },
   {
    "duration": 18,
    "start_time": "2021-08-10T07:22:00.101Z"
   },
   {
    "duration": 8,
    "start_time": "2021-08-10T07:22:00.121Z"
   },
   {
    "duration": 17053,
    "start_time": "2021-08-10T07:22:00.131Z"
   },
   {
    "duration": 1580,
    "start_time": "2021-08-10T07:25:06.839Z"
   },
   {
    "duration": 1007,
    "start_time": "2021-08-10T07:25:08.421Z"
   },
   {
    "duration": 25,
    "start_time": "2021-08-10T07:25:09.431Z"
   },
   {
    "duration": 27,
    "start_time": "2021-08-10T07:25:09.461Z"
   },
   {
    "duration": 21,
    "start_time": "2021-08-10T07:25:09.491Z"
   },
   {
    "duration": 22,
    "start_time": "2021-08-10T07:25:09.515Z"
   },
   {
    "duration": 785,
    "start_time": "2021-08-10T07:25:09.540Z"
   },
   {
    "duration": 830,
    "start_time": "2021-08-10T07:25:10.330Z"
   },
   {
    "duration": 988,
    "start_time": "2021-08-10T07:25:11.163Z"
   },
   {
    "duration": 11,
    "start_time": "2021-08-10T07:25:12.155Z"
   },
   {
    "duration": 492,
    "start_time": "2021-08-10T07:25:12.169Z"
   },
   {
    "duration": 91,
    "start_time": "2021-08-10T07:25:12.664Z"
   },
   {
    "duration": 99,
    "start_time": "2021-08-10T07:25:12.758Z"
   },
   {
    "duration": 14,
    "start_time": "2021-08-10T07:25:12.860Z"
   },
   {
    "duration": 15,
    "start_time": "2021-08-10T07:25:12.877Z"
   },
   {
    "duration": 29,
    "start_time": "2021-08-10T07:25:12.895Z"
   },
   {
    "duration": 14,
    "start_time": "2021-08-10T07:25:12.926Z"
   },
   {
    "duration": 17808,
    "start_time": "2021-08-10T07:25:12.942Z"
   },
   {
    "duration": 1410,
    "start_time": "2021-08-10T07:28:25.432Z"
   },
   {
    "duration": 947,
    "start_time": "2021-08-10T07:28:26.845Z"
   },
   {
    "duration": 21,
    "start_time": "2021-08-10T07:28:27.795Z"
   },
   {
    "duration": 21,
    "start_time": "2021-08-10T07:28:27.818Z"
   },
   {
    "duration": 27,
    "start_time": "2021-08-10T07:28:27.841Z"
   },
   {
    "duration": 8,
    "start_time": "2021-08-10T07:28:27.870Z"
   },
   {
    "duration": 733,
    "start_time": "2021-08-10T07:28:27.881Z"
   },
   {
    "duration": 817,
    "start_time": "2021-08-10T07:28:28.618Z"
   },
   {
    "duration": 759,
    "start_time": "2021-08-10T07:28:29.440Z"
   },
   {
    "duration": 8,
    "start_time": "2021-08-10T07:28:30.202Z"
   },
   {
    "duration": 647,
    "start_time": "2021-08-10T07:28:30.212Z"
   },
   {
    "duration": 92,
    "start_time": "2021-08-10T07:28:30.863Z"
   },
   {
    "duration": 36,
    "start_time": "2021-08-10T07:28:30.957Z"
   },
   {
    "duration": 89,
    "start_time": "2021-08-10T07:28:30.996Z"
   },
   {
    "duration": 28,
    "start_time": "2021-08-10T07:28:31.088Z"
   },
   {
    "duration": 49,
    "start_time": "2021-08-10T07:28:31.119Z"
   },
   {
    "duration": 27,
    "start_time": "2021-08-10T07:28:31.171Z"
   },
   {
    "duration": 15547,
    "start_time": "2021-08-10T07:28:31.201Z"
   },
   {
    "duration": 1460,
    "start_time": "2021-08-10T07:33:39.759Z"
   },
   {
    "duration": 1345,
    "start_time": "2021-08-10T07:33:41.222Z"
   },
   {
    "duration": 16,
    "start_time": "2021-08-10T07:33:42.570Z"
   },
   {
    "duration": 13,
    "start_time": "2021-08-10T07:33:42.589Z"
   },
   {
    "duration": 17,
    "start_time": "2021-08-10T07:33:42.604Z"
   },
   {
    "duration": 32,
    "start_time": "2021-08-10T07:33:42.623Z"
   },
   {
    "duration": 732,
    "start_time": "2021-08-10T07:33:42.657Z"
   },
   {
    "duration": 723,
    "start_time": "2021-08-10T07:33:43.393Z"
   },
   {
    "duration": 738,
    "start_time": "2021-08-10T07:33:44.119Z"
   },
   {
    "duration": 8,
    "start_time": "2021-08-10T07:33:44.859Z"
   },
   {
    "duration": 506,
    "start_time": "2021-08-10T07:33:44.870Z"
   },
   {
    "duration": 5,
    "start_time": "2021-08-10T07:33:45.457Z"
   },
   {
    "duration": 97,
    "start_time": "2021-08-10T07:33:45.465Z"
   },
   {
    "duration": 449,
    "start_time": "2021-08-10T07:33:45.564Z"
   },
   {
    "duration": 823,
    "start_time": "2021-08-10T07:33:45.192Z"
   },
   {
    "duration": 822,
    "start_time": "2021-08-10T07:33:45.194Z"
   },
   {
    "duration": 821,
    "start_time": "2021-08-10T07:33:45.197Z"
   },
   {
    "duration": 819,
    "start_time": "2021-08-10T07:33:45.200Z"
   },
   {
    "duration": 1448,
    "start_time": "2021-08-10T07:33:59.998Z"
   },
   {
    "duration": 1156,
    "start_time": "2021-08-10T07:34:01.448Z"
   },
   {
    "duration": 15,
    "start_time": "2021-08-10T07:34:02.607Z"
   },
   {
    "duration": 29,
    "start_time": "2021-08-10T07:34:02.625Z"
   },
   {
    "duration": 16,
    "start_time": "2021-08-10T07:34:02.656Z"
   },
   {
    "duration": 8,
    "start_time": "2021-08-10T07:34:02.674Z"
   },
   {
    "duration": 761,
    "start_time": "2021-08-10T07:34:02.684Z"
   },
   {
    "duration": 748,
    "start_time": "2021-08-10T07:34:03.458Z"
   },
   {
    "duration": 753,
    "start_time": "2021-08-10T07:34:04.209Z"
   },
   {
    "duration": 8,
    "start_time": "2021-08-10T07:34:04.964Z"
   },
   {
    "duration": 590,
    "start_time": "2021-08-10T07:34:04.975Z"
   },
   {
    "duration": 4,
    "start_time": "2021-08-10T07:34:05.656Z"
   },
   {
    "duration": 92,
    "start_time": "2021-08-10T07:34:05.665Z"
   },
   {
    "duration": 28,
    "start_time": "2021-08-10T07:34:05.759Z"
   },
   {
    "duration": 28,
    "start_time": "2021-08-10T07:34:05.790Z"
   },
   {
    "duration": 39,
    "start_time": "2021-08-10T07:34:05.820Z"
   },
   {
    "duration": 19,
    "start_time": "2021-08-10T07:34:05.861Z"
   },
   {
    "duration": 16822,
    "start_time": "2021-08-10T07:34:05.883Z"
   },
   {
    "duration": 8,
    "start_time": "2021-08-10T07:38:33.223Z"
   },
   {
    "duration": 502,
    "start_time": "2021-08-10T07:38:33.754Z"
   },
   {
    "duration": 547,
    "start_time": "2021-08-10T07:40:43.808Z"
   },
   {
    "duration": 484,
    "start_time": "2021-08-10T07:42:21.776Z"
   },
   {
    "duration": 522,
    "start_time": "2021-08-10T07:42:32.437Z"
   }
  ],
  "kernelspec": {
   "display_name": "Python 3",
   "language": "python",
   "name": "python3"
  },
  "language_info": {
   "codemirror_mode": {
    "name": "ipython",
    "version": 3
   },
   "file_extension": ".py",
   "mimetype": "text/x-python",
   "name": "python",
   "nbconvert_exporter": "python",
   "pygments_lexer": "ipython3",
   "version": "3.7.8"
  },
  "toc": {
   "base_numbering": 1,
   "nav_menu": {},
   "number_sections": true,
   "sideBar": true,
   "skip_h1_title": true,
   "title_cell": "Table of Contents",
   "title_sidebar": "Contents",
   "toc_cell": false,
   "toc_position": {},
   "toc_section_display": true,
   "toc_window_display": false
  }
 },
 "nbformat": 4,
 "nbformat_minor": 2
}
