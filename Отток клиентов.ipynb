{
 "cells": [
  {
   "cell_type": "markdown",
   "metadata": {
    "toc": true
   },
   "source": [
    "<h1>Содержание<span class=\"tocSkip\"></span></h1>\n",
    "<div class=\"toc\"><ul class=\"toc-item\"><li><span><a href=\"#Подготовка-данных\" data-toc-modified-id=\"Подготовка-данных-1\"><span class=\"toc-item-num\">1&nbsp;&nbsp;</span>Подготовка данных</a></span></li><li><span><a href=\"#Исследование-задачи\" data-toc-modified-id=\"Исследование-задачи-2\"><span class=\"toc-item-num\">2&nbsp;&nbsp;</span>Исследование задачи</a></span><ul class=\"toc-item\"><li><span><a href=\"#Обучение-моделей\" data-toc-modified-id=\"Обучение-моделей-2.1\"><span class=\"toc-item-num\">2.1&nbsp;&nbsp;</span>Обучение моделей</a></span></li></ul></li><li><span><a href=\"#Борьба-с-дисбалансом\" data-toc-modified-id=\"Борьба-с-дисбалансом-3\"><span class=\"toc-item-num\">3&nbsp;&nbsp;</span>Борьба с дисбалансом</a></span></li><li><span><a href=\"#Тестирование-модели\" data-toc-modified-id=\"Тестирование-модели-4\"><span class=\"toc-item-num\">4&nbsp;&nbsp;</span>Тестирование модели</a></span></li><li><span><a href=\"#-Комментарий-ревьюера\" data-toc-modified-id=\"-Комментарий-ревьюера-5\"><span class=\"toc-item-num\">5&nbsp;&nbsp;</span> Комментарий ревьюера</a></span></li><li><span><a href=\"#Чек-лист-готовности-проекта\" data-toc-modified-id=\"Чек-лист-готовности-проекта-6\"><span class=\"toc-item-num\">6&nbsp;&nbsp;</span>Чек-лист готовности проекта</a></span></li></ul></div>"
   ]
  },
  {
   "cell_type": "markdown",
   "metadata": {},
   "source": [
    "<div class=\"alert alert-info\">\n",
    "Привет! Меня зовут Никита Мишин и я буду твоим ревьюером по этому проекты.\n",
    "Для простоты предлагаю общение на 'ты'. Буду предполагать, что ты не против:) \n",
    "Если более предпочтительно обращение на 'Вы', пиши, не стесняйся.\n",
    "Также если будут возникать вопросы, аналогично, пиши:)\n",
    "\n",
    "Предлагаю работать в известном тебе итеративном формате.\n",
    "Итерация состоит в моей проверке твоего решения. \n",
    "После решения могут остаться какие-то недочеты, которые я попрошу тебя устранить, ты их исправляешь и я проверяю твои решения.\n",
    "Оставленные мною комментарии могут быть разного вида:\n",
    "\n",
    "- зеленый: элегантные решения, которые тебе стоит запомнит и в дальнейшем взять на вооружение:) \n",
    "\n",
    "- желтый: сигнал о том, что есть некритичная вещь(не всегда ошибка), что нужно точно поправить в следующей работе, даже желательно в этой (полезно, в первую очередь, для тебя:) ).Также это рекомендации на будущее    \n",
    "\n",
    "- красный: недочет, который нужно исправить в этой работе, для того, чтобы она была принята\n",
    "\n",
    "- синий: полезная информация, доп ресурсы, \"вопросы на подумать\"\n",
    "\n",
    "Также попрошу не удалять мои комментарии:) <a class=\"tocSkip\">\n",
    "</div>"
   ]
  },
  {
   "cell_type": "markdown",
   "metadata": {},
   "source": [
    "# Отток клиентов"
   ]
  },
  {
   "cell_type": "markdown",
   "metadata": {},
   "source": [
    "Из «Бета-Банка» стали уходить клиенты. Каждый месяц. Немного, но заметно. Банковские маркетологи посчитали: сохранять текущих клиентов дешевле, чем привлекать новых.\n",
    "\n",
    "Нужно спрогнозировать, уйдёт клиент из банка в ближайшее время или нет. Вам предоставлены исторические данные о поведении клиентов и расторжении договоров с банком. \n",
    "\n",
    "Постройте модель с предельно большим значением *F1*-меры. Чтобы сдать проект успешно, нужно довести метрику до 0.59. Проверьте *F1*-меру на тестовой выборке самостоятельно.\n",
    "\n",
    "Дополнительно измеряйте *AUC-ROC*, сравнивайте её значение с *F1*-мерой.\n",
    "\n",
    "Источник данных: [https://www.kaggle.com/barelydedicated/bank-customer-churn-modeling](https://www.kaggle.com/barelydedicated/bank-customer-churn-modeling)"
   ]
  },
  {
   "cell_type": "markdown",
   "metadata": {},
   "source": [
    "## Подготовка данных"
   ]
  },
  {
   "cell_type": "markdown",
   "metadata": {},
   "source": [
    "Для начала, импортируем все необходимые библиотеки:"
   ]
  },
  {
   "cell_type": "code",
   "execution_count": 1,
   "metadata": {},
   "outputs": [
    {
     "name": "stdout",
     "output_type": "stream",
     "text": [
      "Defaulting to user installation because normal site-packages is not writeable\n",
      "Requirement already up-to-date: imblearn in /home/jovyan/.local/lib/python3.7/site-packages (0.0)\n",
      "Requirement already satisfied, skipping upgrade: imbalanced-learn in /home/jovyan/.local/lib/python3.7/site-packages (from imblearn) (0.8.0)\n",
      "Requirement already satisfied, skipping upgrade: joblib>=0.11 in /opt/conda/lib/python3.7/site-packages (from imbalanced-learn->imblearn) (1.0.1)\n",
      "Requirement already satisfied, skipping upgrade: scipy>=0.19.1 in /opt/conda/lib/python3.7/site-packages (from imbalanced-learn->imblearn) (1.4.1)\n",
      "Requirement already satisfied, skipping upgrade: scikit-learn>=0.24 in /home/jovyan/.local/lib/python3.7/site-packages (from imbalanced-learn->imblearn) (0.24.2)\n",
      "Requirement already satisfied, skipping upgrade: numpy>=1.13.3 in /opt/conda/lib/python3.7/site-packages (from imbalanced-learn->imblearn) (1.19.5)\n",
      "Requirement already satisfied, skipping upgrade: threadpoolctl>=2.0.0 in /home/jovyan/.local/lib/python3.7/site-packages (from scikit-learn>=0.24->imbalanced-learn->imblearn) (2.2.0)\n",
      "Defaulting to user installation because normal site-packages is not writeable\n",
      "Requirement already up-to-date: scikit-learn in /home/jovyan/.local/lib/python3.7/site-packages (0.24.2)\n",
      "Requirement already satisfied, skipping upgrade: threadpoolctl>=2.0.0 in /home/jovyan/.local/lib/python3.7/site-packages (from scikit-learn) (2.2.0)\n",
      "Requirement already satisfied, skipping upgrade: numpy>=1.13.3 in /opt/conda/lib/python3.7/site-packages (from scikit-learn) (1.19.5)\n",
      "Requirement already satisfied, skipping upgrade: joblib>=0.11 in /opt/conda/lib/python3.7/site-packages (from scikit-learn) (1.0.1)\n",
      "Requirement already satisfied, skipping upgrade: scipy>=0.19.1 in /opt/conda/lib/python3.7/site-packages (from scikit-learn) (1.4.1)\n",
      "Defaulting to user installation because normal site-packages is not writeable\n",
      "Requirement already up-to-date: sklearn in /home/jovyan/.local/lib/python3.7/site-packages (0.0)\n",
      "Requirement already satisfied, skipping upgrade: scikit-learn in /home/jovyan/.local/lib/python3.7/site-packages (from sklearn) (0.24.2)\n",
      "Requirement already satisfied, skipping upgrade: numpy>=1.13.3 in /opt/conda/lib/python3.7/site-packages (from scikit-learn->sklearn) (1.19.5)\n",
      "Requirement already satisfied, skipping upgrade: joblib>=0.11 in /opt/conda/lib/python3.7/site-packages (from scikit-learn->sklearn) (1.0.1)\n",
      "Requirement already satisfied, skipping upgrade: scipy>=0.19.1 in /opt/conda/lib/python3.7/site-packages (from scikit-learn->sklearn) (1.4.1)\n",
      "Requirement already satisfied, skipping upgrade: threadpoolctl>=2.0.0 in /home/jovyan/.local/lib/python3.7/site-packages (from scikit-learn->sklearn) (2.2.0)\n"
     ]
    }
   ],
   "source": [
    "!pip install -U imblearn \n",
    "!pip install -U scikit-learn\n",
    "!pip install -U sklearn"
   ]
  },
  {
   "cell_type": "code",
   "execution_count": 2,
   "metadata": {},
   "outputs": [],
   "source": [
    "# import sklearn.neighbors._base\n",
    "# sys.modules['sklearn.neighbors.base'] = sklearn.neighbors._base"
   ]
  },
  {
   "cell_type": "code",
   "execution_count": 3,
   "metadata": {},
   "outputs": [],
   "source": [
    "import numpy as np\n",
    "import pandas as pd\n",
    "from sklearn.linear_model import LogisticRegression\n",
    "from sklearn.ensemble import RandomForestClassifier\n",
    "from sklearn.model_selection import GridSearchCV, StratifiedKFold, train_test_split, cross_val_score\n",
    "from sklearn.utils import shuffle\n",
    "from sklearn.metrics import roc_auc_score, f1_score, accuracy_score\n",
    "import matplotlib.pyplot as plt\n",
    "from sklearn.preprocessing import MinMaxScaler\n",
    "from sklearn.preprocessing import StandardScaler\n",
    "from imblearn.over_sampling import SMOTE\n",
    "from sklearn.pipeline import Pipeline, make_pipeline\n",
    "import seaborn as sns\n",
    "from sklearn.utils import shuffle\n",
    "import warnings\n",
    "warnings.filterwarnings(\"ignore\")\n",
    "from sklearn.metrics import fbeta_score, make_scorer\n",
    "ftwo_scorer = make_scorer(fbeta_score, beta=2)"
   ]
  },
  {
   "cell_type": "markdown",
   "metadata": {},
   "source": [
    "Создадим переменную data и укажем полный путь к файлу для облегчения проверки. Посмотрим общую информацию и несколько строк."
   ]
  },
  {
   "cell_type": "code",
   "execution_count": 4,
   "metadata": {
    "scrolled": true
   },
   "outputs": [
    {
     "name": "stdout",
     "output_type": "stream",
     "text": [
      "<class 'pandas.core.frame.DataFrame'>\n",
      "RangeIndex: 10000 entries, 0 to 9999\n",
      "Data columns (total 14 columns):\n",
      "RowNumber          10000 non-null int64\n",
      "CustomerId         10000 non-null int64\n",
      "Surname            10000 non-null object\n",
      "CreditScore        10000 non-null int64\n",
      "Geography          10000 non-null object\n",
      "Gender             10000 non-null object\n",
      "Age                10000 non-null int64\n",
      "Tenure             9091 non-null float64\n",
      "Balance            10000 non-null float64\n",
      "NumOfProducts      10000 non-null int64\n",
      "HasCrCard          10000 non-null int64\n",
      "IsActiveMember     10000 non-null int64\n",
      "EstimatedSalary    10000 non-null float64\n",
      "Exited             10000 non-null int64\n",
      "dtypes: float64(3), int64(8), object(3)\n",
      "memory usage: 1.1+ MB\n"
     ]
    },
    {
     "data": {
      "text/html": [
       "<div>\n",
       "<style scoped>\n",
       "    .dataframe tbody tr th:only-of-type {\n",
       "        vertical-align: middle;\n",
       "    }\n",
       "\n",
       "    .dataframe tbody tr th {\n",
       "        vertical-align: top;\n",
       "    }\n",
       "\n",
       "    .dataframe thead th {\n",
       "        text-align: right;\n",
       "    }\n",
       "</style>\n",
       "<table border=\"1\" class=\"dataframe\">\n",
       "  <thead>\n",
       "    <tr style=\"text-align: right;\">\n",
       "      <th></th>\n",
       "      <th>RowNumber</th>\n",
       "      <th>CustomerId</th>\n",
       "      <th>Surname</th>\n",
       "      <th>CreditScore</th>\n",
       "      <th>Geography</th>\n",
       "      <th>Gender</th>\n",
       "      <th>Age</th>\n",
       "      <th>Tenure</th>\n",
       "      <th>Balance</th>\n",
       "      <th>NumOfProducts</th>\n",
       "      <th>HasCrCard</th>\n",
       "      <th>IsActiveMember</th>\n",
       "      <th>EstimatedSalary</th>\n",
       "      <th>Exited</th>\n",
       "    </tr>\n",
       "  </thead>\n",
       "  <tbody>\n",
       "    <tr>\n",
       "      <td>241</td>\n",
       "      <td>242</td>\n",
       "      <td>15651001</td>\n",
       "      <td>Tsao</td>\n",
       "      <td>725</td>\n",
       "      <td>Germany</td>\n",
       "      <td>Female</td>\n",
       "      <td>39</td>\n",
       "      <td>5.0</td>\n",
       "      <td>116803.8</td>\n",
       "      <td>1</td>\n",
       "      <td>1</td>\n",
       "      <td>0</td>\n",
       "      <td>124052.97</td>\n",
       "      <td>0</td>\n",
       "    </tr>\n",
       "    <tr>\n",
       "      <td>9279</td>\n",
       "      <td>9280</td>\n",
       "      <td>15573854</td>\n",
       "      <td>Chukwujekwu</td>\n",
       "      <td>727</td>\n",
       "      <td>France</td>\n",
       "      <td>Male</td>\n",
       "      <td>62</td>\n",
       "      <td>5.0</td>\n",
       "      <td>0.0</td>\n",
       "      <td>2</td>\n",
       "      <td>0</td>\n",
       "      <td>1</td>\n",
       "      <td>38652.96</td>\n",
       "      <td>0</td>\n",
       "    </tr>\n",
       "  </tbody>\n",
       "</table>\n",
       "</div>"
      ],
      "text/plain": [
       "      RowNumber  CustomerId      Surname  CreditScore Geography  Gender  Age  \\\n",
       "241         242    15651001         Tsao          725   Germany  Female   39   \n",
       "9279       9280    15573854  Chukwujekwu          727    France    Male   62   \n",
       "\n",
       "      Tenure   Balance  NumOfProducts  HasCrCard  IsActiveMember  \\\n",
       "241      5.0  116803.8              1          1               0   \n",
       "9279     5.0       0.0              2          0               1   \n",
       "\n",
       "      EstimatedSalary  Exited  \n",
       "241         124052.97       0  \n",
       "9279         38652.96       0  "
      ]
     },
     "execution_count": 4,
     "metadata": {},
     "output_type": "execute_result"
    }
   ],
   "source": [
    "data = pd.read_csv('https://code.s3.yandex.net/datasets/Churn.csv')\n",
    "data.info()\n",
    "data.sample(2)"
   ]
  },
  {
   "cell_type": "markdown",
   "metadata": {},
   "source": [
    "<div class=\"alert alert-info\">\n",
    "<h1> Комментарий ревьюера <a class=\"tocSkip\"></h1>\n",
    "Полезно еще использовать метод sample с зафиксированным random_state--- будет выдавать случайные элементы выборки\n",
    "</div>"
   ]
  },
  {
   "cell_type": "markdown",
   "metadata": {},
   "source": [
    "<div class=\"alert alert-info\">\n",
    "    <h1> Комментарий студента <a class=\"tocSkip\"></h1>\n",
    "    Поправил. Ну, если что, sample делал в предыдущем проекте. Извини, кстати, что тоже синим - обычно в шапке ревьюеры пишут, каким цветом надо оставлять для них свои комментарии.\n",
    "</div>"
   ]
  },
  {
   "cell_type": "markdown",
   "metadata": {},
   "source": [
    "<div class=\"alert alert-warning\">\n",
    "<h1> Комментарий ревьюера v2 <a class=\"tocSkip\"></h1>\n",
    "В методе sample, по-хорошему, всегда стоит фиксировать random_state, чтобы была воспроизводимость</div>"
   ]
  },
  {
   "cell_type": "markdown",
   "metadata": {},
   "source": [
    "<div class=\"alert alert-info\">\n",
    "<h1> Комментарий ревьюера v2 <a class=\"tocSkip\"></h1>\n",
    "Мой косяк, забываю людям все время написать, как лучше отправлять. Посыпаю пеплом голову...\n",
    "</div>"
   ]
  },
  {
   "cell_type": "code",
   "execution_count": 5,
   "metadata": {
    "scrolled": false
   },
   "outputs": [
    {
     "data": {
      "text/html": [
       "<div>\n",
       "<style scoped>\n",
       "    .dataframe tbody tr th:only-of-type {\n",
       "        vertical-align: middle;\n",
       "    }\n",
       "\n",
       "    .dataframe tbody tr th {\n",
       "        vertical-align: top;\n",
       "    }\n",
       "\n",
       "    .dataframe thead th {\n",
       "        text-align: right;\n",
       "    }\n",
       "</style>\n",
       "<table border=\"1\" class=\"dataframe\">\n",
       "  <thead>\n",
       "    <tr style=\"text-align: right;\">\n",
       "      <th></th>\n",
       "      <th>RowNumber</th>\n",
       "      <th>CustomerId</th>\n",
       "      <th>CreditScore</th>\n",
       "      <th>Age</th>\n",
       "      <th>Tenure</th>\n",
       "      <th>Balance</th>\n",
       "      <th>NumOfProducts</th>\n",
       "      <th>HasCrCard</th>\n",
       "      <th>IsActiveMember</th>\n",
       "      <th>EstimatedSalary</th>\n",
       "      <th>Exited</th>\n",
       "    </tr>\n",
       "  </thead>\n",
       "  <tbody>\n",
       "    <tr>\n",
       "      <td>count</td>\n",
       "      <td>10000.00000</td>\n",
       "      <td>1.000000e+04</td>\n",
       "      <td>10000.000000</td>\n",
       "      <td>10000.000000</td>\n",
       "      <td>9091.000000</td>\n",
       "      <td>10000.000000</td>\n",
       "      <td>10000.000000</td>\n",
       "      <td>10000.00000</td>\n",
       "      <td>10000.000000</td>\n",
       "      <td>10000.000000</td>\n",
       "      <td>10000.000000</td>\n",
       "    </tr>\n",
       "    <tr>\n",
       "      <td>mean</td>\n",
       "      <td>5000.50000</td>\n",
       "      <td>1.569094e+07</td>\n",
       "      <td>650.528800</td>\n",
       "      <td>38.921800</td>\n",
       "      <td>4.997690</td>\n",
       "      <td>76485.889288</td>\n",
       "      <td>1.530200</td>\n",
       "      <td>0.70550</td>\n",
       "      <td>0.515100</td>\n",
       "      <td>100090.239881</td>\n",
       "      <td>0.203700</td>\n",
       "    </tr>\n",
       "    <tr>\n",
       "      <td>std</td>\n",
       "      <td>2886.89568</td>\n",
       "      <td>7.193619e+04</td>\n",
       "      <td>96.653299</td>\n",
       "      <td>10.487806</td>\n",
       "      <td>2.894723</td>\n",
       "      <td>62397.405202</td>\n",
       "      <td>0.581654</td>\n",
       "      <td>0.45584</td>\n",
       "      <td>0.499797</td>\n",
       "      <td>57510.492818</td>\n",
       "      <td>0.402769</td>\n",
       "    </tr>\n",
       "    <tr>\n",
       "      <td>min</td>\n",
       "      <td>1.00000</td>\n",
       "      <td>1.556570e+07</td>\n",
       "      <td>350.000000</td>\n",
       "      <td>18.000000</td>\n",
       "      <td>0.000000</td>\n",
       "      <td>0.000000</td>\n",
       "      <td>1.000000</td>\n",
       "      <td>0.00000</td>\n",
       "      <td>0.000000</td>\n",
       "      <td>11.580000</td>\n",
       "      <td>0.000000</td>\n",
       "    </tr>\n",
       "    <tr>\n",
       "      <td>25%</td>\n",
       "      <td>2500.75000</td>\n",
       "      <td>1.562853e+07</td>\n",
       "      <td>584.000000</td>\n",
       "      <td>32.000000</td>\n",
       "      <td>2.000000</td>\n",
       "      <td>0.000000</td>\n",
       "      <td>1.000000</td>\n",
       "      <td>0.00000</td>\n",
       "      <td>0.000000</td>\n",
       "      <td>51002.110000</td>\n",
       "      <td>0.000000</td>\n",
       "    </tr>\n",
       "    <tr>\n",
       "      <td>50%</td>\n",
       "      <td>5000.50000</td>\n",
       "      <td>1.569074e+07</td>\n",
       "      <td>652.000000</td>\n",
       "      <td>37.000000</td>\n",
       "      <td>5.000000</td>\n",
       "      <td>97198.540000</td>\n",
       "      <td>1.000000</td>\n",
       "      <td>1.00000</td>\n",
       "      <td>1.000000</td>\n",
       "      <td>100193.915000</td>\n",
       "      <td>0.000000</td>\n",
       "    </tr>\n",
       "    <tr>\n",
       "      <td>75%</td>\n",
       "      <td>7500.25000</td>\n",
       "      <td>1.575323e+07</td>\n",
       "      <td>718.000000</td>\n",
       "      <td>44.000000</td>\n",
       "      <td>7.000000</td>\n",
       "      <td>127644.240000</td>\n",
       "      <td>2.000000</td>\n",
       "      <td>1.00000</td>\n",
       "      <td>1.000000</td>\n",
       "      <td>149388.247500</td>\n",
       "      <td>0.000000</td>\n",
       "    </tr>\n",
       "    <tr>\n",
       "      <td>max</td>\n",
       "      <td>10000.00000</td>\n",
       "      <td>1.581569e+07</td>\n",
       "      <td>850.000000</td>\n",
       "      <td>92.000000</td>\n",
       "      <td>10.000000</td>\n",
       "      <td>250898.090000</td>\n",
       "      <td>4.000000</td>\n",
       "      <td>1.00000</td>\n",
       "      <td>1.000000</td>\n",
       "      <td>199992.480000</td>\n",
       "      <td>1.000000</td>\n",
       "    </tr>\n",
       "  </tbody>\n",
       "</table>\n",
       "</div>"
      ],
      "text/plain": [
       "         RowNumber    CustomerId   CreditScore           Age       Tenure  \\\n",
       "count  10000.00000  1.000000e+04  10000.000000  10000.000000  9091.000000   \n",
       "mean    5000.50000  1.569094e+07    650.528800     38.921800     4.997690   \n",
       "std     2886.89568  7.193619e+04     96.653299     10.487806     2.894723   \n",
       "min        1.00000  1.556570e+07    350.000000     18.000000     0.000000   \n",
       "25%     2500.75000  1.562853e+07    584.000000     32.000000     2.000000   \n",
       "50%     5000.50000  1.569074e+07    652.000000     37.000000     5.000000   \n",
       "75%     7500.25000  1.575323e+07    718.000000     44.000000     7.000000   \n",
       "max    10000.00000  1.581569e+07    850.000000     92.000000    10.000000   \n",
       "\n",
       "             Balance  NumOfProducts    HasCrCard  IsActiveMember  \\\n",
       "count   10000.000000   10000.000000  10000.00000    10000.000000   \n",
       "mean    76485.889288       1.530200      0.70550        0.515100   \n",
       "std     62397.405202       0.581654      0.45584        0.499797   \n",
       "min         0.000000       1.000000      0.00000        0.000000   \n",
       "25%         0.000000       1.000000      0.00000        0.000000   \n",
       "50%     97198.540000       1.000000      1.00000        1.000000   \n",
       "75%    127644.240000       2.000000      1.00000        1.000000   \n",
       "max    250898.090000       4.000000      1.00000        1.000000   \n",
       "\n",
       "       EstimatedSalary        Exited  \n",
       "count     10000.000000  10000.000000  \n",
       "mean     100090.239881      0.203700  \n",
       "std       57510.492818      0.402769  \n",
       "min          11.580000      0.000000  \n",
       "25%       51002.110000      0.000000  \n",
       "50%      100193.915000      0.000000  \n",
       "75%      149388.247500      0.000000  \n",
       "max      199992.480000      1.000000  "
      ]
     },
     "execution_count": 5,
     "metadata": {},
     "output_type": "execute_result"
    }
   ],
   "source": [
    "data.describe()"
   ]
  },
  {
   "cell_type": "markdown",
   "metadata": {},
   "source": [
    "Согласно описания проекта, RowNumber — индекс строки в данных. Он нам абсолютно не нужен. Аналогичная ситуация с Surname. А если можно удалить лишнее - нужно удалять!"
   ]
  },
  {
   "cell_type": "markdown",
   "metadata": {},
   "source": [
    "<div class=\"alert alert-success\">\n",
    "<h1> Комментарий ревьюера <a class=\"tocSkip\"></h1>\n",
    "Верно! Идентификаторы бесполезны для моделей\n",
    "</div>"
   ]
  },
  {
   "cell_type": "code",
   "execution_count": 6,
   "metadata": {},
   "outputs": [],
   "source": [
    "data = data.drop(columns=['RowNumber', 'Surname'])"
   ]
  },
  {
   "cell_type": "markdown",
   "metadata": {},
   "source": [
    "Также, у нас есть CustomerId. Думаю, хорошей идеей было бы объявить его для удобства индексом."
   ]
  },
  {
   "cell_type": "code",
   "execution_count": 7,
   "metadata": {
    "scrolled": true
   },
   "outputs": [
    {
     "data": {
      "text/html": [
       "<div>\n",
       "<style scoped>\n",
       "    .dataframe tbody tr th:only-of-type {\n",
       "        vertical-align: middle;\n",
       "    }\n",
       "\n",
       "    .dataframe tbody tr th {\n",
       "        vertical-align: top;\n",
       "    }\n",
       "\n",
       "    .dataframe thead th {\n",
       "        text-align: right;\n",
       "    }\n",
       "</style>\n",
       "<table border=\"1\" class=\"dataframe\">\n",
       "  <thead>\n",
       "    <tr style=\"text-align: right;\">\n",
       "      <th></th>\n",
       "      <th>CreditScore</th>\n",
       "      <th>Geography</th>\n",
       "      <th>Gender</th>\n",
       "      <th>Age</th>\n",
       "      <th>Tenure</th>\n",
       "      <th>Balance</th>\n",
       "      <th>NumOfProducts</th>\n",
       "      <th>HasCrCard</th>\n",
       "      <th>IsActiveMember</th>\n",
       "      <th>EstimatedSalary</th>\n",
       "      <th>Exited</th>\n",
       "    </tr>\n",
       "    <tr>\n",
       "      <th>CustomerId</th>\n",
       "      <th></th>\n",
       "      <th></th>\n",
       "      <th></th>\n",
       "      <th></th>\n",
       "      <th></th>\n",
       "      <th></th>\n",
       "      <th></th>\n",
       "      <th></th>\n",
       "      <th></th>\n",
       "      <th></th>\n",
       "      <th></th>\n",
       "    </tr>\n",
       "  </thead>\n",
       "  <tbody>\n",
       "    <tr>\n",
       "      <td>15634602</td>\n",
       "      <td>619</td>\n",
       "      <td>France</td>\n",
       "      <td>Female</td>\n",
       "      <td>42</td>\n",
       "      <td>2.0</td>\n",
       "      <td>0.00</td>\n",
       "      <td>1</td>\n",
       "      <td>1</td>\n",
       "      <td>1</td>\n",
       "      <td>101348.88</td>\n",
       "      <td>1</td>\n",
       "    </tr>\n",
       "    <tr>\n",
       "      <td>15647311</td>\n",
       "      <td>608</td>\n",
       "      <td>Spain</td>\n",
       "      <td>Female</td>\n",
       "      <td>41</td>\n",
       "      <td>1.0</td>\n",
       "      <td>83807.86</td>\n",
       "      <td>1</td>\n",
       "      <td>0</td>\n",
       "      <td>1</td>\n",
       "      <td>112542.58</td>\n",
       "      <td>0</td>\n",
       "    </tr>\n",
       "  </tbody>\n",
       "</table>\n",
       "</div>"
      ],
      "text/plain": [
       "            CreditScore Geography  Gender  Age  Tenure   Balance  \\\n",
       "CustomerId                                                         \n",
       "15634602            619    France  Female   42     2.0      0.00   \n",
       "15647311            608     Spain  Female   41     1.0  83807.86   \n",
       "\n",
       "            NumOfProducts  HasCrCard  IsActiveMember  EstimatedSalary  Exited  \n",
       "CustomerId                                                                     \n",
       "15634602                1          1               1        101348.88       1  \n",
       "15647311                1          0               1        112542.58       0  "
      ]
     },
     "execution_count": 7,
     "metadata": {},
     "output_type": "execute_result"
    }
   ],
   "source": [
    "data = data.set_index('CustomerId')\n",
    "data.head(2)"
   ]
  },
  {
   "cell_type": "markdown",
   "metadata": {},
   "source": [
    "Все строки, исходя информации выше, заполнены, кроме Tenure. Tenure — сколько лет человек является клиентом банка. Мы это не можем так оставить."
   ]
  },
  {
   "cell_type": "code",
   "execution_count": 8,
   "metadata": {},
   "outputs": [
    {
     "data": {
      "text/plain": [
       "0"
      ]
     },
     "execution_count": 8,
     "metadata": {},
     "output_type": "execute_result"
    }
   ],
   "source": [
    "data.loc[data['Tenure'].isna(), 'Tenure'] = data['Tenure'].median()\n",
    "data.isna().sum().sum()"
   ]
  },
  {
   "cell_type": "markdown",
   "metadata": {},
   "source": [
    "<div class=\"alert alert-warning\">\n",
    "<h1> Комментарий ревьюера <a class=\"tocSkip\"></h1>\n",
    "Прежде чем что-то заполнять, лучше изучить распределение признака. Это у тебя сделано уже после</div>"
   ]
  },
  {
   "cell_type": "code",
   "execution_count": 9,
   "metadata": {
    "scrolled": true
   },
   "outputs": [
    {
     "data": {
      "text/plain": [
       "5.0     1836\n",
       "1.0      952\n",
       "2.0      950\n",
       "8.0      933\n",
       "3.0      928\n",
       "7.0      925\n",
       "4.0      885\n",
       "9.0      882\n",
       "6.0      881\n",
       "10.0     446\n",
       "0.0      382\n",
       "Name: Tenure, dtype: int64"
      ]
     },
     "execution_count": 9,
     "metadata": {},
     "output_type": "execute_result"
    }
   ],
   "source": [
    "data['Tenure'].value_counts()"
   ]
  },
  {
   "cell_type": "markdown",
   "metadata": {},
   "source": [
    "Что осталось нам сделать в этом разделе, собственно, это предварительно (до нормализации) разделить данные на признаки X и целевую переменную y. Соответственно, Exited — факт ухода клиента - целевой признак."
   ]
  },
  {
   "cell_type": "code",
   "execution_count": 10,
   "metadata": {},
   "outputs": [],
   "source": [
    "X = data.drop(columns=['Exited'])\n",
    "y = data['Exited']"
   ]
  },
  {
   "cell_type": "markdown",
   "metadata": {},
   "source": [
    "Доля объектов положительного класса:"
   ]
  },
  {
   "cell_type": "code",
   "execution_count": 11,
   "metadata": {},
   "outputs": [
    {
     "data": {
      "text/plain": [
       "0.20369999999999389"
      ]
     },
     "execution_count": 11,
     "metadata": {},
     "output_type": "execute_result"
    }
   ],
   "source": [
    "sum(data[\"Exited\"]/len(data))"
   ]
  },
  {
   "cell_type": "markdown",
   "metadata": {},
   "source": [
    "Доля объектов отрицательного класса:"
   ]
  },
  {
   "cell_type": "code",
   "execution_count": 12,
   "metadata": {},
   "outputs": [
    {
     "data": {
      "text/plain": [
       "0.7963000000000061"
      ]
     },
     "execution_count": 12,
     "metadata": {},
     "output_type": "execute_result"
    }
   ],
   "source": [
    "1-sum(data[\"Exited\"]/len(data))"
   ]
  },
  {
   "cell_type": "markdown",
   "metadata": {},
   "source": [
    "Объектов отрицательного класса намного больше."
   ]
  },
  {
   "cell_type": "markdown",
   "metadata": {},
   "source": [
    "<div class=\"alert alert-success\">\n",
    "<h1> Комментарий ревьюера <a class=\"tocSkip\"></h1>\n",
    "Да, налицо явный дисбаланс классов</div>"
   ]
  },
  {
   "cell_type": "markdown",
   "metadata": {},
   "source": [
    "<div class=\"alert alert-info\">\n",
    "<h1> Комментарий ревьюера <a class=\"tocSkip\"></h1>\n",
    "В качестве иссследовательского анализа данных круто было бы изучить распределение признаков+ посмотреть на матрицу корреляций</div>"
   ]
  },
  {
   "cell_type": "markdown",
   "metadata": {},
   "source": [
    "## Исследование задачи"
   ]
  },
  {
   "cell_type": "markdown",
   "metadata": {},
   "source": [
    "Для начала, выделим категориальные и количественные признаки. Для категориальных признаков применим OHE."
   ]
  },
  {
   "cell_type": "code",
   "execution_count": 13,
   "metadata": {
    "scrolled": true
   },
   "outputs": [
    {
     "data": {
      "text/html": [
       "<div>\n",
       "<style scoped>\n",
       "    .dataframe tbody tr th:only-of-type {\n",
       "        vertical-align: middle;\n",
       "    }\n",
       "\n",
       "    .dataframe tbody tr th {\n",
       "        vertical-align: top;\n",
       "    }\n",
       "\n",
       "    .dataframe thead th {\n",
       "        text-align: right;\n",
       "    }\n",
       "</style>\n",
       "<table border=\"1\" class=\"dataframe\">\n",
       "  <thead>\n",
       "    <tr style=\"text-align: right;\">\n",
       "      <th></th>\n",
       "      <th>CreditScore</th>\n",
       "      <th>Age</th>\n",
       "      <th>Tenure</th>\n",
       "      <th>Balance</th>\n",
       "      <th>NumOfProducts</th>\n",
       "      <th>HasCrCard</th>\n",
       "      <th>IsActiveMember</th>\n",
       "      <th>EstimatedSalary</th>\n",
       "      <th>Exited</th>\n",
       "      <th>Geography_Germany</th>\n",
       "      <th>Geography_Spain</th>\n",
       "      <th>Gender_Male</th>\n",
       "    </tr>\n",
       "    <tr>\n",
       "      <th>CustomerId</th>\n",
       "      <th></th>\n",
       "      <th></th>\n",
       "      <th></th>\n",
       "      <th></th>\n",
       "      <th></th>\n",
       "      <th></th>\n",
       "      <th></th>\n",
       "      <th></th>\n",
       "      <th></th>\n",
       "      <th></th>\n",
       "      <th></th>\n",
       "      <th></th>\n",
       "    </tr>\n",
       "  </thead>\n",
       "  <tbody>\n",
       "    <tr>\n",
       "      <td>15634602</td>\n",
       "      <td>619</td>\n",
       "      <td>42</td>\n",
       "      <td>2.0</td>\n",
       "      <td>0.00</td>\n",
       "      <td>1</td>\n",
       "      <td>1</td>\n",
       "      <td>1</td>\n",
       "      <td>101348.88</td>\n",
       "      <td>1</td>\n",
       "      <td>0</td>\n",
       "      <td>0</td>\n",
       "      <td>0</td>\n",
       "    </tr>\n",
       "    <tr>\n",
       "      <td>15647311</td>\n",
       "      <td>608</td>\n",
       "      <td>41</td>\n",
       "      <td>1.0</td>\n",
       "      <td>83807.86</td>\n",
       "      <td>1</td>\n",
       "      <td>0</td>\n",
       "      <td>1</td>\n",
       "      <td>112542.58</td>\n",
       "      <td>0</td>\n",
       "      <td>0</td>\n",
       "      <td>1</td>\n",
       "      <td>0</td>\n",
       "    </tr>\n",
       "    <tr>\n",
       "      <td>15619304</td>\n",
       "      <td>502</td>\n",
       "      <td>42</td>\n",
       "      <td>8.0</td>\n",
       "      <td>159660.80</td>\n",
       "      <td>3</td>\n",
       "      <td>1</td>\n",
       "      <td>0</td>\n",
       "      <td>113931.57</td>\n",
       "      <td>1</td>\n",
       "      <td>0</td>\n",
       "      <td>0</td>\n",
       "      <td>0</td>\n",
       "    </tr>\n",
       "    <tr>\n",
       "      <td>15701354</td>\n",
       "      <td>699</td>\n",
       "      <td>39</td>\n",
       "      <td>1.0</td>\n",
       "      <td>0.00</td>\n",
       "      <td>2</td>\n",
       "      <td>0</td>\n",
       "      <td>0</td>\n",
       "      <td>93826.63</td>\n",
       "      <td>0</td>\n",
       "      <td>0</td>\n",
       "      <td>0</td>\n",
       "      <td>0</td>\n",
       "    </tr>\n",
       "    <tr>\n",
       "      <td>15737888</td>\n",
       "      <td>850</td>\n",
       "      <td>43</td>\n",
       "      <td>2.0</td>\n",
       "      <td>125510.82</td>\n",
       "      <td>1</td>\n",
       "      <td>1</td>\n",
       "      <td>1</td>\n",
       "      <td>79084.10</td>\n",
       "      <td>0</td>\n",
       "      <td>0</td>\n",
       "      <td>1</td>\n",
       "      <td>0</td>\n",
       "    </tr>\n",
       "  </tbody>\n",
       "</table>\n",
       "</div>"
      ],
      "text/plain": [
       "            CreditScore  Age  Tenure    Balance  NumOfProducts  HasCrCard  \\\n",
       "CustomerId                                                                  \n",
       "15634602            619   42     2.0       0.00              1          1   \n",
       "15647311            608   41     1.0   83807.86              1          0   \n",
       "15619304            502   42     8.0  159660.80              3          1   \n",
       "15701354            699   39     1.0       0.00              2          0   \n",
       "15737888            850   43     2.0  125510.82              1          1   \n",
       "\n",
       "            IsActiveMember  EstimatedSalary  Exited  Geography_Germany  \\\n",
       "CustomerId                                                               \n",
       "15634602                 1        101348.88       1                  0   \n",
       "15647311                 1        112542.58       0                  0   \n",
       "15619304                 0        113931.57       1                  0   \n",
       "15701354                 0         93826.63       0                  0   \n",
       "15737888                 1         79084.10       0                  0   \n",
       "\n",
       "            Geography_Spain  Gender_Male  \n",
       "CustomerId                                \n",
       "15634602                  0            0  \n",
       "15647311                  1            0  \n",
       "15619304                  0            0  \n",
       "15701354                  0            0  \n",
       "15737888                  1            0  "
      ]
     },
     "execution_count": 13,
     "metadata": {},
     "output_type": "execute_result"
    }
   ],
   "source": [
    "#gender_one_hot = pd.get_dummies(data[\"Gender\"], drop_first=True)\n",
    "#country_one_hot = pd.get_dummies(data[\"Geography\"], drop_first=True)\n",
    "#data.drop([\"Gender\", \"Geography\"], axis=1, inplace=True)\n",
    "#df_one_hot = pd.concat([data, gender_one_hot, country_one_hot], axis=1)\n",
    "data = pd.get_dummies(data, drop_first=True)\n",
    "data.head()"
   ]
  },
  {
   "cell_type": "code",
   "execution_count": 14,
   "metadata": {},
   "outputs": [
    {
     "data": {
      "text/plain": [
       "(10000, 12)"
      ]
     },
     "execution_count": 14,
     "metadata": {},
     "output_type": "execute_result"
    }
   ],
   "source": [
    "data.shape"
   ]
  },
  {
   "cell_type": "code",
   "execution_count": 15,
   "metadata": {},
   "outputs": [],
   "source": [
    "features = data.drop('Exited', axis=1)\n",
    "target = data['Exited']"
   ]
  },
  {
   "cell_type": "code",
   "execution_count": 16,
   "metadata": {},
   "outputs": [
    {
     "data": {
      "text/html": [
       "<div>\n",
       "<style scoped>\n",
       "    .dataframe tbody tr th:only-of-type {\n",
       "        vertical-align: middle;\n",
       "    }\n",
       "\n",
       "    .dataframe tbody tr th {\n",
       "        vertical-align: top;\n",
       "    }\n",
       "\n",
       "    .dataframe thead th {\n",
       "        text-align: right;\n",
       "    }\n",
       "</style>\n",
       "<table border=\"1\" class=\"dataframe\">\n",
       "  <thead>\n",
       "    <tr style=\"text-align: right;\">\n",
       "      <th></th>\n",
       "      <th>CreditScore</th>\n",
       "      <th>Age</th>\n",
       "      <th>Tenure</th>\n",
       "      <th>Balance</th>\n",
       "      <th>NumOfProducts</th>\n",
       "      <th>HasCrCard</th>\n",
       "      <th>IsActiveMember</th>\n",
       "      <th>EstimatedSalary</th>\n",
       "      <th>Geography_Germany</th>\n",
       "      <th>Geography_Spain</th>\n",
       "      <th>Gender_Male</th>\n",
       "    </tr>\n",
       "    <tr>\n",
       "      <th>CustomerId</th>\n",
       "      <th></th>\n",
       "      <th></th>\n",
       "      <th></th>\n",
       "      <th></th>\n",
       "      <th></th>\n",
       "      <th></th>\n",
       "      <th></th>\n",
       "      <th></th>\n",
       "      <th></th>\n",
       "      <th></th>\n",
       "      <th></th>\n",
       "    </tr>\n",
       "  </thead>\n",
       "  <tbody>\n",
       "    <tr>\n",
       "      <td>15634602</td>\n",
       "      <td>619</td>\n",
       "      <td>42</td>\n",
       "      <td>2.0</td>\n",
       "      <td>0.00</td>\n",
       "      <td>1</td>\n",
       "      <td>1</td>\n",
       "      <td>1</td>\n",
       "      <td>101348.88</td>\n",
       "      <td>0</td>\n",
       "      <td>0</td>\n",
       "      <td>0</td>\n",
       "    </tr>\n",
       "    <tr>\n",
       "      <td>15647311</td>\n",
       "      <td>608</td>\n",
       "      <td>41</td>\n",
       "      <td>1.0</td>\n",
       "      <td>83807.86</td>\n",
       "      <td>1</td>\n",
       "      <td>0</td>\n",
       "      <td>1</td>\n",
       "      <td>112542.58</td>\n",
       "      <td>0</td>\n",
       "      <td>1</td>\n",
       "      <td>0</td>\n",
       "    </tr>\n",
       "    <tr>\n",
       "      <td>15619304</td>\n",
       "      <td>502</td>\n",
       "      <td>42</td>\n",
       "      <td>8.0</td>\n",
       "      <td>159660.80</td>\n",
       "      <td>3</td>\n",
       "      <td>1</td>\n",
       "      <td>0</td>\n",
       "      <td>113931.57</td>\n",
       "      <td>0</td>\n",
       "      <td>0</td>\n",
       "      <td>0</td>\n",
       "    </tr>\n",
       "    <tr>\n",
       "      <td>15701354</td>\n",
       "      <td>699</td>\n",
       "      <td>39</td>\n",
       "      <td>1.0</td>\n",
       "      <td>0.00</td>\n",
       "      <td>2</td>\n",
       "      <td>0</td>\n",
       "      <td>0</td>\n",
       "      <td>93826.63</td>\n",
       "      <td>0</td>\n",
       "      <td>0</td>\n",
       "      <td>0</td>\n",
       "    </tr>\n",
       "    <tr>\n",
       "      <td>15737888</td>\n",
       "      <td>850</td>\n",
       "      <td>43</td>\n",
       "      <td>2.0</td>\n",
       "      <td>125510.82</td>\n",
       "      <td>1</td>\n",
       "      <td>1</td>\n",
       "      <td>1</td>\n",
       "      <td>79084.10</td>\n",
       "      <td>0</td>\n",
       "      <td>1</td>\n",
       "      <td>0</td>\n",
       "    </tr>\n",
       "  </tbody>\n",
       "</table>\n",
       "</div>"
      ],
      "text/plain": [
       "            CreditScore  Age  Tenure    Balance  NumOfProducts  HasCrCard  \\\n",
       "CustomerId                                                                  \n",
       "15634602            619   42     2.0       0.00              1          1   \n",
       "15647311            608   41     1.0   83807.86              1          0   \n",
       "15619304            502   42     8.0  159660.80              3          1   \n",
       "15701354            699   39     1.0       0.00              2          0   \n",
       "15737888            850   43     2.0  125510.82              1          1   \n",
       "\n",
       "            IsActiveMember  EstimatedSalary  Geography_Germany  \\\n",
       "CustomerId                                                       \n",
       "15634602                 1        101348.88                  0   \n",
       "15647311                 1        112542.58                  0   \n",
       "15619304                 0        113931.57                  0   \n",
       "15701354                 0         93826.63                  0   \n",
       "15737888                 1         79084.10                  0   \n",
       "\n",
       "            Geography_Spain  Gender_Male  \n",
       "CustomerId                                \n",
       "15634602                  0            0  \n",
       "15647311                  1            0  \n",
       "15619304                  0            0  \n",
       "15701354                  0            0  \n",
       "15737888                  1            0  "
      ]
     },
     "execution_count": 16,
     "metadata": {},
     "output_type": "execute_result"
    }
   ],
   "source": [
    "features.head()"
   ]
  },
  {
   "cell_type": "code",
   "execution_count": 17,
   "metadata": {},
   "outputs": [
    {
     "data": {
      "text/plain": [
       "CustomerId\n",
       "15634602    1\n",
       "15647311    0\n",
       "15619304    1\n",
       "15701354    0\n",
       "15737888    0\n",
       "Name: Exited, dtype: int64"
      ]
     },
     "execution_count": 17,
     "metadata": {},
     "output_type": "execute_result"
    }
   ],
   "source": [
    "target.head()"
   ]
  },
  {
   "cell_type": "markdown",
   "metadata": {},
   "source": [
    "<div class=\"alert alert-info\">\n",
    "<h1> Комментарий ревьюера <a class=\"tocSkip\"></h1>\n",
    "Можно было сразу data = pd.get_dummies(data,drop_first=True)\n",
    "</div>"
   ]
  },
  {
   "cell_type": "markdown",
   "metadata": {},
   "source": [
    "Применим MinMaxScaler для нормализации."
   ]
  },
  {
   "cell_type": "code",
   "execution_count": 18,
   "metadata": {
    "scrolled": true
   },
   "outputs": [],
   "source": [
    "#scaler = MinMaxScaler()\n",
    "#df_one_hot_scaled = df_one_hot.copy(deep=True)\n",
    "#df_one_hot_scaled[[\"Balance\", \"EstimatedSalary\"]] = scaler.fit_transform(df_one_hot_scaled[[\"Balance\", \"EstimatedSalary\"]])"
   ]
  },
  {
   "cell_type": "markdown",
   "metadata": {},
   "source": [
    "<div class=\"alert alert-danger\">\n",
    "<h1> Комментарий ревьюера <a class=\"tocSkip\"></h1>\n",
    "А можем ли мы скейлер обучать на всей выборке? Мы же доступа к тестовым данным не имеем на стадии обучения.\n",
    "\n",
    "Надо было обучить скейлер на обучающей выборке\n",
    "</div>"
   ]
  },
  {
   "cell_type": "markdown",
   "metadata": {},
   "source": [
    "<div class=\"alert alert-info\">\n",
    "    <h1> Комментарий студента <a class=\"tocSkip\"></h1>\n",
    "    Ок, ценное замечание. См. ниже решение.</div>"
   ]
  },
  {
   "cell_type": "markdown",
   "metadata": {},
   "source": [
    "<div class=\"alert alert-info\">\n",
    "<h1> Комментарий ревьюера v2 <a class=\"tocSkip\"></h1>\n",
    "Угу, круто что осознал\n",
    "</div>"
   ]
  },
  {
   "cell_type": "markdown",
   "metadata": {},
   "source": [
    "А вот теперь разделим как надо:"
   ]
  },
  {
   "cell_type": "code",
   "execution_count": 19,
   "metadata": {},
   "outputs": [],
   "source": [
    "#features = df_one_hot_scaled.drop(\"Exited\", axis=1)\n",
    "#target = data[\"Exited\"]\n",
    "#features = X\n",
    "#target = y"
   ]
  },
  {
   "cell_type": "markdown",
   "metadata": {},
   "source": [
    "Разобьём данные на обучающую, валидационную и тестовую выборки."
   ]
  },
  {
   "cell_type": "code",
   "execution_count": 20,
   "metadata": {},
   "outputs": [],
   "source": [
    "features_train, features_test0, target_train, target_test0 = train_test_split(features, target, \n",
    "                                                                              test_size=0.2, \n",
    "                                                                              random_state=1)"
   ]
  },
  {
   "cell_type": "code",
   "execution_count": 21,
   "metadata": {},
   "outputs": [],
   "source": [
    "features_valid, features_test, target_valid, target_test = train_test_split(features_test0, target_test0, \n",
    "                                                                              test_size=0.5, \n",
    "                                                                              random_state=1)"
   ]
  },
  {
   "cell_type": "code",
   "execution_count": 22,
   "metadata": {},
   "outputs": [
    {
     "data": {
      "text/html": [
       "<div>\n",
       "<style scoped>\n",
       "    .dataframe tbody tr th:only-of-type {\n",
       "        vertical-align: middle;\n",
       "    }\n",
       "\n",
       "    .dataframe tbody tr th {\n",
       "        vertical-align: top;\n",
       "    }\n",
       "\n",
       "    .dataframe thead th {\n",
       "        text-align: right;\n",
       "    }\n",
       "</style>\n",
       "<table border=\"1\" class=\"dataframe\">\n",
       "  <thead>\n",
       "    <tr style=\"text-align: right;\">\n",
       "      <th></th>\n",
       "      <th>CreditScore</th>\n",
       "      <th>Age</th>\n",
       "      <th>Tenure</th>\n",
       "      <th>Balance</th>\n",
       "      <th>NumOfProducts</th>\n",
       "      <th>HasCrCard</th>\n",
       "      <th>IsActiveMember</th>\n",
       "      <th>EstimatedSalary</th>\n",
       "      <th>Geography_Germany</th>\n",
       "      <th>Geography_Spain</th>\n",
       "      <th>Gender_Male</th>\n",
       "    </tr>\n",
       "    <tr>\n",
       "      <th>CustomerId</th>\n",
       "      <th></th>\n",
       "      <th></th>\n",
       "      <th></th>\n",
       "      <th></th>\n",
       "      <th></th>\n",
       "      <th></th>\n",
       "      <th></th>\n",
       "      <th></th>\n",
       "      <th></th>\n",
       "      <th></th>\n",
       "      <th></th>\n",
       "    </tr>\n",
       "  </thead>\n",
       "  <tbody>\n",
       "    <tr>\n",
       "      <td>15721585</td>\n",
       "      <td>628</td>\n",
       "      <td>29</td>\n",
       "      <td>3.0</td>\n",
       "      <td>113146.98</td>\n",
       "      <td>2</td>\n",
       "      <td>0</td>\n",
       "      <td>1</td>\n",
       "      <td>124749.08</td>\n",
       "      <td>1</td>\n",
       "      <td>0</td>\n",
       "      <td>1</td>\n",
       "    </tr>\n",
       "    <tr>\n",
       "      <td>15617790</td>\n",
       "      <td>626</td>\n",
       "      <td>29</td>\n",
       "      <td>5.0</td>\n",
       "      <td>105767.28</td>\n",
       "      <td>2</td>\n",
       "      <td>0</td>\n",
       "      <td>0</td>\n",
       "      <td>41104.82</td>\n",
       "      <td>0</td>\n",
       "      <td>0</td>\n",
       "      <td>0</td>\n",
       "    </tr>\n",
       "    <tr>\n",
       "      <td>15775905</td>\n",
       "      <td>612</td>\n",
       "      <td>47</td>\n",
       "      <td>5.0</td>\n",
       "      <td>130024.87</td>\n",
       "      <td>1</td>\n",
       "      <td>1</td>\n",
       "      <td>1</td>\n",
       "      <td>45750.21</td>\n",
       "      <td>1</td>\n",
       "      <td>0</td>\n",
       "      <td>0</td>\n",
       "    </tr>\n",
       "    <tr>\n",
       "      <td>15616666</td>\n",
       "      <td>646</td>\n",
       "      <td>52</td>\n",
       "      <td>6.0</td>\n",
       "      <td>111739.40</td>\n",
       "      <td>2</td>\n",
       "      <td>0</td>\n",
       "      <td>1</td>\n",
       "      <td>68367.18</td>\n",
       "      <td>1</td>\n",
       "      <td>0</td>\n",
       "      <td>0</td>\n",
       "    </tr>\n",
       "    <tr>\n",
       "      <td>15664720</td>\n",
       "      <td>714</td>\n",
       "      <td>33</td>\n",
       "      <td>8.0</td>\n",
       "      <td>122017.19</td>\n",
       "      <td>1</td>\n",
       "      <td>0</td>\n",
       "      <td>0</td>\n",
       "      <td>162515.17</td>\n",
       "      <td>0</td>\n",
       "      <td>1</td>\n",
       "      <td>1</td>\n",
       "    </tr>\n",
       "  </tbody>\n",
       "</table>\n",
       "</div>"
      ],
      "text/plain": [
       "            CreditScore  Age  Tenure    Balance  NumOfProducts  HasCrCard  \\\n",
       "CustomerId                                                                  \n",
       "15721585            628   29     3.0  113146.98              2          0   \n",
       "15617790            626   29     5.0  105767.28              2          0   \n",
       "15775905            612   47     5.0  130024.87              1          1   \n",
       "15616666            646   52     6.0  111739.40              2          0   \n",
       "15664720            714   33     8.0  122017.19              1          0   \n",
       "\n",
       "            IsActiveMember  EstimatedSalary  Geography_Germany  \\\n",
       "CustomerId                                                       \n",
       "15721585                 1        124749.08                  1   \n",
       "15617790                 0         41104.82                  0   \n",
       "15775905                 1         45750.21                  1   \n",
       "15616666                 1         68367.18                  1   \n",
       "15664720                 0        162515.17                  0   \n",
       "\n",
       "            Geography_Spain  Gender_Male  \n",
       "CustomerId                                \n",
       "15721585                  0            1  \n",
       "15617790                  0            0  \n",
       "15775905                  0            0  \n",
       "15616666                  0            0  \n",
       "15664720                  1            1  "
      ]
     },
     "execution_count": 22,
     "metadata": {},
     "output_type": "execute_result"
    }
   ],
   "source": [
    "features_train.head()"
   ]
  },
  {
   "cell_type": "code",
   "execution_count": 23,
   "metadata": {},
   "outputs": [],
   "source": [
    "#features_train = pd.DataFrame(features_train)\n",
    "#features_valid = pd.DataFrame(features_valid)\n",
    "#target_train = pd.Series(target_train)\n",
    "#target_valid = pd.Series(target_valid)"
   ]
  },
  {
   "cell_type": "markdown",
   "metadata": {},
   "source": [
    "Полученные выборки:\n",
    "Обучающая\n",
    "features_train\n",
    "target_train\n",
    "\n",
    "Валидационная\n",
    "features_valid\n",
    "target_valid\n",
    "\n",
    "Тестовая\n",
    "features_test\n",
    "target_test\n",
    "\n",
    "Для масштабирования зафиксируем численные признаки:"
   ]
  },
  {
   "cell_type": "code",
   "execution_count": 24,
   "metadata": {},
   "outputs": [],
   "source": [
    "numeric = ['CreditScore', 'Age', 'Tenure', 'Balance', 'NumOfProducts', 'EstimatedSalary']"
   ]
  },
  {
   "cell_type": "code",
   "execution_count": 25,
   "metadata": {},
   "outputs": [
    {
     "data": {
      "text/plain": [
       "StandardScaler()"
      ]
     },
     "execution_count": 25,
     "metadata": {},
     "output_type": "execute_result"
    }
   ],
   "source": [
    "scaler = StandardScaler()\n",
    "scaler.fit(features_train[numeric])"
   ]
  },
  {
   "cell_type": "markdown",
   "metadata": {},
   "source": [
    "Масштабируем численные признаки обучающей выборки:"
   ]
  },
  {
   "cell_type": "code",
   "execution_count": 26,
   "metadata": {},
   "outputs": [
    {
     "data": {
      "text/html": [
       "<div>\n",
       "<style scoped>\n",
       "    .dataframe tbody tr th:only-of-type {\n",
       "        vertical-align: middle;\n",
       "    }\n",
       "\n",
       "    .dataframe tbody tr th {\n",
       "        vertical-align: top;\n",
       "    }\n",
       "\n",
       "    .dataframe thead th {\n",
       "        text-align: right;\n",
       "    }\n",
       "</style>\n",
       "<table border=\"1\" class=\"dataframe\">\n",
       "  <thead>\n",
       "    <tr style=\"text-align: right;\">\n",
       "      <th></th>\n",
       "      <th>CreditScore</th>\n",
       "      <th>Age</th>\n",
       "      <th>Tenure</th>\n",
       "      <th>Balance</th>\n",
       "      <th>NumOfProducts</th>\n",
       "      <th>HasCrCard</th>\n",
       "      <th>IsActiveMember</th>\n",
       "      <th>EstimatedSalary</th>\n",
       "      <th>Geography_Germany</th>\n",
       "      <th>Geography_Spain</th>\n",
       "      <th>Gender_Male</th>\n",
       "    </tr>\n",
       "    <tr>\n",
       "      <th>CustomerId</th>\n",
       "      <th></th>\n",
       "      <th></th>\n",
       "      <th></th>\n",
       "      <th></th>\n",
       "      <th></th>\n",
       "      <th></th>\n",
       "      <th></th>\n",
       "      <th></th>\n",
       "      <th></th>\n",
       "      <th></th>\n",
       "      <th></th>\n",
       "    </tr>\n",
       "  </thead>\n",
       "  <tbody>\n",
       "    <tr>\n",
       "      <td>15721585</td>\n",
       "      <td>-0.230820</td>\n",
       "      <td>-0.944500</td>\n",
       "      <td>-0.727387</td>\n",
       "      <td>0.588173</td>\n",
       "      <td>0.802257</td>\n",
       "      <td>0</td>\n",
       "      <td>1</td>\n",
       "      <td>0.427394</td>\n",
       "      <td>1</td>\n",
       "      <td>0</td>\n",
       "      <td>1</td>\n",
       "    </tr>\n",
       "    <tr>\n",
       "      <td>15617790</td>\n",
       "      <td>-0.251509</td>\n",
       "      <td>-0.944500</td>\n",
       "      <td>-0.001814</td>\n",
       "      <td>0.469849</td>\n",
       "      <td>0.802257</td>\n",
       "      <td>0</td>\n",
       "      <td>0</td>\n",
       "      <td>-1.025487</td>\n",
       "      <td>0</td>\n",
       "      <td>0</td>\n",
       "      <td>0</td>\n",
       "    </tr>\n",
       "    <tr>\n",
       "      <td>15775905</td>\n",
       "      <td>-0.396330</td>\n",
       "      <td>0.774987</td>\n",
       "      <td>-0.001814</td>\n",
       "      <td>0.858788</td>\n",
       "      <td>-0.911510</td>\n",
       "      <td>1</td>\n",
       "      <td>1</td>\n",
       "      <td>-0.944798</td>\n",
       "      <td>1</td>\n",
       "      <td>0</td>\n",
       "      <td>0</td>\n",
       "    </tr>\n",
       "    <tr>\n",
       "      <td>15616666</td>\n",
       "      <td>-0.044622</td>\n",
       "      <td>1.252622</td>\n",
       "      <td>0.360973</td>\n",
       "      <td>0.565604</td>\n",
       "      <td>0.802257</td>\n",
       "      <td>0</td>\n",
       "      <td>1</td>\n",
       "      <td>-0.551946</td>\n",
       "      <td>1</td>\n",
       "      <td>0</td>\n",
       "      <td>0</td>\n",
       "    </tr>\n",
       "    <tr>\n",
       "      <td>15664720</td>\n",
       "      <td>0.658795</td>\n",
       "      <td>-0.562392</td>\n",
       "      <td>1.086545</td>\n",
       "      <td>0.730395</td>\n",
       "      <td>-0.911510</td>\n",
       "      <td>0</td>\n",
       "      <td>0</td>\n",
       "      <td>1.083383</td>\n",
       "      <td>0</td>\n",
       "      <td>1</td>\n",
       "      <td>1</td>\n",
       "    </tr>\n",
       "  </tbody>\n",
       "</table>\n",
       "</div>"
      ],
      "text/plain": [
       "            CreditScore       Age    Tenure   Balance  NumOfProducts  \\\n",
       "CustomerId                                                             \n",
       "15721585      -0.230820 -0.944500 -0.727387  0.588173       0.802257   \n",
       "15617790      -0.251509 -0.944500 -0.001814  0.469849       0.802257   \n",
       "15775905      -0.396330  0.774987 -0.001814  0.858788      -0.911510   \n",
       "15616666      -0.044622  1.252622  0.360973  0.565604       0.802257   \n",
       "15664720       0.658795 -0.562392  1.086545  0.730395      -0.911510   \n",
       "\n",
       "            HasCrCard  IsActiveMember  EstimatedSalary  Geography_Germany  \\\n",
       "CustomerId                                                                  \n",
       "15721585            0               1         0.427394                  1   \n",
       "15617790            0               0        -1.025487                  0   \n",
       "15775905            1               1        -0.944798                  1   \n",
       "15616666            0               1        -0.551946                  1   \n",
       "15664720            0               0         1.083383                  0   \n",
       "\n",
       "            Geography_Spain  Gender_Male  \n",
       "CustomerId                                \n",
       "15721585                  0            1  \n",
       "15617790                  0            0  \n",
       "15775905                  0            0  \n",
       "15616666                  0            0  \n",
       "15664720                  1            1  "
      ]
     },
     "execution_count": 26,
     "metadata": {},
     "output_type": "execute_result"
    }
   ],
   "source": [
    "features_train[numeric] = scaler.transform(features_train[numeric])\n",
    "features_train.head()"
   ]
  },
  {
   "cell_type": "markdown",
   "metadata": {},
   "source": [
    "Масштабируем численные признаки валидационной выборки:"
   ]
  },
  {
   "cell_type": "code",
   "execution_count": 27,
   "metadata": {},
   "outputs": [
    {
     "data": {
      "text/html": [
       "<div>\n",
       "<style scoped>\n",
       "    .dataframe tbody tr th:only-of-type {\n",
       "        vertical-align: middle;\n",
       "    }\n",
       "\n",
       "    .dataframe tbody tr th {\n",
       "        vertical-align: top;\n",
       "    }\n",
       "\n",
       "    .dataframe thead th {\n",
       "        text-align: right;\n",
       "    }\n",
       "</style>\n",
       "<table border=\"1\" class=\"dataframe\">\n",
       "  <thead>\n",
       "    <tr style=\"text-align: right;\">\n",
       "      <th></th>\n",
       "      <th>CreditScore</th>\n",
       "      <th>Age</th>\n",
       "      <th>Tenure</th>\n",
       "      <th>Balance</th>\n",
       "      <th>NumOfProducts</th>\n",
       "      <th>HasCrCard</th>\n",
       "      <th>IsActiveMember</th>\n",
       "      <th>EstimatedSalary</th>\n",
       "      <th>Geography_Germany</th>\n",
       "      <th>Geography_Spain</th>\n",
       "      <th>Gender_Male</th>\n",
       "    </tr>\n",
       "    <tr>\n",
       "      <th>CustomerId</th>\n",
       "      <th></th>\n",
       "      <th></th>\n",
       "      <th></th>\n",
       "      <th></th>\n",
       "      <th></th>\n",
       "      <th></th>\n",
       "      <th></th>\n",
       "      <th></th>\n",
       "      <th></th>\n",
       "      <th></th>\n",
       "      <th></th>\n",
       "    </tr>\n",
       "  </thead>\n",
       "  <tbody>\n",
       "    <tr>\n",
       "      <td>15731026</td>\n",
       "      <td>0.338120</td>\n",
       "      <td>0.010771</td>\n",
       "      <td>-1.090173</td>\n",
       "      <td>0.378375</td>\n",
       "      <td>0.802257</td>\n",
       "      <td>1</td>\n",
       "      <td>0</td>\n",
       "      <td>0.157335</td>\n",
       "      <td>1</td>\n",
       "      <td>0</td>\n",
       "      <td>0</td>\n",
       "    </tr>\n",
       "    <tr>\n",
       "      <td>15792565</td>\n",
       "      <td>0.979471</td>\n",
       "      <td>0.679460</td>\n",
       "      <td>0.723759</td>\n",
       "      <td>-1.225992</td>\n",
       "      <td>0.802257</td>\n",
       "      <td>1</td>\n",
       "      <td>1</td>\n",
       "      <td>-0.562320</td>\n",
       "      <td>0</td>\n",
       "      <td>0</td>\n",
       "      <td>0</td>\n",
       "    </tr>\n",
       "    <tr>\n",
       "      <td>15710316</td>\n",
       "      <td>-2.030741</td>\n",
       "      <td>0.870514</td>\n",
       "      <td>-0.001814</td>\n",
       "      <td>1.096294</td>\n",
       "      <td>-0.911510</td>\n",
       "      <td>1</td>\n",
       "      <td>1</td>\n",
       "      <td>-0.121444</td>\n",
       "      <td>0</td>\n",
       "      <td>1</td>\n",
       "      <td>0</td>\n",
       "    </tr>\n",
       "    <tr>\n",
       "      <td>15781347</td>\n",
       "      <td>-0.520463</td>\n",
       "      <td>0.201825</td>\n",
       "      <td>-1.452960</td>\n",
       "      <td>-1.225992</td>\n",
       "      <td>0.802257</td>\n",
       "      <td>1</td>\n",
       "      <td>1</td>\n",
       "      <td>-0.155456</td>\n",
       "      <td>0</td>\n",
       "      <td>0</td>\n",
       "      <td>0</td>\n",
       "    </tr>\n",
       "    <tr>\n",
       "      <td>15694859</td>\n",
       "      <td>1.041537</td>\n",
       "      <td>-1.040027</td>\n",
       "      <td>1.812118</td>\n",
       "      <td>0.905402</td>\n",
       "      <td>0.802257</td>\n",
       "      <td>1</td>\n",
       "      <td>1</td>\n",
       "      <td>-0.929508</td>\n",
       "      <td>1</td>\n",
       "      <td>0</td>\n",
       "      <td>0</td>\n",
       "    </tr>\n",
       "  </tbody>\n",
       "</table>\n",
       "</div>"
      ],
      "text/plain": [
       "            CreditScore       Age    Tenure   Balance  NumOfProducts  \\\n",
       "CustomerId                                                             \n",
       "15731026       0.338120  0.010771 -1.090173  0.378375       0.802257   \n",
       "15792565       0.979471  0.679460  0.723759 -1.225992       0.802257   \n",
       "15710316      -2.030741  0.870514 -0.001814  1.096294      -0.911510   \n",
       "15781347      -0.520463  0.201825 -1.452960 -1.225992       0.802257   \n",
       "15694859       1.041537 -1.040027  1.812118  0.905402       0.802257   \n",
       "\n",
       "            HasCrCard  IsActiveMember  EstimatedSalary  Geography_Germany  \\\n",
       "CustomerId                                                                  \n",
       "15731026            1               0         0.157335                  1   \n",
       "15792565            1               1        -0.562320                  0   \n",
       "15710316            1               1        -0.121444                  0   \n",
       "15781347            1               1        -0.155456                  0   \n",
       "15694859            1               1        -0.929508                  1   \n",
       "\n",
       "            Geography_Spain  Gender_Male  \n",
       "CustomerId                                \n",
       "15731026                  0            0  \n",
       "15792565                  0            0  \n",
       "15710316                  1            0  \n",
       "15781347                  0            0  \n",
       "15694859                  0            0  "
      ]
     },
     "execution_count": 27,
     "metadata": {},
     "output_type": "execute_result"
    }
   ],
   "source": [
    "features_valid[numeric] = scaler.transform(features_valid[numeric])\n",
    "features_valid.head()"
   ]
  },
  {
   "cell_type": "markdown",
   "metadata": {},
   "source": [
    "Масштабируем численные признаки тестовой выборки:"
   ]
  },
  {
   "cell_type": "code",
   "execution_count": 28,
   "metadata": {},
   "outputs": [
    {
     "data": {
      "text/html": [
       "<div>\n",
       "<style scoped>\n",
       "    .dataframe tbody tr th:only-of-type {\n",
       "        vertical-align: middle;\n",
       "    }\n",
       "\n",
       "    .dataframe tbody tr th {\n",
       "        vertical-align: top;\n",
       "    }\n",
       "\n",
       "    .dataframe thead th {\n",
       "        text-align: right;\n",
       "    }\n",
       "</style>\n",
       "<table border=\"1\" class=\"dataframe\">\n",
       "  <thead>\n",
       "    <tr style=\"text-align: right;\">\n",
       "      <th></th>\n",
       "      <th>CreditScore</th>\n",
       "      <th>Age</th>\n",
       "      <th>Tenure</th>\n",
       "      <th>Balance</th>\n",
       "      <th>NumOfProducts</th>\n",
       "      <th>HasCrCard</th>\n",
       "      <th>IsActiveMember</th>\n",
       "      <th>EstimatedSalary</th>\n",
       "      <th>Geography_Germany</th>\n",
       "      <th>Geography_Spain</th>\n",
       "      <th>Gender_Male</th>\n",
       "    </tr>\n",
       "    <tr>\n",
       "      <th>CustomerId</th>\n",
       "      <th></th>\n",
       "      <th></th>\n",
       "      <th></th>\n",
       "      <th></th>\n",
       "      <th></th>\n",
       "      <th></th>\n",
       "      <th></th>\n",
       "      <th></th>\n",
       "      <th></th>\n",
       "      <th></th>\n",
       "      <th></th>\n",
       "    </tr>\n",
       "  </thead>\n",
       "  <tbody>\n",
       "    <tr>\n",
       "      <td>15641732</td>\n",
       "      <td>-1.110092</td>\n",
       "      <td>-0.275810</td>\n",
       "      <td>-0.001814</td>\n",
       "      <td>-1.225992</td>\n",
       "      <td>0.802257</td>\n",
       "      <td>0</td>\n",
       "      <td>0</td>\n",
       "      <td>-1.287514</td>\n",
       "      <td>0</td>\n",
       "      <td>0</td>\n",
       "      <td>0</td>\n",
       "    </tr>\n",
       "    <tr>\n",
       "      <td>15660571</td>\n",
       "      <td>0.182954</td>\n",
       "      <td>0.392879</td>\n",
       "      <td>-0.001814</td>\n",
       "      <td>0.586366</td>\n",
       "      <td>-0.911510</td>\n",
       "      <td>1</td>\n",
       "      <td>1</td>\n",
       "      <td>0.004871</td>\n",
       "      <td>0</td>\n",
       "      <td>1</td>\n",
       "      <td>1</td>\n",
       "    </tr>\n",
       "    <tr>\n",
       "      <td>15665064</td>\n",
       "      <td>-1.316979</td>\n",
       "      <td>-0.275810</td>\n",
       "      <td>1.086545</td>\n",
       "      <td>1.312961</td>\n",
       "      <td>0.802257</td>\n",
       "      <td>1</td>\n",
       "      <td>0</td>\n",
       "      <td>0.958136</td>\n",
       "      <td>0</td>\n",
       "      <td>0</td>\n",
       "      <td>1</td>\n",
       "    </tr>\n",
       "    <tr>\n",
       "      <td>15711834</td>\n",
       "      <td>-0.003244</td>\n",
       "      <td>-0.848973</td>\n",
       "      <td>0.360973</td>\n",
       "      <td>-1.225992</td>\n",
       "      <td>-0.911510</td>\n",
       "      <td>0</td>\n",
       "      <td>0</td>\n",
       "      <td>-0.558374</td>\n",
       "      <td>0</td>\n",
       "      <td>1</td>\n",
       "      <td>0</td>\n",
       "    </tr>\n",
       "    <tr>\n",
       "      <td>15700656</td>\n",
       "      <td>0.120888</td>\n",
       "      <td>-0.657919</td>\n",
       "      <td>1.449332</td>\n",
       "      <td>-1.225992</td>\n",
       "      <td>0.802257</td>\n",
       "      <td>0</td>\n",
       "      <td>0</td>\n",
       "      <td>-0.608881</td>\n",
       "      <td>0</td>\n",
       "      <td>0</td>\n",
       "      <td>1</td>\n",
       "    </tr>\n",
       "  </tbody>\n",
       "</table>\n",
       "</div>"
      ],
      "text/plain": [
       "            CreditScore       Age    Tenure   Balance  NumOfProducts  \\\n",
       "CustomerId                                                             \n",
       "15641732      -1.110092 -0.275810 -0.001814 -1.225992       0.802257   \n",
       "15660571       0.182954  0.392879 -0.001814  0.586366      -0.911510   \n",
       "15665064      -1.316979 -0.275810  1.086545  1.312961       0.802257   \n",
       "15711834      -0.003244 -0.848973  0.360973 -1.225992      -0.911510   \n",
       "15700656       0.120888 -0.657919  1.449332 -1.225992       0.802257   \n",
       "\n",
       "            HasCrCard  IsActiveMember  EstimatedSalary  Geography_Germany  \\\n",
       "CustomerId                                                                  \n",
       "15641732            0               0        -1.287514                  0   \n",
       "15660571            1               1         0.004871                  0   \n",
       "15665064            1               0         0.958136                  0   \n",
       "15711834            0               0        -0.558374                  0   \n",
       "15700656            0               0        -0.608881                  0   \n",
       "\n",
       "            Geography_Spain  Gender_Male  \n",
       "CustomerId                                \n",
       "15641732                  0            0  \n",
       "15660571                  1            1  \n",
       "15665064                  0            1  \n",
       "15711834                  1            0  \n",
       "15700656                  0            1  "
      ]
     },
     "execution_count": 28,
     "metadata": {},
     "output_type": "execute_result"
    }
   ],
   "source": [
    "features_test[numeric] = scaler.transform(features_test[numeric])\n",
    "features_test.head()"
   ]
  },
  {
   "cell_type": "markdown",
   "metadata": {},
   "source": [
    "Дисбаланс мы выявили ещё в первом разделе, но теперь есть возможность посмотреть на него с учётом разбивки на выборки."
   ]
  },
  {
   "cell_type": "code",
   "execution_count": 29,
   "metadata": {},
   "outputs": [
    {
     "data": {
      "text/plain": [
       "<matplotlib.legend.Legend at 0x7fe01e679450>"
      ]
     },
     "execution_count": 29,
     "metadata": {},
     "output_type": "execute_result"
    },
    {
     "data": {
      "image/png": "[encoded data removed]",
      "text/plain": [
       "<Figure size 432x288 with 2 Axes>"
      ]
     },
     "metadata": {
      "needs_background": "light"
     },
     "output_type": "display_data"
    }
   ],
   "source": [
    "f, (ax1, ax2) = plt.subplots(1, 2)\n",
    "target_train.value_counts().plot(kind='bar', ax=ax1, label='train')\n",
    "target_test0.value_counts().plot(kind='bar', ax=ax2, label='test')\n",
    "plt.legend()"
   ]
  },
  {
   "cell_type": "markdown",
   "metadata": {},
   "source": [
    "### Обучение моделей"
   ]
  },
  {
   "cell_type": "markdown",
   "metadata": {},
   "source": [
    "<b>Логистическая регрессия:</b>"
   ]
  },
  {
   "cell_type": "code",
   "execution_count": 30,
   "metadata": {},
   "outputs": [
    {
     "name": "stdout",
     "output_type": "stream",
     "text": [
      "Accuracy: 0.734\n",
      "F1: 0.4962121212121212\n"
     ]
    }
   ],
   "source": [
    "lr = LogisticRegression(solver='lbfgs', class_weight='balanced', max_iter=10000)\n",
    "lr.fit(features_train, target_train)\n",
    "predictions = lr.predict(features_valid)\n",
    "print(\"Accuracy:\", accuracy_score(predictions, target_valid))\n",
    "print(\"F1:\", f1_score(predictions, target_valid))"
   ]
  },
  {
   "cell_type": "markdown",
   "metadata": {},
   "source": [
    "<b>Случайный лес:</b>"
   ]
  },
  {
   "cell_type": "code",
   "execution_count": 31,
   "metadata": {},
   "outputs": [],
   "source": [
    "rfc = RandomForestClassifier()\n",
    "param_grid = { \n",
    "    'n_estimators': [10, 20, 30, 40, 50],\n",
    "    'max_features': ['log2'],\n",
    "    'max_depth' : [5,7,9,11,13,15],\n",
    "    'criterion' : ['gini']\n",
    "}"
   ]
  },
  {
   "cell_type": "code",
   "execution_count": 32,
   "metadata": {},
   "outputs": [
    {
     "data": {
      "text/plain": [
       "GridSearchCV(cv=5, estimator=RandomForestClassifier(),\n",
       "             param_grid={'criterion': ['gini'],\n",
       "                         'max_depth': [5, 7, 9, 11, 13, 15],\n",
       "                         'max_features': ['log2'],\n",
       "                         'n_estimators': [10, 20, 30, 40, 50]})"
      ]
     },
     "execution_count": 32,
     "metadata": {},
     "output_type": "execute_result"
    }
   ],
   "source": [
    "CV_rfc = GridSearchCV(estimator=rfc, param_grid=param_grid, cv=5)\n",
    "CV_rfc.fit(features_train, target_train)"
   ]
  },
  {
   "cell_type": "code",
   "execution_count": 33,
   "metadata": {},
   "outputs": [
    {
     "name": "stdout",
     "output_type": "stream",
     "text": [
      "Accuracy: 0.893\n",
      "F1: 0.627177700348432\n"
     ]
    }
   ],
   "source": [
    "predictions = CV_rfc.best_estimator_.predict(features_valid)\n",
    "print(\"Accuracy:\", accuracy_score(predictions, target_valid))\n",
    "print(\"F1:\", f1_score(predictions, target_valid))"
   ]
  },
  {
   "cell_type": "markdown",
   "metadata": {},
   "source": [
    "<div class=\"alert alert-info\">\n",
    "<h1> Комментарий ревьюера <a class=\"tocSkip\"></h1>\n",
    "Результат внушает оптимизм!\n",
    "</div>"
   ]
  },
  {
   "cell_type": "markdown",
   "metadata": {},
   "source": [
    "## Борьба с дисбалансом"
   ]
  },
  {
   "cell_type": "markdown",
   "metadata": {},
   "source": [
    "Для борьбы с дисбалансом будем использовать Upsampling и Downsampling. Нам надо увеличить число наблюдений положительного класса. Создадим функцию <b>upsample</b>."
   ]
  },
  {
   "cell_type": "code",
   "execution_count": 34,
   "metadata": {},
   "outputs": [],
   "source": [
    "def upsample(features, target, repeat):\n",
    "    features_zeros = features[target == 0]\n",
    "    features_ones = features[target == 1]\n",
    "    target_zeros = target[target == 0]\n",
    "    target_ones = target[target == 1]\n",
    "\n",
    "    features_upsampled = pd.concat([features_zeros] + [features_ones] * repeat)\n",
    "    target_upsampled = pd.concat([target_zeros] + [target_ones] * repeat)\n",
    "    \n",
    "    features_upsampled, target_upsampled = shuffle(\n",
    "        features_upsampled, target_upsampled, random_state=12345)\n",
    "    \n",
    "    return features_upsampled, target_upsampled"
   ]
  },
  {
   "cell_type": "code",
   "execution_count": 35,
   "metadata": {},
   "outputs": [],
   "source": [
    "features_upsampled_train, target_upsampled_train = upsample(features_train, target_train, repeat=4)"
   ]
  },
  {
   "cell_type": "code",
   "execution_count": 36,
   "metadata": {},
   "outputs": [
    {
     "data": {
      "text/plain": [
       "GridSearchCV(cv=2,\n",
       "             estimator=Pipeline(steps=[('smote', SMOTE(random_state=42)),\n",
       "                                       ('randomforestclassifier',\n",
       "                                        RandomForestClassifier(random_state=13))]),\n",
       "             param_grid={'randomforestclassifier__max_depth': [4, 6, 10, 12],\n",
       "                         'randomforestclassifier__n_estimators': [50, 100, 200],\n",
       "                         'randomforestclassifier__random_state': [13]},\n",
       "             return_train_score=True, scoring='f1')"
      ]
     },
     "execution_count": 36,
     "metadata": {},
     "output_type": "execute_result"
    }
   ],
   "source": [
    "from imblearn.pipeline import Pipeline, make_pipeline\n",
    "\n",
    "params = {\n",
    "    'n_estimators': [50, 100, 200],\n",
    "    'max_depth': [4, 6, 10, 12],\n",
    "    'random_state': [13]\n",
    "}\n",
    "imba_pipeline = make_pipeline(SMOTE(random_state=42), \n",
    "                             RandomForestClassifier(n_estimators=100, random_state=13))\n",
    "\n",
    "new_params = {'randomforestclassifier__' + key: params[key] for key in params}\n",
    "grid_imba = GridSearchCV(imba_pipeline, param_grid=new_params, cv=2, scoring='f1',\n",
    "                        return_train_score=True)\n",
    "grid_imba.fit(features_train, target_train)"
   ]
  },
  {
   "cell_type": "code",
   "execution_count": 37,
   "metadata": {},
   "outputs": [
    {
     "name": "stdout",
     "output_type": "stream",
     "text": [
      "Accuracy: 0.834\n",
      "F1: 0.5786802030456852\n"
     ]
    }
   ],
   "source": [
    "predictions = grid_imba.best_estimator_.predict(features_valid)\n",
    "print(\"Accuracy:\", accuracy_score(predictions, target_valid))\n",
    "print(\"F1:\", f1_score(predictions, target_valid))"
   ]
  },
  {
   "cell_type": "code",
   "execution_count": 38,
   "metadata": {},
   "outputs": [
    {
     "data": {
      "text/plain": [
       "GridSearchCV(cv=5,\n",
       "             estimator=Pipeline(steps=[('smote', SMOTE(random_state=42)),\n",
       "                                       ('randomforestclassifier',\n",
       "                                        RandomForestClassifier(random_state=13))]),\n",
       "             param_grid={'randomforestclassifier__max_depth': [4, 6, 10, 12],\n",
       "                         'randomforestclassifier__n_estimators': [50, 100, 200],\n",
       "                         'randomforestclassifier__random_state': [13]},\n",
       "             return_train_score=True, scoring='recall')"
      ]
     },
     "execution_count": 38,
     "metadata": {},
     "output_type": "execute_result"
    }
   ],
   "source": [
    "\n",
    "CV_rfc = GridSearchCV(imba_pipeline, param_grid=new_params, cv=5, scoring='recall',return_train_score=True)\n",
    "# CV_rfc = GridSearchCV(estimator=rfc, param_grid=param_grid, cv=5)\n",
    "CV_rfc.fit(features_train, target_train)"
   ]
  },
  {
   "cell_type": "markdown",
   "metadata": {},
   "source": [
    "<div class=\"alert alert-danger\">\n",
    "<h1> Комментарий ревьюера <a class=\"tocSkip\"></h1>\n",
    "Смотри, здесь есть небольшая специфика при проведении кросс-валидации. То как ты делаешь --- у нас кросс-валидации внутри гридсерча будет на сбалансированной выборке, что отличается от теста.\n",
    "\n",
    "Тут нужно, например, применять пайплайн. <a href='https://kiwidamien.github.io/how-to-do-cross-validation-when-upsampling-data.html'>Чтиво</a>\n",
    "</div>"
   ]
  },
  {
   "cell_type": "markdown",
   "metadata": {},
   "source": [
    "<div class=\"alert alert-info\">\n",
    "    <h1> Комментарий студента <a class=\"tocSkip\"></h1>\n",
    "    Я прочитал решение с pipeline, отредактировал код, но к сожалению, редактор не даёт импортировать SMOTE - выдаёт ошибку. А сам код с imba_pipeline я пока закомментировал.</div>"
   ]
  },
  {
   "cell_type": "markdown",
   "metadata": {},
   "source": [
    "<div class=\"alert alert-info\">\n",
    "<h1> Комментарий ревьюера v2 <a class=\"tocSkip\"></h1>\n",
    "Хм, мне кажется, где-то я такое встречал уже. Что-то с разнице библиотекю Сейчас\n",
    "</div>"
   ]
  },
  {
   "cell_type": "markdown",
   "metadata": {},
   "source": [
    "<div class=\"alert alert-danger\">\n",
    "<h1> Комментарий ревьюера v2 <a class=\"tocSkip\"></h1>\n",
    "1) PIpeline нужен из имбаланса\n",
    "\n",
    "2) По иморту -- надо было последней версии установить <a href='https://stackoverflow.com/questions/60145652/no-module-named-sklearn-neighbors-base'>библиотеки</a>. В начале проекта добали строчки с пипом.\n",
    "    \n",
    "У меня вроде даже все отработало. Разобрался?)\n",
    "</div>"
   ]
  },
  {
   "cell_type": "markdown",
   "metadata": {},
   "source": [
    "<div class=\"alert alert-info\">\n",
    "    <h1> Комментарий студента <a class=\"tocSkip\"></h1>\n",
    "    У меня отработал импорт, а с ошибкой \"Invalid parameter criterion for estimator Pipeline\" я так и не разобрался. То есть понятно, где, непонятно, почему так. Перепробовал всё. Не знаю, как у тебя, у меня минут пять каждый раз проект собирается. Можно кофе попить. Скоринг я включил. P.S. Может ещё вот решение, но я тоже не докурил: https://stackoverflow.com/questions/58825053/smote-function-not-working-in-make-pipeline</div>"
   ]
  },
  {
   "cell_type": "markdown",
   "metadata": {},
   "source": [
    "<div class=\"alert alert-info\">\n",
    "<h1> Комментарий ревьюера v3 <a class=\"tocSkip\"></h1>\n",
    "Как раз оно использовано выше, где я импортнул Pipeline и make_pipeline\n",
    "    \n",
    "А ошибка к тому, что надо хитрокриво задавать сетку параметров:  <a href='https://stackoverflow.com/questions/58815016/cross-validating-with-imblearn-pipeline-and-gridsearchcv'> чтиво</a>\n",
    "    \n",
    "    params = {\n",
    "    'n_estimators': [50, 100, 200],\n",
    "    'max_depth': [4, 6, 10, 12],\n",
    "    'random_state': [13]\n",
    "}\n",
    "\n",
    "    imba_pipeline = make_pipeline(SMOTE(random_state=42), \n",
    "                             RandomForestClassifier(n_estimators=100, random_state=13))\n",
    "\n",
    "\n",
    "    new_params = {'randomforestclassifier__' + key: params[key] for key in params}\n",
    "\n",
    "    grid_imba = GridSearchCV(imba_pipeline, param_grid=new_params, cv=2, scoring='f1',\n",
    "                        return_train_score=True)\n",
    "\n",
    "    grid_imba.fit(features_train, target_train)\n",
    "    \n",
    "    \n",
    "Так все отрабатывает. Вообще можно на обычных пайплайнах сделать sklearных --- свой класс создаем, который на fit ребалансировку делает\n",
    "</div>"
   ]
  },
  {
   "cell_type": "markdown",
   "metadata": {},
   "source": [
    "<div class=\"alert alert-warning\">\n",
    "<h1> Комментарий ревьюера v2 <a class=\"tocSkip\"></h1>\n",
    "Кстати, в гридсерч надо бы посылать scoring. Ведь мы под конкретную метрику оптимизируем\n",
    "</div>"
   ]
  },
  {
   "cell_type": "markdown",
   "metadata": {},
   "source": [
    "<div class=\"alert alert-info\">\n",
    "    <h1> Комментарий студента <a class=\"tocSkip\"></h1>\n",
    "    Нет. Отмучился сутки, никак не работает. Хотя в теории должен. То есть суть понял, что надо преобразовать к виду с двумя аргументами, разделёнными \"__\", но никак. Да вроде и строчка \"new_params = {'randomforestclassifier__' + key: params[key] for key in params}\" берёт эти параметры и добавляет. Но всё равно ошибка. Я даже не понимаю, это уже рабочий пример ты прислал (у меня не работает), или его надо привести к чему-то? Я приводил, всё равно ошибка.</div>"
   ]
  },
  {
   "cell_type": "code",
   "execution_count": null,
   "metadata": {},
   "outputs": [],
   "source": []
  },
  {
   "cell_type": "markdown",
   "metadata": {},
   "source": [
    "<div class=\"alert alert-danger\">\n",
    "<h1> Комментарий ревьюера v3 <a class=\"tocSkip\"></h1>\n",
    " param_grid=new_params  --- ты это забыл поправить))) У тебя было param_grid=param_grid\n",
    "</div>"
   ]
  },
  {
   "cell_type": "markdown",
   "metadata": {},
   "source": [
    "<div class=\"alert alert-info\">\n",
    "    <h1> Комментарий студента <a class=\"tocSkip\"></h1>\n",
    "    Да. Получилось. Это из-за того, что в случайном лесе я так выпендрился.</div>"
   ]
  },
  {
   "cell_type": "markdown",
   "metadata": {},
   "source": [
    "<div class=\"alert alert-info\">\n",
    "<h1> Комментарий ревьюера v4 <a class=\"tocSkip\"></h1>\n",
    "Круто, что разобрался! Удачи в следующих проектах!\n",
    "</div>"
   ]
  },
  {
   "cell_type": "code",
   "execution_count": 39,
   "metadata": {
    "scrolled": true
   },
   "outputs": [
    {
     "name": "stdout",
     "output_type": "stream",
     "text": [
      "Accuracy: 0.805\n",
      "F1: 0.5751633986928104\n"
     ]
    }
   ],
   "source": [
    "predictions = CV_rfc.best_estimator_.predict(features_valid)\n",
    "print(\"Accuracy:\", accuracy_score(predictions, target_valid))\n",
    "print(\"F1:\", f1_score(predictions, target_valid))"
   ]
  },
  {
   "cell_type": "markdown",
   "metadata": {},
   "source": [
    "Далее можно посмотреть на графике, не сломали ли мы распределение признаков на примере CreditScore (дисклеймер: не сломали, всё в порядке)."
   ]
  },
  {
   "cell_type": "code",
   "execution_count": 40,
   "metadata": {},
   "outputs": [
    {
     "data": {
      "text/plain": [
       "<matplotlib.legend.Legend at 0x7fdf8af4bb90>"
      ]
     },
     "execution_count": 40,
     "metadata": {},
     "output_type": "execute_result"
    },
    {
     "data": {
      "image/png": "[encoded data removed]",
      "text/plain": [
       "<Figure size 432x288 with 1 Axes>"
      ]
     },
     "metadata": {
      "needs_background": "light"
     },
     "output_type": "display_data"
    }
   ],
   "source": [
    "sns.distplot(features_train['CreditScore'], label=\"Before\")\n",
    "sns.distplot(features_upsampled_train['CreditScore'], label='After')\n",
    "plt.legend()"
   ]
  },
  {
   "cell_type": "markdown",
   "metadata": {},
   "source": [
    "Применяем <b>Downsampling</b>, создав функцию:"
   ]
  },
  {
   "cell_type": "code",
   "execution_count": 41,
   "metadata": {},
   "outputs": [],
   "source": [
    "def downsample(features, target, fraction):\n",
    "    features_zeros = features[target == 0]\n",
    "    features_ones = features[target == 1]\n",
    "    target_zeros = target[target == 0]\n",
    "    target_ones = target[target == 1]\n",
    "\n",
    "    features_downsampled = pd.concat(\n",
    "        [features_zeros.sample(frac=fraction, random_state=12345)] + [features_ones])\n",
    "    target_downsampled = pd.concat(\n",
    "        [target_zeros.sample(frac=fraction, random_state=12345)] + [target_ones])\n",
    "    \n",
    "    features_downsampled, target_downsampled = shuffle(\n",
    "        features_downsampled, target_downsampled, random_state=12345)\n",
    "    \n",
    "    return features_downsampled, target_downsampled"
   ]
  },
  {
   "cell_type": "code",
   "execution_count": 42,
   "metadata": {},
   "outputs": [],
   "source": [
    "features_downsampled_train, target_downsampled_train = downsample(features_train, target_train, fraction=0.5)"
   ]
  },
  {
   "cell_type": "code",
   "execution_count": 43,
   "metadata": {},
   "outputs": [
    {
     "data": {
      "text/plain": [
       "GridSearchCV(cv=5,\n",
       "             estimator=Pipeline(steps=[('smote', SMOTE(random_state=42)),\n",
       "                                       ('randomforestclassifier',\n",
       "                                        RandomForestClassifier(random_state=13))]),\n",
       "             param_grid={'randomforestclassifier__max_depth': [4, 6, 10, 12],\n",
       "                         'randomforestclassifier__n_estimators': [50, 100, 200],\n",
       "                         'randomforestclassifier__random_state': [13]},\n",
       "             scoring='recall')"
      ]
     },
     "execution_count": 43,
     "metadata": {},
     "output_type": "execute_result"
    }
   ],
   "source": [
    "CV_rfc = GridSearchCV(imba_pipeline, param_grid=new_params, cv=5, scoring='recall')\n",
    "#CV_rfc = GridSearchCV(estimator=rfc, param_grid=param_grid, cv=5)\n",
    "CV_rfc.fit(features_downsampled_train, target_downsampled_train)"
   ]
  },
  {
   "cell_type": "code",
   "execution_count": 44,
   "metadata": {},
   "outputs": [
    {
     "name": "stdout",
     "output_type": "stream",
     "text": [
      "Accuracy: 0.799\n",
      "F1: 0.5750528541226216\n"
     ]
    }
   ],
   "source": [
    "predictions = CV_rfc.best_estimator_.predict(features_valid)\n",
    "print(\"Accuracy:\", accuracy_score(predictions, target_valid))\n",
    "print(\"F1:\", f1_score(predictions, target_valid))"
   ]
  },
  {
   "cell_type": "markdown",
   "metadata": {},
   "source": [
    "Аналогично с downsampling: всё в порядке."
   ]
  },
  {
   "cell_type": "code",
   "execution_count": 45,
   "metadata": {},
   "outputs": [
    {
     "data": {
      "text/plain": [
       "<matplotlib.legend.Legend at 0x7fdf8ae1e5d0>"
      ]
     },
     "execution_count": 45,
     "metadata": {},
     "output_type": "execute_result"
    },
    {
     "data": {
      "image/png": "[encoded data removed]",
      "text/plain": [
       "<Figure size 432x288 with 1 Axes>"
      ]
     },
     "metadata": {
      "needs_background": "light"
     },
     "output_type": "display_data"
    }
   ],
   "source": [
    "sns.distplot(features_train['CreditScore'], label=\"Before\")\n",
    "sns.distplot(features_downsampled_train['CreditScore'], label='After')\n",
    "plt.legend()"
   ]
  },
  {
   "cell_type": "markdown",
   "metadata": {},
   "source": [
    "<div class=\"alert alert-info\">\n",
    "<h1> Комментарий ревьюера <a class=\"tocSkip\"></h1>\n",
    "Аналогично\n",
    "</div>"
   ]
  },
  {
   "cell_type": "markdown",
   "metadata": {},
   "source": [
    "## Тестирование модели"
   ]
  },
  {
   "cell_type": "code",
   "execution_count": 46,
   "metadata": {},
   "outputs": [
    {
     "name": "stdout",
     "output_type": "stream",
     "text": [
      "Accuracy: 0.8\n",
      "F1: 0.6296296296296297\n"
     ]
    }
   ],
   "source": [
    "predictions = CV_rfc.best_estimator_.predict(features_test)\n",
    "print(\"Accuracy:\", accuracy_score(predictions, target_test))\n",
    "print(\"F1:\", f1_score(predictions, target_test))"
   ]
  },
  {
   "cell_type": "markdown",
   "metadata": {},
   "source": [
    "<div class=\"alert alert-success\">\n",
    "<h1> Комментарий ревьюера <a class=\"tocSkip\"></h1>\n",
    "Бейзлайн успешно побит, поздравляю!</div>"
   ]
  },
  {
   "cell_type": "markdown",
   "metadata": {},
   "source": [
    "# Вывод"
   ]
  },
  {
   "cell_type": "markdown",
   "metadata": {},
   "source": [
    "1. Нами был проведён анализ полученных данных, с отсутствующими данными, которые нам удалось восстановить и выявить явный дисбаланс классов,\n",
    "2. Наилучшая модель до борьбы с дисбалансом оказалась модель случайного леса,\n",
    "3. Мы провели upsampling и downsampling положительного класса, благодаря чему удалось повысить f1 меру,\n",
    "4. Проверка на тестовой выборке подтвердила, что downsampling действительно помог справиться с дисбалансом классов и удалось увеличить метрику f1 до 63%."
   ]
  },
  {
   "cell_type": "markdown",
   "metadata": {},
   "source": [
    "<div class=\"alert alert-info\">\n",
    "<h1> Комментарий ревьюера <a class=\"tocSkip\"></h1>\n",
    "Круто было бы иметь сводную табличку с результатами)\n",
    "</div>"
   ]
  },
  {
   "cell_type": "markdown",
   "metadata": {},
   "source": [
    "<div class=\"alert alert-success\">\n",
    "<h2> Комментарий ревьюера</h2>\n",
    "\n",
    "Спасибо за хороший проект: \n",
    "\n",
    "- Видно, что приложены усилия\n",
    "\n",
    "- Код написан хорошо \n",
    "\n",
    "- Соблюдена структура проекта \n",
    "   \n",
    "- нужно немного доработать проект:\n",
    "    \n",
    "    - кросс-валидация\n",
    "    \n",
    "    - скейлер\n",
    "</div>"
   ]
  },
  {
   "cell_type": "markdown",
   "metadata": {},
   "source": [
    "## Чек-лист готовности проекта"
   ]
  },
  {
   "cell_type": "markdown",
   "metadata": {},
   "source": [
    "Поставьте 'x' в выполненных пунктах. Далее нажмите Shift+Enter."
   ]
  },
  {
   "cell_type": "markdown",
   "metadata": {},
   "source": [
    "- [x]  Jupyter Notebook открыт\n",
    "- [ ]  Весь код выполняется без ошибок\n",
    "- [ ]  Ячейки с кодом расположены в порядке исполнения\n",
    "- [ ]  Выполнен шаг 1: данные подготовлены\n",
    "- [ ]  Выполнен шаг 2: задача исследована\n",
    "    - [ ]  Исследован баланс классов\n",
    "    - [ ]  Изучены модели без учёта дисбаланса\n",
    "    - [ ]  Написаны выводы по результатам исследования\n",
    "- [ ]  Выполнен шаг 3: учтён дисбаланс\n",
    "    - [ ]  Применено несколько способов борьбы с дисбалансом\n",
    "    - [ ]  Написаны выводы по результатам исследования\n",
    "- [ ]  Выполнен шаг 4: проведено тестирование\n",
    "- [ ]  Удалось достичь *F1*-меры не менее 0.59\n",
    "- [ ]  Исследована метрика *AUC-ROC*"
   ]
  },
  {
   "cell_type": "code",
   "execution_count": null,
   "metadata": {},
   "outputs": [],
   "source": []
  }
 ],
 "metadata": {
  "ExecuteTimeLog": [
   {
    "duration": 1669,
    "start_time": "2021-07-28T10:47:12.422Z"
   },
   {
    "duration": 249,
    "start_time": "2021-07-28T10:47:14.094Z"
   },
   {
    "duration": 63,
    "start_time": "2021-07-28T10:47:15.257Z"
   },
   {
    "duration": 6,
    "start_time": "2021-07-28T10:52:26.828Z"
   },
   {
    "duration": 18,
    "start_time": "2021-07-28T10:52:28.244Z"
   },
   {
    "duration": 7,
    "start_time": "2021-07-28T10:54:16.963Z"
   },
   {
    "duration": 14,
    "start_time": "2021-07-28T10:55:54.812Z"
   },
   {
    "duration": 9,
    "start_time": "2021-07-28T10:55:55.258Z"
   },
   {
    "duration": 563,
    "start_time": "2021-07-28T10:59:05.036Z"
   },
   {
    "duration": 2214,
    "start_time": "2021-07-28T10:59:03.388Z"
   },
   {
    "duration": 424,
    "start_time": "2021-07-28T10:59:05.735Z"
   },
   {
    "duration": 1678,
    "start_time": "2021-07-28T10:59:11.956Z"
   },
   {
    "duration": 155,
    "start_time": "2021-07-28T10:59:13.637Z"
   },
   {
    "duration": 63,
    "start_time": "2021-07-28T10:59:13.798Z"
   },
   {
    "duration": 26,
    "start_time": "2021-07-28T10:59:13.864Z"
   },
   {
    "duration": 22,
    "start_time": "2021-07-28T10:59:13.893Z"
   },
   {
    "duration": 13,
    "start_time": "2021-07-28T10:59:13.918Z"
   },
   {
    "duration": 9,
    "start_time": "2021-07-28T10:59:13.935Z"
   },
   {
    "duration": 7,
    "start_time": "2021-07-28T10:59:13.986Z"
   },
   {
    "duration": 13,
    "start_time": "2021-07-28T10:59:13.995Z"
   },
   {
    "duration": 148,
    "start_time": "2021-07-28T10:59:14.011Z"
   },
   {
    "duration": 2214,
    "start_time": "2021-07-28T10:59:11.949Z"
   },
   {
    "duration": 2204,
    "start_time": "2021-07-28T10:59:11.961Z"
   },
   {
    "duration": 2205,
    "start_time": "2021-07-28T10:59:11.962Z"
   },
   {
    "duration": 2204,
    "start_time": "2021-07-28T10:59:11.965Z"
   },
   {
    "duration": 2205,
    "start_time": "2021-07-28T10:59:11.966Z"
   },
   {
    "duration": 1714,
    "start_time": "2021-07-28T10:59:33.242Z"
   },
   {
    "duration": 174,
    "start_time": "2021-07-28T10:59:34.959Z"
   },
   {
    "duration": 78,
    "start_time": "2021-07-28T10:59:35.136Z"
   },
   {
    "duration": 6,
    "start_time": "2021-07-28T10:59:35.217Z"
   },
   {
    "duration": 35,
    "start_time": "2021-07-28T10:59:35.226Z"
   },
   {
    "duration": 31,
    "start_time": "2021-07-28T10:59:35.264Z"
   },
   {
    "duration": 11,
    "start_time": "2021-07-28T10:59:35.297Z"
   },
   {
    "duration": 11,
    "start_time": "2021-07-28T10:59:35.311Z"
   },
   {
    "duration": 18,
    "start_time": "2021-07-28T10:59:35.326Z"
   },
   {
    "duration": 47,
    "start_time": "2021-07-28T10:59:35.347Z"
   },
   {
    "duration": 15,
    "start_time": "2021-07-28T10:59:35.398Z"
   },
   {
    "duration": 537,
    "start_time": "2021-07-28T10:59:35.416Z"
   },
   {
    "duration": 6,
    "start_time": "2021-07-28T11:13:27.636Z"
   },
   {
    "duration": 609,
    "start_time": "2021-07-28T11:13:28.499Z"
   },
   {
    "duration": 420,
    "start_time": "2021-07-28T11:13:29.406Z"
   },
   {
    "duration": 7,
    "start_time": "2021-07-28T11:13:54.938Z"
   },
   {
    "duration": 16,
    "start_time": "2021-07-28T11:13:55.649Z"
   },
   {
    "duration": 7,
    "start_time": "2021-07-28T11:13:57.028Z"
   },
   {
    "duration": 1797,
    "start_time": "2021-07-28T11:18:56.812Z"
   },
   {
    "duration": 204,
    "start_time": "2021-07-28T11:18:58.612Z"
   },
   {
    "duration": 85,
    "start_time": "2021-07-28T11:18:58.820Z"
   },
   {
    "duration": 7,
    "start_time": "2021-07-28T11:18:58.908Z"
   },
   {
    "duration": 60,
    "start_time": "2021-07-28T11:18:58.918Z"
   },
   {
    "duration": 18,
    "start_time": "2021-07-28T11:18:58.981Z"
   },
   {
    "duration": 12,
    "start_time": "2021-07-28T11:18:59.002Z"
   },
   {
    "duration": 24,
    "start_time": "2021-07-28T11:18:59.019Z"
   },
   {
    "duration": 47,
    "start_time": "2021-07-28T11:18:59.046Z"
   },
   {
    "duration": 9,
    "start_time": "2021-07-28T11:18:59.096Z"
   },
   {
    "duration": 37,
    "start_time": "2021-07-28T11:18:59.107Z"
   },
   {
    "duration": 45,
    "start_time": "2021-07-28T11:18:59.149Z"
   },
   {
    "duration": 941,
    "start_time": "2021-07-28T11:18:59.197Z"
   },
   {
    "duration": 2225,
    "start_time": "2021-07-28T11:18:57.916Z"
   },
   {
    "duration": 2223,
    "start_time": "2021-07-28T11:18:57.919Z"
   },
   {
    "duration": 1632,
    "start_time": "2021-07-28T11:20:30.830Z"
   },
   {
    "duration": 187,
    "start_time": "2021-07-28T11:20:32.465Z"
   },
   {
    "duration": 73,
    "start_time": "2021-07-28T11:20:32.655Z"
   },
   {
    "duration": 6,
    "start_time": "2021-07-28T11:20:32.731Z"
   },
   {
    "duration": 33,
    "start_time": "2021-07-28T11:20:32.739Z"
   },
   {
    "duration": 35,
    "start_time": "2021-07-28T11:20:32.774Z"
   },
   {
    "duration": 21,
    "start_time": "2021-07-28T11:20:32.812Z"
   },
   {
    "duration": 17,
    "start_time": "2021-07-28T11:20:32.837Z"
   },
   {
    "duration": 49,
    "start_time": "2021-07-28T11:20:32.857Z"
   },
   {
    "duration": 22,
    "start_time": "2021-07-28T11:20:32.909Z"
   },
   {
    "duration": 21,
    "start_time": "2021-07-28T11:20:32.933Z"
   },
   {
    "duration": 39,
    "start_time": "2021-07-28T11:20:32.957Z"
   },
   {
    "duration": 640,
    "start_time": "2021-07-28T11:20:33.009Z"
   },
   {
    "duration": 2228,
    "start_time": "2021-07-28T11:20:31.424Z"
   },
   {
    "duration": 2228,
    "start_time": "2021-07-28T11:20:31.426Z"
   },
   {
    "duration": 2228,
    "start_time": "2021-07-28T11:20:31.428Z"
   },
   {
    "duration": 435,
    "start_time": "2021-07-28T11:30:09.833Z"
   },
   {
    "duration": 1642,
    "start_time": "2021-07-28T11:30:16.114Z"
   },
   {
    "duration": 168,
    "start_time": "2021-07-28T11:30:17.759Z"
   },
   {
    "duration": 78,
    "start_time": "2021-07-28T11:30:17.930Z"
   },
   {
    "duration": 7,
    "start_time": "2021-07-28T11:30:18.012Z"
   },
   {
    "duration": 26,
    "start_time": "2021-07-28T11:30:18.021Z"
   },
   {
    "duration": 46,
    "start_time": "2021-07-28T11:30:18.051Z"
   },
   {
    "duration": 9,
    "start_time": "2021-07-28T11:30:18.101Z"
   },
   {
    "duration": 8,
    "start_time": "2021-07-28T11:30:18.113Z"
   },
   {
    "duration": 32,
    "start_time": "2021-07-28T11:30:18.125Z"
   },
   {
    "duration": 7,
    "start_time": "2021-07-28T11:30:18.161Z"
   },
   {
    "duration": 616,
    "start_time": "2021-07-28T11:30:18.187Z"
   },
   {
    "duration": 2235,
    "start_time": "2021-07-28T11:30:16.571Z"
   },
   {
    "duration": 2229,
    "start_time": "2021-07-28T11:30:16.579Z"
   },
   {
    "duration": 2229,
    "start_time": "2021-07-28T11:30:16.581Z"
   },
   {
    "duration": 2229,
    "start_time": "2021-07-28T11:30:16.582Z"
   },
   {
    "duration": 2230,
    "start_time": "2021-07-28T11:30:16.583Z"
   },
   {
    "duration": 14,
    "start_time": "2021-07-28T11:30:49.223Z"
   },
   {
    "duration": 421,
    "start_time": "2021-07-28T11:30:51.888Z"
   },
   {
    "duration": 1648,
    "start_time": "2021-07-28T11:31:15.259Z"
   },
   {
    "duration": 169,
    "start_time": "2021-07-28T11:31:16.909Z"
   },
   {
    "duration": 64,
    "start_time": "2021-07-28T11:31:17.081Z"
   },
   {
    "duration": 6,
    "start_time": "2021-07-28T11:31:17.148Z"
   },
   {
    "duration": 41,
    "start_time": "2021-07-28T11:31:17.156Z"
   },
   {
    "duration": 12,
    "start_time": "2021-07-28T11:31:17.202Z"
   },
   {
    "duration": 15,
    "start_time": "2021-07-28T11:31:17.216Z"
   },
   {
    "duration": 5,
    "start_time": "2021-07-28T11:31:17.235Z"
   },
   {
    "duration": 15,
    "start_time": "2021-07-28T11:31:17.243Z"
   },
   {
    "duration": 38,
    "start_time": "2021-07-28T11:31:17.261Z"
   },
   {
    "duration": 14,
    "start_time": "2021-07-28T11:31:17.302Z"
   },
   {
    "duration": 17,
    "start_time": "2021-07-28T11:31:17.319Z"
   },
   {
    "duration": 573,
    "start_time": "2021-07-28T11:31:17.338Z"
   },
   {
    "duration": 2233,
    "start_time": "2021-07-28T11:31:15.681Z"
   },
   {
    "duration": 2232,
    "start_time": "2021-07-28T11:31:15.683Z"
   },
   {
    "duration": 2232,
    "start_time": "2021-07-28T11:31:15.685Z"
   },
   {
    "duration": 7,
    "start_time": "2021-07-28T11:31:30.100Z"
   },
   {
    "duration": 8,
    "start_time": "2021-07-28T11:31:33.427Z"
   },
   {
    "duration": 8,
    "start_time": "2021-07-28T11:31:33.833Z"
   },
   {
    "duration": 4,
    "start_time": "2021-07-28T11:31:34.244Z"
   },
   {
    "duration": 1612,
    "start_time": "2021-07-28T11:31:41.414Z"
   },
   {
    "duration": 164,
    "start_time": "2021-07-28T11:31:43.028Z"
   },
   {
    "duration": 64,
    "start_time": "2021-07-28T11:31:43.197Z"
   },
   {
    "duration": 23,
    "start_time": "2021-07-28T11:31:43.264Z"
   },
   {
    "duration": 19,
    "start_time": "2021-07-28T11:31:43.290Z"
   },
   {
    "duration": 14,
    "start_time": "2021-07-28T11:31:43.311Z"
   },
   {
    "duration": 11,
    "start_time": "2021-07-28T11:31:43.328Z"
   },
   {
    "duration": 52,
    "start_time": "2021-07-28T11:31:43.344Z"
   },
   {
    "duration": 18,
    "start_time": "2021-07-28T11:31:43.399Z"
   },
   {
    "duration": 7,
    "start_time": "2021-07-28T11:31:43.420Z"
   },
   {
    "duration": 18,
    "start_time": "2021-07-28T11:31:43.429Z"
   },
   {
    "duration": 41,
    "start_time": "2021-07-28T11:31:43.450Z"
   },
   {
    "duration": 7,
    "start_time": "2021-07-28T11:31:43.493Z"
   },
   {
    "duration": 12,
    "start_time": "2021-07-28T11:31:43.502Z"
   },
   {
    "duration": 17,
    "start_time": "2021-07-28T11:31:43.516Z"
   },
   {
    "duration": 8,
    "start_time": "2021-07-28T11:31:43.535Z"
   },
   {
    "duration": 5,
    "start_time": "2021-07-28T11:34:00.545Z"
   },
   {
    "duration": 656,
    "start_time": "2021-07-28T11:34:02.706Z"
   },
   {
    "duration": 1734,
    "start_time": "2021-07-28T11:34:58.813Z"
   },
   {
    "duration": 1183,
    "start_time": "2021-07-28T11:35:00.550Z"
   },
   {
    "duration": 83,
    "start_time": "2021-07-28T11:35:01.736Z"
   },
   {
    "duration": 7,
    "start_time": "2021-07-28T11:35:01.823Z"
   },
   {
    "duration": 48,
    "start_time": "2021-07-28T11:35:01.833Z"
   },
   {
    "duration": 40,
    "start_time": "2021-07-28T11:35:01.884Z"
   },
   {
    "duration": 26,
    "start_time": "2021-07-28T11:35:01.927Z"
   },
   {
    "duration": 34,
    "start_time": "2021-07-28T11:35:01.958Z"
   },
   {
    "duration": 52,
    "start_time": "2021-07-28T11:35:01.996Z"
   },
   {
    "duration": 26,
    "start_time": "2021-07-28T11:35:02.051Z"
   },
   {
    "duration": 34,
    "start_time": "2021-07-28T11:35:02.079Z"
   },
   {
    "duration": 41,
    "start_time": "2021-07-28T11:35:02.116Z"
   },
   {
    "duration": 22,
    "start_time": "2021-07-28T11:35:02.159Z"
   },
   {
    "duration": 37,
    "start_time": "2021-07-28T11:35:02.184Z"
   },
   {
    "duration": 44,
    "start_time": "2021-07-28T11:35:02.223Z"
   },
   {
    "duration": 57,
    "start_time": "2021-07-28T11:35:02.270Z"
   },
   {
    "duration": 165,
    "start_time": "2021-07-28T11:35:02.330Z"
   },
   {
    "duration": 1841,
    "start_time": "2021-07-28T11:36:24.881Z"
   },
   {
    "duration": 162,
    "start_time": "2021-07-28T11:36:26.726Z"
   },
   {
    "duration": 67,
    "start_time": "2021-07-28T11:36:26.891Z"
   },
   {
    "duration": 24,
    "start_time": "2021-07-28T11:36:26.961Z"
   },
   {
    "duration": 28,
    "start_time": "2021-07-28T11:36:26.990Z"
   },
   {
    "duration": 12,
    "start_time": "2021-07-28T11:36:27.020Z"
   },
   {
    "duration": 12,
    "start_time": "2021-07-28T11:36:27.034Z"
   },
   {
    "duration": 46,
    "start_time": "2021-07-28T11:36:27.050Z"
   },
   {
    "duration": 23,
    "start_time": "2021-07-28T11:36:27.099Z"
   },
   {
    "duration": 8,
    "start_time": "2021-07-28T11:36:27.124Z"
   },
   {
    "duration": 21,
    "start_time": "2021-07-28T11:36:27.135Z"
   },
   {
    "duration": 45,
    "start_time": "2021-07-28T11:36:27.159Z"
   },
   {
    "duration": 14,
    "start_time": "2021-07-28T11:36:27.207Z"
   },
   {
    "duration": 16,
    "start_time": "2021-07-28T11:36:27.225Z"
   },
   {
    "duration": 50,
    "start_time": "2021-07-28T11:36:27.245Z"
   },
   {
    "duration": 4,
    "start_time": "2021-07-28T11:36:27.298Z"
   },
   {
    "duration": 113,
    "start_time": "2021-07-28T11:36:27.306Z"
   },
   {
    "duration": 15,
    "start_time": "2021-07-28T11:36:27.489Z"
   },
   {
    "duration": 45526,
    "start_time": "2021-07-28T11:36:27.508Z"
   },
   {
    "duration": 19,
    "start_time": "2021-07-28T11:37:13.037Z"
   },
   {
    "duration": 1635,
    "start_time": "2021-07-28T11:37:17.452Z"
   },
   {
    "duration": 165,
    "start_time": "2021-07-28T11:37:19.095Z"
   },
   {
    "duration": 69,
    "start_time": "2021-07-28T11:37:19.264Z"
   },
   {
    "duration": 5,
    "start_time": "2021-07-28T11:37:19.336Z"
   },
   {
    "duration": 20,
    "start_time": "2021-07-28T11:37:19.344Z"
   },
   {
    "duration": 17,
    "start_time": "2021-07-28T11:37:19.385Z"
   },
   {
    "duration": 12,
    "start_time": "2021-07-28T11:37:19.406Z"
   },
   {
    "duration": 10,
    "start_time": "2021-07-28T11:37:19.422Z"
   },
   {
    "duration": 16,
    "start_time": "2021-07-28T11:37:19.434Z"
   },
   {
    "duration": 6,
    "start_time": "2021-07-28T11:37:19.452Z"
   },
   {
    "duration": 39,
    "start_time": "2021-07-28T11:37:19.460Z"
   },
   {
    "duration": 19,
    "start_time": "2021-07-28T11:37:19.501Z"
   },
   {
    "duration": 10,
    "start_time": "2021-07-28T11:37:19.522Z"
   },
   {
    "duration": 20,
    "start_time": "2021-07-28T11:37:19.534Z"
   },
   {
    "duration": 7,
    "start_time": "2021-07-28T11:37:19.556Z"
   },
   {
    "duration": 30,
    "start_time": "2021-07-28T11:37:19.566Z"
   },
   {
    "duration": 103,
    "start_time": "2021-07-28T11:37:19.599Z"
   },
   {
    "duration": 76,
    "start_time": "2021-07-28T11:37:19.710Z"
   },
   {
    "duration": 43078,
    "start_time": "2021-07-28T11:37:19.789Z"
   },
   {
    "duration": 50,
    "start_time": "2021-07-28T11:38:02.870Z"
   },
   {
    "duration": 1650,
    "start_time": "2021-07-28T11:38:14.493Z"
   },
   {
    "duration": 183,
    "start_time": "2021-07-28T11:38:16.147Z"
   },
   {
    "duration": 73,
    "start_time": "2021-07-28T11:38:16.333Z"
   },
   {
    "duration": 7,
    "start_time": "2021-07-28T11:38:16.409Z"
   },
   {
    "duration": 24,
    "start_time": "2021-07-28T11:38:16.419Z"
   },
   {
    "duration": 14,
    "start_time": "2021-07-28T11:38:16.446Z"
   },
   {
    "duration": 21,
    "start_time": "2021-07-28T11:38:16.486Z"
   },
   {
    "duration": 8,
    "start_time": "2021-07-28T11:38:16.511Z"
   },
   {
    "duration": 14,
    "start_time": "2021-07-28T11:38:16.522Z"
   },
   {
    "duration": 6,
    "start_time": "2021-07-28T11:38:16.538Z"
   },
   {
    "duration": 45,
    "start_time": "2021-07-28T11:38:16.547Z"
   },
   {
    "duration": 18,
    "start_time": "2021-07-28T11:38:16.598Z"
   },
   {
    "duration": 6,
    "start_time": "2021-07-28T11:38:16.619Z"
   },
   {
    "duration": 13,
    "start_time": "2021-07-28T11:38:16.627Z"
   },
   {
    "duration": 11,
    "start_time": "2021-07-28T11:38:16.642Z"
   },
   {
    "duration": 39,
    "start_time": "2021-07-28T11:38:16.655Z"
   },
   {
    "duration": 107,
    "start_time": "2021-07-28T11:38:16.697Z"
   },
   {
    "duration": 673,
    "start_time": "2021-07-28T11:38:16.810Z"
   },
   {
    "duration": 2250,
    "start_time": "2021-07-28T11:38:15.239Z"
   },
   {
    "duration": 2249,
    "start_time": "2021-07-28T11:38:15.241Z"
   },
   {
    "duration": 1640,
    "start_time": "2021-07-28T11:38:32.421Z"
   },
   {
    "duration": 195,
    "start_time": "2021-07-28T11:38:34.063Z"
   },
   {
    "duration": 69,
    "start_time": "2021-07-28T11:38:34.262Z"
   },
   {
    "duration": 5,
    "start_time": "2021-07-28T11:38:34.335Z"
   },
   {
    "duration": 23,
    "start_time": "2021-07-28T11:38:34.343Z"
   },
   {
    "duration": 26,
    "start_time": "2021-07-28T11:38:34.388Z"
   },
   {
    "duration": 10,
    "start_time": "2021-07-28T11:38:34.417Z"
   },
   {
    "duration": 5,
    "start_time": "2021-07-28T11:38:34.433Z"
   },
   {
    "duration": 19,
    "start_time": "2021-07-28T11:38:34.441Z"
   },
   {
    "duration": 18,
    "start_time": "2021-07-28T11:38:34.486Z"
   },
   {
    "duration": 18,
    "start_time": "2021-07-28T11:38:34.506Z"
   },
   {
    "duration": 13,
    "start_time": "2021-07-28T11:38:34.526Z"
   },
   {
    "duration": 5,
    "start_time": "2021-07-28T11:38:34.542Z"
   },
   {
    "duration": 41,
    "start_time": "2021-07-28T11:38:34.549Z"
   },
   {
    "duration": 14,
    "start_time": "2021-07-28T11:38:34.592Z"
   },
   {
    "duration": 5,
    "start_time": "2021-07-28T11:38:34.609Z"
   },
   {
    "duration": 92,
    "start_time": "2021-07-28T11:38:34.616Z"
   },
   {
    "duration": 79,
    "start_time": "2021-07-28T11:38:34.711Z"
   },
   {
    "duration": 41997,
    "start_time": "2021-07-28T11:38:34.793Z"
   },
   {
    "duration": 22,
    "start_time": "2021-07-28T11:39:16.793Z"
   },
   {
    "duration": 1701,
    "start_time": "2021-07-28T11:39:28.382Z"
   },
   {
    "duration": 172,
    "start_time": "2021-07-28T11:39:30.086Z"
   },
   {
    "duration": 72,
    "start_time": "2021-07-28T11:39:30.260Z"
   },
   {
    "duration": 6,
    "start_time": "2021-07-28T11:39:30.335Z"
   },
   {
    "duration": 36,
    "start_time": "2021-07-28T11:39:30.343Z"
   },
   {
    "duration": 30,
    "start_time": "2021-07-28T11:39:30.381Z"
   },
   {
    "duration": 8,
    "start_time": "2021-07-28T11:39:30.416Z"
   },
   {
    "duration": 12,
    "start_time": "2021-07-28T11:39:30.428Z"
   },
   {
    "duration": 26,
    "start_time": "2021-07-28T11:39:30.443Z"
   },
   {
    "duration": 19,
    "start_time": "2021-07-28T11:39:30.471Z"
   },
   {
    "duration": 19,
    "start_time": "2021-07-28T11:39:30.497Z"
   },
   {
    "duration": 27,
    "start_time": "2021-07-28T11:39:30.519Z"
   },
   {
    "duration": 7,
    "start_time": "2021-07-28T11:39:30.549Z"
   },
   {
    "duration": 22,
    "start_time": "2021-07-28T11:39:30.558Z"
   },
   {
    "duration": 31,
    "start_time": "2021-07-28T11:39:30.588Z"
   },
   {
    "duration": 7,
    "start_time": "2021-07-28T11:39:30.621Z"
   },
   {
    "duration": 95,
    "start_time": "2021-07-28T11:39:30.631Z"
   },
   {
    "duration": 30,
    "start_time": "2021-07-28T11:39:30.791Z"
   },
   {
    "duration": 1637,
    "start_time": "2021-07-28T11:39:58.691Z"
   },
   {
    "duration": 167,
    "start_time": "2021-07-28T11:40:00.331Z"
   },
   {
    "duration": 64,
    "start_time": "2021-07-28T11:40:00.501Z"
   },
   {
    "duration": 20,
    "start_time": "2021-07-28T11:40:00.569Z"
   },
   {
    "duration": 24,
    "start_time": "2021-07-28T11:40:00.594Z"
   },
   {
    "duration": 11,
    "start_time": "2021-07-28T11:40:00.620Z"
   },
   {
    "duration": 39,
    "start_time": "2021-07-28T11:40:00.634Z"
   },
   {
    "duration": 20,
    "start_time": "2021-07-28T11:40:00.677Z"
   },
   {
    "duration": 29,
    "start_time": "2021-07-28T11:40:00.700Z"
   },
   {
    "duration": 17,
    "start_time": "2021-07-28T11:40:00.731Z"
   },
   {
    "duration": 58,
    "start_time": "2021-07-28T11:40:00.751Z"
   },
   {
    "duration": 23,
    "start_time": "2021-07-28T11:40:00.812Z"
   },
   {
    "duration": 9,
    "start_time": "2021-07-28T11:40:00.838Z"
   },
   {
    "duration": 11,
    "start_time": "2021-07-28T11:40:00.850Z"
   },
   {
    "duration": 18,
    "start_time": "2021-07-28T11:40:00.863Z"
   },
   {
    "duration": 15,
    "start_time": "2021-07-28T11:40:00.884Z"
   },
   {
    "duration": 4415,
    "start_time": "2021-07-28T11:40:00.905Z"
   },
   {
    "duration": 17,
    "start_time": "2021-07-28T11:40:05.389Z"
   },
   {
    "duration": 1653,
    "start_time": "2021-07-28T11:40:23.078Z"
   },
   {
    "duration": 177,
    "start_time": "2021-07-28T11:40:24.734Z"
   },
   {
    "duration": 81,
    "start_time": "2021-07-28T11:40:24.914Z"
   },
   {
    "duration": 7,
    "start_time": "2021-07-28T11:40:24.997Z"
   },
   {
    "duration": 37,
    "start_time": "2021-07-28T11:40:25.007Z"
   },
   {
    "duration": 17,
    "start_time": "2021-07-28T11:40:25.048Z"
   },
   {
    "duration": 15,
    "start_time": "2021-07-28T11:40:25.085Z"
   },
   {
    "duration": 8,
    "start_time": "2021-07-28T11:40:25.106Z"
   },
   {
    "duration": 15,
    "start_time": "2021-07-28T11:40:25.119Z"
   },
   {
    "duration": 7,
    "start_time": "2021-07-28T11:40:25.137Z"
   },
   {
    "duration": 66,
    "start_time": "2021-07-28T11:40:25.146Z"
   },
   {
    "duration": 21,
    "start_time": "2021-07-28T11:40:25.215Z"
   },
   {
    "duration": 15,
    "start_time": "2021-07-28T11:40:25.239Z"
   },
   {
    "duration": 16,
    "start_time": "2021-07-28T11:40:25.257Z"
   },
   {
    "duration": 29,
    "start_time": "2021-07-28T11:40:25.276Z"
   },
   {
    "duration": 16,
    "start_time": "2021-07-28T11:40:25.308Z"
   },
   {
    "duration": 4289,
    "start_time": "2021-07-28T11:40:25.326Z"
   },
   {
    "duration": 88,
    "start_time": "2021-07-28T11:40:29.619Z"
   },
   {
    "duration": 41603,
    "start_time": "2021-07-28T11:40:29.787Z"
   },
   {
    "duration": 31,
    "start_time": "2021-07-28T11:41:11.396Z"
   },
   {
    "duration": 1777,
    "start_time": "2021-07-28T11:41:17.811Z"
   },
   {
    "duration": 172,
    "start_time": "2021-07-28T11:41:19.595Z"
   },
   {
    "duration": 71,
    "start_time": "2021-07-28T11:41:19.769Z"
   },
   {
    "duration": 6,
    "start_time": "2021-07-28T11:41:19.843Z"
   },
   {
    "duration": 48,
    "start_time": "2021-07-28T11:41:19.852Z"
   },
   {
    "duration": 20,
    "start_time": "2021-07-28T11:41:19.905Z"
   },
   {
    "duration": 11,
    "start_time": "2021-07-28T11:41:19.929Z"
   },
   {
    "duration": 6,
    "start_time": "2021-07-28T11:41:19.943Z"
   },
   {
    "duration": 60,
    "start_time": "2021-07-28T11:41:19.952Z"
   },
   {
    "duration": 7,
    "start_time": "2021-07-28T11:41:20.018Z"
   },
   {
    "duration": 21,
    "start_time": "2021-07-28T11:41:20.028Z"
   },
   {
    "duration": 20,
    "start_time": "2021-07-28T11:41:20.051Z"
   },
   {
    "duration": 22,
    "start_time": "2021-07-28T11:41:20.074Z"
   },
   {
    "duration": 33,
    "start_time": "2021-07-28T11:41:20.098Z"
   },
   {
    "duration": 16,
    "start_time": "2021-07-28T11:41:20.133Z"
   },
   {
    "duration": 14,
    "start_time": "2021-07-28T11:41:20.152Z"
   },
   {
    "duration": 15130,
    "start_time": "2021-07-28T11:41:20.168Z"
   },
   {
    "duration": 10,
    "start_time": "2021-07-28T11:41:35.303Z"
   },
   {
    "duration": 40739,
    "start_time": "2021-07-28T11:41:35.322Z"
   },
   {
    "duration": 45,
    "start_time": "2021-07-28T11:42:16.067Z"
   },
   {
    "duration": 1682,
    "start_time": "2021-07-28T11:47:54.460Z"
   },
   {
    "duration": 251,
    "start_time": "2021-07-28T11:47:56.144Z"
   },
   {
    "duration": 67,
    "start_time": "2021-07-28T11:47:56.399Z"
   },
   {
    "duration": 23,
    "start_time": "2021-07-28T11:47:56.469Z"
   },
   {
    "duration": 25,
    "start_time": "2021-07-28T11:47:56.495Z"
   },
   {
    "duration": 12,
    "start_time": "2021-07-28T11:47:56.523Z"
   },
   {
    "duration": 8,
    "start_time": "2021-07-28T11:47:56.538Z"
   },
   {
    "duration": 43,
    "start_time": "2021-07-28T11:47:56.550Z"
   },
   {
    "duration": 28,
    "start_time": "2021-07-28T11:47:56.596Z"
   },
   {
    "duration": 7,
    "start_time": "2021-07-28T11:47:56.627Z"
   },
   {
    "duration": 14,
    "start_time": "2021-07-28T11:47:56.637Z"
   },
   {
    "duration": 15,
    "start_time": "2021-07-28T11:47:56.654Z"
   },
   {
    "duration": 21,
    "start_time": "2021-07-28T11:47:56.671Z"
   },
   {
    "duration": 25,
    "start_time": "2021-07-28T11:47:56.694Z"
   },
   {
    "duration": 7,
    "start_time": "2021-07-28T11:47:56.722Z"
   },
   {
    "duration": 9,
    "start_time": "2021-07-28T11:47:56.731Z"
   },
   {
    "duration": 13344,
    "start_time": "2021-07-28T11:47:56.743Z"
   },
   {
    "duration": 5,
    "start_time": "2021-07-28T11:48:10.089Z"
   },
   {
    "duration": 1674,
    "start_time": "2021-07-28T11:48:45.708Z"
   },
   {
    "duration": 164,
    "start_time": "2021-07-28T11:48:47.389Z"
   },
   {
    "duration": 68,
    "start_time": "2021-07-28T11:48:47.556Z"
   },
   {
    "duration": 6,
    "start_time": "2021-07-28T11:48:47.627Z"
   },
   {
    "duration": 20,
    "start_time": "2021-07-28T11:48:47.635Z"
   },
   {
    "duration": 40,
    "start_time": "2021-07-28T11:48:47.657Z"
   },
   {
    "duration": 16,
    "start_time": "2021-07-28T11:48:47.701Z"
   },
   {
    "duration": 5,
    "start_time": "2021-07-28T11:48:47.721Z"
   },
   {
    "duration": 20,
    "start_time": "2021-07-28T11:48:47.729Z"
   },
   {
    "duration": 7,
    "start_time": "2021-07-28T11:48:47.751Z"
   },
   {
    "duration": 40,
    "start_time": "2021-07-28T11:48:47.761Z"
   },
   {
    "duration": 16,
    "start_time": "2021-07-28T11:48:47.808Z"
   },
   {
    "duration": 5,
    "start_time": "2021-07-28T11:48:47.827Z"
   },
   {
    "duration": 12,
    "start_time": "2021-07-28T11:48:47.834Z"
   },
   {
    "duration": 6,
    "start_time": "2021-07-28T11:48:47.849Z"
   },
   {
    "duration": 31,
    "start_time": "2021-07-28T11:48:47.858Z"
   },
   {
    "duration": 11701,
    "start_time": "2021-07-28T11:48:47.898Z"
   },
   {
    "duration": 86,
    "start_time": "2021-07-28T11:48:59.603Z"
   },
   {
    "duration": 41883,
    "start_time": "2021-07-28T11:48:59.692Z"
   },
   {
    "duration": 36,
    "start_time": "2021-07-28T11:49:41.577Z"
   },
   {
    "duration": 5,
    "start_time": "2021-07-28T11:49:41.616Z"
   },
   {
    "duration": 23,
    "start_time": "2021-07-28T11:49:41.624Z"
   },
   {
    "duration": 1729,
    "start_time": "2021-07-28T11:50:37.342Z"
   },
   {
    "duration": 168,
    "start_time": "2021-07-28T11:50:39.074Z"
   },
   {
    "duration": 85,
    "start_time": "2021-07-28T11:50:39.245Z"
   },
   {
    "duration": 6,
    "start_time": "2021-07-28T11:50:39.332Z"
   },
   {
    "duration": 29,
    "start_time": "2021-07-28T11:50:39.342Z"
   },
   {
    "duration": 37,
    "start_time": "2021-07-28T11:50:39.375Z"
   },
   {
    "duration": 10,
    "start_time": "2021-07-28T11:50:39.415Z"
   },
   {
    "duration": 8,
    "start_time": "2021-07-28T11:50:39.429Z"
   },
   {
    "duration": 19,
    "start_time": "2021-07-28T11:50:39.441Z"
   },
   {
    "duration": 32,
    "start_time": "2021-07-28T11:50:39.463Z"
   },
   {
    "duration": 18,
    "start_time": "2021-07-28T11:50:39.501Z"
   },
   {
    "duration": 16,
    "start_time": "2021-07-28T11:50:39.522Z"
   },
   {
    "duration": 5,
    "start_time": "2021-07-28T11:50:39.541Z"
   },
   {
    "duration": 39,
    "start_time": "2021-07-28T11:50:39.549Z"
   },
   {
    "duration": 11,
    "start_time": "2021-07-28T11:50:39.591Z"
   },
   {
    "duration": 6,
    "start_time": "2021-07-28T11:50:39.607Z"
   },
   {
    "duration": 13683,
    "start_time": "2021-07-28T11:50:39.616Z"
   },
   {
    "duration": 10,
    "start_time": "2021-07-28T11:50:53.305Z"
   },
   {
    "duration": 42176,
    "start_time": "2021-07-28T11:50:53.319Z"
   },
   {
    "duration": 32,
    "start_time": "2021-07-28T11:51:35.498Z"
   },
   {
    "duration": 6,
    "start_time": "2021-07-28T11:51:35.533Z"
   },
   {
    "duration": 57,
    "start_time": "2021-07-28T11:51:35.542Z"
   },
   {
    "duration": 1750,
    "start_time": "2021-07-28T11:52:17.897Z"
   },
   {
    "duration": 173,
    "start_time": "2021-07-28T11:52:19.650Z"
   },
   {
    "duration": 82,
    "start_time": "2021-07-28T11:52:19.826Z"
   },
   {
    "duration": 6,
    "start_time": "2021-07-28T11:52:19.912Z"
   },
   {
    "duration": 21,
    "start_time": "2021-07-28T11:52:19.920Z"
   },
   {
    "duration": 12,
    "start_time": "2021-07-28T11:52:19.944Z"
   },
   {
    "duration": 47,
    "start_time": "2021-07-28T11:52:19.958Z"
   },
   {
    "duration": 6,
    "start_time": "2021-07-28T11:52:20.012Z"
   },
   {
    "duration": 19,
    "start_time": "2021-07-28T11:52:20.021Z"
   },
   {
    "duration": 7,
    "start_time": "2021-07-28T11:52:20.042Z"
   },
   {
    "duration": 42,
    "start_time": "2021-07-28T11:52:20.052Z"
   },
   {
    "duration": 24,
    "start_time": "2021-07-28T11:52:20.096Z"
   },
   {
    "duration": 6,
    "start_time": "2021-07-28T11:52:20.122Z"
   },
   {
    "duration": 23,
    "start_time": "2021-07-28T11:52:20.131Z"
   },
   {
    "duration": 10,
    "start_time": "2021-07-28T11:52:20.156Z"
   },
   {
    "duration": 18,
    "start_time": "2021-07-28T11:52:20.168Z"
   },
   {
    "duration": 11721,
    "start_time": "2021-07-28T11:52:20.189Z"
   },
   {
    "duration": 75,
    "start_time": "2021-07-28T11:52:31.913Z"
   },
   {
    "duration": 41656,
    "start_time": "2021-07-28T11:52:31.995Z"
   },
   {
    "duration": 46,
    "start_time": "2021-07-28T11:53:13.654Z"
   },
   {
    "duration": 7,
    "start_time": "2021-07-28T11:53:13.703Z"
   },
   {
    "duration": 48,
    "start_time": "2021-07-28T11:53:13.712Z"
   },
   {
    "duration": 63172,
    "start_time": "2021-07-28T11:53:13.764Z"
   },
   {
    "duration": 53,
    "start_time": "2021-07-28T11:54:16.940Z"
   },
   {
    "duration": 12,
    "start_time": "2021-07-28T11:54:16.997Z"
   },
   {
    "duration": 33,
    "start_time": "2021-07-28T11:54:17.012Z"
   },
   {
    "duration": 29033,
    "start_time": "2021-07-28T11:54:17.047Z"
   },
   {
    "duration": 34,
    "start_time": "2021-07-28T11:54:46.088Z"
   },
   {
    "duration": 24,
    "start_time": "2021-07-28T11:54:46.125Z"
   },
   {
    "duration": 991,
    "start_time": "2021-07-28T12:12:18.200Z"
   },
   {
    "duration": 403,
    "start_time": "2021-07-28T12:13:19.129Z"
   },
   {
    "duration": 4,
    "start_time": "2021-07-28T12:14:59.397Z"
   },
   {
    "duration": 486,
    "start_time": "2021-07-28T12:15:11.299Z"
   },
   {
    "duration": 446,
    "start_time": "2021-07-28T12:17:35.771Z"
   },
   {
    "duration": 481,
    "start_time": "2021-07-28T12:19:34.023Z"
   },
   {
    "duration": 21319,
    "start_time": "2021-07-28T12:19:58.115Z"
   },
   {
    "duration": 1650,
    "start_time": "2021-07-28T12:21:12.726Z"
   },
   {
    "duration": 237,
    "start_time": "2021-07-28T12:21:14.380Z"
   },
   {
    "duration": 96,
    "start_time": "2021-07-28T12:21:14.621Z"
   },
   {
    "duration": 7,
    "start_time": "2021-07-28T12:21:14.721Z"
   },
   {
    "duration": 23,
    "start_time": "2021-07-28T12:21:14.731Z"
   },
   {
    "duration": 37,
    "start_time": "2021-07-28T12:21:14.757Z"
   },
   {
    "duration": 17,
    "start_time": "2021-07-28T12:21:14.799Z"
   },
   {
    "duration": 7,
    "start_time": "2021-07-28T12:21:14.821Z"
   },
   {
    "duration": 14,
    "start_time": "2021-07-28T12:21:14.834Z"
   },
   {
    "duration": 7,
    "start_time": "2021-07-28T12:21:14.852Z"
   },
   {
    "duration": 31,
    "start_time": "2021-07-28T12:21:14.888Z"
   },
   {
    "duration": 16,
    "start_time": "2021-07-28T12:21:14.923Z"
   },
   {
    "duration": 7,
    "start_time": "2021-07-28T12:21:14.942Z"
   },
   {
    "duration": 43,
    "start_time": "2021-07-28T12:21:14.952Z"
   },
   {
    "duration": 21,
    "start_time": "2021-07-28T12:21:14.998Z"
   },
   {
    "duration": 25,
    "start_time": "2021-07-28T12:21:15.022Z"
   },
   {
    "duration": 400,
    "start_time": "2021-07-28T12:21:15.050Z"
   },
   {
    "duration": 12461,
    "start_time": "2021-07-28T12:21:15.452Z"
   },
   {
    "duration": 77,
    "start_time": "2021-07-28T12:21:27.917Z"
   },
   {
    "duration": 42185,
    "start_time": "2021-07-28T12:21:27.996Z"
   },
   {
    "duration": 19,
    "start_time": "2021-07-28T12:22:10.183Z"
   },
   {
    "duration": 8,
    "start_time": "2021-07-28T12:22:10.205Z"
   },
   {
    "duration": 38,
    "start_time": "2021-07-28T12:22:10.216Z"
   },
   {
    "duration": 63608,
    "start_time": "2021-07-28T12:22:10.257Z"
   },
   {
    "duration": 38,
    "start_time": "2021-07-28T12:23:13.868Z"
   },
   {
    "duration": 7065,
    "start_time": "2021-07-28T12:23:13.911Z"
   },
   {
    "duration": 2255,
    "start_time": "2021-07-28T12:23:18.724Z"
   },
   {
    "duration": 2255,
    "start_time": "2021-07-28T12:23:18.725Z"
   },
   {
    "duration": 2255,
    "start_time": "2021-07-28T12:23:18.727Z"
   },
   {
    "duration": 2256,
    "start_time": "2021-07-28T12:23:18.728Z"
   },
   {
    "duration": 2256,
    "start_time": "2021-07-28T12:23:18.730Z"
   },
   {
    "duration": 483,
    "start_time": "2021-07-28T12:43:01.375Z"
   },
   {
    "duration": 1584,
    "start_time": "2021-07-28T12:43:11.743Z"
   },
   {
    "duration": 155,
    "start_time": "2021-07-28T12:43:13.331Z"
   },
   {
    "duration": 66,
    "start_time": "2021-07-28T12:43:13.490Z"
   },
   {
    "duration": 29,
    "start_time": "2021-07-28T12:43:13.559Z"
   },
   {
    "duration": 31,
    "start_time": "2021-07-28T12:43:13.592Z"
   },
   {
    "duration": 11,
    "start_time": "2021-07-28T12:43:13.625Z"
   },
   {
    "duration": 12,
    "start_time": "2021-07-28T12:43:13.640Z"
   },
   {
    "duration": 9,
    "start_time": "2021-07-28T12:43:13.684Z"
   },
   {
    "duration": 20,
    "start_time": "2021-07-28T12:43:13.697Z"
   },
   {
    "duration": 10,
    "start_time": "2021-07-28T12:43:13.720Z"
   },
   {
    "duration": 24,
    "start_time": "2021-07-28T12:43:13.733Z"
   },
   {
    "duration": 47,
    "start_time": "2021-07-28T12:43:13.760Z"
   },
   {
    "duration": 16,
    "start_time": "2021-07-28T12:43:13.810Z"
   },
   {
    "duration": 43,
    "start_time": "2021-07-28T12:43:13.828Z"
   },
   {
    "duration": 10,
    "start_time": "2021-07-28T12:43:13.874Z"
   },
   {
    "duration": 14,
    "start_time": "2021-07-28T12:43:13.888Z"
   },
   {
    "duration": 380,
    "start_time": "2021-07-28T12:43:13.905Z"
   },
   {
    "duration": 11912,
    "start_time": "2021-07-28T12:43:14.288Z"
   },
   {
    "duration": 88,
    "start_time": "2021-07-28T12:43:26.204Z"
   },
   {
    "duration": 40495,
    "start_time": "2021-07-28T12:43:26.296Z"
   },
   {
    "duration": 19,
    "start_time": "2021-07-28T12:44:06.795Z"
   },
   {
    "duration": 6,
    "start_time": "2021-07-28T12:44:06.816Z"
   },
   {
    "duration": 27,
    "start_time": "2021-07-28T12:44:06.826Z"
   },
   {
    "duration": 62600,
    "start_time": "2021-07-28T12:44:06.856Z"
   },
   {
    "duration": 46,
    "start_time": "2021-07-28T12:45:09.459Z"
   },
   {
    "duration": 9,
    "start_time": "2021-07-28T12:45:09.509Z"
   },
   {
    "duration": 29,
    "start_time": "2021-07-28T12:45:09.520Z"
   },
   {
    "duration": 28927,
    "start_time": "2021-07-28T12:45:09.551Z"
   },
   {
    "duration": 39,
    "start_time": "2021-07-28T12:45:38.480Z"
   },
   {
    "duration": 6617,
    "start_time": "2021-07-28T12:45:38.522Z"
   },
   {
    "duration": -58,
    "start_time": "2021-07-28T12:45:45.200Z"
   },
   {
    "duration": 23,
    "start_time": "2021-07-28T12:46:37.392Z"
   },
   {
    "duration": 6147,
    "start_time": "2021-07-28T12:46:58.363Z"
   },
   {
    "duration": 1591,
    "start_time": "2021-07-28T12:47:44.947Z"
   },
   {
    "duration": 164,
    "start_time": "2021-07-28T12:47:46.540Z"
   },
   {
    "duration": 59,
    "start_time": "2021-07-28T12:47:46.709Z"
   },
   {
    "duration": 19,
    "start_time": "2021-07-28T12:47:46.771Z"
   },
   {
    "duration": 38,
    "start_time": "2021-07-28T12:47:46.793Z"
   },
   {
    "duration": 11,
    "start_time": "2021-07-28T12:47:46.833Z"
   },
   {
    "duration": 10,
    "start_time": "2021-07-28T12:47:46.846Z"
   },
   {
    "duration": 6,
    "start_time": "2021-07-28T12:47:46.860Z"
   },
   {
    "duration": 23,
    "start_time": "2021-07-28T12:47:46.887Z"
   },
   {
    "duration": 7,
    "start_time": "2021-07-28T12:47:46.917Z"
   },
   {
    "duration": 16,
    "start_time": "2021-07-28T12:47:46.926Z"
   },
   {
    "duration": 14,
    "start_time": "2021-07-28T12:47:46.944Z"
   },
   {
    "duration": 7,
    "start_time": "2021-07-28T12:47:46.990Z"
   },
   {
    "duration": 20,
    "start_time": "2021-07-28T12:47:47.000Z"
   },
   {
    "duration": 14,
    "start_time": "2021-07-28T12:47:47.022Z"
   },
   {
    "duration": 6,
    "start_time": "2021-07-28T12:47:47.038Z"
   },
   {
    "duration": 434,
    "start_time": "2021-07-28T12:47:47.047Z"
   },
   {
    "duration": 13907,
    "start_time": "2021-07-28T12:47:47.485Z"
   },
   {
    "duration": 20,
    "start_time": "2021-07-28T12:48:01.396Z"
   },
   {
    "duration": 42700,
    "start_time": "2021-07-28T12:48:01.498Z"
   },
   {
    "duration": 38,
    "start_time": "2021-07-28T12:48:44.200Z"
   },
   {
    "duration": 6,
    "start_time": "2021-07-28T12:48:44.240Z"
   },
   {
    "duration": 52,
    "start_time": "2021-07-28T12:48:44.251Z"
   },
   {
    "duration": 64031,
    "start_time": "2021-07-28T12:48:44.313Z"
   },
   {
    "duration": 26,
    "start_time": "2021-07-28T12:49:48.346Z"
   },
   {
    "duration": 8138,
    "start_time": "2021-07-28T12:49:48.391Z"
   },
   {
    "duration": -46,
    "start_time": "2021-07-28T12:49:56.577Z"
   },
   {
    "duration": -47,
    "start_time": "2021-07-28T12:49:56.579Z"
   },
   {
    "duration": -47,
    "start_time": "2021-07-28T12:49:56.581Z"
   },
   {
    "duration": -47,
    "start_time": "2021-07-28T12:49:56.582Z"
   },
   {
    "duration": -48,
    "start_time": "2021-07-28T12:49:56.584Z"
   },
   {
    "duration": -48,
    "start_time": "2021-07-28T12:49:56.586Z"
   },
   {
    "duration": -49,
    "start_time": "2021-07-28T12:49:56.588Z"
   },
   {
    "duration": 1661,
    "start_time": "2021-07-28T12:53:55.315Z"
   },
   {
    "duration": 255,
    "start_time": "2021-07-28T12:53:56.979Z"
   },
   {
    "duration": 84,
    "start_time": "2021-07-28T12:53:57.237Z"
   },
   {
    "duration": 6,
    "start_time": "2021-07-28T12:53:57.323Z"
   },
   {
    "duration": 22,
    "start_time": "2021-07-28T12:53:57.331Z"
   },
   {
    "duration": 11,
    "start_time": "2021-07-28T12:53:57.355Z"
   },
   {
    "duration": 10,
    "start_time": "2021-07-28T12:53:57.399Z"
   },
   {
    "duration": 6,
    "start_time": "2021-07-28T12:53:57.413Z"
   },
   {
    "duration": 17,
    "start_time": "2021-07-28T12:53:57.422Z"
   },
   {
    "duration": 7,
    "start_time": "2021-07-28T12:53:57.442Z"
   },
   {
    "duration": 53,
    "start_time": "2021-07-28T12:53:57.451Z"
   },
   {
    "duration": 16,
    "start_time": "2021-07-28T12:53:57.509Z"
   },
   {
    "duration": 5,
    "start_time": "2021-07-28T12:53:57.527Z"
   },
   {
    "duration": 16,
    "start_time": "2021-07-28T12:53:57.534Z"
   },
   {
    "duration": 7,
    "start_time": "2021-07-28T12:53:57.552Z"
   },
   {
    "duration": 8,
    "start_time": "2021-07-28T12:53:57.562Z"
   },
   {
    "duration": 435,
    "start_time": "2021-07-28T12:53:57.595Z"
   },
   {
    "duration": 13263,
    "start_time": "2021-07-28T12:53:58.033Z"
   },
   {
    "duration": 89,
    "start_time": "2021-07-28T12:54:11.299Z"
   },
   {
    "duration": 42446,
    "start_time": "2021-07-28T12:54:11.403Z"
   },
   {
    "duration": 53,
    "start_time": "2021-07-28T12:54:53.852Z"
   },
   {
    "duration": 6,
    "start_time": "2021-07-28T12:54:53.912Z"
   },
   {
    "duration": 23,
    "start_time": "2021-07-28T12:54:53.923Z"
   },
   {
    "duration": 62866,
    "start_time": "2021-07-28T12:54:53.949Z"
   },
   {
    "duration": 21,
    "start_time": "2021-07-28T12:55:56.818Z"
   },
   {
    "duration": 3,
    "start_time": "2021-07-28T12:55:56.842Z"
   },
   {
    "duration": 8,
    "start_time": "2021-07-28T12:55:56.847Z"
   },
   {
    "duration": 49,
    "start_time": "2021-07-28T12:55:56.857Z"
   },
   {
    "duration": 28641,
    "start_time": "2021-07-28T12:55:56.910Z"
   },
   {
    "duration": 43,
    "start_time": "2021-07-28T12:56:25.554Z"
   },
   {
    "duration": 140,
    "start_time": "2021-07-28T12:56:25.600Z"
   },
   {
    "duration": -21,
    "start_time": "2021-07-28T12:56:25.763Z"
   },
   {
    "duration": -31,
    "start_time": "2021-07-28T12:56:25.775Z"
   },
   {
    "duration": 1654,
    "start_time": "2021-07-28T12:57:58.789Z"
   },
   {
    "duration": 396,
    "start_time": "2021-07-28T12:58:00.446Z"
   },
   {
    "duration": 89,
    "start_time": "2021-07-28T12:58:00.849Z"
   },
   {
    "duration": 41,
    "start_time": "2021-07-28T12:58:00.941Z"
   },
   {
    "duration": 39,
    "start_time": "2021-07-28T12:58:00.985Z"
   },
   {
    "duration": 14,
    "start_time": "2021-07-28T12:58:01.028Z"
   },
   {
    "duration": 10,
    "start_time": "2021-07-28T12:58:01.047Z"
   },
   {
    "duration": 44,
    "start_time": "2021-07-28T12:58:01.061Z"
   },
   {
    "duration": 30,
    "start_time": "2021-07-28T12:58:01.108Z"
   },
   {
    "duration": 7,
    "start_time": "2021-07-28T12:58:01.141Z"
   },
   {
    "duration": 25,
    "start_time": "2021-07-28T12:58:01.150Z"
   },
   {
    "duration": 37,
    "start_time": "2021-07-28T12:58:01.178Z"
   },
   {
    "duration": 6,
    "start_time": "2021-07-28T12:58:01.219Z"
   },
   {
    "duration": 22,
    "start_time": "2021-07-28T12:58:01.227Z"
   },
   {
    "duration": 28,
    "start_time": "2021-07-28T12:58:01.251Z"
   },
   {
    "duration": 47,
    "start_time": "2021-07-28T12:58:01.282Z"
   },
   {
    "duration": 481,
    "start_time": "2021-07-28T12:58:01.331Z"
   },
   {
    "duration": 14177,
    "start_time": "2021-07-28T12:58:01.815Z"
   },
   {
    "duration": 8,
    "start_time": "2021-07-28T12:58:15.995Z"
   },
   {
    "duration": 42448,
    "start_time": "2021-07-28T12:58:16.006Z"
   },
   {
    "duration": 47,
    "start_time": "2021-07-28T12:58:58.457Z"
   },
   {
    "duration": 7,
    "start_time": "2021-07-28T12:58:58.515Z"
   },
   {
    "duration": 31,
    "start_time": "2021-07-28T12:58:58.525Z"
   },
   {
    "duration": 62699,
    "start_time": "2021-07-28T12:58:58.559Z"
   },
   {
    "duration": 49,
    "start_time": "2021-07-28T13:00:01.261Z"
   },
   {
    "duration": 4,
    "start_time": "2021-07-28T13:00:01.313Z"
   },
   {
    "duration": 18,
    "start_time": "2021-07-28T13:00:01.321Z"
   },
   {
    "duration": 39,
    "start_time": "2021-07-28T13:00:01.342Z"
   },
   {
    "duration": 29194,
    "start_time": "2021-07-28T13:00:01.383Z"
   },
   {
    "duration": 36,
    "start_time": "2021-07-28T13:00:30.579Z"
   },
   {
    "duration": 6,
    "start_time": "2021-07-28T13:00:30.617Z"
   },
   {
    "duration": 37,
    "start_time": "2021-07-28T13:00:30.626Z"
   },
   {
    "duration": 7680,
    "start_time": "2021-07-28T13:02:54.097Z"
   },
   {
    "duration": 8238,
    "start_time": "2021-07-28T13:03:27.936Z"
   },
   {
    "duration": 7373,
    "start_time": "2021-07-28T13:04:07.783Z"
   },
   {
    "duration": 515,
    "start_time": "2021-07-28T13:04:27.107Z"
   },
   {
    "duration": 778,
    "start_time": "2021-07-28T13:05:24.604Z"
   },
   {
    "duration": 747,
    "start_time": "2021-07-28T13:06:39.881Z"
   },
   {
    "duration": 1874,
    "start_time": "2021-07-28T13:09:29.592Z"
   },
   {
    "duration": 184,
    "start_time": "2021-07-28T13:09:31.469Z"
   },
   {
    "duration": 77,
    "start_time": "2021-07-28T13:09:31.655Z"
   },
   {
    "duration": 5,
    "start_time": "2021-07-28T13:09:31.735Z"
   },
   {
    "duration": 24,
    "start_time": "2021-07-28T13:09:31.743Z"
   },
   {
    "duration": 21,
    "start_time": "2021-07-28T13:09:31.791Z"
   },
   {
    "duration": 11,
    "start_time": "2021-07-28T13:09:31.818Z"
   },
   {
    "duration": 793,
    "start_time": "2021-07-28T13:09:31.834Z"
   },
   {
    "duration": -26,
    "start_time": "2021-07-28T13:09:32.659Z"
   },
   {
    "duration": -26,
    "start_time": "2021-07-28T13:09:32.661Z"
   },
   {
    "duration": -26,
    "start_time": "2021-07-28T13:09:32.663Z"
   },
   {
    "duration": -26,
    "start_time": "2021-07-28T13:09:32.666Z"
   },
   {
    "duration": -26,
    "start_time": "2021-07-28T13:09:32.668Z"
   },
   {
    "duration": -29,
    "start_time": "2021-07-28T13:09:32.673Z"
   },
   {
    "duration": -29,
    "start_time": "2021-07-28T13:09:32.676Z"
   },
   {
    "duration": -29,
    "start_time": "2021-07-28T13:09:32.678Z"
   },
   {
    "duration": -28,
    "start_time": "2021-07-28T13:09:32.680Z"
   },
   {
    "duration": -28,
    "start_time": "2021-07-28T13:09:32.682Z"
   },
   {
    "duration": -30,
    "start_time": "2021-07-28T13:09:32.686Z"
   },
   {
    "duration": -31,
    "start_time": "2021-07-28T13:09:32.689Z"
   },
   {
    "duration": -30,
    "start_time": "2021-07-28T13:09:32.690Z"
   },
   {
    "duration": -29,
    "start_time": "2021-07-28T13:09:32.691Z"
   },
   {
    "duration": -27,
    "start_time": "2021-07-28T13:09:32.692Z"
   },
   {
    "duration": -36,
    "start_time": "2021-07-28T13:09:32.703Z"
   },
   {
    "duration": -38,
    "start_time": "2021-07-28T13:09:32.707Z"
   },
   {
    "duration": -39,
    "start_time": "2021-07-28T13:09:32.710Z"
   },
   {
    "duration": -21,
    "start_time": "2021-07-28T13:09:32.714Z"
   },
   {
    "duration": -25,
    "start_time": "2021-07-28T13:09:32.720Z"
   },
   {
    "duration": -24,
    "start_time": "2021-07-28T13:09:32.721Z"
   },
   {
    "duration": -25,
    "start_time": "2021-07-28T13:09:32.724Z"
   },
   {
    "duration": -24,
    "start_time": "2021-07-28T13:09:32.725Z"
   },
   {
    "duration": -26,
    "start_time": "2021-07-28T13:09:32.729Z"
   },
   {
    "duration": 14,
    "start_time": "2021-07-28T13:09:52.553Z"
   },
   {
    "duration": 2249,
    "start_time": "2021-07-28T13:11:32.625Z"
   },
   {
    "duration": 187,
    "start_time": "2021-07-28T13:11:34.878Z"
   },
   {
    "duration": 74,
    "start_time": "2021-07-28T13:11:35.068Z"
   },
   {
    "duration": 6,
    "start_time": "2021-07-28T13:11:35.145Z"
   },
   {
    "duration": 36,
    "start_time": "2021-07-28T13:11:35.154Z"
   },
   {
    "duration": 23,
    "start_time": "2021-07-28T13:11:35.193Z"
   },
   {
    "duration": 12,
    "start_time": "2021-07-28T13:11:35.222Z"
   },
   {
    "duration": 8,
    "start_time": "2021-07-28T13:11:35.240Z"
   },
   {
    "duration": 46,
    "start_time": "2021-07-28T13:11:35.253Z"
   },
   {
    "duration": 20,
    "start_time": "2021-07-28T13:11:35.303Z"
   },
   {
    "duration": 20,
    "start_time": "2021-07-28T13:11:35.326Z"
   },
   {
    "duration": 45,
    "start_time": "2021-07-28T13:11:35.349Z"
   },
   {
    "duration": 14,
    "start_time": "2021-07-28T13:11:35.397Z"
   },
   {
    "duration": 14,
    "start_time": "2021-07-28T13:11:35.414Z"
   },
   {
    "duration": 8,
    "start_time": "2021-07-28T13:11:35.431Z"
   },
   {
    "duration": 5,
    "start_time": "2021-07-28T13:11:35.442Z"
   },
   {
    "duration": 464,
    "start_time": "2021-07-28T13:11:35.450Z"
   },
   {
    "duration": 12002,
    "start_time": "2021-07-28T13:11:35.918Z"
   },
   {
    "duration": 84,
    "start_time": "2021-07-28T13:11:47.926Z"
   },
   {
    "duration": 45510,
    "start_time": "2021-07-28T13:11:48.024Z"
   },
   {
    "duration": 29,
    "start_time": "2021-07-28T13:12:33.536Z"
   },
   {
    "duration": 23,
    "start_time": "2021-07-28T13:12:33.585Z"
   },
   {
    "duration": 25,
    "start_time": "2021-07-28T13:12:33.615Z"
   },
   {
    "duration": 65986,
    "start_time": "2021-07-28T13:12:33.643Z"
   },
   {
    "duration": 28,
    "start_time": "2021-07-28T13:13:39.632Z"
   },
   {
    "duration": 872,
    "start_time": "2021-07-28T13:13:39.695Z"
   },
   {
    "duration": 7,
    "start_time": "2021-07-28T13:13:40.570Z"
   },
   {
    "duration": 35,
    "start_time": "2021-07-28T13:13:40.591Z"
   },
   {
    "duration": 30046,
    "start_time": "2021-07-28T13:13:40.629Z"
   },
   {
    "duration": 35,
    "start_time": "2021-07-28T13:14:10.678Z"
   },
   {
    "duration": 693,
    "start_time": "2021-07-28T13:14:10.722Z"
   },
   {
    "duration": 24,
    "start_time": "2021-07-28T13:14:11.419Z"
   },
   {
    "duration": 1918,
    "start_time": "2021-07-28T13:17:24.038Z"
   },
   {
    "duration": 187,
    "start_time": "2021-07-28T13:17:25.958Z"
   },
   {
    "duration": 92,
    "start_time": "2021-07-28T13:17:26.149Z"
   },
   {
    "duration": 7,
    "start_time": "2021-07-28T13:17:26.244Z"
   },
   {
    "duration": 48,
    "start_time": "2021-07-28T13:17:26.254Z"
   },
   {
    "duration": 19,
    "start_time": "2021-07-28T13:17:26.304Z"
   },
   {
    "duration": 12,
    "start_time": "2021-07-28T13:17:26.327Z"
   },
   {
    "duration": 23,
    "start_time": "2021-07-28T13:17:26.343Z"
   },
   {
    "duration": 38,
    "start_time": "2021-07-28T13:17:26.369Z"
   },
   {
    "duration": 14,
    "start_time": "2021-07-28T13:17:26.411Z"
   },
   {
    "duration": 26,
    "start_time": "2021-07-28T13:17:26.428Z"
   },
   {
    "duration": 14,
    "start_time": "2021-07-28T13:17:26.457Z"
   },
   {
    "duration": 8,
    "start_time": "2021-07-28T13:17:26.493Z"
   },
   {
    "duration": 11,
    "start_time": "2021-07-28T13:17:26.514Z"
   },
   {
    "duration": 34,
    "start_time": "2021-07-28T13:17:26.528Z"
   },
   {
    "duration": 26,
    "start_time": "2021-07-28T13:17:26.564Z"
   },
   {
    "duration": 431,
    "start_time": "2021-07-28T13:17:26.593Z"
   },
   {
    "duration": 14286,
    "start_time": "2021-07-28T13:17:27.027Z"
   },
   {
    "duration": 77,
    "start_time": "2021-07-28T13:17:41.319Z"
   },
   {
    "duration": 43338,
    "start_time": "2021-07-28T13:17:41.402Z"
   },
   {
    "duration": 18,
    "start_time": "2021-07-28T13:18:24.743Z"
   },
   {
    "duration": 11,
    "start_time": "2021-07-28T13:18:24.785Z"
   },
   {
    "duration": 23,
    "start_time": "2021-07-28T13:18:24.803Z"
   },
   {
    "duration": 66794,
    "start_time": "2021-07-28T13:18:24.829Z"
   },
   {
    "duration": 64,
    "start_time": "2021-07-28T13:19:31.627Z"
   },
   {
    "duration": 776,
    "start_time": "2021-07-28T13:19:31.694Z"
   },
   {
    "duration": 14,
    "start_time": "2021-07-28T13:19:32.472Z"
   },
   {
    "duration": 49,
    "start_time": "2021-07-28T13:19:32.490Z"
   },
   {
    "duration": 30401,
    "start_time": "2021-07-28T13:19:32.542Z"
   },
   {
    "duration": 25,
    "start_time": "2021-07-28T13:20:02.945Z"
   },
   {
    "duration": 664,
    "start_time": "2021-07-28T13:20:02.991Z"
   },
   {
    "duration": 47,
    "start_time": "2021-07-28T13:20:03.658Z"
   },
   {
    "duration": 1893,
    "start_time": "2021-07-28T13:35:53.807Z"
   },
   {
    "duration": 162,
    "start_time": "2021-07-28T13:35:55.702Z"
   },
   {
    "duration": 91,
    "start_time": "2021-07-28T13:35:55.867Z"
   },
   {
    "duration": 5,
    "start_time": "2021-07-28T13:35:55.961Z"
   },
   {
    "duration": 37,
    "start_time": "2021-07-28T13:35:55.969Z"
   },
   {
    "duration": 14,
    "start_time": "2021-07-28T13:35:56.009Z"
   },
   {
    "duration": 10,
    "start_time": "2021-07-28T13:35:56.026Z"
   },
   {
    "duration": 48,
    "start_time": "2021-07-28T13:35:56.042Z"
   },
   {
    "duration": 21,
    "start_time": "2021-07-28T13:35:56.095Z"
   },
   {
    "duration": 7,
    "start_time": "2021-07-28T13:35:56.119Z"
   },
   {
    "duration": 13,
    "start_time": "2021-07-28T13:35:56.129Z"
   },
   {
    "duration": 41,
    "start_time": "2021-07-28T13:35:56.144Z"
   },
   {
    "duration": 9,
    "start_time": "2021-07-28T13:35:56.188Z"
   },
   {
    "duration": 12,
    "start_time": "2021-07-28T13:35:56.201Z"
   },
   {
    "duration": 7,
    "start_time": "2021-07-28T13:35:56.216Z"
   },
   {
    "duration": 18,
    "start_time": "2021-07-28T13:35:56.225Z"
   },
   {
    "duration": 420,
    "start_time": "2021-07-28T13:35:56.245Z"
   },
   {
    "duration": 11729,
    "start_time": "2021-07-28T13:35:56.668Z"
   },
   {
    "duration": 91,
    "start_time": "2021-07-28T13:36:08.401Z"
   },
   {
    "duration": 41091,
    "start_time": "2021-07-28T13:36:08.499Z"
   },
   {
    "duration": 24,
    "start_time": "2021-07-28T13:36:49.593Z"
   },
   {
    "duration": 15,
    "start_time": "2021-07-28T13:36:49.620Z"
   },
   {
    "duration": 53,
    "start_time": "2021-07-28T13:36:49.641Z"
   },
   {
    "duration": 1792,
    "start_time": "2021-07-28T13:37:38.484Z"
   },
   {
    "duration": 164,
    "start_time": "2021-07-28T13:37:40.279Z"
   },
   {
    "duration": 67,
    "start_time": "2021-07-28T13:37:40.447Z"
   },
   {
    "duration": 5,
    "start_time": "2021-07-28T13:37:40.518Z"
   },
   {
    "duration": 23,
    "start_time": "2021-07-28T13:37:40.526Z"
   },
   {
    "duration": 40,
    "start_time": "2021-07-28T13:37:40.552Z"
   },
   {
    "duration": 10,
    "start_time": "2021-07-28T13:37:40.595Z"
   },
   {
    "duration": 17,
    "start_time": "2021-07-28T13:37:40.609Z"
   },
   {
    "duration": 24,
    "start_time": "2021-07-28T13:37:40.629Z"
   },
   {
    "duration": 8,
    "start_time": "2021-07-28T13:37:40.656Z"
   },
   {
    "duration": 22,
    "start_time": "2021-07-28T13:37:40.687Z"
   },
   {
    "duration": 14,
    "start_time": "2021-07-28T13:37:40.711Z"
   },
   {
    "duration": 6,
    "start_time": "2021-07-28T13:37:40.727Z"
   },
   {
    "duration": 19,
    "start_time": "2021-07-28T13:37:40.735Z"
   },
   {
    "duration": 33,
    "start_time": "2021-07-28T13:37:40.756Z"
   },
   {
    "duration": 17,
    "start_time": "2021-07-28T13:37:40.793Z"
   },
   {
    "duration": 426,
    "start_time": "2021-07-28T13:37:40.812Z"
   },
   {
    "duration": 11171,
    "start_time": "2021-07-28T13:37:41.241Z"
   },
   {
    "duration": 85,
    "start_time": "2021-07-28T13:37:52.415Z"
   },
   {
    "duration": 42387,
    "start_time": "2021-07-28T13:37:52.511Z"
   },
   {
    "duration": 21,
    "start_time": "2021-07-28T13:38:34.904Z"
   },
   {
    "duration": 5,
    "start_time": "2021-07-28T13:38:34.927Z"
   },
   {
    "duration": 29,
    "start_time": "2021-07-28T13:38:34.937Z"
   },
   {
    "duration": 64079,
    "start_time": "2021-07-28T13:38:34.969Z"
   },
   {
    "duration": 45,
    "start_time": "2021-07-28T13:39:39.051Z"
   },
   {
    "duration": 790,
    "start_time": "2021-07-28T13:39:39.099Z"
   },
   {
    "duration": 15,
    "start_time": "2021-07-28T13:39:39.894Z"
   },
   {
    "duration": 23,
    "start_time": "2021-07-28T13:39:39.911Z"
   },
   {
    "duration": 28831,
    "start_time": "2021-07-28T13:39:39.937Z"
   },
   {
    "duration": 37,
    "start_time": "2021-07-28T13:40:08.771Z"
   },
   {
    "duration": 650,
    "start_time": "2021-07-28T13:40:08.811Z"
   },
   {
    "duration": 40,
    "start_time": "2021-07-28T13:40:09.464Z"
   },
   {
    "duration": 1847,
    "start_time": "2021-07-28T13:42:32.616Z"
   },
   {
    "duration": 189,
    "start_time": "2021-07-28T13:42:34.466Z"
   },
   {
    "duration": 93,
    "start_time": "2021-07-28T13:42:34.658Z"
   },
   {
    "duration": 8,
    "start_time": "2021-07-28T13:42:34.755Z"
   },
   {
    "duration": 61,
    "start_time": "2021-07-28T13:42:34.766Z"
   },
   {
    "duration": 11,
    "start_time": "2021-07-28T13:42:34.830Z"
   },
   {
    "duration": 11,
    "start_time": "2021-07-28T13:42:34.844Z"
   },
   {
    "duration": 18,
    "start_time": "2021-07-28T13:42:34.857Z"
   },
   {
    "duration": 32,
    "start_time": "2021-07-28T13:42:34.878Z"
   },
   {
    "duration": 11,
    "start_time": "2021-07-28T13:42:34.913Z"
   },
   {
    "duration": 18,
    "start_time": "2021-07-28T13:42:34.927Z"
   },
   {
    "duration": 17,
    "start_time": "2021-07-28T13:42:34.949Z"
   },
   {
    "duration": 31,
    "start_time": "2021-07-28T13:42:34.969Z"
   },
   {
    "duration": 24,
    "start_time": "2021-07-28T13:42:35.004Z"
   },
   {
    "duration": 13,
    "start_time": "2021-07-28T13:42:35.032Z"
   },
   {
    "duration": 30,
    "start_time": "2021-07-28T13:42:35.047Z"
   },
   {
    "duration": 462,
    "start_time": "2021-07-28T13:42:35.079Z"
   },
   {
    "duration": 14356,
    "start_time": "2021-07-28T13:42:35.543Z"
   },
   {
    "duration": 16,
    "start_time": "2021-07-28T13:42:49.902Z"
   },
   {
    "duration": 42527,
    "start_time": "2021-07-28T13:42:49.920Z"
   },
   {
    "duration": 41,
    "start_time": "2021-07-28T13:43:32.449Z"
   },
   {
    "duration": 78,
    "start_time": "2021-07-28T13:43:32.505Z"
   },
   {
    "duration": 45,
    "start_time": "2021-07-28T13:43:32.586Z"
   },
   {
    "duration": 65290,
    "start_time": "2021-07-28T13:43:32.634Z"
   },
   {
    "duration": 26,
    "start_time": "2021-07-28T13:44:37.930Z"
   },
   {
    "duration": 794,
    "start_time": "2021-07-28T13:44:37.958Z"
   },
   {
    "duration": 6,
    "start_time": "2021-07-28T13:44:38.754Z"
   },
   {
    "duration": 45,
    "start_time": "2021-07-28T13:44:38.763Z"
   },
   {
    "duration": 29503,
    "start_time": "2021-07-28T13:44:38.811Z"
   },
   {
    "duration": 29,
    "start_time": "2021-07-28T13:45:08.317Z"
   },
   {
    "duration": 665,
    "start_time": "2021-07-28T13:45:08.348Z"
   },
   {
    "duration": 34,
    "start_time": "2021-07-28T13:45:09.016Z"
   },
   {
    "duration": 81,
    "start_time": "2021-07-29T05:20:53.611Z"
   },
   {
    "duration": 1973,
    "start_time": "2021-07-29T12:03:18.668Z"
   },
   {
    "duration": 249,
    "start_time": "2021-07-29T12:03:20.644Z"
   },
   {
    "duration": 86,
    "start_time": "2021-07-29T12:03:20.897Z"
   },
   {
    "duration": 15,
    "start_time": "2021-07-29T12:03:20.987Z"
   },
   {
    "duration": 32,
    "start_time": "2021-07-29T12:03:21.004Z"
   },
   {
    "duration": 12,
    "start_time": "2021-07-29T12:03:21.038Z"
   },
   {
    "duration": 11,
    "start_time": "2021-07-29T12:03:21.052Z"
   },
   {
    "duration": 15,
    "start_time": "2021-07-29T12:03:21.066Z"
   },
   {
    "duration": 27,
    "start_time": "2021-07-29T12:03:21.100Z"
   },
   {
    "duration": 23,
    "start_time": "2021-07-29T12:03:21.129Z"
   },
   {
    "duration": 28,
    "start_time": "2021-07-29T12:03:21.155Z"
   },
   {
    "duration": 5,
    "start_time": "2021-07-29T12:03:21.185Z"
   },
   {
    "duration": 15,
    "start_time": "2021-07-29T12:03:21.193Z"
   },
   {
    "duration": 25,
    "start_time": "2021-07-29T12:03:21.210Z"
   },
   {
    "duration": 10,
    "start_time": "2021-07-29T12:03:21.237Z"
   },
   {
    "duration": 56,
    "start_time": "2021-07-29T12:03:21.249Z"
   },
   {
    "duration": 17,
    "start_time": "2021-07-29T12:03:21.309Z"
   },
   {
    "duration": 530,
    "start_time": "2021-07-29T12:03:21.329Z"
   },
   {
    "duration": 632,
    "start_time": "2021-07-29T12:03:21.862Z"
   },
   {
    "duration": 1393,
    "start_time": "2021-07-29T12:03:21.105Z"
   },
   {
    "duration": 1394,
    "start_time": "2021-07-29T12:03:21.106Z"
   },
   {
    "duration": 1393,
    "start_time": "2021-07-29T12:03:21.108Z"
   },
   {
    "duration": 1394,
    "start_time": "2021-07-29T12:03:21.109Z"
   },
   {
    "duration": 1395,
    "start_time": "2021-07-29T12:03:21.110Z"
   },
   {
    "duration": 1395,
    "start_time": "2021-07-29T12:03:21.112Z"
   },
   {
    "duration": 1396,
    "start_time": "2021-07-29T12:03:21.113Z"
   },
   {
    "duration": 1396,
    "start_time": "2021-07-29T12:03:21.114Z"
   },
   {
    "duration": 1396,
    "start_time": "2021-07-29T12:03:21.116Z"
   },
   {
    "duration": 1397,
    "start_time": "2021-07-29T12:03:21.117Z"
   },
   {
    "duration": 1397,
    "start_time": "2021-07-29T12:03:21.119Z"
   },
   {
    "duration": 1397,
    "start_time": "2021-07-29T12:03:21.121Z"
   },
   {
    "duration": 1394,
    "start_time": "2021-07-29T12:03:21.125Z"
   },
   {
    "duration": 1394,
    "start_time": "2021-07-29T12:03:21.127Z"
   },
   {
    "duration": 25,
    "start_time": "2021-07-29T12:04:11.734Z"
   },
   {
    "duration": 13,
    "start_time": "2021-07-29T12:04:34.853Z"
   },
   {
    "duration": 1993,
    "start_time": "2021-07-29T12:04:44.849Z"
   },
   {
    "duration": 182,
    "start_time": "2021-07-29T12:04:46.845Z"
   },
   {
    "duration": 76,
    "start_time": "2021-07-29T12:04:47.030Z"
   },
   {
    "duration": 6,
    "start_time": "2021-07-29T12:04:47.109Z"
   },
   {
    "duration": 25,
    "start_time": "2021-07-29T12:04:47.119Z"
   },
   {
    "duration": 17,
    "start_time": "2021-07-29T12:04:47.147Z"
   },
   {
    "duration": 40,
    "start_time": "2021-07-29T12:04:47.167Z"
   },
   {
    "duration": 12,
    "start_time": "2021-07-29T12:04:47.213Z"
   },
   {
    "duration": 9,
    "start_time": "2021-07-29T12:04:47.229Z"
   },
   {
    "duration": 9,
    "start_time": "2021-07-29T12:04:47.241Z"
   },
   {
    "duration": 60,
    "start_time": "2021-07-29T12:04:47.253Z"
   },
   {
    "duration": 4,
    "start_time": "2021-07-29T12:04:47.316Z"
   },
   {
    "duration": 14,
    "start_time": "2021-07-29T12:04:47.323Z"
   },
   {
    "duration": 7,
    "start_time": "2021-07-29T12:04:47.340Z"
   },
   {
    "duration": 12,
    "start_time": "2021-07-29T12:04:47.350Z"
   },
   {
    "duration": 49,
    "start_time": "2021-07-29T12:04:47.365Z"
   },
   {
    "duration": 394,
    "start_time": "2021-07-29T12:04:47.417Z"
   },
   {
    "duration": 499,
    "start_time": "2021-07-29T12:04:47.814Z"
   },
   {
    "duration": 1396,
    "start_time": "2021-07-29T12:04:46.920Z"
   },
   {
    "duration": 1394,
    "start_time": "2021-07-29T12:04:46.923Z"
   },
   {
    "duration": 1393,
    "start_time": "2021-07-29T12:04:46.925Z"
   },
   {
    "duration": 1393,
    "start_time": "2021-07-29T12:04:46.926Z"
   },
   {
    "duration": 1394,
    "start_time": "2021-07-29T12:04:46.928Z"
   },
   {
    "duration": 1391,
    "start_time": "2021-07-29T12:04:46.932Z"
   },
   {
    "duration": 1390,
    "start_time": "2021-07-29T12:04:46.934Z"
   },
   {
    "duration": 1391,
    "start_time": "2021-07-29T12:04:46.935Z"
   },
   {
    "duration": 1390,
    "start_time": "2021-07-29T12:04:46.937Z"
   },
   {
    "duration": 1391,
    "start_time": "2021-07-29T12:04:46.938Z"
   },
   {
    "duration": 1390,
    "start_time": "2021-07-29T12:04:46.940Z"
   },
   {
    "duration": 1387,
    "start_time": "2021-07-29T12:04:46.944Z"
   },
   {
    "duration": 1386,
    "start_time": "2021-07-29T12:04:46.946Z"
   },
   {
    "duration": 1382,
    "start_time": "2021-07-29T12:04:46.952Z"
   },
   {
    "duration": 153,
    "start_time": "2021-07-29T12:05:53.877Z"
   },
   {
    "duration": 1990,
    "start_time": "2021-07-29T12:07:04.215Z"
   },
   {
    "duration": 167,
    "start_time": "2021-07-29T12:07:06.208Z"
   },
   {
    "duration": 59,
    "start_time": "2021-07-29T12:07:06.378Z"
   },
   {
    "duration": 7,
    "start_time": "2021-07-29T12:07:06.440Z"
   },
   {
    "duration": 21,
    "start_time": "2021-07-29T12:07:06.450Z"
   },
   {
    "duration": 33,
    "start_time": "2021-07-29T12:07:06.474Z"
   },
   {
    "duration": 9,
    "start_time": "2021-07-29T12:07:06.510Z"
   },
   {
    "duration": 15,
    "start_time": "2021-07-29T12:07:06.523Z"
   },
   {
    "duration": 25,
    "start_time": "2021-07-29T12:07:06.541Z"
   },
   {
    "duration": 9,
    "start_time": "2021-07-29T12:07:06.569Z"
   },
   {
    "duration": 35,
    "start_time": "2021-07-29T12:07:06.580Z"
   },
   {
    "duration": 5,
    "start_time": "2021-07-29T12:07:06.617Z"
   },
   {
    "duration": 18,
    "start_time": "2021-07-29T12:07:06.625Z"
   },
   {
    "duration": 26,
    "start_time": "2021-07-29T12:07:06.646Z"
   },
   {
    "duration": 26,
    "start_time": "2021-07-29T12:07:06.675Z"
   },
   {
    "duration": 633,
    "start_time": "2021-07-29T12:07:06.704Z"
   },
   {
    "duration": 1390,
    "start_time": "2021-07-29T12:07:05.951Z"
   },
   {
    "duration": 1390,
    "start_time": "2021-07-29T12:07:05.953Z"
   },
   {
    "duration": 1389,
    "start_time": "2021-07-29T12:07:05.955Z"
   },
   {
    "duration": 1390,
    "start_time": "2021-07-29T12:07:05.956Z"
   },
   {
    "duration": 1391,
    "start_time": "2021-07-29T12:07:05.957Z"
   },
   {
    "duration": 1390,
    "start_time": "2021-07-29T12:07:05.959Z"
   },
   {
    "duration": 1390,
    "start_time": "2021-07-29T12:07:05.961Z"
   },
   {
    "duration": 1391,
    "start_time": "2021-07-29T12:07:05.962Z"
   },
   {
    "duration": 1391,
    "start_time": "2021-07-29T12:07:05.963Z"
   },
   {
    "duration": 1390,
    "start_time": "2021-07-29T12:07:05.966Z"
   },
   {
    "duration": 1386,
    "start_time": "2021-07-29T12:07:05.971Z"
   },
   {
    "duration": 1386,
    "start_time": "2021-07-29T12:07:05.973Z"
   },
   {
    "duration": 1387,
    "start_time": "2021-07-29T12:07:05.974Z"
   },
   {
    "duration": 1387,
    "start_time": "2021-07-29T12:07:05.975Z"
   },
   {
    "duration": 1387,
    "start_time": "2021-07-29T12:07:05.977Z"
   },
   {
    "duration": 1387,
    "start_time": "2021-07-29T12:07:05.978Z"
   },
   {
    "duration": 1586,
    "start_time": "2021-07-29T12:09:12.769Z"
   },
   {
    "duration": 161,
    "start_time": "2021-07-29T12:09:14.358Z"
   },
   {
    "duration": 99,
    "start_time": "2021-07-29T12:09:14.523Z"
   },
   {
    "duration": 8,
    "start_time": "2021-07-29T12:09:14.625Z"
   },
   {
    "duration": 23,
    "start_time": "2021-07-29T12:09:14.636Z"
   },
   {
    "duration": 40,
    "start_time": "2021-07-29T12:09:14.662Z"
   },
   {
    "duration": 10,
    "start_time": "2021-07-29T12:09:14.705Z"
   },
   {
    "duration": 6,
    "start_time": "2021-07-29T12:09:14.720Z"
   },
   {
    "duration": 12,
    "start_time": "2021-07-29T12:09:14.730Z"
   },
   {
    "duration": 14,
    "start_time": "2021-07-29T12:09:14.744Z"
   },
   {
    "duration": 50,
    "start_time": "2021-07-29T12:09:14.760Z"
   },
   {
    "duration": 3,
    "start_time": "2021-07-29T12:09:14.812Z"
   },
   {
    "duration": 17,
    "start_time": "2021-07-29T12:09:14.818Z"
   },
   {
    "duration": 8,
    "start_time": "2021-07-29T12:09:14.837Z"
   },
   {
    "duration": 536,
    "start_time": "2021-07-29T12:09:14.848Z"
   },
   {
    "duration": 1380,
    "start_time": "2021-07-29T12:09:14.007Z"
   },
   {
    "duration": 1379,
    "start_time": "2021-07-29T12:09:14.009Z"
   },
   {
    "duration": 1377,
    "start_time": "2021-07-29T12:09:14.013Z"
   },
   {
    "duration": 1378,
    "start_time": "2021-07-29T12:09:14.014Z"
   },
   {
    "duration": 1378,
    "start_time": "2021-07-29T12:09:14.015Z"
   },
   {
    "duration": 1379,
    "start_time": "2021-07-29T12:09:14.016Z"
   },
   {
    "duration": 1378,
    "start_time": "2021-07-29T12:09:14.018Z"
   },
   {
    "duration": 1378,
    "start_time": "2021-07-29T12:09:14.019Z"
   },
   {
    "duration": 1378,
    "start_time": "2021-07-29T12:09:14.020Z"
   },
   {
    "duration": 1379,
    "start_time": "2021-07-29T12:09:14.021Z"
   },
   {
    "duration": 1379,
    "start_time": "2021-07-29T12:09:14.022Z"
   },
   {
    "duration": 1379,
    "start_time": "2021-07-29T12:09:14.024Z"
   },
   {
    "duration": 1374,
    "start_time": "2021-07-29T12:09:14.030Z"
   },
   {
    "duration": 1374,
    "start_time": "2021-07-29T12:09:14.032Z"
   },
   {
    "duration": 1374,
    "start_time": "2021-07-29T12:09:14.033Z"
   },
   {
    "duration": 1374,
    "start_time": "2021-07-29T12:09:14.034Z"
   },
   {
    "duration": 1373,
    "start_time": "2021-07-29T12:09:14.036Z"
   },
   {
    "duration": 1636,
    "start_time": "2021-07-29T12:09:41.386Z"
   },
   {
    "duration": 153,
    "start_time": "2021-07-29T12:09:43.026Z"
   },
   {
    "duration": 63,
    "start_time": "2021-07-29T12:09:43.184Z"
   },
   {
    "duration": 7,
    "start_time": "2021-07-29T12:09:43.251Z"
   },
   {
    "duration": 38,
    "start_time": "2021-07-29T12:09:43.261Z"
   },
   {
    "duration": 15,
    "start_time": "2021-07-29T12:09:43.302Z"
   },
   {
    "duration": 7,
    "start_time": "2021-07-29T12:09:43.320Z"
   },
   {
    "duration": 7,
    "start_time": "2021-07-29T12:09:43.331Z"
   },
   {
    "duration": 13,
    "start_time": "2021-07-29T12:09:43.341Z"
   },
   {
    "duration": 46,
    "start_time": "2021-07-29T12:09:43.357Z"
   },
   {
    "duration": 15,
    "start_time": "2021-07-29T12:09:43.405Z"
   },
   {
    "duration": 4,
    "start_time": "2021-07-29T12:09:43.423Z"
   },
   {
    "duration": 13,
    "start_time": "2021-07-29T12:09:43.429Z"
   },
   {
    "duration": 7,
    "start_time": "2021-07-29T12:09:43.444Z"
   },
   {
    "duration": 49,
    "start_time": "2021-07-29T12:09:43.454Z"
   },
   {
    "duration": 6,
    "start_time": "2021-07-29T12:09:43.505Z"
   },
   {
    "duration": 389,
    "start_time": "2021-07-29T12:09:43.514Z"
   },
   {
    "duration": 526,
    "start_time": "2021-07-29T12:09:43.907Z"
   },
   {
    "duration": 1401,
    "start_time": "2021-07-29T12:09:43.035Z"
   },
   {
    "duration": 1401,
    "start_time": "2021-07-29T12:09:43.037Z"
   },
   {
    "duration": 1402,
    "start_time": "2021-07-29T12:09:43.038Z"
   },
   {
    "duration": 1402,
    "start_time": "2021-07-29T12:09:43.039Z"
   },
   {
    "duration": 1402,
    "start_time": "2021-07-29T12:09:43.041Z"
   },
   {
    "duration": 1402,
    "start_time": "2021-07-29T12:09:43.042Z"
   },
   {
    "duration": 1403,
    "start_time": "2021-07-29T12:09:43.043Z"
   },
   {
    "duration": 1400,
    "start_time": "2021-07-29T12:09:43.048Z"
   },
   {
    "duration": 1400,
    "start_time": "2021-07-29T12:09:43.050Z"
   },
   {
    "duration": 1399,
    "start_time": "2021-07-29T12:09:43.052Z"
   },
   {
    "duration": 1400,
    "start_time": "2021-07-29T12:09:43.053Z"
   },
   {
    "duration": 1400,
    "start_time": "2021-07-29T12:09:43.054Z"
   },
   {
    "duration": 1401,
    "start_time": "2021-07-29T12:09:43.055Z"
   },
   {
    "duration": 1400,
    "start_time": "2021-07-29T12:09:43.057Z"
   },
   {
    "duration": 1562,
    "start_time": "2021-07-29T12:17:12.553Z"
   },
   {
    "duration": 159,
    "start_time": "2021-07-29T12:17:14.118Z"
   },
   {
    "duration": 64,
    "start_time": "2021-07-29T12:17:14.281Z"
   },
   {
    "duration": 6,
    "start_time": "2021-07-29T12:17:14.349Z"
   },
   {
    "duration": 24,
    "start_time": "2021-07-29T12:17:14.358Z"
   },
   {
    "duration": 26,
    "start_time": "2021-07-29T12:17:14.384Z"
   },
   {
    "duration": 9,
    "start_time": "2021-07-29T12:17:14.413Z"
   },
   {
    "duration": 6,
    "start_time": "2021-07-29T12:17:14.426Z"
   },
   {
    "duration": 14,
    "start_time": "2021-07-29T12:17:14.435Z"
   },
   {
    "duration": 50,
    "start_time": "2021-07-29T12:17:14.452Z"
   },
   {
    "duration": 15,
    "start_time": "2021-07-29T12:17:14.505Z"
   },
   {
    "duration": 3,
    "start_time": "2021-07-29T12:17:14.522Z"
   },
   {
    "duration": 12,
    "start_time": "2021-07-29T12:17:14.527Z"
   },
   {
    "duration": 7,
    "start_time": "2021-07-29T12:17:14.541Z"
   },
   {
    "duration": 16,
    "start_time": "2021-07-29T12:17:14.550Z"
   },
   {
    "duration": 6,
    "start_time": "2021-07-29T12:17:14.602Z"
   },
   {
    "duration": 500,
    "start_time": "2021-07-29T12:17:14.611Z"
   },
   {
    "duration": 508,
    "start_time": "2021-07-29T12:17:15.114Z"
   },
   {
    "duration": 1403,
    "start_time": "2021-07-29T12:17:14.222Z"
   },
   {
    "duration": 1403,
    "start_time": "2021-07-29T12:17:14.223Z"
   },
   {
    "duration": 1401,
    "start_time": "2021-07-29T12:17:14.226Z"
   },
   {
    "duration": 1402,
    "start_time": "2021-07-29T12:17:14.227Z"
   },
   {
    "duration": 1402,
    "start_time": "2021-07-29T12:17:14.228Z"
   },
   {
    "duration": 1401,
    "start_time": "2021-07-29T12:17:14.230Z"
   },
   {
    "duration": 1401,
    "start_time": "2021-07-29T12:17:14.232Z"
   },
   {
    "duration": 1401,
    "start_time": "2021-07-29T12:17:14.233Z"
   },
   {
    "duration": 1398,
    "start_time": "2021-07-29T12:17:14.237Z"
   },
   {
    "duration": 1398,
    "start_time": "2021-07-29T12:17:14.238Z"
   },
   {
    "duration": 1397,
    "start_time": "2021-07-29T12:17:14.240Z"
   },
   {
    "duration": 1396,
    "start_time": "2021-07-29T12:17:14.242Z"
   },
   {
    "duration": 1397,
    "start_time": "2021-07-29T12:17:14.243Z"
   },
   {
    "duration": 1393,
    "start_time": "2021-07-29T12:17:14.248Z"
   },
   {
    "duration": 1504,
    "start_time": "2021-07-29T12:18:19.149Z"
   },
   {
    "duration": 146,
    "start_time": "2021-07-29T12:18:20.656Z"
   },
   {
    "duration": 64,
    "start_time": "2021-07-29T12:18:20.805Z"
   },
   {
    "duration": 5,
    "start_time": "2021-07-29T12:18:20.872Z"
   },
   {
    "duration": 36,
    "start_time": "2021-07-29T12:18:20.880Z"
   },
   {
    "duration": 12,
    "start_time": "2021-07-29T12:18:20.919Z"
   },
   {
    "duration": 8,
    "start_time": "2021-07-29T12:18:20.934Z"
   },
   {
    "duration": 6,
    "start_time": "2021-07-29T12:18:20.947Z"
   },
   {
    "duration": 50,
    "start_time": "2021-07-29T12:18:20.957Z"
   },
   {
    "duration": 8,
    "start_time": "2021-07-29T12:18:21.010Z"
   },
   {
    "duration": 18,
    "start_time": "2021-07-29T12:18:21.021Z"
   },
   {
    "duration": 492,
    "start_time": "2021-07-29T12:18:21.042Z"
   },
   {
    "duration": 1404,
    "start_time": "2021-07-29T12:18:20.133Z"
   },
   {
    "duration": 1404,
    "start_time": "2021-07-29T12:18:20.135Z"
   },
   {
    "duration": 1403,
    "start_time": "2021-07-29T12:18:20.137Z"
   },
   {
    "duration": 1404,
    "start_time": "2021-07-29T12:18:20.139Z"
   },
   {
    "duration": 1401,
    "start_time": "2021-07-29T12:18:20.143Z"
   },
   {
    "duration": 1401,
    "start_time": "2021-07-29T12:18:20.145Z"
   },
   {
    "duration": 1401,
    "start_time": "2021-07-29T12:18:20.147Z"
   },
   {
    "duration": 1402,
    "start_time": "2021-07-29T12:18:20.148Z"
   },
   {
    "duration": 1403,
    "start_time": "2021-07-29T12:18:20.149Z"
   },
   {
    "duration": 1404,
    "start_time": "2021-07-29T12:18:20.150Z"
   },
   {
    "duration": 1404,
    "start_time": "2021-07-29T12:18:20.152Z"
   },
   {
    "duration": 1405,
    "start_time": "2021-07-29T12:18:20.153Z"
   },
   {
    "duration": 1405,
    "start_time": "2021-07-29T12:18:20.154Z"
   },
   {
    "duration": 1406,
    "start_time": "2021-07-29T12:18:20.155Z"
   },
   {
    "duration": 1403,
    "start_time": "2021-07-29T12:18:20.160Z"
   },
   {
    "duration": 1403,
    "start_time": "2021-07-29T12:18:20.162Z"
   },
   {
    "duration": 1386,
    "start_time": "2021-07-29T12:18:20.180Z"
   },
   {
    "duration": 1386,
    "start_time": "2021-07-29T12:18:20.182Z"
   },
   {
    "duration": 1386,
    "start_time": "2021-07-29T12:18:20.184Z"
   },
   {
    "duration": 1383,
    "start_time": "2021-07-29T12:18:20.189Z"
   },
   {
    "duration": 1563,
    "start_time": "2021-07-29T12:18:52.756Z"
   },
   {
    "duration": 148,
    "start_time": "2021-07-29T12:18:54.322Z"
   },
   {
    "duration": 61,
    "start_time": "2021-07-29T12:18:54.477Z"
   },
   {
    "duration": 6,
    "start_time": "2021-07-29T12:18:54.542Z"
   },
   {
    "duration": 22,
    "start_time": "2021-07-29T12:18:54.551Z"
   },
   {
    "duration": 36,
    "start_time": "2021-07-29T12:18:54.576Z"
   },
   {
    "duration": 9,
    "start_time": "2021-07-29T12:18:54.617Z"
   },
   {
    "duration": 6,
    "start_time": "2021-07-29T12:18:54.631Z"
   },
   {
    "duration": 10,
    "start_time": "2021-07-29T12:18:54.640Z"
   },
   {
    "duration": 52,
    "start_time": "2021-07-29T12:18:54.653Z"
   },
   {
    "duration": 16,
    "start_time": "2021-07-29T12:18:54.708Z"
   },
   {
    "duration": 13,
    "start_time": "2021-07-29T12:18:54.727Z"
   },
   {
    "duration": 5,
    "start_time": "2021-07-29T12:18:54.743Z"
   },
   {
    "duration": 11,
    "start_time": "2021-07-29T12:18:54.751Z"
   },
   {
    "duration": 40,
    "start_time": "2021-07-29T12:18:54.765Z"
   },
   {
    "duration": 7,
    "start_time": "2021-07-29T12:18:54.807Z"
   },
   {
    "duration": 404,
    "start_time": "2021-07-29T12:18:54.817Z"
   },
   {
    "duration": 4383,
    "start_time": "2021-07-29T12:18:55.223Z"
   },
   {
    "duration": 91,
    "start_time": "2021-07-29T12:18:59.610Z"
   },
   {
    "duration": 37622,
    "start_time": "2021-07-29T12:18:59.704Z"
   },
   {
    "duration": 23,
    "start_time": "2021-07-29T12:19:37.329Z"
   },
   {
    "duration": 5,
    "start_time": "2021-07-29T12:19:37.358Z"
   },
   {
    "duration": 48,
    "start_time": "2021-07-29T12:19:37.367Z"
   },
   {
    "duration": 58614,
    "start_time": "2021-07-29T12:19:37.417Z"
   },
   {
    "duration": 28,
    "start_time": "2021-07-29T12:20:36.033Z"
   },
   {
    "duration": 787,
    "start_time": "2021-07-29T12:20:36.063Z"
   },
   {
    "duration": 6,
    "start_time": "2021-07-29T12:20:36.852Z"
   },
   {
    "duration": 24,
    "start_time": "2021-07-29T12:20:36.860Z"
   },
   {
    "duration": 26038,
    "start_time": "2021-07-29T12:20:36.901Z"
   },
   {
    "duration": 22,
    "start_time": "2021-07-29T12:21:02.941Z"
   },
   {
    "duration": 615,
    "start_time": "2021-07-29T12:21:02.965Z"
   },
   {
    "duration": 30,
    "start_time": "2021-07-29T12:21:03.582Z"
   },
   {
    "duration": 158,
    "start_time": "2021-07-29T13:00:07.461Z"
   },
   {
    "duration": 27,
    "start_time": "2021-07-29T13:03:05.226Z"
   },
   {
    "duration": 7,
    "start_time": "2021-07-29T13:03:18.163Z"
   },
   {
    "duration": 24,
    "start_time": "2021-07-29T13:03:25.681Z"
   },
   {
    "duration": 27,
    "start_time": "2021-07-29T13:03:45.003Z"
   },
   {
    "duration": 1472,
    "start_time": "2021-07-29T13:23:17.149Z"
   },
   {
    "duration": 148,
    "start_time": "2021-07-29T13:23:18.624Z"
   },
   {
    "duration": 60,
    "start_time": "2021-07-29T13:23:18.775Z"
   },
   {
    "duration": 5,
    "start_time": "2021-07-29T13:23:18.838Z"
   },
   {
    "duration": 22,
    "start_time": "2021-07-29T13:23:18.846Z"
   },
   {
    "duration": 32,
    "start_time": "2021-07-29T13:23:18.870Z"
   },
   {
    "duration": 7,
    "start_time": "2021-07-29T13:23:18.905Z"
   },
   {
    "duration": 11,
    "start_time": "2021-07-29T13:23:18.914Z"
   },
   {
    "duration": 23,
    "start_time": "2021-07-29T13:23:18.929Z"
   },
   {
    "duration": 7,
    "start_time": "2021-07-29T13:23:18.955Z"
   },
   {
    "duration": 42,
    "start_time": "2021-07-29T13:23:18.964Z"
   },
   {
    "duration": 3,
    "start_time": "2021-07-29T13:23:19.008Z"
   },
   {
    "duration": 15,
    "start_time": "2021-07-29T13:23:19.014Z"
   },
   {
    "duration": 15,
    "start_time": "2021-07-29T13:23:19.031Z"
   },
   {
    "duration": 7,
    "start_time": "2021-07-29T13:23:19.049Z"
   },
   {
    "duration": 6,
    "start_time": "2021-07-29T13:23:19.058Z"
   },
   {
    "duration": 40,
    "start_time": "2021-07-29T13:23:19.067Z"
   },
   {
    "duration": 29,
    "start_time": "2021-07-29T13:23:19.109Z"
   },
   {
    "duration": 24,
    "start_time": "2021-07-29T13:23:19.141Z"
   },
   {
    "duration": 410,
    "start_time": "2021-07-29T13:23:19.167Z"
   },
   {
    "duration": 553,
    "start_time": "2021-07-29T13:23:19.580Z"
   },
   {
    "duration": 1440,
    "start_time": "2021-07-29T13:23:18.697Z"
   },
   {
    "duration": 1440,
    "start_time": "2021-07-29T13:23:18.699Z"
   },
   {
    "duration": 1440,
    "start_time": "2021-07-29T13:23:18.701Z"
   },
   {
    "duration": 1441,
    "start_time": "2021-07-29T13:23:18.702Z"
   },
   {
    "duration": 1436,
    "start_time": "2021-07-29T13:23:18.708Z"
   },
   {
    "duration": 1435,
    "start_time": "2021-07-29T13:23:18.710Z"
   },
   {
    "duration": 1435,
    "start_time": "2021-07-29T13:23:18.712Z"
   },
   {
    "duration": 1435,
    "start_time": "2021-07-29T13:23:18.713Z"
   },
   {
    "duration": 1434,
    "start_time": "2021-07-29T13:23:18.715Z"
   },
   {
    "duration": 1434,
    "start_time": "2021-07-29T13:23:18.717Z"
   },
   {
    "duration": 1430,
    "start_time": "2021-07-29T13:23:18.722Z"
   },
   {
    "duration": 1430,
    "start_time": "2021-07-29T13:23:18.723Z"
   },
   {
    "duration": 1429,
    "start_time": "2021-07-29T13:23:18.725Z"
   },
   {
    "duration": 1430,
    "start_time": "2021-07-29T13:23:18.726Z"
   },
   {
    "duration": 33,
    "start_time": "2021-07-29T13:24:01.388Z"
   },
   {
    "duration": 365,
    "start_time": "2021-07-29T13:29:08.474Z"
   },
   {
    "duration": 46,
    "start_time": "2021-07-29T13:31:03.229Z"
   },
   {
    "duration": 29,
    "start_time": "2021-07-29T13:31:04.941Z"
   },
   {
    "duration": 1597,
    "start_time": "2021-07-29T13:31:13.472Z"
   },
   {
    "duration": 187,
    "start_time": "2021-07-29T13:31:15.073Z"
   },
   {
    "duration": 66,
    "start_time": "2021-07-29T13:31:15.263Z"
   },
   {
    "duration": 6,
    "start_time": "2021-07-29T13:31:15.332Z"
   },
   {
    "duration": 25,
    "start_time": "2021-07-29T13:31:15.341Z"
   },
   {
    "duration": 37,
    "start_time": "2021-07-29T13:31:15.368Z"
   },
   {
    "duration": 8,
    "start_time": "2021-07-29T13:31:15.408Z"
   },
   {
    "duration": 6,
    "start_time": "2021-07-29T13:31:15.419Z"
   },
   {
    "duration": 15,
    "start_time": "2021-07-29T13:31:15.428Z"
   },
   {
    "duration": 9,
    "start_time": "2021-07-29T13:31:15.446Z"
   },
   {
    "duration": 14,
    "start_time": "2021-07-29T13:31:15.500Z"
   },
   {
    "duration": 3,
    "start_time": "2021-07-29T13:31:15.516Z"
   },
   {
    "duration": 6,
    "start_time": "2021-07-29T13:31:15.521Z"
   },
   {
    "duration": 16,
    "start_time": "2021-07-29T13:31:15.529Z"
   },
   {
    "duration": 22,
    "start_time": "2021-07-29T13:31:15.547Z"
   },
   {
    "duration": 31,
    "start_time": "2021-07-29T13:31:15.571Z"
   },
   {
    "duration": 49,
    "start_time": "2021-07-29T13:31:15.605Z"
   },
   {
    "duration": 398,
    "start_time": "2021-07-29T13:31:15.657Z"
   },
   {
    "duration": 594,
    "start_time": "2021-07-29T13:31:16.057Z"
   },
   {
    "duration": 1437,
    "start_time": "2021-07-29T13:31:15.217Z"
   },
   {
    "duration": 1437,
    "start_time": "2021-07-29T13:31:15.218Z"
   },
   {
    "duration": 1434,
    "start_time": "2021-07-29T13:31:15.222Z"
   },
   {
    "duration": 1433,
    "start_time": "2021-07-29T13:31:15.224Z"
   },
   {
    "duration": 1434,
    "start_time": "2021-07-29T13:31:15.225Z"
   },
   {
    "duration": 1434,
    "start_time": "2021-07-29T13:31:15.226Z"
   },
   {
    "duration": 1430,
    "start_time": "2021-07-29T13:31:15.231Z"
   },
   {
    "duration": 1430,
    "start_time": "2021-07-29T13:31:15.232Z"
   },
   {
    "duration": 1430,
    "start_time": "2021-07-29T13:31:15.234Z"
   },
   {
    "duration": 1430,
    "start_time": "2021-07-29T13:31:15.235Z"
   },
   {
    "duration": 1430,
    "start_time": "2021-07-29T13:31:15.236Z"
   },
   {
    "duration": 1430,
    "start_time": "2021-07-29T13:31:15.237Z"
   },
   {
    "duration": 1430,
    "start_time": "2021-07-29T13:31:15.239Z"
   },
   {
    "duration": 1430,
    "start_time": "2021-07-29T13:31:15.240Z"
   },
   {
    "duration": 1616,
    "start_time": "2021-07-29T13:32:18.395Z"
   },
   {
    "duration": 156,
    "start_time": "2021-07-29T13:32:20.014Z"
   },
   {
    "duration": 65,
    "start_time": "2021-07-29T13:32:20.173Z"
   },
   {
    "duration": 6,
    "start_time": "2021-07-29T13:32:20.242Z"
   },
   {
    "duration": 22,
    "start_time": "2021-07-29T13:32:20.251Z"
   },
   {
    "duration": 29,
    "start_time": "2021-07-29T13:32:20.276Z"
   },
   {
    "duration": 9,
    "start_time": "2021-07-29T13:32:20.307Z"
   },
   {
    "duration": 15,
    "start_time": "2021-07-29T13:32:20.320Z"
   },
   {
    "duration": 18,
    "start_time": "2021-07-29T13:32:20.339Z"
   },
   {
    "duration": 7,
    "start_time": "2021-07-29T13:32:20.362Z"
   },
   {
    "duration": 42,
    "start_time": "2021-07-29T13:32:20.372Z"
   },
   {
    "duration": 5,
    "start_time": "2021-07-29T13:32:20.418Z"
   },
   {
    "duration": 13,
    "start_time": "2021-07-29T13:32:20.426Z"
   },
   {
    "duration": 17,
    "start_time": "2021-07-29T13:32:20.442Z"
   },
   {
    "duration": 8,
    "start_time": "2021-07-29T13:32:20.462Z"
   },
   {
    "duration": 28,
    "start_time": "2021-07-29T13:32:20.473Z"
   },
   {
    "duration": 39,
    "start_time": "2021-07-29T13:32:20.503Z"
   },
   {
    "duration": 536,
    "start_time": "2021-07-29T13:32:20.544Z"
   },
   {
    "duration": 1109,
    "start_time": "2021-07-29T13:32:21.083Z"
   },
   {
    "duration": 1446,
    "start_time": "2021-07-29T13:32:20.749Z"
   },
   {
    "duration": 1446,
    "start_time": "2021-07-29T13:32:20.751Z"
   },
   {
    "duration": 1446,
    "start_time": "2021-07-29T13:32:20.753Z"
   },
   {
    "duration": 1446,
    "start_time": "2021-07-29T13:32:20.754Z"
   },
   {
    "duration": 1446,
    "start_time": "2021-07-29T13:32:20.756Z"
   },
   {
    "duration": 1446,
    "start_time": "2021-07-29T13:32:20.758Z"
   },
   {
    "duration": 1445,
    "start_time": "2021-07-29T13:32:20.760Z"
   },
   {
    "duration": 1442,
    "start_time": "2021-07-29T13:32:20.765Z"
   },
   {
    "duration": 1442,
    "start_time": "2021-07-29T13:32:20.767Z"
   },
   {
    "duration": 1442,
    "start_time": "2021-07-29T13:32:20.768Z"
   },
   {
    "duration": 1442,
    "start_time": "2021-07-29T13:32:20.770Z"
   },
   {
    "duration": 1442,
    "start_time": "2021-07-29T13:32:20.771Z"
   },
   {
    "duration": 1443,
    "start_time": "2021-07-29T13:32:20.772Z"
   },
   {
    "duration": 1442,
    "start_time": "2021-07-29T13:32:20.774Z"
   },
   {
    "duration": 1556,
    "start_time": "2021-07-29T13:34:08.701Z"
   },
   {
    "duration": 155,
    "start_time": "2021-07-29T13:34:10.260Z"
   },
   {
    "duration": 82,
    "start_time": "2021-07-29T13:34:10.419Z"
   },
   {
    "duration": 7,
    "start_time": "2021-07-29T13:34:10.505Z"
   },
   {
    "duration": 21,
    "start_time": "2021-07-29T13:34:10.515Z"
   },
   {
    "duration": 15,
    "start_time": "2021-07-29T13:34:10.539Z"
   },
   {
    "duration": 46,
    "start_time": "2021-07-29T13:34:10.557Z"
   },
   {
    "duration": 7,
    "start_time": "2021-07-29T13:34:10.608Z"
   },
   {
    "duration": 10,
    "start_time": "2021-07-29T13:34:10.619Z"
   },
   {
    "duration": 6,
    "start_time": "2021-07-29T13:34:10.632Z"
   },
   {
    "duration": 14,
    "start_time": "2021-07-29T13:34:10.641Z"
   },
   {
    "duration": 3,
    "start_time": "2021-07-29T13:34:10.657Z"
   },
   {
    "duration": 41,
    "start_time": "2021-07-29T13:34:10.662Z"
   },
   {
    "duration": 14,
    "start_time": "2021-07-29T13:34:10.707Z"
   },
   {
    "duration": 7,
    "start_time": "2021-07-29T13:34:10.727Z"
   },
   {
    "duration": 10,
    "start_time": "2021-07-29T13:34:10.737Z"
   },
   {
    "duration": 9300,
    "start_time": "2021-07-29T13:34:10.750Z"
   },
   {
    "duration": 1431,
    "start_time": "2021-07-29T13:34:18.623Z"
   },
   {
    "duration": 1430,
    "start_time": "2021-07-29T13:34:18.626Z"
   },
   {
    "duration": 1427,
    "start_time": "2021-07-29T13:34:18.631Z"
   },
   {
    "duration": 1426,
    "start_time": "2021-07-29T13:34:18.634Z"
   },
   {
    "duration": 1427,
    "start_time": "2021-07-29T13:34:18.636Z"
   },
   {
    "duration": 1426,
    "start_time": "2021-07-29T13:34:18.639Z"
   },
   {
    "duration": 1426,
    "start_time": "2021-07-29T13:34:18.641Z"
   },
   {
    "duration": 1423,
    "start_time": "2021-07-29T13:34:18.647Z"
   },
   {
    "duration": 1422,
    "start_time": "2021-07-29T13:34:18.650Z"
   },
   {
    "duration": 1424,
    "start_time": "2021-07-29T13:34:18.651Z"
   },
   {
    "duration": 1424,
    "start_time": "2021-07-29T13:34:18.653Z"
   },
   {
    "duration": 1424,
    "start_time": "2021-07-29T13:34:18.655Z"
   },
   {
    "duration": 1424,
    "start_time": "2021-07-29T13:34:18.657Z"
   },
   {
    "duration": 1424,
    "start_time": "2021-07-29T13:34:18.659Z"
   },
   {
    "duration": 1424,
    "start_time": "2021-07-29T13:34:18.661Z"
   },
   {
    "duration": 1425,
    "start_time": "2021-07-29T13:34:18.663Z"
   },
   {
    "duration": 426,
    "start_time": "2021-07-29T13:51:35.578Z"
   },
   {
    "duration": 28,
    "start_time": "2021-07-29T13:51:40.539Z"
   },
   {
    "duration": 6,
    "start_time": "2021-07-29T13:52:05.511Z"
   },
   {
    "duration": 27,
    "start_time": "2021-07-29T13:53:02.403Z"
   },
   {
    "duration": 6,
    "start_time": "2021-07-29T13:53:02.621Z"
   },
   {
    "duration": 7,
    "start_time": "2021-07-29T13:53:02.850Z"
   },
   {
    "duration": 14,
    "start_time": "2021-07-29T13:53:03.151Z"
   },
   {
    "duration": 6,
    "start_time": "2021-07-29T13:53:03.854Z"
   },
   {
    "duration": 18,
    "start_time": "2021-07-29T13:55:43.394Z"
   },
   {
    "duration": 1575,
    "start_time": "2021-07-29T14:04:32.628Z"
   },
   {
    "duration": 177,
    "start_time": "2021-07-29T14:04:34.206Z"
   },
   {
    "duration": 64,
    "start_time": "2021-07-29T14:04:34.388Z"
   },
   {
    "duration": 6,
    "start_time": "2021-07-29T14:04:34.456Z"
   },
   {
    "duration": 38,
    "start_time": "2021-07-29T14:04:34.465Z"
   },
   {
    "duration": 13,
    "start_time": "2021-07-29T14:04:34.506Z"
   },
   {
    "duration": 8,
    "start_time": "2021-07-29T14:04:34.521Z"
   },
   {
    "duration": 5,
    "start_time": "2021-07-29T14:04:34.533Z"
   },
   {
    "duration": 13,
    "start_time": "2021-07-29T14:04:34.541Z"
   },
   {
    "duration": 45,
    "start_time": "2021-07-29T14:04:34.556Z"
   },
   {
    "duration": 35,
    "start_time": "2021-07-29T14:04:34.603Z"
   },
   {
    "duration": 6,
    "start_time": "2021-07-29T14:04:34.641Z"
   },
   {
    "duration": 50,
    "start_time": "2021-07-29T14:04:34.651Z"
   },
   {
    "duration": 22,
    "start_time": "2021-07-29T14:04:34.704Z"
   },
   {
    "duration": 8,
    "start_time": "2021-07-29T14:04:34.728Z"
   },
   {
    "duration": 6,
    "start_time": "2021-07-29T14:04:34.738Z"
   },
   {
    "duration": 5,
    "start_time": "2021-07-29T14:04:34.747Z"
   },
   {
    "duration": 13,
    "start_time": "2021-07-29T14:04:34.755Z"
   },
   {
    "duration": 10,
    "start_time": "2021-07-29T14:04:34.802Z"
   },
   {
    "duration": 22,
    "start_time": "2021-07-29T14:04:34.815Z"
   },
   {
    "duration": 5,
    "start_time": "2021-07-29T14:04:34.840Z"
   },
   {
    "duration": 9270,
    "start_time": "2021-07-29T14:04:34.848Z"
   },
   {
    "duration": 1453,
    "start_time": "2021-07-29T14:04:42.671Z"
   },
   {
    "duration": 1453,
    "start_time": "2021-07-29T14:04:42.673Z"
   },
   {
    "duration": 1452,
    "start_time": "2021-07-29T14:04:42.676Z"
   },
   {
    "duration": 1451,
    "start_time": "2021-07-29T14:04:42.678Z"
   },
   {
    "duration": 1452,
    "start_time": "2021-07-29T14:04:42.679Z"
   },
   {
    "duration": 1452,
    "start_time": "2021-07-29T14:04:42.681Z"
   },
   {
    "duration": 1452,
    "start_time": "2021-07-29T14:04:42.683Z"
   },
   {
    "duration": 1452,
    "start_time": "2021-07-29T14:04:42.685Z"
   },
   {
    "duration": 1453,
    "start_time": "2021-07-29T14:04:42.686Z"
   },
   {
    "duration": 1449,
    "start_time": "2021-07-29T14:04:42.692Z"
   },
   {
    "duration": 1447,
    "start_time": "2021-07-29T14:04:42.695Z"
   },
   {
    "duration": 1447,
    "start_time": "2021-07-29T14:04:42.697Z"
   },
   {
    "duration": 1447,
    "start_time": "2021-07-29T14:04:42.699Z"
   },
   {
    "duration": 1448,
    "start_time": "2021-07-29T14:04:42.700Z"
   },
   {
    "duration": 1448,
    "start_time": "2021-07-29T14:04:42.702Z"
   },
   {
    "duration": 1447,
    "start_time": "2021-07-29T14:04:42.704Z"
   },
   {
    "duration": 3,
    "start_time": "2021-07-29T14:06:27.395Z"
   },
   {
    "duration": 1688,
    "start_time": "2021-07-29T14:07:31.008Z"
   },
   {
    "duration": 267,
    "start_time": "2021-07-29T14:07:32.699Z"
   },
   {
    "duration": 74,
    "start_time": "2021-07-29T14:07:32.972Z"
   },
   {
    "duration": 5,
    "start_time": "2021-07-29T14:07:33.049Z"
   },
   {
    "duration": 27,
    "start_time": "2021-07-29T14:07:33.057Z"
   },
   {
    "duration": 17,
    "start_time": "2021-07-29T14:07:33.101Z"
   },
   {
    "duration": 8,
    "start_time": "2021-07-29T14:07:33.123Z"
   },
   {
    "duration": 7,
    "start_time": "2021-07-29T14:07:33.134Z"
   },
   {
    "duration": 15,
    "start_time": "2021-07-29T14:07:33.144Z"
   },
   {
    "duration": 47,
    "start_time": "2021-07-29T14:07:33.162Z"
   },
   {
    "duration": 47,
    "start_time": "2021-07-29T14:07:33.213Z"
   },
   {
    "duration": 5,
    "start_time": "2021-07-29T14:07:33.263Z"
   },
   {
    "duration": 30,
    "start_time": "2021-07-29T14:07:33.271Z"
   },
   {
    "duration": 23,
    "start_time": "2021-07-29T14:07:33.304Z"
   },
   {
    "duration": 6,
    "start_time": "2021-07-29T14:07:33.330Z"
   },
   {
    "duration": 5,
    "start_time": "2021-07-29T14:07:33.338Z"
   },
   {
    "duration": 7,
    "start_time": "2021-07-29T14:07:33.346Z"
   },
   {
    "duration": 54,
    "start_time": "2021-07-29T14:07:33.356Z"
   },
   {
    "duration": 8,
    "start_time": "2021-07-29T14:07:33.414Z"
   },
   {
    "duration": 15,
    "start_time": "2021-07-29T14:07:33.425Z"
   },
   {
    "duration": 8,
    "start_time": "2021-07-29T14:07:33.443Z"
   },
   {
    "duration": 15,
    "start_time": "2021-07-29T14:07:33.456Z"
   },
   {
    "duration": 553,
    "start_time": "2021-07-29T14:07:33.474Z"
   },
   {
    "duration": 1479,
    "start_time": "2021-07-29T14:07:32.551Z"
   },
   {
    "duration": 1474,
    "start_time": "2021-07-29T14:07:32.557Z"
   },
   {
    "duration": 1473,
    "start_time": "2021-07-29T14:07:32.560Z"
   },
   {
    "duration": 1470,
    "start_time": "2021-07-29T14:07:32.564Z"
   },
   {
    "duration": 1467,
    "start_time": "2021-07-29T14:07:32.569Z"
   },
   {
    "duration": 1465,
    "start_time": "2021-07-29T14:07:32.572Z"
   },
   {
    "duration": 1463,
    "start_time": "2021-07-29T14:07:32.575Z"
   },
   {
    "duration": 1462,
    "start_time": "2021-07-29T14:07:32.578Z"
   },
   {
    "duration": 1460,
    "start_time": "2021-07-29T14:07:32.581Z"
   },
   {
    "duration": 1458,
    "start_time": "2021-07-29T14:07:32.584Z"
   },
   {
    "duration": 1456,
    "start_time": "2021-07-29T14:07:32.587Z"
   },
   {
    "duration": 1453,
    "start_time": "2021-07-29T14:07:32.591Z"
   },
   {
    "duration": 1449,
    "start_time": "2021-07-29T14:07:32.596Z"
   },
   {
    "duration": 1447,
    "start_time": "2021-07-29T14:07:32.599Z"
   },
   {
    "duration": 1445,
    "start_time": "2021-07-29T14:07:32.602Z"
   },
   {
    "duration": 1442,
    "start_time": "2021-07-29T14:07:32.606Z"
   },
   {
    "duration": 1440,
    "start_time": "2021-07-29T14:07:32.609Z"
   },
   {
    "duration": 1439,
    "start_time": "2021-07-29T14:07:32.611Z"
   },
   {
    "duration": 1556,
    "start_time": "2021-07-29T14:08:52.360Z"
   },
   {
    "duration": 155,
    "start_time": "2021-07-29T14:08:53.920Z"
   },
   {
    "duration": 65,
    "start_time": "2021-07-29T14:08:54.079Z"
   },
   {
    "duration": 5,
    "start_time": "2021-07-29T14:08:54.147Z"
   },
   {
    "duration": 19,
    "start_time": "2021-07-29T14:08:54.155Z"
   },
   {
    "duration": 27,
    "start_time": "2021-07-29T14:08:54.176Z"
   },
   {
    "duration": 7,
    "start_time": "2021-07-29T14:08:54.206Z"
   },
   {
    "duration": 5,
    "start_time": "2021-07-29T14:08:54.217Z"
   },
   {
    "duration": 14,
    "start_time": "2021-07-29T14:08:54.225Z"
   },
   {
    "duration": 7,
    "start_time": "2021-07-29T14:08:54.242Z"
   },
   {
    "duration": 75,
    "start_time": "2021-07-29T14:08:54.251Z"
   },
   {
    "duration": 5,
    "start_time": "2021-07-29T14:08:54.328Z"
   },
   {
    "duration": 15,
    "start_time": "2021-07-29T14:08:54.335Z"
   },
   {
    "duration": 31,
    "start_time": "2021-07-29T14:08:54.352Z"
   },
   {
    "duration": 22,
    "start_time": "2021-07-29T14:08:54.385Z"
   },
   {
    "duration": 20,
    "start_time": "2021-07-29T14:08:54.410Z"
   },
   {
    "duration": 20,
    "start_time": "2021-07-29T14:08:54.432Z"
   },
   {
    "duration": 23,
    "start_time": "2021-07-29T14:08:54.454Z"
   },
   {
    "duration": 12,
    "start_time": "2021-07-29T14:08:54.479Z"
   },
   {
    "duration": 22,
    "start_time": "2021-07-29T14:08:54.493Z"
   },
   {
    "duration": 6,
    "start_time": "2021-07-29T14:08:54.518Z"
   },
   {
    "duration": 10,
    "start_time": "2021-07-29T14:08:54.526Z"
   },
   {
    "duration": 14,
    "start_time": "2021-07-29T14:08:54.541Z"
   },
   {
    "duration": 44,
    "start_time": "2021-07-29T14:08:54.558Z"
   },
   {
    "duration": 22,
    "start_time": "2021-07-29T14:08:54.604Z"
   },
   {
    "duration": 23,
    "start_time": "2021-07-29T14:08:54.628Z"
   },
   {
    "duration": 416,
    "start_time": "2021-07-29T14:08:54.654Z"
   },
   {
    "duration": 236,
    "start_time": "2021-07-29T14:08:55.073Z"
   },
   {
    "duration": 99,
    "start_time": "2021-07-29T14:08:55.401Z"
   },
   {
    "duration": 37163,
    "start_time": "2021-07-29T14:08:55.503Z"
   },
   {
    "duration": 16,
    "start_time": "2021-07-29T14:09:32.669Z"
   },
   {
    "duration": 8,
    "start_time": "2021-07-29T14:09:32.702Z"
   },
   {
    "duration": 20,
    "start_time": "2021-07-29T14:09:32.713Z"
   },
   {
    "duration": 57519,
    "start_time": "2021-07-29T14:09:32.736Z"
   },
   {
    "duration": 42,
    "start_time": "2021-07-29T14:10:30.258Z"
   },
   {
    "duration": 689,
    "start_time": "2021-07-29T14:10:30.302Z"
   },
   {
    "duration": 10,
    "start_time": "2021-07-29T14:10:30.993Z"
   },
   {
    "duration": 42,
    "start_time": "2021-07-29T14:10:31.005Z"
   },
   {
    "duration": 26423,
    "start_time": "2021-07-29T14:10:31.049Z"
   },
   {
    "duration": 38,
    "start_time": "2021-07-29T14:10:57.474Z"
   },
   {
    "duration": 585,
    "start_time": "2021-07-29T14:10:57.515Z"
   },
   {
    "duration": 28,
    "start_time": "2021-07-29T14:10:58.102Z"
   },
   {
    "duration": 1624,
    "start_time": "2021-07-29T14:14:44.818Z"
   },
   {
    "duration": 156,
    "start_time": "2021-07-29T14:14:46.445Z"
   },
   {
    "duration": 62,
    "start_time": "2021-07-29T14:14:46.605Z"
   },
   {
    "duration": 6,
    "start_time": "2021-07-29T14:14:46.670Z"
   },
   {
    "duration": 22,
    "start_time": "2021-07-29T14:14:46.701Z"
   },
   {
    "duration": 12,
    "start_time": "2021-07-29T14:14:46.725Z"
   },
   {
    "duration": 8,
    "start_time": "2021-07-29T14:14:46.739Z"
   },
   {
    "duration": 8,
    "start_time": "2021-07-29T14:14:46.750Z"
   },
   {
    "duration": 43,
    "start_time": "2021-07-29T14:14:46.761Z"
   },
   {
    "duration": 7,
    "start_time": "2021-07-29T14:14:46.807Z"
   },
   {
    "duration": 37,
    "start_time": "2021-07-29T14:14:46.816Z"
   },
   {
    "duration": 6,
    "start_time": "2021-07-29T14:14:46.856Z"
   },
   {
    "duration": 42,
    "start_time": "2021-07-29T14:14:46.865Z"
   },
   {
    "duration": 18,
    "start_time": "2021-07-29T14:14:46.909Z"
   },
   {
    "duration": 12,
    "start_time": "2021-07-29T14:14:46.930Z"
   },
   {
    "duration": 9,
    "start_time": "2021-07-29T14:14:46.945Z"
   },
   {
    "duration": 12,
    "start_time": "2021-07-29T14:14:46.957Z"
   },
   {
    "duration": 35,
    "start_time": "2021-07-29T14:14:46.971Z"
   },
   {
    "duration": 15,
    "start_time": "2021-07-29T14:14:47.009Z"
   },
   {
    "duration": 27,
    "start_time": "2021-07-29T14:14:47.027Z"
   },
   {
    "duration": 9,
    "start_time": "2021-07-29T14:14:47.057Z"
   },
   {
    "duration": 28,
    "start_time": "2021-07-29T14:14:47.068Z"
   },
   {
    "duration": 28,
    "start_time": "2021-07-29T14:14:47.103Z"
   },
   {
    "duration": 40,
    "start_time": "2021-07-29T14:14:47.134Z"
   },
   {
    "duration": 34,
    "start_time": "2021-07-29T14:14:47.177Z"
   },
   {
    "duration": 26,
    "start_time": "2021-07-29T14:14:47.215Z"
   },
   {
    "duration": 419,
    "start_time": "2021-07-29T14:14:47.244Z"
   },
   {
    "duration": 334,
    "start_time": "2021-07-29T14:14:47.666Z"
   },
   {
    "duration": 96,
    "start_time": "2021-07-29T14:14:48.005Z"
   },
   {
    "duration": 38824,
    "start_time": "2021-07-29T14:14:48.104Z"
   },
   {
    "duration": 23,
    "start_time": "2021-07-29T14:15:26.931Z"
   },
   {
    "duration": 5,
    "start_time": "2021-07-29T14:15:26.956Z"
   },
   {
    "duration": 44,
    "start_time": "2021-07-29T14:15:26.964Z"
   },
   {
    "duration": 58953,
    "start_time": "2021-07-29T14:15:27.010Z"
   },
   {
    "duration": 40,
    "start_time": "2021-07-29T14:16:25.965Z"
   },
   {
    "duration": 741,
    "start_time": "2021-07-29T14:16:26.007Z"
   },
   {
    "duration": 9,
    "start_time": "2021-07-29T14:16:26.751Z"
   },
   {
    "duration": 42,
    "start_time": "2021-07-29T14:16:26.763Z"
   },
   {
    "duration": 1570,
    "start_time": "2021-07-29T14:16:44.619Z"
   },
   {
    "duration": 157,
    "start_time": "2021-07-29T14:16:46.192Z"
   },
   {
    "duration": 81,
    "start_time": "2021-07-29T14:16:46.355Z"
   },
   {
    "duration": 6,
    "start_time": "2021-07-29T14:16:46.438Z"
   },
   {
    "duration": 23,
    "start_time": "2021-07-29T14:16:46.446Z"
   },
   {
    "duration": 40,
    "start_time": "2021-07-29T14:16:46.471Z"
   },
   {
    "duration": 12,
    "start_time": "2021-07-29T14:16:46.516Z"
   },
   {
    "duration": 6,
    "start_time": "2021-07-29T14:16:46.531Z"
   },
   {
    "duration": 14,
    "start_time": "2021-07-29T14:16:46.539Z"
   },
   {
    "duration": 7,
    "start_time": "2021-07-29T14:16:46.556Z"
   },
   {
    "duration": 33,
    "start_time": "2021-07-29T14:16:46.600Z"
   },
   {
    "duration": 5,
    "start_time": "2021-07-29T14:16:46.635Z"
   },
   {
    "duration": 8,
    "start_time": "2021-07-29T14:16:46.643Z"
   },
   {
    "duration": 53,
    "start_time": "2021-07-29T14:16:46.653Z"
   },
   {
    "duration": 9,
    "start_time": "2021-07-29T14:16:46.708Z"
   },
   {
    "duration": 4,
    "start_time": "2021-07-29T14:16:46.719Z"
   },
   {
    "duration": 5,
    "start_time": "2021-07-29T14:16:46.726Z"
   },
   {
    "duration": 10,
    "start_time": "2021-07-29T14:16:46.734Z"
   },
   {
    "duration": 16,
    "start_time": "2021-07-29T14:16:46.747Z"
   },
   {
    "duration": 51,
    "start_time": "2021-07-29T14:16:46.765Z"
   },
   {
    "duration": 5,
    "start_time": "2021-07-29T14:16:46.818Z"
   },
   {
    "duration": 4,
    "start_time": "2021-07-29T14:16:46.828Z"
   },
   {
    "duration": 12,
    "start_time": "2021-07-29T14:16:46.835Z"
   },
   {
    "duration": 68,
    "start_time": "2021-07-29T14:16:46.849Z"
   },
   {
    "duration": 35,
    "start_time": "2021-07-29T14:16:46.920Z"
   },
   {
    "duration": 62,
    "start_time": "2021-07-29T14:16:46.958Z"
   },
   {
    "duration": 577,
    "start_time": "2021-07-29T14:16:47.023Z"
   },
   {
    "duration": 206,
    "start_time": "2021-07-29T14:16:47.602Z"
   },
   {
    "duration": 92,
    "start_time": "2021-07-29T14:16:47.811Z"
   },
   {
    "duration": 42960,
    "start_time": "2021-07-29T14:16:47.907Z"
   },
   {
    "duration": 35,
    "start_time": "2021-07-29T14:17:30.869Z"
   },
   {
    "duration": 6,
    "start_time": "2021-07-29T14:17:30.906Z"
   },
   {
    "duration": 25,
    "start_time": "2021-07-29T14:17:30.914Z"
   },
   {
    "duration": 1642,
    "start_time": "2021-07-29T14:18:16.384Z"
   },
   {
    "duration": 160,
    "start_time": "2021-07-29T14:18:18.029Z"
   },
   {
    "duration": 61,
    "start_time": "2021-07-29T14:18:18.192Z"
   },
   {
    "duration": 6,
    "start_time": "2021-07-29T14:18:18.256Z"
   },
   {
    "duration": 20,
    "start_time": "2021-07-29T14:18:18.264Z"
   },
   {
    "duration": 26,
    "start_time": "2021-07-29T14:18:18.287Z"
   },
   {
    "duration": 10,
    "start_time": "2021-07-29T14:18:18.316Z"
   },
   {
    "duration": 5,
    "start_time": "2021-07-29T14:18:18.332Z"
   },
   {
    "duration": 15,
    "start_time": "2021-07-29T14:18:18.341Z"
   },
   {
    "duration": 9,
    "start_time": "2021-07-29T14:18:18.399Z"
   },
   {
    "duration": 37,
    "start_time": "2021-07-29T14:18:18.410Z"
   },
   {
    "duration": 5,
    "start_time": "2021-07-29T14:18:18.449Z"
   },
   {
    "duration": 44,
    "start_time": "2021-07-29T14:18:18.456Z"
   },
   {
    "duration": 17,
    "start_time": "2021-07-29T14:18:18.503Z"
   },
   {
    "duration": 7,
    "start_time": "2021-07-29T14:18:18.523Z"
   },
   {
    "duration": 7,
    "start_time": "2021-07-29T14:18:18.533Z"
   },
   {
    "duration": 6,
    "start_time": "2021-07-29T14:18:18.543Z"
   },
   {
    "duration": 14,
    "start_time": "2021-07-29T14:18:18.551Z"
   },
   {
    "duration": 37,
    "start_time": "2021-07-29T14:18:18.568Z"
   },
   {
    "duration": 16,
    "start_time": "2021-07-29T14:18:18.607Z"
   },
   {
    "duration": 2,
    "start_time": "2021-07-29T14:18:18.626Z"
   },
   {
    "duration": 6,
    "start_time": "2021-07-29T14:18:18.631Z"
   },
   {
    "duration": 11,
    "start_time": "2021-07-29T14:18:18.643Z"
   },
   {
    "duration": 71,
    "start_time": "2021-07-29T14:18:18.658Z"
   },
   {
    "duration": 22,
    "start_time": "2021-07-29T14:18:18.732Z"
   },
   {
    "duration": 45,
    "start_time": "2021-07-29T14:18:18.757Z"
   },
   {
    "duration": 384,
    "start_time": "2021-07-29T14:18:18.805Z"
   },
   {
    "duration": 310,
    "start_time": "2021-07-29T14:18:19.192Z"
   },
   {
    "duration": 95,
    "start_time": "2021-07-29T14:18:19.506Z"
   },
   {
    "duration": 37568,
    "start_time": "2021-07-29T14:18:19.604Z"
   },
   {
    "duration": 38,
    "start_time": "2021-07-29T14:18:57.175Z"
   },
   {
    "duration": 5,
    "start_time": "2021-07-29T14:18:57.216Z"
   },
   {
    "duration": 21,
    "start_time": "2021-07-29T14:18:57.224Z"
   },
   {
    "duration": 522,
    "start_time": "2021-07-29T14:18:57.247Z"
   },
   {
    "duration": 1457,
    "start_time": "2021-07-29T14:18:56.314Z"
   },
   {
    "duration": 1457,
    "start_time": "2021-07-29T14:18:56.316Z"
   },
   {
    "duration": 1456,
    "start_time": "2021-07-29T14:18:56.318Z"
   },
   {
    "duration": 1455,
    "start_time": "2021-07-29T14:18:56.320Z"
   },
   {
    "duration": 1455,
    "start_time": "2021-07-29T14:18:56.322Z"
   },
   {
    "duration": 1454,
    "start_time": "2021-07-29T14:18:56.324Z"
   },
   {
    "duration": 1453,
    "start_time": "2021-07-29T14:18:56.326Z"
   },
   {
    "duration": 1453,
    "start_time": "2021-07-29T14:18:56.328Z"
   },
   {
    "duration": 510,
    "start_time": "2021-07-29T14:21:57.392Z"
   },
   {
    "duration": 361,
    "start_time": "2021-07-29T14:33:56.025Z"
   },
   {
    "duration": 2114,
    "start_time": "2021-07-29T14:34:00.020Z"
   },
   {
    "duration": 1466,
    "start_time": "2021-07-29T14:34:00.673Z"
   },
   {
    "duration": 1463,
    "start_time": "2021-07-29T14:34:00.677Z"
   },
   {
    "duration": 1461,
    "start_time": "2021-07-29T14:34:00.681Z"
   },
   {
    "duration": 1459,
    "start_time": "2021-07-29T14:34:00.684Z"
   },
   {
    "duration": 1457,
    "start_time": "2021-07-29T14:34:00.688Z"
   },
   {
    "duration": 1452,
    "start_time": "2021-07-29T14:34:00.695Z"
   },
   {
    "duration": 1452,
    "start_time": "2021-07-29T14:34:00.697Z"
   },
   {
    "duration": 1454,
    "start_time": "2021-07-29T14:34:00.698Z"
   },
   {
    "duration": 1454,
    "start_time": "2021-07-29T14:34:00.700Z"
   },
   {
    "duration": 1454,
    "start_time": "2021-07-29T14:34:00.702Z"
   },
   {
    "duration": 1455,
    "start_time": "2021-07-29T14:34:00.703Z"
   },
   {
    "duration": 1455,
    "start_time": "2021-07-29T14:34:00.705Z"
   },
   {
    "duration": 1455,
    "start_time": "2021-07-29T14:34:00.707Z"
   },
   {
    "duration": 1456,
    "start_time": "2021-07-29T14:34:00.708Z"
   },
   {
    "duration": 1457,
    "start_time": "2021-07-29T14:34:00.710Z"
   },
   {
    "duration": 1454,
    "start_time": "2021-07-29T14:34:00.715Z"
   },
   {
    "duration": 1453,
    "start_time": "2021-07-29T14:34:00.718Z"
   },
   {
    "duration": 1454,
    "start_time": "2021-07-29T14:34:00.719Z"
   },
   {
    "duration": 1477,
    "start_time": "2021-07-29T14:34:00.722Z"
   },
   {
    "duration": 1478,
    "start_time": "2021-07-29T14:34:00.724Z"
   },
   {
    "duration": 1477,
    "start_time": "2021-07-29T14:34:00.728Z"
   },
   {
    "duration": 1477,
    "start_time": "2021-07-29T14:34:00.730Z"
   },
   {
    "duration": 1475,
    "start_time": "2021-07-29T14:34:00.735Z"
   },
   {
    "duration": 1474,
    "start_time": "2021-07-29T14:34:00.738Z"
   },
   {
    "duration": 1469,
    "start_time": "2021-07-29T14:34:00.745Z"
   },
   {
    "duration": 1469,
    "start_time": "2021-07-29T14:34:00.747Z"
   },
   {
    "duration": 1368,
    "start_time": "2021-07-29T14:34:00.851Z"
   },
   {
    "duration": 1365,
    "start_time": "2021-07-29T14:34:00.856Z"
   },
   {
    "duration": 1366,
    "start_time": "2021-07-29T14:34:00.857Z"
   },
   {
    "duration": 1367,
    "start_time": "2021-07-29T14:34:00.859Z"
   },
   {
    "duration": 1368,
    "start_time": "2021-07-29T14:34:00.860Z"
   },
   {
    "duration": 1368,
    "start_time": "2021-07-29T14:34:00.862Z"
   },
   {
    "duration": 1348,
    "start_time": "2021-07-29T14:34:00.884Z"
   },
   {
    "duration": 1349,
    "start_time": "2021-07-29T14:34:00.885Z"
   },
   {
    "duration": 1349,
    "start_time": "2021-07-29T14:34:00.887Z"
   },
   {
    "duration": 1349,
    "start_time": "2021-07-29T14:34:00.889Z"
   },
   {
    "duration": 1350,
    "start_time": "2021-07-29T14:34:00.890Z"
   },
   {
    "duration": 1350,
    "start_time": "2021-07-29T14:34:00.891Z"
   },
   {
    "duration": 1349,
    "start_time": "2021-07-29T14:34:00.893Z"
   },
   {
    "duration": 1349,
    "start_time": "2021-07-29T14:34:00.894Z"
   },
   {
    "duration": 1407,
    "start_time": "2021-07-29T14:34:00.895Z"
   },
   {
    "duration": 1408,
    "start_time": "2021-07-29T14:34:00.896Z"
   },
   {
    "duration": 1683,
    "start_time": "2021-07-29T14:35:15.846Z"
   },
   {
    "duration": 245,
    "start_time": "2021-07-29T14:35:17.531Z"
   },
   {
    "duration": 130,
    "start_time": "2021-07-29T14:35:17.781Z"
   },
   {
    "duration": 34,
    "start_time": "2021-07-29T14:35:17.929Z"
   },
   {
    "duration": 52,
    "start_time": "2021-07-29T14:35:17.989Z"
   },
   {
    "duration": 13,
    "start_time": "2021-07-29T14:35:18.043Z"
   },
   {
    "duration": 12,
    "start_time": "2021-07-29T14:35:18.058Z"
   },
   {
    "duration": 6,
    "start_time": "2021-07-29T14:35:18.074Z"
   },
   {
    "duration": 23,
    "start_time": "2021-07-29T14:35:18.084Z"
   },
   {
    "duration": 8,
    "start_time": "2021-07-29T14:35:18.109Z"
   },
   {
    "duration": 35,
    "start_time": "2021-07-29T14:35:18.120Z"
   },
   {
    "duration": 5,
    "start_time": "2021-07-29T14:35:18.157Z"
   },
   {
    "duration": 39,
    "start_time": "2021-07-29T14:35:18.164Z"
   },
   {
    "duration": 15,
    "start_time": "2021-07-29T14:35:18.206Z"
   },
   {
    "duration": 10,
    "start_time": "2021-07-29T14:35:18.224Z"
   },
   {
    "duration": 5,
    "start_time": "2021-07-29T14:35:18.236Z"
   },
   {
    "duration": 8,
    "start_time": "2021-07-29T14:35:18.244Z"
   },
   {
    "duration": 13,
    "start_time": "2021-07-29T14:35:18.254Z"
   },
   {
    "duration": 39,
    "start_time": "2021-07-29T14:35:18.269Z"
   },
   {
    "duration": 19,
    "start_time": "2021-07-29T14:35:18.310Z"
   },
   {
    "duration": 7,
    "start_time": "2021-07-29T14:35:18.331Z"
   },
   {
    "duration": 8,
    "start_time": "2021-07-29T14:35:18.341Z"
   },
   {
    "duration": 11,
    "start_time": "2021-07-29T14:35:18.354Z"
   },
   {
    "duration": 59,
    "start_time": "2021-07-29T14:35:18.368Z"
   },
   {
    "duration": 24,
    "start_time": "2021-07-29T14:35:18.429Z"
   },
   {
    "duration": 51,
    "start_time": "2021-07-29T14:35:18.456Z"
   },
   {
    "duration": 378,
    "start_time": "2021-07-29T14:35:18.509Z"
   },
   {
    "duration": 220,
    "start_time": "2021-07-29T14:35:18.889Z"
   },
   {
    "duration": 7,
    "start_time": "2021-07-29T14:35:19.202Z"
   },
   {
    "duration": 38422,
    "start_time": "2021-07-29T14:35:19.212Z"
   },
   {
    "duration": 26,
    "start_time": "2021-07-29T14:35:57.637Z"
   },
   {
    "duration": 5,
    "start_time": "2021-07-29T14:35:57.665Z"
   },
   {
    "duration": 44,
    "start_time": "2021-07-29T14:35:57.673Z"
   },
   {
    "duration": 527,
    "start_time": "2021-07-29T14:35:57.719Z"
   },
   {
    "duration": 1471,
    "start_time": "2021-07-29T14:35:56.777Z"
   },
   {
    "duration": 1469,
    "start_time": "2021-07-29T14:35:56.780Z"
   },
   {
    "duration": 1468,
    "start_time": "2021-07-29T14:35:56.782Z"
   },
   {
    "duration": 1467,
    "start_time": "2021-07-29T14:35:56.785Z"
   },
   {
    "duration": 1466,
    "start_time": "2021-07-29T14:35:56.787Z"
   },
   {
    "duration": 1464,
    "start_time": "2021-07-29T14:35:56.790Z"
   },
   {
    "duration": 1463,
    "start_time": "2021-07-29T14:35:56.793Z"
   },
   {
    "duration": 1462,
    "start_time": "2021-07-29T14:35:56.795Z"
   },
   {
    "duration": 1461,
    "start_time": "2021-07-29T14:35:56.797Z"
   },
   {
    "duration": 1603,
    "start_time": "2021-07-29T14:52:21.719Z"
   },
   {
    "duration": 400,
    "start_time": "2021-07-29T14:52:23.325Z"
   },
   {
    "duration": 100,
    "start_time": "2021-07-29T14:52:23.732Z"
   },
   {
    "duration": 7,
    "start_time": "2021-07-29T14:52:23.834Z"
   },
   {
    "duration": 34,
    "start_time": "2021-07-29T14:52:23.844Z"
   },
   {
    "duration": 28,
    "start_time": "2021-07-29T14:52:23.882Z"
   },
   {
    "duration": 17,
    "start_time": "2021-07-29T14:52:23.915Z"
   },
   {
    "duration": 7,
    "start_time": "2021-07-29T14:52:23.936Z"
   },
   {
    "duration": 19,
    "start_time": "2021-07-29T14:52:23.946Z"
   },
   {
    "duration": 36,
    "start_time": "2021-07-29T14:52:23.967Z"
   },
   {
    "duration": 49,
    "start_time": "2021-07-29T14:52:24.006Z"
   },
   {
    "duration": 6,
    "start_time": "2021-07-29T14:52:24.058Z"
   },
   {
    "duration": 37,
    "start_time": "2021-07-29T14:52:24.067Z"
   },
   {
    "duration": 15,
    "start_time": "2021-07-29T14:52:24.107Z"
   },
   {
    "duration": 8,
    "start_time": "2021-07-29T14:52:24.125Z"
   },
   {
    "duration": 3,
    "start_time": "2021-07-29T14:52:24.136Z"
   },
   {
    "duration": 6,
    "start_time": "2021-07-29T14:52:24.142Z"
   },
   {
    "duration": 54,
    "start_time": "2021-07-29T14:52:24.150Z"
   },
   {
    "duration": 7,
    "start_time": "2021-07-29T14:52:24.206Z"
   },
   {
    "duration": 21,
    "start_time": "2021-07-29T14:52:24.215Z"
   },
   {
    "duration": 11,
    "start_time": "2021-07-29T14:52:24.238Z"
   },
   {
    "duration": 18,
    "start_time": "2021-07-29T14:52:24.253Z"
   },
   {
    "duration": 29,
    "start_time": "2021-07-29T14:52:24.274Z"
   },
   {
    "duration": 32,
    "start_time": "2021-07-29T14:52:24.305Z"
   },
   {
    "duration": 31,
    "start_time": "2021-07-29T14:52:24.339Z"
   },
   {
    "duration": 29,
    "start_time": "2021-07-29T14:52:24.402Z"
   },
   {
    "duration": 412,
    "start_time": "2021-07-29T14:52:24.434Z"
   },
   {
    "duration": 254,
    "start_time": "2021-07-29T14:52:24.849Z"
   },
   {
    "duration": 6,
    "start_time": "2021-07-29T14:52:25.106Z"
   },
   {
    "duration": 54149,
    "start_time": "2021-07-29T14:52:25.115Z"
   },
   {
    "duration": 47,
    "start_time": "2021-07-29T14:53:19.267Z"
   },
   {
    "duration": 7,
    "start_time": "2021-07-29T14:53:19.317Z"
   },
   {
    "duration": 21,
    "start_time": "2021-07-29T14:53:19.327Z"
   },
   {
    "duration": 123,
    "start_time": "2021-07-29T14:53:19.350Z"
   },
   {
    "duration": 1503,
    "start_time": "2021-07-29T14:53:17.972Z"
   },
   {
    "duration": 1503,
    "start_time": "2021-07-29T14:53:17.974Z"
   },
   {
    "duration": 1502,
    "start_time": "2021-07-29T14:53:17.976Z"
   },
   {
    "duration": 1502,
    "start_time": "2021-07-29T14:53:17.978Z"
   },
   {
    "duration": 1500,
    "start_time": "2021-07-29T14:53:17.981Z"
   },
   {
    "duration": 1499,
    "start_time": "2021-07-29T14:53:17.984Z"
   },
   {
    "duration": 1498,
    "start_time": "2021-07-29T14:53:17.987Z"
   },
   {
    "duration": 1498,
    "start_time": "2021-07-29T14:53:17.989Z"
   },
   {
    "duration": 1496,
    "start_time": "2021-07-29T14:53:17.992Z"
   },
   {
    "duration": 1638,
    "start_time": "2021-07-29T14:54:28.827Z"
   },
   {
    "duration": 152,
    "start_time": "2021-07-29T14:54:30.467Z"
   },
   {
    "duration": 61,
    "start_time": "2021-07-29T14:54:30.622Z"
   },
   {
    "duration": 6,
    "start_time": "2021-07-29T14:54:30.701Z"
   },
   {
    "duration": 22,
    "start_time": "2021-07-29T14:54:30.709Z"
   },
   {
    "duration": 17,
    "start_time": "2021-07-29T14:54:30.734Z"
   },
   {
    "duration": 17,
    "start_time": "2021-07-29T14:54:30.754Z"
   },
   {
    "duration": 6,
    "start_time": "2021-07-29T14:54:30.800Z"
   },
   {
    "duration": 22,
    "start_time": "2021-07-29T14:54:30.810Z"
   },
   {
    "duration": 7,
    "start_time": "2021-07-29T14:54:30.835Z"
   },
   {
    "duration": 59,
    "start_time": "2021-07-29T14:54:30.844Z"
   },
   {
    "duration": 5,
    "start_time": "2021-07-29T14:54:30.905Z"
   },
   {
    "duration": 8,
    "start_time": "2021-07-29T14:54:30.913Z"
   },
   {
    "duration": 18,
    "start_time": "2021-07-29T14:54:30.924Z"
   },
   {
    "duration": 24,
    "start_time": "2021-07-29T14:54:30.945Z"
   },
   {
    "duration": 7,
    "start_time": "2021-07-29T14:54:30.972Z"
   },
   {
    "duration": 21,
    "start_time": "2021-07-29T14:54:30.982Z"
   },
   {
    "duration": 12,
    "start_time": "2021-07-29T14:54:31.006Z"
   },
   {
    "duration": 13,
    "start_time": "2021-07-29T14:54:31.020Z"
   },
   {
    "duration": 17,
    "start_time": "2021-07-29T14:54:31.035Z"
   },
   {
    "duration": 7,
    "start_time": "2021-07-29T14:54:31.055Z"
   },
   {
    "duration": 14,
    "start_time": "2021-07-29T14:54:31.064Z"
   },
   {
    "duration": 11,
    "start_time": "2021-07-29T14:54:31.104Z"
   },
   {
    "duration": 40,
    "start_time": "2021-07-29T14:54:31.119Z"
   },
   {
    "duration": 41,
    "start_time": "2021-07-29T14:54:31.161Z"
   },
   {
    "duration": 26,
    "start_time": "2021-07-29T14:54:31.204Z"
   },
   {
    "duration": 531,
    "start_time": "2021-07-29T14:54:31.233Z"
   },
   {
    "duration": 634,
    "start_time": "2021-07-29T14:54:31.767Z"
   },
   {
    "duration": 6,
    "start_time": "2021-07-29T14:54:32.404Z"
   },
   {
    "duration": 53067,
    "start_time": "2021-07-29T14:54:32.501Z"
   },
   {
    "duration": 46,
    "start_time": "2021-07-29T14:55:25.572Z"
   },
   {
    "duration": 7,
    "start_time": "2021-07-29T14:55:25.621Z"
   },
   {
    "duration": 28,
    "start_time": "2021-07-29T14:55:25.630Z"
   },
   {
    "duration": 3,
    "start_time": "2021-07-29T14:55:25.661Z"
   },
   {
    "duration": 78233,
    "start_time": "2021-07-29T14:55:25.667Z"
   },
   {
    "duration": 32,
    "start_time": "2021-07-29T14:56:43.903Z"
   },
   {
    "duration": 997,
    "start_time": "2021-07-29T14:56:43.938Z"
   },
   {
    "duration": 6,
    "start_time": "2021-07-29T14:56:44.938Z"
   },
   {
    "duration": 31,
    "start_time": "2021-07-29T14:56:44.946Z"
   },
   {
    "duration": 26245,
    "start_time": "2021-07-29T14:56:44.980Z"
   },
   {
    "duration": 28,
    "start_time": "2021-07-29T14:57:11.228Z"
   },
   {
    "duration": 596,
    "start_time": "2021-07-29T14:57:11.258Z"
   },
   {
    "duration": 26,
    "start_time": "2021-07-29T14:57:11.856Z"
   },
   {
    "duration": 274,
    "start_time": "2021-07-30T06:05:48.590Z"
   },
   {
    "duration": 1163,
    "start_time": "2021-07-30T06:06:07.844Z"
   },
   {
    "duration": 293,
    "start_time": "2021-07-30T06:06:58.714Z"
   },
   {
    "duration": 8010,
    "start_time": "2021-07-30T06:09:02.702Z"
   },
   {
    "duration": 3454,
    "start_time": "2021-07-30T06:09:24.824Z"
   },
   {
    "duration": 355,
    "start_time": "2021-07-30T06:09:28.280Z"
   },
   {
    "duration": 11,
    "start_time": "2021-07-30T06:09:28.626Z"
   },
   {
    "duration": 8,
    "start_time": "2021-07-30T06:09:28.630Z"
   },
   {
    "duration": 1,
    "start_time": "2021-07-30T06:09:28.638Z"
   },
   {
    "duration": -1,
    "start_time": "2021-07-30T06:09:28.641Z"
   },
   {
    "duration": -2,
    "start_time": "2021-07-30T06:09:28.643Z"
   },
   {
    "duration": -6,
    "start_time": "2021-07-30T06:09:28.647Z"
   },
   {
    "duration": -11,
    "start_time": "2021-07-30T06:09:28.654Z"
   },
   {
    "duration": -14,
    "start_time": "2021-07-30T06:09:28.657Z"
   },
   {
    "duration": -15,
    "start_time": "2021-07-30T06:09:28.659Z"
   },
   {
    "duration": -18,
    "start_time": "2021-07-30T06:09:28.663Z"
   },
   {
    "duration": -24,
    "start_time": "2021-07-30T06:09:28.670Z"
   },
   {
    "duration": -27,
    "start_time": "2021-07-30T06:09:28.673Z"
   },
   {
    "duration": -29,
    "start_time": "2021-07-30T06:09:28.676Z"
   },
   {
    "duration": -32,
    "start_time": "2021-07-30T06:09:28.680Z"
   },
   {
    "duration": -38,
    "start_time": "2021-07-30T06:09:28.687Z"
   },
   {
    "duration": -40,
    "start_time": "2021-07-30T06:09:28.690Z"
   },
   {
    "duration": -43,
    "start_time": "2021-07-30T06:09:28.693Z"
   },
   {
    "duration": -45,
    "start_time": "2021-07-30T06:09:28.696Z"
   },
   {
    "duration": -51,
    "start_time": "2021-07-30T06:09:28.703Z"
   },
   {
    "duration": -53,
    "start_time": "2021-07-30T06:09:28.706Z"
   },
   {
    "duration": -55,
    "start_time": "2021-07-30T06:09:28.709Z"
   },
   {
    "duration": -57,
    "start_time": "2021-07-30T06:09:28.712Z"
   },
   {
    "duration": -60,
    "start_time": "2021-07-30T06:09:28.716Z"
   },
   {
    "duration": -63,
    "start_time": "2021-07-30T06:09:28.719Z"
   },
   {
    "duration": -64,
    "start_time": "2021-07-30T06:09:28.721Z"
   },
   {
    "duration": 5645,
    "start_time": "2021-07-30T06:10:27.605Z"
   },
   {
    "duration": 262,
    "start_time": "2021-07-30T06:10:42.641Z"
   },
   {
    "duration": 287,
    "start_time": "2021-07-30T06:11:15.298Z"
   },
   {
    "duration": 9344,
    "start_time": "2021-07-30T06:11:35.320Z"
   },
   {
    "duration": 237,
    "start_time": "2021-07-30T06:11:48.891Z"
   },
   {
    "duration": 246,
    "start_time": "2021-07-30T06:11:54.840Z"
   },
   {
    "duration": 271,
    "start_time": "2021-07-30T06:12:05.755Z"
   },
   {
    "duration": 7806,
    "start_time": "2021-07-30T06:12:45.945Z"
   },
   {
    "duration": 268,
    "start_time": "2021-07-30T06:13:05.220Z"
   },
   {
    "duration": 240,
    "start_time": "2021-07-30T06:13:09.359Z"
   },
   {
    "duration": 10951,
    "start_time": "2021-07-30T06:13:22.122Z"
   },
   {
    "duration": 280,
    "start_time": "2021-07-30T06:13:37.457Z"
   },
   {
    "duration": 237,
    "start_time": "2021-07-30T06:13:40.149Z"
   },
   {
    "duration": 1789,
    "start_time": "2021-07-30T06:15:43.121Z"
   },
   {
    "duration": 494,
    "start_time": "2021-07-30T06:15:50.798Z"
   },
   {
    "duration": 4,
    "start_time": "2021-07-30T06:15:59.287Z"
   },
   {
    "duration": 275,
    "start_time": "2021-07-30T06:16:03.229Z"
   },
   {
    "duration": 8167,
    "start_time": "2021-07-30T06:16:40.933Z"
   },
   {
    "duration": 3,
    "start_time": "2021-07-30T06:16:49.102Z"
   },
   {
    "duration": 5,
    "start_time": "2021-07-30T06:16:49.107Z"
   },
   {
    "duration": 160,
    "start_time": "2021-07-30T06:16:49.114Z"
   },
   {
    "duration": 35,
    "start_time": "2021-07-30T06:16:49.275Z"
   },
   {
    "duration": 4,
    "start_time": "2021-07-30T06:16:49.311Z"
   },
   {
    "duration": 13,
    "start_time": "2021-07-30T06:16:49.316Z"
   },
   {
    "duration": 8,
    "start_time": "2021-07-30T06:16:49.330Z"
   },
   {
    "duration": 4,
    "start_time": "2021-07-30T06:16:49.340Z"
   },
   {
    "duration": 4,
    "start_time": "2021-07-30T06:16:49.346Z"
   },
   {
    "duration": 7,
    "start_time": "2021-07-30T06:16:49.351Z"
   },
   {
    "duration": 7,
    "start_time": "2021-07-30T06:16:49.360Z"
   },
   {
    "duration": 39,
    "start_time": "2021-07-30T06:16:49.369Z"
   },
   {
    "duration": 3,
    "start_time": "2021-07-30T06:16:49.409Z"
   },
   {
    "duration": 8,
    "start_time": "2021-07-30T06:16:49.414Z"
   },
   {
    "duration": 13,
    "start_time": "2021-07-30T06:16:49.424Z"
   },
   {
    "duration": 8,
    "start_time": "2021-07-30T06:16:49.438Z"
   },
   {
    "duration": 7,
    "start_time": "2021-07-30T06:16:49.448Z"
   },
   {
    "duration": 7,
    "start_time": "2021-07-30T06:16:49.456Z"
   },
   {
    "duration": 11,
    "start_time": "2021-07-30T06:16:49.465Z"
   },
   {
    "duration": 14,
    "start_time": "2021-07-30T06:16:49.477Z"
   },
   {
    "duration": 10,
    "start_time": "2021-07-30T06:16:49.492Z"
   },
   {
    "duration": 7,
    "start_time": "2021-07-30T06:16:49.503Z"
   },
   {
    "duration": 11,
    "start_time": "2021-07-30T06:16:49.512Z"
   },
   {
    "duration": 14,
    "start_time": "2021-07-30T06:16:49.525Z"
   },
   {
    "duration": 27,
    "start_time": "2021-07-30T06:16:49.541Z"
   },
   {
    "duration": 14,
    "start_time": "2021-07-30T06:16:49.571Z"
   },
   {
    "duration": 16,
    "start_time": "2021-07-30T06:16:49.587Z"
   },
   {
    "duration": 215,
    "start_time": "2021-07-30T06:16:49.604Z"
   },
   {
    "duration": 176,
    "start_time": "2021-07-30T06:16:49.821Z"
   },
   {
    "duration": 93,
    "start_time": "2021-07-30T06:16:49.999Z"
   },
   {
    "duration": 13368,
    "start_time": "2021-07-30T06:16:50.095Z"
   },
   {
    "duration": -2,
    "start_time": "2021-07-30T06:17:03.466Z"
   },
   {
    "duration": -5,
    "start_time": "2021-07-30T06:17:03.470Z"
   },
   {
    "duration": -7,
    "start_time": "2021-07-30T06:17:03.473Z"
   },
   {
    "duration": -9,
    "start_time": "2021-07-30T06:17:03.476Z"
   },
   {
    "duration": -10,
    "start_time": "2021-07-30T06:17:03.478Z"
   },
   {
    "duration": -13,
    "start_time": "2021-07-30T06:17:03.482Z"
   },
   {
    "duration": -15,
    "start_time": "2021-07-30T06:17:03.485Z"
   },
   {
    "duration": -17,
    "start_time": "2021-07-30T06:17:03.488Z"
   },
   {
    "duration": -19,
    "start_time": "2021-07-30T06:17:03.490Z"
   },
   {
    "duration": -21,
    "start_time": "2021-07-30T06:17:03.493Z"
   },
   {
    "duration": -22,
    "start_time": "2021-07-30T06:17:03.495Z"
   },
   {
    "duration": -23,
    "start_time": "2021-07-30T06:17:03.497Z"
   },
   {
    "duration": -25,
    "start_time": "2021-07-30T06:17:03.500Z"
   },
   {
    "duration": 235,
    "start_time": "2021-07-30T06:17:08.291Z"
   },
   {
    "duration": 243,
    "start_time": "2021-07-30T06:18:24.526Z"
   },
   {
    "duration": 4,
    "start_time": "2021-07-30T06:18:46.731Z"
   },
   {
    "duration": 254,
    "start_time": "2021-07-30T06:18:50.078Z"
   },
   {
    "duration": 247,
    "start_time": "2021-07-30T06:18:56.182Z"
   },
   {
    "duration": 274,
    "start_time": "2021-07-30T06:19:15.184Z"
   },
   {
    "duration": 249,
    "start_time": "2021-07-30T06:19:47.294Z"
   },
   {
    "duration": 257,
    "start_time": "2021-07-30T06:21:47.767Z"
   },
   {
    "duration": 242,
    "start_time": "2021-07-30T06:21:55.159Z"
   },
   {
    "duration": 9622,
    "start_time": "2021-07-30T06:22:04.784Z"
   },
   {
    "duration": 261,
    "start_time": "2021-07-30T06:22:26.920Z"
   },
   {
    "duration": 16852,
    "start_time": "2021-07-30T06:22:36.267Z"
   },
   {
    "duration": 31,
    "start_time": "2021-07-30T06:23:22.479Z"
   },
   {
    "duration": 22610,
    "start_time": "2021-07-30T07:18:19.197Z"
   },
   {
    "duration": 3,
    "start_time": "2021-07-30T07:18:41.810Z"
   },
   {
    "duration": 2526,
    "start_time": "2021-07-30T07:18:41.816Z"
   },
   {
    "duration": 143,
    "start_time": "2021-07-30T07:18:44.345Z"
   },
   {
    "duration": 63,
    "start_time": "2021-07-30T07:18:44.490Z"
   },
   {
    "duration": 6,
    "start_time": "2021-07-30T07:18:44.567Z"
   },
   {
    "duration": 20,
    "start_time": "2021-07-30T07:18:44.576Z"
   },
   {
    "duration": 11,
    "start_time": "2021-07-30T07:18:44.599Z"
   },
   {
    "duration": 8,
    "start_time": "2021-07-30T07:18:44.613Z"
   },
   {
    "duration": 45,
    "start_time": "2021-07-30T07:18:44.623Z"
   },
   {
    "duration": 11,
    "start_time": "2021-07-30T07:18:44.671Z"
   },
   {
    "duration": 7,
    "start_time": "2021-07-30T07:18:44.685Z"
   },
   {
    "duration": 33,
    "start_time": "2021-07-30T07:18:44.695Z"
   },
   {
    "duration": 5,
    "start_time": "2021-07-30T07:18:44.767Z"
   },
   {
    "duration": 13,
    "start_time": "2021-07-30T07:18:44.774Z"
   },
   {
    "duration": 20,
    "start_time": "2021-07-30T07:18:44.790Z"
   },
   {
    "duration": 9,
    "start_time": "2021-07-30T07:18:44.812Z"
   },
   {
    "duration": 6,
    "start_time": "2021-07-30T07:18:44.824Z"
   },
   {
    "duration": 39,
    "start_time": "2021-07-30T07:18:44.832Z"
   },
   {
    "duration": 8,
    "start_time": "2021-07-30T07:18:44.875Z"
   },
   {
    "duration": 7,
    "start_time": "2021-07-30T07:18:44.885Z"
   },
   {
    "duration": 16,
    "start_time": "2021-07-30T07:18:44.894Z"
   },
   {
    "duration": 2,
    "start_time": "2021-07-30T07:18:44.916Z"
   },
   {
    "duration": 4,
    "start_time": "2021-07-30T07:18:44.921Z"
   },
   {
    "duration": 46,
    "start_time": "2021-07-30T07:18:44.928Z"
   },
   {
    "duration": 32,
    "start_time": "2021-07-30T07:18:44.977Z"
   },
   {
    "duration": 58,
    "start_time": "2021-07-30T07:18:45.011Z"
   },
   {
    "duration": 26,
    "start_time": "2021-07-30T07:18:45.071Z"
   },
   {
    "duration": 496,
    "start_time": "2021-07-30T07:18:45.099Z"
   },
   {
    "duration": 279,
    "start_time": "2021-07-30T07:18:45.597Z"
   },
   {
    "duration": 4,
    "start_time": "2021-07-30T07:18:45.969Z"
   },
   {
    "duration": 41379,
    "start_time": "2021-07-30T07:18:45.976Z"
   },
   {
    "duration": 34,
    "start_time": "2021-07-30T07:19:27.357Z"
   },
   {
    "duration": 5,
    "start_time": "2021-07-30T07:19:27.393Z"
   },
   {
    "duration": 21,
    "start_time": "2021-07-30T07:19:27.400Z"
   },
   {
    "duration": 28795,
    "start_time": "2021-07-30T07:19:27.424Z"
   },
   {
    "duration": 63,
    "start_time": "2021-07-30T07:19:56.221Z"
   },
   {
    "duration": 483,
    "start_time": "2021-07-30T07:19:56.287Z"
   },
   {
    "duration": 65,
    "start_time": "2021-07-30T07:19:56.708Z"
   },
   {
    "duration": 65,
    "start_time": "2021-07-30T07:19:56.711Z"
   },
   {
    "duration": 65,
    "start_time": "2021-07-30T07:19:56.713Z"
   },
   {
    "duration": 65,
    "start_time": "2021-07-30T07:19:56.715Z"
   },
   {
    "duration": 64,
    "start_time": "2021-07-30T07:19:56.718Z"
   },
   {
    "duration": 64,
    "start_time": "2021-07-30T07:19:56.720Z"
   },
   {
    "duration": 64,
    "start_time": "2021-07-30T07:19:56.722Z"
   },
   {
    "duration": 64,
    "start_time": "2021-07-30T07:19:56.724Z"
   },
   {
    "duration": 7,
    "start_time": "2021-07-30T07:30:03.956Z"
   },
   {
    "duration": 312,
    "start_time": "2021-07-30T07:31:17.240Z"
   },
   {
    "duration": 11450,
    "start_time": "2021-07-30T07:31:36.368Z"
   },
   {
    "duration": 4,
    "start_time": "2021-07-30T07:31:47.821Z"
   },
   {
    "duration": 2267,
    "start_time": "2021-07-30T07:31:47.829Z"
   },
   {
    "duration": 113,
    "start_time": "2021-07-30T07:31:50.099Z"
   },
   {
    "duration": 76,
    "start_time": "2021-07-30T07:31:50.214Z"
   },
   {
    "duration": 7,
    "start_time": "2021-07-30T07:31:50.292Z"
   },
   {
    "duration": 20,
    "start_time": "2021-07-30T07:31:50.301Z"
   },
   {
    "duration": 13,
    "start_time": "2021-07-30T07:31:50.325Z"
   },
   {
    "duration": 33,
    "start_time": "2021-07-30T07:31:50.341Z"
   },
   {
    "duration": 9,
    "start_time": "2021-07-30T07:31:50.377Z"
   },
   {
    "duration": 12,
    "start_time": "2021-07-30T07:31:50.388Z"
   },
   {
    "duration": 12,
    "start_time": "2021-07-30T07:31:50.403Z"
   },
   {
    "duration": 68,
    "start_time": "2021-07-30T07:31:50.417Z"
   },
   {
    "duration": 6,
    "start_time": "2021-07-30T07:31:50.487Z"
   },
   {
    "duration": 11,
    "start_time": "2021-07-30T07:31:50.495Z"
   },
   {
    "duration": 25,
    "start_time": "2021-07-30T07:31:50.509Z"
   },
   {
    "duration": 32,
    "start_time": "2021-07-30T07:31:50.536Z"
   },
   {
    "duration": 9,
    "start_time": "2021-07-30T07:31:50.571Z"
   },
   {
    "duration": 16,
    "start_time": "2021-07-30T07:31:50.583Z"
   },
   {
    "duration": 20,
    "start_time": "2021-07-30T07:31:50.601Z"
   },
   {
    "duration": 9,
    "start_time": "2021-07-30T07:31:50.624Z"
   },
   {
    "duration": 21,
    "start_time": "2021-07-30T07:31:50.636Z"
   },
   {
    "duration": 3,
    "start_time": "2021-07-30T07:31:50.666Z"
   },
   {
    "duration": 6,
    "start_time": "2021-07-30T07:31:50.672Z"
   },
   {
    "duration": 17,
    "start_time": "2021-07-30T07:31:50.680Z"
   },
   {
    "duration": 34,
    "start_time": "2021-07-30T07:31:50.699Z"
   },
   {
    "duration": 56,
    "start_time": "2021-07-30T07:31:50.735Z"
   },
   {
    "duration": 25,
    "start_time": "2021-07-30T07:31:50.793Z"
   },
   {
    "duration": 410,
    "start_time": "2021-07-30T07:31:50.821Z"
   },
   {
    "duration": 336,
    "start_time": "2021-07-30T07:31:51.233Z"
   },
   {
    "duration": 95,
    "start_time": "2021-07-30T07:31:51.572Z"
   },
   {
    "duration": 42349,
    "start_time": "2021-07-30T07:31:51.669Z"
   },
   {
    "duration": 31,
    "start_time": "2021-07-30T07:32:34.020Z"
   },
   {
    "duration": 18,
    "start_time": "2021-07-30T07:32:34.053Z"
   },
   {
    "duration": 18,
    "start_time": "2021-07-30T07:32:34.073Z"
   },
   {
    "duration": 30549,
    "start_time": "2021-07-30T07:32:34.094Z"
   },
   {
    "duration": 63,
    "start_time": "2021-07-30T07:33:04.645Z"
   },
   {
    "duration": 485,
    "start_time": "2021-07-30T07:33:04.710Z"
   },
   {
    "duration": 99,
    "start_time": "2021-07-30T07:33:05.099Z"
   },
   {
    "duration": 95,
    "start_time": "2021-07-30T07:33:05.104Z"
   },
   {
    "duration": 95,
    "start_time": "2021-07-30T07:33:05.106Z"
   },
   {
    "duration": 94,
    "start_time": "2021-07-30T07:33:05.108Z"
   },
   {
    "duration": 93,
    "start_time": "2021-07-30T07:33:05.110Z"
   },
   {
    "duration": 93,
    "start_time": "2021-07-30T07:33:05.112Z"
   },
   {
    "duration": 92,
    "start_time": "2021-07-30T07:33:05.114Z"
   },
   {
    "duration": 93,
    "start_time": "2021-07-30T07:33:05.115Z"
   },
   {
    "duration": 538,
    "start_time": "2021-07-30T07:35:44.928Z"
   },
   {
    "duration": 30035,
    "start_time": "2021-07-30T07:36:04.134Z"
   },
   {
    "duration": 51,
    "start_time": "2021-07-30T07:36:34.172Z"
   },
   {
    "duration": 332,
    "start_time": "2021-07-30T07:36:34.226Z"
   },
   {
    "duration": 6,
    "start_time": "2021-07-30T07:37:48.198Z"
   },
   {
    "duration": 17,
    "start_time": "2021-07-30T07:37:48.393Z"
   },
   {
    "duration": 11960,
    "start_time": "2021-07-30T07:38:14.242Z"
   },
   {
    "duration": 3,
    "start_time": "2021-07-30T07:38:26.205Z"
   },
   {
    "duration": 2290,
    "start_time": "2021-07-30T07:38:26.211Z"
   },
   {
    "duration": 110,
    "start_time": "2021-07-30T07:38:28.504Z"
   },
   {
    "duration": 74,
    "start_time": "2021-07-30T07:38:28.616Z"
   },
   {
    "duration": 6,
    "start_time": "2021-07-30T07:38:28.692Z"
   },
   {
    "duration": 22,
    "start_time": "2021-07-30T07:38:28.700Z"
   },
   {
    "duration": 11,
    "start_time": "2021-07-30T07:38:28.725Z"
   },
   {
    "duration": 32,
    "start_time": "2021-07-30T07:38:28.740Z"
   },
   {
    "duration": 8,
    "start_time": "2021-07-30T07:38:28.775Z"
   },
   {
    "duration": 10,
    "start_time": "2021-07-30T07:38:28.785Z"
   },
   {
    "duration": 9,
    "start_time": "2021-07-30T07:38:28.797Z"
   },
   {
    "duration": 71,
    "start_time": "2021-07-30T07:38:28.808Z"
   },
   {
    "duration": 5,
    "start_time": "2021-07-30T07:38:28.881Z"
   },
   {
    "duration": 10,
    "start_time": "2021-07-30T07:38:28.888Z"
   },
   {
    "duration": 16,
    "start_time": "2021-07-30T07:38:28.901Z"
   },
   {
    "duration": 9,
    "start_time": "2021-07-30T07:38:28.919Z"
   },
   {
    "duration": 37,
    "start_time": "2021-07-30T07:38:28.930Z"
   },
   {
    "duration": 3,
    "start_time": "2021-07-30T07:38:28.970Z"
   },
   {
    "duration": 10,
    "start_time": "2021-07-30T07:38:28.976Z"
   },
   {
    "duration": 7,
    "start_time": "2021-07-30T07:38:28.988Z"
   },
   {
    "duration": 16,
    "start_time": "2021-07-30T07:38:28.997Z"
   },
   {
    "duration": 4,
    "start_time": "2021-07-30T07:38:29.015Z"
   },
   {
    "duration": 6,
    "start_time": "2021-07-30T07:38:29.021Z"
   },
   {
    "duration": 12,
    "start_time": "2021-07-30T07:38:29.068Z"
   },
   {
    "duration": 32,
    "start_time": "2021-07-30T07:38:29.082Z"
   },
   {
    "duration": 57,
    "start_time": "2021-07-30T07:38:29.119Z"
   },
   {
    "duration": 24,
    "start_time": "2021-07-30T07:38:29.179Z"
   },
   {
    "duration": 495,
    "start_time": "2021-07-30T07:38:29.205Z"
   },
   {
    "duration": 367,
    "start_time": "2021-07-30T07:38:29.703Z"
   },
   {
    "duration": 95,
    "start_time": "2021-07-30T07:38:30.073Z"
   },
   {
    "duration": 43232,
    "start_time": "2021-07-30T07:38:30.170Z"
   },
   {
    "duration": 37,
    "start_time": "2021-07-30T07:39:13.405Z"
   },
   {
    "duration": 27,
    "start_time": "2021-07-30T07:39:13.445Z"
   },
   {
    "duration": 20,
    "start_time": "2021-07-30T07:39:13.475Z"
   },
   {
    "duration": 13104,
    "start_time": "2021-07-30T07:39:22.943Z"
   },
   {
    "duration": 4,
    "start_time": "2021-07-30T07:39:36.050Z"
   },
   {
    "duration": 4330,
    "start_time": "2021-07-30T07:39:36.058Z"
   },
   {
    "duration": 1118,
    "start_time": "2021-07-30T07:39:40.391Z"
   },
   {
    "duration": 73,
    "start_time": "2021-07-30T07:39:41.512Z"
   },
   {
    "duration": 7,
    "start_time": "2021-07-30T07:39:41.588Z"
   },
   {
    "duration": 23,
    "start_time": "2021-07-30T07:39:41.598Z"
   },
   {
    "duration": 43,
    "start_time": "2021-07-30T07:39:41.626Z"
   },
   {
    "duration": 10,
    "start_time": "2021-07-30T07:39:41.673Z"
   },
   {
    "duration": 14,
    "start_time": "2021-07-30T07:39:41.686Z"
   },
   {
    "duration": 27,
    "start_time": "2021-07-30T07:39:41.703Z"
   },
   {
    "duration": 7,
    "start_time": "2021-07-30T07:39:41.733Z"
   },
   {
    "duration": 57,
    "start_time": "2021-07-30T07:39:41.742Z"
   },
   {
    "duration": 6,
    "start_time": "2021-07-30T07:39:41.801Z"
   },
   {
    "duration": 10,
    "start_time": "2021-07-30T07:39:41.810Z"
   },
   {
    "duration": 56,
    "start_time": "2021-07-30T07:39:41.822Z"
   },
   {
    "duration": 8,
    "start_time": "2021-07-30T07:39:41.881Z"
   },
   {
    "duration": 6,
    "start_time": "2021-07-30T07:39:41.891Z"
   },
   {
    "duration": 9,
    "start_time": "2021-07-30T07:39:41.900Z"
   },
   {
    "duration": 19,
    "start_time": "2021-07-30T07:39:41.912Z"
   },
   {
    "duration": 34,
    "start_time": "2021-07-30T07:39:41.933Z"
   },
   {
    "duration": 21,
    "start_time": "2021-07-30T07:39:41.970Z"
   },
   {
    "duration": 3,
    "start_time": "2021-07-30T07:39:41.998Z"
   },
   {
    "duration": 4,
    "start_time": "2021-07-30T07:39:42.005Z"
   },
   {
    "duration": 18,
    "start_time": "2021-07-30T07:39:42.012Z"
   },
   {
    "duration": 46,
    "start_time": "2021-07-30T07:39:42.067Z"
   },
   {
    "duration": 53,
    "start_time": "2021-07-30T07:39:42.115Z"
   },
   {
    "duration": 31,
    "start_time": "2021-07-30T07:39:42.171Z"
   },
   {
    "duration": 418,
    "start_time": "2021-07-30T07:39:42.204Z"
   },
   {
    "duration": 842,
    "start_time": "2021-07-30T07:39:42.625Z"
   },
   {
    "duration": 6,
    "start_time": "2021-07-30T07:39:43.470Z"
   },
   {
    "duration": 44953,
    "start_time": "2021-07-30T07:39:43.479Z"
   },
   {
    "duration": 49,
    "start_time": "2021-07-30T07:40:28.435Z"
   },
   {
    "duration": 8,
    "start_time": "2021-07-30T07:40:28.487Z"
   },
   {
    "duration": 26,
    "start_time": "2021-07-30T07:40:28.498Z"
   },
   {
    "duration": 30764,
    "start_time": "2021-07-30T07:40:28.528Z"
   },
   {
    "duration": 82,
    "start_time": "2021-07-30T07:40:59.295Z"
   },
   {
    "duration": 479,
    "start_time": "2021-07-30T07:40:59.379Z"
   },
   {
    "duration": 91,
    "start_time": "2021-07-30T07:40:59.770Z"
   },
   {
    "duration": 91,
    "start_time": "2021-07-30T07:40:59.771Z"
   },
   {
    "duration": 91,
    "start_time": "2021-07-30T07:40:59.773Z"
   },
   {
    "duration": 90,
    "start_time": "2021-07-30T07:40:59.775Z"
   },
   {
    "duration": 89,
    "start_time": "2021-07-30T07:40:59.777Z"
   },
   {
    "duration": 89,
    "start_time": "2021-07-30T07:40:59.778Z"
   },
   {
    "duration": 89,
    "start_time": "2021-07-30T07:40:59.780Z"
   },
   {
    "duration": 88,
    "start_time": "2021-07-30T07:40:59.782Z"
   },
   {
    "duration": 348,
    "start_time": "2021-07-30T07:41:45.722Z"
   },
   {
    "duration": 439,
    "start_time": "2021-07-30T07:42:02.037Z"
   },
   {
    "duration": 109,
    "start_time": "2021-07-30T07:42:24.180Z"
   },
   {
    "duration": 583,
    "start_time": "2021-07-30T07:42:32.036Z"
   },
   {
    "duration": 327,
    "start_time": "2021-07-30T07:42:38.574Z"
   },
   {
    "duration": 28867,
    "start_time": "2021-07-30T07:42:56.161Z"
   },
   {
    "duration": 63,
    "start_time": "2021-07-30T07:43:25.030Z"
   },
   {
    "duration": 353,
    "start_time": "2021-07-30T07:43:25.096Z"
   },
   {
    "duration": 342,
    "start_time": "2021-07-30T07:44:16.783Z"
   },
   {
    "duration": 94,
    "start_time": "2021-07-30T07:45:13.827Z"
   },
   {
    "duration": 877,
    "start_time": "2021-07-30T07:45:23.232Z"
   },
   {
    "duration": 370,
    "start_time": "2021-07-30T07:46:38.215Z"
   },
   {
    "duration": 377,
    "start_time": "2021-07-30T07:47:34.677Z"
   },
   {
    "duration": 340,
    "start_time": "2021-07-30T07:48:37.124Z"
   },
   {
    "duration": 348,
    "start_time": "2021-07-30T07:51:29.415Z"
   },
   {
    "duration": 373,
    "start_time": "2021-07-30T07:52:02.016Z"
   },
   {
    "duration": 28708,
    "start_time": "2021-07-30T07:52:05.306Z"
   },
   {
    "duration": 62,
    "start_time": "2021-07-30T07:52:34.016Z"
   },
   {
    "duration": 332,
    "start_time": "2021-07-30T07:52:34.080Z"
   },
   {
    "duration": 383,
    "start_time": "2021-07-30T07:52:45.038Z"
   },
   {
    "duration": 320,
    "start_time": "2021-07-30T07:52:58.895Z"
   },
   {
    "duration": 872,
    "start_time": "2021-07-30T07:57:09.916Z"
   },
   {
    "duration": 30087,
    "start_time": "2021-07-30T07:57:57.197Z"
   },
   {
    "duration": 442,
    "start_time": "2021-07-30T08:00:26.874Z"
   },
   {
    "duration": 24384,
    "start_time": "2021-07-30T08:19:20.161Z"
   },
   {
    "duration": 3,
    "start_time": "2021-07-30T08:19:44.548Z"
   },
   {
    "duration": 3095,
    "start_time": "2021-07-30T08:19:44.554Z"
   },
   {
    "duration": 226,
    "start_time": "2021-07-30T08:19:47.652Z"
   },
   {
    "duration": 64,
    "start_time": "2021-07-30T08:19:47.880Z"
   },
   {
    "duration": 7,
    "start_time": "2021-07-30T08:19:47.962Z"
   },
   {
    "duration": 33,
    "start_time": "2021-07-30T08:19:47.971Z"
   },
   {
    "duration": 13,
    "start_time": "2021-07-30T08:19:48.010Z"
   },
   {
    "duration": 35,
    "start_time": "2021-07-30T08:19:48.027Z"
   },
   {
    "duration": 6,
    "start_time": "2021-07-30T08:19:48.066Z"
   },
   {
    "duration": 26,
    "start_time": "2021-07-30T08:19:48.075Z"
   },
   {
    "duration": 19,
    "start_time": "2021-07-30T08:19:48.103Z"
   },
   {
    "duration": 60,
    "start_time": "2021-07-30T08:19:48.125Z"
   },
   {
    "duration": 5,
    "start_time": "2021-07-30T08:19:48.188Z"
   },
   {
    "duration": 12,
    "start_time": "2021-07-30T08:19:48.196Z"
   },
   {
    "duration": 32,
    "start_time": "2021-07-30T08:19:48.211Z"
   },
   {
    "duration": 32,
    "start_time": "2021-07-30T08:19:48.245Z"
   },
   {
    "duration": 14,
    "start_time": "2021-07-30T08:19:48.280Z"
   },
   {
    "duration": 36,
    "start_time": "2021-07-30T08:19:48.296Z"
   },
   {
    "duration": 39,
    "start_time": "2021-07-30T08:19:48.335Z"
   },
   {
    "duration": 18,
    "start_time": "2021-07-30T08:19:48.376Z"
   },
   {
    "duration": 28,
    "start_time": "2021-07-30T08:19:48.397Z"
   },
   {
    "duration": 22,
    "start_time": "2021-07-30T08:19:48.429Z"
   },
   {
    "duration": 19,
    "start_time": "2021-07-30T08:19:48.453Z"
   },
   {
    "duration": 25,
    "start_time": "2021-07-30T08:19:48.475Z"
   },
   {
    "duration": 39,
    "start_time": "2021-07-30T08:19:48.503Z"
   },
   {
    "duration": 30,
    "start_time": "2021-07-30T08:19:48.544Z"
   },
   {
    "duration": 34,
    "start_time": "2021-07-30T08:19:48.577Z"
   },
   {
    "duration": 399,
    "start_time": "2021-07-30T08:19:48.613Z"
   },
   {
    "duration": 30041,
    "start_time": "2021-07-30T08:20:06.415Z"
   },
   {
    "duration": 77,
    "start_time": "2021-07-30T08:20:39.127Z"
   },
   {
    "duration": 1502,
    "start_time": "2021-07-30T08:22:43.030Z"
   },
   {
    "duration": 6,
    "start_time": "2021-07-30T08:22:54.107Z"
   },
   {
    "duration": 30580,
    "start_time": "2021-07-30T08:22:57.097Z"
   },
   {
    "duration": 402,
    "start_time": "2021-07-30T08:23:28.476Z"
   },
   {
    "duration": 29714,
    "start_time": "2021-07-30T08:23:38.908Z"
   },
   {
    "duration": 32792,
    "start_time": "2021-07-30T11:37:30.028Z"
   },
   {
    "duration": 5,
    "start_time": "2021-07-30T11:38:02.824Z"
   },
   {
    "duration": 3074,
    "start_time": "2021-07-30T11:38:02.837Z"
   },
   {
    "duration": 141,
    "start_time": "2021-07-30T11:38:05.918Z"
   },
   {
    "duration": 63,
    "start_time": "2021-07-30T11:38:06.061Z"
   },
   {
    "duration": 6,
    "start_time": "2021-07-30T11:38:06.126Z"
   },
   {
    "duration": 35,
    "start_time": "2021-07-30T11:38:06.134Z"
   },
   {
    "duration": 12,
    "start_time": "2021-07-30T11:38:06.173Z"
   },
   {
    "duration": 9,
    "start_time": "2021-07-30T11:38:06.188Z"
   },
   {
    "duration": 11,
    "start_time": "2021-07-30T11:38:06.200Z"
   },
   {
    "duration": 11,
    "start_time": "2021-07-30T11:38:06.214Z"
   },
   {
    "duration": 7,
    "start_time": "2021-07-30T11:38:06.268Z"
   },
   {
    "duration": 48,
    "start_time": "2021-07-30T11:38:06.278Z"
   },
   {
    "duration": 7,
    "start_time": "2021-07-30T11:38:06.329Z"
   },
   {
    "duration": 31,
    "start_time": "2021-07-30T11:38:06.339Z"
   },
   {
    "duration": 40,
    "start_time": "2021-07-30T11:38:06.373Z"
   },
   {
    "duration": 19,
    "start_time": "2021-07-30T11:38:06.416Z"
   },
   {
    "duration": 9,
    "start_time": "2021-07-30T11:38:06.439Z"
   },
   {
    "duration": 19,
    "start_time": "2021-07-30T11:38:06.451Z"
   },
   {
    "duration": 12,
    "start_time": "2021-07-30T11:38:06.473Z"
   },
   {
    "duration": 10,
    "start_time": "2021-07-30T11:38:06.487Z"
   },
   {
    "duration": 16,
    "start_time": "2021-07-30T11:38:06.500Z"
   },
   {
    "duration": 3,
    "start_time": "2021-07-30T11:38:06.523Z"
   },
   {
    "duration": 8,
    "start_time": "2021-07-30T11:38:06.529Z"
   },
   {
    "duration": 29,
    "start_time": "2021-07-30T11:38:06.569Z"
   },
   {
    "duration": 39,
    "start_time": "2021-07-30T11:38:06.601Z"
   },
   {
    "duration": 44,
    "start_time": "2021-07-30T11:38:06.643Z"
   },
   {
    "duration": 27,
    "start_time": "2021-07-30T11:38:06.691Z"
   },
   {
    "duration": 411,
    "start_time": "2021-07-30T11:38:06.721Z"
   },
   {
    "duration": 232,
    "start_time": "2021-07-30T11:38:07.136Z"
   },
   {
    "duration": 11,
    "start_time": "2021-07-30T11:38:07.371Z"
   },
   {
    "duration": 42482,
    "start_time": "2021-07-30T11:38:07.385Z"
   },
   {
    "duration": 29,
    "start_time": "2021-07-30T11:38:49.869Z"
   },
   {
    "duration": 5,
    "start_time": "2021-07-30T11:38:49.901Z"
   },
   {
    "duration": 21,
    "start_time": "2021-07-30T11:38:49.908Z"
   },
   {
    "duration": 28593,
    "start_time": "2021-07-30T11:38:49.931Z"
   },
   {
    "duration": 63,
    "start_time": "2021-07-30T11:39:18.526Z"
   },
   {
    "duration": 509,
    "start_time": "2021-07-30T11:39:18.592Z"
   },
   {
    "duration": 111,
    "start_time": "2021-07-30T11:39:18.993Z"
   },
   {
    "duration": 110,
    "start_time": "2021-07-30T11:39:18.995Z"
   },
   {
    "duration": 109,
    "start_time": "2021-07-30T11:39:18.997Z"
   },
   {
    "duration": 109,
    "start_time": "2021-07-30T11:39:18.999Z"
   },
   {
    "duration": 108,
    "start_time": "2021-07-30T11:39:19.001Z"
   },
   {
    "duration": 108,
    "start_time": "2021-07-30T11:39:19.003Z"
   },
   {
    "duration": 107,
    "start_time": "2021-07-30T11:39:19.005Z"
   },
   {
    "duration": 106,
    "start_time": "2021-07-30T11:39:19.007Z"
   },
   {
    "duration": 30041,
    "start_time": "2021-07-30T11:42:45.726Z"
   },
   {
    "duration": 12324,
    "start_time": "2021-07-30T11:43:22.856Z"
   },
   {
    "duration": 3,
    "start_time": "2021-07-30T11:43:35.183Z"
   },
   {
    "duration": 2216,
    "start_time": "2021-07-30T11:43:35.189Z"
   },
   {
    "duration": 120,
    "start_time": "2021-07-30T11:43:37.408Z"
   },
   {
    "duration": 68,
    "start_time": "2021-07-30T11:43:37.531Z"
   },
   {
    "duration": 6,
    "start_time": "2021-07-30T11:43:37.601Z"
   },
   {
    "duration": 25,
    "start_time": "2021-07-30T11:43:37.610Z"
   },
   {
    "duration": 35,
    "start_time": "2021-07-30T11:43:37.638Z"
   },
   {
    "duration": 11,
    "start_time": "2021-07-30T11:43:37.677Z"
   },
   {
    "duration": 8,
    "start_time": "2021-07-30T11:43:37.691Z"
   },
   {
    "duration": 11,
    "start_time": "2021-07-30T11:43:37.702Z"
   },
   {
    "duration": 57,
    "start_time": "2021-07-30T11:43:37.715Z"
   },
   {
    "duration": 39,
    "start_time": "2021-07-30T11:43:37.775Z"
   },
   {
    "duration": 6,
    "start_time": "2021-07-30T11:43:37.817Z"
   },
   {
    "duration": 46,
    "start_time": "2021-07-30T11:43:37.826Z"
   },
   {
    "duration": 18,
    "start_time": "2021-07-30T11:43:37.874Z"
   },
   {
    "duration": 9,
    "start_time": "2021-07-30T11:43:37.895Z"
   },
   {
    "duration": 5,
    "start_time": "2021-07-30T11:43:37.906Z"
   },
   {
    "duration": 5,
    "start_time": "2021-07-30T11:43:37.914Z"
   },
   {
    "duration": 46,
    "start_time": "2021-07-30T11:43:37.922Z"
   },
   {
    "duration": 11,
    "start_time": "2021-07-30T11:43:37.970Z"
   },
   {
    "duration": 19,
    "start_time": "2021-07-30T11:43:37.983Z"
   },
   {
    "duration": 3,
    "start_time": "2021-07-30T11:43:38.010Z"
   },
   {
    "duration": 4,
    "start_time": "2021-07-30T11:43:38.017Z"
   },
   {
    "duration": 12,
    "start_time": "2021-07-30T11:43:38.068Z"
   },
   {
    "duration": 34,
    "start_time": "2021-07-30T11:43:38.083Z"
   },
   {
    "duration": 56,
    "start_time": "2021-07-30T11:43:38.120Z"
   },
   {
    "duration": 29,
    "start_time": "2021-07-30T11:43:38.178Z"
   },
   {
    "duration": 403,
    "start_time": "2021-07-30T11:43:38.209Z"
   },
   {
    "duration": 354,
    "start_time": "2021-07-30T11:43:38.615Z"
   },
   {
    "duration": 8,
    "start_time": "2021-07-30T11:43:38.973Z"
   },
   {
    "duration": 41352,
    "start_time": "2021-07-30T11:43:39.068Z"
   },
   {
    "duration": 48,
    "start_time": "2021-07-30T11:44:20.422Z"
   },
   {
    "duration": 5,
    "start_time": "2021-07-30T11:44:20.472Z"
   },
   {
    "duration": 27,
    "start_time": "2021-07-30T11:44:20.480Z"
   },
   {
    "duration": 28695,
    "start_time": "2021-07-30T11:44:20.510Z"
   },
   {
    "duration": 64,
    "start_time": "2021-07-30T11:44:49.208Z"
   },
   {
    "duration": 506,
    "start_time": "2021-07-30T11:44:49.275Z"
   },
   {
    "duration": 95,
    "start_time": "2021-07-30T11:44:49.689Z"
   },
   {
    "duration": 93,
    "start_time": "2021-07-30T11:44:49.693Z"
   },
   {
    "duration": 91,
    "start_time": "2021-07-30T11:44:49.696Z"
   },
   {
    "duration": 90,
    "start_time": "2021-07-30T11:44:49.699Z"
   },
   {
    "duration": 87,
    "start_time": "2021-07-30T11:44:49.703Z"
   },
   {
    "duration": 86,
    "start_time": "2021-07-30T11:44:49.706Z"
   },
   {
    "duration": 83,
    "start_time": "2021-07-30T11:44:49.710Z"
   },
   {
    "duration": 82,
    "start_time": "2021-07-30T11:44:49.713Z"
   },
   {
    "duration": 23852,
    "start_time": "2021-07-31T04:53:15.583Z"
   },
   {
    "duration": 4,
    "start_time": "2021-07-31T04:53:39.438Z"
   },
   {
    "duration": 2392,
    "start_time": "2021-07-31T04:53:39.446Z"
   },
   {
    "duration": 433,
    "start_time": "2021-07-31T04:53:41.841Z"
   },
   {
    "duration": 69,
    "start_time": "2021-07-31T04:53:42.276Z"
   },
   {
    "duration": 6,
    "start_time": "2021-07-31T04:53:42.348Z"
   },
   {
    "duration": 18,
    "start_time": "2021-07-31T04:53:42.357Z"
   },
   {
    "duration": 31,
    "start_time": "2021-07-31T04:53:42.379Z"
   },
   {
    "duration": 11,
    "start_time": "2021-07-31T04:53:42.414Z"
   },
   {
    "duration": 8,
    "start_time": "2021-07-31T04:53:42.429Z"
   },
   {
    "duration": 25,
    "start_time": "2021-07-31T04:53:42.440Z"
   },
   {
    "duration": 35,
    "start_time": "2021-07-31T04:53:42.467Z"
   },
   {
    "duration": 42,
    "start_time": "2021-07-31T04:53:42.504Z"
   },
   {
    "duration": 5,
    "start_time": "2021-07-31T04:53:42.549Z"
   },
   {
    "duration": 10,
    "start_time": "2021-07-31T04:53:42.556Z"
   },
   {
    "duration": 22,
    "start_time": "2021-07-31T04:53:42.601Z"
   },
   {
    "duration": 8,
    "start_time": "2021-07-31T04:53:42.626Z"
   },
   {
    "duration": 5,
    "start_time": "2021-07-31T04:53:42.637Z"
   },
   {
    "duration": 8,
    "start_time": "2021-07-31T04:53:42.644Z"
   },
   {
    "duration": 50,
    "start_time": "2021-07-31T04:53:42.655Z"
   },
   {
    "duration": 10,
    "start_time": "2021-07-31T04:53:42.708Z"
   },
   {
    "duration": 16,
    "start_time": "2021-07-31T04:53:42.721Z"
   },
   {
    "duration": 3,
    "start_time": "2021-07-31T04:53:42.746Z"
   },
   {
    "duration": 5,
    "start_time": "2021-07-31T04:53:42.753Z"
   },
   {
    "duration": 16,
    "start_time": "2021-07-31T04:53:42.802Z"
   },
   {
    "duration": 33,
    "start_time": "2021-07-31T04:53:42.821Z"
   },
   {
    "duration": 66,
    "start_time": "2021-07-31T04:53:42.857Z"
   },
   {
    "duration": 28,
    "start_time": "2021-07-31T04:53:42.925Z"
   },
   {
    "duration": 412,
    "start_time": "2021-07-31T04:53:42.955Z"
   },
   {
    "duration": 235,
    "start_time": "2021-07-31T04:53:43.369Z"
   },
   {
    "duration": 11,
    "start_time": "2021-07-31T04:53:43.608Z"
   },
   {
    "duration": 48435,
    "start_time": "2021-07-31T04:53:43.702Z"
   },
   {
    "duration": 24,
    "start_time": "2021-07-31T04:54:32.139Z"
   },
   {
    "duration": 6,
    "start_time": "2021-07-31T04:54:32.166Z"
   },
   {
    "duration": 47,
    "start_time": "2021-07-31T04:54:32.175Z"
   },
   {
    "duration": 128,
    "start_time": "2021-07-31T04:54:32.225Z"
   },
   {
    "duration": 1182,
    "start_time": "2021-07-31T04:54:31.174Z"
   },
   {
    "duration": 1180,
    "start_time": "2021-07-31T04:54:31.177Z"
   },
   {
    "duration": 1176,
    "start_time": "2021-07-31T04:54:31.182Z"
   },
   {
    "duration": 1175,
    "start_time": "2021-07-31T04:54:31.184Z"
   },
   {
    "duration": 1176,
    "start_time": "2021-07-31T04:54:31.185Z"
   },
   {
    "duration": 1175,
    "start_time": "2021-07-31T04:54:31.187Z"
   },
   {
    "duration": 1174,
    "start_time": "2021-07-31T04:54:31.189Z"
   },
   {
    "duration": 1175,
    "start_time": "2021-07-31T04:54:31.190Z"
   },
   {
    "duration": 1174,
    "start_time": "2021-07-31T04:54:31.192Z"
   },
   {
    "duration": 1174,
    "start_time": "2021-07-31T04:54:31.193Z"
   },
   {
    "duration": 783,
    "start_time": "2021-07-31T04:54:54.348Z"
   },
   {
    "duration": 602,
    "start_time": "2021-07-31T04:55:51.713Z"
   },
   {
    "duration": 349,
    "start_time": "2021-07-31T04:56:10.774Z"
   },
   {
    "duration": 128,
    "start_time": "2021-07-31T04:56:18.791Z"
   },
   {
    "duration": 575,
    "start_time": "2021-07-31T04:57:09.459Z"
   },
   {
    "duration": 114,
    "start_time": "2021-07-31T04:57:14.073Z"
   },
   {
    "duration": 379,
    "start_time": "2021-07-31T04:58:07.199Z"
   },
   {
    "duration": 126,
    "start_time": "2021-07-31T05:02:41.853Z"
   },
   {
    "duration": 374,
    "start_time": "2021-07-31T05:02:51.501Z"
   },
   {
    "duration": 15734,
    "start_time": "2021-07-31T21:12:02.997Z"
   },
   {
    "duration": 2,
    "start_time": "2021-07-31T21:12:18.733Z"
   },
   {
    "duration": 1943,
    "start_time": "2021-07-31T21:12:18.737Z"
   },
   {
    "duration": 212,
    "start_time": "2021-07-31T21:12:20.682Z"
   },
   {
    "duration": 35,
    "start_time": "2021-07-31T21:12:20.896Z"
   },
   {
    "duration": 4,
    "start_time": "2021-07-31T21:12:20.932Z"
   },
   {
    "duration": 22,
    "start_time": "2021-07-31T21:12:20.937Z"
   },
   {
    "duration": 7,
    "start_time": "2021-07-31T21:12:20.961Z"
   },
   {
    "duration": 4,
    "start_time": "2021-07-31T21:12:20.970Z"
   },
   {
    "duration": 17,
    "start_time": "2021-07-31T21:12:20.976Z"
   },
   {
    "duration": 7,
    "start_time": "2021-07-31T21:12:20.994Z"
   },
   {
    "duration": 4,
    "start_time": "2021-07-31T21:12:21.002Z"
   },
   {
    "duration": 21,
    "start_time": "2021-07-31T21:12:21.008Z"
   },
   {
    "duration": 3,
    "start_time": "2021-07-31T21:12:21.030Z"
   },
   {
    "duration": 13,
    "start_time": "2021-07-31T21:12:21.035Z"
   },
   {
    "duration": 10,
    "start_time": "2021-07-31T21:12:21.049Z"
   },
   {
    "duration": 11,
    "start_time": "2021-07-31T21:12:21.060Z"
   },
   {
    "duration": 2,
    "start_time": "2021-07-31T21:12:21.091Z"
   },
   {
    "duration": 10,
    "start_time": "2021-07-31T21:12:21.095Z"
   },
   {
    "duration": 13,
    "start_time": "2021-07-31T21:12:21.106Z"
   },
   {
    "duration": 6,
    "start_time": "2021-07-31T21:12:21.120Z"
   },
   {
    "duration": 14,
    "start_time": "2021-07-31T21:12:21.127Z"
   },
   {
    "duration": 7,
    "start_time": "2021-07-31T21:12:21.143Z"
   },
   {
    "duration": 7,
    "start_time": "2021-07-31T21:12:21.152Z"
   },
   {
    "duration": 14,
    "start_time": "2021-07-31T21:12:21.160Z"
   },
   {
    "duration": 23,
    "start_time": "2021-07-31T21:12:21.176Z"
   },
   {
    "duration": 15,
    "start_time": "2021-07-31T21:12:21.203Z"
   },
   {
    "duration": 15,
    "start_time": "2021-07-31T21:12:21.220Z"
   },
   {
    "duration": 215,
    "start_time": "2021-07-31T21:12:21.236Z"
   },
   {
    "duration": 242,
    "start_time": "2021-07-31T21:12:21.453Z"
   },
   {
    "duration": 93,
    "start_time": "2021-07-31T21:12:21.697Z"
   },
   {
    "duration": 23551,
    "start_time": "2021-07-31T21:12:21.792Z"
   },
   {
    "duration": 11,
    "start_time": "2021-07-31T21:12:45.345Z"
   },
   {
    "duration": 4,
    "start_time": "2021-07-31T21:12:45.357Z"
   },
   {
    "duration": 16,
    "start_time": "2021-07-31T21:12:45.362Z"
   },
   {
    "duration": 17064,
    "start_time": "2021-07-31T21:12:45.391Z"
   },
   {
    "duration": 42,
    "start_time": "2021-07-31T21:13:02.456Z"
   },
   {
    "duration": 351,
    "start_time": "2021-07-31T21:13:02.500Z"
   },
   {
    "duration": -163,
    "start_time": "2021-07-31T21:13:03.016Z"
   },
   {
    "duration": -166,
    "start_time": "2021-07-31T21:13:03.020Z"
   },
   {
    "duration": -169,
    "start_time": "2021-07-31T21:13:03.023Z"
   },
   {
    "duration": -172,
    "start_time": "2021-07-31T21:13:03.027Z"
   },
   {
    "duration": -174,
    "start_time": "2021-07-31T21:13:03.030Z"
   },
   {
    "duration": -177,
    "start_time": "2021-07-31T21:13:03.034Z"
   },
   {
    "duration": -179,
    "start_time": "2021-07-31T21:13:03.037Z"
   },
   {
    "duration": -181,
    "start_time": "2021-07-31T21:13:03.040Z"
   },
   {
    "duration": -183,
    "start_time": "2021-07-31T21:13:03.043Z"
   },
   {
    "duration": 251,
    "start_time": "2021-07-31T21:15:25.226Z"
   },
   {
    "duration": 227,
    "start_time": "2021-07-31T21:15:52.803Z"
   },
   {
    "duration": 4423,
    "start_time": "2021-07-31T21:17:41.701Z"
   },
   {
    "duration": 13335,
    "start_time": "2021-08-01T05:32:51.200Z"
   },
   {
    "duration": 3,
    "start_time": "2021-08-01T05:33:04.537Z"
   },
   {
    "duration": 1559,
    "start_time": "2021-08-01T05:33:04.541Z"
   },
   {
    "duration": 171,
    "start_time": "2021-08-01T05:33:06.103Z"
   },
   {
    "duration": 40,
    "start_time": "2021-08-01T05:33:06.275Z"
   },
   {
    "duration": 4,
    "start_time": "2021-08-01T05:33:06.316Z"
   },
   {
    "duration": 12,
    "start_time": "2021-08-01T05:33:06.321Z"
   },
   {
    "duration": 7,
    "start_time": "2021-08-01T05:33:06.335Z"
   },
   {
    "duration": 5,
    "start_time": "2021-08-01T05:33:06.343Z"
   },
   {
    "duration": 4,
    "start_time": "2021-08-01T05:33:06.349Z"
   },
   {
    "duration": 7,
    "start_time": "2021-08-01T05:33:06.354Z"
   },
   {
    "duration": 33,
    "start_time": "2021-08-01T05:33:06.362Z"
   },
   {
    "duration": 32,
    "start_time": "2021-08-01T05:33:06.397Z"
   },
   {
    "duration": 3,
    "start_time": "2021-08-01T05:33:06.431Z"
   },
   {
    "duration": 6,
    "start_time": "2021-08-01T05:33:06.436Z"
   },
   {
    "duration": 9,
    "start_time": "2021-08-01T05:33:06.444Z"
   },
   {
    "duration": 4,
    "start_time": "2021-08-01T05:33:06.455Z"
   },
   {
    "duration": 31,
    "start_time": "2021-08-01T05:33:06.461Z"
   },
   {
    "duration": 4,
    "start_time": "2021-08-01T05:33:06.493Z"
   },
   {
    "duration": 20,
    "start_time": "2021-08-01T05:33:06.498Z"
   },
   {
    "duration": 7,
    "start_time": "2021-08-01T05:33:06.520Z"
   },
   {
    "duration": 13,
    "start_time": "2021-08-01T05:33:06.529Z"
   },
   {
    "duration": 6,
    "start_time": "2021-08-01T05:33:06.545Z"
   },
   {
    "duration": 8,
    "start_time": "2021-08-01T05:33:06.553Z"
   },
   {
    "duration": 13,
    "start_time": "2021-08-01T05:33:06.563Z"
   },
   {
    "duration": 23,
    "start_time": "2021-08-01T05:33:06.577Z"
   },
   {
    "duration": 13,
    "start_time": "2021-08-01T05:33:06.602Z"
   },
   {
    "duration": 20,
    "start_time": "2021-08-01T05:33:06.616Z"
   },
   {
    "duration": 232,
    "start_time": "2021-08-01T05:33:06.638Z"
   },
   {
    "duration": 221,
    "start_time": "2021-08-01T05:33:06.872Z"
   },
   {
    "duration": 7,
    "start_time": "2021-08-01T05:33:07.096Z"
   },
   {
    "duration": 424,
    "start_time": "2021-08-01T05:33:07.105Z"
   },
   {
    "duration": 788,
    "start_time": "2021-08-01T05:33:06.743Z"
   },
   {
    "duration": 786,
    "start_time": "2021-08-01T05:33:06.745Z"
   },
   {
    "duration": 785,
    "start_time": "2021-08-01T05:33:06.747Z"
   },
   {
    "duration": 784,
    "start_time": "2021-08-01T05:33:06.749Z"
   },
   {
    "duration": 783,
    "start_time": "2021-08-01T05:33:06.751Z"
   },
   {
    "duration": 781,
    "start_time": "2021-08-01T05:33:06.753Z"
   },
   {
    "duration": 781,
    "start_time": "2021-08-01T05:33:06.754Z"
   },
   {
    "duration": 777,
    "start_time": "2021-08-01T05:33:06.759Z"
   },
   {
    "duration": 776,
    "start_time": "2021-08-01T05:33:06.761Z"
   },
   {
    "duration": 775,
    "start_time": "2021-08-01T05:33:06.763Z"
   },
   {
    "duration": 774,
    "start_time": "2021-08-01T05:33:06.765Z"
   },
   {
    "duration": 773,
    "start_time": "2021-08-01T05:33:06.767Z"
   },
   {
    "duration": 773,
    "start_time": "2021-08-01T05:33:06.768Z"
   },
   {
    "duration": 772,
    "start_time": "2021-08-01T05:33:06.770Z"
   },
   {
    "duration": 23772,
    "start_time": "2021-08-01T05:39:43.094Z"
   },
   {
    "duration": 16,
    "start_time": "2021-08-01T05:40:28.235Z"
   },
   {
    "duration": 4,
    "start_time": "2021-08-01T05:40:31.032Z"
   },
   {
    "duration": 13,
    "start_time": "2021-08-01T05:40:32.649Z"
   },
   {
    "duration": 16492,
    "start_time": "2021-08-01T05:40:34.404Z"
   },
   {
    "duration": 29,
    "start_time": "2021-08-01T05:40:50.898Z"
   },
   {
    "duration": 55847,
    "start_time": "2021-08-01T05:40:50.929Z"
   },
   {
    "duration": 6879,
    "start_time": "2021-08-01T05:41:55.040Z"
   },
   {
    "duration": 2,
    "start_time": "2021-08-01T05:42:01.921Z"
   },
   {
    "duration": 1455,
    "start_time": "2021-08-01T05:42:01.926Z"
   },
   {
    "duration": 109,
    "start_time": "2021-08-01T05:42:03.383Z"
   },
   {
    "duration": 35,
    "start_time": "2021-08-01T05:42:03.494Z"
   },
   {
    "duration": 4,
    "start_time": "2021-08-01T05:42:03.531Z"
   },
   {
    "duration": 11,
    "start_time": "2021-08-01T05:42:03.536Z"
   },
   {
    "duration": 7,
    "start_time": "2021-08-01T05:42:03.549Z"
   },
   {
    "duration": 34,
    "start_time": "2021-08-01T05:42:03.558Z"
   },
   {
    "duration": 4,
    "start_time": "2021-08-01T05:42:03.593Z"
   },
   {
    "duration": 7,
    "start_time": "2021-08-01T05:42:03.598Z"
   },
   {
    "duration": 5,
    "start_time": "2021-08-01T05:42:03.606Z"
   },
   {
    "duration": 21,
    "start_time": "2021-08-01T05:42:03.612Z"
   },
   {
    "duration": 3,
    "start_time": "2021-08-01T05:42:03.634Z"
   },
   {
    "duration": 8,
    "start_time": "2021-08-01T05:42:03.638Z"
   },
   {
    "duration": 13,
    "start_time": "2021-08-01T05:42:03.648Z"
   },
   {
    "duration": 30,
    "start_time": "2021-08-01T05:42:03.662Z"
   },
   {
    "duration": 2,
    "start_time": "2021-08-01T05:42:03.693Z"
   },
   {
    "duration": 6,
    "start_time": "2021-08-01T05:42:03.696Z"
   },
   {
    "duration": 11,
    "start_time": "2021-08-01T05:42:03.703Z"
   },
   {
    "duration": 8,
    "start_time": "2021-08-01T05:42:03.715Z"
   },
   {
    "duration": 15,
    "start_time": "2021-08-01T05:42:03.724Z"
   },
   {
    "duration": 7,
    "start_time": "2021-08-01T05:42:03.741Z"
   },
   {
    "duration": 9,
    "start_time": "2021-08-01T05:42:03.750Z"
   },
   {
    "duration": 13,
    "start_time": "2021-08-01T05:42:03.760Z"
   },
   {
    "duration": 25,
    "start_time": "2021-08-01T05:42:03.774Z"
   },
   {
    "duration": 14,
    "start_time": "2021-08-01T05:42:03.800Z"
   },
   {
    "duration": 13,
    "start_time": "2021-08-01T05:42:03.816Z"
   },
   {
    "duration": 210,
    "start_time": "2021-08-01T05:42:03.831Z"
   },
   {
    "duration": 251,
    "start_time": "2021-08-01T05:42:04.042Z"
   },
   {
    "duration": 5,
    "start_time": "2021-08-01T05:42:04.295Z"
   },
   {
    "duration": 23440,
    "start_time": "2021-08-01T05:42:04.392Z"
   },
   {
    "duration": 17,
    "start_time": "2021-08-01T05:42:27.834Z"
   },
   {
    "duration": 5,
    "start_time": "2021-08-01T05:42:27.852Z"
   },
   {
    "duration": 12,
    "start_time": "2021-08-01T05:42:27.858Z"
   },
   {
    "duration": 16790,
    "start_time": "2021-08-01T05:42:27.871Z"
   },
   {
    "duration": 37,
    "start_time": "2021-08-01T05:42:44.662Z"
   },
   {
    "duration": 56591,
    "start_time": "2021-08-01T05:42:44.701Z"
   },
   {
    "duration": 18,
    "start_time": "2021-08-01T05:43:41.293Z"
   },
   {
    "duration": 323,
    "start_time": "2021-08-01T05:43:41.313Z"
   },
   {
    "duration": 3,
    "start_time": "2021-08-01T05:43:41.638Z"
   },
   {
    "duration": 13,
    "start_time": "2021-08-01T05:43:41.643Z"
   },
   {
    "duration": 29475,
    "start_time": "2021-08-01T05:43:41.657Z"
   },
   {
    "duration": 14,
    "start_time": "2021-08-01T05:44:11.134Z"
   },
   {
    "duration": 327,
    "start_time": "2021-08-01T05:44:11.150Z"
   },
   {
    "duration": 19,
    "start_time": "2021-08-01T05:44:11.479Z"
   }
  ],
  "kernelspec": {
   "display_name": "Python 3",
   "language": "python",
   "name": "python3"
  },
  "language_info": {
   "codemirror_mode": {
    "name": "ipython",
    "version": 3
   },
   "file_extension": ".py",
   "mimetype": "text/x-python",
   "name": "python",
   "nbconvert_exporter": "python",
   "pygments_lexer": "ipython3",
   "version": "3.7.8"
  },
  "toc": {
   "base_numbering": 1,
   "nav_menu": {},
   "number_sections": true,
   "sideBar": true,
   "skip_h1_title": true,
   "title_cell": "Содержание",
   "title_sidebar": "Contents",
   "toc_cell": true,
   "toc_position": {},
   "toc_section_display": true,
   "toc_window_display": true
  }
 },
 "nbformat": 4,
 "nbformat_minor": 2
}
