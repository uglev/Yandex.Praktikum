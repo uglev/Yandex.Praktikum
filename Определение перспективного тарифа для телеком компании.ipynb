{
 "cells": [
  {
   "cell_type": "markdown",
   "metadata": {},
   "source": [
    "<div class=\"alert alert-success\">\n",
    "<b> Комментарий от ревьюера 2</b>\n",
    "\n",
    "Привет еще раз. Спасибо, что доделал работу. Оформление комментариев по работе сохраняется. Только обозначим, что это вторая итерация. \n",
    "\n",
    "</div>\n"
   ]
  },
  {
   "cell_type": "markdown",
   "metadata": {},
   "source": [
    "<b>Комментарий от ревьюера</b>\n",
    "\n",
    "Привет! Меня зовут Ярослав Кальманов, я буду делать ревью твоего проекта. Давай будем общаться на «ты».\n",
    "\n",
    "Мои комментарии будут в ячейках \"Комментарий от ревьюера\".\n",
    "\n",
    "<div class=\"alert alert-danger\"> \n",
    "Красным цветом обозначены комментарии, на которые тебе нужно обратить внимание в первую очередь, чтобы я принял проект. \n",
    "</div>\n",
    "<div class=\"alert alert-warning\">\n",
    "Желтым цветом отмечено то, что ты можешь сделать немного по-другому. Ты можешь учесть эти комментарии при выполнении следующих проектов.\n",
    "</div>\n",
    "<div class=\"alert alert-success\">\n",
    "Зелёным цветом обозначены твои удачные решения, которые ты без сомнения можешь применять в будущих проектах.  \n",
    "</div>\n",
    "\n",
    "Если ты вносишь изменения в проект по моим рекомендациям, указывай, пожалуйста, это в своих комментариях. Будет удобно, если обозначишь свои комментарии заметным цветом или поместишь \n",
    "\n",
    "<div class=\"alert alert-info\">\n",
    "    \n",
    "в такую ячейку\n",
    "</div>\n",
    "\n",
    "Давай при работе с проектом мы будем общаться с тобой в диалоге, поэтому не удаляй и не перемещай мои комментарии, это поможет мне сделать повторную  проверку проекта быстрее.\n",
    "___\n",
    "\n"
   ]
  },
  {
   "cell_type": "markdown",
   "metadata": {},
   "source": [
    "# Описание проекта"
   ]
  },
  {
   "cell_type": "raw",
   "metadata": {},
   "source": [
    "Вы аналитик компании «Мегалайн» — федерального оператора сотовой связи. Клиентам предлагают два тарифных плана: «Смарт» и «Ультра». Чтобы скорректировать рекламный бюджет, коммерческий департамент хочет понять, какой тариф приносит больше денег.\n",
    "Вам предстоит сделать предварительный анализ тарифов на небольшой выборке клиентов. В вашем распоряжении данные 500 пользователей «Мегалайна»: кто они, откуда, каким тарифом пользуются, сколько звонков и сообщений каждый отправил за 2018 год. Нужно проанализировать поведение клиентов и сделать вывод — какой тариф лучше.\n",
    "Описание тарифов\n",
    "Тариф «Смарт»\n",
    "Ежемесячная плата: 550 рублей\n",
    "Включено 500 минут разговора, 50 сообщений и 15 Гб интернет-трафика\n",
    "Стоимость услуг сверх тарифного пакета:\n",
    "минута разговора: 3 рубля\n",
    "сообщение: 3 рубля\n",
    "1 Гб интернет-трафика: 200 рублей\n",
    "Тариф «Ультра»\n",
    "Ежемесячная плата: 1950 рублей\n",
    "Включено 3000 минут разговора, 1000 сообщений и 30 Гб интернет-трафика\n",
    "Стоимость услуг сверх тарифного пакета:\n",
    "минута разговора: 1 рубль\n",
    "сообщение: 1 рубль\n",
    "1 Гб интернет-трафика: 150 рублей\n",
    "Примечание:\n",
    "«Мегалайн» всегда округляет секунды до минут, а мегабайты — до гигабайт. Каждый звонок округляется отдельно: даже если он длился всего 1 секунду, будет засчитан как 1 минута.\n",
    "Для веб-трафика отдельные сессии не считаются. Вместо этого общая сумма за месяц округляется в бо́льшую сторону. Если абонент использует 1025 мегабайт в этом месяце, с него возьмут плату за 2 гигабайта."
   ]
  },
  {
   "cell_type": "markdown",
   "metadata": {},
   "source": [
    "Доброго дня! Мы получили описание проекта, данные к нему. Задача - сделать вывод — какой тариф лучше. Для начала выполним типовые действия, которые мы знаем с начала курса. Создадим переменные с полными путями до источников данных, для облегчения работы проверки другим аналитикам."
   ]
  },
  {
   "cell_type": "code",
   "execution_count": 1,
   "metadata": {},
   "outputs": [],
   "source": [
    "import pandas as pd\n",
    "import numpy as np\n",
    "import matplotlib.pyplot as plt"
   ]
  },
  {
   "cell_type": "code",
   "execution_count": 2,
   "metadata": {},
   "outputs": [],
   "source": [
    "users = pd.read_csv('https://code.s3.yandex.net/datasets/users.csv')\n",
    "calls = pd.read_csv('https://code.s3.yandex.net/datasets/calls.csv')\n",
    "messages = pd.read_csv('https://code.s3.yandex.net/datasets/messages.csv')\n",
    "internet = pd.read_csv('https://code.s3.yandex.net/datasets/internet.csv')\n",
    "tariffs = pd.read_csv('https://code.s3.yandex.net/datasets/tariffs.csv')"
   ]
  },
  {
   "cell_type": "markdown",
   "metadata": {},
   "source": [
    "## Просмотр данных"
   ]
  },
  {
   "cell_type": "markdown",
   "metadata": {},
   "source": [
    "Для начала, просмотрим общую таблицу с пользователями (информацию о ней)."
   ]
  },
  {
   "cell_type": "code",
   "execution_count": 3,
   "metadata": {},
   "outputs": [
    {
     "data": {
      "text/html": [
       "<div>\n",
       "<style scoped>\n",
       "    .dataframe tbody tr th:only-of-type {\n",
       "        vertical-align: middle;\n",
       "    }\n",
       "\n",
       "    .dataframe tbody tr th {\n",
       "        vertical-align: top;\n",
       "    }\n",
       "\n",
       "    .dataframe thead th {\n",
       "        text-align: right;\n",
       "    }\n",
       "</style>\n",
       "<table border=\"1\" class=\"dataframe\">\n",
       "  <thead>\n",
       "    <tr style=\"text-align: right;\">\n",
       "      <th></th>\n",
       "      <th>user_id</th>\n",
       "      <th>age</th>\n",
       "      <th>churn_date</th>\n",
       "      <th>city</th>\n",
       "      <th>first_name</th>\n",
       "      <th>last_name</th>\n",
       "      <th>reg_date</th>\n",
       "      <th>tariff</th>\n",
       "    </tr>\n",
       "  </thead>\n",
       "  <tbody>\n",
       "    <tr>\n",
       "      <td>0</td>\n",
       "      <td>1000</td>\n",
       "      <td>52</td>\n",
       "      <td>NaN</td>\n",
       "      <td>Краснодар</td>\n",
       "      <td>Рафаил</td>\n",
       "      <td>Верещагин</td>\n",
       "      <td>2018-05-25</td>\n",
       "      <td>ultra</td>\n",
       "    </tr>\n",
       "    <tr>\n",
       "      <td>1</td>\n",
       "      <td>1001</td>\n",
       "      <td>41</td>\n",
       "      <td>NaN</td>\n",
       "      <td>Москва</td>\n",
       "      <td>Иван</td>\n",
       "      <td>Ежов</td>\n",
       "      <td>2018-11-01</td>\n",
       "      <td>smart</td>\n",
       "    </tr>\n",
       "    <tr>\n",
       "      <td>2</td>\n",
       "      <td>1002</td>\n",
       "      <td>59</td>\n",
       "      <td>NaN</td>\n",
       "      <td>Стерлитамак</td>\n",
       "      <td>Евгений</td>\n",
       "      <td>Абрамович</td>\n",
       "      <td>2018-06-17</td>\n",
       "      <td>smart</td>\n",
       "    </tr>\n",
       "    <tr>\n",
       "      <td>3</td>\n",
       "      <td>1003</td>\n",
       "      <td>23</td>\n",
       "      <td>NaN</td>\n",
       "      <td>Москва</td>\n",
       "      <td>Белла</td>\n",
       "      <td>Белякова</td>\n",
       "      <td>2018-08-17</td>\n",
       "      <td>ultra</td>\n",
       "    </tr>\n",
       "    <tr>\n",
       "      <td>4</td>\n",
       "      <td>1004</td>\n",
       "      <td>68</td>\n",
       "      <td>NaN</td>\n",
       "      <td>Новокузнецк</td>\n",
       "      <td>Татьяна</td>\n",
       "      <td>Авдеенко</td>\n",
       "      <td>2018-05-14</td>\n",
       "      <td>ultra</td>\n",
       "    </tr>\n",
       "  </tbody>\n",
       "</table>\n",
       "</div>"
      ],
      "text/plain": [
       "   user_id  age churn_date         city first_name  last_name    reg_date  \\\n",
       "0     1000   52        NaN    Краснодар     Рафаил  Верещагин  2018-05-25   \n",
       "1     1001   41        NaN       Москва       Иван       Ежов  2018-11-01   \n",
       "2     1002   59        NaN  Стерлитамак    Евгений  Абрамович  2018-06-17   \n",
       "3     1003   23        NaN       Москва      Белла   Белякова  2018-08-17   \n",
       "4     1004   68        NaN  Новокузнецк    Татьяна   Авдеенко  2018-05-14   \n",
       "\n",
       "  tariff  \n",
       "0  ultra  \n",
       "1  smart  \n",
       "2  smart  \n",
       "3  ultra  \n",
       "4  ultra  "
      ]
     },
     "execution_count": 3,
     "metadata": {},
     "output_type": "execute_result"
    }
   ],
   "source": [
    "users.head()"
   ]
  },
  {
   "cell_type": "markdown",
   "metadata": {},
   "source": [
    "Посмотрим на пропуски."
   ]
  },
  {
   "cell_type": "code",
   "execution_count": 4,
   "metadata": {},
   "outputs": [
    {
     "name": "stdout",
     "output_type": "stream",
     "text": [
      "<class 'pandas.core.frame.DataFrame'>\n",
      "RangeIndex: 500 entries, 0 to 499\n",
      "Data columns (total 8 columns):\n",
      "user_id       500 non-null int64\n",
      "age           500 non-null int64\n",
      "churn_date    38 non-null object\n",
      "city          500 non-null object\n",
      "first_name    500 non-null object\n",
      "last_name     500 non-null object\n",
      "reg_date      500 non-null object\n",
      "tariff        500 non-null object\n",
      "dtypes: int64(2), object(6)\n",
      "memory usage: 31.4+ KB\n"
     ]
    }
   ],
   "source": [
    "users.info()"
   ]
  },
  {
   "cell_type": "markdown",
   "metadata": {},
   "source": [
    "Мы видим везде по 500 значений, однако в графе churn_date - 38. Сверимся с описанием: churn_date — дата прекращения пользования тарифом (если значение пропущено, то тариф ещё действовал на момент выгрузки данных). Таким образом, делать с ним мы ничего не будем. Посмотрим тогда на уникальность."
   ]
  },
  {
   "cell_type": "code",
   "execution_count": 5,
   "metadata": {},
   "outputs": [
    {
     "name": "stdout",
     "output_type": "stream",
     "text": [
      "Число строк: 500\n",
      "Число уникальных: 500\n",
      "Число дубликатов: 0\n"
     ]
    }
   ],
   "source": [
    "print(\"Число строк:\", users.shape[0])\n",
    "print(\"Число уникальных:\", users['user_id'].count())\n",
    "print(\"Число дубликатов:\", users.duplicated().sum())"
   ]
  },
  {
   "cell_type": "markdown",
   "metadata": {},
   "source": [
    "С этой точки зрения таблица валидная. Дубликатов в ней нет. Посмотрим на следующую таблицу."
   ]
  },
  {
   "cell_type": "code",
   "execution_count": 6,
   "metadata": {},
   "outputs": [
    {
     "data": {
      "text/html": [
       "<div>\n",
       "<style scoped>\n",
       "    .dataframe tbody tr th:only-of-type {\n",
       "        vertical-align: middle;\n",
       "    }\n",
       "\n",
       "    .dataframe tbody tr th {\n",
       "        vertical-align: top;\n",
       "    }\n",
       "\n",
       "    .dataframe thead th {\n",
       "        text-align: right;\n",
       "    }\n",
       "</style>\n",
       "<table border=\"1\" class=\"dataframe\">\n",
       "  <thead>\n",
       "    <tr style=\"text-align: right;\">\n",
       "      <th></th>\n",
       "      <th>id</th>\n",
       "      <th>call_date</th>\n",
       "      <th>duration</th>\n",
       "      <th>user_id</th>\n",
       "    </tr>\n",
       "  </thead>\n",
       "  <tbody>\n",
       "    <tr>\n",
       "      <td>0</td>\n",
       "      <td>1000_0</td>\n",
       "      <td>2018-07-25</td>\n",
       "      <td>0.00</td>\n",
       "      <td>1000</td>\n",
       "    </tr>\n",
       "    <tr>\n",
       "      <td>1</td>\n",
       "      <td>1000_1</td>\n",
       "      <td>2018-08-17</td>\n",
       "      <td>0.00</td>\n",
       "      <td>1000</td>\n",
       "    </tr>\n",
       "    <tr>\n",
       "      <td>2</td>\n",
       "      <td>1000_2</td>\n",
       "      <td>2018-06-11</td>\n",
       "      <td>2.85</td>\n",
       "      <td>1000</td>\n",
       "    </tr>\n",
       "    <tr>\n",
       "      <td>3</td>\n",
       "      <td>1000_3</td>\n",
       "      <td>2018-09-21</td>\n",
       "      <td>13.80</td>\n",
       "      <td>1000</td>\n",
       "    </tr>\n",
       "    <tr>\n",
       "      <td>4</td>\n",
       "      <td>1000_4</td>\n",
       "      <td>2018-12-15</td>\n",
       "      <td>5.18</td>\n",
       "      <td>1000</td>\n",
       "    </tr>\n",
       "  </tbody>\n",
       "</table>\n",
       "</div>"
      ],
      "text/plain": [
       "       id   call_date  duration  user_id\n",
       "0  1000_0  2018-07-25      0.00     1000\n",
       "1  1000_1  2018-08-17      0.00     1000\n",
       "2  1000_2  2018-06-11      2.85     1000\n",
       "3  1000_3  2018-09-21     13.80     1000\n",
       "4  1000_4  2018-12-15      5.18     1000"
      ]
     },
     "execution_count": 6,
     "metadata": {},
     "output_type": "execute_result"
    }
   ],
   "source": [
    "calls.head()"
   ]
  },
  {
   "cell_type": "code",
   "execution_count": 7,
   "metadata": {},
   "outputs": [
    {
     "name": "stdout",
     "output_type": "stream",
     "text": [
      "<class 'pandas.core.frame.DataFrame'>\n",
      "RangeIndex: 202607 entries, 0 to 202606\n",
      "Data columns (total 4 columns):\n",
      "id           202607 non-null object\n",
      "call_date    202607 non-null object\n",
      "duration     202607 non-null float64\n",
      "user_id      202607 non-null int64\n",
      "dtypes: float64(1), int64(1), object(2)\n",
      "memory usage: 6.2+ MB\n"
     ]
    }
   ],
   "source": [
    "calls.info()"
   ]
  },
  {
   "cell_type": "markdown",
   "metadata": {},
   "source": [
    "Мы видим 202607 строк для всех параметров. Всё верно, данные без пропусков."
   ]
  },
  {
   "cell_type": "markdown",
   "metadata": {},
   "source": [
    "Обратим внимание, что согласно задания, нам необходимо работать с месяцами, поэтому переведём формат в datetime и определим месяц. Напишем только функцию, поскольку мы ещё не добрались до раздела обработки данных."
   ]
  },
  {
   "cell_type": "code",
   "execution_count": 8,
   "metadata": {},
   "outputs": [],
   "source": [
    "def date_to_dt_month (dataframes):\n",
    "    for df in dataframes:\n",
    "        for column in df.columns:\n",
    "            if 'date' in column and column != 'churn_date':\n",
    "                df[column] = pd.to_datetime(df[column], format='%Y-%m-%d')\n",
    "                df['month'] = df[column].apply(lambda x: x.month)"
   ]
  },
  {
   "cell_type": "markdown",
   "metadata": {},
   "source": [
    "<div class=\"alert alert-warning\">\n",
    "    \n",
    "<b> Комментарий от ревьюера</b>\n",
    "    \n",
    "Будет лучше, если все названия всех признаков будут на английской языке.\n",
    "</div>"
   ]
  },
  {
   "cell_type": "markdown",
   "metadata": {},
   "source": [
    "<div class=\"alert alert-info\">\n",
    "    \n",
    "Да, всё верно. Исправлю всё.\n",
    "</div>"
   ]
  },
  {
   "cell_type": "markdown",
   "metadata": {},
   "source": [
    "<div class=\"alert alert-success\">\n",
    "    \n",
    "<b> Комментарий от ревьюера 2</b>\n",
    "\n",
    "\n",
    "👍\n",
    "\n",
    "</div>\n"
   ]
  },
  {
   "cell_type": "markdown",
   "metadata": {},
   "source": [
    "Далее, собственно с вызовами. Посмотрим на гистограмму, чтобы определить длительность звонков."
   ]
  },
  {
   "cell_type": "code",
   "execution_count": 9,
   "metadata": {},
   "outputs": [
    {
     "data": {
      "text/plain": [
       "<matplotlib.axes._subplots.AxesSubplot at 0x7f8ceb0f34d0>"
      ]
     },
     "execution_count": 9,
     "metadata": {},
     "output_type": "execute_result"
    },
    {
     "data": {
      "image/png": "[encoded data removed]",
      "text/plain": [
       "<Figure size 432x288 with 1 Axes>"
      ]
     },
     "metadata": {
      "needs_background": "light"
     },
     "output_type": "display_data"
    }
   ],
   "source": [
    "plt.style.use('seaborn-pastel')\n",
    "calls['duration'].plot(kind='hist', ec='black', bins=50)"
   ]
  },
  {
   "cell_type": "markdown",
   "metadata": {},
   "source": [
    "В гистограмме есть нулевые звонки. Вспомним примечание \"Каждый звонок округляется отдельно: даже если он длился всего 1 секунду, будет засчитан как 1 минута.\". Тогда откуда появились нулевые?"
   ]
  },
  {
   "cell_type": "code",
   "execution_count": 10,
   "metadata": {},
   "outputs": [
    {
     "data": {
      "text/html": [
       "<div>\n",
       "<style scoped>\n",
       "    .dataframe tbody tr th:only-of-type {\n",
       "        vertical-align: middle;\n",
       "    }\n",
       "\n",
       "    .dataframe tbody tr th {\n",
       "        vertical-align: top;\n",
       "    }\n",
       "\n",
       "    .dataframe thead th {\n",
       "        text-align: right;\n",
       "    }\n",
       "</style>\n",
       "<table border=\"1\" class=\"dataframe\">\n",
       "  <thead>\n",
       "    <tr style=\"text-align: right;\">\n",
       "      <th></th>\n",
       "      <th>id</th>\n",
       "      <th>call_date</th>\n",
       "      <th>duration</th>\n",
       "      <th>user_id</th>\n",
       "    </tr>\n",
       "  </thead>\n",
       "  <tbody>\n",
       "    <tr>\n",
       "      <td>0</td>\n",
       "      <td>1000_0</td>\n",
       "      <td>2018-07-25</td>\n",
       "      <td>0.0</td>\n",
       "      <td>1000</td>\n",
       "    </tr>\n",
       "    <tr>\n",
       "      <td>1</td>\n",
       "      <td>1000_1</td>\n",
       "      <td>2018-08-17</td>\n",
       "      <td>0.0</td>\n",
       "      <td>1000</td>\n",
       "    </tr>\n",
       "    <tr>\n",
       "      <td>5</td>\n",
       "      <td>1000_5</td>\n",
       "      <td>2018-11-02</td>\n",
       "      <td>0.0</td>\n",
       "      <td>1000</td>\n",
       "    </tr>\n",
       "    <tr>\n",
       "      <td>6</td>\n",
       "      <td>1000_6</td>\n",
       "      <td>2018-10-18</td>\n",
       "      <td>0.0</td>\n",
       "      <td>1000</td>\n",
       "    </tr>\n",
       "    <tr>\n",
       "      <td>9</td>\n",
       "      <td>1000_9</td>\n",
       "      <td>2018-08-15</td>\n",
       "      <td>0.0</td>\n",
       "      <td>1000</td>\n",
       "    </tr>\n",
       "    <tr>\n",
       "      <td>...</td>\n",
       "      <td>...</td>\n",
       "      <td>...</td>\n",
       "      <td>...</td>\n",
       "      <td>...</td>\n",
       "    </tr>\n",
       "    <tr>\n",
       "      <td>202590</td>\n",
       "      <td>1499_203</td>\n",
       "      <td>2018-12-03</td>\n",
       "      <td>0.0</td>\n",
       "      <td>1499</td>\n",
       "    </tr>\n",
       "    <tr>\n",
       "      <td>202592</td>\n",
       "      <td>1499_205</td>\n",
       "      <td>2018-10-13</td>\n",
       "      <td>0.0</td>\n",
       "      <td>1499</td>\n",
       "    </tr>\n",
       "    <tr>\n",
       "      <td>202593</td>\n",
       "      <td>1499_206</td>\n",
       "      <td>2018-12-26</td>\n",
       "      <td>0.0</td>\n",
       "      <td>1499</td>\n",
       "    </tr>\n",
       "    <tr>\n",
       "      <td>202594</td>\n",
       "      <td>1499_207</td>\n",
       "      <td>2018-10-28</td>\n",
       "      <td>0.0</td>\n",
       "      <td>1499</td>\n",
       "    </tr>\n",
       "    <tr>\n",
       "      <td>202596</td>\n",
       "      <td>1499_209</td>\n",
       "      <td>2018-12-16</td>\n",
       "      <td>0.0</td>\n",
       "      <td>1499</td>\n",
       "    </tr>\n",
       "  </tbody>\n",
       "</table>\n",
       "<p>39613 rows × 4 columns</p>\n",
       "</div>"
      ],
      "text/plain": [
       "              id   call_date  duration  user_id\n",
       "0         1000_0  2018-07-25       0.0     1000\n",
       "1         1000_1  2018-08-17       0.0     1000\n",
       "5         1000_5  2018-11-02       0.0     1000\n",
       "6         1000_6  2018-10-18       0.0     1000\n",
       "9         1000_9  2018-08-15       0.0     1000\n",
       "...          ...         ...       ...      ...\n",
       "202590  1499_203  2018-12-03       0.0     1499\n",
       "202592  1499_205  2018-10-13       0.0     1499\n",
       "202593  1499_206  2018-12-26       0.0     1499\n",
       "202594  1499_207  2018-10-28       0.0     1499\n",
       "202596  1499_209  2018-12-16       0.0     1499\n",
       "\n",
       "[39613 rows x 4 columns]"
      ]
     },
     "execution_count": 10,
     "metadata": {},
     "output_type": "execute_result"
    }
   ],
   "source": [
    "zero_calls = calls.query('duration == 0.0')\n",
    "zero_calls"
   ]
  },
  {
   "cell_type": "markdown",
   "metadata": {},
   "source": [
    "39613 строк. Посмотрим на первого такого пользователя."
   ]
  },
  {
   "cell_type": "code",
   "execution_count": 11,
   "metadata": {},
   "outputs": [
    {
     "data": {
      "text/html": [
       "<div>\n",
       "<style scoped>\n",
       "    .dataframe tbody tr th:only-of-type {\n",
       "        vertical-align: middle;\n",
       "    }\n",
       "\n",
       "    .dataframe tbody tr th {\n",
       "        vertical-align: top;\n",
       "    }\n",
       "\n",
       "    .dataframe thead th {\n",
       "        text-align: right;\n",
       "    }\n",
       "</style>\n",
       "<table border=\"1\" class=\"dataframe\">\n",
       "  <thead>\n",
       "    <tr style=\"text-align: right;\">\n",
       "      <th></th>\n",
       "      <th>id</th>\n",
       "      <th>call_date</th>\n",
       "      <th>duration</th>\n",
       "      <th>user_id</th>\n",
       "    </tr>\n",
       "  </thead>\n",
       "  <tbody>\n",
       "    <tr>\n",
       "      <td>0</td>\n",
       "      <td>1000_0</td>\n",
       "      <td>2018-07-25</td>\n",
       "      <td>0.0</td>\n",
       "      <td>1000</td>\n",
       "    </tr>\n",
       "    <tr>\n",
       "      <td>1</td>\n",
       "      <td>1000_1</td>\n",
       "      <td>2018-08-17</td>\n",
       "      <td>0.0</td>\n",
       "      <td>1000</td>\n",
       "    </tr>\n",
       "    <tr>\n",
       "      <td>5</td>\n",
       "      <td>1000_5</td>\n",
       "      <td>2018-11-02</td>\n",
       "      <td>0.0</td>\n",
       "      <td>1000</td>\n",
       "    </tr>\n",
       "    <tr>\n",
       "      <td>6</td>\n",
       "      <td>1000_6</td>\n",
       "      <td>2018-10-18</td>\n",
       "      <td>0.0</td>\n",
       "      <td>1000</td>\n",
       "    </tr>\n",
       "    <tr>\n",
       "      <td>9</td>\n",
       "      <td>1000_9</td>\n",
       "      <td>2018-08-15</td>\n",
       "      <td>0.0</td>\n",
       "      <td>1000</td>\n",
       "    </tr>\n",
       "    <tr>\n",
       "      <td>...</td>\n",
       "      <td>...</td>\n",
       "      <td>...</td>\n",
       "      <td>...</td>\n",
       "      <td>...</td>\n",
       "    </tr>\n",
       "    <tr>\n",
       "      <td>329</td>\n",
       "      <td>1000_329</td>\n",
       "      <td>2018-10-29</td>\n",
       "      <td>0.0</td>\n",
       "      <td>1000</td>\n",
       "    </tr>\n",
       "    <tr>\n",
       "      <td>341</td>\n",
       "      <td>1000_341</td>\n",
       "      <td>2018-11-29</td>\n",
       "      <td>0.0</td>\n",
       "      <td>1000</td>\n",
       "    </tr>\n",
       "    <tr>\n",
       "      <td>345</td>\n",
       "      <td>1000_345</td>\n",
       "      <td>2018-10-14</td>\n",
       "      <td>0.0</td>\n",
       "      <td>1000</td>\n",
       "    </tr>\n",
       "    <tr>\n",
       "      <td>351</td>\n",
       "      <td>1000_351</td>\n",
       "      <td>2018-09-28</td>\n",
       "      <td>0.0</td>\n",
       "      <td>1000</td>\n",
       "    </tr>\n",
       "    <tr>\n",
       "      <td>355</td>\n",
       "      <td>1000_355</td>\n",
       "      <td>2018-06-13</td>\n",
       "      <td>0.0</td>\n",
       "      <td>1000</td>\n",
       "    </tr>\n",
       "  </tbody>\n",
       "</table>\n",
       "<p>75 rows × 4 columns</p>\n",
       "</div>"
      ],
      "text/plain": [
       "           id   call_date  duration  user_id\n",
       "0      1000_0  2018-07-25       0.0     1000\n",
       "1      1000_1  2018-08-17       0.0     1000\n",
       "5      1000_5  2018-11-02       0.0     1000\n",
       "6      1000_6  2018-10-18       0.0     1000\n",
       "9      1000_9  2018-08-15       0.0     1000\n",
       "..        ...         ...       ...      ...\n",
       "329  1000_329  2018-10-29       0.0     1000\n",
       "341  1000_341  2018-11-29       0.0     1000\n",
       "345  1000_345  2018-10-14       0.0     1000\n",
       "351  1000_351  2018-09-28       0.0     1000\n",
       "355  1000_355  2018-06-13       0.0     1000\n",
       "\n",
       "[75 rows x 4 columns]"
      ]
     },
     "execution_count": 11,
     "metadata": {},
     "output_type": "execute_result"
    }
   ],
   "source": [
    "calls.query('duration == 0.0 and user_id == 1000')"
   ]
  },
  {
   "cell_type": "code",
   "execution_count": 12,
   "metadata": {},
   "outputs": [
    {
     "data": {
      "text/plain": [
       "duration\n",
       "0.0    492\n",
       "Name: user_id, dtype: int64"
      ]
     },
     "execution_count": 12,
     "metadata": {},
     "output_type": "execute_result"
    }
   ],
   "source": [
    "zero_calls.groupby('duration')['user_id'].nunique()"
   ]
  },
  {
   "cell_type": "markdown",
   "metadata": {},
   "source": [
    "У нас содержится всего 492 уникальных значения (пользователя), которые имеют нулевую длительность или"
   ]
  },
  {
   "cell_type": "code",
   "execution_count": 13,
   "metadata": {},
   "outputs": [
    {
     "data": {
      "text/plain": [
       "duration\n",
       "0.00     492\n",
       "0.01      87\n",
       "0.02      74\n",
       "0.03      71\n",
       "0.04      73\n",
       "        ... \n",
       "35.95      1\n",
       "36.12      1\n",
       "36.47      1\n",
       "37.35      1\n",
       "38.00      1\n",
       "Name: user_id, Length: 2871, dtype: int64"
      ]
     },
     "execution_count": 13,
     "metadata": {},
     "output_type": "execute_result"
    }
   ],
   "source": [
    "calls.groupby('duration')['user_id'].nunique()"
   ]
  },
  {
   "cell_type": "markdown",
   "metadata": {},
   "source": [
    "Считаю, что эти \"нулевые\" строки надо удалить на этапе предобработки."
   ]
  },
  {
   "cell_type": "code",
   "execution_count": 14,
   "metadata": {},
   "outputs": [],
   "source": [
    "calls['duration'] = calls['duration'].replace(0, np.NaN)\n",
    "calls = calls.dropna()"
   ]
  },
  {
   "cell_type": "code",
   "execution_count": 15,
   "metadata": {
    "scrolled": true
   },
   "outputs": [
    {
     "data": {
      "text/plain": [
       "duration\n",
       "0.01     87\n",
       "0.02     74\n",
       "0.03     71\n",
       "0.04     73\n",
       "0.05     71\n",
       "         ..\n",
       "35.95     1\n",
       "36.12     1\n",
       "36.47     1\n",
       "37.35     1\n",
       "38.00     1\n",
       "Name: user_id, Length: 2870, dtype: int64"
      ]
     },
     "execution_count": 15,
     "metadata": {},
     "output_type": "execute_result"
    }
   ],
   "source": [
    "calls.groupby('duration')['user_id'].nunique()"
   ]
  },
  {
   "cell_type": "code",
   "execution_count": 16,
   "metadata": {},
   "outputs": [
    {
     "data": {
      "text/html": [
       "<div>\n",
       "<style scoped>\n",
       "    .dataframe tbody tr th:only-of-type {\n",
       "        vertical-align: middle;\n",
       "    }\n",
       "\n",
       "    .dataframe tbody tr th {\n",
       "        vertical-align: top;\n",
       "    }\n",
       "\n",
       "    .dataframe thead th {\n",
       "        text-align: right;\n",
       "    }\n",
       "</style>\n",
       "<table border=\"1\" class=\"dataframe\">\n",
       "  <thead>\n",
       "    <tr style=\"text-align: right;\">\n",
       "      <th></th>\n",
       "      <th>id</th>\n",
       "      <th>call_date</th>\n",
       "      <th>duration</th>\n",
       "      <th>user_id</th>\n",
       "    </tr>\n",
       "  </thead>\n",
       "  <tbody>\n",
       "    <tr>\n",
       "      <td>2</td>\n",
       "      <td>1000_2</td>\n",
       "      <td>2018-06-11</td>\n",
       "      <td>2.85</td>\n",
       "      <td>1000</td>\n",
       "    </tr>\n",
       "    <tr>\n",
       "      <td>3</td>\n",
       "      <td>1000_3</td>\n",
       "      <td>2018-09-21</td>\n",
       "      <td>13.80</td>\n",
       "      <td>1000</td>\n",
       "    </tr>\n",
       "    <tr>\n",
       "      <td>4</td>\n",
       "      <td>1000_4</td>\n",
       "      <td>2018-12-15</td>\n",
       "      <td>5.18</td>\n",
       "      <td>1000</td>\n",
       "    </tr>\n",
       "    <tr>\n",
       "      <td>7</td>\n",
       "      <td>1000_7</td>\n",
       "      <td>2018-08-22</td>\n",
       "      <td>18.31</td>\n",
       "      <td>1000</td>\n",
       "    </tr>\n",
       "    <tr>\n",
       "      <td>8</td>\n",
       "      <td>1000_8</td>\n",
       "      <td>2018-09-15</td>\n",
       "      <td>18.44</td>\n",
       "      <td>1000</td>\n",
       "    </tr>\n",
       "  </tbody>\n",
       "</table>\n",
       "</div>"
      ],
      "text/plain": [
       "       id   call_date  duration  user_id\n",
       "2  1000_2  2018-06-11      2.85     1000\n",
       "3  1000_3  2018-09-21     13.80     1000\n",
       "4  1000_4  2018-12-15      5.18     1000\n",
       "7  1000_7  2018-08-22     18.31     1000\n",
       "8  1000_8  2018-09-15     18.44     1000"
      ]
     },
     "execution_count": 16,
     "metadata": {},
     "output_type": "execute_result"
    }
   ],
   "source": [
    "calls.head()"
   ]
  },
  {
   "cell_type": "markdown",
   "metadata": {},
   "source": [
    "Прекрасно иметь дело с правильной выборкой. Однако, \"«Мегалайн» всегда округляет вверх значения минут и мегабайт. Если пользователь проговорил всего 1 секунду, в тарифе засчитывается целая минута\". Округлим. Значения указаны в минутах."
   ]
  },
  {
   "cell_type": "code",
   "execution_count": 17,
   "metadata": {},
   "outputs": [
    {
     "data": {
      "text/html": [
       "<div>\n",
       "<style scoped>\n",
       "    .dataframe tbody tr th:only-of-type {\n",
       "        vertical-align: middle;\n",
       "    }\n",
       "\n",
       "    .dataframe tbody tr th {\n",
       "        vertical-align: top;\n",
       "    }\n",
       "\n",
       "    .dataframe thead th {\n",
       "        text-align: right;\n",
       "    }\n",
       "</style>\n",
       "<table border=\"1\" class=\"dataframe\">\n",
       "  <thead>\n",
       "    <tr style=\"text-align: right;\">\n",
       "      <th></th>\n",
       "      <th>id</th>\n",
       "      <th>call_date</th>\n",
       "      <th>duration</th>\n",
       "      <th>user_id</th>\n",
       "    </tr>\n",
       "  </thead>\n",
       "  <tbody>\n",
       "    <tr>\n",
       "      <td>2</td>\n",
       "      <td>1000_2</td>\n",
       "      <td>2018-06-11</td>\n",
       "      <td>3.0</td>\n",
       "      <td>1000</td>\n",
       "    </tr>\n",
       "    <tr>\n",
       "      <td>3</td>\n",
       "      <td>1000_3</td>\n",
       "      <td>2018-09-21</td>\n",
       "      <td>14.0</td>\n",
       "      <td>1000</td>\n",
       "    </tr>\n",
       "    <tr>\n",
       "      <td>4</td>\n",
       "      <td>1000_4</td>\n",
       "      <td>2018-12-15</td>\n",
       "      <td>6.0</td>\n",
       "      <td>1000</td>\n",
       "    </tr>\n",
       "    <tr>\n",
       "      <td>7</td>\n",
       "      <td>1000_7</td>\n",
       "      <td>2018-08-22</td>\n",
       "      <td>19.0</td>\n",
       "      <td>1000</td>\n",
       "    </tr>\n",
       "    <tr>\n",
       "      <td>8</td>\n",
       "      <td>1000_8</td>\n",
       "      <td>2018-09-15</td>\n",
       "      <td>19.0</td>\n",
       "      <td>1000</td>\n",
       "    </tr>\n",
       "  </tbody>\n",
       "</table>\n",
       "</div>"
      ],
      "text/plain": [
       "       id   call_date  duration  user_id\n",
       "2  1000_2  2018-06-11       3.0     1000\n",
       "3  1000_3  2018-09-21      14.0     1000\n",
       "4  1000_4  2018-12-15       6.0     1000\n",
       "7  1000_7  2018-08-22      19.0     1000\n",
       "8  1000_8  2018-09-15      19.0     1000"
      ]
     },
     "execution_count": 17,
     "metadata": {},
     "output_type": "execute_result"
    }
   ],
   "source": [
    "calls['duration'] = calls['duration'].apply(np.ceil)\n",
    "calls.head()"
   ]
  },
  {
   "cell_type": "markdown",
   "metadata": {},
   "source": [
    "<div class=\"alert alert-danger\">\n",
    "    \n",
    "<b> Комментарий от ревьюера</b>\n",
    "    \n",
    "Длительность звонков нужно округлить вверх, т.е. 5.18 -> 6.0\n",
    "    \n",
    "Поищи подходящую функцию в библиотеке numpy.\n",
    "</div>\n"
   ]
  },
  {
   "cell_type": "markdown",
   "metadata": {},
   "source": [
    "<div class=\"alert alert-info\">\n",
    "    \n",
    "Верно, поправил.\n",
    "</div>"
   ]
  },
  {
   "cell_type": "markdown",
   "metadata": {},
   "source": [
    "\n",
    "<div class=\"alert alert-success\">\n",
    "    \n",
    "<b> Комментарий от ревьюера 2</b>\n",
    "\n",
    "Молодец, что поправил код\n",
    "\n",
    "</div>"
   ]
  },
  {
   "cell_type": "markdown",
   "metadata": {},
   "source": [
    "Перейдём к сообщениям."
   ]
  },
  {
   "cell_type": "code",
   "execution_count": 18,
   "metadata": {},
   "outputs": [
    {
     "data": {
      "text/html": [
       "<div>\n",
       "<style scoped>\n",
       "    .dataframe tbody tr th:only-of-type {\n",
       "        vertical-align: middle;\n",
       "    }\n",
       "\n",
       "    .dataframe tbody tr th {\n",
       "        vertical-align: top;\n",
       "    }\n",
       "\n",
       "    .dataframe thead th {\n",
       "        text-align: right;\n",
       "    }\n",
       "</style>\n",
       "<table border=\"1\" class=\"dataframe\">\n",
       "  <thead>\n",
       "    <tr style=\"text-align: right;\">\n",
       "      <th></th>\n",
       "      <th>id</th>\n",
       "      <th>message_date</th>\n",
       "      <th>user_id</th>\n",
       "    </tr>\n",
       "  </thead>\n",
       "  <tbody>\n",
       "    <tr>\n",
       "      <td>0</td>\n",
       "      <td>1000_0</td>\n",
       "      <td>2018-06-27</td>\n",
       "      <td>1000</td>\n",
       "    </tr>\n",
       "    <tr>\n",
       "      <td>1</td>\n",
       "      <td>1000_1</td>\n",
       "      <td>2018-10-08</td>\n",
       "      <td>1000</td>\n",
       "    </tr>\n",
       "    <tr>\n",
       "      <td>2</td>\n",
       "      <td>1000_2</td>\n",
       "      <td>2018-08-04</td>\n",
       "      <td>1000</td>\n",
       "    </tr>\n",
       "    <tr>\n",
       "      <td>3</td>\n",
       "      <td>1000_3</td>\n",
       "      <td>2018-06-16</td>\n",
       "      <td>1000</td>\n",
       "    </tr>\n",
       "    <tr>\n",
       "      <td>4</td>\n",
       "      <td>1000_4</td>\n",
       "      <td>2018-12-05</td>\n",
       "      <td>1000</td>\n",
       "    </tr>\n",
       "  </tbody>\n",
       "</table>\n",
       "</div>"
      ],
      "text/plain": [
       "       id message_date  user_id\n",
       "0  1000_0   2018-06-27     1000\n",
       "1  1000_1   2018-10-08     1000\n",
       "2  1000_2   2018-08-04     1000\n",
       "3  1000_3   2018-06-16     1000\n",
       "4  1000_4   2018-12-05     1000"
      ]
     },
     "execution_count": 18,
     "metadata": {},
     "output_type": "execute_result"
    }
   ],
   "source": [
    "messages.head()"
   ]
  },
  {
   "cell_type": "code",
   "execution_count": 19,
   "metadata": {},
   "outputs": [
    {
     "name": "stdout",
     "output_type": "stream",
     "text": [
      "<class 'pandas.core.frame.DataFrame'>\n",
      "RangeIndex: 123036 entries, 0 to 123035\n",
      "Data columns (total 3 columns):\n",
      "id              123036 non-null object\n",
      "message_date    123036 non-null object\n",
      "user_id         123036 non-null int64\n",
      "dtypes: int64(1), object(2)\n",
      "memory usage: 2.8+ MB\n"
     ]
    }
   ],
   "source": [
    "messages.info()"
   ]
  },
  {
   "cell_type": "markdown",
   "metadata": {},
   "source": [
    "Всё хорошо, но не забыть заменить datetime. Идём дальше."
   ]
  },
  {
   "cell_type": "code",
   "execution_count": 20,
   "metadata": {},
   "outputs": [
    {
     "data": {
      "text/html": [
       "<div>\n",
       "<style scoped>\n",
       "    .dataframe tbody tr th:only-of-type {\n",
       "        vertical-align: middle;\n",
       "    }\n",
       "\n",
       "    .dataframe tbody tr th {\n",
       "        vertical-align: top;\n",
       "    }\n",
       "\n",
       "    .dataframe thead th {\n",
       "        text-align: right;\n",
       "    }\n",
       "</style>\n",
       "<table border=\"1\" class=\"dataframe\">\n",
       "  <thead>\n",
       "    <tr style=\"text-align: right;\">\n",
       "      <th></th>\n",
       "      <th>Unnamed: 0</th>\n",
       "      <th>id</th>\n",
       "      <th>mb_used</th>\n",
       "      <th>session_date</th>\n",
       "      <th>user_id</th>\n",
       "    </tr>\n",
       "  </thead>\n",
       "  <tbody>\n",
       "    <tr>\n",
       "      <td>0</td>\n",
       "      <td>0</td>\n",
       "      <td>1000_0</td>\n",
       "      <td>112.95</td>\n",
       "      <td>2018-11-25</td>\n",
       "      <td>1000</td>\n",
       "    </tr>\n",
       "    <tr>\n",
       "      <td>1</td>\n",
       "      <td>1</td>\n",
       "      <td>1000_1</td>\n",
       "      <td>1052.81</td>\n",
       "      <td>2018-09-07</td>\n",
       "      <td>1000</td>\n",
       "    </tr>\n",
       "    <tr>\n",
       "      <td>2</td>\n",
       "      <td>2</td>\n",
       "      <td>1000_2</td>\n",
       "      <td>1197.26</td>\n",
       "      <td>2018-06-25</td>\n",
       "      <td>1000</td>\n",
       "    </tr>\n",
       "    <tr>\n",
       "      <td>3</td>\n",
       "      <td>3</td>\n",
       "      <td>1000_3</td>\n",
       "      <td>550.27</td>\n",
       "      <td>2018-08-22</td>\n",
       "      <td>1000</td>\n",
       "    </tr>\n",
       "    <tr>\n",
       "      <td>4</td>\n",
       "      <td>4</td>\n",
       "      <td>1000_4</td>\n",
       "      <td>302.56</td>\n",
       "      <td>2018-09-24</td>\n",
       "      <td>1000</td>\n",
       "    </tr>\n",
       "  </tbody>\n",
       "</table>\n",
       "</div>"
      ],
      "text/plain": [
       "   Unnamed: 0      id  mb_used session_date  user_id\n",
       "0           0  1000_0   112.95   2018-11-25     1000\n",
       "1           1  1000_1  1052.81   2018-09-07     1000\n",
       "2           2  1000_2  1197.26   2018-06-25     1000\n",
       "3           3  1000_3   550.27   2018-08-22     1000\n",
       "4           4  1000_4   302.56   2018-09-24     1000"
      ]
     },
     "execution_count": 20,
     "metadata": {},
     "output_type": "execute_result"
    }
   ],
   "source": [
    "internet.head()"
   ]
  },
  {
   "cell_type": "code",
   "execution_count": 21,
   "metadata": {},
   "outputs": [
    {
     "name": "stdout",
     "output_type": "stream",
     "text": [
      "<class 'pandas.core.frame.DataFrame'>\n",
      "RangeIndex: 149396 entries, 0 to 149395\n",
      "Data columns (total 5 columns):\n",
      "Unnamed: 0      149396 non-null int64\n",
      "id              149396 non-null object\n",
      "mb_used         149396 non-null float64\n",
      "session_date    149396 non-null object\n",
      "user_id         149396 non-null int64\n",
      "dtypes: float64(1), int64(2), object(2)\n",
      "memory usage: 5.7+ MB\n"
     ]
    }
   ],
   "source": [
    "internet.info()"
   ]
  },
  {
   "cell_type": "markdown",
   "metadata": {},
   "source": [
    "session_date тоже изменим на datetime. Но здесь есть ещё один важный момент.  \"«Мегалайн» всегда округляет вверх значения минут и мегабайт. Если пользователь проговорил всего 1 секунду, в тарифе засчитывается целая минута\". И округлим так."
   ]
  },
  {
   "cell_type": "code",
   "execution_count": 22,
   "metadata": {},
   "outputs": [
    {
     "data": {
      "text/html": [
       "<div>\n",
       "<style scoped>\n",
       "    .dataframe tbody tr th:only-of-type {\n",
       "        vertical-align: middle;\n",
       "    }\n",
       "\n",
       "    .dataframe tbody tr th {\n",
       "        vertical-align: top;\n",
       "    }\n",
       "\n",
       "    .dataframe thead th {\n",
       "        text-align: right;\n",
       "    }\n",
       "</style>\n",
       "<table border=\"1\" class=\"dataframe\">\n",
       "  <thead>\n",
       "    <tr style=\"text-align: right;\">\n",
       "      <th></th>\n",
       "      <th>Unnamed: 0</th>\n",
       "      <th>id</th>\n",
       "      <th>mb_used</th>\n",
       "      <th>session_date</th>\n",
       "      <th>user_id</th>\n",
       "    </tr>\n",
       "  </thead>\n",
       "  <tbody>\n",
       "    <tr>\n",
       "      <td>0</td>\n",
       "      <td>0</td>\n",
       "      <td>1000_0</td>\n",
       "      <td>113.0</td>\n",
       "      <td>2018-11-25</td>\n",
       "      <td>1000</td>\n",
       "    </tr>\n",
       "    <tr>\n",
       "      <td>1</td>\n",
       "      <td>1</td>\n",
       "      <td>1000_1</td>\n",
       "      <td>1053.0</td>\n",
       "      <td>2018-09-07</td>\n",
       "      <td>1000</td>\n",
       "    </tr>\n",
       "    <tr>\n",
       "      <td>2</td>\n",
       "      <td>2</td>\n",
       "      <td>1000_2</td>\n",
       "      <td>1197.0</td>\n",
       "      <td>2018-06-25</td>\n",
       "      <td>1000</td>\n",
       "    </tr>\n",
       "    <tr>\n",
       "      <td>3</td>\n",
       "      <td>3</td>\n",
       "      <td>1000_3</td>\n",
       "      <td>550.0</td>\n",
       "      <td>2018-08-22</td>\n",
       "      <td>1000</td>\n",
       "    </tr>\n",
       "    <tr>\n",
       "      <td>4</td>\n",
       "      <td>4</td>\n",
       "      <td>1000_4</td>\n",
       "      <td>303.0</td>\n",
       "      <td>2018-09-24</td>\n",
       "      <td>1000</td>\n",
       "    </tr>\n",
       "  </tbody>\n",
       "</table>\n",
       "</div>"
      ],
      "text/plain": [
       "   Unnamed: 0      id  mb_used session_date  user_id\n",
       "0           0  1000_0    113.0   2018-11-25     1000\n",
       "1           1  1000_1   1053.0   2018-09-07     1000\n",
       "2           2  1000_2   1197.0   2018-06-25     1000\n",
       "3           3  1000_3    550.0   2018-08-22     1000\n",
       "4           4  1000_4    303.0   2018-09-24     1000"
      ]
     },
     "execution_count": 22,
     "metadata": {},
     "output_type": "execute_result"
    }
   ],
   "source": [
    "internet['mb_used'] = internet['mb_used'].round()\n",
    "internet.head()"
   ]
  },
  {
   "cell_type": "markdown",
   "metadata": {},
   "source": [
    "Выведем гистограмму распределения использования интернет-трафика в сессиях:"
   ]
  },
  {
   "cell_type": "code",
   "execution_count": 23,
   "metadata": {},
   "outputs": [
    {
     "data": {
      "text/plain": [
       "<matplotlib.axes._subplots.AxesSubplot at 0x7f8ce9b3b9d0>"
      ]
     },
     "execution_count": 23,
     "metadata": {},
     "output_type": "execute_result"
    },
    {
     "data": {
      "image/png": "[encoded data removed]",
      "text/plain": [
       "<Figure size 432x288 with 1 Axes>"
      ]
     },
     "metadata": {
      "needs_background": "light"
     },
     "output_type": "display_data"
    }
   ],
   "source": [
    "internet['mb_used'].plot(kind='hist', ec='black', bins=50)"
   ]
  },
  {
   "cell_type": "markdown",
   "metadata": {},
   "source": [
    "Нули - это всегда плохо. Или хорошо?"
   ]
  },
  {
   "cell_type": "code",
   "execution_count": 24,
   "metadata": {},
   "outputs": [
    {
     "data": {
      "text/html": [
       "<div>\n",
       "<style scoped>\n",
       "    .dataframe tbody tr th:only-of-type {\n",
       "        vertical-align: middle;\n",
       "    }\n",
       "\n",
       "    .dataframe tbody tr th {\n",
       "        vertical-align: top;\n",
       "    }\n",
       "\n",
       "    .dataframe thead th {\n",
       "        text-align: right;\n",
       "    }\n",
       "</style>\n",
       "<table border=\"1\" class=\"dataframe\">\n",
       "  <thead>\n",
       "    <tr style=\"text-align: right;\">\n",
       "      <th></th>\n",
       "      <th>Unnamed: 0</th>\n",
       "      <th>id</th>\n",
       "      <th>mb_used</th>\n",
       "      <th>session_date</th>\n",
       "      <th>user_id</th>\n",
       "    </tr>\n",
       "  </thead>\n",
       "  <tbody>\n",
       "    <tr>\n",
       "      <td>11</td>\n",
       "      <td>11</td>\n",
       "      <td>1000_11</td>\n",
       "      <td>0.0</td>\n",
       "      <td>2018-08-28</td>\n",
       "      <td>1000</td>\n",
       "    </tr>\n",
       "    <tr>\n",
       "      <td>38</td>\n",
       "      <td>38</td>\n",
       "      <td>1000_38</td>\n",
       "      <td>0.0</td>\n",
       "      <td>2018-11-27</td>\n",
       "      <td>1000</td>\n",
       "    </tr>\n",
       "    <tr>\n",
       "      <td>46</td>\n",
       "      <td>46</td>\n",
       "      <td>1000_46</td>\n",
       "      <td>0.0</td>\n",
       "      <td>2018-06-30</td>\n",
       "      <td>1000</td>\n",
       "    </tr>\n",
       "    <tr>\n",
       "      <td>67</td>\n",
       "      <td>67</td>\n",
       "      <td>1000_67</td>\n",
       "      <td>0.0</td>\n",
       "      <td>2018-06-16</td>\n",
       "      <td>1000</td>\n",
       "    </tr>\n",
       "    <tr>\n",
       "      <td>72</td>\n",
       "      <td>72</td>\n",
       "      <td>1000_72</td>\n",
       "      <td>0.0</td>\n",
       "      <td>2018-06-15</td>\n",
       "      <td>1000</td>\n",
       "    </tr>\n",
       "    <tr>\n",
       "      <td>...</td>\n",
       "      <td>...</td>\n",
       "      <td>...</td>\n",
       "      <td>...</td>\n",
       "      <td>...</td>\n",
       "      <td>...</td>\n",
       "    </tr>\n",
       "    <tr>\n",
       "      <td>149380</td>\n",
       "      <td>149380</td>\n",
       "      <td>1499_141</td>\n",
       "      <td>0.0</td>\n",
       "      <td>2018-12-11</td>\n",
       "      <td>1499</td>\n",
       "    </tr>\n",
       "    <tr>\n",
       "      <td>149381</td>\n",
       "      <td>149381</td>\n",
       "      <td>1499_142</td>\n",
       "      <td>0.0</td>\n",
       "      <td>2018-11-01</td>\n",
       "      <td>1499</td>\n",
       "    </tr>\n",
       "    <tr>\n",
       "      <td>149383</td>\n",
       "      <td>149383</td>\n",
       "      <td>1499_144</td>\n",
       "      <td>0.0</td>\n",
       "      <td>2018-11-27</td>\n",
       "      <td>1499</td>\n",
       "    </tr>\n",
       "    <tr>\n",
       "      <td>149386</td>\n",
       "      <td>149386</td>\n",
       "      <td>1499_147</td>\n",
       "      <td>0.0</td>\n",
       "      <td>2018-10-21</td>\n",
       "      <td>1499</td>\n",
       "    </tr>\n",
       "    <tr>\n",
       "      <td>149393</td>\n",
       "      <td>149393</td>\n",
       "      <td>1499_154</td>\n",
       "      <td>0.0</td>\n",
       "      <td>2018-10-27</td>\n",
       "      <td>1499</td>\n",
       "    </tr>\n",
       "  </tbody>\n",
       "</table>\n",
       "<p>19649 rows × 5 columns</p>\n",
       "</div>"
      ],
      "text/plain": [
       "        Unnamed: 0        id  mb_used session_date  user_id\n",
       "11              11   1000_11      0.0   2018-08-28     1000\n",
       "38              38   1000_38      0.0   2018-11-27     1000\n",
       "46              46   1000_46      0.0   2018-06-30     1000\n",
       "67              67   1000_67      0.0   2018-06-16     1000\n",
       "72              72   1000_72      0.0   2018-06-15     1000\n",
       "...            ...       ...      ...          ...      ...\n",
       "149380      149380  1499_141      0.0   2018-12-11     1499\n",
       "149381      149381  1499_142      0.0   2018-11-01     1499\n",
       "149383      149383  1499_144      0.0   2018-11-27     1499\n",
       "149386      149386  1499_147      0.0   2018-10-21     1499\n",
       "149393      149393  1499_154      0.0   2018-10-27     1499\n",
       "\n",
       "[19649 rows x 5 columns]"
      ]
     },
     "execution_count": 24,
     "metadata": {},
     "output_type": "execute_result"
    }
   ],
   "source": [
    "internet.query('mb_used == 0')"
   ]
  },
  {
   "cell_type": "code",
   "execution_count": 25,
   "metadata": {},
   "outputs": [
    {
     "data": {
      "text/plain": [
       "<matplotlib.axes._subplots.AxesSubplot at 0x7f8ce9a4ab50>"
      ]
     },
     "execution_count": 25,
     "metadata": {},
     "output_type": "execute_result"
    },
    {
     "data": {
      "image/png": "[encoded data removed]",
      "text/plain": [
       "<Figure size 432x288 with 1 Axes>"
      ]
     },
     "metadata": {
      "needs_background": "light"
     },
     "output_type": "display_data"
    }
   ],
   "source": [
    "internet['mb_used'] = internet['mb_used'].replace(0, np.NaN)\n",
    "internet = internet.dropna()\n",
    "internet['mb_used'].plot(kind='hist', ec='black', bins=50)"
   ]
  },
  {
   "cell_type": "markdown",
   "metadata": {},
   "source": [
    "Прекрасно, мы удалили нули  -вероятнее всего, это обрывочные сессии. Теперь график приобрёл приемлемый вид."
   ]
  },
  {
   "cell_type": "markdown",
   "metadata": {},
   "source": [
    "И последнее, посмотрим на таблицу тарифов, это справочные значения."
   ]
  },
  {
   "cell_type": "code",
   "execution_count": 26,
   "metadata": {},
   "outputs": [
    {
     "data": {
      "text/html": [
       "<div>\n",
       "<style scoped>\n",
       "    .dataframe tbody tr th:only-of-type {\n",
       "        vertical-align: middle;\n",
       "    }\n",
       "\n",
       "    .dataframe tbody tr th {\n",
       "        vertical-align: top;\n",
       "    }\n",
       "\n",
       "    .dataframe thead th {\n",
       "        text-align: right;\n",
       "    }\n",
       "</style>\n",
       "<table border=\"1\" class=\"dataframe\">\n",
       "  <thead>\n",
       "    <tr style=\"text-align: right;\">\n",
       "      <th></th>\n",
       "      <th>messages_included</th>\n",
       "      <th>mb_per_month_included</th>\n",
       "      <th>minutes_included</th>\n",
       "      <th>rub_monthly_fee</th>\n",
       "      <th>rub_per_gb</th>\n",
       "      <th>rub_per_message</th>\n",
       "      <th>rub_per_minute</th>\n",
       "      <th>tariff_name</th>\n",
       "    </tr>\n",
       "  </thead>\n",
       "  <tbody>\n",
       "    <tr>\n",
       "      <td>0</td>\n",
       "      <td>50</td>\n",
       "      <td>15360</td>\n",
       "      <td>500</td>\n",
       "      <td>550</td>\n",
       "      <td>200</td>\n",
       "      <td>3</td>\n",
       "      <td>3</td>\n",
       "      <td>smart</td>\n",
       "    </tr>\n",
       "    <tr>\n",
       "      <td>1</td>\n",
       "      <td>1000</td>\n",
       "      <td>30720</td>\n",
       "      <td>3000</td>\n",
       "      <td>1950</td>\n",
       "      <td>150</td>\n",
       "      <td>1</td>\n",
       "      <td>1</td>\n",
       "      <td>ultra</td>\n",
       "    </tr>\n",
       "  </tbody>\n",
       "</table>\n",
       "</div>"
      ],
      "text/plain": [
       "   messages_included  mb_per_month_included  minutes_included  \\\n",
       "0                 50                  15360               500   \n",
       "1               1000                  30720              3000   \n",
       "\n",
       "   rub_monthly_fee  rub_per_gb  rub_per_message  rub_per_minute tariff_name  \n",
       "0              550         200                3               3       smart  \n",
       "1             1950         150                1               1       ultra  "
      ]
     },
     "execution_count": 26,
     "metadata": {},
     "output_type": "execute_result"
    }
   ],
   "source": [
    "tariffs.head()"
   ]
  },
  {
   "cell_type": "markdown",
   "metadata": {},
   "source": [
    "<div class=\"alert alert-success\">\n",
    "    \n",
    "<b> Комментарий от ревьюера</b>\n",
    "    \n",
    "Все верно\n",
    "</div>"
   ]
  },
  {
   "cell_type": "markdown",
   "metadata": {},
   "source": [
    "## Обработка и добавление данных"
   ]
  },
  {
   "cell_type": "markdown",
   "metadata": {},
   "source": [
    "Выше мы уже писали о проблеме в столбцах с datetime, поэтому изменим их. Также, добавим месяц. Мы уже писали функцию."
   ]
  },
  {
   "cell_type": "code",
   "execution_count": 27,
   "metadata": {},
   "outputs": [
    {
     "data": {
      "text/html": [
       "<div>\n",
       "<style scoped>\n",
       "    .dataframe tbody tr th:only-of-type {\n",
       "        vertical-align: middle;\n",
       "    }\n",
       "\n",
       "    .dataframe tbody tr th {\n",
       "        vertical-align: top;\n",
       "    }\n",
       "\n",
       "    .dataframe thead th {\n",
       "        text-align: right;\n",
       "    }\n",
       "</style>\n",
       "<table border=\"1\" class=\"dataframe\">\n",
       "  <thead>\n",
       "    <tr style=\"text-align: right;\">\n",
       "      <th></th>\n",
       "      <th>user_id</th>\n",
       "      <th>age</th>\n",
       "      <th>churn_date</th>\n",
       "      <th>city</th>\n",
       "      <th>first_name</th>\n",
       "      <th>last_name</th>\n",
       "      <th>reg_date</th>\n",
       "      <th>tariff</th>\n",
       "      <th>month</th>\n",
       "    </tr>\n",
       "  </thead>\n",
       "  <tbody>\n",
       "    <tr>\n",
       "      <td>0</td>\n",
       "      <td>1000</td>\n",
       "      <td>52</td>\n",
       "      <td>NaN</td>\n",
       "      <td>Краснодар</td>\n",
       "      <td>Рафаил</td>\n",
       "      <td>Верещагин</td>\n",
       "      <td>2018-05-25</td>\n",
       "      <td>ultra</td>\n",
       "      <td>5</td>\n",
       "    </tr>\n",
       "    <tr>\n",
       "      <td>1</td>\n",
       "      <td>1001</td>\n",
       "      <td>41</td>\n",
       "      <td>NaN</td>\n",
       "      <td>Москва</td>\n",
       "      <td>Иван</td>\n",
       "      <td>Ежов</td>\n",
       "      <td>2018-11-01</td>\n",
       "      <td>smart</td>\n",
       "      <td>11</td>\n",
       "    </tr>\n",
       "    <tr>\n",
       "      <td>2</td>\n",
       "      <td>1002</td>\n",
       "      <td>59</td>\n",
       "      <td>NaN</td>\n",
       "      <td>Стерлитамак</td>\n",
       "      <td>Евгений</td>\n",
       "      <td>Абрамович</td>\n",
       "      <td>2018-06-17</td>\n",
       "      <td>smart</td>\n",
       "      <td>6</td>\n",
       "    </tr>\n",
       "    <tr>\n",
       "      <td>3</td>\n",
       "      <td>1003</td>\n",
       "      <td>23</td>\n",
       "      <td>NaN</td>\n",
       "      <td>Москва</td>\n",
       "      <td>Белла</td>\n",
       "      <td>Белякова</td>\n",
       "      <td>2018-08-17</td>\n",
       "      <td>ultra</td>\n",
       "      <td>8</td>\n",
       "    </tr>\n",
       "    <tr>\n",
       "      <td>4</td>\n",
       "      <td>1004</td>\n",
       "      <td>68</td>\n",
       "      <td>NaN</td>\n",
       "      <td>Новокузнецк</td>\n",
       "      <td>Татьяна</td>\n",
       "      <td>Авдеенко</td>\n",
       "      <td>2018-05-14</td>\n",
       "      <td>ultra</td>\n",
       "      <td>5</td>\n",
       "    </tr>\n",
       "  </tbody>\n",
       "</table>\n",
       "</div>"
      ],
      "text/plain": [
       "   user_id  age churn_date         city first_name  last_name   reg_date  \\\n",
       "0     1000   52        NaN    Краснодар     Рафаил  Верещагин 2018-05-25   \n",
       "1     1001   41        NaN       Москва       Иван       Ежов 2018-11-01   \n",
       "2     1002   59        NaN  Стерлитамак    Евгений  Абрамович 2018-06-17   \n",
       "3     1003   23        NaN       Москва      Белла   Белякова 2018-08-17   \n",
       "4     1004   68        NaN  Новокузнецк    Татьяна   Авдеенко 2018-05-14   \n",
       "\n",
       "  tariff  month  \n",
       "0  ultra      5  \n",
       "1  smart     11  \n",
       "2  smart      6  \n",
       "3  ultra      8  \n",
       "4  ultra      5  "
      ]
     },
     "execution_count": 27,
     "metadata": {},
     "output_type": "execute_result"
    }
   ],
   "source": [
    "date_to_dt_month([users, calls, messages, internet])\n",
    "users.head()"
   ]
  },
  {
   "cell_type": "code",
   "execution_count": 28,
   "metadata": {},
   "outputs": [
    {
     "data": {
      "text/html": [
       "<div>\n",
       "<style scoped>\n",
       "    .dataframe tbody tr th:only-of-type {\n",
       "        vertical-align: middle;\n",
       "    }\n",
       "\n",
       "    .dataframe tbody tr th {\n",
       "        vertical-align: top;\n",
       "    }\n",
       "\n",
       "    .dataframe thead th {\n",
       "        text-align: right;\n",
       "    }\n",
       "</style>\n",
       "<table border=\"1\" class=\"dataframe\">\n",
       "  <thead>\n",
       "    <tr style=\"text-align: right;\">\n",
       "      <th></th>\n",
       "      <th>id</th>\n",
       "      <th>call_date</th>\n",
       "      <th>duration</th>\n",
       "      <th>user_id</th>\n",
       "      <th>month</th>\n",
       "    </tr>\n",
       "  </thead>\n",
       "  <tbody>\n",
       "    <tr>\n",
       "      <td>2</td>\n",
       "      <td>1000_2</td>\n",
       "      <td>2018-06-11</td>\n",
       "      <td>3.0</td>\n",
       "      <td>1000</td>\n",
       "      <td>6</td>\n",
       "    </tr>\n",
       "    <tr>\n",
       "      <td>3</td>\n",
       "      <td>1000_3</td>\n",
       "      <td>2018-09-21</td>\n",
       "      <td>14.0</td>\n",
       "      <td>1000</td>\n",
       "      <td>9</td>\n",
       "    </tr>\n",
       "    <tr>\n",
       "      <td>4</td>\n",
       "      <td>1000_4</td>\n",
       "      <td>2018-12-15</td>\n",
       "      <td>6.0</td>\n",
       "      <td>1000</td>\n",
       "      <td>12</td>\n",
       "    </tr>\n",
       "    <tr>\n",
       "      <td>7</td>\n",
       "      <td>1000_7</td>\n",
       "      <td>2018-08-22</td>\n",
       "      <td>19.0</td>\n",
       "      <td>1000</td>\n",
       "      <td>8</td>\n",
       "    </tr>\n",
       "    <tr>\n",
       "      <td>8</td>\n",
       "      <td>1000_8</td>\n",
       "      <td>2018-09-15</td>\n",
       "      <td>19.0</td>\n",
       "      <td>1000</td>\n",
       "      <td>9</td>\n",
       "    </tr>\n",
       "  </tbody>\n",
       "</table>\n",
       "</div>"
      ],
      "text/plain": [
       "       id  call_date  duration  user_id  month\n",
       "2  1000_2 2018-06-11       3.0     1000      6\n",
       "3  1000_3 2018-09-21      14.0     1000      9\n",
       "4  1000_4 2018-12-15       6.0     1000     12\n",
       "7  1000_7 2018-08-22      19.0     1000      8\n",
       "8  1000_8 2018-09-15      19.0     1000      9"
      ]
     },
     "execution_count": 28,
     "metadata": {},
     "output_type": "execute_result"
    }
   ],
   "source": [
    "calls.head()"
   ]
  },
  {
   "cell_type": "code",
   "execution_count": 29,
   "metadata": {},
   "outputs": [
    {
     "data": {
      "text/html": [
       "<div>\n",
       "<style scoped>\n",
       "    .dataframe tbody tr th:only-of-type {\n",
       "        vertical-align: middle;\n",
       "    }\n",
       "\n",
       "    .dataframe tbody tr th {\n",
       "        vertical-align: top;\n",
       "    }\n",
       "\n",
       "    .dataframe thead th {\n",
       "        text-align: right;\n",
       "    }\n",
       "</style>\n",
       "<table border=\"1\" class=\"dataframe\">\n",
       "  <thead>\n",
       "    <tr style=\"text-align: right;\">\n",
       "      <th></th>\n",
       "      <th>id</th>\n",
       "      <th>message_date</th>\n",
       "      <th>user_id</th>\n",
       "      <th>month</th>\n",
       "    </tr>\n",
       "  </thead>\n",
       "  <tbody>\n",
       "    <tr>\n",
       "      <td>0</td>\n",
       "      <td>1000_0</td>\n",
       "      <td>2018-06-27</td>\n",
       "      <td>1000</td>\n",
       "      <td>6</td>\n",
       "    </tr>\n",
       "    <tr>\n",
       "      <td>1</td>\n",
       "      <td>1000_1</td>\n",
       "      <td>2018-10-08</td>\n",
       "      <td>1000</td>\n",
       "      <td>10</td>\n",
       "    </tr>\n",
       "    <tr>\n",
       "      <td>2</td>\n",
       "      <td>1000_2</td>\n",
       "      <td>2018-08-04</td>\n",
       "      <td>1000</td>\n",
       "      <td>8</td>\n",
       "    </tr>\n",
       "    <tr>\n",
       "      <td>3</td>\n",
       "      <td>1000_3</td>\n",
       "      <td>2018-06-16</td>\n",
       "      <td>1000</td>\n",
       "      <td>6</td>\n",
       "    </tr>\n",
       "    <tr>\n",
       "      <td>4</td>\n",
       "      <td>1000_4</td>\n",
       "      <td>2018-12-05</td>\n",
       "      <td>1000</td>\n",
       "      <td>12</td>\n",
       "    </tr>\n",
       "  </tbody>\n",
       "</table>\n",
       "</div>"
      ],
      "text/plain": [
       "       id message_date  user_id  month\n",
       "0  1000_0   2018-06-27     1000      6\n",
       "1  1000_1   2018-10-08     1000     10\n",
       "2  1000_2   2018-08-04     1000      8\n",
       "3  1000_3   2018-06-16     1000      6\n",
       "4  1000_4   2018-12-05     1000     12"
      ]
     },
     "execution_count": 29,
     "metadata": {},
     "output_type": "execute_result"
    }
   ],
   "source": [
    "messages.head()"
   ]
  },
  {
   "cell_type": "code",
   "execution_count": 30,
   "metadata": {},
   "outputs": [
    {
     "data": {
      "text/html": [
       "<div>\n",
       "<style scoped>\n",
       "    .dataframe tbody tr th:only-of-type {\n",
       "        vertical-align: middle;\n",
       "    }\n",
       "\n",
       "    .dataframe tbody tr th {\n",
       "        vertical-align: top;\n",
       "    }\n",
       "\n",
       "    .dataframe thead th {\n",
       "        text-align: right;\n",
       "    }\n",
       "</style>\n",
       "<table border=\"1\" class=\"dataframe\">\n",
       "  <thead>\n",
       "    <tr style=\"text-align: right;\">\n",
       "      <th></th>\n",
       "      <th>Unnamed: 0</th>\n",
       "      <th>id</th>\n",
       "      <th>mb_used</th>\n",
       "      <th>session_date</th>\n",
       "      <th>user_id</th>\n",
       "      <th>month</th>\n",
       "    </tr>\n",
       "  </thead>\n",
       "  <tbody>\n",
       "    <tr>\n",
       "      <td>0</td>\n",
       "      <td>0</td>\n",
       "      <td>1000_0</td>\n",
       "      <td>113.0</td>\n",
       "      <td>2018-11-25</td>\n",
       "      <td>1000</td>\n",
       "      <td>11</td>\n",
       "    </tr>\n",
       "    <tr>\n",
       "      <td>1</td>\n",
       "      <td>1</td>\n",
       "      <td>1000_1</td>\n",
       "      <td>1053.0</td>\n",
       "      <td>2018-09-07</td>\n",
       "      <td>1000</td>\n",
       "      <td>9</td>\n",
       "    </tr>\n",
       "    <tr>\n",
       "      <td>2</td>\n",
       "      <td>2</td>\n",
       "      <td>1000_2</td>\n",
       "      <td>1197.0</td>\n",
       "      <td>2018-06-25</td>\n",
       "      <td>1000</td>\n",
       "      <td>6</td>\n",
       "    </tr>\n",
       "    <tr>\n",
       "      <td>3</td>\n",
       "      <td>3</td>\n",
       "      <td>1000_3</td>\n",
       "      <td>550.0</td>\n",
       "      <td>2018-08-22</td>\n",
       "      <td>1000</td>\n",
       "      <td>8</td>\n",
       "    </tr>\n",
       "    <tr>\n",
       "      <td>4</td>\n",
       "      <td>4</td>\n",
       "      <td>1000_4</td>\n",
       "      <td>303.0</td>\n",
       "      <td>2018-09-24</td>\n",
       "      <td>1000</td>\n",
       "      <td>9</td>\n",
       "    </tr>\n",
       "  </tbody>\n",
       "</table>\n",
       "</div>"
      ],
      "text/plain": [
       "   Unnamed: 0      id  mb_used session_date  user_id  month\n",
       "0           0  1000_0    113.0   2018-11-25     1000     11\n",
       "1           1  1000_1   1053.0   2018-09-07     1000      9\n",
       "2           2  1000_2   1197.0   2018-06-25     1000      6\n",
       "3           3  1000_3    550.0   2018-08-22     1000      8\n",
       "4           4  1000_4    303.0   2018-09-24     1000      9"
      ]
     },
     "execution_count": 30,
     "metadata": {},
     "output_type": "execute_result"
    }
   ],
   "source": [
    "internet.head()"
   ]
  },
  {
   "cell_type": "markdown",
   "metadata": {},
   "source": [
    "Посчитаем для каждого пользователя:\n",
    "\n",
    "количество сделанных звонков и израсходованных минут разговора по месяцам;\n",
    "количество отправленных сообщений по месяцам;\n",
    "объем израсходованного интернет-трафика по месяцам;\n",
    "помесячную выручку с каждого пользователя (вычтите бесплатный лимит из суммарного количества звонков, сообщений и интернет-трафика; остаток умножьте на значение из тарифного плана; прибавьте абонентскую плату, соответствующую тарифному плану)."
   ]
  },
  {
   "cell_type": "markdown",
   "metadata": {},
   "source": [
    "Создадим общую переменную df_event, содержащую информацию по основным параметрам, путём конкатенации."
   ]
  },
  {
   "cell_type": "code",
   "execution_count": 31,
   "metadata": {},
   "outputs": [
    {
     "data": {
      "text/html": [
       "<div>\n",
       "<style scoped>\n",
       "    .dataframe tbody tr th:only-of-type {\n",
       "        vertical-align: middle;\n",
       "    }\n",
       "\n",
       "    .dataframe tbody tr th {\n",
       "        vertical-align: top;\n",
       "    }\n",
       "\n",
       "    .dataframe thead th {\n",
       "        text-align: right;\n",
       "    }\n",
       "</style>\n",
       "<table border=\"1\" class=\"dataframe\">\n",
       "  <thead>\n",
       "    <tr style=\"text-align: right;\">\n",
       "      <th></th>\n",
       "      <th>user_id</th>\n",
       "      <th>month</th>\n",
       "      <th>count</th>\n",
       "      <th>sum</th>\n",
       "      <th>id</th>\n",
       "      <th>mb_used</th>\n",
       "    </tr>\n",
       "  </thead>\n",
       "  <tbody>\n",
       "    <tr>\n",
       "      <td>0</td>\n",
       "      <td>1000</td>\n",
       "      <td>5</td>\n",
       "      <td>17.0</td>\n",
       "      <td>159.0</td>\n",
       "      <td>22.0</td>\n",
       "      <td>2253.0</td>\n",
       "    </tr>\n",
       "    <tr>\n",
       "      <td>1</td>\n",
       "      <td>1000</td>\n",
       "      <td>6</td>\n",
       "      <td>28.0</td>\n",
       "      <td>172.0</td>\n",
       "      <td>60.0</td>\n",
       "      <td>23232.0</td>\n",
       "    </tr>\n",
       "    <tr>\n",
       "      <td>2</td>\n",
       "      <td>1000</td>\n",
       "      <td>7</td>\n",
       "      <td>41.0</td>\n",
       "      <td>340.0</td>\n",
       "      <td>75.0</td>\n",
       "      <td>14004.0</td>\n",
       "    </tr>\n",
       "    <tr>\n",
       "      <td>3</td>\n",
       "      <td>1000</td>\n",
       "      <td>8</td>\n",
       "      <td>42.0</td>\n",
       "      <td>408.0</td>\n",
       "      <td>81.0</td>\n",
       "      <td>14054.0</td>\n",
       "    </tr>\n",
       "    <tr>\n",
       "      <td>4</td>\n",
       "      <td>1000</td>\n",
       "      <td>9</td>\n",
       "      <td>46.0</td>\n",
       "      <td>466.0</td>\n",
       "      <td>57.0</td>\n",
       "      <td>14569.0</td>\n",
       "    </tr>\n",
       "  </tbody>\n",
       "</table>\n",
       "</div>"
      ],
      "text/plain": [
       "   user_id  month  count    sum    id  mb_used\n",
       "0     1000      5   17.0  159.0  22.0   2253.0\n",
       "1     1000      6   28.0  172.0  60.0  23232.0\n",
       "2     1000      7   41.0  340.0  75.0  14004.0\n",
       "3     1000      8   42.0  408.0  81.0  14054.0\n",
       "4     1000      9   46.0  466.0  57.0  14569.0"
      ]
     },
     "execution_count": 31,
     "metadata": {},
     "output_type": "execute_result"
    }
   ],
   "source": [
    "num_of_calls = calls.groupby(['user_id', 'month'])['duration'].agg(['count', 'sum'])\n",
    "num_of_messages = messages.groupby(['user_id', 'month'])['id'].count()\n",
    "num_of_internet = internet.groupby(['user_id', 'month']).sum()['mb_used']\n",
    "df_event = pd.concat([num_of_calls, num_of_messages, num_of_internet], axis=1)\n",
    "df_event = df_event.reset_index()\n",
    "df_event.head()"
   ]
  },
  {
   "cell_type": "markdown",
   "metadata": {},
   "source": [
    "Добавим тариф и город."
   ]
  },
  {
   "cell_type": "code",
   "execution_count": 32,
   "metadata": {},
   "outputs": [],
   "source": [
    "#map_to_fill_tariff = dict(pd.Series(users['tariff'].values, index=users['user_id']))\n",
    "#df_event['Tariff'] = df_event['user_id'].map(map_to_fill_tariff)\n",
    "#map_to_fill_city = dict(pd.Series(users['city'].values, index=users['user_id']))\n",
    "#df_event['City'] = df_event['user_id'].map(map_to_fill_city)\n",
    "\n",
    "df_event = pd.merge(df_event, users[['user_id', 'tariff', 'city']])"
   ]
  },
  {
   "cell_type": "code",
   "execution_count": 33,
   "metadata": {},
   "outputs": [
    {
     "data": {
      "text/html": [
       "<div>\n",
       "<style scoped>\n",
       "    .dataframe tbody tr th:only-of-type {\n",
       "        vertical-align: middle;\n",
       "    }\n",
       "\n",
       "    .dataframe tbody tr th {\n",
       "        vertical-align: top;\n",
       "    }\n",
       "\n",
       "    .dataframe thead th {\n",
       "        text-align: right;\n",
       "    }\n",
       "</style>\n",
       "<table border=\"1\" class=\"dataframe\">\n",
       "  <thead>\n",
       "    <tr style=\"text-align: right;\">\n",
       "      <th></th>\n",
       "      <th>user_id</th>\n",
       "      <th>month</th>\n",
       "      <th>count</th>\n",
       "      <th>sum</th>\n",
       "      <th>id</th>\n",
       "      <th>mb_used</th>\n",
       "      <th>tariff</th>\n",
       "      <th>city</th>\n",
       "    </tr>\n",
       "  </thead>\n",
       "  <tbody>\n",
       "    <tr>\n",
       "      <td>0</td>\n",
       "      <td>1000</td>\n",
       "      <td>5</td>\n",
       "      <td>17.0</td>\n",
       "      <td>159.0</td>\n",
       "      <td>22.0</td>\n",
       "      <td>2253.0</td>\n",
       "      <td>ultra</td>\n",
       "      <td>Краснодар</td>\n",
       "    </tr>\n",
       "    <tr>\n",
       "      <td>1</td>\n",
       "      <td>1000</td>\n",
       "      <td>6</td>\n",
       "      <td>28.0</td>\n",
       "      <td>172.0</td>\n",
       "      <td>60.0</td>\n",
       "      <td>23232.0</td>\n",
       "      <td>ultra</td>\n",
       "      <td>Краснодар</td>\n",
       "    </tr>\n",
       "    <tr>\n",
       "      <td>2</td>\n",
       "      <td>1000</td>\n",
       "      <td>7</td>\n",
       "      <td>41.0</td>\n",
       "      <td>340.0</td>\n",
       "      <td>75.0</td>\n",
       "      <td>14004.0</td>\n",
       "      <td>ultra</td>\n",
       "      <td>Краснодар</td>\n",
       "    </tr>\n",
       "    <tr>\n",
       "      <td>3</td>\n",
       "      <td>1000</td>\n",
       "      <td>8</td>\n",
       "      <td>42.0</td>\n",
       "      <td>408.0</td>\n",
       "      <td>81.0</td>\n",
       "      <td>14054.0</td>\n",
       "      <td>ultra</td>\n",
       "      <td>Краснодар</td>\n",
       "    </tr>\n",
       "    <tr>\n",
       "      <td>4</td>\n",
       "      <td>1000</td>\n",
       "      <td>9</td>\n",
       "      <td>46.0</td>\n",
       "      <td>466.0</td>\n",
       "      <td>57.0</td>\n",
       "      <td>14569.0</td>\n",
       "      <td>ultra</td>\n",
       "      <td>Краснодар</td>\n",
       "    </tr>\n",
       "    <tr>\n",
       "      <td>...</td>\n",
       "      <td>...</td>\n",
       "      <td>...</td>\n",
       "      <td>...</td>\n",
       "      <td>...</td>\n",
       "      <td>...</td>\n",
       "      <td>...</td>\n",
       "      <td>...</td>\n",
       "      <td>...</td>\n",
       "    </tr>\n",
       "    <tr>\n",
       "      <td>3209</td>\n",
       "      <td>1498</td>\n",
       "      <td>10</td>\n",
       "      <td>30.0</td>\n",
       "      <td>247.0</td>\n",
       "      <td>42.0</td>\n",
       "      <td>20581.0</td>\n",
       "      <td>smart</td>\n",
       "      <td>Владикавказ</td>\n",
       "    </tr>\n",
       "    <tr>\n",
       "      <td>3210</td>\n",
       "      <td>1499</td>\n",
       "      <td>9</td>\n",
       "      <td>8.0</td>\n",
       "      <td>70.0</td>\n",
       "      <td>11.0</td>\n",
       "      <td>1846.0</td>\n",
       "      <td>smart</td>\n",
       "      <td>Пермь</td>\n",
       "    </tr>\n",
       "    <tr>\n",
       "      <td>3211</td>\n",
       "      <td>1499</td>\n",
       "      <td>10</td>\n",
       "      <td>44.0</td>\n",
       "      <td>449.0</td>\n",
       "      <td>48.0</td>\n",
       "      <td>17792.0</td>\n",
       "      <td>smart</td>\n",
       "      <td>Пермь</td>\n",
       "    </tr>\n",
       "    <tr>\n",
       "      <td>3212</td>\n",
       "      <td>1499</td>\n",
       "      <td>11</td>\n",
       "      <td>62.0</td>\n",
       "      <td>612.0</td>\n",
       "      <td>59.0</td>\n",
       "      <td>17963.0</td>\n",
       "      <td>smart</td>\n",
       "      <td>Пермь</td>\n",
       "    </tr>\n",
       "    <tr>\n",
       "      <td>3213</td>\n",
       "      <td>1499</td>\n",
       "      <td>12</td>\n",
       "      <td>56.0</td>\n",
       "      <td>492.0</td>\n",
       "      <td>66.0</td>\n",
       "      <td>13055.0</td>\n",
       "      <td>smart</td>\n",
       "      <td>Пермь</td>\n",
       "    </tr>\n",
       "  </tbody>\n",
       "</table>\n",
       "<p>3214 rows × 8 columns</p>\n",
       "</div>"
      ],
      "text/plain": [
       "      user_id  month  count    sum    id  mb_used tariff         city\n",
       "0        1000      5   17.0  159.0  22.0   2253.0  ultra    Краснодар\n",
       "1        1000      6   28.0  172.0  60.0  23232.0  ultra    Краснодар\n",
       "2        1000      7   41.0  340.0  75.0  14004.0  ultra    Краснодар\n",
       "3        1000      8   42.0  408.0  81.0  14054.0  ultra    Краснодар\n",
       "4        1000      9   46.0  466.0  57.0  14569.0  ultra    Краснодар\n",
       "...       ...    ...    ...    ...   ...      ...    ...          ...\n",
       "3209     1498     10   30.0  247.0  42.0  20581.0  smart  Владикавказ\n",
       "3210     1499      9    8.0   70.0  11.0   1846.0  smart        Пермь\n",
       "3211     1499     10   44.0  449.0  48.0  17792.0  smart        Пермь\n",
       "3212     1499     11   62.0  612.0  59.0  17963.0  smart        Пермь\n",
       "3213     1499     12   56.0  492.0  66.0  13055.0  smart        Пермь\n",
       "\n",
       "[3214 rows x 8 columns]"
      ]
     },
     "execution_count": 33,
     "metadata": {},
     "output_type": "execute_result"
    }
   ],
   "source": [
    "df_event"
   ]
  },
  {
   "cell_type": "markdown",
   "metadata": {},
   "source": [
    "<div class=\"alert alert-danger\">\n",
    "    \n",
    "<b> Комментарий от ревьюера</b>\n",
    "    \n",
    "Давай немного попрактикуемся в объединении таблиц и с помощью метода merge объединим df_event и users[['user_id', 'tariff', 'city']]. Тебе еще не раз придется сталкиваться с объединением таблиц, поэтому важно научиться это делать\n",
    "</div>"
   ]
  },
  {
   "cell_type": "markdown",
   "metadata": {},
   "source": [
    "<div class=\"alert alert-info\">\n",
    "    \n",
    "Сделано.\n",
    "</div>"
   ]
  },
  {
   "cell_type": "markdown",
   "metadata": {},
   "source": [
    "\n",
    "<div class=\"alert alert-success\">\n",
    "    \n",
    "<b> Комментарий от ревьюера 2</b>\n",
    "\n",
    "👍\n",
    "\n",
    "</div>\n"
   ]
  },
  {
   "cell_type": "markdown",
   "metadata": {},
   "source": [
    "Для удобства переименуем столбцы."
   ]
  },
  {
   "cell_type": "code",
   "execution_count": 34,
   "metadata": {},
   "outputs": [],
   "source": [
    "df_event.columns = ['Num_user', 'Month', 'Number_of_calls', 'Calls_min', \n",
    "                            'Sms_num', 'Internet_mb', 'Tariff', 'City']"
   ]
  },
  {
   "cell_type": "markdown",
   "metadata": {},
   "source": [
    "<div class=\"alert alert-danger\">\n",
    "    \n",
    "<b> Комментарий от ревьюера</b>\n",
    "\n",
    "Неужели тебе удобно переключать раскладку на рус., когда обращаешься к названиям признаков? Уверен, используя названия на английском, тебе будет намного удобнее писать код (если не сейчас, то в будущем).\n",
    "\n",
    "Когда ты делал самый первый проект про музыкальные предпочтения жителей МСК и СПБ, поднимался вопрос правильных названий признаков (вероятно еще где-то в тренажере поднимался).\n",
    "    \n",
    "Цитата из того проекта:  \n",
    "    \n",
    "    В названиях колонок видны три нарушения стиля:\n",
    "        1. Строчные буквы сочетаются с прописными.\n",
    "        2. Встречаются пробелы.\n",
    "        3. Несоблюдение snake_case / отсутствие нижних подчёркиваний\n",
    "\n",
    "Ты тут смог допустить все три нарушения. Давай изменим названия признаков на корректные.\n",
    "    \n",
    "</div>"
   ]
  },
  {
   "cell_type": "markdown",
   "metadata": {},
   "source": [
    "<div class=\"alert alert-info\">\n",
    "    \n",
    "Это очень нехорошо, теперь я понимаю. Исправлено.\n",
    "</div>"
   ]
  },
  {
   "cell_type": "markdown",
   "metadata": {},
   "source": [
    "<div class=\"alert alert-warning\">\n",
    "    \n",
    "<b> Комментарий от ревьюера 2</b>\n",
    "    \n",
    "Молодец, что поправил, но лучше не использовать прописные буквы в названиях признаков\n",
    "</div>"
   ]
  },
  {
   "cell_type": "code",
   "execution_count": 35,
   "metadata": {
    "scrolled": true
   },
   "outputs": [
    {
     "data": {
      "text/html": [
       "<div>\n",
       "<style scoped>\n",
       "    .dataframe tbody tr th:only-of-type {\n",
       "        vertical-align: middle;\n",
       "    }\n",
       "\n",
       "    .dataframe tbody tr th {\n",
       "        vertical-align: top;\n",
       "    }\n",
       "\n",
       "    .dataframe thead th {\n",
       "        text-align: right;\n",
       "    }\n",
       "</style>\n",
       "<table border=\"1\" class=\"dataframe\">\n",
       "  <thead>\n",
       "    <tr style=\"text-align: right;\">\n",
       "      <th></th>\n",
       "      <th>Num_user</th>\n",
       "      <th>Month</th>\n",
       "      <th>Number_of_calls</th>\n",
       "      <th>Calls_min</th>\n",
       "      <th>Sms_num</th>\n",
       "      <th>Internet_mb</th>\n",
       "      <th>Tariff</th>\n",
       "      <th>City</th>\n",
       "    </tr>\n",
       "  </thead>\n",
       "  <tbody>\n",
       "    <tr>\n",
       "      <td>0</td>\n",
       "      <td>1000</td>\n",
       "      <td>5</td>\n",
       "      <td>17.0</td>\n",
       "      <td>159.0</td>\n",
       "      <td>22.0</td>\n",
       "      <td>2253.0</td>\n",
       "      <td>ultra</td>\n",
       "      <td>Краснодар</td>\n",
       "    </tr>\n",
       "    <tr>\n",
       "      <td>1</td>\n",
       "      <td>1000</td>\n",
       "      <td>6</td>\n",
       "      <td>28.0</td>\n",
       "      <td>172.0</td>\n",
       "      <td>60.0</td>\n",
       "      <td>23232.0</td>\n",
       "      <td>ultra</td>\n",
       "      <td>Краснодар</td>\n",
       "    </tr>\n",
       "    <tr>\n",
       "      <td>2</td>\n",
       "      <td>1000</td>\n",
       "      <td>7</td>\n",
       "      <td>41.0</td>\n",
       "      <td>340.0</td>\n",
       "      <td>75.0</td>\n",
       "      <td>14004.0</td>\n",
       "      <td>ultra</td>\n",
       "      <td>Краснодар</td>\n",
       "    </tr>\n",
       "    <tr>\n",
       "      <td>3</td>\n",
       "      <td>1000</td>\n",
       "      <td>8</td>\n",
       "      <td>42.0</td>\n",
       "      <td>408.0</td>\n",
       "      <td>81.0</td>\n",
       "      <td>14054.0</td>\n",
       "      <td>ultra</td>\n",
       "      <td>Краснодар</td>\n",
       "    </tr>\n",
       "    <tr>\n",
       "      <td>4</td>\n",
       "      <td>1000</td>\n",
       "      <td>9</td>\n",
       "      <td>46.0</td>\n",
       "      <td>466.0</td>\n",
       "      <td>57.0</td>\n",
       "      <td>14569.0</td>\n",
       "      <td>ultra</td>\n",
       "      <td>Краснодар</td>\n",
       "    </tr>\n",
       "    <tr>\n",
       "      <td>5</td>\n",
       "      <td>1000</td>\n",
       "      <td>10</td>\n",
       "      <td>44.0</td>\n",
       "      <td>350.0</td>\n",
       "      <td>73.0</td>\n",
       "      <td>14701.0</td>\n",
       "      <td>ultra</td>\n",
       "      <td>Краснодар</td>\n",
       "    </tr>\n",
       "    <tr>\n",
       "      <td>6</td>\n",
       "      <td>1000</td>\n",
       "      <td>11</td>\n",
       "      <td>37.0</td>\n",
       "      <td>338.0</td>\n",
       "      <td>58.0</td>\n",
       "      <td>14756.0</td>\n",
       "      <td>ultra</td>\n",
       "      <td>Краснодар</td>\n",
       "    </tr>\n",
       "    <tr>\n",
       "      <td>7</td>\n",
       "      <td>1000</td>\n",
       "      <td>12</td>\n",
       "      <td>38.0</td>\n",
       "      <td>333.0</td>\n",
       "      <td>70.0</td>\n",
       "      <td>9818.0</td>\n",
       "      <td>ultra</td>\n",
       "      <td>Краснодар</td>\n",
       "    </tr>\n",
       "    <tr>\n",
       "      <td>8</td>\n",
       "      <td>1001</td>\n",
       "      <td>11</td>\n",
       "      <td>45.0</td>\n",
       "      <td>430.0</td>\n",
       "      <td>NaN</td>\n",
       "      <td>18428.0</td>\n",
       "      <td>smart</td>\n",
       "      <td>Москва</td>\n",
       "    </tr>\n",
       "    <tr>\n",
       "      <td>9</td>\n",
       "      <td>1001</td>\n",
       "      <td>12</td>\n",
       "      <td>47.0</td>\n",
       "      <td>414.0</td>\n",
       "      <td>NaN</td>\n",
       "      <td>14040.0</td>\n",
       "      <td>smart</td>\n",
       "      <td>Москва</td>\n",
       "    </tr>\n",
       "  </tbody>\n",
       "</table>\n",
       "</div>"
      ],
      "text/plain": [
       "   Num_user  Month  Number_of_calls  Calls_min  Sms_num  Internet_mb Tariff  \\\n",
       "0      1000      5             17.0      159.0     22.0       2253.0  ultra   \n",
       "1      1000      6             28.0      172.0     60.0      23232.0  ultra   \n",
       "2      1000      7             41.0      340.0     75.0      14004.0  ultra   \n",
       "3      1000      8             42.0      408.0     81.0      14054.0  ultra   \n",
       "4      1000      9             46.0      466.0     57.0      14569.0  ultra   \n",
       "5      1000     10             44.0      350.0     73.0      14701.0  ultra   \n",
       "6      1000     11             37.0      338.0     58.0      14756.0  ultra   \n",
       "7      1000     12             38.0      333.0     70.0       9818.0  ultra   \n",
       "8      1001     11             45.0      430.0      NaN      18428.0  smart   \n",
       "9      1001     12             47.0      414.0      NaN      14040.0  smart   \n",
       "\n",
       "        City  \n",
       "0  Краснодар  \n",
       "1  Краснодар  \n",
       "2  Краснодар  \n",
       "3  Краснодар  \n",
       "4  Краснодар  \n",
       "5  Краснодар  \n",
       "6  Краснодар  \n",
       "7  Краснодар  \n",
       "8     Москва  \n",
       "9     Москва  "
      ]
     },
     "execution_count": 35,
     "metadata": {},
     "output_type": "execute_result"
    }
   ],
   "source": [
    "df_event.sort_values(by=['Num_user', 'Month']).head(10)"
   ]
  },
  {
   "cell_type": "markdown",
   "metadata": {},
   "source": [
    "Отличная сводная таблица, посмотрим на неё издалека."
   ]
  },
  {
   "cell_type": "code",
   "execution_count": 36,
   "metadata": {
    "scrolled": true
   },
   "outputs": [
    {
     "name": "stdout",
     "output_type": "stream",
     "text": [
      "<class 'pandas.core.frame.DataFrame'>\n",
      "Int64Index: 3214 entries, 0 to 3213\n",
      "Data columns (total 8 columns):\n",
      "Num_user           3214 non-null int64\n",
      "Month              3214 non-null int64\n",
      "Number_of_calls    3168 non-null float64\n",
      "Calls_min          3168 non-null float64\n",
      "Sms_num            2717 non-null float64\n",
      "Internet_mb        3201 non-null float64\n",
      "Tariff             3214 non-null object\n",
      "City               3214 non-null object\n",
      "dtypes: float64(4), int64(2), object(2)\n",
      "memory usage: 226.0+ KB\n"
     ]
    }
   ],
   "source": [
    "df_event.info()"
   ]
  },
  {
   "cell_type": "markdown",
   "metadata": {},
   "source": [
    "И на пропущенные мегабайты."
   ]
  },
  {
   "cell_type": "code",
   "execution_count": 37,
   "metadata": {},
   "outputs": [
    {
     "data": {
      "text/html": [
       "<div>\n",
       "<style scoped>\n",
       "    .dataframe tbody tr th:only-of-type {\n",
       "        vertical-align: middle;\n",
       "    }\n",
       "\n",
       "    .dataframe tbody tr th {\n",
       "        vertical-align: top;\n",
       "    }\n",
       "\n",
       "    .dataframe thead th {\n",
       "        text-align: right;\n",
       "    }\n",
       "</style>\n",
       "<table border=\"1\" class=\"dataframe\">\n",
       "  <thead>\n",
       "    <tr style=\"text-align: right;\">\n",
       "      <th></th>\n",
       "      <th>Num_user</th>\n",
       "      <th>Month</th>\n",
       "      <th>Number_of_calls</th>\n",
       "      <th>Calls_min</th>\n",
       "      <th>Sms_num</th>\n",
       "      <th>Internet_mb</th>\n",
       "      <th>Tariff</th>\n",
       "      <th>City</th>\n",
       "    </tr>\n",
       "  </thead>\n",
       "  <tbody>\n",
       "    <tr>\n",
       "      <td>592</td>\n",
       "      <td>1094</td>\n",
       "      <td>5</td>\n",
       "      <td>12.0</td>\n",
       "      <td>107.0</td>\n",
       "      <td>3.0</td>\n",
       "      <td>NaN</td>\n",
       "      <td>ultra</td>\n",
       "      <td>Новосибирск</td>\n",
       "    </tr>\n",
       "    <tr>\n",
       "      <td>1722</td>\n",
       "      <td>1273</td>\n",
       "      <td>5</td>\n",
       "      <td>19.0</td>\n",
       "      <td>220.0</td>\n",
       "      <td>21.0</td>\n",
       "      <td>NaN</td>\n",
       "      <td>ultra</td>\n",
       "      <td>Курган</td>\n",
       "    </tr>\n",
       "    <tr>\n",
       "      <td>1723</td>\n",
       "      <td>1273</td>\n",
       "      <td>6</td>\n",
       "      <td>28.0</td>\n",
       "      <td>230.0</td>\n",
       "      <td>38.0</td>\n",
       "      <td>NaN</td>\n",
       "      <td>ultra</td>\n",
       "      <td>Курган</td>\n",
       "    </tr>\n",
       "    <tr>\n",
       "      <td>1724</td>\n",
       "      <td>1273</td>\n",
       "      <td>7</td>\n",
       "      <td>30.0</td>\n",
       "      <td>253.0</td>\n",
       "      <td>37.0</td>\n",
       "      <td>NaN</td>\n",
       "      <td>ultra</td>\n",
       "      <td>Курган</td>\n",
       "    </tr>\n",
       "    <tr>\n",
       "      <td>1725</td>\n",
       "      <td>1273</td>\n",
       "      <td>8</td>\n",
       "      <td>39.0</td>\n",
       "      <td>253.0</td>\n",
       "      <td>41.0</td>\n",
       "      <td>NaN</td>\n",
       "      <td>ultra</td>\n",
       "      <td>Курган</td>\n",
       "    </tr>\n",
       "    <tr>\n",
       "      <td>1726</td>\n",
       "      <td>1273</td>\n",
       "      <td>9</td>\n",
       "      <td>28.0</td>\n",
       "      <td>223.0</td>\n",
       "      <td>32.0</td>\n",
       "      <td>NaN</td>\n",
       "      <td>ultra</td>\n",
       "      <td>Курган</td>\n",
       "    </tr>\n",
       "    <tr>\n",
       "      <td>1727</td>\n",
       "      <td>1273</td>\n",
       "      <td>10</td>\n",
       "      <td>35.0</td>\n",
       "      <td>315.0</td>\n",
       "      <td>35.0</td>\n",
       "      <td>NaN</td>\n",
       "      <td>ultra</td>\n",
       "      <td>Курган</td>\n",
       "    </tr>\n",
       "    <tr>\n",
       "      <td>1728</td>\n",
       "      <td>1273</td>\n",
       "      <td>11</td>\n",
       "      <td>31.0</td>\n",
       "      <td>272.0</td>\n",
       "      <td>29.0</td>\n",
       "      <td>NaN</td>\n",
       "      <td>ultra</td>\n",
       "      <td>Курган</td>\n",
       "    </tr>\n",
       "    <tr>\n",
       "      <td>1729</td>\n",
       "      <td>1273</td>\n",
       "      <td>12</td>\n",
       "      <td>38.0</td>\n",
       "      <td>260.0</td>\n",
       "      <td>39.0</td>\n",
       "      <td>NaN</td>\n",
       "      <td>ultra</td>\n",
       "      <td>Курган</td>\n",
       "    </tr>\n",
       "    <tr>\n",
       "      <td>2306</td>\n",
       "      <td>1365</td>\n",
       "      <td>10</td>\n",
       "      <td>5.0</td>\n",
       "      <td>43.0</td>\n",
       "      <td>1.0</td>\n",
       "      <td>NaN</td>\n",
       "      <td>smart</td>\n",
       "      <td>Ростов-на-Дону</td>\n",
       "    </tr>\n",
       "    <tr>\n",
       "      <td>2387</td>\n",
       "      <td>1377</td>\n",
       "      <td>2</td>\n",
       "      <td>20.0</td>\n",
       "      <td>179.0</td>\n",
       "      <td>2.0</td>\n",
       "      <td>NaN</td>\n",
       "      <td>ultra</td>\n",
       "      <td>Брянск</td>\n",
       "    </tr>\n",
       "    <tr>\n",
       "      <td>2500</td>\n",
       "      <td>1392</td>\n",
       "      <td>2</td>\n",
       "      <td>2.0</td>\n",
       "      <td>13.0</td>\n",
       "      <td>3.0</td>\n",
       "      <td>NaN</td>\n",
       "      <td>ultra</td>\n",
       "      <td>Челябинск</td>\n",
       "    </tr>\n",
       "    <tr>\n",
       "      <td>2858</td>\n",
       "      <td>1446</td>\n",
       "      <td>8</td>\n",
       "      <td>4.0</td>\n",
       "      <td>50.0</td>\n",
       "      <td>1.0</td>\n",
       "      <td>NaN</td>\n",
       "      <td>smart</td>\n",
       "      <td>Липецк</td>\n",
       "    </tr>\n",
       "  </tbody>\n",
       "</table>\n",
       "</div>"
      ],
      "text/plain": [
       "      Num_user  Month  Number_of_calls  Calls_min  Sms_num  Internet_mb  \\\n",
       "592       1094      5             12.0      107.0      3.0          NaN   \n",
       "1722      1273      5             19.0      220.0     21.0          NaN   \n",
       "1723      1273      6             28.0      230.0     38.0          NaN   \n",
       "1724      1273      7             30.0      253.0     37.0          NaN   \n",
       "1725      1273      8             39.0      253.0     41.0          NaN   \n",
       "1726      1273      9             28.0      223.0     32.0          NaN   \n",
       "1727      1273     10             35.0      315.0     35.0          NaN   \n",
       "1728      1273     11             31.0      272.0     29.0          NaN   \n",
       "1729      1273     12             38.0      260.0     39.0          NaN   \n",
       "2306      1365     10              5.0       43.0      1.0          NaN   \n",
       "2387      1377      2             20.0      179.0      2.0          NaN   \n",
       "2500      1392      2              2.0       13.0      3.0          NaN   \n",
       "2858      1446      8              4.0       50.0      1.0          NaN   \n",
       "\n",
       "     Tariff            City  \n",
       "592   ultra     Новосибирск  \n",
       "1722  ultra          Курган  \n",
       "1723  ultra          Курган  \n",
       "1724  ultra          Курган  \n",
       "1725  ultra          Курган  \n",
       "1726  ultra          Курган  \n",
       "1727  ultra          Курган  \n",
       "1728  ultra          Курган  \n",
       "1729  ultra          Курган  \n",
       "2306  smart  Ростов-на-Дону  \n",
       "2387  ultra          Брянск  \n",
       "2500  ultra       Челябинск  \n",
       "2858  smart          Липецк  "
      ]
     },
     "execution_count": 37,
     "metadata": {},
     "output_type": "execute_result"
    }
   ],
   "source": [
    "df_event[df_event['Internet_mb'].isnull()]"
   ]
  },
  {
   "cell_type": "markdown",
   "metadata": {},
   "source": [
    "Мы видим, что пользователи активные - есть звонки, есть смс, но в данных о трафике - пропуски. Справедливо заполнить их нулями - вероятно, в связи с неиспользованием, значение таблицы осталось таким же, как при создании (NaN)."
   ]
  },
  {
   "cell_type": "markdown",
   "metadata": {},
   "source": [
    "\n",
    "<div class=\"alert alert-success\">\n",
    "    \n",
    "<b> Комментарий от ревьюера</b>\n",
    "    \n",
    "Ты прав, пропуски тут стоит заполнить нулями\n",
    "</div>"
   ]
  },
  {
   "cell_type": "code",
   "execution_count": 38,
   "metadata": {},
   "outputs": [
    {
     "name": "stdout",
     "output_type": "stream",
     "text": [
      "<class 'pandas.core.frame.DataFrame'>\n",
      "Int64Index: 3214 entries, 0 to 3213\n",
      "Data columns (total 8 columns):\n",
      "Num_user           3214 non-null int64\n",
      "Month              3214 non-null int64\n",
      "Number_of_calls    3214 non-null float64\n",
      "Calls_min          3214 non-null float64\n",
      "Sms_num            3214 non-null float64\n",
      "Internet_mb        3214 non-null float64\n",
      "Tariff             3214 non-null object\n",
      "City               3214 non-null object\n",
      "dtypes: float64(4), int64(2), object(2)\n",
      "memory usage: 226.0+ KB\n"
     ]
    }
   ],
   "source": [
    "df_event = df_event.fillna(0)\n",
    "df_event.info()"
   ]
  },
  {
   "cell_type": "markdown",
   "metadata": {},
   "source": [
    "Всё это хорошо, но надо двигаться дальше, ведь нас просят ещё и посчитать помесячную выручку с каждого пользователя. Тарифа у нас два,  и значения известны из справочника."
   ]
  },
  {
   "cell_type": "code",
   "execution_count": 39,
   "metadata": {},
   "outputs": [
    {
     "data": {
      "text/html": [
       "<div>\n",
       "<style scoped>\n",
       "    .dataframe tbody tr th:only-of-type {\n",
       "        vertical-align: middle;\n",
       "    }\n",
       "\n",
       "    .dataframe tbody tr th {\n",
       "        vertical-align: top;\n",
       "    }\n",
       "\n",
       "    .dataframe thead th {\n",
       "        text-align: right;\n",
       "    }\n",
       "</style>\n",
       "<table border=\"1\" class=\"dataframe\">\n",
       "  <thead>\n",
       "    <tr style=\"text-align: right;\">\n",
       "      <th></th>\n",
       "      <th>Num_user</th>\n",
       "      <th>Month</th>\n",
       "      <th>Number_of_calls</th>\n",
       "      <th>Calls_min</th>\n",
       "      <th>Sms_num</th>\n",
       "      <th>Internet_mb</th>\n",
       "      <th>Tariff</th>\n",
       "      <th>City</th>\n",
       "      <th>Abonent_rub</th>\n",
       "    </tr>\n",
       "  </thead>\n",
       "  <tbody>\n",
       "    <tr>\n",
       "      <td>0</td>\n",
       "      <td>1000</td>\n",
       "      <td>5</td>\n",
       "      <td>17.0</td>\n",
       "      <td>159.0</td>\n",
       "      <td>22.0</td>\n",
       "      <td>2253.0</td>\n",
       "      <td>ultra</td>\n",
       "      <td>Краснодар</td>\n",
       "      <td>1950</td>\n",
       "    </tr>\n",
       "    <tr>\n",
       "      <td>1</td>\n",
       "      <td>1000</td>\n",
       "      <td>6</td>\n",
       "      <td>28.0</td>\n",
       "      <td>172.0</td>\n",
       "      <td>60.0</td>\n",
       "      <td>23232.0</td>\n",
       "      <td>ultra</td>\n",
       "      <td>Краснодар</td>\n",
       "      <td>1950</td>\n",
       "    </tr>\n",
       "    <tr>\n",
       "      <td>2</td>\n",
       "      <td>1000</td>\n",
       "      <td>7</td>\n",
       "      <td>41.0</td>\n",
       "      <td>340.0</td>\n",
       "      <td>75.0</td>\n",
       "      <td>14004.0</td>\n",
       "      <td>ultra</td>\n",
       "      <td>Краснодар</td>\n",
       "      <td>1950</td>\n",
       "    </tr>\n",
       "    <tr>\n",
       "      <td>3</td>\n",
       "      <td>1000</td>\n",
       "      <td>8</td>\n",
       "      <td>42.0</td>\n",
       "      <td>408.0</td>\n",
       "      <td>81.0</td>\n",
       "      <td>14054.0</td>\n",
       "      <td>ultra</td>\n",
       "      <td>Краснодар</td>\n",
       "      <td>1950</td>\n",
       "    </tr>\n",
       "    <tr>\n",
       "      <td>4</td>\n",
       "      <td>1000</td>\n",
       "      <td>9</td>\n",
       "      <td>46.0</td>\n",
       "      <td>466.0</td>\n",
       "      <td>57.0</td>\n",
       "      <td>14569.0</td>\n",
       "      <td>ultra</td>\n",
       "      <td>Краснодар</td>\n",
       "      <td>1950</td>\n",
       "    </tr>\n",
       "    <tr>\n",
       "      <td>5</td>\n",
       "      <td>1000</td>\n",
       "      <td>10</td>\n",
       "      <td>44.0</td>\n",
       "      <td>350.0</td>\n",
       "      <td>73.0</td>\n",
       "      <td>14701.0</td>\n",
       "      <td>ultra</td>\n",
       "      <td>Краснодар</td>\n",
       "      <td>1950</td>\n",
       "    </tr>\n",
       "    <tr>\n",
       "      <td>6</td>\n",
       "      <td>1000</td>\n",
       "      <td>11</td>\n",
       "      <td>37.0</td>\n",
       "      <td>338.0</td>\n",
       "      <td>58.0</td>\n",
       "      <td>14756.0</td>\n",
       "      <td>ultra</td>\n",
       "      <td>Краснодар</td>\n",
       "      <td>1950</td>\n",
       "    </tr>\n",
       "    <tr>\n",
       "      <td>7</td>\n",
       "      <td>1000</td>\n",
       "      <td>12</td>\n",
       "      <td>38.0</td>\n",
       "      <td>333.0</td>\n",
       "      <td>70.0</td>\n",
       "      <td>9818.0</td>\n",
       "      <td>ultra</td>\n",
       "      <td>Краснодар</td>\n",
       "      <td>1950</td>\n",
       "    </tr>\n",
       "    <tr>\n",
       "      <td>8</td>\n",
       "      <td>1001</td>\n",
       "      <td>11</td>\n",
       "      <td>45.0</td>\n",
       "      <td>430.0</td>\n",
       "      <td>0.0</td>\n",
       "      <td>18428.0</td>\n",
       "      <td>smart</td>\n",
       "      <td>Москва</td>\n",
       "      <td>550</td>\n",
       "    </tr>\n",
       "    <tr>\n",
       "      <td>9</td>\n",
       "      <td>1001</td>\n",
       "      <td>12</td>\n",
       "      <td>47.0</td>\n",
       "      <td>414.0</td>\n",
       "      <td>0.0</td>\n",
       "      <td>14040.0</td>\n",
       "      <td>smart</td>\n",
       "      <td>Москва</td>\n",
       "      <td>550</td>\n",
       "    </tr>\n",
       "  </tbody>\n",
       "</table>\n",
       "</div>"
      ],
      "text/plain": [
       "   Num_user  Month  Number_of_calls  Calls_min  Sms_num  Internet_mb Tariff  \\\n",
       "0      1000      5             17.0      159.0     22.0       2253.0  ultra   \n",
       "1      1000      6             28.0      172.0     60.0      23232.0  ultra   \n",
       "2      1000      7             41.0      340.0     75.0      14004.0  ultra   \n",
       "3      1000      8             42.0      408.0     81.0      14054.0  ultra   \n",
       "4      1000      9             46.0      466.0     57.0      14569.0  ultra   \n",
       "5      1000     10             44.0      350.0     73.0      14701.0  ultra   \n",
       "6      1000     11             37.0      338.0     58.0      14756.0  ultra   \n",
       "7      1000     12             38.0      333.0     70.0       9818.0  ultra   \n",
       "8      1001     11             45.0      430.0      0.0      18428.0  smart   \n",
       "9      1001     12             47.0      414.0      0.0      14040.0  smart   \n",
       "\n",
       "        City  Abonent_rub  \n",
       "0  Краснодар         1950  \n",
       "1  Краснодар         1950  \n",
       "2  Краснодар         1950  \n",
       "3  Краснодар         1950  \n",
       "4  Краснодар         1950  \n",
       "5  Краснодар         1950  \n",
       "6  Краснодар         1950  \n",
       "7  Краснодар         1950  \n",
       "8     Москва          550  \n",
       "9     Москва          550  "
      ]
     },
     "execution_count": 39,
     "metadata": {},
     "output_type": "execute_result"
    }
   ],
   "source": [
    "month_price = {'smart': 550, 'ultra': 1950}\n",
    "df_event['Abonent_rub'] = df_event['Tariff'].map(month_price)\n",
    "df_event.head(10)"
   ]
  },
  {
   "cell_type": "markdown",
   "metadata": {},
   "source": [
    "Теперь напишем функцию, которая будет считать превышения."
   ]
  },
  {
   "cell_type": "code",
   "execution_count": 40,
   "metadata": {},
   "outputs": [],
   "source": [
    "def calls_over_plan(row):\n",
    "    if row['Tariff'] == 'smart':\n",
    "        result = row['Calls_min'] - 500\n",
    "        return np.where(result > 0, result, 0)\n",
    "    else:\n",
    "        result = row['Calls_min'] - 3000\n",
    "        return np.where(result > 0, result, 0)\n",
    "    \n",
    "    \n",
    "def sms_over_plan(row):\n",
    "    if row['Tariff'] == 'smart':\n",
    "        result = row['Sms_num'] - 50\n",
    "        return np.where(result > 0, result, 0)\n",
    "    else:\n",
    "        result =  row['Sms_num'] - 1000\n",
    "        return np.where(result > 0, result, 0)\n",
    "    \n",
    "\n",
    "def internet_over_plan(row):\n",
    "    if row['Tariff'] == 'smart':\n",
    "        result = row['Internet_mb'] - 15 * 1024\n",
    "        return np.where(result > 0, result, 0)\n",
    "    else:\n",
    "        result = row['Internet_mb'] - 30 * 1024\n",
    "        return np.where(result > 0, result, 0)\n",
    "    \n",
    "    \n",
    "def month_revenue(row):\n",
    "    sum_per_month = 0\n",
    "    if row['Tariff'] == 'smart':\n",
    "        sum_per_month += np.ceil(row['Minuts_up']) * 3\n",
    "        sum_per_month += row['Sms_up'] * 3\n",
    "        sum_per_month += np.ceil(row['Mb_up']/1024) * 200\n",
    "        return sum_per_month\n",
    "    \n",
    "    else:\n",
    "        sum_per_month += np.ceil(row['Minuts_up']) * 1\n",
    "        sum_per_month += row['Sms_up'] * 1\n",
    "        sum_per_month += np.ceil(row['Mb_up']/1024) * 150\n",
    "        return sum_per_month"
   ]
  },
  {
   "cell_type": "markdown",
   "metadata": {},
   "source": [
    "<div class=\"alert alert-warning\">\n",
    "    \n",
    "<b> Комментарий от ревьюера</b>\n",
    "    \n",
    "Абонентскую плату и лимиты лучше брать из таблицы tariffs, потому что иначе оператор может изменить условия тарифов, и тебе придется вносить правки вручную.\n",
    "</div>"
   ]
  },
  {
   "cell_type": "markdown",
   "metadata": {},
   "source": [
    "<div class=\"alert alert-info\">\n",
    "    \n",
    "Хорошо, учту.\n",
    "</div>"
   ]
  },
  {
   "cell_type": "markdown",
   "metadata": {},
   "source": [
    "Плюс нужно создать новые столбцы, где отражать результат функции."
   ]
  },
  {
   "cell_type": "code",
   "execution_count": 41,
   "metadata": {},
   "outputs": [],
   "source": [
    "df_event['Minuts_up'] = df_event.apply(calls_over_plan, axis=1)\n",
    "df_event['Sms_up'] = df_event.apply(sms_over_plan, axis=1)\n",
    "df_event['Mb_up'] = df_event.apply(internet_over_plan, axis=1)\n",
    "\n",
    "df_event['Pay_over_limit_rub'] = df_event.apply(month_revenue, axis=1)\n",
    "\n",
    "for column in ['Minuts_up', 'Mb_up']:\n",
    "    df_event[column] = df_event[column].astype('float')\n",
    "\n",
    "for column in ['Sms_up', 'Pay_over_limit_rub']:\n",
    "    df_event[column] = df_event[column].astype('int')"
   ]
  },
  {
   "cell_type": "code",
   "execution_count": 42,
   "metadata": {},
   "outputs": [
    {
     "data": {
      "text/html": [
       "<div>\n",
       "<style scoped>\n",
       "    .dataframe tbody tr th:only-of-type {\n",
       "        vertical-align: middle;\n",
       "    }\n",
       "\n",
       "    .dataframe tbody tr th {\n",
       "        vertical-align: top;\n",
       "    }\n",
       "\n",
       "    .dataframe thead th {\n",
       "        text-align: right;\n",
       "    }\n",
       "</style>\n",
       "<table border=\"1\" class=\"dataframe\">\n",
       "  <thead>\n",
       "    <tr style=\"text-align: right;\">\n",
       "      <th></th>\n",
       "      <th>Num_user</th>\n",
       "      <th>Month</th>\n",
       "      <th>Number_of_calls</th>\n",
       "      <th>Calls_min</th>\n",
       "      <th>Sms_num</th>\n",
       "      <th>Internet_mb</th>\n",
       "      <th>Tariff</th>\n",
       "      <th>City</th>\n",
       "      <th>Abonent_rub</th>\n",
       "      <th>Minuts_up</th>\n",
       "      <th>Sms_up</th>\n",
       "      <th>Mb_up</th>\n",
       "      <th>Pay_over_limit_rub</th>\n",
       "    </tr>\n",
       "  </thead>\n",
       "  <tbody>\n",
       "    <tr>\n",
       "      <td>0</td>\n",
       "      <td>1000</td>\n",
       "      <td>5</td>\n",
       "      <td>17.0</td>\n",
       "      <td>159.0</td>\n",
       "      <td>22.0</td>\n",
       "      <td>2253.0</td>\n",
       "      <td>ultra</td>\n",
       "      <td>Краснодар</td>\n",
       "      <td>1950</td>\n",
       "      <td>0.0</td>\n",
       "      <td>0</td>\n",
       "      <td>0.0</td>\n",
       "      <td>0</td>\n",
       "    </tr>\n",
       "    <tr>\n",
       "      <td>1</td>\n",
       "      <td>1000</td>\n",
       "      <td>6</td>\n",
       "      <td>28.0</td>\n",
       "      <td>172.0</td>\n",
       "      <td>60.0</td>\n",
       "      <td>23232.0</td>\n",
       "      <td>ultra</td>\n",
       "      <td>Краснодар</td>\n",
       "      <td>1950</td>\n",
       "      <td>0.0</td>\n",
       "      <td>0</td>\n",
       "      <td>0.0</td>\n",
       "      <td>0</td>\n",
       "    </tr>\n",
       "    <tr>\n",
       "      <td>2</td>\n",
       "      <td>1000</td>\n",
       "      <td>7</td>\n",
       "      <td>41.0</td>\n",
       "      <td>340.0</td>\n",
       "      <td>75.0</td>\n",
       "      <td>14004.0</td>\n",
       "      <td>ultra</td>\n",
       "      <td>Краснодар</td>\n",
       "      <td>1950</td>\n",
       "      <td>0.0</td>\n",
       "      <td>0</td>\n",
       "      <td>0.0</td>\n",
       "      <td>0</td>\n",
       "    </tr>\n",
       "    <tr>\n",
       "      <td>3</td>\n",
       "      <td>1000</td>\n",
       "      <td>8</td>\n",
       "      <td>42.0</td>\n",
       "      <td>408.0</td>\n",
       "      <td>81.0</td>\n",
       "      <td>14054.0</td>\n",
       "      <td>ultra</td>\n",
       "      <td>Краснодар</td>\n",
       "      <td>1950</td>\n",
       "      <td>0.0</td>\n",
       "      <td>0</td>\n",
       "      <td>0.0</td>\n",
       "      <td>0</td>\n",
       "    </tr>\n",
       "    <tr>\n",
       "      <td>4</td>\n",
       "      <td>1000</td>\n",
       "      <td>9</td>\n",
       "      <td>46.0</td>\n",
       "      <td>466.0</td>\n",
       "      <td>57.0</td>\n",
       "      <td>14569.0</td>\n",
       "      <td>ultra</td>\n",
       "      <td>Краснодар</td>\n",
       "      <td>1950</td>\n",
       "      <td>0.0</td>\n",
       "      <td>0</td>\n",
       "      <td>0.0</td>\n",
       "      <td>0</td>\n",
       "    </tr>\n",
       "    <tr>\n",
       "      <td>5</td>\n",
       "      <td>1000</td>\n",
       "      <td>10</td>\n",
       "      <td>44.0</td>\n",
       "      <td>350.0</td>\n",
       "      <td>73.0</td>\n",
       "      <td>14701.0</td>\n",
       "      <td>ultra</td>\n",
       "      <td>Краснодар</td>\n",
       "      <td>1950</td>\n",
       "      <td>0.0</td>\n",
       "      <td>0</td>\n",
       "      <td>0.0</td>\n",
       "      <td>0</td>\n",
       "    </tr>\n",
       "    <tr>\n",
       "      <td>6</td>\n",
       "      <td>1000</td>\n",
       "      <td>11</td>\n",
       "      <td>37.0</td>\n",
       "      <td>338.0</td>\n",
       "      <td>58.0</td>\n",
       "      <td>14756.0</td>\n",
       "      <td>ultra</td>\n",
       "      <td>Краснодар</td>\n",
       "      <td>1950</td>\n",
       "      <td>0.0</td>\n",
       "      <td>0</td>\n",
       "      <td>0.0</td>\n",
       "      <td>0</td>\n",
       "    </tr>\n",
       "    <tr>\n",
       "      <td>7</td>\n",
       "      <td>1000</td>\n",
       "      <td>12</td>\n",
       "      <td>38.0</td>\n",
       "      <td>333.0</td>\n",
       "      <td>70.0</td>\n",
       "      <td>9818.0</td>\n",
       "      <td>ultra</td>\n",
       "      <td>Краснодар</td>\n",
       "      <td>1950</td>\n",
       "      <td>0.0</td>\n",
       "      <td>0</td>\n",
       "      <td>0.0</td>\n",
       "      <td>0</td>\n",
       "    </tr>\n",
       "    <tr>\n",
       "      <td>8</td>\n",
       "      <td>1001</td>\n",
       "      <td>11</td>\n",
       "      <td>45.0</td>\n",
       "      <td>430.0</td>\n",
       "      <td>0.0</td>\n",
       "      <td>18428.0</td>\n",
       "      <td>smart</td>\n",
       "      <td>Москва</td>\n",
       "      <td>550</td>\n",
       "      <td>0.0</td>\n",
       "      <td>0</td>\n",
       "      <td>3068.0</td>\n",
       "      <td>600</td>\n",
       "    </tr>\n",
       "    <tr>\n",
       "      <td>9</td>\n",
       "      <td>1001</td>\n",
       "      <td>12</td>\n",
       "      <td>47.0</td>\n",
       "      <td>414.0</td>\n",
       "      <td>0.0</td>\n",
       "      <td>14040.0</td>\n",
       "      <td>smart</td>\n",
       "      <td>Москва</td>\n",
       "      <td>550</td>\n",
       "      <td>0.0</td>\n",
       "      <td>0</td>\n",
       "      <td>0.0</td>\n",
       "      <td>0</td>\n",
       "    </tr>\n",
       "  </tbody>\n",
       "</table>\n",
       "</div>"
      ],
      "text/plain": [
       "   Num_user  Month  Number_of_calls  Calls_min  Sms_num  Internet_mb Tariff  \\\n",
       "0      1000      5             17.0      159.0     22.0       2253.0  ultra   \n",
       "1      1000      6             28.0      172.0     60.0      23232.0  ultra   \n",
       "2      1000      7             41.0      340.0     75.0      14004.0  ultra   \n",
       "3      1000      8             42.0      408.0     81.0      14054.0  ultra   \n",
       "4      1000      9             46.0      466.0     57.0      14569.0  ultra   \n",
       "5      1000     10             44.0      350.0     73.0      14701.0  ultra   \n",
       "6      1000     11             37.0      338.0     58.0      14756.0  ultra   \n",
       "7      1000     12             38.0      333.0     70.0       9818.0  ultra   \n",
       "8      1001     11             45.0      430.0      0.0      18428.0  smart   \n",
       "9      1001     12             47.0      414.0      0.0      14040.0  smart   \n",
       "\n",
       "        City  Abonent_rub  Minuts_up  Sms_up   Mb_up  Pay_over_limit_rub  \n",
       "0  Краснодар         1950        0.0       0     0.0                   0  \n",
       "1  Краснодар         1950        0.0       0     0.0                   0  \n",
       "2  Краснодар         1950        0.0       0     0.0                   0  \n",
       "3  Краснодар         1950        0.0       0     0.0                   0  \n",
       "4  Краснодар         1950        0.0       0     0.0                   0  \n",
       "5  Краснодар         1950        0.0       0     0.0                   0  \n",
       "6  Краснодар         1950        0.0       0     0.0                   0  \n",
       "7  Краснодар         1950        0.0       0     0.0                   0  \n",
       "8     Москва          550        0.0       0  3068.0                 600  \n",
       "9     Москва          550        0.0       0     0.0                   0  "
      ]
     },
     "execution_count": 42,
     "metadata": {},
     "output_type": "execute_result"
    }
   ],
   "source": [
    "df_event.head(10)"
   ]
  },
  {
   "cell_type": "markdown",
   "metadata": {},
   "source": [
    "Но нам нужна ещё строка \"Сумма за месяц\", складывающаяся из \"Аб. плата\" и \"Плата сверх лимита\"."
   ]
  },
  {
   "cell_type": "code",
   "execution_count": 43,
   "metadata": {},
   "outputs": [
    {
     "data": {
      "text/html": [
       "<div>\n",
       "<style scoped>\n",
       "    .dataframe tbody tr th:only-of-type {\n",
       "        vertical-align: middle;\n",
       "    }\n",
       "\n",
       "    .dataframe tbody tr th {\n",
       "        vertical-align: top;\n",
       "    }\n",
       "\n",
       "    .dataframe thead th {\n",
       "        text-align: right;\n",
       "    }\n",
       "</style>\n",
       "<table border=\"1\" class=\"dataframe\">\n",
       "  <thead>\n",
       "    <tr style=\"text-align: right;\">\n",
       "      <th></th>\n",
       "      <th>Num_user</th>\n",
       "      <th>Month</th>\n",
       "      <th>Number_of_calls</th>\n",
       "      <th>Calls_min</th>\n",
       "      <th>Sms_num</th>\n",
       "      <th>Internet_mb</th>\n",
       "      <th>Tariff</th>\n",
       "      <th>City</th>\n",
       "      <th>Abonent_rub</th>\n",
       "      <th>Minuts_up</th>\n",
       "      <th>Sms_up</th>\n",
       "      <th>Mb_up</th>\n",
       "      <th>Pay_over_limit_rub</th>\n",
       "      <th>Sum_month_rub</th>\n",
       "    </tr>\n",
       "  </thead>\n",
       "  <tbody>\n",
       "    <tr>\n",
       "      <td>0</td>\n",
       "      <td>1000</td>\n",
       "      <td>5</td>\n",
       "      <td>17.0</td>\n",
       "      <td>159.0</td>\n",
       "      <td>22.0</td>\n",
       "      <td>2253.0</td>\n",
       "      <td>ultra</td>\n",
       "      <td>Краснодар</td>\n",
       "      <td>1950</td>\n",
       "      <td>0.0</td>\n",
       "      <td>0</td>\n",
       "      <td>0.0</td>\n",
       "      <td>0</td>\n",
       "      <td>1950</td>\n",
       "    </tr>\n",
       "    <tr>\n",
       "      <td>1</td>\n",
       "      <td>1000</td>\n",
       "      <td>6</td>\n",
       "      <td>28.0</td>\n",
       "      <td>172.0</td>\n",
       "      <td>60.0</td>\n",
       "      <td>23232.0</td>\n",
       "      <td>ultra</td>\n",
       "      <td>Краснодар</td>\n",
       "      <td>1950</td>\n",
       "      <td>0.0</td>\n",
       "      <td>0</td>\n",
       "      <td>0.0</td>\n",
       "      <td>0</td>\n",
       "      <td>1950</td>\n",
       "    </tr>\n",
       "    <tr>\n",
       "      <td>2</td>\n",
       "      <td>1000</td>\n",
       "      <td>7</td>\n",
       "      <td>41.0</td>\n",
       "      <td>340.0</td>\n",
       "      <td>75.0</td>\n",
       "      <td>14004.0</td>\n",
       "      <td>ultra</td>\n",
       "      <td>Краснодар</td>\n",
       "      <td>1950</td>\n",
       "      <td>0.0</td>\n",
       "      <td>0</td>\n",
       "      <td>0.0</td>\n",
       "      <td>0</td>\n",
       "      <td>1950</td>\n",
       "    </tr>\n",
       "    <tr>\n",
       "      <td>3</td>\n",
       "      <td>1000</td>\n",
       "      <td>8</td>\n",
       "      <td>42.0</td>\n",
       "      <td>408.0</td>\n",
       "      <td>81.0</td>\n",
       "      <td>14054.0</td>\n",
       "      <td>ultra</td>\n",
       "      <td>Краснодар</td>\n",
       "      <td>1950</td>\n",
       "      <td>0.0</td>\n",
       "      <td>0</td>\n",
       "      <td>0.0</td>\n",
       "      <td>0</td>\n",
       "      <td>1950</td>\n",
       "    </tr>\n",
       "    <tr>\n",
       "      <td>4</td>\n",
       "      <td>1000</td>\n",
       "      <td>9</td>\n",
       "      <td>46.0</td>\n",
       "      <td>466.0</td>\n",
       "      <td>57.0</td>\n",
       "      <td>14569.0</td>\n",
       "      <td>ultra</td>\n",
       "      <td>Краснодар</td>\n",
       "      <td>1950</td>\n",
       "      <td>0.0</td>\n",
       "      <td>0</td>\n",
       "      <td>0.0</td>\n",
       "      <td>0</td>\n",
       "      <td>1950</td>\n",
       "    </tr>\n",
       "    <tr>\n",
       "      <td>5</td>\n",
       "      <td>1000</td>\n",
       "      <td>10</td>\n",
       "      <td>44.0</td>\n",
       "      <td>350.0</td>\n",
       "      <td>73.0</td>\n",
       "      <td>14701.0</td>\n",
       "      <td>ultra</td>\n",
       "      <td>Краснодар</td>\n",
       "      <td>1950</td>\n",
       "      <td>0.0</td>\n",
       "      <td>0</td>\n",
       "      <td>0.0</td>\n",
       "      <td>0</td>\n",
       "      <td>1950</td>\n",
       "    </tr>\n",
       "    <tr>\n",
       "      <td>6</td>\n",
       "      <td>1000</td>\n",
       "      <td>11</td>\n",
       "      <td>37.0</td>\n",
       "      <td>338.0</td>\n",
       "      <td>58.0</td>\n",
       "      <td>14756.0</td>\n",
       "      <td>ultra</td>\n",
       "      <td>Краснодар</td>\n",
       "      <td>1950</td>\n",
       "      <td>0.0</td>\n",
       "      <td>0</td>\n",
       "      <td>0.0</td>\n",
       "      <td>0</td>\n",
       "      <td>1950</td>\n",
       "    </tr>\n",
       "    <tr>\n",
       "      <td>7</td>\n",
       "      <td>1000</td>\n",
       "      <td>12</td>\n",
       "      <td>38.0</td>\n",
       "      <td>333.0</td>\n",
       "      <td>70.0</td>\n",
       "      <td>9818.0</td>\n",
       "      <td>ultra</td>\n",
       "      <td>Краснодар</td>\n",
       "      <td>1950</td>\n",
       "      <td>0.0</td>\n",
       "      <td>0</td>\n",
       "      <td>0.0</td>\n",
       "      <td>0</td>\n",
       "      <td>1950</td>\n",
       "    </tr>\n",
       "    <tr>\n",
       "      <td>8</td>\n",
       "      <td>1001</td>\n",
       "      <td>11</td>\n",
       "      <td>45.0</td>\n",
       "      <td>430.0</td>\n",
       "      <td>0.0</td>\n",
       "      <td>18428.0</td>\n",
       "      <td>smart</td>\n",
       "      <td>Москва</td>\n",
       "      <td>550</td>\n",
       "      <td>0.0</td>\n",
       "      <td>0</td>\n",
       "      <td>3068.0</td>\n",
       "      <td>600</td>\n",
       "      <td>1150</td>\n",
       "    </tr>\n",
       "    <tr>\n",
       "      <td>9</td>\n",
       "      <td>1001</td>\n",
       "      <td>12</td>\n",
       "      <td>47.0</td>\n",
       "      <td>414.0</td>\n",
       "      <td>0.0</td>\n",
       "      <td>14040.0</td>\n",
       "      <td>smart</td>\n",
       "      <td>Москва</td>\n",
       "      <td>550</td>\n",
       "      <td>0.0</td>\n",
       "      <td>0</td>\n",
       "      <td>0.0</td>\n",
       "      <td>0</td>\n",
       "      <td>550</td>\n",
       "    </tr>\n",
       "  </tbody>\n",
       "</table>\n",
       "</div>"
      ],
      "text/plain": [
       "   Num_user  Month  Number_of_calls  Calls_min  Sms_num  Internet_mb Tariff  \\\n",
       "0      1000      5             17.0      159.0     22.0       2253.0  ultra   \n",
       "1      1000      6             28.0      172.0     60.0      23232.0  ultra   \n",
       "2      1000      7             41.0      340.0     75.0      14004.0  ultra   \n",
       "3      1000      8             42.0      408.0     81.0      14054.0  ultra   \n",
       "4      1000      9             46.0      466.0     57.0      14569.0  ultra   \n",
       "5      1000     10             44.0      350.0     73.0      14701.0  ultra   \n",
       "6      1000     11             37.0      338.0     58.0      14756.0  ultra   \n",
       "7      1000     12             38.0      333.0     70.0       9818.0  ultra   \n",
       "8      1001     11             45.0      430.0      0.0      18428.0  smart   \n",
       "9      1001     12             47.0      414.0      0.0      14040.0  smart   \n",
       "\n",
       "        City  Abonent_rub  Minuts_up  Sms_up   Mb_up  Pay_over_limit_rub  \\\n",
       "0  Краснодар         1950        0.0       0     0.0                   0   \n",
       "1  Краснодар         1950        0.0       0     0.0                   0   \n",
       "2  Краснодар         1950        0.0       0     0.0                   0   \n",
       "3  Краснодар         1950        0.0       0     0.0                   0   \n",
       "4  Краснодар         1950        0.0       0     0.0                   0   \n",
       "5  Краснодар         1950        0.0       0     0.0                   0   \n",
       "6  Краснодар         1950        0.0       0     0.0                   0   \n",
       "7  Краснодар         1950        0.0       0     0.0                   0   \n",
       "8     Москва          550        0.0       0  3068.0                 600   \n",
       "9     Москва          550        0.0       0     0.0                   0   \n",
       "\n",
       "   Sum_month_rub  \n",
       "0           1950  \n",
       "1           1950  \n",
       "2           1950  \n",
       "3           1950  \n",
       "4           1950  \n",
       "5           1950  \n",
       "6           1950  \n",
       "7           1950  \n",
       "8           1150  \n",
       "9            550  "
      ]
     },
     "execution_count": 43,
     "metadata": {},
     "output_type": "execute_result"
    }
   ],
   "source": [
    "df_event['Sum_month_rub'] = df_event['Abonent_rub'] + df_event['Pay_over_limit_rub']\n",
    "df_event.head(10)"
   ]
  },
  {
   "cell_type": "markdown",
   "metadata": {},
   "source": [
    "\n",
    "<div class=\"alert alert-success\">\n",
    "    \n",
    "<b> Комментарий от ревьюера</b>\n",
    "    \n",
    "Молодец, ты правильно посчитал размер месячных платежей.\n",
    "</div>\n",
    "\n"
   ]
  },
  {
   "cell_type": "markdown",
   "metadata": {},
   "source": [
    "Проверим превышение лимитов."
   ]
  },
  {
   "cell_type": "code",
   "execution_count": 44,
   "metadata": {},
   "outputs": [
    {
     "data": {
      "text/html": [
       "<div>\n",
       "<style scoped>\n",
       "    .dataframe tbody tr th:only-of-type {\n",
       "        vertical-align: middle;\n",
       "    }\n",
       "\n",
       "    .dataframe tbody tr th {\n",
       "        vertical-align: top;\n",
       "    }\n",
       "\n",
       "    .dataframe thead th {\n",
       "        text-align: right;\n",
       "    }\n",
       "</style>\n",
       "<table border=\"1\" class=\"dataframe\">\n",
       "  <thead>\n",
       "    <tr style=\"text-align: right;\">\n",
       "      <th></th>\n",
       "      <th>Num_user</th>\n",
       "      <th>Month</th>\n",
       "      <th>Number_of_calls</th>\n",
       "      <th>Calls_min</th>\n",
       "      <th>Sms_num</th>\n",
       "      <th>Internet_mb</th>\n",
       "      <th>Tariff</th>\n",
       "      <th>City</th>\n",
       "      <th>Abonent_rub</th>\n",
       "      <th>Minuts_up</th>\n",
       "      <th>Sms_up</th>\n",
       "      <th>Mb_up</th>\n",
       "      <th>Pay_over_limit_rub</th>\n",
       "      <th>Sum_month_rub</th>\n",
       "    </tr>\n",
       "  </thead>\n",
       "  <tbody>\n",
       "    <tr>\n",
       "      <td>67</td>\n",
       "      <td>1009</td>\n",
       "      <td>7</td>\n",
       "      <td>20.0</td>\n",
       "      <td>183.0</td>\n",
       "      <td>14.0</td>\n",
       "      <td>24728.0</td>\n",
       "      <td>smart</td>\n",
       "      <td>Пермь</td>\n",
       "      <td>550</td>\n",
       "      <td>0.0</td>\n",
       "      <td>0</td>\n",
       "      <td>9368.0</td>\n",
       "      <td>2000</td>\n",
       "      <td>2550</td>\n",
       "    </tr>\n",
       "    <tr>\n",
       "      <td>68</td>\n",
       "      <td>1009</td>\n",
       "      <td>8</td>\n",
       "      <td>27.0</td>\n",
       "      <td>249.0</td>\n",
       "      <td>9.0</td>\n",
       "      <td>23707.0</td>\n",
       "      <td>smart</td>\n",
       "      <td>Пермь</td>\n",
       "      <td>550</td>\n",
       "      <td>0.0</td>\n",
       "      <td>0</td>\n",
       "      <td>8347.0</td>\n",
       "      <td>1800</td>\n",
       "      <td>2350</td>\n",
       "    </tr>\n",
       "    <tr>\n",
       "      <td>86</td>\n",
       "      <td>1011</td>\n",
       "      <td>11</td>\n",
       "      <td>52.0</td>\n",
       "      <td>501.0</td>\n",
       "      <td>12.0</td>\n",
       "      <td>25302.0</td>\n",
       "      <td>smart</td>\n",
       "      <td>Самара</td>\n",
       "      <td>550</td>\n",
       "      <td>1.0</td>\n",
       "      <td>0</td>\n",
       "      <td>9942.0</td>\n",
       "      <td>2003</td>\n",
       "      <td>2553</td>\n",
       "    </tr>\n",
       "    <tr>\n",
       "      <td>87</td>\n",
       "      <td>1011</td>\n",
       "      <td>12</td>\n",
       "      <td>44.0</td>\n",
       "      <td>361.0</td>\n",
       "      <td>6.0</td>\n",
       "      <td>22873.0</td>\n",
       "      <td>smart</td>\n",
       "      <td>Самара</td>\n",
       "      <td>550</td>\n",
       "      <td>0.0</td>\n",
       "      <td>0</td>\n",
       "      <td>7513.0</td>\n",
       "      <td>1600</td>\n",
       "      <td>2150</td>\n",
       "    </tr>\n",
       "    <tr>\n",
       "      <td>90</td>\n",
       "      <td>1012</td>\n",
       "      <td>5</td>\n",
       "      <td>35.0</td>\n",
       "      <td>316.0</td>\n",
       "      <td>10.0</td>\n",
       "      <td>26609.0</td>\n",
       "      <td>smart</td>\n",
       "      <td>Санкт-Петербург</td>\n",
       "      <td>550</td>\n",
       "      <td>0.0</td>\n",
       "      <td>0</td>\n",
       "      <td>11249.0</td>\n",
       "      <td>2200</td>\n",
       "      <td>2750</td>\n",
       "    </tr>\n",
       "    <tr>\n",
       "      <td>...</td>\n",
       "      <td>...</td>\n",
       "      <td>...</td>\n",
       "      <td>...</td>\n",
       "      <td>...</td>\n",
       "      <td>...</td>\n",
       "      <td>...</td>\n",
       "      <td>...</td>\n",
       "      <td>...</td>\n",
       "      <td>...</td>\n",
       "      <td>...</td>\n",
       "      <td>...</td>\n",
       "      <td>...</td>\n",
       "      <td>...</td>\n",
       "      <td>...</td>\n",
       "    </tr>\n",
       "    <tr>\n",
       "      <td>3198</td>\n",
       "      <td>1496</td>\n",
       "      <td>8</td>\n",
       "      <td>62.0</td>\n",
       "      <td>527.0</td>\n",
       "      <td>41.0</td>\n",
       "      <td>23532.0</td>\n",
       "      <td>smart</td>\n",
       "      <td>Вологда</td>\n",
       "      <td>550</td>\n",
       "      <td>27.0</td>\n",
       "      <td>0</td>\n",
       "      <td>8172.0</td>\n",
       "      <td>1681</td>\n",
       "      <td>2231</td>\n",
       "    </tr>\n",
       "    <tr>\n",
       "      <td>3199</td>\n",
       "      <td>1496</td>\n",
       "      <td>9</td>\n",
       "      <td>58.0</td>\n",
       "      <td>486.0</td>\n",
       "      <td>29.0</td>\n",
       "      <td>26934.0</td>\n",
       "      <td>smart</td>\n",
       "      <td>Вологда</td>\n",
       "      <td>550</td>\n",
       "      <td>0.0</td>\n",
       "      <td>0</td>\n",
       "      <td>11574.0</td>\n",
       "      <td>2400</td>\n",
       "      <td>2950</td>\n",
       "    </tr>\n",
       "    <tr>\n",
       "      <td>3200</td>\n",
       "      <td>1496</td>\n",
       "      <td>10</td>\n",
       "      <td>56.0</td>\n",
       "      <td>450.0</td>\n",
       "      <td>35.0</td>\n",
       "      <td>28188.0</td>\n",
       "      <td>smart</td>\n",
       "      <td>Вологда</td>\n",
       "      <td>550</td>\n",
       "      <td>0.0</td>\n",
       "      <td>0</td>\n",
       "      <td>12828.0</td>\n",
       "      <td>2600</td>\n",
       "      <td>3150</td>\n",
       "    </tr>\n",
       "    <tr>\n",
       "      <td>3201</td>\n",
       "      <td>1496</td>\n",
       "      <td>11</td>\n",
       "      <td>66.0</td>\n",
       "      <td>662.0</td>\n",
       "      <td>46.0</td>\n",
       "      <td>25069.0</td>\n",
       "      <td>smart</td>\n",
       "      <td>Вологда</td>\n",
       "      <td>550</td>\n",
       "      <td>162.0</td>\n",
       "      <td>0</td>\n",
       "      <td>9709.0</td>\n",
       "      <td>2486</td>\n",
       "      <td>3036</td>\n",
       "    </tr>\n",
       "    <tr>\n",
       "      <td>3207</td>\n",
       "      <td>1498</td>\n",
       "      <td>8</td>\n",
       "      <td>43.0</td>\n",
       "      <td>400.0</td>\n",
       "      <td>62.0</td>\n",
       "      <td>24235.0</td>\n",
       "      <td>smart</td>\n",
       "      <td>Владикавказ</td>\n",
       "      <td>550</td>\n",
       "      <td>0.0</td>\n",
       "      <td>12</td>\n",
       "      <td>8875.0</td>\n",
       "      <td>1836</td>\n",
       "      <td>2386</td>\n",
       "    </tr>\n",
       "  </tbody>\n",
       "</table>\n",
       "<p>552 rows × 14 columns</p>\n",
       "</div>"
      ],
      "text/plain": [
       "      Num_user  Month  Number_of_calls  Calls_min  Sms_num  Internet_mb  \\\n",
       "67        1009      7             20.0      183.0     14.0      24728.0   \n",
       "68        1009      8             27.0      249.0      9.0      23707.0   \n",
       "86        1011     11             52.0      501.0     12.0      25302.0   \n",
       "87        1011     12             44.0      361.0      6.0      22873.0   \n",
       "90        1012      5             35.0      316.0     10.0      26609.0   \n",
       "...        ...    ...              ...        ...      ...          ...   \n",
       "3198      1496      8             62.0      527.0     41.0      23532.0   \n",
       "3199      1496      9             58.0      486.0     29.0      26934.0   \n",
       "3200      1496     10             56.0      450.0     35.0      28188.0   \n",
       "3201      1496     11             66.0      662.0     46.0      25069.0   \n",
       "3207      1498      8             43.0      400.0     62.0      24235.0   \n",
       "\n",
       "     Tariff             City  Abonent_rub  Minuts_up  Sms_up    Mb_up  \\\n",
       "67    smart            Пермь          550        0.0       0   9368.0   \n",
       "68    smart            Пермь          550        0.0       0   8347.0   \n",
       "86    smart           Самара          550        1.0       0   9942.0   \n",
       "87    smart           Самара          550        0.0       0   7513.0   \n",
       "90    smart  Санкт-Петербург          550        0.0       0  11249.0   \n",
       "...     ...              ...          ...        ...     ...      ...   \n",
       "3198  smart          Вологда          550       27.0       0   8172.0   \n",
       "3199  smart          Вологда          550        0.0       0  11574.0   \n",
       "3200  smart          Вологда          550        0.0       0  12828.0   \n",
       "3201  smart          Вологда          550      162.0       0   9709.0   \n",
       "3207  smart      Владикавказ          550        0.0      12   8875.0   \n",
       "\n",
       "      Pay_over_limit_rub  Sum_month_rub  \n",
       "67                  2000           2550  \n",
       "68                  1800           2350  \n",
       "86                  2003           2553  \n",
       "87                  1600           2150  \n",
       "90                  2200           2750  \n",
       "...                  ...            ...  \n",
       "3198                1681           2231  \n",
       "3199                2400           2950  \n",
       "3200                2600           3150  \n",
       "3201                2486           3036  \n",
       "3207                1836           2386  \n",
       "\n",
       "[552 rows x 14 columns]"
      ]
     },
     "execution_count": 44,
     "metadata": {},
     "output_type": "execute_result"
    }
   ],
   "source": [
    "df_event[df_event['Sum_month_rub'] > 1950]"
   ]
  },
  {
   "cell_type": "markdown",
   "metadata": {},
   "source": [
    "Таких нашлось 556. Построим гистограмму переплат."
   ]
  },
  {
   "cell_type": "code",
   "execution_count": 45,
   "metadata": {},
   "outputs": [
    {
     "data": {
      "text/plain": [
       "Text(0.5, 0, 'Переплата')"
      ]
     },
     "execution_count": 45,
     "metadata": {},
     "output_type": "execute_result"
    },
    {
     "data": {
      "image/png": "[encoded data removed]",
      "text/plain": [
       "<Figure size 432x288 with 1 Axes>"
      ]
     },
     "metadata": {
      "needs_background": "light"
     },
     "output_type": "display_data"
    }
   ],
   "source": [
    "title = 'Гистограмма переплат, тариф \"Смарт\"'\n",
    "df_filtered = df_event[(df_event['Tariff'] == 'smart') & \n",
    "                               (df_event['Pay_over_limit_rub'] > 0)]['Pay_over_limit_rub']\n",
    "df_filtered.plot(kind='hist', title=title, ec='black', bins=50).set_xlabel('Переплата')"
   ]
  },
  {
   "cell_type": "markdown",
   "metadata": {},
   "source": [
    "Переплачивают довольно много, если учесть сумму тарифа \"Смарт\". А теперь - Ультра."
   ]
  },
  {
   "cell_type": "code",
   "execution_count": 46,
   "metadata": {},
   "outputs": [
    {
     "data": {
      "text/plain": [
       "Text(0.5, 0, 'Переплата')"
      ]
     },
     "execution_count": 46,
     "metadata": {},
     "output_type": "execute_result"
    },
    {
     "data": {
      "image/png": "[encoded data removed]",
      "text/plain": [
       "<Figure size 432x288 with 1 Axes>"
      ]
     },
     "metadata": {
      "needs_background": "light"
     },
     "output_type": "display_data"
    }
   ],
   "source": [
    "title = 'Гистограмма переплат, тариф \"Ультра\"'\n",
    "df_filtered = df_event[(df_event['Tariff'] == 'ultra') & \n",
    "                               (df_event['Pay_over_limit_rub'] > 0)]['Pay_over_limit_rub']\n",
    "df_filtered.plot(kind='hist', title=title, ec='black', bins=50).set_xlabel('Переплата')"
   ]
  },
  {
   "cell_type": "markdown",
   "metadata": {},
   "source": [
    "Тут, переплачивают порядка 1500 р., а в предыдущем тарифе - 1200. Всё равно много."
   ]
  },
  {
   "cell_type": "markdown",
   "metadata": {},
   "source": [
    "Посмотрим, что чаще дозаказывают пользователи каждого из тарифов:"
   ]
  },
  {
   "cell_type": "code",
   "execution_count": 47,
   "metadata": {},
   "outputs": [
    {
     "data": {
      "text/html": [
       "<div>\n",
       "<style scoped>\n",
       "    .dataframe tbody tr th:only-of-type {\n",
       "        vertical-align: middle;\n",
       "    }\n",
       "\n",
       "    .dataframe tbody tr th {\n",
       "        vertical-align: top;\n",
       "    }\n",
       "\n",
       "    .dataframe thead th {\n",
       "        text-align: right;\n",
       "    }\n",
       "</style>\n",
       "<table border=\"1\" class=\"dataframe\">\n",
       "  <thead>\n",
       "    <tr style=\"text-align: right;\">\n",
       "      <th></th>\n",
       "      <th>Tariff</th>\n",
       "      <th>Minuts_up</th>\n",
       "      <th>Sms_up</th>\n",
       "      <th>Mb_up</th>\n",
       "    </tr>\n",
       "  </thead>\n",
       "  <tbody>\n",
       "    <tr>\n",
       "      <td>0</td>\n",
       "      <td>smart</td>\n",
       "      <td>92739.0</td>\n",
       "      <td>12928</td>\n",
       "      <td>6142507.0</td>\n",
       "    </tr>\n",
       "    <tr>\n",
       "      <td>1</td>\n",
       "      <td>ultra</td>\n",
       "      <td>0.0</td>\n",
       "      <td>0</td>\n",
       "      <td>738819.0</td>\n",
       "    </tr>\n",
       "  </tbody>\n",
       "</table>\n",
       "</div>"
      ],
      "text/plain": [
       "  Tariff  Minuts_up  Sms_up      Mb_up\n",
       "0  smart    92739.0   12928  6142507.0\n",
       "1  ultra        0.0       0   738819.0"
      ]
     },
     "execution_count": 47,
     "metadata": {},
     "output_type": "execute_result"
    }
   ],
   "source": [
    "(df_event.groupby('Tariff').sum()[['Minuts_up', 'Sms_up', 'Mb_up']]).reset_index()"
   ]
  },
  {
   "cell_type": "markdown",
   "metadata": {},
   "source": [
    "Обратим внимание, что <b>пользователи тарифа smart доказывают услуги каждого типа связи. Пользователи тарифа ultra - только интернет</b>."
   ]
  },
  {
   "cell_type": "markdown",
   "metadata": {},
   "source": [
    "<div class=\"alert alert-success\">\n",
    "    \n",
    "<b> Комментарий от ревьюера</b>\n",
    "    \n",
    "Молодец, что отдельно рассмотрел переплату по тарифу\n",
    "</div>\n",
    "\n"
   ]
  },
  {
   "cell_type": "markdown",
   "metadata": {},
   "source": [
    "## Анализ данных"
   ]
  },
  {
   "cell_type": "markdown",
   "metadata": {},
   "source": [
    "Опишите поведение клиентов оператора, исходя из выборки. Сколько минут разговора, сколько сообщений и какой объём интернет-трафика требуется пользователям каждого тарифа в месяц? Посчитайте среднее количество, дисперсию и стандартное отклонение. Постройте гистограммы. Опишите распределения."
   ]
  },
  {
   "cell_type": "markdown",
   "metadata": {},
   "source": [
    "Нам надо зафиксировать выбросы и отфильтровать их. Поэтому сначала зададим нижнее и верхнее значения усов через 2 и 98 квантили и построим один boxplot, потом построим boxplot со стандартным межквартильным размахом, равным 1,5, через функцию."
   ]
  },
  {
   "cell_type": "code",
   "execution_count": 48,
   "metadata": {},
   "outputs": [],
   "source": [
    "def box_plot(whis):\n",
    "    column_list = ['Calls_min', 'Sms_num', 'Internet_mb']\n",
    "    rows = 1\n",
    "    cols = 3\n",
    "    column_list_counter = 0\n",
    "\n",
    "    fig, axes = plt.subplots(rows, cols, figsize=(40,15))\n",
    "\n",
    "    for r in range(rows):\n",
    "        for c in range(cols):\n",
    "            ax = df_event.boxplot(column=column_list[column_list_counter], by='Tariff', fontsize=40, ax=axes[c],\n",
    "                                         boxprops=dict(linestyle='-', linewidth=5),\n",
    "                                         medianprops=dict(linestyle='-', linewidth=5),\n",
    "                                         whiskerprops=dict(linestyle='-', linewidth=5),\n",
    "                                         capprops=dict(linestyle='-', linewidth=5),\n",
    "                                         notch=True, whis=whis)\n",
    "            ax.set_title(column_list[column_list_counter])\n",
    "            ax.title.set_size(40)\n",
    "            ax.set_xlabel('')\n",
    "            plt.suptitle('Boxplot с whis = {}'.format(whis), y=1, fontsize=45, fontweight='bold')\n",
    "            column_list_counter += 1"
   ]
  },
  {
   "cell_type": "markdown",
   "metadata": {},
   "source": [
    "Построим боксплот, используя стандартный межквартильный размах 1,5. При этом отключим вывод дополнительных ошибок."
   ]
  },
  {
   "cell_type": "code",
   "execution_count": 49,
   "metadata": {},
   "outputs": [],
   "source": [
    "np.warnings.filterwarnings('ignore', category=np.VisibleDeprecationWarning)"
   ]
  },
  {
   "cell_type": "code",
   "execution_count": 50,
   "metadata": {},
   "outputs": [
    {
     "data": {
      "image/png": "[encoded data removed]",
      "text/plain": [
       "<Figure size 2880x1080 with 3 Axes>"
      ]
     },
     "metadata": {
      "needs_background": "light"
     },
     "output_type": "display_data"
    }
   ],
   "source": [
    "box_plot(1.5)"
   ]
  },
  {
   "cell_type": "markdown",
   "metadata": {},
   "source": [
    "Нам нужно доказать или опровергнуть утверждение, что \"средняя выручка пользователей из Москвы отличается от выручки пользователей из других регионов\". Фу, как некрасиво. Напишем функцию разделения."
   ]
  },
  {
   "cell_type": "code",
   "execution_count": 51,
   "metadata": {},
   "outputs": [],
   "source": [
    "def get_intervals(column, data_filter):\n",
    "    \n",
    "    if data_filter == 'Tariff':\n",
    "        format_name = column\n",
    "        data1, data2 = 'smart', 'ultra'\n",
    "        format_end1 = 'тарифа \"Смарт\"'\n",
    "        format_end2 = 'тарифа \"Ультра\"'\n",
    "    elif data_filter == 'is_Moscow':\n",
    "        format_name = 'is_Moscow'\n",
    "        data1, data2 = 0, 1\n",
    "        format_end1 = 'для регионов'\n",
    "        format_end2 = 'для Москвы'\n",
    "    \n",
    "    q1_1 = df_event[df_event[data_filter] == data1][column].quantile(0.25)\n",
    "    q3_1 = df_event[df_event[data_filter] == data1][column].quantile(0.75)\n",
    "    diff_1 = q3_1 - q1_1\n",
    "    \n",
    "    if data_filter == 'is_Moscow':\n",
    "        left_int_1 = np.where( (q1_1 - 1.5 * diff_1) > 550, q1_1 - 1.5 * diff_1, 550)\n",
    "    else:\n",
    "        left_int_1 = np.where( (q1_1 - 1.5 * diff_1) > 0, q1_1 - 1.5 * diff_1, 0)\n",
    "    \n",
    "    right_int_1 = np.where( (q3_1 + 1.5 * diff_1) > 0, q3_1 + 1.5 * diff_1, 0)\n",
    "    \n",
    "    q1_2 = df_event[df_event[data_filter] == data2][column].quantile(0.25)\n",
    "    q3_2 = df_event[df_event[data_filter] == data2][column].quantile(0.75)\n",
    "    diff_2 = q3_2 - q1_2\n",
    "    \n",
    "    if data_filter == 'is_Moscow':\n",
    "        left_int_2 = np.where( (q1_2 - 1.5 * diff_2) > 550, q1_2 - 1.5 * diff_2, 550)\n",
    "    else:\n",
    "        left_int_2 = np.where( (q1_2 - 1.5 * diff_2) > 0, q1_2 - 1.5 * diff_2, 0)\n",
    "        \n",
    "    right_int_2 = np.where( (q3_2 + 1.5 * diff_2) > 0, q3_2 + 1.5 * diff_2, 0)\n",
    "    \n",
    "    print('Границы интервала для столбца \"{}\" {}: {} - {}'.format(column, format_end1, left_int_1, right_int_1))\n",
    "    print('Границы интервала для столбца \"{}\" {}: {} - {}'.format(column, format_end2, left_int_2, right_int_2))\n",
    "    \n",
    "    return (left_int_1, right_int_1), (left_int_2, right_int_2)"
   ]
  },
  {
   "cell_type": "markdown",
   "metadata": {},
   "source": [
    "А теперь найдём границы интервала по длительности."
   ]
  },
  {
   "cell_type": "code",
   "execution_count": 52,
   "metadata": {},
   "outputs": [
    {
     "name": "stdout",
     "output_type": "stream",
     "text": [
      "Границы интервала для столбца \"Calls_min\" тарифа \"Смарт\": 0.0 - 939.5\n",
      "Границы интервала для столбца \"Calls_min\" тарифа \"Ультра\": 0.0 - 1454.0\n"
     ]
    }
   ],
   "source": [
    "calls_int_smart, calls_int_ultra = get_intervals('Calls_min', 'Tariff')"
   ]
  },
  {
   "cell_type": "markdown",
   "metadata": {},
   "source": [
    "Границы интервала по количеству отправленных смс."
   ]
  },
  {
   "cell_type": "code",
   "execution_count": 53,
   "metadata": {},
   "outputs": [
    {
     "name": "stdout",
     "output_type": "stream",
     "text": [
      "Границы интервала для столбца \"Sms_num\" тарифа \"Смарт\": 0.0 - 112.5\n",
      "Границы интервала для столбца \"Sms_num\" тарифа \"Ультра\": 0.0 - 188.5\n"
     ]
    }
   ],
   "source": [
    "sms_int_smart, sms_int_ultra = get_intervals('Sms_num', 'Tariff')"
   ]
  },
  {
   "cell_type": "markdown",
   "metadata": {},
   "source": [
    "Границы интервала по количеству использованного трафика:"
   ]
  },
  {
   "cell_type": "code",
   "execution_count": 54,
   "metadata": {},
   "outputs": [
    {
     "name": "stdout",
     "output_type": "stream",
     "text": [
      "Границы интервала для столбца \"Internet_mb\" тарифа \"Смарт\": 1538.0 - 31146.0\n",
      "Границы интервала для столбца \"Internet_mb\" тарифа \"Ультра\": 0.0 - 49436.0\n"
     ]
    }
   ],
   "source": [
    "internet_int_smart, internet_int_ultra = get_intervals('Internet_mb', 'Tariff')"
   ]
  },
  {
   "cell_type": "markdown",
   "metadata": {},
   "source": [
    "Теперь, согласно задания, нужно построить по всем этим данным. Однако, нам также необходимо вывести данные по среднему, дисперсии и стандартному отклонению. Напишем функцию."
   ]
  },
  {
   "cell_type": "code",
   "execution_count": 55,
   "metadata": {},
   "outputs": [],
   "source": [
    "def plot_hist_comparison(data):\n",
    "    \n",
    "    ax = plt.gca()\n",
    "    func_dict = {'Звонки': 'Calls_min', 'СМС': 'Sms_num', 'Интернет': 'Internet_mb'}\n",
    "    xlims = [(calls_int_smart[0], calls_int_smart[1]), (calls_int_ultra[0], calls_int_ultra[1]),\n",
    "             (sms_int_smart[0], sms_int_smart[1]), (sms_int_ultra[0], sms_int_ultra[1]),\n",
    "             (internet_int_smart[0], internet_int_smart[1]), (internet_int_ultra[0], internet_int_ultra[1])]\n",
    "    \n",
    "    filt_column = func_dict[data]\n",
    "\n",
    "    # оформление в зависимости от рассматриваемых данных\n",
    "    if data == 'Звонки':\n",
    "        title = 'Гистограмма длительности звонков, мин.'\n",
    "        xlim1 = xlims[0]\n",
    "        xlim2 = xlims[1]\n",
    "        text_x = (58, 8)\n",
    "        text_y = 118\n",
    "        count_text_x = 1150\n",
    "        count_text_y = 75\n",
    "        alpha = 0.8\n",
    "        # annot_xy = (990, 60)\n",
    "        # annot_xytext = (970, 70)\n",
    "    elif data == 'СМС':\n",
    "        title = 'Гистограмма количества отправленных СМС, шт.'\n",
    "        xlim1 = xlims[2]\n",
    "        xlim2 = xlims[3]\n",
    "        text_x = (5.5, 1)\n",
    "        text_y = 200\n",
    "        count_text_x = 148\n",
    "        count_text_y = 230\n",
    "        alpha = 1\n",
    "        # annot_xy = (133, 220)\n",
    "        # annot_xytext = (130, 260)\n",
    "    else:\n",
    "        title = 'Гистограмма количества использованного интернет-трафика, Мб'\n",
    "        xlim1 = xlims[4]\n",
    "        xlim2 = xlims[5]\n",
    "        text_x = (3300, 200)\n",
    "        text_y = 130\n",
    "        count_text_x = 38000\n",
    "        count_text_y = 82\n",
    "        alpha = 0.8\n",
    "        # annot_xy = (31100, 73)\n",
    "        # annot_xytext = (30400, 86)\n",
    "    \n",
    "    # получаем отфильтрованные от выбросов датафреймы\n",
    "    filtered_smart_data = df_event[(df_event['Tariff'] == 'smart') &\n",
    "                                           (df_event[filt_column] >= xlim1[0]) &\n",
    "                                           (df_event[filt_column] <= xlim1[1])][filt_column]\n",
    "    filtered_ultra_data = df_event[(df_event['Tariff'] == 'ultra') &\n",
    "                                           (df_event[filt_column] >= xlim2[0]) &\n",
    "                                           (df_event[filt_column] <= xlim2[1])][filt_column]\n",
    "    # рисуем\n",
    "    filtered_smart_data.plot(kind='hist', bins=40, figsize=(12,6), ec='black', ax=ax, color='#92c6ff', \n",
    "                             title=title, xlim=xlim1)\n",
    "    filtered_ultra_data.plot(kind='hist', bins=70, figsize=(12,6), ec='black', ax=ax, color='#97F0AA', \n",
    "                             title=title, xlim=xlim2, alpha=alpha)\n",
    "    \n",
    "    # расчетные данные\n",
    "    mean_smart = filtered_smart_data.mean()\n",
    "    mean_ultra = filtered_ultra_data.mean()\n",
    "    dispersion_smart = filtered_smart_data.var()\n",
    "    dispersion_ultra = filtered_ultra_data.var()\n",
    "    std_smart = filtered_smart_data.std()\n",
    "    std_ultra = filtered_ultra_data.std()\n",
    "    \n",
    "    if data == 'СМС':\n",
    "        smart_data = 'Среднее - {:.2f}\\nДисперсия - {:.2f}\\nstd - {:.2f}'.format(mean_smart, dispersion_smart, std_smart)\n",
    "        ultra_data = 'Среднее - {:.2f}\\nДисперсия - {:.2f}\\nstd - {:.2f}'.format(mean_ultra, dispersion_ultra, std_ultra)\n",
    "    else:\n",
    "        smart_data = 'Среднее - {:.0f}\\nДисперсия - {:.0f}\\nstd - {:.0f}'.format(mean_smart, dispersion_smart, std_smart)\n",
    "        ultra_data = 'Среднее - {:.0f}\\nДисперсия - {:.0f}\\nstd - {:.0f}'.format(mean_ultra, dispersion_ultra, std_ultra)\n",
    "    \n",
    "    legend_second = plt.legend([smart_data, ultra_data], prop={'size':10.5}, \n",
    "                                framealpha=0, bbox_to_anchor=(1.0,0.32), loc=4)\n",
    "    \n",
    "    \n",
    "    plt.gca().add_artist(legend_second)\n",
    "    \n",
    "    # рисуем медианы\n",
    "    plt.axvline(x=filtered_smart_data.median(),linewidth=3, color='#16B4DC', linestyle='--')\n",
    "    ax.text(filtered_smart_data.median()-text_x[0], text_y, '{0:.0f}'.format(filtered_smart_data.median()), \n",
    "            fontweight='bold', fontsize='large')\n",
    "    plt.axvline(x=filtered_ultra_data.median(),linewidth=3, color='#35B815', linestyle='--')\n",
    "    ax.text(filtered_ultra_data.median()+text_x[1], text_y, '{0:.0f}'.format(filtered_ultra_data.median()), \n",
    "            fontweight='bold', fontsize='large')\n",
    "    \n",
    "    plt.legend(['Медиана Смарт', 'Медиана Ультра', 'Смарт', 'Ультра'], prop={'size':12})\n",
    "    ax.text(count_text_x, count_text_y, 'Расчётные данные', fontweight='bold', fontsize='large')\n",
    "    \n",
    "    # ax.annotate('Расчётные данные', xy=annot_xy, xytext=annot_xytext, arrowprops=dict(facecolor='black', shrink=0.05),\n",
    "                # horizontalalignment='right', verticalalignment='top')"
   ]
  },
  {
   "cell_type": "markdown",
   "metadata": {},
   "source": [
    "Осталось сравнить. Выводим гистограмму по длительности звонков."
   ]
  },
  {
   "cell_type": "code",
   "execution_count": 56,
   "metadata": {},
   "outputs": [
    {
     "data": {
      "image/png": "[encoded data removed]",
      "text/plain": [
       "<Figure size 864x432 with 1 Axes>"
      ]
     },
     "metadata": {
      "needs_background": "light"
     },
     "output_type": "display_data"
    }
   ],
   "source": [
    "plot_hist_comparison('Звонки')"
   ]
  },
  {
   "cell_type": "markdown",
   "metadata": {},
   "source": [
    "\n",
    "<div class=\"alert alert-success\">\n",
    "    \n",
    "<b> Комментарий от ревьюера</b>\n",
    "    \n",
    "Отличный график\n",
    "</div>\n"
   ]
  },
  {
   "cell_type": "markdown",
   "metadata": {},
   "source": [
    "Медиана здесь равна 421 минуте. А люди разговаривают 200 - 600 минут в месяц на тарифе \"Смарт\". На \"Ультре\" ситуация другая - медиана равна 518 минут, то есть больше, чем у \"Смарта\"."
   ]
  },
  {
   "cell_type": "markdown",
   "metadata": {},
   "source": [
    "Посмотрим на смс."
   ]
  },
  {
   "cell_type": "code",
   "execution_count": 57,
   "metadata": {},
   "outputs": [
    {
     "data": {
      "image/png": "[encoded data removed]",
      "text/plain": [
       "<Figure size 864x432 with 1 Axes>"
      ]
     },
     "metadata": {
      "needs_background": "light"
     },
     "output_type": "display_data"
    }
   ],
   "source": [
    "plot_hist_comparison('СМС')"
   ]
  },
  {
   "cell_type": "markdown",
   "metadata": {},
   "source": [
    "Опять мы видим разницу в медианах \"Смарт\" и \"Ультра\". И в среднем на \"Смарте\" пишут 32 смс, а на \"Ультре\" - 48."
   ]
  },
  {
   "cell_type": "markdown",
   "metadata": {},
   "source": [
    "Посмотрим, что с трафиком."
   ]
  },
  {
   "cell_type": "code",
   "execution_count": 58,
   "metadata": {},
   "outputs": [
    {
     "data": {
      "image/png": "[encoded data removed]",
      "text/plain": [
       "<Figure size 864x432 with 1 Axes>"
      ]
     },
     "metadata": {
      "needs_background": "light"
     },
     "output_type": "display_data"
    }
   ],
   "source": [
    "plot_hist_comparison('Интернет')"
   ]
  },
  {
   "cell_type": "markdown",
   "metadata": {},
   "source": [
    "Здесь, по-моему, самое интересное. Ведь у тарифа \"Смарт\" пользователи регулярно вылезают медианой за ограничение абонентской платы (15 Гб). А вот на \"Ультре\" всё наоборот. 19 против 30 - получается, пользователи просто переплачивают за возможность."
   ]
  },
  {
   "cell_type": "markdown",
   "metadata": {},
   "source": [
    "\n",
    "<div class=\"alert alert-success\">\n",
    "    \n",
    "<b> Комментарий от ревьюера</b>\n",
    "    \n",
    "Все верно\n",
    "</div>\n"
   ]
  },
  {
   "cell_type": "markdown",
   "metadata": {},
   "source": [
    "## Проверка гипотез"
   ]
  },
  {
   "cell_type": "markdown",
   "metadata": {},
   "source": [
    "Выдвинем две гипотезы.\n",
    "<b>H0</b> (нулевая гипотеза) - предположение о том, что между данными у нас нет связи. В данном случае, что средняя выручка пользователей тарифа \"Смарт\" не отличается от средней выручки пользователей тарифа \"Ультра\".\n",
    "<b>H1</b> (альтернативная гипотеза) - средняя выручка пользователей тарифа \"Смарт\" отличается от средней выручки пользователей тарифа \"Ультра\"."
   ]
  },
  {
   "cell_type": "markdown",
   "metadata": {},
   "source": [
    "Посмотрим на выбросы."
   ]
  },
  {
   "cell_type": "code",
   "execution_count": 59,
   "metadata": {},
   "outputs": [
    {
     "data": {
      "text/plain": [
       "Text(0.5, 0.93, 'Boxplot по выручке с whis = 1,5')"
      ]
     },
     "execution_count": 59,
     "metadata": {},
     "output_type": "execute_result"
    },
    {
     "data": {
      "image/png": "[encoded data removed]",
      "text/plain": [
       "<Figure size 576x504 with 1 Axes>"
      ]
     },
     "metadata": {
      "needs_background": "light"
     },
     "output_type": "display_data"
    }
   ],
   "source": [
    "ax = df_event.boxplot(column='Sum_month_rub', by='Tariff', fontsize=12,\n",
    "                                         boxprops=dict(linestyle='-', linewidth=5),\n",
    "                                         medianprops=dict(linestyle='-', linewidth=5),\n",
    "                                         whiskerprops=dict(linestyle='-', linewidth=5),\n",
    "                                         capprops=dict(linestyle='-', linewidth=5),\n",
    "                                         notch=True, figsize=(8,7))\n",
    "ax.set_title('')\n",
    "ax.title.set_size(40)\n",
    "ax.set_xlabel('')\n",
    "plt.suptitle('Boxplot по выручке с whis = 1,5', y=0.93, fontsize=16, fontweight='bold')"
   ]
  },
  {
   "cell_type": "markdown",
   "metadata": {},
   "source": [
    "Расчёт границ интервалов."
   ]
  },
  {
   "cell_type": "code",
   "execution_count": 60,
   "metadata": {},
   "outputs": [
    {
     "name": "stdout",
     "output_type": "stream",
     "text": [
      "Границы интервала для столбца \"Sum_month_rub\" тарифа \"Смарт\": 0.0 - 3550.0\n",
      "Границы интервала для столбца \"Sum_month_rub\" тарифа \"Ультра\": 1950.0 - 1950.0\n"
     ]
    }
   ],
   "source": [
    "revenue_int_smart, revenue_int_ultra = get_intervals('Sum_month_rub', 'Tariff')"
   ]
  },
  {
   "cell_type": "markdown",
   "metadata": {},
   "source": [
    "Посмотрим на среднюю выручку по тарифам \"Смарт\" и \"Ультра\"."
   ]
  },
  {
   "cell_type": "code",
   "execution_count": 61,
   "metadata": {},
   "outputs": [],
   "source": [
    "smart_mean_revenue = df_event[(df_event['Tariff'] == 'smart') &\n",
    "                                      (df_event['Sum_month_rub'] >= revenue_int_smart[0]) &\n",
    "                                      (df_event['Sum_month_rub'] <= revenue_int_smart[1])]['Sum_month_rub']\n",
    "\n",
    "ultra_mean_revenue = df_event[(df_event['Tariff'] == 'ultra') &\n",
    "                                      (df_event['Sum_month_rub'] >= revenue_int_ultra[0]) &\n",
    "                                      (df_event['Sum_month_rub'] <= revenue_int_ultra[1])]['Sum_month_rub']"
   ]
  },
  {
   "cell_type": "code",
   "execution_count": 62,
   "metadata": {},
   "outputs": [
    {
     "data": {
      "text/plain": [
       "8       1150\n",
       "9        550\n",
       "10       550\n",
       "11      1150\n",
       "12      1550\n",
       "        ... \n",
       "3209    1750\n",
       "3210     550\n",
       "3211    1150\n",
       "3212    1513\n",
       "3213     598\n",
       "Name: Sum_month_rub, Length: 2198, dtype: int64"
      ]
     },
     "execution_count": 62,
     "metadata": {},
     "output_type": "execute_result"
    }
   ],
   "source": [
    "smart_mean_revenue"
   ]
  },
  {
   "cell_type": "code",
   "execution_count": 63,
   "metadata": {},
   "outputs": [
    {
     "data": {
      "text/plain": [
       "0       1950\n",
       "1       1950\n",
       "2       1950\n",
       "3       1950\n",
       "4       1950\n",
       "        ... \n",
       "3171    1950\n",
       "3179    1950\n",
       "3186    1950\n",
       "3188    1950\n",
       "3190    1950\n",
       "Name: Sum_month_rub, Length: 851, dtype: int64"
      ]
     },
     "execution_count": 63,
     "metadata": {},
     "output_type": "execute_result"
    }
   ],
   "source": [
    "ultra_mean_revenue"
   ]
  },
  {
   "cell_type": "markdown",
   "metadata": {},
   "source": [
    "Расчитаем p-value. Выборки у нас независимые, так что используем ttest_ind."
   ]
  },
  {
   "cell_type": "code",
   "execution_count": 64,
   "metadata": {},
   "outputs": [],
   "source": [
    "from scipy.stats import ttest_ind"
   ]
  },
  {
   "cell_type": "code",
   "execution_count": 65,
   "metadata": {},
   "outputs": [
    {
     "name": "stdout",
     "output_type": "stream",
     "text": [
      "t = -28.118667186869267\n",
      "p-value = 7.1933865458e-155\n",
      "\n",
      "Пороговое значение alpha = 0.05\n"
     ]
    }
   ],
   "source": [
    "stat, p = ttest_ind(smart_mean_revenue, ultra_mean_revenue)\n",
    "print('t = {}\\np-value = {:.10e}'.format(stat, p))\n",
    "print('\\nПороговое значение alpha = 0.05')"
   ]
  },
  {
   "cell_type": "markdown",
   "metadata": {},
   "source": [
    "## Итоги"
   ]
  },
  {
   "cell_type": "markdown",
   "metadata": {},
   "source": [
    "1. p-value - вероятность ошибочного отклонения верной гипотезы. Чем меньше p-value, тем лучше. Для бизнеса мы правильно указали альфа - 0.05 (для других сфер меньше, например, медицина - 0.0001). p-value здесь меньше (e-176 = умножаем 10 в минус 176 степени). Таким образом, нулевую гипотезу отклоняем и <b>средняя выручка пользователей тарифа \"Смарт\" отличается от средней выручки пользователей тарифа \"Ультра\"</b>.\n",
    "2. <b>Средняя выручка по тарифу \"Ультра\" больше</b>."
   ]
  },
  {
   "cell_type": "markdown",
   "metadata": {},
   "source": [
    "\n",
    "<div class=\"alert alert-success\">\n",
    "    \n",
    "<b> Комментарий от ревьюера</b>\n",
    "    \n",
    "Ты правильно сформулировал и проверил гипотезу\n",
    "</div>"
   ]
  },
  {
   "cell_type": "code",
   "execution_count": 66,
   "metadata": {},
   "outputs": [
    {
     "name": "stdout",
     "output_type": "stream",
     "text": [
      "Средняя выручка по пользователям тарифа \"Смарт\" - 1246.16\n",
      "Средняя выручка по пользователям тарифа \"Ультра\" - 1950.0\n"
     ]
    }
   ],
   "source": [
    "print('Средняя выручка по пользователям тарифа \"Смарт\" - {:.2f}'.format(smart_mean_revenue.mean()))\n",
    "print('Средняя выручка по пользователям тарифа \"Ультра\" - {}'.format(ultra_mean_revenue.mean()))"
   ]
  },
  {
   "cell_type": "markdown",
   "metadata": {},
   "source": [
    "Ожидаемо, что <b>выручка \"Ультры\" больше - на то она и дороже</b>. Хотя пользователи \"Смарта\", как мы поняли, регулярно заказывают дополнительные услуги, так как не укладываются в тариф."
   ]
  },
  {
   "cell_type": "markdown",
   "metadata": {},
   "source": [
    "Но как дела у окраины? Отличается ли от Москвы или нет? Добавим признак \"Москвы\"."
   ]
  },
  {
   "cell_type": "code",
   "execution_count": 67,
   "metadata": {},
   "outputs": [],
   "source": [
    "df_event['is_Moscow'] = np.where(df_event['City'] == 'Москва', 1, 0)"
   ]
  },
  {
   "cell_type": "code",
   "execution_count": 68,
   "metadata": {},
   "outputs": [
    {
     "data": {
      "text/html": [
       "<div>\n",
       "<style scoped>\n",
       "    .dataframe tbody tr th:only-of-type {\n",
       "        vertical-align: middle;\n",
       "    }\n",
       "\n",
       "    .dataframe tbody tr th {\n",
       "        vertical-align: top;\n",
       "    }\n",
       "\n",
       "    .dataframe thead th {\n",
       "        text-align: right;\n",
       "    }\n",
       "</style>\n",
       "<table border=\"1\" class=\"dataframe\">\n",
       "  <thead>\n",
       "    <tr style=\"text-align: right;\">\n",
       "      <th></th>\n",
       "      <th>Num_user</th>\n",
       "      <th>Month</th>\n",
       "      <th>Number_of_calls</th>\n",
       "      <th>Calls_min</th>\n",
       "      <th>Sms_num</th>\n",
       "      <th>Internet_mb</th>\n",
       "      <th>Tariff</th>\n",
       "      <th>City</th>\n",
       "      <th>Abonent_rub</th>\n",
       "      <th>Minuts_up</th>\n",
       "      <th>Sms_up</th>\n",
       "      <th>Mb_up</th>\n",
       "      <th>Pay_over_limit_rub</th>\n",
       "      <th>Sum_month_rub</th>\n",
       "      <th>is_Moscow</th>\n",
       "    </tr>\n",
       "  </thead>\n",
       "  <tbody>\n",
       "    <tr>\n",
       "      <td>0</td>\n",
       "      <td>1000</td>\n",
       "      <td>5</td>\n",
       "      <td>17.0</td>\n",
       "      <td>159.0</td>\n",
       "      <td>22.0</td>\n",
       "      <td>2253.0</td>\n",
       "      <td>ultra</td>\n",
       "      <td>Краснодар</td>\n",
       "      <td>1950</td>\n",
       "      <td>0.0</td>\n",
       "      <td>0</td>\n",
       "      <td>0.0</td>\n",
       "      <td>0</td>\n",
       "      <td>1950</td>\n",
       "      <td>0</td>\n",
       "    </tr>\n",
       "    <tr>\n",
       "      <td>1</td>\n",
       "      <td>1000</td>\n",
       "      <td>6</td>\n",
       "      <td>28.0</td>\n",
       "      <td>172.0</td>\n",
       "      <td>60.0</td>\n",
       "      <td>23232.0</td>\n",
       "      <td>ultra</td>\n",
       "      <td>Краснодар</td>\n",
       "      <td>1950</td>\n",
       "      <td>0.0</td>\n",
       "      <td>0</td>\n",
       "      <td>0.0</td>\n",
       "      <td>0</td>\n",
       "      <td>1950</td>\n",
       "      <td>0</td>\n",
       "    </tr>\n",
       "    <tr>\n",
       "      <td>2</td>\n",
       "      <td>1000</td>\n",
       "      <td>7</td>\n",
       "      <td>41.0</td>\n",
       "      <td>340.0</td>\n",
       "      <td>75.0</td>\n",
       "      <td>14004.0</td>\n",
       "      <td>ultra</td>\n",
       "      <td>Краснодар</td>\n",
       "      <td>1950</td>\n",
       "      <td>0.0</td>\n",
       "      <td>0</td>\n",
       "      <td>0.0</td>\n",
       "      <td>0</td>\n",
       "      <td>1950</td>\n",
       "      <td>0</td>\n",
       "    </tr>\n",
       "    <tr>\n",
       "      <td>3</td>\n",
       "      <td>1000</td>\n",
       "      <td>8</td>\n",
       "      <td>42.0</td>\n",
       "      <td>408.0</td>\n",
       "      <td>81.0</td>\n",
       "      <td>14054.0</td>\n",
       "      <td>ultra</td>\n",
       "      <td>Краснодар</td>\n",
       "      <td>1950</td>\n",
       "      <td>0.0</td>\n",
       "      <td>0</td>\n",
       "      <td>0.0</td>\n",
       "      <td>0</td>\n",
       "      <td>1950</td>\n",
       "      <td>0</td>\n",
       "    </tr>\n",
       "    <tr>\n",
       "      <td>4</td>\n",
       "      <td>1000</td>\n",
       "      <td>9</td>\n",
       "      <td>46.0</td>\n",
       "      <td>466.0</td>\n",
       "      <td>57.0</td>\n",
       "      <td>14569.0</td>\n",
       "      <td>ultra</td>\n",
       "      <td>Краснодар</td>\n",
       "      <td>1950</td>\n",
       "      <td>0.0</td>\n",
       "      <td>0</td>\n",
       "      <td>0.0</td>\n",
       "      <td>0</td>\n",
       "      <td>1950</td>\n",
       "      <td>0</td>\n",
       "    </tr>\n",
       "  </tbody>\n",
       "</table>\n",
       "</div>"
      ],
      "text/plain": [
       "   Num_user  Month  Number_of_calls  Calls_min  Sms_num  Internet_mb Tariff  \\\n",
       "0      1000      5             17.0      159.0     22.0       2253.0  ultra   \n",
       "1      1000      6             28.0      172.0     60.0      23232.0  ultra   \n",
       "2      1000      7             41.0      340.0     75.0      14004.0  ultra   \n",
       "3      1000      8             42.0      408.0     81.0      14054.0  ultra   \n",
       "4      1000      9             46.0      466.0     57.0      14569.0  ultra   \n",
       "\n",
       "        City  Abonent_rub  Minuts_up  Sms_up  Mb_up  Pay_over_limit_rub  \\\n",
       "0  Краснодар         1950        0.0       0    0.0                   0   \n",
       "1  Краснодар         1950        0.0       0    0.0                   0   \n",
       "2  Краснодар         1950        0.0       0    0.0                   0   \n",
       "3  Краснодар         1950        0.0       0    0.0                   0   \n",
       "4  Краснодар         1950        0.0       0    0.0                   0   \n",
       "\n",
       "   Sum_month_rub  is_Moscow  \n",
       "0           1950          0  \n",
       "1           1950          0  \n",
       "2           1950          0  \n",
       "3           1950          0  \n",
       "4           1950          0  "
      ]
     },
     "execution_count": 68,
     "metadata": {},
     "output_type": "execute_result"
    }
   ],
   "source": [
    "df_event.head()"
   ]
  },
  {
   "cell_type": "markdown",
   "metadata": {},
   "source": [
    "Снова выдвинем две гипотезы. <b>H0</b> (нулевая гипотеза) - предположение о том, что средняя выручка пользователей из Москвы не отличается от выручки пользователей из других регионов. <b>H1</b> (альтернативная гипотеза) - средняя выручка пользователей из Москвы отличается от выручки пользователей из других регионов."
   ]
  },
  {
   "cell_type": "markdown",
   "metadata": {},
   "source": [
    "<div class=\"alert alert-danger\">\n",
    "    \n",
    "<b> Комментарий от ревьюера</b>\n",
    "    \n",
    "В нулевой гипотезе мы всегда говорим о равенстве средних значений выборок, а в альтернативной об их различие.\n",
    "    \n",
    "Измени, пожалуйста, формулировку гипотез\n",
    "</div>\n",
    "\n"
   ]
  },
  {
   "cell_type": "markdown",
   "metadata": {},
   "source": [
    "<div class=\"alert alert-info\">\n",
    "    \n",
    "Исправлено.\n",
    "</div>"
   ]
  },
  {
   "cell_type": "markdown",
   "metadata": {},
   "source": [
    "\n",
    "<div class=\"alert alert-success\">\n",
    "    \n",
    "<b> Комментарий от ревьюера 2</b>\n",
    "\n",
    "Все верно\n",
    "\n",
    "</div>\n"
   ]
  },
  {
   "cell_type": "markdown",
   "metadata": {},
   "source": [
    "Далее, нам необходимо построить боксплот."
   ]
  },
  {
   "cell_type": "code",
   "execution_count": 69,
   "metadata": {},
   "outputs": [
    {
     "data": {
      "image/png": "[encoded data removed]",
      "text/plain": [
       "<Figure size 576x504 with 1 Axes>"
      ]
     },
     "metadata": {
      "needs_background": "light"
     },
     "output_type": "display_data"
    }
   ],
   "source": [
    "ax = df_event.boxplot(column='Sum_month_rub', by='is_Moscow', fontsize=12,\n",
    "                                         boxprops=dict(linestyle='-', linewidth=5),\n",
    "                                         medianprops=dict(linestyle='-', linewidth=5),\n",
    "                                         whiskerprops=dict(linestyle='-', linewidth=5),\n",
    "                                         capprops=dict(linestyle='-', linewidth=5),\n",
    "                                         notch=True, figsize=(8,7))\n",
    "\n",
    "\n",
    "\n",
    "labels = [item.get_text() for item in ax.get_xticklabels()]\n",
    "\n",
    "labels[0] = 'Регионы'\n",
    "labels[1] = 'Москва'\n",
    "\n",
    "ax.set_xticklabels(labels)\n",
    "\n",
    "plt.suptitle('Boxplot по выручке в Москве и регионах с whis = 1,5', y=0.95, fontsize=16, fontweight='bold')\n",
    "\n",
    "ax.set_xlabel('')\n",
    "ax.set_title('')\n",
    "ax.title.set_size(40)"
   ]
  },
  {
   "cell_type": "markdown",
   "metadata": {},
   "source": [
    "Рассчитаем границы интервалов:"
   ]
  },
  {
   "cell_type": "code",
   "execution_count": 70,
   "metadata": {},
   "outputs": [
    {
     "name": "stdout",
     "output_type": "stream",
     "text": [
      "Границы интервала для столбца \"Sum_month_rub\" для регионов: 550.0 - 3750.0\n",
      "Границы интервала для столбца \"Sum_month_rub\" для Москвы: 550.0 - 3704.25\n"
     ]
    }
   ],
   "source": [
    "revenue_int_smart, revenue_int_ultra = get_intervals('Sum_month_rub', 'is_Moscow')"
   ]
  },
  {
   "cell_type": "markdown",
   "metadata": {},
   "source": [
    "Произведём расчёт по Москве и регионам."
   ]
  },
  {
   "cell_type": "code",
   "execution_count": 71,
   "metadata": {},
   "outputs": [],
   "source": [
    "moscow_revenue = df_event[(df_event['City'] == 'Москва') &\n",
    "                                  (df_event['Sum_month_rub'] >= revenue_int_smart[0]) &\n",
    "                                  (df_event['Sum_month_rub'] <= revenue_int_smart[1])]['Sum_month_rub']\n",
    "\n",
    "regions_revenue = df_event[(df_event['City'] != 'Москва') &\n",
    "                                  (df_event['Sum_month_rub'] >= revenue_int_ultra[0]) &\n",
    "                                  (df_event['Sum_month_rub'] <= revenue_int_ultra[1])]['Sum_month_rub']"
   ]
  },
  {
   "cell_type": "markdown",
   "metadata": {},
   "source": [
    "Снова расчитаем p-value тем же способом."
   ]
  },
  {
   "cell_type": "code",
   "execution_count": 72,
   "metadata": {},
   "outputs": [
    {
     "name": "stdout",
     "output_type": "stream",
     "text": [
      "t = 1.4424034154413472\n",
      "p-value = 0.15\n",
      "\n",
      "Пороговое значение alpha = 0.05\n"
     ]
    }
   ],
   "source": [
    "stat, p = ttest_ind(moscow_revenue, regions_revenue)\n",
    "print('t = {}\\np-value = {:.2}'.format(stat, p))\n",
    "print('\\nПороговое значение alpha = 0.05')"
   ]
  },
  {
   "cell_type": "markdown",
   "metadata": {},
   "source": [
    "Итог. p-value больше alpha.\n",
    "Верно утверждение, что <b>средняя выручка пользователей из Москвы не отличается от выручки пользователей из других регионов</b>."
   ]
  },
  {
   "cell_type": "markdown",
   "metadata": {},
   "source": [
    "## Общий вывод"
   ]
  },
  {
   "cell_type": "markdown",
   "metadata": {},
   "source": [
    "Для подготовки общего вывода нам нужно собрать данные по всем средним используемых пакетов услуг."
   ]
  },
  {
   "cell_type": "code",
   "execution_count": 73,
   "metadata": {},
   "outputs": [
    {
     "name": "stdout",
     "output_type": "stream",
     "text": [
      "Средний процент использования пакета интернет-трафика по тарифу \"Смарт\" - 105.52% = 16,208 Гб\n",
      "Средний процент использования пакета минут по тарифу \"Смарт\" - 83.59% = 417.93 мин\n",
      "Средний процент использования пакета СМС по тарифу \"Смарт\" - 66.77% = 33 шт.\n",
      "---------------------------------------------------------------------------------\n",
      "Средний процент использования пакета интернет-трафика по тарифу \"Ультра\" - 63.38% = 19,469 Гб\n",
      "Средний процент использования пакета минут по тарифу \"Ультра\" - 17.55% = 526.62 мин\n",
      "Средний процент использования пакета СМС по тарифу \"Ультра\" - 4.94% = 49 шт.\n"
     ]
    }
   ],
   "source": [
    "smart_mean_internet = (df_event[(df_event['Tariff'] == 'smart')]['Internet_mb']/(1024 * 15)).mean()\n",
    "print('Средний процент использования пакета интернет-трафика по тарифу \"Смарт\" - {:.2%} = {:,.0f} Гб'.\n",
    "      format(smart_mean_internet, smart_mean_internet * 1024 * 15))\n",
    "smart_mean_calls = (df_event[(df_event['Tariff'] == 'smart')]['Calls_min']/(500)).mean()\n",
    "print('Средний процент использования пакета минут по тарифу \"Смарт\" - {:.2%} = {:.2f} мин'.\n",
    "      format(smart_mean_calls, smart_mean_calls * 500))\n",
    "smart_mean_sms = (df_event[(df_event['Tariff'] == 'smart')]['Sms_num']/(50)).mean()\n",
    "print('Средний процент использования пакета СМС по тарифу \"Смарт\" - {:.2%} = {:.0f} шт.'.\n",
    "      format(smart_mean_sms, smart_mean_sms * 50))\n",
    "print('---------------------------------------------------------------------------------')\n",
    "ultra_mean_internet = (df_event[(df_event['Tariff'] == 'ultra')]['Internet_mb']/(1024 * 30)).mean()\n",
    "print('Средний процент использования пакета интернет-трафика по тарифу \"Ультра\" - {:.2%} = {:,.0f} Гб'.\n",
    "      format(ultra_mean_internet, ultra_mean_internet * 1024 * 30))\n",
    "ultra_mean_calls = (df_event[(df_event['Tariff'] == 'ultra')]['Calls_min']/(3000)).mean()\n",
    "print('Средний процент использования пакета минут по тарифу \"Ультра\" - {:.2%} = {:.2f} мин'.\n",
    "      format(ultra_mean_calls, ultra_mean_calls * 3000))\n",
    "ultra_mean_sms = (df_event[(df_event['Tariff'] == 'ultra')]['Sms_num']/(1000)).mean()\n",
    "print('Средний процент использования пакета СМС по тарифу \"Ультра\" - {:.2%} = {:.0f} шт.'.\n",
    "      format(ultra_mean_sms, ultra_mean_sms * 1000))"
   ]
  },
  {
   "cell_type": "markdown",
   "metadata": {},
   "source": [
    "Также, нужно подготовить информацию по средним превышениям пакетов."
   ]
  },
  {
   "cell_type": "code",
   "execution_count": 74,
   "metadata": {},
   "outputs": [
    {
     "name": "stdout",
     "output_type": "stream",
     "text": [
      "Среднее превышение пакета интернет по тарифу \"Смарт\" - 2756 Мб на сумму - 600 руб.\n",
      "Среднее превышение пакета минут по тарифу \"Смарт\" - 42 мин на сумму - 126 руб.\n",
      "Среднее превышение пакета СМС по тарифу \"Смарт\" - 6 шт. на сумму - 18 руб.\n",
      "----------------------------------------------------------------\n",
      "Среднее превышение пакета интернет по тарифу \"Ультра\" - 750 Мб на сумму - 150 руб.\n",
      "Среднее превышение пакета минут по тарифу \"Ультра\" - 0 мин на сумму - 0 руб.\n",
      "Среднее превышение пакета СМС по тарифу \"Ультра\" - 0 шт. на сумму - 0 руб.\n"
     ]
    }
   ],
   "source": [
    "smart_over_mean_internet = df_event[(df_event['Tariff'] == 'smart')]['Mb_up'].mean()\n",
    "smart_over_mean_internet_rub = np.round(smart_over_mean_internet, -3)/1000 * 200\n",
    "print('Среднее превышение пакета интернет по тарифу \"Смарт\" - {:.0f} Мб на сумму - {:.0f} руб.'.\n",
    "      format(smart_over_mean_internet, smart_over_mean_internet_rub))\n",
    "\n",
    "smart_over_mean_calls = np.ceil(df_event[(df_event['Tariff'] == 'smart')]['Minuts_up'].mean())\n",
    "smart_over_mean_calls_rub = smart_over_mean_calls * 3\n",
    "print('Среднее превышение пакета минут по тарифу \"Смарт\" - {:.0f} мин на сумму - {:.0f} руб.'.\n",
    "      format(smart_over_mean_calls, smart_over_mean_calls_rub))\n",
    "\n",
    "smart_over_mean_sms = np.ceil(df_event[(df_event['Tariff'] == 'smart')]['Sms_up'].mean())\n",
    "smart_over_mean_sms_rub = smart_over_mean_sms * 3\n",
    "print('Среднее превышение пакета СМС по тарифу \"Смарт\" - {:.0f} шт. на сумму - {:.0f} руб.'.\n",
    "      format(smart_over_mean_sms, smart_over_mean_sms_rub))\n",
    "\n",
    "print('----------------------------------------------------------------')\n",
    "\n",
    "ultra_over_mean_internet = df_event[(df_event['Tariff'] == 'ultra')]['Mb_up'].mean()\n",
    "ultra_over_mean_internet_rub = np.round(ultra_over_mean_internet, -3)/1000 * 150\n",
    "print('Среднее превышение пакета интернет по тарифу \"Ультра\" - {:.0f} Мб на сумму - {:.0f} руб.'.\n",
    "      format(ultra_over_mean_internet, ultra_over_mean_internet_rub))\n",
    "\n",
    "ultra_over_mean_calls = np.ceil(df_event[(df_event['Tariff'] == 'ultra')]['Minuts_up'].mean())\n",
    "ultra_over_mean_calls_rub = ultra_over_mean_calls * 3\n",
    "print('Среднее превышение пакета минут по тарифу \"Ультра\" - {:.0f} мин на сумму - {:.0f} руб.'.\n",
    "      format(ultra_over_mean_calls, ultra_over_mean_calls_rub))\n",
    "\n",
    "ultra_over_mean_sms = np.ceil(df_event[(df_event['Tariff'] == 'ultra')]['Sms_up'].mean())\n",
    "ultra_over_mean_sms_rub = ultra_over_mean_sms * 3\n",
    "print('Среднее превышение пакета СМС по тарифу \"Ультра\" - {:.0f} шт. на сумму - {:.0f} руб.'.\n",
    "      format(ultra_over_mean_sms, ultra_over_mean_sms_rub))"
   ]
  },
  {
   "cell_type": "markdown",
   "metadata": {},
   "source": [
    "И информацию по выручке по каждому тарифу. Для наглядности это можно сделать в виде диаграммы."
   ]
  },
  {
   "cell_type": "code",
   "execution_count": 75,
   "metadata": {},
   "outputs": [
    {
     "data": {
      "image/png": "[encoded data removed]",
      "text/plain": [
       "<Figure size 1440x360 with 1 Axes>"
      ]
     },
     "metadata": {},
     "output_type": "display_data"
    }
   ],
   "source": [
    "all_revenue = df_event['Sum_month_rub'].sum()\n",
    "\n",
    "\n",
    "def func_pct(pct):\n",
    "    value = float(pct/100.*all_revenue)\n",
    "    return \"{:.2f}%\\n({:,.0f} руб.)\".format(pct, value)\n",
    "\n",
    "explode = (0.05, 0)  # сектор 'ultra' немного выдвинем\n",
    "\n",
    "axes = df_event.groupby('Tariff')['Sum_month_rub'].sum().plot(kind='pie', subplots=True, fontsize=15,\n",
    "                                                                     use_index=False, shadow=True, explode=explode,\n",
    "                                                                     title = 'Выручка', pctdistance=0.45,\n",
    "                                                                     startangle=20, figsize=(20,5),\n",
    "                                                                     autopct=lambda pct: func_pct(pct))\n",
    "\n",
    "for ax in axes:\n",
    "    ax.legend(['Смарт', 'Ультра'], bbox_to_anchor=(0.87,0.87), framealpha=0.2, prop={'size':12})\n",
    "    ax.set_ylabel('')\n",
    "    \n",
    "ax.title.set_size(40)\n",
    "plt.tight_layout(pad=0)"
   ]
  },
  {
   "cell_type": "markdown",
   "metadata": {},
   "source": [
    "Тариф \"Смарт\" приносит 58 процентов выручки. Тариф \"Ультра\" - 42. Однако, число пользователей неравнозначно: у тарифа \"Ультра\" их более, чем в 2 раза меньше. Также, пользователи тарифа \"Смарт\" формируют выручку за счёт заказа дополнительных услуг интернета, которые входят в тариф с объёмом 15 Гб. В тарифе \"Ультра\" трафика предостаточно."
   ]
  },
  {
   "cell_type": "markdown",
   "metadata": {},
   "source": [
    "Возможно, \"Мегалайну\" нужно создать тариф с промежуточными показателями между \"Смарт\" и \"Ультра\". Учитывая то, что средний пользователь тарифа дозаказывает 2 Гб на 400 рублей, т.е. платит в итоге 550 + 400 = 950 рублей за месяц, это значит, что эти деньги клиент готов тратить в месяц в качестве абонентской платы."
   ]
  },
  {
   "cell_type": "markdown",
   "metadata": {},
   "source": [
    "\n",
    "<div class=\"alert alert-success\">\n",
    "    \n",
    "<b> Комментарий от ревьюера</b>\n",
    "    \n",
    "Отличный вывод\n",
    "</div>"
   ]
  },
  {
   "cell_type": "markdown",
   "metadata": {},
   "source": [
    "<div class=\"alert alert-success\">\n",
    "    \n",
    "<b> Комментарий от ревьюера</b>\n",
    "    \n",
    "Спасибо за твою работу! Ты хорошо справился с анализом данных и проверкой гипотез. У тебя получились отличные графики и выводы.\n",
    "\n",
    "Осталось немного доработать проект:\n",
    "\n",
    "* изменить способ округления длительности звонков\n",
    "* использовать метод merge для объединения таблиц\n",
    "* исправить названия признаков\n",
    "* исправить формулировку гипотез  о Москве и регионах\n",
    "\n",
    "Жду твои исправления:)\n",
    "\n",
    "</div>"
   ]
  },
  {
   "cell_type": "markdown",
   "metadata": {},
   "source": [
    "<div class=\"alert alert-success\">\n",
    "<b> Комментарий от ревьюера 2</b>\n",
    "\n",
    "Спасибо, что учел мои комментарии. Надеюсь, эта работа была полезна для тебя. Я принимаю твой проект и желаю удачи в прохождении курса!\n",
    "\n",
    "</div>"
   ]
  },
  {
   "cell_type": "code",
   "execution_count": null,
   "metadata": {},
   "outputs": [],
   "source": []
  }
 ],
 "metadata": {
  "ExecuteTimeLog": [
   {
    "duration": 344,
    "start_time": "2021-06-17T10:24:26.007Z"
   },
   {
    "duration": 868,
    "start_time": "2021-06-17T10:25:04.005Z"
   },
   {
    "duration": 1082,
    "start_time": "2021-06-17T10:25:04.875Z"
   },
   {
    "duration": 18,
    "start_time": "2021-06-17T10:26:20.061Z"
   },
   {
    "duration": 9,
    "start_time": "2021-06-17T10:27:23.550Z"
   },
   {
    "duration": 12,
    "start_time": "2021-06-17T10:29:13.074Z"
   },
   {
    "duration": 13,
    "start_time": "2021-06-17T10:40:32.540Z"
   },
   {
    "duration": 29,
    "start_time": "2021-06-17T10:40:42.574Z"
   },
   {
    "duration": 825,
    "start_time": "2021-06-18T12:23:00.496Z"
   },
   {
    "duration": 1952,
    "start_time": "2021-06-18T12:23:01.324Z"
   },
   {
    "duration": 19,
    "start_time": "2021-06-18T12:23:03.279Z"
   },
   {
    "duration": 16,
    "start_time": "2021-06-18T12:23:03.300Z"
   },
   {
    "duration": 18,
    "start_time": "2021-06-18T12:23:03.318Z"
   },
   {
    "duration": 93,
    "start_time": "2021-06-18T12:23:03.339Z"
   },
   {
    "duration": 738,
    "start_time": "2021-06-18T12:23:02.697Z"
   },
   {
    "duration": 738,
    "start_time": "2021-06-18T12:23:02.698Z"
   },
   {
    "duration": 738,
    "start_time": "2021-06-18T12:23:02.700Z"
   },
   {
    "duration": 945,
    "start_time": "2021-06-18T12:23:14.602Z"
   },
   {
    "duration": 1144,
    "start_time": "2021-06-18T12:23:15.550Z"
   },
   {
    "duration": 19,
    "start_time": "2021-06-18T12:23:16.697Z"
   },
   {
    "duration": 12,
    "start_time": "2021-06-18T12:23:16.719Z"
   },
   {
    "duration": 11,
    "start_time": "2021-06-18T12:23:16.734Z"
   },
   {
    "duration": 15,
    "start_time": "2021-06-18T12:23:16.747Z"
   },
   {
    "duration": 32,
    "start_time": "2021-06-18T12:23:16.765Z"
   },
   {
    "duration": 5,
    "start_time": "2021-06-18T12:23:16.800Z"
   },
   {
    "duration": 435,
    "start_time": "2021-06-18T12:24:49.979Z"
   },
   {
    "duration": 27,
    "start_time": "2021-06-18T12:27:33.068Z"
   },
   {
    "duration": 403,
    "start_time": "2021-06-18T12:29:49.402Z"
   },
   {
    "duration": 180,
    "start_time": "2021-06-18T12:30:31.364Z"
   },
   {
    "duration": 168,
    "start_time": "2021-06-18T12:30:48.411Z"
   },
   {
    "duration": 183,
    "start_time": "2021-06-18T12:30:54.647Z"
   },
   {
    "duration": 22,
    "start_time": "2021-06-18T12:31:12.479Z"
   },
   {
    "duration": 13,
    "start_time": "2021-06-18T12:36:31.196Z"
   },
   {
    "duration": 14,
    "start_time": "2021-06-18T12:36:49.324Z"
   },
   {
    "duration": 15,
    "start_time": "2021-06-18T12:38:58.608Z"
   },
   {
    "duration": 14,
    "start_time": "2021-06-18T12:39:25.599Z"
   },
   {
    "duration": 6,
    "start_time": "2021-06-18T12:40:15.457Z"
   },
   {
    "duration": 848,
    "start_time": "2021-06-18T12:41:28.129Z"
   },
   {
    "duration": 842,
    "start_time": "2021-06-18T12:41:28.980Z"
   },
   {
    "duration": 20,
    "start_time": "2021-06-18T12:41:29.825Z"
   },
   {
    "duration": 11,
    "start_time": "2021-06-18T12:41:29.848Z"
   },
   {
    "duration": 15,
    "start_time": "2021-06-18T12:41:29.862Z"
   },
   {
    "duration": 17,
    "start_time": "2021-06-18T12:41:29.879Z"
   },
   {
    "duration": 27,
    "start_time": "2021-06-18T12:41:29.899Z"
   },
   {
    "duration": 6,
    "start_time": "2021-06-18T12:41:29.928Z"
   },
   {
    "duration": 450,
    "start_time": "2021-06-18T12:41:29.956Z"
   },
   {
    "duration": 27,
    "start_time": "2021-06-18T12:41:30.409Z"
   },
   {
    "duration": 29,
    "start_time": "2021-06-18T12:41:30.438Z"
   },
   {
    "duration": 5,
    "start_time": "2021-06-18T12:41:30.470Z"
   },
   {
    "duration": 6,
    "start_time": "2021-06-18T12:41:46.117Z"
   },
   {
    "duration": 362,
    "start_time": "2021-06-18T12:56:38.262Z"
   },
   {
    "duration": 28,
    "start_time": "2021-06-18T12:56:44.094Z"
   },
   {
    "duration": 26,
    "start_time": "2021-06-18T12:57:15.109Z"
   },
   {
    "duration": 289,
    "start_time": "2021-06-18T12:57:36.277Z"
   },
   {
    "duration": 274,
    "start_time": "2021-06-18T12:57:42.244Z"
   },
   {
    "duration": 25,
    "start_time": "2021-06-18T12:57:46.624Z"
   },
   {
    "duration": 24,
    "start_time": "2021-06-18T12:58:37.262Z"
   },
   {
    "duration": 17,
    "start_time": "2021-06-18T12:59:26.691Z"
   },
   {
    "duration": 25,
    "start_time": "2021-06-18T12:59:32.790Z"
   },
   {
    "duration": 260,
    "start_time": "2021-06-18T13:08:36.975Z"
   },
   {
    "duration": 265,
    "start_time": "2021-06-18T13:09:18.752Z"
   },
   {
    "duration": 99,
    "start_time": "2021-06-18T13:10:45.249Z"
   },
   {
    "duration": 7,
    "start_time": "2021-06-18T13:10:59.845Z"
   },
   {
    "duration": 96,
    "start_time": "2021-06-18T13:11:32.094Z"
   },
   {
    "duration": 274,
    "start_time": "2021-06-18T13:11:38.528Z"
   },
   {
    "duration": 23,
    "start_time": "2021-06-18T13:12:57.770Z"
   },
   {
    "duration": 21,
    "start_time": "2021-06-18T13:13:07.672Z"
   },
   {
    "duration": 282,
    "start_time": "2021-06-18T13:13:38.834Z"
   },
   {
    "duration": 638,
    "start_time": "2021-06-18T13:13:55.019Z"
   },
   {
    "duration": 272,
    "start_time": "2021-06-18T13:15:53.531Z"
   },
   {
    "duration": 6,
    "start_time": "2021-06-18T13:16:56.566Z"
   },
   {
    "duration": 7,
    "start_time": "2021-06-18T13:18:00.645Z"
   },
   {
    "duration": 78,
    "start_time": "2021-06-18T13:19:22.874Z"
   },
   {
    "duration": 17,
    "start_time": "2021-06-18T13:19:30.121Z"
   },
   {
    "duration": 6,
    "start_time": "2021-06-18T13:20:25.870Z"
   },
   {
    "duration": 8,
    "start_time": "2021-06-18T13:20:26.896Z"
   },
   {
    "duration": 9,
    "start_time": "2021-06-18T13:28:38.650Z"
   },
   {
    "duration": 40,
    "start_time": "2021-06-18T13:28:52.921Z"
   },
   {
    "duration": 37,
    "start_time": "2021-06-18T13:31:20.761Z"
   },
   {
    "duration": 35,
    "start_time": "2021-06-18T13:31:27.827Z"
   },
   {
    "duration": 10,
    "start_time": "2021-06-18T13:32:08.195Z"
   },
   {
    "duration": 19,
    "start_time": "2021-06-18T13:32:19.719Z"
   },
   {
    "duration": 12,
    "start_time": "2021-06-18T13:32:50.006Z"
   },
   {
    "duration": 23,
    "start_time": "2021-06-18T13:33:00.070Z"
   },
   {
    "duration": 13,
    "start_time": "2021-06-18T13:37:27.953Z"
   },
   {
    "duration": 769,
    "start_time": "2021-06-18T13:39:27.550Z"
   },
   {
    "duration": 6414,
    "start_time": "2021-06-18T13:39:39.814Z"
   },
   {
    "duration": 14,
    "start_time": "2021-06-18T13:39:57.212Z"
   },
   {
    "duration": 884,
    "start_time": "2021-06-18T13:40:28.853Z"
   },
   {
    "duration": 2804,
    "start_time": "2021-06-18T13:40:29.739Z"
   },
   {
    "duration": 19,
    "start_time": "2021-06-18T13:40:32.547Z"
   },
   {
    "duration": 19,
    "start_time": "2021-06-18T13:40:32.569Z"
   },
   {
    "duration": 29,
    "start_time": "2021-06-18T13:40:32.591Z"
   },
   {
    "duration": 21,
    "start_time": "2021-06-18T13:40:32.623Z"
   },
   {
    "duration": 30,
    "start_time": "2021-06-18T13:40:32.656Z"
   },
   {
    "duration": 5,
    "start_time": "2021-06-18T13:40:32.689Z"
   },
   {
    "duration": 483,
    "start_time": "2021-06-18T13:40:32.698Z"
   },
   {
    "duration": 30,
    "start_time": "2021-06-18T13:40:33.184Z"
   },
   {
    "duration": 47,
    "start_time": "2021-06-18T13:40:33.217Z"
   },
   {
    "duration": 11,
    "start_time": "2021-06-18T13:40:33.267Z"
   },
   {
    "duration": 40,
    "start_time": "2021-06-18T13:40:33.281Z"
   },
   {
    "duration": 41,
    "start_time": "2021-06-18T13:40:33.355Z"
   },
   {
    "duration": 62,
    "start_time": "2021-06-18T13:40:33.398Z"
   },
   {
    "duration": 15,
    "start_time": "2021-06-18T13:40:33.463Z"
   },
   {
    "duration": 12,
    "start_time": "2021-06-18T13:40:33.481Z"
   },
   {
    "duration": 38,
    "start_time": "2021-06-18T13:40:33.496Z"
   },
   {
    "duration": 31,
    "start_time": "2021-06-18T13:40:33.536Z"
   },
   {
    "duration": 41,
    "start_time": "2021-06-18T13:40:33.570Z"
   },
   {
    "duration": 15,
    "start_time": "2021-06-18T13:40:33.614Z"
   },
   {
    "duration": 430,
    "start_time": "2021-06-18T13:43:18.320Z"
   },
   {
    "duration": 20,
    "start_time": "2021-06-18T13:59:55.290Z"
   },
   {
    "duration": 383,
    "start_time": "2021-06-18T14:02:55.662Z"
   },
   {
    "duration": 736,
    "start_time": "2021-06-18T14:04:22.367Z"
   },
   {
    "duration": 338,
    "start_time": "2021-06-18T14:05:29.412Z"
   },
   {
    "duration": 292,
    "start_time": "2021-06-18T14:05:38.888Z"
   },
   {
    "duration": 763,
    "start_time": "2021-06-18T14:05:49.231Z"
   },
   {
    "duration": 287,
    "start_time": "2021-06-18T14:07:02.877Z"
   },
   {
    "duration": 52,
    "start_time": "2021-06-18T14:07:09.595Z"
   },
   {
    "duration": 300,
    "start_time": "2021-06-18T14:08:06.039Z"
   },
   {
    "duration": 295,
    "start_time": "2021-06-18T14:08:56.998Z"
   },
   {
    "duration": 18,
    "start_time": "2021-06-18T14:09:02.549Z"
   },
   {
    "duration": 25,
    "start_time": "2021-06-18T14:10:36.273Z"
   },
   {
    "duration": 1034,
    "start_time": "2021-06-18T14:10:46.365Z"
   },
   {
    "duration": 1294,
    "start_time": "2021-06-18T14:10:47.402Z"
   },
   {
    "duration": 18,
    "start_time": "2021-06-18T14:10:48.699Z"
   },
   {
    "duration": 26,
    "start_time": "2021-06-18T14:10:48.720Z"
   },
   {
    "duration": 27,
    "start_time": "2021-06-18T14:10:48.748Z"
   },
   {
    "duration": 34,
    "start_time": "2021-06-18T14:10:48.778Z"
   },
   {
    "duration": 43,
    "start_time": "2021-06-18T14:10:48.815Z"
   },
   {
    "duration": 9,
    "start_time": "2021-06-18T14:10:48.862Z"
   },
   {
    "duration": 457,
    "start_time": "2021-06-18T14:10:48.875Z"
   },
   {
    "duration": 38,
    "start_time": "2021-06-18T14:10:49.336Z"
   },
   {
    "duration": 22,
    "start_time": "2021-06-18T14:10:49.376Z"
   },
   {
    "duration": 9,
    "start_time": "2021-06-18T14:10:49.401Z"
   },
   {
    "duration": 76,
    "start_time": "2021-06-18T14:10:49.413Z"
   },
   {
    "duration": 67,
    "start_time": "2021-06-18T14:10:49.491Z"
   },
   {
    "duration": 36,
    "start_time": "2021-06-18T14:10:49.561Z"
   },
   {
    "duration": 12,
    "start_time": "2021-06-18T14:10:49.599Z"
   },
   {
    "duration": 46,
    "start_time": "2021-06-18T14:10:49.614Z"
   },
   {
    "duration": 15,
    "start_time": "2021-06-18T14:10:49.663Z"
   },
   {
    "duration": 36,
    "start_time": "2021-06-18T14:10:49.681Z"
   },
   {
    "duration": 19,
    "start_time": "2021-06-18T14:10:49.755Z"
   },
   {
    "duration": 44,
    "start_time": "2021-06-18T14:10:49.777Z"
   },
   {
    "duration": 38,
    "start_time": "2021-06-18T14:10:49.823Z"
   },
   {
    "duration": 443,
    "start_time": "2021-06-18T14:10:49.863Z"
   },
   {
    "duration": 372,
    "start_time": "2021-06-18T14:14:42.715Z"
   },
   {
    "duration": 13,
    "start_time": "2021-06-18T14:14:48.908Z"
   },
   {
    "duration": 13,
    "start_time": "2021-06-18T14:15:32.867Z"
   },
   {
    "duration": 285,
    "start_time": "2021-06-18T14:15:48.872Z"
   },
   {
    "duration": 12,
    "start_time": "2021-06-18T14:15:56.307Z"
   },
   {
    "duration": 15,
    "start_time": "2021-06-18T14:18:28.118Z"
   },
   {
    "duration": 27,
    "start_time": "2021-06-18T14:19:16.789Z"
   },
   {
    "duration": 551,
    "start_time": "2021-06-18T14:19:40.752Z"
   },
   {
    "duration": 13,
    "start_time": "2021-06-18T14:20:59.558Z"
   },
   {
    "duration": 2358,
    "start_time": "2021-06-18T14:22:57.823Z"
   },
   {
    "duration": 14,
    "start_time": "2021-06-18T14:24:31.068Z"
   },
   {
    "duration": 12,
    "start_time": "2021-06-18T14:24:39.580Z"
   },
   {
    "duration": 14,
    "start_time": "2021-06-18T14:24:49.566Z"
   },
   {
    "duration": 1152,
    "start_time": "2021-06-18T16:17:22.044Z"
   },
   {
    "duration": 1263,
    "start_time": "2021-06-18T16:17:23.199Z"
   },
   {
    "duration": 18,
    "start_time": "2021-06-18T16:17:24.465Z"
   },
   {
    "duration": 11,
    "start_time": "2021-06-18T16:17:24.486Z"
   },
   {
    "duration": 15,
    "start_time": "2021-06-18T16:17:24.499Z"
   },
   {
    "duration": 11,
    "start_time": "2021-06-18T16:17:24.517Z"
   },
   {
    "duration": 58,
    "start_time": "2021-06-18T16:17:24.530Z"
   },
   {
    "duration": 5,
    "start_time": "2021-06-18T16:17:24.590Z"
   },
   {
    "duration": 476,
    "start_time": "2021-06-18T16:17:24.599Z"
   },
   {
    "duration": 31,
    "start_time": "2021-06-18T16:17:25.079Z"
   },
   {
    "duration": 50,
    "start_time": "2021-06-18T16:17:25.114Z"
   },
   {
    "duration": 11,
    "start_time": "2021-06-18T16:17:25.167Z"
   },
   {
    "duration": 49,
    "start_time": "2021-06-18T16:17:25.181Z"
   },
   {
    "duration": 63,
    "start_time": "2021-06-18T16:17:25.234Z"
   },
   {
    "duration": 34,
    "start_time": "2021-06-18T16:17:25.299Z"
   },
   {
    "duration": 36,
    "start_time": "2021-06-18T16:17:25.335Z"
   },
   {
    "duration": 17,
    "start_time": "2021-06-18T16:17:25.374Z"
   },
   {
    "duration": 13,
    "start_time": "2021-06-18T16:17:25.394Z"
   },
   {
    "duration": 65,
    "start_time": "2021-06-18T16:17:25.422Z"
   },
   {
    "duration": 16,
    "start_time": "2021-06-18T16:17:25.490Z"
   },
   {
    "duration": 53,
    "start_time": "2021-06-18T16:17:25.509Z"
   },
   {
    "duration": 17,
    "start_time": "2021-06-18T16:17:25.565Z"
   },
   {
    "duration": 462,
    "start_time": "2021-06-18T16:17:25.585Z"
   },
   {
    "duration": 34,
    "start_time": "2021-06-18T16:17:26.049Z"
   },
   {
    "duration": 523,
    "start_time": "2021-06-18T16:17:26.085Z"
   },
   {
    "duration": 12,
    "start_time": "2021-06-18T16:17:26.611Z"
   },
   {
    "duration": 2284,
    "start_time": "2021-06-18T16:17:26.627Z"
   },
   {
    "duration": 14,
    "start_time": "2021-06-18T16:17:28.914Z"
   },
   {
    "duration": 34,
    "start_time": "2021-06-18T16:17:28.931Z"
   },
   {
    "duration": 16,
    "start_time": "2021-06-18T16:17:28.967Z"
   },
   {
    "duration": 112,
    "start_time": "2021-06-18T16:18:41.374Z"
   },
   {
    "duration": 164,
    "start_time": "2021-06-18T16:18:58.149Z"
   },
   {
    "duration": 4,
    "start_time": "2021-06-18T16:20:47.503Z"
   },
   {
    "duration": 20,
    "start_time": "2021-06-18T16:20:58.567Z"
   },
   {
    "duration": 1503,
    "start_time": "2021-06-18T16:23:31.649Z"
   },
   {
    "duration": 27,
    "start_time": "2021-06-18T16:23:33.316Z"
   },
   {
    "duration": 966,
    "start_time": "2021-06-18T16:23:47.320Z"
   },
   {
    "duration": 1971,
    "start_time": "2021-06-18T16:23:48.289Z"
   },
   {
    "duration": 18,
    "start_time": "2021-06-18T16:23:50.263Z"
   },
   {
    "duration": 12,
    "start_time": "2021-06-18T16:23:50.284Z"
   },
   {
    "duration": 17,
    "start_time": "2021-06-18T16:23:50.298Z"
   },
   {
    "duration": 17,
    "start_time": "2021-06-18T16:23:50.318Z"
   },
   {
    "duration": 28,
    "start_time": "2021-06-18T16:23:50.363Z"
   },
   {
    "duration": 5,
    "start_time": "2021-06-18T16:23:50.394Z"
   },
   {
    "duration": 470,
    "start_time": "2021-06-18T16:23:50.403Z"
   },
   {
    "duration": 28,
    "start_time": "2021-06-18T16:23:50.876Z"
   },
   {
    "duration": 19,
    "start_time": "2021-06-18T16:23:50.906Z"
   },
   {
    "duration": 36,
    "start_time": "2021-06-18T16:23:50.927Z"
   },
   {
    "duration": 39,
    "start_time": "2021-06-18T16:23:50.965Z"
   },
   {
    "duration": 58,
    "start_time": "2021-06-18T16:23:51.006Z"
   },
   {
    "duration": 35,
    "start_time": "2021-06-18T16:23:51.067Z"
   },
   {
    "duration": 11,
    "start_time": "2021-06-18T16:23:51.104Z"
   },
   {
    "duration": 45,
    "start_time": "2021-06-18T16:23:51.118Z"
   },
   {
    "duration": 11,
    "start_time": "2021-06-18T16:23:51.165Z"
   },
   {
    "duration": 36,
    "start_time": "2021-06-18T16:23:51.179Z"
   },
   {
    "duration": 17,
    "start_time": "2021-06-18T16:23:51.218Z"
   },
   {
    "duration": 35,
    "start_time": "2021-06-18T16:23:51.262Z"
   },
   {
    "duration": 17,
    "start_time": "2021-06-18T16:23:51.300Z"
   },
   {
    "duration": 678,
    "start_time": "2021-06-18T16:23:51.320Z"
   },
   {
    "duration": 36,
    "start_time": "2021-06-18T16:23:52.001Z"
   },
   {
    "duration": 795,
    "start_time": "2021-06-18T16:23:52.040Z"
   },
   {
    "duration": 26,
    "start_time": "2021-06-18T16:23:52.838Z"
   },
   {
    "duration": 3763,
    "start_time": "2021-06-18T16:23:52.872Z"
   },
   {
    "duration": 26,
    "start_time": "2021-06-18T16:23:56.638Z"
   },
   {
    "duration": 14,
    "start_time": "2021-06-18T16:23:56.667Z"
   },
   {
    "duration": 20,
    "start_time": "2021-06-18T16:23:56.684Z"
   },
   {
    "duration": 548,
    "start_time": "2021-06-18T16:23:56.706Z"
   },
   {
    "duration": 2010,
    "start_time": "2021-06-18T16:23:55.246Z"
   },
   {
    "duration": 2011,
    "start_time": "2021-06-18T16:23:55.247Z"
   },
   {
    "duration": 1195,
    "start_time": "2021-06-18T16:24:35.216Z"
   },
   {
    "duration": 2036,
    "start_time": "2021-06-18T16:24:36.414Z"
   },
   {
    "duration": 19,
    "start_time": "2021-06-18T16:24:38.454Z"
   },
   {
    "duration": 9,
    "start_time": "2021-06-18T16:24:38.476Z"
   },
   {
    "duration": 12,
    "start_time": "2021-06-18T16:24:38.487Z"
   },
   {
    "duration": 28,
    "start_time": "2021-06-18T16:24:38.501Z"
   },
   {
    "duration": 46,
    "start_time": "2021-06-18T16:24:38.531Z"
   },
   {
    "duration": 4,
    "start_time": "2021-06-18T16:24:38.580Z"
   },
   {
    "duration": 553,
    "start_time": "2021-06-18T16:24:38.588Z"
   },
   {
    "duration": 35,
    "start_time": "2021-06-18T16:24:39.143Z"
   },
   {
    "duration": 20,
    "start_time": "2021-06-18T16:24:39.180Z"
   },
   {
    "duration": 7,
    "start_time": "2021-06-18T16:24:39.203Z"
   },
   {
    "duration": 68,
    "start_time": "2021-06-18T16:24:39.212Z"
   },
   {
    "duration": 38,
    "start_time": "2021-06-18T16:24:39.282Z"
   },
   {
    "duration": 57,
    "start_time": "2021-06-18T16:24:39.322Z"
   },
   {
    "duration": 11,
    "start_time": "2021-06-18T16:24:39.382Z"
   },
   {
    "duration": 22,
    "start_time": "2021-06-18T16:24:39.396Z"
   },
   {
    "duration": 10,
    "start_time": "2021-06-18T16:24:39.421Z"
   },
   {
    "duration": 46,
    "start_time": "2021-06-18T16:24:39.433Z"
   },
   {
    "duration": 13,
    "start_time": "2021-06-18T16:24:39.482Z"
   },
   {
    "duration": 35,
    "start_time": "2021-06-18T16:24:39.498Z"
   },
   {
    "duration": 39,
    "start_time": "2021-06-18T16:24:39.535Z"
   },
   {
    "duration": 450,
    "start_time": "2021-06-18T16:24:39.576Z"
   },
   {
    "duration": 42,
    "start_time": "2021-06-18T16:24:40.029Z"
   },
   {
    "duration": 519,
    "start_time": "2021-06-18T16:24:40.073Z"
   },
   {
    "duration": 12,
    "start_time": "2021-06-18T16:24:40.594Z"
   },
   {
    "duration": 2391,
    "start_time": "2021-06-18T16:24:40.610Z"
   },
   {
    "duration": 15,
    "start_time": "2021-06-18T16:24:43.005Z"
   },
   {
    "duration": 41,
    "start_time": "2021-06-18T16:24:43.023Z"
   },
   {
    "duration": 23,
    "start_time": "2021-06-18T16:24:43.067Z"
   },
   {
    "duration": 133,
    "start_time": "2021-06-18T16:24:43.093Z"
   },
   {
    "duration": 1549,
    "start_time": "2021-06-18T16:24:43.229Z"
   },
   {
    "duration": 1994,
    "start_time": "2021-06-18T16:24:42.788Z"
   },
   {
    "duration": 1263,
    "start_time": "2021-06-18T16:24:47.055Z"
   },
   {
    "duration": 1238,
    "start_time": "2021-06-18T16:25:11.469Z"
   },
   {
    "duration": 391,
    "start_time": "2021-06-18T16:25:52.455Z"
   },
   {
    "duration": 878,
    "start_time": "2021-06-18T16:26:03.071Z"
   },
   {
    "duration": 901,
    "start_time": "2021-06-18T16:26:03.952Z"
   },
   {
    "duration": 20,
    "start_time": "2021-06-18T16:26:04.856Z"
   },
   {
    "duration": 10,
    "start_time": "2021-06-18T16:26:04.879Z"
   },
   {
    "duration": 14,
    "start_time": "2021-06-18T16:26:04.892Z"
   },
   {
    "duration": 14,
    "start_time": "2021-06-18T16:26:04.908Z"
   },
   {
    "duration": 60,
    "start_time": "2021-06-18T16:26:04.924Z"
   },
   {
    "duration": 5,
    "start_time": "2021-06-18T16:26:04.987Z"
   },
   {
    "duration": 465,
    "start_time": "2021-06-18T16:26:04.996Z"
   },
   {
    "duration": 27,
    "start_time": "2021-06-18T16:26:05.465Z"
   },
   {
    "duration": 21,
    "start_time": "2021-06-18T16:26:05.495Z"
   },
   {
    "duration": 10,
    "start_time": "2021-06-18T16:26:05.518Z"
   },
   {
    "duration": 68,
    "start_time": "2021-06-18T16:26:05.530Z"
   },
   {
    "duration": 37,
    "start_time": "2021-06-18T16:26:05.600Z"
   },
   {
    "duration": 57,
    "start_time": "2021-06-18T16:26:05.640Z"
   },
   {
    "duration": 12,
    "start_time": "2021-06-18T16:26:05.700Z"
   },
   {
    "duration": 18,
    "start_time": "2021-06-18T16:26:05.715Z"
   },
   {
    "duration": 35,
    "start_time": "2021-06-18T16:26:05.736Z"
   },
   {
    "duration": 26,
    "start_time": "2021-06-18T16:26:05.774Z"
   },
   {
    "duration": 17,
    "start_time": "2021-06-18T16:26:05.804Z"
   },
   {
    "duration": 61,
    "start_time": "2021-06-18T16:26:05.823Z"
   },
   {
    "duration": 13,
    "start_time": "2021-06-18T16:26:05.886Z"
   },
   {
    "duration": 461,
    "start_time": "2021-06-18T16:26:05.901Z"
   },
   {
    "duration": 25,
    "start_time": "2021-06-18T16:26:06.364Z"
   },
   {
    "duration": 533,
    "start_time": "2021-06-18T16:26:06.391Z"
   },
   {
    "duration": 17,
    "start_time": "2021-06-18T16:26:06.927Z"
   },
   {
    "duration": 4115,
    "start_time": "2021-06-18T16:26:06.967Z"
   },
   {
    "duration": 19,
    "start_time": "2021-06-18T16:26:11.085Z"
   },
   {
    "duration": 23,
    "start_time": "2021-06-18T16:26:11.107Z"
   },
   {
    "duration": 38,
    "start_time": "2021-06-18T16:26:11.132Z"
   },
   {
    "duration": 124,
    "start_time": "2021-06-18T16:26:11.172Z"
   },
   {
    "duration": 1345,
    "start_time": "2021-06-18T16:26:11.298Z"
   },
   {
    "duration": 1990,
    "start_time": "2021-06-18T16:26:10.655Z"
   },
   {
    "duration": 317,
    "start_time": "2021-06-18T16:27:22.753Z"
   },
   {
    "duration": 311,
    "start_time": "2021-06-18T16:27:40.234Z"
   },
   {
    "duration": 25,
    "start_time": "2021-06-18T16:27:47.860Z"
   },
   {
    "duration": 1340,
    "start_time": "2021-06-18T16:27:54.620Z"
   },
   {
    "duration": 4,
    "start_time": "2021-06-18T16:28:53.369Z"
   },
   {
    "duration": 355,
    "start_time": "2021-06-18T16:29:00.214Z"
   },
   {
    "duration": 931,
    "start_time": "2021-06-18T16:29:08.533Z"
   },
   {
    "duration": 1969,
    "start_time": "2021-06-18T16:29:09.466Z"
   },
   {
    "duration": 19,
    "start_time": "2021-06-18T16:29:11.438Z"
   },
   {
    "duration": 18,
    "start_time": "2021-06-18T16:29:11.460Z"
   },
   {
    "duration": 15,
    "start_time": "2021-06-18T16:29:11.481Z"
   },
   {
    "duration": 16,
    "start_time": "2021-06-18T16:29:11.498Z"
   },
   {
    "duration": 45,
    "start_time": "2021-06-18T16:29:11.516Z"
   },
   {
    "duration": 4,
    "start_time": "2021-06-18T16:29:11.564Z"
   },
   {
    "duration": 462,
    "start_time": "2021-06-18T16:29:11.572Z"
   },
   {
    "duration": 36,
    "start_time": "2021-06-18T16:29:12.037Z"
   },
   {
    "duration": 20,
    "start_time": "2021-06-18T16:29:12.076Z"
   },
   {
    "duration": 8,
    "start_time": "2021-06-18T16:29:12.099Z"
   },
   {
    "duration": 72,
    "start_time": "2021-06-18T16:29:12.110Z"
   },
   {
    "duration": 38,
    "start_time": "2021-06-18T16:29:12.184Z"
   },
   {
    "duration": 56,
    "start_time": "2021-06-18T16:29:12.224Z"
   },
   {
    "duration": 12,
    "start_time": "2021-06-18T16:29:12.282Z"
   },
   {
    "duration": 18,
    "start_time": "2021-06-18T16:29:12.296Z"
   },
   {
    "duration": 10,
    "start_time": "2021-06-18T16:29:12.317Z"
   },
   {
    "duration": 48,
    "start_time": "2021-06-18T16:29:12.329Z"
   },
   {
    "duration": 13,
    "start_time": "2021-06-18T16:29:12.379Z"
   },
   {
    "duration": 24,
    "start_time": "2021-06-18T16:29:12.395Z"
   },
   {
    "duration": 51,
    "start_time": "2021-06-18T16:29:12.422Z"
   },
   {
    "duration": 454,
    "start_time": "2021-06-18T16:29:12.476Z"
   },
   {
    "duration": 37,
    "start_time": "2021-06-18T16:29:12.932Z"
   },
   {
    "duration": 521,
    "start_time": "2021-06-18T16:29:12.972Z"
   },
   {
    "duration": 12,
    "start_time": "2021-06-18T16:29:13.495Z"
   },
   {
    "duration": 2241,
    "start_time": "2021-06-18T16:29:13.511Z"
   },
   {
    "duration": 17,
    "start_time": "2021-06-18T16:29:15.754Z"
   },
   {
    "duration": 19,
    "start_time": "2021-06-18T16:29:15.773Z"
   },
   {
    "duration": 16,
    "start_time": "2021-06-18T16:29:15.794Z"
   },
   {
    "duration": 139,
    "start_time": "2021-06-18T16:29:15.812Z"
   },
   {
    "duration": 28,
    "start_time": "2021-06-18T16:29:15.953Z"
   },
   {
    "duration": 3,
    "start_time": "2021-06-18T16:29:15.984Z"
   },
   {
    "duration": 425,
    "start_time": "2021-06-18T16:29:15.990Z"
   },
   {
    "duration": 4,
    "start_time": "2021-06-18T16:29:26.027Z"
   },
   {
    "duration": 908,
    "start_time": "2021-06-18T16:29:33.683Z"
   },
   {
    "duration": 845,
    "start_time": "2021-06-18T16:29:34.594Z"
   },
   {
    "duration": 21,
    "start_time": "2021-06-18T16:29:35.443Z"
   },
   {
    "duration": 10,
    "start_time": "2021-06-18T16:29:35.467Z"
   },
   {
    "duration": 11,
    "start_time": "2021-06-18T16:29:35.479Z"
   },
   {
    "duration": 12,
    "start_time": "2021-06-18T16:29:35.492Z"
   },
   {
    "duration": 72,
    "start_time": "2021-06-18T16:29:35.506Z"
   },
   {
    "duration": 4,
    "start_time": "2021-06-18T16:29:35.581Z"
   },
   {
    "duration": 467,
    "start_time": "2021-06-18T16:29:35.590Z"
   },
   {
    "duration": 27,
    "start_time": "2021-06-18T16:29:36.063Z"
   },
   {
    "duration": 19,
    "start_time": "2021-06-18T16:29:36.093Z"
   },
   {
    "duration": 19,
    "start_time": "2021-06-18T16:29:36.114Z"
   },
   {
    "duration": 62,
    "start_time": "2021-06-18T16:29:36.136Z"
   },
   {
    "duration": 39,
    "start_time": "2021-06-18T16:29:36.200Z"
   },
   {
    "duration": 37,
    "start_time": "2021-06-18T16:29:36.261Z"
   },
   {
    "duration": 11,
    "start_time": "2021-06-18T16:29:36.300Z"
   },
   {
    "duration": 33,
    "start_time": "2021-06-18T16:29:36.314Z"
   },
   {
    "duration": 21,
    "start_time": "2021-06-18T16:29:36.349Z"
   },
   {
    "duration": 34,
    "start_time": "2021-06-18T16:29:36.372Z"
   },
   {
    "duration": 25,
    "start_time": "2021-06-18T16:29:36.409Z"
   },
   {
    "duration": 34,
    "start_time": "2021-06-18T16:29:36.436Z"
   },
   {
    "duration": 13,
    "start_time": "2021-06-18T16:29:36.472Z"
   },
   {
    "duration": 456,
    "start_time": "2021-06-18T16:29:36.487Z"
   },
   {
    "duration": 35,
    "start_time": "2021-06-18T16:29:36.945Z"
   },
   {
    "duration": 530,
    "start_time": "2021-06-18T16:29:36.982Z"
   },
   {
    "duration": 17,
    "start_time": "2021-06-18T16:29:37.516Z"
   },
   {
    "duration": 2268,
    "start_time": "2021-06-18T16:29:37.539Z"
   },
   {
    "duration": 15,
    "start_time": "2021-06-18T16:29:39.810Z"
   },
   {
    "duration": 42,
    "start_time": "2021-06-18T16:29:39.828Z"
   },
   {
    "duration": 15,
    "start_time": "2021-06-18T16:29:39.873Z"
   },
   {
    "duration": 137,
    "start_time": "2021-06-18T16:29:39.891Z"
   },
   {
    "duration": 34,
    "start_time": "2021-06-18T16:29:40.031Z"
   },
   {
    "duration": 6,
    "start_time": "2021-06-18T16:29:40.067Z"
   },
   {
    "duration": 24,
    "start_time": "2021-06-18T16:29:40.075Z"
   },
   {
    "duration": 10,
    "start_time": "2021-06-18T16:33:12.793Z"
   },
   {
    "duration": 430,
    "start_time": "2021-06-18T16:33:28.076Z"
   },
   {
    "duration": 18,
    "start_time": "2021-06-18T16:33:35.581Z"
   },
   {
    "duration": 323,
    "start_time": "2021-06-18T16:36:41.258Z"
   },
   {
    "duration": 12,
    "start_time": "2021-06-18T16:36:46.266Z"
   },
   {
    "duration": 321,
    "start_time": "2021-06-18T16:43:30.575Z"
   },
   {
    "duration": 322,
    "start_time": "2021-06-18T16:43:40.881Z"
   },
   {
    "duration": 18,
    "start_time": "2021-06-18T16:43:46.833Z"
   },
   {
    "duration": 20,
    "start_time": "2021-06-18T16:44:07.031Z"
   },
   {
    "duration": 11,
    "start_time": "2021-06-18T16:45:04.130Z"
   },
   {
    "duration": 311,
    "start_time": "2021-06-18T16:45:46.372Z"
   },
   {
    "duration": 351,
    "start_time": "2021-06-18T16:45:46.866Z"
   },
   {
    "duration": 887,
    "start_time": "2021-06-18T16:45:56.066Z"
   },
   {
    "duration": 1039,
    "start_time": "2021-06-18T16:45:56.955Z"
   },
   {
    "duration": 21,
    "start_time": "2021-06-18T16:45:57.998Z"
   },
   {
    "duration": 18,
    "start_time": "2021-06-18T16:45:58.022Z"
   },
   {
    "duration": 25,
    "start_time": "2021-06-18T16:45:58.043Z"
   },
   {
    "duration": 15,
    "start_time": "2021-06-18T16:45:58.071Z"
   },
   {
    "duration": 36,
    "start_time": "2021-06-18T16:45:58.089Z"
   },
   {
    "duration": 5,
    "start_time": "2021-06-18T16:45:58.127Z"
   },
   {
    "duration": 445,
    "start_time": "2021-06-18T16:45:58.165Z"
   },
   {
    "duration": 28,
    "start_time": "2021-06-18T16:45:58.614Z"
   },
   {
    "duration": 34,
    "start_time": "2021-06-18T16:45:58.645Z"
   },
   {
    "duration": 8,
    "start_time": "2021-06-18T16:45:58.682Z"
   },
   {
    "duration": 41,
    "start_time": "2021-06-18T16:45:58.693Z"
   },
   {
    "duration": 63,
    "start_time": "2021-06-18T16:45:58.736Z"
   },
   {
    "duration": 36,
    "start_time": "2021-06-18T16:45:58.801Z"
   },
   {
    "duration": 11,
    "start_time": "2021-06-18T16:45:58.862Z"
   },
   {
    "duration": 18,
    "start_time": "2021-06-18T16:45:58.875Z"
   },
   {
    "duration": 10,
    "start_time": "2021-06-18T16:45:58.896Z"
   },
   {
    "duration": 30,
    "start_time": "2021-06-18T16:45:58.908Z"
   },
   {
    "duration": 13,
    "start_time": "2021-06-18T16:45:58.961Z"
   },
   {
    "duration": 28,
    "start_time": "2021-06-18T16:45:58.976Z"
   },
   {
    "duration": 12,
    "start_time": "2021-06-18T16:45:59.007Z"
   },
   {
    "duration": 462,
    "start_time": "2021-06-18T16:45:59.022Z"
   },
   {
    "duration": 26,
    "start_time": "2021-06-18T16:45:59.486Z"
   },
   {
    "duration": 536,
    "start_time": "2021-06-18T16:45:59.514Z"
   },
   {
    "duration": 17,
    "start_time": "2021-06-18T16:46:00.052Z"
   },
   {
    "duration": 2306,
    "start_time": "2021-06-18T16:46:00.074Z"
   },
   {
    "duration": 13,
    "start_time": "2021-06-18T16:46:02.383Z"
   },
   {
    "duration": 34,
    "start_time": "2021-06-18T16:46:02.398Z"
   },
   {
    "duration": 22,
    "start_time": "2021-06-18T16:46:02.434Z"
   },
   {
    "duration": 124,
    "start_time": "2021-06-18T16:46:02.462Z"
   },
   {
    "duration": 22,
    "start_time": "2021-06-18T16:46:02.589Z"
   },
   {
    "duration": 12,
    "start_time": "2021-06-18T16:46:02.614Z"
   },
   {
    "duration": 43,
    "start_time": "2021-06-18T16:46:02.628Z"
   },
   {
    "duration": 10,
    "start_time": "2021-06-18T16:46:02.674Z"
   },
   {
    "duration": 18,
    "start_time": "2021-06-18T16:46:02.687Z"
   },
   {
    "duration": 19,
    "start_time": "2021-06-18T16:46:02.707Z"
   },
   {
    "duration": 50,
    "start_time": "2021-06-18T16:46:02.729Z"
   },
   {
    "duration": 11,
    "start_time": "2021-06-18T16:46:02.782Z"
   },
   {
    "duration": 407,
    "start_time": "2021-06-18T16:46:02.795Z"
   },
   {
    "duration": 2016,
    "start_time": "2021-06-18T16:46:01.189Z"
   },
   {
    "duration": 10,
    "start_time": "2021-06-18T16:46:38.555Z"
   },
   {
    "duration": 1874,
    "start_time": "2021-06-18T16:46:39.688Z"
   },
   {
    "duration": 23,
    "start_time": "2021-06-18T16:46:41.564Z"
   },
   {
    "duration": 316,
    "start_time": "2021-06-18T16:48:09.619Z"
   },
   {
    "duration": 26,
    "start_time": "2021-06-18T16:48:14.411Z"
   },
   {
    "duration": 344,
    "start_time": "2021-06-18T16:48:53.409Z"
   },
   {
    "duration": 34,
    "start_time": "2021-06-18T16:49:00.610Z"
   },
   {
    "duration": 475,
    "start_time": "2021-06-18T16:51:23.454Z"
   },
   {
    "duration": 737,
    "start_time": "2021-06-18T16:53:16.814Z"
   },
   {
    "duration": 713,
    "start_time": "2021-06-18T16:54:10.299Z"
   },
   {
    "duration": 590,
    "start_time": "2021-06-18T16:55:11.742Z"
   },
   {
    "duration": 582,
    "start_time": "2021-06-18T16:56:26.339Z"
   },
   {
    "duration": 362,
    "start_time": "2021-06-18T16:58:21.945Z"
   },
   {
    "duration": 586,
    "start_time": "2021-06-18T16:58:36.198Z"
   },
   {
    "duration": 18,
    "start_time": "2021-06-18T17:02:51.393Z"
   },
   {
    "duration": 10,
    "start_time": "2021-06-19T06:21:06.112Z"
   },
   {
    "duration": 885,
    "start_time": "2021-06-19T06:22:33.668Z"
   },
   {
    "duration": 1085,
    "start_time": "2021-06-19T06:22:34.556Z"
   },
   {
    "duration": 19,
    "start_time": "2021-06-19T06:22:35.644Z"
   },
   {
    "duration": 20,
    "start_time": "2021-06-19T06:22:35.666Z"
   },
   {
    "duration": 13,
    "start_time": "2021-06-19T06:22:35.689Z"
   },
   {
    "duration": 12,
    "start_time": "2021-06-19T06:22:35.704Z"
   },
   {
    "duration": 30,
    "start_time": "2021-06-19T06:22:35.718Z"
   },
   {
    "duration": 5,
    "start_time": "2021-06-19T06:22:35.751Z"
   },
   {
    "duration": 469,
    "start_time": "2021-06-19T06:22:35.760Z"
   },
   {
    "duration": 29,
    "start_time": "2021-06-19T06:22:36.233Z"
   },
   {
    "duration": 45,
    "start_time": "2021-06-19T06:22:36.264Z"
   },
   {
    "duration": 9,
    "start_time": "2021-06-19T06:22:36.312Z"
   },
   {
    "duration": 39,
    "start_time": "2021-06-19T06:22:36.324Z"
   },
   {
    "duration": 71,
    "start_time": "2021-06-19T06:22:36.365Z"
   },
   {
    "duration": 36,
    "start_time": "2021-06-19T06:22:36.438Z"
   },
   {
    "duration": 12,
    "start_time": "2021-06-19T06:22:36.476Z"
   },
   {
    "duration": 12,
    "start_time": "2021-06-19T06:22:36.509Z"
   },
   {
    "duration": 11,
    "start_time": "2021-06-19T06:22:36.523Z"
   },
   {
    "duration": 30,
    "start_time": "2021-06-19T06:22:36.536Z"
   },
   {
    "duration": 41,
    "start_time": "2021-06-19T06:22:36.569Z"
   },
   {
    "duration": 23,
    "start_time": "2021-06-19T06:22:36.613Z"
   },
   {
    "duration": 14,
    "start_time": "2021-06-19T06:22:36.639Z"
   },
   {
    "duration": 453,
    "start_time": "2021-06-19T06:22:36.656Z"
   },
   {
    "duration": 25,
    "start_time": "2021-06-19T06:22:37.111Z"
   },
   {
    "duration": 537,
    "start_time": "2021-06-19T06:22:37.138Z"
   },
   {
    "duration": 11,
    "start_time": "2021-06-19T06:22:37.677Z"
   },
   {
    "duration": 2260,
    "start_time": "2021-06-19T06:22:37.694Z"
   },
   {
    "duration": 13,
    "start_time": "2021-06-19T06:22:39.957Z"
   },
   {
    "duration": 36,
    "start_time": "2021-06-19T06:22:39.973Z"
   },
   {
    "duration": 14,
    "start_time": "2021-06-19T06:22:40.011Z"
   },
   {
    "duration": 137,
    "start_time": "2021-06-19T06:22:40.028Z"
   },
   {
    "duration": 23,
    "start_time": "2021-06-19T06:22:40.169Z"
   },
   {
    "duration": 4,
    "start_time": "2021-06-19T06:22:40.210Z"
   },
   {
    "duration": 25,
    "start_time": "2021-06-19T06:22:40.217Z"
   },
   {
    "duration": 10,
    "start_time": "2021-06-19T06:22:40.244Z"
   },
   {
    "duration": 53,
    "start_time": "2021-06-19T06:22:40.256Z"
   },
   {
    "duration": 12,
    "start_time": "2021-06-19T06:22:40.312Z"
   },
   {
    "duration": 22,
    "start_time": "2021-06-19T06:22:40.327Z"
   },
   {
    "duration": 10,
    "start_time": "2021-06-19T06:22:40.352Z"
   },
   {
    "duration": 1956,
    "start_time": "2021-06-19T06:22:40.365Z"
   },
   {
    "duration": 24,
    "start_time": "2021-06-19T06:22:42.323Z"
   },
   {
    "duration": 29,
    "start_time": "2021-06-19T06:22:42.350Z"
   },
   {
    "duration": 57,
    "start_time": "2021-06-19T06:22:42.381Z"
   },
   {
    "duration": 639,
    "start_time": "2021-06-19T06:22:42.440Z"
   },
   {
    "duration": 592,
    "start_time": "2021-06-19T06:22:43.082Z"
   },
   {
    "duration": 19,
    "start_time": "2021-06-19T06:22:43.676Z"
   },
   {
    "duration": 8,
    "start_time": "2021-06-19T06:22:43.709Z"
   },
   {
    "duration": 2266,
    "start_time": "2021-06-19T06:22:43.719Z"
   },
   {
    "duration": 9,
    "start_time": "2021-06-19T06:23:01.123Z"
   },
   {
    "duration": 2484,
    "start_time": "2021-06-19T06:23:02.761Z"
   },
   {
    "duration": 915,
    "start_time": "2021-06-19T06:23:37.735Z"
   },
   {
    "duration": 966,
    "start_time": "2021-06-19T06:23:38.653Z"
   },
   {
    "duration": 20,
    "start_time": "2021-06-19T06:23:39.622Z"
   },
   {
    "duration": 13,
    "start_time": "2021-06-19T06:23:39.645Z"
   },
   {
    "duration": 13,
    "start_time": "2021-06-19T06:23:39.660Z"
   },
   {
    "duration": 36,
    "start_time": "2021-06-19T06:23:39.675Z"
   },
   {
    "duration": 31,
    "start_time": "2021-06-19T06:23:39.713Z"
   },
   {
    "duration": 5,
    "start_time": "2021-06-19T06:23:39.746Z"
   },
   {
    "duration": 472,
    "start_time": "2021-06-19T06:23:39.756Z"
   },
   {
    "duration": 27,
    "start_time": "2021-06-19T06:23:40.232Z"
   },
   {
    "duration": 20,
    "start_time": "2021-06-19T06:23:40.262Z"
   },
   {
    "duration": 29,
    "start_time": "2021-06-19T06:23:40.285Z"
   },
   {
    "duration": 37,
    "start_time": "2021-06-19T06:23:40.317Z"
   },
   {
    "duration": 68,
    "start_time": "2021-06-19T06:23:40.357Z"
   },
   {
    "duration": 40,
    "start_time": "2021-06-19T06:23:40.427Z"
   },
   {
    "duration": 12,
    "start_time": "2021-06-19T06:23:40.469Z"
   },
   {
    "duration": 37,
    "start_time": "2021-06-19T06:23:40.484Z"
   },
   {
    "duration": 11,
    "start_time": "2021-06-19T06:23:40.523Z"
   },
   {
    "duration": 24,
    "start_time": "2021-06-19T06:23:40.537Z"
   },
   {
    "duration": 45,
    "start_time": "2021-06-19T06:23:40.564Z"
   },
   {
    "duration": 24,
    "start_time": "2021-06-19T06:23:40.612Z"
   },
   {
    "duration": 13,
    "start_time": "2021-06-19T06:23:40.638Z"
   },
   {
    "duration": 472,
    "start_time": "2021-06-19T06:23:40.653Z"
   },
   {
    "duration": 25,
    "start_time": "2021-06-19T06:23:41.127Z"
   },
   {
    "duration": 529,
    "start_time": "2021-06-19T06:23:41.154Z"
   },
   {
    "duration": 13,
    "start_time": "2021-06-19T06:23:41.685Z"
   },
   {
    "duration": 2256,
    "start_time": "2021-06-19T06:23:41.715Z"
   },
   {
    "duration": 13,
    "start_time": "2021-06-19T06:23:43.975Z"
   },
   {
    "duration": 12,
    "start_time": "2021-06-19T06:23:44.009Z"
   },
   {
    "duration": 21,
    "start_time": "2021-06-19T06:23:44.024Z"
   },
   {
    "duration": 148,
    "start_time": "2021-06-19T06:23:44.048Z"
   },
   {
    "duration": 29,
    "start_time": "2021-06-19T06:23:44.199Z"
   },
   {
    "duration": 8,
    "start_time": "2021-06-19T06:23:44.230Z"
   },
   {
    "duration": 26,
    "start_time": "2021-06-19T06:23:44.240Z"
   },
   {
    "duration": 46,
    "start_time": "2021-06-19T06:23:44.270Z"
   },
   {
    "duration": 21,
    "start_time": "2021-06-19T06:23:44.319Z"
   },
   {
    "duration": 14,
    "start_time": "2021-06-19T06:23:44.342Z"
   },
   {
    "duration": 64,
    "start_time": "2021-06-19T06:23:44.358Z"
   },
   {
    "duration": 12,
    "start_time": "2021-06-19T06:23:44.426Z"
   },
   {
    "duration": 2102,
    "start_time": "2021-06-19T06:23:44.441Z"
   },
   {
    "duration": 23,
    "start_time": "2021-06-19T06:23:46.545Z"
   },
   {
    "duration": 45,
    "start_time": "2021-06-19T06:23:46.570Z"
   },
   {
    "duration": 36,
    "start_time": "2021-06-19T06:23:46.617Z"
   },
   {
    "duration": 675,
    "start_time": "2021-06-19T06:23:46.656Z"
   },
   {
    "duration": 623,
    "start_time": "2021-06-19T06:23:47.334Z"
   },
   {
    "duration": 19,
    "start_time": "2021-06-19T06:23:47.960Z"
   },
   {
    "duration": 30,
    "start_time": "2021-06-19T06:23:47.981Z"
   },
   {
    "duration": 2158,
    "start_time": "2021-06-19T06:23:48.013Z"
   },
   {
    "duration": 468,
    "start_time": "2021-06-19T06:25:14.055Z"
   },
   {
    "duration": 2190,
    "start_time": "2021-06-19T06:25:22.869Z"
   },
   {
    "duration": 495,
    "start_time": "2021-06-19T06:27:41.501Z"
   },
   {
    "duration": 2125,
    "start_time": "2021-06-19T06:28:02.140Z"
   },
   {
    "duration": 4,
    "start_time": "2021-06-19T06:29:26.509Z"
   },
   {
    "duration": 2348,
    "start_time": "2021-06-19T06:29:28.492Z"
   },
   {
    "duration": 1067,
    "start_time": "2021-06-19T10:13:46.480Z"
   },
   {
    "duration": 3580,
    "start_time": "2021-06-19T10:13:47.550Z"
   },
   {
    "duration": 20,
    "start_time": "2021-06-19T10:13:51.133Z"
   },
   {
    "duration": 14,
    "start_time": "2021-06-19T10:13:51.156Z"
   },
   {
    "duration": 15,
    "start_time": "2021-06-19T10:13:51.172Z"
   },
   {
    "duration": 16,
    "start_time": "2021-06-19T10:13:51.190Z"
   },
   {
    "duration": 35,
    "start_time": "2021-06-19T10:13:51.208Z"
   },
   {
    "duration": 18,
    "start_time": "2021-06-19T10:13:51.245Z"
   },
   {
    "duration": 454,
    "start_time": "2021-06-19T10:13:51.268Z"
   },
   {
    "duration": 37,
    "start_time": "2021-06-19T10:13:51.725Z"
   },
   {
    "duration": 20,
    "start_time": "2021-06-19T10:13:51.764Z"
   },
   {
    "duration": 8,
    "start_time": "2021-06-19T10:13:51.786Z"
   },
   {
    "duration": 69,
    "start_time": "2021-06-19T10:13:51.797Z"
   },
   {
    "duration": 36,
    "start_time": "2021-06-19T10:13:51.869Z"
   },
   {
    "duration": 36,
    "start_time": "2021-06-19T10:13:51.907Z"
   },
   {
    "duration": 12,
    "start_time": "2021-06-19T10:13:51.962Z"
   },
   {
    "duration": 18,
    "start_time": "2021-06-19T10:13:51.977Z"
   },
   {
    "duration": 10,
    "start_time": "2021-06-19T10:13:51.998Z"
   },
   {
    "duration": 59,
    "start_time": "2021-06-19T10:13:52.010Z"
   },
   {
    "duration": 12,
    "start_time": "2021-06-19T10:13:52.071Z"
   },
   {
    "duration": 29,
    "start_time": "2021-06-19T10:13:52.086Z"
   },
   {
    "duration": 49,
    "start_time": "2021-06-19T10:13:52.118Z"
   },
   {
    "duration": 438,
    "start_time": "2021-06-19T10:13:52.169Z"
   },
   {
    "duration": 26,
    "start_time": "2021-06-19T10:13:52.609Z"
   },
   {
    "duration": 575,
    "start_time": "2021-06-19T10:13:52.637Z"
   },
   {
    "duration": 13,
    "start_time": "2021-06-19T10:13:53.214Z"
   },
   {
    "duration": 2410,
    "start_time": "2021-06-19T10:13:53.234Z"
   },
   {
    "duration": 22,
    "start_time": "2021-06-19T10:13:55.647Z"
   },
   {
    "duration": 13,
    "start_time": "2021-06-19T10:13:55.672Z"
   },
   {
    "duration": 14,
    "start_time": "2021-06-19T10:13:55.688Z"
   },
   {
    "duration": 148,
    "start_time": "2021-06-19T10:13:55.705Z"
   },
   {
    "duration": 27,
    "start_time": "2021-06-19T10:13:55.855Z"
   },
   {
    "duration": 7,
    "start_time": "2021-06-19T10:13:55.885Z"
   },
   {
    "duration": 26,
    "start_time": "2021-06-19T10:13:55.894Z"
   },
   {
    "duration": 39,
    "start_time": "2021-06-19T10:13:55.922Z"
   },
   {
    "duration": 19,
    "start_time": "2021-06-19T10:13:55.964Z"
   },
   {
    "duration": 14,
    "start_time": "2021-06-19T10:13:55.986Z"
   },
   {
    "duration": 21,
    "start_time": "2021-06-19T10:13:56.002Z"
   },
   {
    "duration": 44,
    "start_time": "2021-06-19T10:13:56.025Z"
   },
   {
    "duration": 1890,
    "start_time": "2021-06-19T10:13:56.071Z"
   },
   {
    "duration": 22,
    "start_time": "2021-06-19T10:13:57.963Z"
   },
   {
    "duration": 41,
    "start_time": "2021-06-19T10:13:57.987Z"
   },
   {
    "duration": 55,
    "start_time": "2021-06-19T10:13:58.031Z"
   },
   {
    "duration": 677,
    "start_time": "2021-06-19T10:13:58.096Z"
   },
   {
    "duration": 620,
    "start_time": "2021-06-19T10:13:58.776Z"
   },
   {
    "duration": 21,
    "start_time": "2021-06-19T10:13:59.399Z"
   },
   {
    "duration": 9,
    "start_time": "2021-06-19T10:13:59.423Z"
   },
   {
    "duration": 4,
    "start_time": "2021-06-19T10:13:59.463Z"
   },
   {
    "duration": 2133,
    "start_time": "2021-06-19T10:13:59.470Z"
   },
   {
    "duration": 14,
    "start_time": "2021-06-19T10:14:01.606Z"
   },
   {
    "duration": 743,
    "start_time": "2021-06-19T10:14:01.623Z"
   },
   {
    "duration": 12,
    "start_time": "2021-06-19T10:14:45.169Z"
   },
   {
    "duration": 17,
    "start_time": "2021-06-19T10:14:46.300Z"
   },
   {
    "duration": 17,
    "start_time": "2021-06-19T10:15:16.812Z"
   },
   {
    "duration": 17,
    "start_time": "2021-06-19T10:15:42.705Z"
   },
   {
    "duration": 21,
    "start_time": "2021-06-19T10:17:07.250Z"
   },
   {
    "duration": 20,
    "start_time": "2021-06-19T10:17:47.235Z"
   },
   {
    "duration": 981,
    "start_time": "2021-06-19T10:18:31.816Z"
   },
   {
    "duration": 1013,
    "start_time": "2021-06-19T10:21:54.762Z"
   },
   {
    "duration": 1020,
    "start_time": "2021-06-19T10:24:32.380Z"
   },
   {
    "duration": 329,
    "start_time": "2021-06-19T10:29:11.542Z"
   },
   {
    "duration": 18,
    "start_time": "2021-06-19T10:30:05.075Z"
   },
   {
    "duration": 356,
    "start_time": "2021-06-19T10:30:37.928Z"
   },
   {
    "duration": 324,
    "start_time": "2021-06-19T10:30:55.161Z"
   },
   {
    "duration": 13,
    "start_time": "2021-06-19T10:31:07.512Z"
   },
   {
    "duration": 16,
    "start_time": "2021-06-19T10:31:17.194Z"
   },
   {
    "duration": 13,
    "start_time": "2021-06-19T10:31:18.511Z"
   },
   {
    "duration": 6,
    "start_time": "2021-06-19T10:31:38.157Z"
   },
   {
    "duration": 7,
    "start_time": "2021-06-19T10:31:50.068Z"
   },
   {
    "duration": 440,
    "start_time": "2021-06-19T10:32:47.963Z"
   },
   {
    "duration": 6,
    "start_time": "2021-06-19T10:32:56.756Z"
   },
   {
    "duration": 6,
    "start_time": "2021-06-19T10:34:04.840Z"
   },
   {
    "duration": 6,
    "start_time": "2021-06-19T10:38:04.660Z"
   },
   {
    "duration": 22,
    "start_time": "2021-06-19T10:38:14.597Z"
   },
   {
    "duration": 386,
    "start_time": "2021-06-19T10:39:38.074Z"
   },
   {
    "duration": 312,
    "start_time": "2021-06-19T10:39:46.139Z"
   },
   {
    "duration": 16,
    "start_time": "2021-06-19T10:40:08.889Z"
   },
   {
    "duration": 363,
    "start_time": "2021-06-19T10:40:48.902Z"
   },
   {
    "duration": 13,
    "start_time": "2021-06-19T10:40:58.463Z"
   },
   {
    "duration": 7,
    "start_time": "2021-06-19T10:41:52.246Z"
   },
   {
    "duration": 26,
    "start_time": "2021-06-19T11:02:27.869Z"
   },
   {
    "duration": 26,
    "start_time": "2021-06-19T11:04:12.780Z"
   },
   {
    "duration": 348,
    "start_time": "2021-06-19T11:05:27.739Z"
   },
   {
    "duration": 442,
    "start_time": "2021-06-19T11:05:45.248Z"
   },
   {
    "duration": 841,
    "start_time": "2021-06-20T04:14:08.481Z"
   },
   {
    "duration": 1170,
    "start_time": "2021-06-20T04:14:09.325Z"
   },
   {
    "duration": 20,
    "start_time": "2021-06-20T04:14:10.498Z"
   },
   {
    "duration": 9,
    "start_time": "2021-06-20T04:14:10.521Z"
   },
   {
    "duration": 13,
    "start_time": "2021-06-20T04:14:10.533Z"
   },
   {
    "duration": 14,
    "start_time": "2021-06-20T04:14:10.549Z"
   },
   {
    "duration": 31,
    "start_time": "2021-06-20T04:14:10.565Z"
   },
   {
    "duration": 5,
    "start_time": "2021-06-20T04:14:10.599Z"
   },
   {
    "duration": 435,
    "start_time": "2021-06-20T04:14:10.608Z"
   },
   {
    "duration": 31,
    "start_time": "2021-06-20T04:14:11.046Z"
   },
   {
    "duration": 20,
    "start_time": "2021-06-20T04:14:11.079Z"
   },
   {
    "duration": 8,
    "start_time": "2021-06-20T04:14:11.101Z"
   },
   {
    "duration": 74,
    "start_time": "2021-06-20T04:14:11.111Z"
   },
   {
    "duration": 36,
    "start_time": "2021-06-20T04:14:11.187Z"
   },
   {
    "duration": 50,
    "start_time": "2021-06-20T04:14:11.225Z"
   },
   {
    "duration": 11,
    "start_time": "2021-06-20T04:14:11.278Z"
   },
   {
    "duration": 14,
    "start_time": "2021-06-20T04:14:11.291Z"
   },
   {
    "duration": 10,
    "start_time": "2021-06-20T04:14:11.307Z"
   },
   {
    "duration": 51,
    "start_time": "2021-06-20T04:14:11.320Z"
   },
   {
    "duration": 11,
    "start_time": "2021-06-20T04:14:11.374Z"
   },
   {
    "duration": 25,
    "start_time": "2021-06-20T04:14:11.388Z"
   },
   {
    "duration": 45,
    "start_time": "2021-06-20T04:14:11.415Z"
   },
   {
    "duration": 434,
    "start_time": "2021-06-20T04:14:11.462Z"
   },
   {
    "duration": 25,
    "start_time": "2021-06-20T04:14:11.898Z"
   },
   {
    "duration": 521,
    "start_time": "2021-06-20T04:14:11.925Z"
   },
   {
    "duration": 11,
    "start_time": "2021-06-20T04:14:12.454Z"
   },
   {
    "duration": 2183,
    "start_time": "2021-06-20T04:14:12.472Z"
   },
   {
    "duration": 12,
    "start_time": "2021-06-20T04:14:14.659Z"
   },
   {
    "duration": 18,
    "start_time": "2021-06-20T04:14:14.673Z"
   },
   {
    "duration": 14,
    "start_time": "2021-06-20T04:14:14.694Z"
   },
   {
    "duration": 145,
    "start_time": "2021-06-20T04:14:14.710Z"
   },
   {
    "duration": 21,
    "start_time": "2021-06-20T04:14:14.858Z"
   },
   {
    "duration": 6,
    "start_time": "2021-06-20T04:14:14.882Z"
   },
   {
    "duration": 27,
    "start_time": "2021-06-20T04:14:14.890Z"
   },
   {
    "duration": 35,
    "start_time": "2021-06-20T04:14:14.919Z"
   },
   {
    "duration": 18,
    "start_time": "2021-06-20T04:14:14.957Z"
   },
   {
    "duration": 16,
    "start_time": "2021-06-20T04:14:14.977Z"
   },
   {
    "duration": 21,
    "start_time": "2021-06-20T04:14:14.995Z"
   },
   {
    "duration": 43,
    "start_time": "2021-06-20T04:14:15.018Z"
   },
   {
    "duration": 1853,
    "start_time": "2021-06-20T04:14:15.064Z"
   },
   {
    "duration": 22,
    "start_time": "2021-06-20T04:14:16.919Z"
   },
   {
    "duration": 35,
    "start_time": "2021-06-20T04:14:16.943Z"
   },
   {
    "duration": 35,
    "start_time": "2021-06-20T04:14:16.980Z"
   },
   {
    "duration": 623,
    "start_time": "2021-06-20T04:14:17.017Z"
   },
   {
    "duration": 578,
    "start_time": "2021-06-20T04:14:17.642Z"
   },
   {
    "duration": 32,
    "start_time": "2021-06-20T04:14:18.223Z"
   },
   {
    "duration": 8,
    "start_time": "2021-06-20T04:14:18.258Z"
   },
   {
    "duration": 9,
    "start_time": "2021-06-20T04:14:18.268Z"
   },
   {
    "duration": 2095,
    "start_time": "2021-06-20T04:14:18.279Z"
   },
   {
    "duration": 12,
    "start_time": "2021-06-20T04:14:20.376Z"
   },
   {
    "duration": 20,
    "start_time": "2021-06-20T04:14:20.391Z"
   },
   {
    "duration": 51,
    "start_time": "2021-06-20T04:14:20.414Z"
   },
   {
    "duration": 17,
    "start_time": "2021-06-20T04:14:20.468Z"
   },
   {
    "duration": 22,
    "start_time": "2021-06-20T04:14:20.488Z"
   },
   {
    "duration": 944,
    "start_time": "2021-06-20T04:14:20.513Z"
   },
   {
    "duration": 929,
    "start_time": "2021-06-20T04:14:21.460Z"
   },
   {
    "duration": 1044,
    "start_time": "2021-06-20T04:14:22.392Z"
   },
   {
    "duration": 330,
    "start_time": "2021-06-20T04:14:23.439Z"
   },
   {
    "duration": 16,
    "start_time": "2021-06-20T04:14:23.772Z"
   },
   {
    "duration": 12,
    "start_time": "2021-06-20T04:14:23.791Z"
   },
   {
    "duration": 15,
    "start_time": "2021-06-20T04:14:23.805Z"
   },
   {
    "duration": 36,
    "start_time": "2021-06-20T04:14:23.822Z"
   },
   {
    "duration": 407,
    "start_time": "2021-06-20T04:14:23.861Z"
   },
   {
    "duration": 6,
    "start_time": "2021-06-20T04:14:24.270Z"
   },
   {
    "duration": 9,
    "start_time": "2021-06-20T04:14:24.278Z"
   },
   {
    "duration": 10,
    "start_time": "2021-06-20T04:14:24.289Z"
   },
   {
    "duration": 22,
    "start_time": "2021-06-20T04:14:24.301Z"
   },
   {
    "duration": 334,
    "start_time": "2021-06-20T04:14:24.325Z"
   },
   {
    "duration": 16,
    "start_time": "2021-06-20T04:14:24.662Z"
   },
   {
    "duration": 15,
    "start_time": "2021-06-20T04:14:24.680Z"
   },
   {
    "duration": 5,
    "start_time": "2021-06-20T04:14:24.698Z"
   },
   {
    "duration": 63,
    "start_time": "2021-06-20T04:14:24.705Z"
   },
   {
    "duration": 28,
    "start_time": "2021-06-20T04:14:24.770Z"
   },
   {
    "duration": 393,
    "start_time": "2021-06-20T04:14:24.801Z"
   },
   {
    "duration": 937,
    "start_time": "2021-06-20T07:11:23.188Z"
   },
   {
    "duration": 2114,
    "start_time": "2021-06-20T07:11:24.127Z"
   },
   {
    "duration": 23,
    "start_time": "2021-06-20T07:11:26.244Z"
   },
   {
    "duration": 13,
    "start_time": "2021-06-20T07:11:26.270Z"
   },
   {
    "duration": 12,
    "start_time": "2021-06-20T07:11:26.286Z"
   },
   {
    "duration": 34,
    "start_time": "2021-06-20T07:11:26.300Z"
   },
   {
    "duration": 34,
    "start_time": "2021-06-20T07:11:26.336Z"
   },
   {
    "duration": 6,
    "start_time": "2021-06-20T07:11:26.375Z"
   },
   {
    "duration": 490,
    "start_time": "2021-06-20T07:11:26.384Z"
   },
   {
    "duration": 36,
    "start_time": "2021-06-20T07:11:26.876Z"
   },
   {
    "duration": 28,
    "start_time": "2021-06-20T07:11:26.915Z"
   },
   {
    "duration": 8,
    "start_time": "2021-06-20T07:11:26.946Z"
   },
   {
    "duration": 37,
    "start_time": "2021-06-20T07:11:26.957Z"
   },
   {
    "duration": 38,
    "start_time": "2021-06-20T07:11:27.025Z"
   },
   {
    "duration": 35,
    "start_time": "2021-06-20T07:11:27.066Z"
   },
   {
    "duration": 33,
    "start_time": "2021-06-20T07:11:27.103Z"
   },
   {
    "duration": 15,
    "start_time": "2021-06-20T07:11:27.138Z"
   },
   {
    "duration": 11,
    "start_time": "2021-06-20T07:11:27.155Z"
   },
   {
    "duration": 62,
    "start_time": "2021-06-20T07:11:27.169Z"
   },
   {
    "duration": 12,
    "start_time": "2021-06-20T07:11:27.233Z"
   },
   {
    "duration": 26,
    "start_time": "2021-06-20T07:11:27.248Z"
   },
   {
    "duration": 49,
    "start_time": "2021-06-20T07:11:27.277Z"
   },
   {
    "duration": 485,
    "start_time": "2021-06-20T07:11:27.334Z"
   },
   {
    "duration": 27,
    "start_time": "2021-06-20T07:11:27.828Z"
   },
   {
    "duration": 549,
    "start_time": "2021-06-20T07:11:27.858Z"
   },
   {
    "duration": 18,
    "start_time": "2021-06-20T07:11:28.410Z"
   },
   {
    "duration": 2364,
    "start_time": "2021-06-20T07:11:28.431Z"
   },
   {
    "duration": 14,
    "start_time": "2021-06-20T07:11:30.798Z"
   },
   {
    "duration": 17,
    "start_time": "2021-06-20T07:11:30.826Z"
   },
   {
    "duration": 22,
    "start_time": "2021-06-20T07:11:30.846Z"
   },
   {
    "duration": 151,
    "start_time": "2021-06-20T07:11:30.871Z"
   },
   {
    "duration": 23,
    "start_time": "2021-06-20T07:11:31.025Z"
   },
   {
    "duration": 9,
    "start_time": "2021-06-20T07:11:31.051Z"
   },
   {
    "duration": 32,
    "start_time": "2021-06-20T07:11:31.063Z"
   },
   {
    "duration": 35,
    "start_time": "2021-06-20T07:11:31.098Z"
   },
   {
    "duration": 23,
    "start_time": "2021-06-20T07:11:31.136Z"
   },
   {
    "duration": 14,
    "start_time": "2021-06-20T07:11:31.162Z"
   },
   {
    "duration": 60,
    "start_time": "2021-06-20T07:11:31.180Z"
   },
   {
    "duration": 10,
    "start_time": "2021-06-20T07:11:31.243Z"
   },
   {
    "duration": 1986,
    "start_time": "2021-06-20T07:11:31.256Z"
   },
   {
    "duration": 23,
    "start_time": "2021-06-20T07:11:33.244Z"
   },
   {
    "duration": 27,
    "start_time": "2021-06-20T07:11:33.269Z"
   },
   {
    "duration": 56,
    "start_time": "2021-06-20T07:11:33.298Z"
   },
   {
    "duration": 619,
    "start_time": "2021-06-20T07:11:33.356Z"
   },
   {
    "duration": 599,
    "start_time": "2021-06-20T07:11:33.978Z"
   },
   {
    "duration": 20,
    "start_time": "2021-06-20T07:11:34.579Z"
   },
   {
    "duration": 30,
    "start_time": "2021-06-20T07:11:34.601Z"
   },
   {
    "duration": 14,
    "start_time": "2021-06-20T07:11:34.633Z"
   },
   {
    "duration": 2130,
    "start_time": "2021-06-20T07:11:34.650Z"
   },
   {
    "duration": 12,
    "start_time": "2021-06-20T07:11:36.782Z"
   },
   {
    "duration": 39,
    "start_time": "2021-06-20T07:11:36.797Z"
   },
   {
    "duration": 17,
    "start_time": "2021-06-20T07:11:36.839Z"
   },
   {
    "duration": 16,
    "start_time": "2021-06-20T07:11:36.858Z"
   },
   {
    "duration": 48,
    "start_time": "2021-06-20T07:11:36.877Z"
   },
   {
    "duration": 1001,
    "start_time": "2021-06-20T07:11:36.928Z"
   },
   {
    "duration": 1026,
    "start_time": "2021-06-20T07:11:37.931Z"
   },
   {
    "duration": 1101,
    "start_time": "2021-06-20T07:11:38.960Z"
   },
   {
    "duration": 341,
    "start_time": "2021-06-20T07:11:40.064Z"
   },
   {
    "duration": 26,
    "start_time": "2021-06-20T07:11:40.407Z"
   },
   {
    "duration": 13,
    "start_time": "2021-06-20T07:11:40.435Z"
   },
   {
    "duration": 10,
    "start_time": "2021-06-20T07:11:40.451Z"
   },
   {
    "duration": 7,
    "start_time": "2021-06-20T07:11:40.463Z"
   },
   {
    "duration": 468,
    "start_time": "2021-06-20T07:11:40.472Z"
   },
   {
    "duration": 6,
    "start_time": "2021-06-20T07:11:40.942Z"
   },
   {
    "duration": 9,
    "start_time": "2021-06-20T07:11:40.950Z"
   },
   {
    "duration": 5,
    "start_time": "2021-06-20T07:11:40.962Z"
   },
   {
    "duration": 22,
    "start_time": "2021-06-20T07:11:40.970Z"
   },
   {
    "duration": 337,
    "start_time": "2021-06-20T07:11:41.028Z"
   },
   {
    "duration": 15,
    "start_time": "2021-06-20T07:11:41.368Z"
   },
   {
    "duration": 39,
    "start_time": "2021-06-20T07:11:41.386Z"
   },
   {
    "duration": 8,
    "start_time": "2021-06-20T07:11:41.427Z"
   },
   {
    "duration": 28,
    "start_time": "2021-06-20T07:11:41.437Z"
   },
   {
    "duration": 58,
    "start_time": "2021-06-20T07:11:41.467Z"
   },
   {
    "duration": 357,
    "start_time": "2021-06-20T07:11:41.528Z"
   },
   {
    "duration": 430,
    "start_time": "2021-06-20T09:18:36.863Z"
   },
   {
    "duration": 549,
    "start_time": "2021-06-20T09:18:44.916Z"
   },
   {
    "duration": 900,
    "start_time": "2021-06-21T09:53:02.515Z"
   },
   {
    "duration": 1502,
    "start_time": "2021-06-21T09:53:03.418Z"
   },
   {
    "duration": 20,
    "start_time": "2021-06-21T09:53:04.922Z"
   },
   {
    "duration": 12,
    "start_time": "2021-06-21T09:53:04.945Z"
   },
   {
    "duration": 14,
    "start_time": "2021-06-21T09:53:04.960Z"
   },
   {
    "duration": 27,
    "start_time": "2021-06-21T09:53:04.976Z"
   },
   {
    "duration": 30,
    "start_time": "2021-06-21T09:53:05.011Z"
   },
   {
    "duration": 5,
    "start_time": "2021-06-21T09:53:05.045Z"
   },
   {
    "duration": 489,
    "start_time": "2021-06-21T09:53:05.053Z"
   },
   {
    "duration": 30,
    "start_time": "2021-06-21T09:53:05.545Z"
   },
   {
    "duration": 46,
    "start_time": "2021-06-21T09:53:05.578Z"
   },
   {
    "duration": 9,
    "start_time": "2021-06-21T09:53:05.627Z"
   },
   {
    "duration": 64,
    "start_time": "2021-06-21T09:53:05.638Z"
   },
   {
    "duration": 45,
    "start_time": "2021-06-21T09:53:05.705Z"
   },
   {
    "duration": 60,
    "start_time": "2021-06-21T09:53:05.752Z"
   },
   {
    "duration": 13,
    "start_time": "2021-06-21T09:53:05.815Z"
   },
   {
    "duration": 17,
    "start_time": "2021-06-21T09:53:05.830Z"
   },
   {
    "duration": 10,
    "start_time": "2021-06-21T09:53:05.850Z"
   },
   {
    "duration": 58,
    "start_time": "2021-06-21T09:53:05.863Z"
   },
   {
    "duration": 12,
    "start_time": "2021-06-21T09:53:05.924Z"
   },
   {
    "duration": 28,
    "start_time": "2021-06-21T09:53:05.939Z"
   },
   {
    "duration": 51,
    "start_time": "2021-06-21T09:53:05.970Z"
   },
   {
    "duration": 459,
    "start_time": "2021-06-21T09:53:06.027Z"
   },
   {
    "duration": 35,
    "start_time": "2021-06-21T09:53:06.491Z"
   },
   {
    "duration": 541,
    "start_time": "2021-06-21T09:53:06.529Z"
   },
   {
    "duration": 12,
    "start_time": "2021-06-21T09:53:07.072Z"
   },
   {
    "duration": 2241,
    "start_time": "2021-06-21T09:53:07.086Z"
   },
   {
    "duration": 13,
    "start_time": "2021-06-21T09:53:09.330Z"
   },
   {
    "duration": 12,
    "start_time": "2021-06-21T09:53:09.346Z"
   },
   {
    "duration": 53,
    "start_time": "2021-06-21T09:53:09.361Z"
   },
   {
    "duration": 126,
    "start_time": "2021-06-21T09:53:09.417Z"
   },
   {
    "duration": 21,
    "start_time": "2021-06-21T09:53:09.546Z"
   },
   {
    "duration": 10,
    "start_time": "2021-06-21T09:53:09.570Z"
   },
   {
    "duration": 44,
    "start_time": "2021-06-21T09:53:09.583Z"
   },
   {
    "duration": 9,
    "start_time": "2021-06-21T09:53:09.630Z"
   },
   {
    "duration": 20,
    "start_time": "2021-06-21T09:53:09.642Z"
   },
   {
    "duration": 48,
    "start_time": "2021-06-21T09:53:09.664Z"
   },
   {
    "duration": 20,
    "start_time": "2021-06-21T09:53:09.715Z"
   },
   {
    "duration": 13,
    "start_time": "2021-06-21T09:53:09.738Z"
   },
   {
    "duration": 2047,
    "start_time": "2021-06-21T09:53:09.754Z"
   },
   {
    "duration": 25,
    "start_time": "2021-06-21T09:53:11.804Z"
   },
   {
    "duration": 25,
    "start_time": "2021-06-21T09:53:11.831Z"
   },
   {
    "duration": 60,
    "start_time": "2021-06-21T09:53:11.859Z"
   },
   {
    "duration": 453,
    "start_time": "2021-06-21T09:53:11.921Z"
   },
   {
    "duration": 468,
    "start_time": "2021-06-21T09:53:12.377Z"
   },
   {
    "duration": 18,
    "start_time": "2021-06-21T09:53:12.848Z"
   },
   {
    "duration": 8,
    "start_time": "2021-06-21T09:53:12.869Z"
   },
   {
    "duration": 18,
    "start_time": "2021-06-21T09:53:12.901Z"
   },
   {
    "duration": 2226,
    "start_time": "2021-06-21T09:53:12.923Z"
   },
   {
    "duration": 12,
    "start_time": "2021-06-21T09:53:15.152Z"
   },
   {
    "duration": 41,
    "start_time": "2021-06-21T09:53:15.167Z"
   },
   {
    "duration": 19,
    "start_time": "2021-06-21T09:53:15.212Z"
   },
   {
    "duration": 16,
    "start_time": "2021-06-21T09:53:15.234Z"
   },
   {
    "duration": 51,
    "start_time": "2021-06-21T09:53:15.252Z"
   },
   {
    "duration": 1022,
    "start_time": "2021-06-21T09:53:15.309Z"
   },
   {
    "duration": 1014,
    "start_time": "2021-06-21T09:53:16.333Z"
   },
   {
    "duration": 1092,
    "start_time": "2021-06-21T09:53:17.350Z"
   },
   {
    "duration": 344,
    "start_time": "2021-06-21T09:53:18.444Z"
   },
   {
    "duration": 25,
    "start_time": "2021-06-21T09:53:18.791Z"
   },
   {
    "duration": 14,
    "start_time": "2021-06-21T09:53:18.819Z"
   },
   {
    "duration": 11,
    "start_time": "2021-06-21T09:53:18.835Z"
   },
   {
    "duration": 11,
    "start_time": "2021-06-21T09:53:18.848Z"
   },
   {
    "duration": 450,
    "start_time": "2021-06-21T09:53:18.862Z"
   },
   {
    "duration": 9,
    "start_time": "2021-06-21T09:53:19.316Z"
   },
   {
    "duration": 8,
    "start_time": "2021-06-21T09:53:19.327Z"
   },
   {
    "duration": 7,
    "start_time": "2021-06-21T09:53:19.337Z"
   },
   {
    "duration": 54,
    "start_time": "2021-06-21T09:53:19.347Z"
   },
   {
    "duration": 330,
    "start_time": "2021-06-21T09:53:19.414Z"
   },
   {
    "duration": 16,
    "start_time": "2021-06-21T09:53:19.747Z"
   },
   {
    "duration": 45,
    "start_time": "2021-06-21T09:53:19.765Z"
   },
   {
    "duration": 7,
    "start_time": "2021-06-21T09:53:19.817Z"
   },
   {
    "duration": 27,
    "start_time": "2021-06-21T09:53:19.826Z"
   },
   {
    "duration": 57,
    "start_time": "2021-06-21T09:53:19.856Z"
   },
   {
    "duration": 352,
    "start_time": "2021-06-21T09:53:19.916Z"
   },
   {
    "duration": 6,
    "start_time": "2021-06-21T11:14:44.319Z"
   },
   {
    "duration": 12,
    "start_time": "2021-06-21T11:36:04.845Z"
   },
   {
    "duration": 11,
    "start_time": "2021-06-21T11:38:51.473Z"
   },
   {
    "duration": 114,
    "start_time": "2021-06-21T13:02:17.001Z"
   },
   {
    "duration": 5,
    "start_time": "2021-06-21T13:02:50.661Z"
   },
   {
    "duration": 930,
    "start_time": "2021-06-21T13:03:00.808Z"
   },
   {
    "duration": 1065,
    "start_time": "2021-06-21T13:03:01.740Z"
   },
   {
    "duration": 21,
    "start_time": "2021-06-21T13:03:02.809Z"
   },
   {
    "duration": 24,
    "start_time": "2021-06-21T13:03:02.834Z"
   },
   {
    "duration": 23,
    "start_time": "2021-06-21T13:03:02.860Z"
   },
   {
    "duration": 13,
    "start_time": "2021-06-21T13:03:02.885Z"
   },
   {
    "duration": 28,
    "start_time": "2021-06-21T13:03:02.909Z"
   },
   {
    "duration": 5,
    "start_time": "2021-06-21T13:03:02.939Z"
   },
   {
    "duration": 471,
    "start_time": "2021-06-21T13:03:02.947Z"
   },
   {
    "duration": 29,
    "start_time": "2021-06-21T13:03:03.422Z"
   },
   {
    "duration": 19,
    "start_time": "2021-06-21T13:03:03.454Z"
   },
   {
    "duration": 40,
    "start_time": "2021-06-21T13:03:03.475Z"
   },
   {
    "duration": 40,
    "start_time": "2021-06-21T13:03:03.517Z"
   },
   {
    "duration": 64,
    "start_time": "2021-06-21T13:03:03.560Z"
   },
   {
    "duration": 36,
    "start_time": "2021-06-21T13:03:03.626Z"
   },
   {
    "duration": 11,
    "start_time": "2021-06-21T13:03:03.664Z"
   },
   {
    "duration": 39,
    "start_time": "2021-06-21T13:03:03.678Z"
   },
   {
    "duration": 10,
    "start_time": "2021-06-21T13:03:03.719Z"
   },
   {
    "duration": 24,
    "start_time": "2021-06-21T13:03:03.732Z"
   },
   {
    "duration": 30,
    "start_time": "2021-06-21T13:03:03.758Z"
   },
   {
    "duration": 40,
    "start_time": "2021-06-21T13:03:03.791Z"
   },
   {
    "duration": 16,
    "start_time": "2021-06-21T13:03:03.834Z"
   },
   {
    "duration": 456,
    "start_time": "2021-06-21T13:03:03.853Z"
   },
   {
    "duration": 26,
    "start_time": "2021-06-21T13:03:04.311Z"
   },
   {
    "duration": 535,
    "start_time": "2021-06-21T13:03:04.340Z"
   },
   {
    "duration": 12,
    "start_time": "2021-06-21T13:03:04.877Z"
   },
   {
    "duration": 2300,
    "start_time": "2021-06-21T13:03:04.912Z"
   },
   {
    "duration": 15,
    "start_time": "2021-06-21T13:03:07.215Z"
   },
   {
    "duration": 28,
    "start_time": "2021-06-21T13:03:07.232Z"
   },
   {
    "duration": 25,
    "start_time": "2021-06-21T13:03:07.262Z"
   },
   {
    "duration": 468,
    "start_time": "2021-06-21T13:03:07.289Z"
   },
   {
    "duration": 66,
    "start_time": "2021-06-21T13:03:07.694Z"
   },
   {
    "duration": 65,
    "start_time": "2021-06-21T13:03:07.697Z"
   },
   {
    "duration": 62,
    "start_time": "2021-06-21T13:03:07.701Z"
   },
   {
    "duration": 62,
    "start_time": "2021-06-21T13:03:07.703Z"
   },
   {
    "duration": 61,
    "start_time": "2021-06-21T13:03:07.705Z"
   },
   {
    "duration": 61,
    "start_time": "2021-06-21T13:03:07.707Z"
   },
   {
    "duration": 60,
    "start_time": "2021-06-21T13:03:07.710Z"
   },
   {
    "duration": 59,
    "start_time": "2021-06-21T13:03:07.712Z"
   },
   {
    "duration": 57,
    "start_time": "2021-06-21T13:03:07.715Z"
   },
   {
    "duration": 57,
    "start_time": "2021-06-21T13:03:07.717Z"
   },
   {
    "duration": 56,
    "start_time": "2021-06-21T13:03:07.719Z"
   },
   {
    "duration": 55,
    "start_time": "2021-06-21T13:03:07.722Z"
   },
   {
    "duration": 28,
    "start_time": "2021-06-21T13:03:07.750Z"
   },
   {
    "duration": 27,
    "start_time": "2021-06-21T13:03:07.753Z"
   },
   {
    "duration": 26,
    "start_time": "2021-06-21T13:03:07.755Z"
   },
   {
    "duration": 25,
    "start_time": "2021-06-21T13:03:07.758Z"
   },
   {
    "duration": 24,
    "start_time": "2021-06-21T13:03:07.760Z"
   },
   {
    "duration": 24,
    "start_time": "2021-06-21T13:03:07.762Z"
   },
   {
    "duration": 23,
    "start_time": "2021-06-21T13:03:07.764Z"
   },
   {
    "duration": 23,
    "start_time": "2021-06-21T13:03:07.766Z"
   },
   {
    "duration": 22,
    "start_time": "2021-06-21T13:03:07.768Z"
   },
   {
    "duration": 22,
    "start_time": "2021-06-21T13:03:07.770Z"
   },
   {
    "duration": 17,
    "start_time": "2021-06-21T13:03:07.776Z"
   },
   {
    "duration": 16,
    "start_time": "2021-06-21T13:03:07.778Z"
   },
   {
    "duration": 29,
    "start_time": "2021-06-21T13:03:07.780Z"
   },
   {
    "duration": 29,
    "start_time": "2021-06-21T13:03:07.782Z"
   },
   {
    "duration": 28,
    "start_time": "2021-06-21T13:03:07.784Z"
   },
   {
    "duration": 28,
    "start_time": "2021-06-21T13:03:07.786Z"
   },
   {
    "duration": 27,
    "start_time": "2021-06-21T13:03:07.788Z"
   },
   {
    "duration": 26,
    "start_time": "2021-06-21T13:03:07.790Z"
   },
   {
    "duration": 26,
    "start_time": "2021-06-21T13:03:07.792Z"
   },
   {
    "duration": 25,
    "start_time": "2021-06-21T13:03:07.794Z"
   },
   {
    "duration": 25,
    "start_time": "2021-06-21T13:03:07.796Z"
   },
   {
    "duration": -3,
    "start_time": "2021-06-21T13:03:07.825Z"
   },
   {
    "duration": -24,
    "start_time": "2021-06-21T13:03:07.848Z"
   },
   {
    "duration": -25,
    "start_time": "2021-06-21T13:03:07.850Z"
   },
   {
    "duration": -25,
    "start_time": "2021-06-21T13:03:07.852Z"
   },
   {
    "duration": -25,
    "start_time": "2021-06-21T13:03:07.854Z"
   },
   {
    "duration": -26,
    "start_time": "2021-06-21T13:03:07.856Z"
   },
   {
    "duration": -26,
    "start_time": "2021-06-21T13:03:07.858Z"
   },
   {
    "duration": -27,
    "start_time": "2021-06-21T13:03:07.860Z"
   },
   {
    "duration": -27,
    "start_time": "2021-06-21T13:03:07.862Z"
   },
   {
    "duration": -27,
    "start_time": "2021-06-21T13:03:07.864Z"
   },
   {
    "duration": 924,
    "start_time": "2021-06-21T13:06:08.873Z"
   },
   {
    "duration": 952,
    "start_time": "2021-06-21T13:06:09.800Z"
   },
   {
    "duration": 22,
    "start_time": "2021-06-21T13:06:10.755Z"
   },
   {
    "duration": 11,
    "start_time": "2021-06-21T13:06:10.781Z"
   },
   {
    "duration": 11,
    "start_time": "2021-06-21T13:06:10.809Z"
   },
   {
    "duration": 11,
    "start_time": "2021-06-21T13:06:10.823Z"
   },
   {
    "duration": 32,
    "start_time": "2021-06-21T13:06:10.836Z"
   },
   {
    "duration": 5,
    "start_time": "2021-06-21T13:06:10.871Z"
   },
   {
    "duration": 464,
    "start_time": "2021-06-21T13:06:10.910Z"
   },
   {
    "duration": 36,
    "start_time": "2021-06-21T13:06:11.376Z"
   },
   {
    "duration": 20,
    "start_time": "2021-06-21T13:06:11.415Z"
   },
   {
    "duration": 9,
    "start_time": "2021-06-21T13:06:11.437Z"
   },
   {
    "duration": 71,
    "start_time": "2021-06-21T13:06:11.448Z"
   },
   {
    "duration": 39,
    "start_time": "2021-06-21T13:06:11.521Z"
   },
   {
    "duration": 53,
    "start_time": "2021-06-21T13:06:11.562Z"
   },
   {
    "duration": 12,
    "start_time": "2021-06-21T13:06:11.617Z"
   },
   {
    "duration": 16,
    "start_time": "2021-06-21T13:06:11.632Z"
   },
   {
    "duration": 10,
    "start_time": "2021-06-21T13:06:11.651Z"
   },
   {
    "duration": 58,
    "start_time": "2021-06-21T13:06:11.664Z"
   },
   {
    "duration": 14,
    "start_time": "2021-06-21T13:06:11.725Z"
   },
   {
    "duration": 25,
    "start_time": "2021-06-21T13:06:11.742Z"
   },
   {
    "duration": 41,
    "start_time": "2021-06-21T13:06:11.769Z"
   },
   {
    "duration": 449,
    "start_time": "2021-06-21T13:06:11.817Z"
   },
   {
    "duration": 41,
    "start_time": "2021-06-21T13:06:12.270Z"
   },
   {
    "duration": 533,
    "start_time": "2021-06-21T13:06:12.314Z"
   },
   {
    "duration": 12,
    "start_time": "2021-06-21T13:06:12.850Z"
   },
   {
    "duration": 2315,
    "start_time": "2021-06-21T13:06:12.865Z"
   },
   {
    "duration": 14,
    "start_time": "2021-06-21T13:06:15.182Z"
   },
   {
    "duration": 14,
    "start_time": "2021-06-21T13:06:15.208Z"
   },
   {
    "duration": 16,
    "start_time": "2021-06-21T13:06:15.224Z"
   },
   {
    "duration": 419,
    "start_time": "2021-06-21T13:06:15.242Z"
   },
   {
    "duration": 92,
    "start_time": "2021-06-21T13:06:15.572Z"
   },
   {
    "duration": 90,
    "start_time": "2021-06-21T13:06:15.576Z"
   },
   {
    "duration": 88,
    "start_time": "2021-06-21T13:06:15.579Z"
   },
   {
    "duration": 88,
    "start_time": "2021-06-21T13:06:15.581Z"
   },
   {
    "duration": 87,
    "start_time": "2021-06-21T13:06:15.584Z"
   },
   {
    "duration": 87,
    "start_time": "2021-06-21T13:06:15.586Z"
   },
   {
    "duration": 85,
    "start_time": "2021-06-21T13:06:15.589Z"
   },
   {
    "duration": 84,
    "start_time": "2021-06-21T13:06:15.591Z"
   },
   {
    "duration": 84,
    "start_time": "2021-06-21T13:06:15.593Z"
   },
   {
    "duration": 84,
    "start_time": "2021-06-21T13:06:15.595Z"
   },
   {
    "duration": 83,
    "start_time": "2021-06-21T13:06:15.597Z"
   },
   {
    "duration": 82,
    "start_time": "2021-06-21T13:06:15.600Z"
   },
   {
    "duration": 79,
    "start_time": "2021-06-21T13:06:15.604Z"
   },
   {
    "duration": 78,
    "start_time": "2021-06-21T13:06:15.606Z"
   },
   {
    "duration": 73,
    "start_time": "2021-06-21T13:06:15.613Z"
   },
   {
    "duration": 72,
    "start_time": "2021-06-21T13:06:15.616Z"
   },
   {
    "duration": 71,
    "start_time": "2021-06-21T13:06:15.618Z"
   },
   {
    "duration": 68,
    "start_time": "2021-06-21T13:06:15.622Z"
   },
   {
    "duration": 67,
    "start_time": "2021-06-21T13:06:15.624Z"
   },
   {
    "duration": 66,
    "start_time": "2021-06-21T13:06:15.627Z"
   },
   {
    "duration": 65,
    "start_time": "2021-06-21T13:06:15.629Z"
   },
   {
    "duration": 64,
    "start_time": "2021-06-21T13:06:15.631Z"
   },
   {
    "duration": 63,
    "start_time": "2021-06-21T13:06:15.634Z"
   },
   {
    "duration": 62,
    "start_time": "2021-06-21T13:06:15.636Z"
   },
   {
    "duration": 59,
    "start_time": "2021-06-21T13:06:15.640Z"
   },
   {
    "duration": 66,
    "start_time": "2021-06-21T13:06:15.643Z"
   },
   {
    "duration": 65,
    "start_time": "2021-06-21T13:06:15.645Z"
   },
   {
    "duration": 65,
    "start_time": "2021-06-21T13:06:15.647Z"
   },
   {
    "duration": 64,
    "start_time": "2021-06-21T13:06:15.649Z"
   },
   {
    "duration": 64,
    "start_time": "2021-06-21T13:06:15.651Z"
   },
   {
    "duration": 63,
    "start_time": "2021-06-21T13:06:15.653Z"
   },
   {
    "duration": 62,
    "start_time": "2021-06-21T13:06:15.655Z"
   },
   {
    "duration": 62,
    "start_time": "2021-06-21T13:06:15.657Z"
   },
   {
    "duration": 61,
    "start_time": "2021-06-21T13:06:15.659Z"
   },
   {
    "duration": 61,
    "start_time": "2021-06-21T13:06:15.661Z"
   },
   {
    "duration": 59,
    "start_time": "2021-06-21T13:06:15.664Z"
   },
   {
    "duration": 49,
    "start_time": "2021-06-21T13:06:15.675Z"
   },
   {
    "duration": 14,
    "start_time": "2021-06-21T13:06:15.711Z"
   },
   {
    "duration": 14,
    "start_time": "2021-06-21T13:06:15.713Z"
   },
   {
    "duration": 12,
    "start_time": "2021-06-21T13:06:15.716Z"
   },
   {
    "duration": 11,
    "start_time": "2021-06-21T13:06:15.719Z"
   },
   {
    "duration": 10,
    "start_time": "2021-06-21T13:06:15.721Z"
   },
   {
    "duration": 924,
    "start_time": "2021-06-21T13:08:21.502Z"
   },
   {
    "duration": 845,
    "start_time": "2021-06-21T13:08:22.429Z"
   },
   {
    "duration": 21,
    "start_time": "2021-06-21T13:08:23.277Z"
   },
   {
    "duration": 16,
    "start_time": "2021-06-21T13:08:23.301Z"
   },
   {
    "duration": 16,
    "start_time": "2021-06-21T13:08:23.320Z"
   },
   {
    "duration": 21,
    "start_time": "2021-06-21T13:08:23.338Z"
   },
   {
    "duration": 42,
    "start_time": "2021-06-21T13:08:23.361Z"
   },
   {
    "duration": 4,
    "start_time": "2021-06-21T13:08:23.409Z"
   },
   {
    "duration": 467,
    "start_time": "2021-06-21T13:08:23.417Z"
   },
   {
    "duration": 32,
    "start_time": "2021-06-21T13:08:23.887Z"
   },
   {
    "duration": 20,
    "start_time": "2021-06-21T13:08:23.922Z"
   },
   {
    "duration": 8,
    "start_time": "2021-06-21T13:08:23.945Z"
   },
   {
    "duration": 74,
    "start_time": "2021-06-21T13:08:23.955Z"
   },
   {
    "duration": 38,
    "start_time": "2021-06-21T13:08:24.031Z"
   },
   {
    "duration": 56,
    "start_time": "2021-06-21T13:08:24.072Z"
   },
   {
    "duration": 12,
    "start_time": "2021-06-21T13:08:24.131Z"
   },
   {
    "duration": 15,
    "start_time": "2021-06-21T13:08:24.145Z"
   },
   {
    "duration": 11,
    "start_time": "2021-06-21T13:08:24.162Z"
   },
   {
    "duration": 49,
    "start_time": "2021-06-21T13:08:24.175Z"
   },
   {
    "duration": 13,
    "start_time": "2021-06-21T13:08:24.226Z"
   },
   {
    "duration": 27,
    "start_time": "2021-06-21T13:08:24.242Z"
   },
   {
    "duration": 42,
    "start_time": "2021-06-21T13:08:24.272Z"
   },
   {
    "duration": 449,
    "start_time": "2021-06-21T13:08:24.316Z"
   },
   {
    "duration": 26,
    "start_time": "2021-06-21T13:08:24.767Z"
   },
   {
    "duration": 538,
    "start_time": "2021-06-21T13:08:24.810Z"
   },
   {
    "duration": 12,
    "start_time": "2021-06-21T13:08:25.351Z"
   },
   {
    "duration": 2514,
    "start_time": "2021-06-21T13:08:25.369Z"
   },
   {
    "duration": 23,
    "start_time": "2021-06-21T13:08:27.887Z"
   },
   {
    "duration": 20,
    "start_time": "2021-06-21T13:08:27.913Z"
   },
   {
    "duration": 17,
    "start_time": "2021-06-21T13:08:27.935Z"
   },
   {
    "duration": 456,
    "start_time": "2021-06-21T13:08:27.954Z"
   },
   {
    "duration": 70,
    "start_time": "2021-06-21T13:08:28.343Z"
   },
   {
    "duration": 69,
    "start_time": "2021-06-21T13:08:28.345Z"
   },
   {
    "duration": 68,
    "start_time": "2021-06-21T13:08:28.347Z"
   },
   {
    "duration": 68,
    "start_time": "2021-06-21T13:08:28.349Z"
   },
   {
    "duration": 67,
    "start_time": "2021-06-21T13:08:28.351Z"
   },
   {
    "duration": 67,
    "start_time": "2021-06-21T13:08:28.353Z"
   },
   {
    "duration": 66,
    "start_time": "2021-06-21T13:08:28.355Z"
   },
   {
    "duration": 65,
    "start_time": "2021-06-21T13:08:28.357Z"
   },
   {
    "duration": 65,
    "start_time": "2021-06-21T13:08:28.359Z"
   },
   {
    "duration": 64,
    "start_time": "2021-06-21T13:08:28.361Z"
   },
   {
    "duration": 65,
    "start_time": "2021-06-21T13:08:28.362Z"
   },
   {
    "duration": 59,
    "start_time": "2021-06-21T13:08:28.369Z"
   },
   {
    "duration": 58,
    "start_time": "2021-06-21T13:08:28.371Z"
   },
   {
    "duration": 58,
    "start_time": "2021-06-21T13:08:28.373Z"
   },
   {
    "duration": 57,
    "start_time": "2021-06-21T13:08:28.375Z"
   },
   {
    "duration": 56,
    "start_time": "2021-06-21T13:08:28.377Z"
   },
   {
    "duration": 56,
    "start_time": "2021-06-21T13:08:28.379Z"
   },
   {
    "duration": 27,
    "start_time": "2021-06-21T13:08:28.409Z"
   },
   {
    "duration": 25,
    "start_time": "2021-06-21T13:08:28.412Z"
   },
   {
    "duration": 25,
    "start_time": "2021-06-21T13:08:28.414Z"
   },
   {
    "duration": 24,
    "start_time": "2021-06-21T13:08:28.416Z"
   },
   {
    "duration": 23,
    "start_time": "2021-06-21T13:08:28.419Z"
   },
   {
    "duration": 22,
    "start_time": "2021-06-21T13:08:28.421Z"
   },
   {
    "duration": 22,
    "start_time": "2021-06-21T13:08:28.422Z"
   },
   {
    "duration": 16,
    "start_time": "2021-06-21T13:08:28.429Z"
   },
   {
    "duration": 15,
    "start_time": "2021-06-21T13:08:28.432Z"
   },
   {
    "duration": 14,
    "start_time": "2021-06-21T13:08:28.434Z"
   },
   {
    "duration": 73,
    "start_time": "2021-06-21T13:08:28.436Z"
   },
   {
    "duration": 72,
    "start_time": "2021-06-21T13:08:28.438Z"
   },
   {
    "duration": 72,
    "start_time": "2021-06-21T13:08:28.440Z"
   },
   {
    "duration": 71,
    "start_time": "2021-06-21T13:08:28.442Z"
   },
   {
    "duration": 66,
    "start_time": "2021-06-21T13:08:28.448Z"
   },
   {
    "duration": 63,
    "start_time": "2021-06-21T13:08:28.453Z"
   },
   {
    "duration": 52,
    "start_time": "2021-06-21T13:08:28.465Z"
   },
   {
    "duration": 52,
    "start_time": "2021-06-21T13:08:28.467Z"
   },
   {
    "duration": 46,
    "start_time": "2021-06-21T13:08:28.474Z"
   },
   {
    "duration": 45,
    "start_time": "2021-06-21T13:08:28.476Z"
   },
   {
    "duration": 45,
    "start_time": "2021-06-21T13:08:28.478Z"
   },
   {
    "duration": 32,
    "start_time": "2021-06-21T13:08:28.492Z"
   },
   {
    "duration": 31,
    "start_time": "2021-06-21T13:08:28.494Z"
   },
   {
    "duration": 31,
    "start_time": "2021-06-21T13:08:28.496Z"
   },
   {
    "duration": 30,
    "start_time": "2021-06-21T13:08:28.498Z"
   },
   {
    "duration": 853,
    "start_time": "2021-06-21T13:09:26.251Z"
   },
   {
    "duration": 1157,
    "start_time": "2021-06-21T13:09:27.106Z"
   },
   {
    "duration": 20,
    "start_time": "2021-06-21T13:09:28.266Z"
   },
   {
    "duration": 18,
    "start_time": "2021-06-21T13:09:28.289Z"
   },
   {
    "duration": 17,
    "start_time": "2021-06-21T13:09:28.310Z"
   },
   {
    "duration": 29,
    "start_time": "2021-06-21T13:09:28.330Z"
   },
   {
    "duration": 36,
    "start_time": "2021-06-21T13:09:28.361Z"
   },
   {
    "duration": 9,
    "start_time": "2021-06-21T13:09:28.401Z"
   },
   {
    "duration": 448,
    "start_time": "2021-06-21T13:09:28.413Z"
   },
   {
    "duration": 27,
    "start_time": "2021-06-21T13:09:28.863Z"
   },
   {
    "duration": 32,
    "start_time": "2021-06-21T13:09:28.893Z"
   },
   {
    "duration": 9,
    "start_time": "2021-06-21T13:09:28.928Z"
   },
   {
    "duration": 37,
    "start_time": "2021-06-21T13:09:28.939Z"
   },
   {
    "duration": 64,
    "start_time": "2021-06-21T13:09:28.979Z"
   },
   {
    "duration": 37,
    "start_time": "2021-06-21T13:09:29.046Z"
   },
   {
    "duration": 32,
    "start_time": "2021-06-21T13:09:29.086Z"
   },
   {
    "duration": 18,
    "start_time": "2021-06-21T13:09:29.120Z"
   },
   {
    "duration": 10,
    "start_time": "2021-06-21T13:09:29.141Z"
   },
   {
    "duration": 37,
    "start_time": "2021-06-21T13:09:29.153Z"
   },
   {
    "duration": 12,
    "start_time": "2021-06-21T13:09:29.210Z"
   },
   {
    "duration": 31,
    "start_time": "2021-06-21T13:09:29.225Z"
   },
   {
    "duration": 13,
    "start_time": "2021-06-21T13:09:29.258Z"
   },
   {
    "duration": 439,
    "start_time": "2021-06-21T13:09:29.310Z"
   },
   {
    "duration": 27,
    "start_time": "2021-06-21T13:09:29.754Z"
   },
   {
    "duration": 537,
    "start_time": "2021-06-21T13:09:29.783Z"
   },
   {
    "duration": 13,
    "start_time": "2021-06-21T13:09:30.323Z"
   },
   {
    "duration": 2356,
    "start_time": "2021-06-21T13:09:30.338Z"
   },
   {
    "duration": 22,
    "start_time": "2021-06-21T13:09:32.697Z"
   },
   {
    "duration": 19,
    "start_time": "2021-06-21T13:09:32.721Z"
   },
   {
    "duration": 24,
    "start_time": "2021-06-21T13:09:32.742Z"
   },
   {
    "duration": 134,
    "start_time": "2021-06-21T13:09:32.769Z"
   },
   {
    "duration": 21,
    "start_time": "2021-06-21T13:09:32.909Z"
   },
   {
    "duration": 4,
    "start_time": "2021-06-21T13:09:32.933Z"
   },
   {
    "duration": 30,
    "start_time": "2021-06-21T13:09:32.939Z"
   },
   {
    "duration": 11,
    "start_time": "2021-06-21T13:09:32.971Z"
   },
   {
    "duration": 47,
    "start_time": "2021-06-21T13:09:32.984Z"
   },
   {
    "duration": 22,
    "start_time": "2021-06-21T13:09:33.033Z"
   },
   {
    "duration": 22,
    "start_time": "2021-06-21T13:09:33.057Z"
   },
   {
    "duration": 11,
    "start_time": "2021-06-21T13:09:33.109Z"
   },
   {
    "duration": 1995,
    "start_time": "2021-06-21T13:09:33.123Z"
   },
   {
    "duration": 24,
    "start_time": "2021-06-21T13:09:35.121Z"
   },
   {
    "duration": 39,
    "start_time": "2021-06-21T13:09:35.147Z"
   },
   {
    "duration": 51,
    "start_time": "2021-06-21T13:09:35.188Z"
   },
   {
    "duration": 460,
    "start_time": "2021-06-21T13:09:35.243Z"
   },
   {
    "duration": 437,
    "start_time": "2021-06-21T13:09:35.709Z"
   },
   {
    "duration": 20,
    "start_time": "2021-06-21T13:09:36.150Z"
   },
   {
    "duration": 36,
    "start_time": "2021-06-21T13:09:36.173Z"
   },
   {
    "duration": 7,
    "start_time": "2021-06-21T13:09:36.212Z"
   },
   {
    "duration": 2251,
    "start_time": "2021-06-21T13:09:36.221Z"
   },
   {
    "duration": 14,
    "start_time": "2021-06-21T13:09:38.475Z"
   },
   {
    "duration": 20,
    "start_time": "2021-06-21T13:09:38.508Z"
   },
   {
    "duration": 20,
    "start_time": "2021-06-21T13:09:38.531Z"
   },
   {
    "duration": 55,
    "start_time": "2021-06-21T13:09:38.554Z"
   },
   {
    "duration": 21,
    "start_time": "2021-06-21T13:09:38.612Z"
   },
   {
    "duration": 992,
    "start_time": "2021-06-21T13:09:38.635Z"
   },
   {
    "duration": 990,
    "start_time": "2021-06-21T13:09:39.630Z"
   },
   {
    "duration": 1040,
    "start_time": "2021-06-21T13:09:40.623Z"
   },
   {
    "duration": 336,
    "start_time": "2021-06-21T13:09:41.666Z"
   },
   {
    "duration": 16,
    "start_time": "2021-06-21T13:09:42.009Z"
   },
   {
    "duration": 13,
    "start_time": "2021-06-21T13:09:42.028Z"
   },
   {
    "duration": 26,
    "start_time": "2021-06-21T13:09:42.043Z"
   },
   {
    "duration": 11,
    "start_time": "2021-06-21T13:09:42.072Z"
   },
   {
    "duration": 441,
    "start_time": "2021-06-21T13:09:42.085Z"
   },
   {
    "duration": 5,
    "start_time": "2021-06-21T13:09:42.530Z"
   },
   {
    "duration": 8,
    "start_time": "2021-06-21T13:09:42.538Z"
   },
   {
    "duration": 7,
    "start_time": "2021-06-21T13:09:42.548Z"
   },
   {
    "duration": 54,
    "start_time": "2021-06-21T13:09:42.558Z"
   },
   {
    "duration": 342,
    "start_time": "2021-06-21T13:09:42.619Z"
   },
   {
    "duration": 16,
    "start_time": "2021-06-21T13:09:42.964Z"
   },
   {
    "duration": 32,
    "start_time": "2021-06-21T13:09:42.983Z"
   },
   {
    "duration": 6,
    "start_time": "2021-06-21T13:09:43.018Z"
   },
   {
    "duration": 30,
    "start_time": "2021-06-21T13:09:43.027Z"
   },
   {
    "duration": 59,
    "start_time": "2021-06-21T13:09:43.060Z"
   },
   {
    "duration": 354,
    "start_time": "2021-06-21T13:09:43.122Z"
   },
   {
    "duration": 14,
    "start_time": "2021-06-21T13:11:09.120Z"
   },
   {
    "duration": 934,
    "start_time": "2021-06-21T13:15:20.169Z"
   },
   {
    "duration": 838,
    "start_time": "2021-06-21T13:15:21.106Z"
   },
   {
    "duration": 19,
    "start_time": "2021-06-21T13:15:21.947Z"
   },
   {
    "duration": 13,
    "start_time": "2021-06-21T13:15:21.969Z"
   },
   {
    "duration": 24,
    "start_time": "2021-06-21T13:15:21.985Z"
   },
   {
    "duration": 11,
    "start_time": "2021-06-21T13:15:22.011Z"
   },
   {
    "duration": 29,
    "start_time": "2021-06-21T13:15:22.024Z"
   },
   {
    "duration": 5,
    "start_time": "2021-06-21T13:15:22.056Z"
   },
   {
    "duration": 469,
    "start_time": "2021-06-21T13:15:22.064Z"
   },
   {
    "duration": 29,
    "start_time": "2021-06-21T13:15:22.535Z"
   },
   {
    "duration": 20,
    "start_time": "2021-06-21T13:15:22.566Z"
   },
   {
    "duration": 10,
    "start_time": "2021-06-21T13:15:22.609Z"
   },
   {
    "duration": 49,
    "start_time": "2021-06-21T13:15:22.621Z"
   },
   {
    "duration": 56,
    "start_time": "2021-06-21T13:15:22.672Z"
   },
   {
    "duration": 36,
    "start_time": "2021-06-21T13:15:22.730Z"
   },
   {
    "duration": 11,
    "start_time": "2021-06-21T13:15:22.769Z"
   },
   {
    "duration": 36,
    "start_time": "2021-06-21T13:15:22.782Z"
   },
   {
    "duration": 28,
    "start_time": "2021-06-21T13:15:22.820Z"
   },
   {
    "duration": 22,
    "start_time": "2021-06-21T13:15:22.851Z"
   },
   {
    "duration": 32,
    "start_time": "2021-06-21T13:15:22.876Z"
   },
   {
    "duration": 24,
    "start_time": "2021-06-21T13:15:22.911Z"
   },
   {
    "duration": 14,
    "start_time": "2021-06-21T13:15:22.937Z"
   },
   {
    "duration": 477,
    "start_time": "2021-06-21T13:15:22.957Z"
   },
   {
    "duration": 25,
    "start_time": "2021-06-21T13:15:23.438Z"
   },
   {
    "duration": 551,
    "start_time": "2021-06-21T13:15:23.466Z"
   },
   {
    "duration": 12,
    "start_time": "2021-06-21T13:15:24.019Z"
   },
   {
    "duration": 2314,
    "start_time": "2021-06-21T13:15:24.035Z"
   },
   {
    "duration": 14,
    "start_time": "2021-06-21T13:15:26.352Z"
   },
   {
    "duration": 18,
    "start_time": "2021-06-21T13:15:26.369Z"
   },
   {
    "duration": 14,
    "start_time": "2021-06-21T13:15:26.410Z"
   },
   {
    "duration": 130,
    "start_time": "2021-06-21T13:15:26.426Z"
   },
   {
    "duration": 23,
    "start_time": "2021-06-21T13:15:26.558Z"
   },
   {
    "duration": 26,
    "start_time": "2021-06-21T13:15:26.583Z"
   },
   {
    "duration": 21,
    "start_time": "2021-06-21T13:15:26.611Z"
   },
   {
    "duration": 9,
    "start_time": "2021-06-21T13:15:26.635Z"
   },
   {
    "duration": 22,
    "start_time": "2021-06-21T13:15:26.647Z"
   },
   {
    "duration": 42,
    "start_time": "2021-06-21T13:15:26.671Z"
   },
   {
    "duration": 20,
    "start_time": "2021-06-21T13:15:26.716Z"
   },
   {
    "duration": 16,
    "start_time": "2021-06-21T13:15:26.739Z"
   },
   {
    "duration": 2036,
    "start_time": "2021-06-21T13:15:26.757Z"
   },
   {
    "duration": 27,
    "start_time": "2021-06-21T13:15:28.795Z"
   },
   {
    "duration": 27,
    "start_time": "2021-06-21T13:15:28.824Z"
   },
   {
    "duration": 58,
    "start_time": "2021-06-21T13:15:28.853Z"
   },
   {
    "duration": 451,
    "start_time": "2021-06-21T13:15:28.913Z"
   },
   {
    "duration": 450,
    "start_time": "2021-06-21T13:15:29.367Z"
   },
   {
    "duration": 18,
    "start_time": "2021-06-21T13:15:29.820Z"
   },
   {
    "duration": 8,
    "start_time": "2021-06-21T13:15:29.841Z"
   },
   {
    "duration": 9,
    "start_time": "2021-06-21T13:15:29.851Z"
   },
   {
    "duration": 2188,
    "start_time": "2021-06-21T13:15:29.862Z"
   },
   {
    "duration": 12,
    "start_time": "2021-06-21T13:15:32.053Z"
   },
   {
    "duration": 41,
    "start_time": "2021-06-21T13:15:32.067Z"
   },
   {
    "duration": 16,
    "start_time": "2021-06-21T13:15:32.111Z"
   },
   {
    "duration": 19,
    "start_time": "2021-06-21T13:15:32.130Z"
   },
   {
    "duration": 21,
    "start_time": "2021-06-21T13:15:32.152Z"
   },
   {
    "duration": 1014,
    "start_time": "2021-06-21T13:15:32.177Z"
   },
   {
    "duration": 990,
    "start_time": "2021-06-21T13:15:33.194Z"
   },
   {
    "duration": 1086,
    "start_time": "2021-06-21T13:15:34.187Z"
   },
   {
    "duration": 346,
    "start_time": "2021-06-21T13:15:35.276Z"
   },
   {
    "duration": 17,
    "start_time": "2021-06-21T13:15:35.625Z"
   },
   {
    "duration": 13,
    "start_time": "2021-06-21T13:15:35.645Z"
   },
   {
    "duration": 22,
    "start_time": "2021-06-21T13:15:35.661Z"
   },
   {
    "duration": 36,
    "start_time": "2021-06-21T13:15:35.686Z"
   },
   {
    "duration": 492,
    "start_time": "2021-06-21T13:15:35.724Z"
   },
   {
    "duration": 7,
    "start_time": "2021-06-21T13:15:36.218Z"
   },
   {
    "duration": 20,
    "start_time": "2021-06-21T13:15:36.227Z"
   },
   {
    "duration": 16,
    "start_time": "2021-06-21T13:15:36.249Z"
   },
   {
    "duration": 28,
    "start_time": "2021-06-21T13:15:36.267Z"
   },
   {
    "duration": 341,
    "start_time": "2021-06-21T13:15:36.314Z"
   },
   {
    "duration": 16,
    "start_time": "2021-06-21T13:15:36.658Z"
   },
   {
    "duration": 38,
    "start_time": "2021-06-21T13:15:36.677Z"
   },
   {
    "duration": 15,
    "start_time": "2021-06-21T13:15:36.717Z"
   },
   {
    "duration": 28,
    "start_time": "2021-06-21T13:15:36.734Z"
   },
   {
    "duration": 58,
    "start_time": "2021-06-21T13:15:36.765Z"
   },
   {
    "duration": 358,
    "start_time": "2021-06-21T13:15:36.826Z"
   },
   {
    "duration": 862,
    "start_time": "2021-06-21T13:19:43.456Z"
   },
   {
    "duration": 797,
    "start_time": "2021-06-21T13:19:44.321Z"
   },
   {
    "duration": 19,
    "start_time": "2021-06-21T13:19:45.126Z"
   },
   {
    "duration": 18,
    "start_time": "2021-06-21T13:19:45.148Z"
   },
   {
    "duration": 17,
    "start_time": "2021-06-21T13:19:45.168Z"
   },
   {
    "duration": 13,
    "start_time": "2021-06-21T13:19:45.208Z"
   },
   {
    "duration": 29,
    "start_time": "2021-06-21T13:19:45.227Z"
   },
   {
    "duration": 5,
    "start_time": "2021-06-21T13:19:45.260Z"
   },
   {
    "duration": 490,
    "start_time": "2021-06-21T13:19:45.268Z"
   },
   {
    "duration": 27,
    "start_time": "2021-06-21T13:19:45.760Z"
   },
   {
    "duration": 36,
    "start_time": "2021-06-21T13:19:45.789Z"
   },
   {
    "duration": 8,
    "start_time": "2021-06-21T13:19:45.828Z"
   },
   {
    "duration": 44,
    "start_time": "2021-06-21T13:19:45.838Z"
   },
   {
    "duration": 62,
    "start_time": "2021-06-21T13:19:45.884Z"
   },
   {
    "duration": 36,
    "start_time": "2021-06-21T13:19:45.949Z"
   },
   {
    "duration": 12,
    "start_time": "2021-06-21T13:19:46.009Z"
   },
   {
    "duration": 20,
    "start_time": "2021-06-21T13:19:46.023Z"
   },
   {
    "duration": 10,
    "start_time": "2021-06-21T13:19:46.046Z"
   },
   {
    "duration": 52,
    "start_time": "2021-06-21T13:19:46.058Z"
   },
   {
    "duration": 12,
    "start_time": "2021-06-21T13:19:46.112Z"
   },
   {
    "duration": 28,
    "start_time": "2021-06-21T13:19:46.126Z"
   },
   {
    "duration": 12,
    "start_time": "2021-06-21T13:19:46.160Z"
   },
   {
    "duration": 462,
    "start_time": "2021-06-21T13:19:46.176Z"
   },
   {
    "duration": 28,
    "start_time": "2021-06-21T13:19:46.640Z"
   },
   {
    "duration": 549,
    "start_time": "2021-06-21T13:19:46.670Z"
   },
   {
    "duration": 13,
    "start_time": "2021-06-21T13:19:47.222Z"
   },
   {
    "duration": 2247,
    "start_time": "2021-06-21T13:19:47.238Z"
   },
   {
    "duration": 23,
    "start_time": "2021-06-21T13:19:49.487Z"
   },
   {
    "duration": 14,
    "start_time": "2021-06-21T13:19:49.512Z"
   },
   {
    "duration": 15,
    "start_time": "2021-06-21T13:19:49.529Z"
   },
   {
    "duration": 138,
    "start_time": "2021-06-21T13:19:49.546Z"
   },
   {
    "duration": 36,
    "start_time": "2021-06-21T13:19:49.686Z"
   },
   {
    "duration": 3,
    "start_time": "2021-06-21T13:19:49.725Z"
   },
   {
    "duration": 27,
    "start_time": "2021-06-21T13:19:49.731Z"
   },
   {
    "duration": 9,
    "start_time": "2021-06-21T13:19:49.761Z"
   },
   {
    "duration": 51,
    "start_time": "2021-06-21T13:19:49.772Z"
   },
   {
    "duration": 11,
    "start_time": "2021-06-21T13:19:49.826Z"
   },
   {
    "duration": 21,
    "start_time": "2021-06-21T13:19:49.839Z"
   },
   {
    "duration": 11,
    "start_time": "2021-06-21T13:19:49.862Z"
   },
   {
    "duration": 1902,
    "start_time": "2021-06-21T13:19:49.910Z"
   },
   {
    "duration": 21,
    "start_time": "2021-06-21T13:19:51.815Z"
   },
   {
    "duration": 30,
    "start_time": "2021-06-21T13:19:51.838Z"
   },
   {
    "duration": 59,
    "start_time": "2021-06-21T13:19:51.870Z"
   },
   {
    "duration": 447,
    "start_time": "2021-06-21T13:19:51.931Z"
   },
   {
    "duration": 451,
    "start_time": "2021-06-21T13:19:52.381Z"
   },
   {
    "duration": 19,
    "start_time": "2021-06-21T13:19:52.835Z"
   },
   {
    "duration": 7,
    "start_time": "2021-06-21T13:19:52.856Z"
   },
   {
    "duration": 11,
    "start_time": "2021-06-21T13:19:52.866Z"
   },
   {
    "duration": 2185,
    "start_time": "2021-06-21T13:19:52.879Z"
   },
   {
    "duration": 12,
    "start_time": "2021-06-21T13:19:55.067Z"
   },
   {
    "duration": 39,
    "start_time": "2021-06-21T13:19:55.082Z"
   },
   {
    "duration": 17,
    "start_time": "2021-06-21T13:19:55.124Z"
   },
   {
    "duration": 16,
    "start_time": "2021-06-21T13:19:55.144Z"
   },
   {
    "duration": 51,
    "start_time": "2021-06-21T13:19:55.163Z"
   },
   {
    "duration": 972,
    "start_time": "2021-06-21T13:19:55.216Z"
   },
   {
    "duration": 964,
    "start_time": "2021-06-21T13:19:56.191Z"
   },
   {
    "duration": 1078,
    "start_time": "2021-06-21T13:19:57.158Z"
   },
   {
    "duration": 333,
    "start_time": "2021-06-21T13:19:58.238Z"
   },
   {
    "duration": 35,
    "start_time": "2021-06-21T13:19:58.574Z"
   },
   {
    "duration": 15,
    "start_time": "2021-06-21T13:19:58.612Z"
   },
   {
    "duration": 22,
    "start_time": "2021-06-21T13:19:58.629Z"
   },
   {
    "duration": 16,
    "start_time": "2021-06-21T13:19:58.654Z"
   },
   {
    "duration": 443,
    "start_time": "2021-06-21T13:19:58.673Z"
   },
   {
    "duration": 7,
    "start_time": "2021-06-21T13:19:59.118Z"
   },
   {
    "duration": 9,
    "start_time": "2021-06-21T13:19:59.128Z"
   },
   {
    "duration": 10,
    "start_time": "2021-06-21T13:19:59.140Z"
   },
   {
    "duration": 25,
    "start_time": "2021-06-21T13:19:59.157Z"
   },
   {
    "duration": 356,
    "start_time": "2021-06-21T13:19:59.185Z"
   },
   {
    "duration": 17,
    "start_time": "2021-06-21T13:19:59.544Z"
   },
   {
    "duration": 13,
    "start_time": "2021-06-21T13:19:59.564Z"
   },
   {
    "duration": 33,
    "start_time": "2021-06-21T13:19:59.580Z"
   },
   {
    "duration": 29,
    "start_time": "2021-06-21T13:19:59.615Z"
   },
   {
    "duration": 27,
    "start_time": "2021-06-21T13:19:59.647Z"
   },
   {
    "duration": 352,
    "start_time": "2021-06-21T13:19:59.708Z"
   },
   {
    "duration": 890,
    "start_time": "2021-06-21T13:20:44.211Z"
   },
   {
    "duration": 824,
    "start_time": "2021-06-21T13:20:45.104Z"
   },
   {
    "duration": 21,
    "start_time": "2021-06-21T13:20:45.930Z"
   },
   {
    "duration": 14,
    "start_time": "2021-06-21T13:20:45.954Z"
   },
   {
    "duration": 24,
    "start_time": "2021-06-21T13:20:45.970Z"
   },
   {
    "duration": 22,
    "start_time": "2021-06-21T13:20:45.996Z"
   },
   {
    "duration": 30,
    "start_time": "2021-06-21T13:20:46.020Z"
   },
   {
    "duration": 4,
    "start_time": "2021-06-21T13:20:46.052Z"
   },
   {
    "duration": 478,
    "start_time": "2021-06-21T13:20:46.060Z"
   },
   {
    "duration": 29,
    "start_time": "2021-06-21T13:20:46.541Z"
   },
   {
    "duration": 39,
    "start_time": "2021-06-21T13:20:46.572Z"
   },
   {
    "duration": 8,
    "start_time": "2021-06-21T13:20:46.613Z"
   },
   {
    "duration": 38,
    "start_time": "2021-06-21T13:20:46.624Z"
   },
   {
    "duration": 72,
    "start_time": "2021-06-21T13:20:46.665Z"
   },
   {
    "duration": 38,
    "start_time": "2021-06-21T13:20:46.740Z"
   },
   {
    "duration": 32,
    "start_time": "2021-06-21T13:20:46.780Z"
   },
   {
    "duration": 15,
    "start_time": "2021-06-21T13:20:46.814Z"
   },
   {
    "duration": 10,
    "start_time": "2021-06-21T13:20:46.831Z"
   },
   {
    "duration": 21,
    "start_time": "2021-06-21T13:20:46.843Z"
   },
   {
    "duration": 48,
    "start_time": "2021-06-21T13:20:46.867Z"
   },
   {
    "duration": 26,
    "start_time": "2021-06-21T13:20:46.918Z"
   },
   {
    "duration": 12,
    "start_time": "2021-06-21T13:20:46.946Z"
   },
   {
    "duration": 470,
    "start_time": "2021-06-21T13:20:46.960Z"
   },
   {
    "duration": 27,
    "start_time": "2021-06-21T13:20:47.432Z"
   },
   {
    "duration": 538,
    "start_time": "2021-06-21T13:20:47.461Z"
   },
   {
    "duration": 16,
    "start_time": "2021-06-21T13:20:48.001Z"
   },
   {
    "duration": 2243,
    "start_time": "2021-06-21T13:20:48.024Z"
   },
   {
    "duration": 14,
    "start_time": "2021-06-21T13:20:50.272Z"
   },
   {
    "duration": 13,
    "start_time": "2021-06-21T13:20:50.308Z"
   },
   {
    "duration": 20,
    "start_time": "2021-06-21T13:20:50.324Z"
   },
   {
    "duration": 142,
    "start_time": "2021-06-21T13:20:50.346Z"
   },
   {
    "duration": 32,
    "start_time": "2021-06-21T13:20:50.491Z"
   },
   {
    "duration": 15,
    "start_time": "2021-06-21T13:20:50.525Z"
   },
   {
    "duration": 29,
    "start_time": "2021-06-21T13:20:50.542Z"
   },
   {
    "duration": 9,
    "start_time": "2021-06-21T13:20:50.573Z"
   },
   {
    "duration": 35,
    "start_time": "2021-06-21T13:20:50.585Z"
   },
   {
    "duration": 15,
    "start_time": "2021-06-21T13:20:50.622Z"
   },
   {
    "duration": 19,
    "start_time": "2021-06-21T13:20:50.640Z"
   },
   {
    "duration": 11,
    "start_time": "2021-06-21T13:20:50.661Z"
   },
   {
    "duration": 1993,
    "start_time": "2021-06-21T13:20:50.674Z"
   },
   {
    "duration": 21,
    "start_time": "2021-06-21T13:20:52.669Z"
   },
   {
    "duration": 41,
    "start_time": "2021-06-21T13:20:52.693Z"
   },
   {
    "duration": 35,
    "start_time": "2021-06-21T13:20:52.736Z"
   },
   {
    "duration": 535,
    "start_time": "2021-06-21T13:20:52.774Z"
   },
   {
    "duration": 441,
    "start_time": "2021-06-21T13:20:53.311Z"
   },
   {
    "duration": 19,
    "start_time": "2021-06-21T13:20:53.755Z"
   },
   {
    "duration": 9,
    "start_time": "2021-06-21T13:20:53.776Z"
   },
   {
    "duration": 23,
    "start_time": "2021-06-21T13:20:53.787Z"
   },
   {
    "duration": 2156,
    "start_time": "2021-06-21T13:20:53.813Z"
   },
   {
    "duration": 12,
    "start_time": "2021-06-21T13:20:55.971Z"
   },
   {
    "duration": 34,
    "start_time": "2021-06-21T13:20:55.985Z"
   },
   {
    "duration": 18,
    "start_time": "2021-06-21T13:20:56.021Z"
   },
   {
    "duration": 16,
    "start_time": "2021-06-21T13:20:56.042Z"
   },
   {
    "duration": 57,
    "start_time": "2021-06-21T13:20:56.060Z"
   },
   {
    "duration": 1007,
    "start_time": "2021-06-21T13:20:56.120Z"
   },
   {
    "duration": 1039,
    "start_time": "2021-06-21T13:20:57.129Z"
   },
   {
    "duration": 992,
    "start_time": "2021-06-21T13:20:58.170Z"
   },
   {
    "duration": 425,
    "start_time": "2021-06-21T13:20:59.165Z"
   },
   {
    "duration": 28,
    "start_time": "2021-06-21T13:20:59.592Z"
   },
   {
    "duration": 13,
    "start_time": "2021-06-21T13:20:59.622Z"
   },
   {
    "duration": 18,
    "start_time": "2021-06-21T13:20:59.637Z"
   },
   {
    "duration": 9,
    "start_time": "2021-06-21T13:20:59.657Z"
   },
   {
    "duration": 454,
    "start_time": "2021-06-21T13:20:59.668Z"
   },
   {
    "duration": 6,
    "start_time": "2021-06-21T13:21:00.124Z"
   },
   {
    "duration": 28,
    "start_time": "2021-06-21T13:21:00.132Z"
   },
   {
    "duration": 17,
    "start_time": "2021-06-21T13:21:00.162Z"
   },
   {
    "duration": 33,
    "start_time": "2021-06-21T13:21:00.181Z"
   },
   {
    "duration": 340,
    "start_time": "2021-06-21T13:21:00.217Z"
   },
   {
    "duration": 16,
    "start_time": "2021-06-21T13:21:00.559Z"
   },
   {
    "duration": 32,
    "start_time": "2021-06-21T13:21:00.577Z"
   },
   {
    "duration": 19,
    "start_time": "2021-06-21T13:21:00.611Z"
   },
   {
    "duration": 35,
    "start_time": "2021-06-21T13:21:00.633Z"
   },
   {
    "duration": 42,
    "start_time": "2021-06-21T13:21:00.671Z"
   },
   {
    "duration": 380,
    "start_time": "2021-06-21T13:21:00.715Z"
   },
   {
    "duration": 128,
    "start_time": "2021-06-21T13:22:09.848Z"
   },
   {
    "duration": 927,
    "start_time": "2021-06-21T13:25:17.762Z"
   },
   {
    "duration": 913,
    "start_time": "2021-06-21T13:25:18.692Z"
   },
   {
    "duration": 22,
    "start_time": "2021-06-21T13:25:19.608Z"
   },
   {
    "duration": 16,
    "start_time": "2021-06-21T13:25:19.633Z"
   },
   {
    "duration": 30,
    "start_time": "2021-06-21T13:25:19.652Z"
   },
   {
    "duration": 27,
    "start_time": "2021-06-21T13:25:19.684Z"
   },
   {
    "duration": 45,
    "start_time": "2021-06-21T13:25:19.714Z"
   },
   {
    "duration": 5,
    "start_time": "2021-06-21T13:25:19.762Z"
   },
   {
    "duration": 477,
    "start_time": "2021-06-21T13:25:19.771Z"
   },
   {
    "duration": 29,
    "start_time": "2021-06-21T13:25:20.252Z"
   },
   {
    "duration": 49,
    "start_time": "2021-06-21T13:25:20.284Z"
   },
   {
    "duration": 9,
    "start_time": "2021-06-21T13:25:20.335Z"
   },
   {
    "duration": 69,
    "start_time": "2021-06-21T13:25:20.346Z"
   },
   {
    "duration": 42,
    "start_time": "2021-06-21T13:25:20.420Z"
   },
   {
    "duration": 61,
    "start_time": "2021-06-21T13:25:20.464Z"
   },
   {
    "duration": 12,
    "start_time": "2021-06-21T13:25:20.528Z"
   },
   {
    "duration": 30,
    "start_time": "2021-06-21T13:25:20.542Z"
   },
   {
    "duration": 11,
    "start_time": "2021-06-21T13:25:20.574Z"
   },
   {
    "duration": 48,
    "start_time": "2021-06-21T13:25:20.587Z"
   },
   {
    "duration": 12,
    "start_time": "2021-06-21T13:25:20.638Z"
   },
   {
    "duration": 28,
    "start_time": "2021-06-21T13:25:20.652Z"
   },
   {
    "duration": 20,
    "start_time": "2021-06-21T13:25:20.709Z"
   },
   {
    "duration": 620,
    "start_time": "2021-06-21T13:25:20.732Z"
   },
   {
    "duration": 27,
    "start_time": "2021-06-21T13:25:21.355Z"
   },
   {
    "duration": 685,
    "start_time": "2021-06-21T13:25:21.385Z"
   },
   {
    "duration": 11,
    "start_time": "2021-06-21T13:25:22.072Z"
   },
   {
    "duration": 2495,
    "start_time": "2021-06-21T13:25:22.108Z"
   },
   {
    "duration": 14,
    "start_time": "2021-06-21T13:25:24.606Z"
   },
   {
    "duration": 26,
    "start_time": "2021-06-21T13:25:24.622Z"
   },
   {
    "duration": 29,
    "start_time": "2021-06-21T13:25:24.650Z"
   },
   {
    "duration": 129,
    "start_time": "2021-06-21T13:25:24.681Z"
   },
   {
    "duration": 22,
    "start_time": "2021-06-21T13:25:24.812Z"
   },
   {
    "duration": 23,
    "start_time": "2021-06-21T13:25:24.836Z"
   },
   {
    "duration": 28,
    "start_time": "2021-06-21T13:25:24.861Z"
   },
   {
    "duration": 21,
    "start_time": "2021-06-21T13:25:24.891Z"
   },
   {
    "duration": 20,
    "start_time": "2021-06-21T13:25:24.915Z"
   },
   {
    "duration": 91,
    "start_time": "2021-06-21T13:25:24.937Z"
   },
   {
    "duration": 58,
    "start_time": "2021-06-21T13:25:25.030Z"
   },
   {
    "duration": 79,
    "start_time": "2021-06-21T13:25:25.091Z"
   },
   {
    "duration": 1940,
    "start_time": "2021-06-21T13:25:25.172Z"
   },
   {
    "duration": 24,
    "start_time": "2021-06-21T13:25:27.114Z"
   },
   {
    "duration": 31,
    "start_time": "2021-06-21T13:25:27.141Z"
   },
   {
    "duration": 57,
    "start_time": "2021-06-21T13:25:27.174Z"
   },
   {
    "duration": 511,
    "start_time": "2021-06-21T13:25:27.234Z"
   },
   {
    "duration": 454,
    "start_time": "2021-06-21T13:25:27.747Z"
   },
   {
    "duration": 19,
    "start_time": "2021-06-21T13:25:28.208Z"
   },
   {
    "duration": 9,
    "start_time": "2021-06-21T13:25:28.230Z"
   },
   {
    "duration": 11,
    "start_time": "2021-06-21T13:25:28.241Z"
   },
   {
    "duration": 2197,
    "start_time": "2021-06-21T13:25:28.254Z"
   },
   {
    "duration": 12,
    "start_time": "2021-06-21T13:25:30.453Z"
   },
   {
    "duration": 25,
    "start_time": "2021-06-21T13:25:30.467Z"
   },
   {
    "duration": 29,
    "start_time": "2021-06-21T13:25:30.495Z"
   },
   {
    "duration": 27,
    "start_time": "2021-06-21T13:25:30.527Z"
   },
   {
    "duration": 32,
    "start_time": "2021-06-21T13:25:30.557Z"
   },
   {
    "duration": 963,
    "start_time": "2021-06-21T13:25:30.592Z"
   },
   {
    "duration": 998,
    "start_time": "2021-06-21T13:25:31.557Z"
   },
   {
    "duration": 1009,
    "start_time": "2021-06-21T13:25:32.557Z"
   },
   {
    "duration": 432,
    "start_time": "2021-06-21T13:25:33.569Z"
   },
   {
    "duration": 22,
    "start_time": "2021-06-21T13:25:34.003Z"
   },
   {
    "duration": 13,
    "start_time": "2021-06-21T13:25:34.027Z"
   },
   {
    "duration": 13,
    "start_time": "2021-06-21T13:25:34.042Z"
   },
   {
    "duration": 13,
    "start_time": "2021-06-21T13:25:34.057Z"
   },
   {
    "duration": 447,
    "start_time": "2021-06-21T13:25:34.073Z"
   },
   {
    "duration": 6,
    "start_time": "2021-06-21T13:25:34.522Z"
   },
   {
    "duration": 13,
    "start_time": "2021-06-21T13:25:34.531Z"
   },
   {
    "duration": 16,
    "start_time": "2021-06-21T13:25:34.547Z"
   },
   {
    "duration": 44,
    "start_time": "2021-06-21T13:25:34.565Z"
   },
   {
    "duration": 337,
    "start_time": "2021-06-21T13:25:34.611Z"
   },
   {
    "duration": 14,
    "start_time": "2021-06-21T13:25:34.951Z"
   },
   {
    "duration": 12,
    "start_time": "2021-06-21T13:25:34.968Z"
   },
   {
    "duration": 31,
    "start_time": "2021-06-21T13:25:34.983Z"
   },
   {
    "duration": 28,
    "start_time": "2021-06-21T13:25:35.016Z"
   },
   {
    "duration": 28,
    "start_time": "2021-06-21T13:25:35.047Z"
   },
   {
    "duration": 358,
    "start_time": "2021-06-21T13:25:35.109Z"
   },
   {
    "duration": 973,
    "start_time": "2021-06-21T13:28:37.191Z"
   },
   {
    "duration": 913,
    "start_time": "2021-06-21T13:28:38.166Z"
   },
   {
    "duration": 20,
    "start_time": "2021-06-21T13:28:39.082Z"
   },
   {
    "duration": 17,
    "start_time": "2021-06-21T13:28:39.105Z"
   },
   {
    "duration": 12,
    "start_time": "2021-06-21T13:28:39.125Z"
   },
   {
    "duration": 12,
    "start_time": "2021-06-21T13:28:39.139Z"
   },
   {
    "duration": 66,
    "start_time": "2021-06-21T13:28:39.154Z"
   },
   {
    "duration": 8,
    "start_time": "2021-06-21T13:28:39.226Z"
   },
   {
    "duration": 480,
    "start_time": "2021-06-21T13:28:39.238Z"
   },
   {
    "duration": 34,
    "start_time": "2021-06-21T13:28:39.722Z"
   },
   {
    "duration": 21,
    "start_time": "2021-06-21T13:28:39.759Z"
   },
   {
    "duration": 14,
    "start_time": "2021-06-21T13:28:39.809Z"
   },
   {
    "duration": 40,
    "start_time": "2021-06-21T13:28:39.827Z"
   },
   {
    "duration": 79,
    "start_time": "2021-06-21T13:28:39.870Z"
   },
   {
    "duration": 37,
    "start_time": "2021-06-21T13:28:39.951Z"
   },
   {
    "duration": 34,
    "start_time": "2021-06-21T13:28:39.991Z"
   },
   {
    "duration": 31,
    "start_time": "2021-06-21T13:28:40.028Z"
   },
   {
    "duration": 15,
    "start_time": "2021-06-21T13:28:40.061Z"
   },
   {
    "duration": 40,
    "start_time": "2021-06-21T13:28:40.078Z"
   },
   {
    "duration": 17,
    "start_time": "2021-06-21T13:28:40.139Z"
   },
   {
    "duration": 31,
    "start_time": "2021-06-21T13:28:40.159Z"
   },
   {
    "duration": 30,
    "start_time": "2021-06-21T13:28:40.194Z"
   },
   {
    "duration": 460,
    "start_time": "2021-06-21T13:28:40.233Z"
   },
   {
    "duration": 41,
    "start_time": "2021-06-21T13:28:40.697Z"
   },
   {
    "duration": 563,
    "start_time": "2021-06-21T13:28:40.741Z"
   },
   {
    "duration": 18,
    "start_time": "2021-06-21T13:28:41.309Z"
   },
   {
    "duration": 2426,
    "start_time": "2021-06-21T13:28:41.329Z"
   },
   {
    "duration": 12,
    "start_time": "2021-06-21T13:28:43.758Z"
   },
   {
    "duration": 12,
    "start_time": "2021-06-21T13:28:43.773Z"
   },
   {
    "duration": 20,
    "start_time": "2021-06-21T13:28:43.809Z"
   },
   {
    "duration": 144,
    "start_time": "2021-06-21T13:28:43.831Z"
   },
   {
    "duration": 32,
    "start_time": "2021-06-21T13:28:43.977Z"
   },
   {
    "duration": 4,
    "start_time": "2021-06-21T13:28:44.012Z"
   },
   {
    "duration": 56,
    "start_time": "2021-06-21T13:28:44.019Z"
   },
   {
    "duration": 11,
    "start_time": "2021-06-21T13:28:44.077Z"
   },
   {
    "duration": 39,
    "start_time": "2021-06-21T13:28:44.091Z"
   },
   {
    "duration": 13,
    "start_time": "2021-06-21T13:28:44.133Z"
   },
   {
    "duration": 23,
    "start_time": "2021-06-21T13:28:44.149Z"
   },
   {
    "duration": 52,
    "start_time": "2021-06-21T13:28:44.175Z"
   },
   {
    "duration": 2101,
    "start_time": "2021-06-21T13:28:44.230Z"
   },
   {
    "duration": 22,
    "start_time": "2021-06-21T13:28:46.334Z"
   },
   {
    "duration": 27,
    "start_time": "2021-06-21T13:28:46.359Z"
   },
   {
    "duration": 58,
    "start_time": "2021-06-21T13:28:46.388Z"
   },
   {
    "duration": 498,
    "start_time": "2021-06-21T13:28:46.448Z"
   },
   {
    "duration": 500,
    "start_time": "2021-06-21T13:28:46.949Z"
   },
   {
    "duration": 20,
    "start_time": "2021-06-21T13:28:47.451Z"
   },
   {
    "duration": 9,
    "start_time": "2021-06-21T13:28:47.473Z"
   },
   {
    "duration": 27,
    "start_time": "2021-06-21T13:28:47.484Z"
   },
   {
    "duration": 2373,
    "start_time": "2021-06-21T13:28:47.515Z"
   },
   {
    "duration": 35,
    "start_time": "2021-06-21T13:28:49.891Z"
   },
   {
    "duration": 24,
    "start_time": "2021-06-21T13:28:49.929Z"
   },
   {
    "duration": 16,
    "start_time": "2021-06-21T13:28:49.955Z"
   },
   {
    "duration": 44,
    "start_time": "2021-06-21T13:28:49.974Z"
   },
   {
    "duration": 22,
    "start_time": "2021-06-21T13:28:50.022Z"
   },
   {
    "duration": 1068,
    "start_time": "2021-06-21T13:28:50.046Z"
   },
   {
    "duration": 1076,
    "start_time": "2021-06-21T13:28:51.118Z"
   },
   {
    "duration": 1130,
    "start_time": "2021-06-21T13:28:52.197Z"
   },
   {
    "duration": 365,
    "start_time": "2021-06-21T13:28:53.331Z"
   },
   {
    "duration": 30,
    "start_time": "2021-06-21T13:28:53.698Z"
   },
   {
    "duration": 13,
    "start_time": "2021-06-21T13:28:53.731Z"
   },
   {
    "duration": 7,
    "start_time": "2021-06-21T13:28:53.746Z"
   },
   {
    "duration": 7,
    "start_time": "2021-06-21T13:28:53.756Z"
   },
   {
    "duration": 477,
    "start_time": "2021-06-21T13:28:53.766Z"
   },
   {
    "duration": 8,
    "start_time": "2021-06-21T13:28:54.246Z"
   },
   {
    "duration": 9,
    "start_time": "2021-06-21T13:28:54.257Z"
   },
   {
    "duration": 9,
    "start_time": "2021-06-21T13:28:54.269Z"
   },
   {
    "duration": 29,
    "start_time": "2021-06-21T13:28:54.310Z"
   },
   {
    "duration": 368,
    "start_time": "2021-06-21T13:28:54.349Z"
   },
   {
    "duration": 20,
    "start_time": "2021-06-21T13:28:54.721Z"
   },
   {
    "duration": 14,
    "start_time": "2021-06-21T13:28:54.744Z"
   },
   {
    "duration": 7,
    "start_time": "2021-06-21T13:28:54.761Z"
   },
   {
    "duration": 33,
    "start_time": "2021-06-21T13:28:54.810Z"
   },
   {
    "duration": 26,
    "start_time": "2021-06-21T13:28:54.846Z"
   },
   {
    "duration": 417,
    "start_time": "2021-06-21T13:28:54.875Z"
   },
   {
    "duration": 898,
    "start_time": "2021-06-21T14:09:19.011Z"
   },
   {
    "duration": 1033,
    "start_time": "2021-06-21T14:09:19.911Z"
   },
   {
    "duration": 20,
    "start_time": "2021-06-21T14:09:20.948Z"
   },
   {
    "duration": 10,
    "start_time": "2021-06-21T14:09:20.971Z"
   },
   {
    "duration": 25,
    "start_time": "2021-06-21T14:09:20.984Z"
   },
   {
    "duration": 13,
    "start_time": "2021-06-21T14:09:21.011Z"
   },
   {
    "duration": 28,
    "start_time": "2021-06-21T14:09:21.026Z"
   },
   {
    "duration": 5,
    "start_time": "2021-06-21T14:09:21.057Z"
   },
   {
    "duration": 480,
    "start_time": "2021-06-21T14:09:21.066Z"
   },
   {
    "duration": 29,
    "start_time": "2021-06-21T14:09:21.549Z"
   },
   {
    "duration": 37,
    "start_time": "2021-06-21T14:09:21.580Z"
   },
   {
    "duration": 8,
    "start_time": "2021-06-21T14:09:21.619Z"
   },
   {
    "duration": 44,
    "start_time": "2021-06-21T14:09:21.629Z"
   },
   {
    "duration": 67,
    "start_time": "2021-06-21T14:09:21.675Z"
   },
   {
    "duration": 37,
    "start_time": "2021-06-21T14:09:21.744Z"
   },
   {
    "duration": 28,
    "start_time": "2021-06-21T14:09:21.783Z"
   },
   {
    "duration": 36,
    "start_time": "2021-06-21T14:09:21.813Z"
   },
   {
    "duration": 9,
    "start_time": "2021-06-21T14:09:21.851Z"
   },
   {
    "duration": 22,
    "start_time": "2021-06-21T14:09:21.862Z"
   },
   {
    "duration": 31,
    "start_time": "2021-06-21T14:09:21.886Z"
   },
   {
    "duration": 26,
    "start_time": "2021-06-21T14:09:21.919Z"
   },
   {
    "duration": 13,
    "start_time": "2021-06-21T14:09:21.947Z"
   },
   {
    "duration": 469,
    "start_time": "2021-06-21T14:09:21.963Z"
   },
   {
    "duration": 29,
    "start_time": "2021-06-21T14:09:22.434Z"
   },
   {
    "duration": 550,
    "start_time": "2021-06-21T14:09:22.465Z"
   },
   {
    "duration": 12,
    "start_time": "2021-06-21T14:09:23.018Z"
   },
   {
    "duration": 2244,
    "start_time": "2021-06-21T14:09:23.037Z"
   },
   {
    "duration": 25,
    "start_time": "2021-06-21T14:09:25.284Z"
   },
   {
    "duration": 12,
    "start_time": "2021-06-21T14:09:25.311Z"
   },
   {
    "duration": 14,
    "start_time": "2021-06-21T14:09:25.326Z"
   },
   {
    "duration": 141,
    "start_time": "2021-06-21T14:09:25.343Z"
   },
   {
    "duration": 30,
    "start_time": "2021-06-21T14:09:25.486Z"
   },
   {
    "duration": 30,
    "start_time": "2021-06-21T14:09:25.518Z"
   },
   {
    "duration": 36,
    "start_time": "2021-06-21T14:09:25.551Z"
   },
   {
    "duration": 14,
    "start_time": "2021-06-21T14:09:25.589Z"
   },
   {
    "duration": 28,
    "start_time": "2021-06-21T14:09:25.606Z"
   },
   {
    "duration": 22,
    "start_time": "2021-06-21T14:09:25.637Z"
   },
   {
    "duration": 36,
    "start_time": "2021-06-21T14:09:25.662Z"
   },
   {
    "duration": 12,
    "start_time": "2021-06-21T14:09:25.701Z"
   },
   {
    "duration": 1988,
    "start_time": "2021-06-21T14:09:25.716Z"
   },
   {
    "duration": 24,
    "start_time": "2021-06-21T14:09:27.710Z"
   },
   {
    "duration": 33,
    "start_time": "2021-06-21T14:09:27.736Z"
   },
   {
    "duration": 54,
    "start_time": "2021-06-21T14:09:27.771Z"
   },
   {
    "duration": 482,
    "start_time": "2021-06-21T14:09:27.827Z"
   },
   {
    "duration": 451,
    "start_time": "2021-06-21T14:09:28.311Z"
   },
   {
    "duration": 18,
    "start_time": "2021-06-21T14:09:28.764Z"
   },
   {
    "duration": 29,
    "start_time": "2021-06-21T14:09:28.785Z"
   },
   {
    "duration": 18,
    "start_time": "2021-06-21T14:09:28.817Z"
   },
   {
    "duration": 2112,
    "start_time": "2021-06-21T14:09:28.838Z"
   },
   {
    "duration": 12,
    "start_time": "2021-06-21T14:09:30.953Z"
   },
   {
    "duration": 44,
    "start_time": "2021-06-21T14:09:30.968Z"
   },
   {
    "duration": 17,
    "start_time": "2021-06-21T14:09:31.014Z"
   },
   {
    "duration": 17,
    "start_time": "2021-06-21T14:09:31.033Z"
   },
   {
    "duration": 23,
    "start_time": "2021-06-21T14:09:31.052Z"
   },
   {
    "duration": 1024,
    "start_time": "2021-06-21T14:09:31.077Z"
   },
   {
    "duration": 1061,
    "start_time": "2021-06-21T14:09:32.107Z"
   },
   {
    "duration": 1004,
    "start_time": "2021-06-21T14:09:33.170Z"
   },
   {
    "duration": 443,
    "start_time": "2021-06-21T14:09:34.177Z"
   },
   {
    "duration": 18,
    "start_time": "2021-06-21T14:09:34.622Z"
   },
   {
    "duration": 13,
    "start_time": "2021-06-21T14:09:34.643Z"
   },
   {
    "duration": 17,
    "start_time": "2021-06-21T14:09:34.659Z"
   },
   {
    "duration": 36,
    "start_time": "2021-06-21T14:09:34.678Z"
   },
   {
    "duration": 449,
    "start_time": "2021-06-21T14:09:34.716Z"
   },
   {
    "duration": 6,
    "start_time": "2021-06-21T14:09:35.168Z"
   },
   {
    "duration": 12,
    "start_time": "2021-06-21T14:09:35.176Z"
   },
   {
    "duration": 19,
    "start_time": "2021-06-21T14:09:35.191Z"
   },
   {
    "duration": 25,
    "start_time": "2021-06-21T14:09:35.212Z"
   },
   {
    "duration": 349,
    "start_time": "2021-06-21T14:09:35.240Z"
   },
   {
    "duration": 25,
    "start_time": "2021-06-21T14:09:35.592Z"
   },
   {
    "duration": 14,
    "start_time": "2021-06-21T14:09:35.619Z"
   },
   {
    "duration": 17,
    "start_time": "2021-06-21T14:09:35.635Z"
   },
   {
    "duration": 27,
    "start_time": "2021-06-21T14:09:35.654Z"
   },
   {
    "duration": 27,
    "start_time": "2021-06-21T14:09:35.710Z"
   },
   {
    "duration": 408,
    "start_time": "2021-06-21T14:09:35.739Z"
   },
   {
    "duration": 113,
    "start_time": "2021-06-21T14:10:21.347Z"
   },
   {
    "duration": 35,
    "start_time": "2021-06-21T14:14:30.891Z"
   },
   {
    "duration": 458,
    "start_time": "2021-06-21T14:19:58.308Z"
   },
   {
    "duration": 346,
    "start_time": "2021-06-21T14:20:21.157Z"
   },
   {
    "duration": 394,
    "start_time": "2021-06-21T14:20:52.492Z"
   },
   {
    "duration": 377,
    "start_time": "2021-06-21T14:21:36.337Z"
   },
   {
    "duration": 1223,
    "start_time": "2021-06-21T14:21:40.999Z"
   },
   {
    "duration": 1074,
    "start_time": "2021-06-21T14:21:42.226Z"
   },
   {
    "duration": 23,
    "start_time": "2021-06-21T14:21:43.304Z"
   },
   {
    "duration": 12,
    "start_time": "2021-06-21T14:21:43.330Z"
   },
   {
    "duration": 14,
    "start_time": "2021-06-21T14:21:43.345Z"
   },
   {
    "duration": 54,
    "start_time": "2021-06-21T14:21:43.361Z"
   },
   {
    "duration": 31,
    "start_time": "2021-06-21T14:21:43.417Z"
   },
   {
    "duration": 4,
    "start_time": "2021-06-21T14:21:43.450Z"
   },
   {
    "duration": 462,
    "start_time": "2021-06-21T14:21:43.461Z"
   },
   {
    "duration": 28,
    "start_time": "2021-06-21T14:21:43.926Z"
   },
   {
    "duration": 21,
    "start_time": "2021-06-21T14:21:43.956Z"
   },
   {
    "duration": 35,
    "start_time": "2021-06-21T14:21:43.980Z"
   },
   {
    "duration": 37,
    "start_time": "2021-06-21T14:21:44.017Z"
   },
   {
    "duration": 74,
    "start_time": "2021-06-21T14:21:44.057Z"
   },
   {
    "duration": 36,
    "start_time": "2021-06-21T14:21:44.133Z"
   },
   {
    "duration": 11,
    "start_time": "2021-06-21T14:21:44.172Z"
   },
   {
    "duration": 18,
    "start_time": "2021-06-21T14:21:44.210Z"
   },
   {
    "duration": 14,
    "start_time": "2021-06-21T14:21:44.231Z"
   },
   {
    "duration": 22,
    "start_time": "2021-06-21T14:21:44.248Z"
   },
   {
    "duration": 13,
    "start_time": "2021-06-21T14:21:44.309Z"
   },
   {
    "duration": 23,
    "start_time": "2021-06-21T14:21:44.325Z"
   },
   {
    "duration": 13,
    "start_time": "2021-06-21T14:21:44.351Z"
   },
   {
    "duration": 542,
    "start_time": "2021-06-21T14:21:44.366Z"
   },
   {
    "duration": 26,
    "start_time": "2021-06-21T14:21:44.911Z"
   },
   {
    "duration": 538,
    "start_time": "2021-06-21T14:21:44.939Z"
   },
   {
    "duration": 12,
    "start_time": "2021-06-21T14:21:45.479Z"
   },
   {
    "duration": 2334,
    "start_time": "2021-06-21T14:21:45.511Z"
   },
   {
    "duration": 13,
    "start_time": "2021-06-21T14:21:47.849Z"
   },
   {
    "duration": 23,
    "start_time": "2021-06-21T14:21:47.865Z"
   },
   {
    "duration": 29,
    "start_time": "2021-06-21T14:21:47.890Z"
   },
   {
    "duration": 139,
    "start_time": "2021-06-21T14:21:47.922Z"
   },
   {
    "duration": 433,
    "start_time": "2021-06-21T14:21:48.064Z"
   },
   {
    "duration": 107,
    "start_time": "2021-06-21T14:21:48.392Z"
   },
   {
    "duration": 106,
    "start_time": "2021-06-21T14:21:48.395Z"
   },
   {
    "duration": 106,
    "start_time": "2021-06-21T14:21:48.397Z"
   },
   {
    "duration": 104,
    "start_time": "2021-06-21T14:21:48.400Z"
   },
   {
    "duration": 103,
    "start_time": "2021-06-21T14:21:48.402Z"
   },
   {
    "duration": 102,
    "start_time": "2021-06-21T14:21:48.404Z"
   },
   {
    "duration": 102,
    "start_time": "2021-06-21T14:21:48.406Z"
   },
   {
    "duration": 95,
    "start_time": "2021-06-21T14:21:48.414Z"
   },
   {
    "duration": 95,
    "start_time": "2021-06-21T14:21:48.416Z"
   },
   {
    "duration": 95,
    "start_time": "2021-06-21T14:21:48.418Z"
   },
   {
    "duration": 94,
    "start_time": "2021-06-21T14:21:48.420Z"
   },
   {
    "duration": 93,
    "start_time": "2021-06-21T14:21:48.423Z"
   },
   {
    "duration": 93,
    "start_time": "2021-06-21T14:21:48.424Z"
   },
   {
    "duration": 92,
    "start_time": "2021-06-21T14:21:48.426Z"
   },
   {
    "duration": 91,
    "start_time": "2021-06-21T14:21:48.429Z"
   },
   {
    "duration": 47,
    "start_time": "2021-06-21T14:21:48.474Z"
   },
   {
    "duration": 45,
    "start_time": "2021-06-21T14:21:48.477Z"
   },
   {
    "duration": 44,
    "start_time": "2021-06-21T14:21:48.480Z"
   },
   {
    "duration": 42,
    "start_time": "2021-06-21T14:21:48.483Z"
   },
   {
    "duration": 34,
    "start_time": "2021-06-21T14:21:48.492Z"
   },
   {
    "duration": 26,
    "start_time": "2021-06-21T14:21:48.501Z"
   },
   {
    "duration": 26,
    "start_time": "2021-06-21T14:21:48.503Z"
   },
   {
    "duration": 1,
    "start_time": "2021-06-21T14:21:48.529Z"
   },
   {
    "duration": 0,
    "start_time": "2021-06-21T14:21:48.531Z"
   },
   {
    "duration": 0,
    "start_time": "2021-06-21T14:21:48.533Z"
   },
   {
    "duration": -42,
    "start_time": "2021-06-21T14:21:48.576Z"
   },
   {
    "duration": -48,
    "start_time": "2021-06-21T14:21:48.583Z"
   },
   {
    "duration": -48,
    "start_time": "2021-06-21T14:21:48.585Z"
   },
   {
    "duration": -48,
    "start_time": "2021-06-21T14:21:48.587Z"
   },
   {
    "duration": -48,
    "start_time": "2021-06-21T14:21:48.588Z"
   },
   {
    "duration": -49,
    "start_time": "2021-06-21T14:21:48.590Z"
   },
   {
    "duration": -57,
    "start_time": "2021-06-21T14:21:48.599Z"
   },
   {
    "duration": -58,
    "start_time": "2021-06-21T14:21:48.602Z"
   },
   {
    "duration": -58,
    "start_time": "2021-06-21T14:21:48.603Z"
   },
   {
    "duration": -62,
    "start_time": "2021-06-21T14:21:48.608Z"
   },
   {
    "duration": -62,
    "start_time": "2021-06-21T14:21:48.610Z"
   },
   {
    "duration": -3,
    "start_time": "2021-06-21T14:21:48.612Z"
   },
   {
    "duration": -4,
    "start_time": "2021-06-21T14:21:48.614Z"
   },
   {
    "duration": -12,
    "start_time": "2021-06-21T14:21:48.624Z"
   },
   {
    "duration": -13,
    "start_time": "2021-06-21T14:21:48.626Z"
   },
   {
    "duration": -13,
    "start_time": "2021-06-21T14:21:48.628Z"
   },
   {
    "duration": -14,
    "start_time": "2021-06-21T14:21:48.630Z"
   },
   {
    "duration": -16,
    "start_time": "2021-06-21T14:21:48.633Z"
   },
   {
    "duration": 592,
    "start_time": "2021-06-21T14:22:27.270Z"
   },
   {
    "duration": 343,
    "start_time": "2021-06-21T14:23:26.062Z"
   },
   {
    "duration": 41,
    "start_time": "2021-06-21T14:26:20.345Z"
   },
   {
    "duration": 853,
    "start_time": "2021-06-21T14:26:27.965Z"
   },
   {
    "duration": 1071,
    "start_time": "2021-06-21T14:26:28.821Z"
   },
   {
    "duration": 19,
    "start_time": "2021-06-21T14:26:29.895Z"
   },
   {
    "duration": 14,
    "start_time": "2021-06-21T14:26:29.917Z"
   },
   {
    "duration": 27,
    "start_time": "2021-06-21T14:26:29.933Z"
   },
   {
    "duration": 17,
    "start_time": "2021-06-21T14:26:29.963Z"
   },
   {
    "duration": 43,
    "start_time": "2021-06-21T14:26:29.983Z"
   },
   {
    "duration": 5,
    "start_time": "2021-06-21T14:26:30.030Z"
   },
   {
    "duration": 475,
    "start_time": "2021-06-21T14:26:30.037Z"
   },
   {
    "duration": 29,
    "start_time": "2021-06-21T14:26:30.514Z"
   },
   {
    "duration": 21,
    "start_time": "2021-06-21T14:26:30.546Z"
   },
   {
    "duration": 39,
    "start_time": "2021-06-21T14:26:30.570Z"
   },
   {
    "duration": 42,
    "start_time": "2021-06-21T14:26:30.611Z"
   },
   {
    "duration": 59,
    "start_time": "2021-06-21T14:26:30.656Z"
   },
   {
    "duration": 36,
    "start_time": "2021-06-21T14:26:30.718Z"
   },
   {
    "duration": 12,
    "start_time": "2021-06-21T14:26:30.756Z"
   },
   {
    "duration": 47,
    "start_time": "2021-06-21T14:26:30.770Z"
   },
   {
    "duration": 10,
    "start_time": "2021-06-21T14:26:30.819Z"
   },
   {
    "duration": 25,
    "start_time": "2021-06-21T14:26:30.832Z"
   },
   {
    "duration": 12,
    "start_time": "2021-06-21T14:26:30.860Z"
   },
   {
    "duration": 58,
    "start_time": "2021-06-21T14:26:30.875Z"
   },
   {
    "duration": 22,
    "start_time": "2021-06-21T14:26:30.935Z"
   },
   {
    "duration": 447,
    "start_time": "2021-06-21T14:26:30.964Z"
   },
   {
    "duration": 26,
    "start_time": "2021-06-21T14:26:31.414Z"
   },
   {
    "duration": 534,
    "start_time": "2021-06-21T14:26:31.442Z"
   },
   {
    "duration": 11,
    "start_time": "2021-06-21T14:26:31.979Z"
   },
   {
    "duration": 2222,
    "start_time": "2021-06-21T14:26:31.992Z"
   },
   {
    "duration": 13,
    "start_time": "2021-06-21T14:26:34.216Z"
   },
   {
    "duration": 18,
    "start_time": "2021-06-21T14:26:34.231Z"
   },
   {
    "duration": 23,
    "start_time": "2021-06-21T14:26:34.252Z"
   },
   {
    "duration": 147,
    "start_time": "2021-06-21T14:26:34.278Z"
   },
   {
    "duration": 44,
    "start_time": "2021-06-21T14:26:34.428Z"
   },
   {
    "duration": 45,
    "start_time": "2021-06-21T14:26:34.474Z"
   },
   {
    "duration": 1322,
    "start_time": "2021-06-21T14:26:34.521Z"
   },
   {
    "duration": 109,
    "start_time": "2021-06-21T14:26:35.738Z"
   },
   {
    "duration": 108,
    "start_time": "2021-06-21T14:26:35.740Z"
   },
   {
    "duration": 107,
    "start_time": "2021-06-21T14:26:35.743Z"
   },
   {
    "duration": 107,
    "start_time": "2021-06-21T14:26:35.744Z"
   },
   {
    "duration": 107,
    "start_time": "2021-06-21T14:26:35.746Z"
   },
   {
    "duration": 105,
    "start_time": "2021-06-21T14:26:35.749Z"
   },
   {
    "duration": 105,
    "start_time": "2021-06-21T14:26:35.751Z"
   },
   {
    "duration": 104,
    "start_time": "2021-06-21T14:26:35.753Z"
   },
   {
    "duration": 103,
    "start_time": "2021-06-21T14:26:35.755Z"
   },
   {
    "duration": 103,
    "start_time": "2021-06-21T14:26:35.757Z"
   },
   {
    "duration": 102,
    "start_time": "2021-06-21T14:26:35.759Z"
   },
   {
    "duration": 103,
    "start_time": "2021-06-21T14:26:35.761Z"
   },
   {
    "duration": 97,
    "start_time": "2021-06-21T14:26:35.769Z"
   },
   {
    "duration": 95,
    "start_time": "2021-06-21T14:26:35.772Z"
   },
   {
    "duration": 95,
    "start_time": "2021-06-21T14:26:35.774Z"
   },
   {
    "duration": 94,
    "start_time": "2021-06-21T14:26:35.776Z"
   },
   {
    "duration": 94,
    "start_time": "2021-06-21T14:26:35.778Z"
   },
   {
    "duration": 93,
    "start_time": "2021-06-21T14:26:35.780Z"
   },
   {
    "duration": 93,
    "start_time": "2021-06-21T14:26:35.782Z"
   },
   {
    "duration": 92,
    "start_time": "2021-06-21T14:26:35.784Z"
   },
   {
    "duration": 86,
    "start_time": "2021-06-21T14:26:35.792Z"
   },
   {
    "duration": 84,
    "start_time": "2021-06-21T14:26:35.796Z"
   },
   {
    "duration": 83,
    "start_time": "2021-06-21T14:26:35.799Z"
   },
   {
    "duration": 79,
    "start_time": "2021-06-21T14:26:35.804Z"
   },
   {
    "duration": 77,
    "start_time": "2021-06-21T14:26:35.807Z"
   },
   {
    "duration": 76,
    "start_time": "2021-06-21T14:26:35.809Z"
   },
   {
    "duration": 75,
    "start_time": "2021-06-21T14:26:35.811Z"
   },
   {
    "duration": 74,
    "start_time": "2021-06-21T14:26:35.813Z"
   },
   {
    "duration": 93,
    "start_time": "2021-06-21T14:26:35.816Z"
   },
   {
    "duration": 86,
    "start_time": "2021-06-21T14:26:35.825Z"
   },
   {
    "duration": 84,
    "start_time": "2021-06-21T14:26:35.828Z"
   },
   {
    "duration": 84,
    "start_time": "2021-06-21T14:26:35.830Z"
   },
   {
    "duration": 83,
    "start_time": "2021-06-21T14:26:35.832Z"
   },
   {
    "duration": 79,
    "start_time": "2021-06-21T14:26:35.837Z"
   },
   {
    "duration": 77,
    "start_time": "2021-06-21T14:26:35.840Z"
   },
   {
    "duration": 77,
    "start_time": "2021-06-21T14:26:35.842Z"
   },
   {
    "duration": 75,
    "start_time": "2021-06-21T14:26:35.845Z"
   },
   {
    "duration": 74,
    "start_time": "2021-06-21T14:26:35.847Z"
   },
   {
    "duration": 74,
    "start_time": "2021-06-21T14:26:35.849Z"
   },
   {
    "duration": 69,
    "start_time": "2021-06-21T14:26:35.855Z"
   },
   {
    "duration": 67,
    "start_time": "2021-06-21T14:26:35.858Z"
   },
   {
    "duration": 406,
    "start_time": "2021-06-21T14:27:06.827Z"
   },
   {
    "duration": 19,
    "start_time": "2021-06-21T14:27:07.489Z"
   },
   {
    "duration": 44,
    "start_time": "2021-06-21T14:27:27.337Z"
   },
   {
    "duration": 25,
    "start_time": "2021-06-21T14:27:37.307Z"
   },
   {
    "duration": 23,
    "start_time": "2021-06-21T14:27:38.519Z"
   },
   {
    "duration": 4,
    "start_time": "2021-06-21T14:27:41.523Z"
   },
   {
    "duration": 925,
    "start_time": "2021-06-21T14:27:48.690Z"
   },
   {
    "duration": 798,
    "start_time": "2021-06-21T14:27:49.617Z"
   },
   {
    "duration": 18,
    "start_time": "2021-06-21T14:27:50.418Z"
   },
   {
    "duration": 17,
    "start_time": "2021-06-21T14:27:50.439Z"
   },
   {
    "duration": 13,
    "start_time": "2021-06-21T14:27:50.458Z"
   },
   {
    "duration": 40,
    "start_time": "2021-06-21T14:27:50.474Z"
   },
   {
    "duration": 34,
    "start_time": "2021-06-21T14:27:50.517Z"
   },
   {
    "duration": 4,
    "start_time": "2021-06-21T14:27:50.555Z"
   },
   {
    "duration": 572,
    "start_time": "2021-06-21T14:27:50.562Z"
   },
   {
    "duration": 32,
    "start_time": "2021-06-21T14:27:51.136Z"
   },
   {
    "duration": 43,
    "start_time": "2021-06-21T14:27:51.170Z"
   },
   {
    "duration": 8,
    "start_time": "2021-06-21T14:27:51.215Z"
   },
   {
    "duration": 38,
    "start_time": "2021-06-21T14:27:51.226Z"
   },
   {
    "duration": 70,
    "start_time": "2021-06-21T14:27:51.266Z"
   },
   {
    "duration": 37,
    "start_time": "2021-06-21T14:27:51.338Z"
   },
   {
    "duration": 11,
    "start_time": "2021-06-21T14:27:51.377Z"
   },
   {
    "duration": 14,
    "start_time": "2021-06-21T14:27:51.408Z"
   },
   {
    "duration": 10,
    "start_time": "2021-06-21T14:27:51.425Z"
   },
   {
    "duration": 26,
    "start_time": "2021-06-21T14:27:51.437Z"
   },
   {
    "duration": 44,
    "start_time": "2021-06-21T14:27:51.466Z"
   },
   {
    "duration": 24,
    "start_time": "2021-06-21T14:27:51.513Z"
   },
   {
    "duration": 13,
    "start_time": "2021-06-21T14:27:51.540Z"
   },
   {
    "duration": 469,
    "start_time": "2021-06-21T14:27:51.559Z"
   },
   {
    "duration": 26,
    "start_time": "2021-06-21T14:27:52.031Z"
   },
   {
    "duration": 536,
    "start_time": "2021-06-21T14:27:52.059Z"
   },
   {
    "duration": 20,
    "start_time": "2021-06-21T14:27:52.597Z"
   },
   {
    "duration": 2269,
    "start_time": "2021-06-21T14:27:52.620Z"
   },
   {
    "duration": 20,
    "start_time": "2021-06-21T14:27:54.891Z"
   },
   {
    "duration": 18,
    "start_time": "2021-06-21T14:27:54.913Z"
   },
   {
    "duration": 13,
    "start_time": "2021-06-21T14:27:54.934Z"
   },
   {
    "duration": 141,
    "start_time": "2021-06-21T14:27:54.949Z"
   },
   {
    "duration": 30,
    "start_time": "2021-06-21T14:27:55.093Z"
   },
   {
    "duration": 20,
    "start_time": "2021-06-21T14:27:55.125Z"
   },
   {
    "duration": 6,
    "start_time": "2021-06-21T14:27:55.148Z"
   },
   {
    "duration": 26,
    "start_time": "2021-06-21T14:27:55.156Z"
   },
   {
    "duration": 31,
    "start_time": "2021-06-21T14:27:55.185Z"
   },
   {
    "duration": 21,
    "start_time": "2021-06-21T14:27:55.218Z"
   },
   {
    "duration": 21,
    "start_time": "2021-06-21T14:27:55.241Z"
   },
   {
    "duration": 50,
    "start_time": "2021-06-21T14:27:55.264Z"
   },
   {
    "duration": 9,
    "start_time": "2021-06-21T14:27:55.317Z"
   },
   {
    "duration": 1966,
    "start_time": "2021-06-21T14:27:55.329Z"
   },
   {
    "duration": 23,
    "start_time": "2021-06-21T14:27:57.298Z"
   },
   {
    "duration": 29,
    "start_time": "2021-06-21T14:27:57.323Z"
   },
   {
    "duration": 66,
    "start_time": "2021-06-21T14:27:57.355Z"
   },
   {
    "duration": 468,
    "start_time": "2021-06-21T14:27:57.424Z"
   },
   {
    "duration": 474,
    "start_time": "2021-06-21T14:27:57.895Z"
   },
   {
    "duration": 18,
    "start_time": "2021-06-21T14:27:58.372Z"
   },
   {
    "duration": 20,
    "start_time": "2021-06-21T14:27:58.393Z"
   },
   {
    "duration": 7,
    "start_time": "2021-06-21T14:27:58.415Z"
   },
   {
    "duration": 2143,
    "start_time": "2021-06-21T14:27:58.424Z"
   },
   {
    "duration": 12,
    "start_time": "2021-06-21T14:28:00.570Z"
   },
   {
    "duration": 41,
    "start_time": "2021-06-21T14:28:00.585Z"
   },
   {
    "duration": 23,
    "start_time": "2021-06-21T14:28:00.629Z"
   },
   {
    "duration": 26,
    "start_time": "2021-06-21T14:28:00.654Z"
   },
   {
    "duration": 29,
    "start_time": "2021-06-21T14:28:00.682Z"
   },
   {
    "duration": 998,
    "start_time": "2021-06-21T14:28:00.714Z"
   },
   {
    "duration": 990,
    "start_time": "2021-06-21T14:28:01.714Z"
   },
   {
    "duration": 1060,
    "start_time": "2021-06-21T14:28:02.706Z"
   },
   {
    "duration": 339,
    "start_time": "2021-06-21T14:28:03.769Z"
   },
   {
    "duration": 16,
    "start_time": "2021-06-21T14:28:04.111Z"
   },
   {
    "duration": 12,
    "start_time": "2021-06-21T14:28:04.130Z"
   },
   {
    "duration": 14,
    "start_time": "2021-06-21T14:28:04.145Z"
   },
   {
    "duration": 24,
    "start_time": "2021-06-21T14:28:04.162Z"
   },
   {
    "duration": 437,
    "start_time": "2021-06-21T14:28:04.189Z"
   },
   {
    "duration": 6,
    "start_time": "2021-06-21T14:28:04.628Z"
   },
   {
    "duration": 9,
    "start_time": "2021-06-21T14:28:04.637Z"
   },
   {
    "duration": 24,
    "start_time": "2021-06-21T14:28:04.648Z"
   },
   {
    "duration": 32,
    "start_time": "2021-06-21T14:28:04.680Z"
   },
   {
    "duration": 342,
    "start_time": "2021-06-21T14:28:04.715Z"
   },
   {
    "duration": 17,
    "start_time": "2021-06-21T14:28:05.059Z"
   },
   {
    "duration": 38,
    "start_time": "2021-06-21T14:28:05.078Z"
   },
   {
    "duration": 8,
    "start_time": "2021-06-21T14:28:05.118Z"
   },
   {
    "duration": 28,
    "start_time": "2021-06-21T14:28:05.128Z"
   },
   {
    "duration": 60,
    "start_time": "2021-06-21T14:28:05.158Z"
   },
   {
    "duration": 373,
    "start_time": "2021-06-21T14:28:05.220Z"
   },
   {
    "duration": 1160,
    "start_time": "2021-06-21T14:30:07.085Z"
   },
   {
    "duration": 1058,
    "start_time": "2021-06-21T14:30:08.248Z"
   },
   {
    "duration": 22,
    "start_time": "2021-06-21T14:30:09.313Z"
   },
   {
    "duration": 26,
    "start_time": "2021-06-21T14:30:09.338Z"
   },
   {
    "duration": 27,
    "start_time": "2021-06-21T14:30:09.366Z"
   },
   {
    "duration": 18,
    "start_time": "2021-06-21T14:30:09.408Z"
   },
   {
    "duration": 49,
    "start_time": "2021-06-21T14:30:09.429Z"
   },
   {
    "duration": 6,
    "start_time": "2021-06-21T14:30:09.484Z"
   },
   {
    "duration": 528,
    "start_time": "2021-06-21T14:30:09.493Z"
   },
   {
    "duration": 28,
    "start_time": "2021-06-21T14:30:10.023Z"
   },
   {
    "duration": 22,
    "start_time": "2021-06-21T14:30:10.053Z"
   },
   {
    "duration": 37,
    "start_time": "2021-06-21T14:30:10.077Z"
   },
   {
    "duration": 46,
    "start_time": "2021-06-21T14:30:10.119Z"
   },
   {
    "duration": 62,
    "start_time": "2021-06-21T14:30:10.167Z"
   },
   {
    "duration": 39,
    "start_time": "2021-06-21T14:30:10.232Z"
   },
   {
    "duration": 47,
    "start_time": "2021-06-21T14:30:10.275Z"
   },
   {
    "duration": 24,
    "start_time": "2021-06-21T14:30:10.324Z"
   },
   {
    "duration": 12,
    "start_time": "2021-06-21T14:30:10.351Z"
   },
   {
    "duration": 48,
    "start_time": "2021-06-21T14:30:10.366Z"
   },
   {
    "duration": 13,
    "start_time": "2021-06-21T14:30:10.417Z"
   },
   {
    "duration": 37,
    "start_time": "2021-06-21T14:30:10.433Z"
   },
   {
    "duration": 13,
    "start_time": "2021-06-21T14:30:10.472Z"
   },
   {
    "duration": 494,
    "start_time": "2021-06-21T14:30:10.487Z"
   },
   {
    "duration": 42,
    "start_time": "2021-06-21T14:30:10.984Z"
   },
   {
    "duration": 667,
    "start_time": "2021-06-21T14:30:11.029Z"
   },
   {
    "duration": 24,
    "start_time": "2021-06-21T14:30:11.709Z"
   },
   {
    "duration": 2563,
    "start_time": "2021-06-21T14:30:11.737Z"
   },
   {
    "duration": 23,
    "start_time": "2021-06-21T14:30:14.302Z"
   },
   {
    "duration": 18,
    "start_time": "2021-06-21T14:30:14.328Z"
   },
   {
    "duration": 14,
    "start_time": "2021-06-21T14:30:14.348Z"
   },
   {
    "duration": 160,
    "start_time": "2021-06-21T14:30:14.364Z"
   },
   {
    "duration": 13,
    "start_time": "2021-06-21T14:30:14.526Z"
   },
   {
    "duration": 28,
    "start_time": "2021-06-21T14:30:14.541Z"
   },
   {
    "duration": 3,
    "start_time": "2021-06-21T14:30:14.572Z"
   },
   {
    "duration": 27,
    "start_time": "2021-06-21T14:30:14.609Z"
   },
   {
    "duration": 9,
    "start_time": "2021-06-21T14:30:14.639Z"
   },
   {
    "duration": 22,
    "start_time": "2021-06-21T14:30:14.651Z"
   },
   {
    "duration": 44,
    "start_time": "2021-06-21T14:30:14.675Z"
   },
   {
    "duration": 22,
    "start_time": "2021-06-21T14:30:14.722Z"
   },
   {
    "duration": 10,
    "start_time": "2021-06-21T14:30:14.747Z"
   },
   {
    "duration": 2203,
    "start_time": "2021-06-21T14:30:14.760Z"
   },
   {
    "duration": 25,
    "start_time": "2021-06-21T14:30:16.965Z"
   },
   {
    "duration": 46,
    "start_time": "2021-06-21T14:30:16.993Z"
   },
   {
    "duration": 43,
    "start_time": "2021-06-21T14:30:17.042Z"
   },
   {
    "duration": 510,
    "start_time": "2021-06-21T14:30:17.108Z"
   },
   {
    "duration": 493,
    "start_time": "2021-06-21T14:30:17.624Z"
   },
   {
    "duration": 24,
    "start_time": "2021-06-21T14:30:18.120Z"
   },
   {
    "duration": 8,
    "start_time": "2021-06-21T14:30:18.147Z"
   },
   {
    "duration": 11,
    "start_time": "2021-06-21T14:30:18.158Z"
   },
   {
    "duration": 2297,
    "start_time": "2021-06-21T14:30:18.172Z"
   },
   {
    "duration": 13,
    "start_time": "2021-06-21T14:30:20.472Z"
   },
   {
    "duration": 38,
    "start_time": "2021-06-21T14:30:20.488Z"
   },
   {
    "duration": 22,
    "start_time": "2021-06-21T14:30:20.529Z"
   },
   {
    "duration": 17,
    "start_time": "2021-06-21T14:30:20.554Z"
   },
   {
    "duration": 66,
    "start_time": "2021-06-21T14:30:20.573Z"
   },
   {
    "duration": 1158,
    "start_time": "2021-06-21T14:30:20.642Z"
   },
   {
    "duration": 1002,
    "start_time": "2021-06-21T14:30:21.802Z"
   },
   {
    "duration": 1115,
    "start_time": "2021-06-21T14:30:22.810Z"
   },
   {
    "duration": 360,
    "start_time": "2021-06-21T14:30:23.928Z"
   },
   {
    "duration": 34,
    "start_time": "2021-06-21T14:30:24.291Z"
   },
   {
    "duration": 13,
    "start_time": "2021-06-21T14:30:24.328Z"
   },
   {
    "duration": 17,
    "start_time": "2021-06-21T14:30:24.344Z"
   },
   {
    "duration": 18,
    "start_time": "2021-06-21T14:30:24.363Z"
   },
   {
    "duration": 513,
    "start_time": "2021-06-21T14:30:24.384Z"
   },
   {
    "duration": 15,
    "start_time": "2021-06-21T14:30:24.899Z"
   },
   {
    "duration": 11,
    "start_time": "2021-06-21T14:30:24.917Z"
   },
   {
    "duration": 6,
    "start_time": "2021-06-21T14:30:24.933Z"
   },
   {
    "duration": 36,
    "start_time": "2021-06-21T14:30:24.942Z"
   },
   {
    "duration": 370,
    "start_time": "2021-06-21T14:30:24.981Z"
   },
   {
    "duration": 18,
    "start_time": "2021-06-21T14:30:25.354Z"
   },
   {
    "duration": 47,
    "start_time": "2021-06-21T14:30:25.374Z"
   },
   {
    "duration": 7,
    "start_time": "2021-06-21T14:30:25.423Z"
   },
   {
    "duration": 29,
    "start_time": "2021-06-21T14:30:25.433Z"
   },
   {
    "duration": 60,
    "start_time": "2021-06-21T14:30:25.465Z"
   },
   {
    "duration": 390,
    "start_time": "2021-06-21T14:30:25.528Z"
   },
   {
    "duration": 1163,
    "start_time": "2021-06-22T11:19:52.718Z"
   },
   {
    "duration": 3142,
    "start_time": "2021-06-22T11:19:53.884Z"
   },
   {
    "duration": 22,
    "start_time": "2021-06-22T11:19:57.029Z"
   },
   {
    "duration": 13,
    "start_time": "2021-06-22T11:19:57.054Z"
   },
   {
    "duration": 12,
    "start_time": "2021-06-22T11:19:57.070Z"
   },
   {
    "duration": 19,
    "start_time": "2021-06-22T11:19:57.084Z"
   },
   {
    "duration": 59,
    "start_time": "2021-06-22T11:19:57.105Z"
   },
   {
    "duration": 5,
    "start_time": "2021-06-22T11:19:57.168Z"
   },
   {
    "duration": 489,
    "start_time": "2021-06-22T11:19:57.176Z"
   },
   {
    "duration": 33,
    "start_time": "2021-06-22T11:19:57.668Z"
   },
   {
    "duration": 29,
    "start_time": "2021-06-22T11:19:57.704Z"
   },
   {
    "duration": 37,
    "start_time": "2021-06-22T11:19:57.736Z"
   },
   {
    "duration": 51,
    "start_time": "2021-06-22T11:19:57.776Z"
   },
   {
    "duration": 94,
    "start_time": "2021-06-22T11:19:57.830Z"
   },
   {
    "duration": 59,
    "start_time": "2021-06-22T11:19:57.927Z"
   },
   {
    "duration": 15,
    "start_time": "2021-06-22T11:19:57.989Z"
   },
   {
    "duration": 18,
    "start_time": "2021-06-22T11:19:58.007Z"
   },
   {
    "duration": 49,
    "start_time": "2021-06-22T11:19:58.028Z"
   },
   {
    "duration": 25,
    "start_time": "2021-06-22T11:19:58.081Z"
   },
   {
    "duration": 13,
    "start_time": "2021-06-22T11:19:58.109Z"
   },
   {
    "duration": 59,
    "start_time": "2021-06-22T11:19:58.124Z"
   },
   {
    "duration": 14,
    "start_time": "2021-06-22T11:19:58.186Z"
   },
   {
    "duration": 499,
    "start_time": "2021-06-22T11:19:58.206Z"
   },
   {
    "duration": 26,
    "start_time": "2021-06-22T11:19:58.711Z"
   },
   {
    "duration": 580,
    "start_time": "2021-06-22T11:19:58.740Z"
   },
   {
    "duration": 13,
    "start_time": "2021-06-22T11:19:59.323Z"
   },
   {
    "duration": 2652,
    "start_time": "2021-06-22T11:19:59.338Z"
   },
   {
    "duration": 13,
    "start_time": "2021-06-22T11:20:01.993Z"
   },
   {
    "duration": 36,
    "start_time": "2021-06-22T11:20:02.008Z"
   },
   {
    "duration": 43,
    "start_time": "2021-06-22T11:20:02.046Z"
   },
   {
    "duration": 188,
    "start_time": "2021-06-22T11:20:02.091Z"
   },
   {
    "duration": 16,
    "start_time": "2021-06-22T11:20:02.282Z"
   },
   {
    "duration": 36,
    "start_time": "2021-06-22T11:20:02.301Z"
   },
   {
    "duration": 26,
    "start_time": "2021-06-22T11:20:02.340Z"
   },
   {
    "duration": 30,
    "start_time": "2021-06-22T11:20:02.369Z"
   },
   {
    "duration": 15,
    "start_time": "2021-06-22T11:20:02.401Z"
   },
   {
    "duration": 51,
    "start_time": "2021-06-22T11:20:02.418Z"
   },
   {
    "duration": 48,
    "start_time": "2021-06-22T11:20:02.472Z"
   },
   {
    "duration": 46,
    "start_time": "2021-06-22T11:20:02.522Z"
   },
   {
    "duration": 16,
    "start_time": "2021-06-22T11:20:02.572Z"
   },
   {
    "duration": 2150,
    "start_time": "2021-06-22T11:20:02.591Z"
   },
   {
    "duration": 38,
    "start_time": "2021-06-22T11:20:04.744Z"
   },
   {
    "duration": 31,
    "start_time": "2021-06-22T11:20:04.784Z"
   },
   {
    "duration": 55,
    "start_time": "2021-06-22T11:20:04.817Z"
   },
   {
    "duration": 469,
    "start_time": "2021-06-22T11:20:04.875Z"
   },
   {
    "duration": 488,
    "start_time": "2021-06-22T11:20:05.347Z"
   },
   {
    "duration": 32,
    "start_time": "2021-06-22T11:20:05.837Z"
   },
   {
    "duration": 12,
    "start_time": "2021-06-22T11:20:05.872Z"
   },
   {
    "duration": 7,
    "start_time": "2021-06-22T11:20:05.887Z"
   },
   {
    "duration": 2317,
    "start_time": "2021-06-22T11:20:05.896Z"
   },
   {
    "duration": 14,
    "start_time": "2021-06-22T11:20:08.216Z"
   },
   {
    "duration": 45,
    "start_time": "2021-06-22T11:20:08.233Z"
   },
   {
    "duration": 17,
    "start_time": "2021-06-22T11:20:08.281Z"
   },
   {
    "duration": 16,
    "start_time": "2021-06-22T11:20:08.300Z"
   },
   {
    "duration": 55,
    "start_time": "2021-06-22T11:20:08.319Z"
   },
   {
    "duration": 1088,
    "start_time": "2021-06-22T11:20:08.377Z"
   },
   {
    "duration": 1123,
    "start_time": "2021-06-22T11:20:09.467Z"
   },
   {
    "duration": 1576,
    "start_time": "2021-06-22T11:20:10.593Z"
   },
   {
    "duration": 353,
    "start_time": "2021-06-22T11:20:12.172Z"
   },
   {
    "duration": 37,
    "start_time": "2021-06-22T11:20:12.528Z"
   },
   {
    "duration": 17,
    "start_time": "2021-06-22T11:20:12.568Z"
   },
   {
    "duration": 14,
    "start_time": "2021-06-22T11:20:12.588Z"
   },
   {
    "duration": 11,
    "start_time": "2021-06-22T11:20:12.604Z"
   },
   {
    "duration": 573,
    "start_time": "2021-06-22T11:20:12.617Z"
   },
   {
    "duration": 8,
    "start_time": "2021-06-22T11:20:13.193Z"
   },
   {
    "duration": 7,
    "start_time": "2021-06-22T11:20:13.203Z"
   },
   {
    "duration": 7,
    "start_time": "2021-06-22T11:20:13.213Z"
   },
   {
    "duration": 28,
    "start_time": "2021-06-22T11:20:13.261Z"
   },
   {
    "duration": 364,
    "start_time": "2021-06-22T11:20:13.293Z"
   },
   {
    "duration": 21,
    "start_time": "2021-06-22T11:20:13.663Z"
   },
   {
    "duration": 16,
    "start_time": "2021-06-22T11:20:13.687Z"
   },
   {
    "duration": 10,
    "start_time": "2021-06-22T11:20:13.706Z"
   },
   {
    "duration": 77,
    "start_time": "2021-06-22T11:20:13.718Z"
   },
   {
    "duration": 28,
    "start_time": "2021-06-22T11:20:13.798Z"
   },
   {
    "duration": 412,
    "start_time": "2021-06-22T11:20:13.829Z"
   }
  ],
  "kernelspec": {
   "display_name": "Python 3",
   "language": "python",
   "name": "python3"
  },
  "language_info": {
   "codemirror_mode": {
    "name": "ipython",
    "version": 3
   },
   "file_extension": ".py",
   "mimetype": "text/x-python",
   "name": "python",
   "nbconvert_exporter": "python",
   "pygments_lexer": "ipython3",
   "version": "3.7.8"
  },
  "toc": {
   "base_numbering": 1,
   "nav_menu": {},
   "number_sections": true,
   "sideBar": true,
   "skip_h1_title": true,
   "title_cell": "Table of Contents",
   "title_sidebar": "Contents",
   "toc_cell": false,
   "toc_position": {},
   "toc_section_display": true,
   "toc_window_display": false
  }
 },
 "nbformat": 4,
 "nbformat_minor": 2
}
